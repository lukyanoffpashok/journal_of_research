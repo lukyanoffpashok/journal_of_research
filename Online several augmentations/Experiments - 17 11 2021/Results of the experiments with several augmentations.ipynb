{
 "cells": [
  {
   "cell_type": "code",
   "execution_count": 1,
   "metadata": {},
   "outputs": [],
   "source": [
    "import numpy as np"
   ]
  },
  {
   "cell_type": "markdown",
   "metadata": {},
   "source": [
    "### 'TimeCycleShift', 'Noise', 'TimeRandomSwap', 'FreqMasking'"
   ]
  },
  {
   "cell_type": "markdown",
   "metadata": {},
   "source": [
    "#### Resnet18 + AM"
   ]
  },
  {
   "cell_type": "code",
   "execution_count": 2,
   "metadata": {},
   "outputs": [
    {
     "name": "stdout",
     "output_type": "stream",
     "text": [
      "No augmentation: 0.9514629948364888\n",
      "0.011643053029458013\n",
      "Random choice of augmentation: 0.9524956970740102\n",
      "0.012535037147010757\n",
      "Choice of augmentation after each epoch: 0.961790017211704\n",
      "0.0036754142003550374\n",
      "Random choice of augmentation with frequences: 0.9641996557659208\n",
      "0.0078043263674730965\n"
     ]
    }
   ],
   "source": [
    "x = [0.963855421686747, 0.9569707401032702, 0.9432013769363167, 0.9604130808950087, 0.9328743545611016]\n",
    "print('No augmentation:', np.mean(x))\n",
    "print(np.std(x))\n",
    "x = [0.9655765920826161, 0.9586919104991394, 0.9500860585197934, 0.9586919104991394, 0.9294320137693631]\n",
    "print('Random choice of augmentation:', np.mean(x))\n",
    "print(np.std(x))\n",
    "x = [0.9672977624784854, 0.9621342512908778, 0.963855421686747, 0.9586919104991394, 0.9569707401032702]\n",
    "print('Choice of augmentation after each epoch:', np.mean(x))\n",
    "print(np.std(x))\n",
    "x = [0.9759036144578314, 0.9672977624784854, 0.963855421686747, 0.9621342512908778, 0.9518072289156626]\n",
    "print('Random choice of augmentation with frequences:', np.mean(x))\n",
    "print(np.std(x))"
   ]
  },
  {
   "cell_type": "markdown",
   "metadata": {},
   "source": [
    "#### Resnet50 + AM"
   ]
  },
  {
   "cell_type": "code",
   "execution_count": 3,
   "metadata": {},
   "outputs": [
    {
     "name": "stdout",
     "output_type": "stream",
     "text": [
      "No augmentation: 0.9462994836488813\n",
      "0.008803243960443637\n",
      "Random choice of augmentation: 0.9456110154905335\n",
      "0.013135135303503557\n",
      "Choice of augmentation after each epoch: 0.9555938037865749\n",
      "0.007954712570252223\n",
      "Random choice of augmentation with frequences:: 0.9504302925989674\n",
      "0.008389712638178254\n"
     ]
    }
   ],
   "source": [
    "x = [0.9397590361445783, 0.9586919104991394, 0.955249569707401, 0.9397590361445783, 0.9380378657487092]\n",
    "print('No augmentation:', np.mean(x))\n",
    "print(np.std(x))\n",
    "x = [0.9466437177280551, 0.9672977624784854, 0.9500860585197934, 0.9311531841652324, 0.9328743545611016]\n",
    "print('Random choice of augmentation:', np.mean(x))\n",
    "print(np.std(x))\n",
    "x = [0.9672977624784854, 0.9621342512908778, 0.9466437177280551, 0.9483648881239243, 0.9535283993115319]\n",
    "print('Choice of augmentation after each epoch:', np.mean(x))\n",
    "print(np.std(x))\n",
    "x = [0.9397590361445783, 0.9483648881239243, 0.9655765920826161, 0.9500860585197934, 0.9483648881239243]\n",
    "print('Random choice of augmentation with frequences::', np.mean(x))\n",
    "print(np.std(x))"
   ]
  },
  {
   "cell_type": "markdown",
   "metadata": {},
   "source": [
    "#### Resnet18 + HB"
   ]
  },
  {
   "cell_type": "code",
   "execution_count": 4,
   "metadata": {},
   "outputs": [
    {
     "name": "stdout",
     "output_type": "stream",
     "text": [
      "No augmentation: 0.8131979695431472\n",
      "0.007631114912879664\n",
      "Random choice of augmentation: 0.8304568527918782\n",
      "0.013845869743132842\n",
      "Choice of augmentation after each epoch: 0.8512690355329949\n",
      "0.024323144265402944\n",
      "Random choice of augmentation with frequences: 0.8624365482233504\n",
      "0.023558987585527515\n"
     ]
    }
   ],
   "source": [
    "x = [0.8147208121827412, 0.8020304568527918, 0.8197969543147208, 0.8223350253807107, 0.8071065989847716]\n",
    "print('No augmentation:', np.mean(x))\n",
    "print(np.std(x))\n",
    "x = [0.8477157360406091, 0.8096446700507615, 0.8197969543147208, 0.8350253807106599, 0.8401015228426396]\n",
    "print('Random choice of augmentation:', np.mean(x))\n",
    "print(np.std(x))\n",
    "x = [0.868020304568528, 0.868020304568528, 0.8705583756345178, 0.8426395939086294, 0.8071065989847716]\n",
    "print('Choice of augmentation after each epoch:', np.mean(x))\n",
    "print(np.std(x))\n",
    "x = [0.8248730964467005, 0.8934010152284264, 0.8578680203045685, 0.8807106598984772, 0.8553299492385786]\n",
    "print('Random choice of augmentation with frequences:', np.mean(x))\n",
    "print(np.std(x))"
   ]
  },
  {
   "cell_type": "markdown",
   "metadata": {},
   "source": [
    "#### Resnet50 + HB"
   ]
  },
  {
   "cell_type": "code",
   "execution_count": 5,
   "metadata": {},
   "outputs": [
    {
     "name": "stdout",
     "output_type": "stream",
     "text": [
      "No augmentation: 0.8182741116751269\n",
      "0.023787562464690347\n",
      "Random choice of augmentation: 0.8446700507614213\n",
      "0.01584211830896169\n",
      "Choice of augmentation after each epoch: 0.849746192893401\n",
      "0.018400577624763294\n",
      "Random choice of augmentation with frequences: 0.8583756345177666\n",
      "0.007070247856438633\n"
     ]
    }
   ],
   "source": [
    "x = [0.8401015228426396, 0.7791878172588832, 0.8020304568527918, 0.8350253807106599, 0.8350253807106599]\n",
    "print('No augmentation:', np.mean(x))\n",
    "print(np.std(x))\n",
    "x = [0.868020304568528, 0.8197969543147208, 0.8426395939086294, 0.8527918781725888, 0.8401015228426396]\n",
    "print('Random choice of augmentation:', np.mean(x))\n",
    "print(np.std(x))\n",
    "x = [0.8629441624365483, 0.8324873096446701, 0.8451776649746193, 0.8781725888324873, 0.8299492385786802]\n",
    "print('Choice of augmentation after each epoch:', np.mean(x))\n",
    "print(np.std(x))\n",
    "x = [0.8604060913705583, 0.850253807106599, 0.850253807106599, 0.8629441624365483, 0.868020304568528]\n",
    "print('Random choice of augmentation with frequences:', np.mean(x))\n",
    "print(np.std(x))"
   ]
  },
  {
   "cell_type": "markdown",
   "metadata": {},
   "source": [
    "### 'TimeCycleShift', 'TimeMasking', 'TimeSwapAugmentation', 'FreqMasking'"
   ]
  },
  {
   "cell_type": "markdown",
   "metadata": {},
   "source": [
    "#### Resnet18 + AM"
   ]
  },
  {
   "cell_type": "code",
   "execution_count": 6,
   "metadata": {},
   "outputs": [
    {
     "name": "stdout",
     "output_type": "stream",
     "text": [
      "No augmentation: 0.9514629948364888\n",
      "0.011643053029458013\n",
      "Random choice of augmentation: 0.961790017211704\n",
      "0.004408347151416772\n",
      "Choice of augmentation after each epoch: 0.9590361445783133\n",
      "0.00859896454168456\n",
      "Random choice of augmentation with frequences: 0.9600688468158347\n",
      "0.0047946259129721695\n"
     ]
    }
   ],
   "source": [
    "x = [0.963855421686747, 0.9569707401032702, 0.9432013769363167, 0.9604130808950087, 0.9328743545611016]\n",
    "print('No augmentation:', np.mean(x))\n",
    "print(np.std(x))\n",
    "x = [0.9672977624784854, 0.9655765920826161, 0.9586919104991394, 0.9621342512908778, 0.955249569707401]\n",
    "print('Random choice of augmentation:', np.mean(x))\n",
    "print(np.std(x))\n",
    "x = [0.9672977624784854, 0.963855421686747, 0.963855421686747, 0.9569707401032702, 0.9432013769363167]\n",
    "print('Choice of augmentation after each epoch:', np.mean(x))\n",
    "print(np.std(x))\n",
    "x = [0.9604130808950087, 0.9690189328743546, 0.9569707401032702, 0.955249569707401, 0.9586919104991394]\n",
    "print('Random choice of augmentation with frequences:', np.mean(x))\n",
    "print(np.std(x))"
   ]
  },
  {
   "cell_type": "markdown",
   "metadata": {},
   "source": [
    "#### Resnet50 + AM"
   ]
  },
  {
   "cell_type": "code",
   "execution_count": 7,
   "metadata": {},
   "outputs": [
    {
     "name": "stdout",
     "output_type": "stream",
     "text": [
      "No augmentation: 0.9462994836488813\n",
      "0.008803243960443637\n",
      "Random choice of augmentation: 0.9490533562822719\n",
      "0.012102165804645055\n",
      "Choice of augmentation after each epoch: 0.9507745266781411\n",
      "0.004940688500656577\n",
      "Random choice of augmentation with frequences: 0.9514629948364888\n",
      "0.007804326367473062\n"
     ]
    }
   ],
   "source": [
    "x = [0.9397590361445783, 0.9586919104991394, 0.955249569707401, 0.9397590361445783, 0.9380378657487092]\n",
    "print('No augmentation:', np.mean(x))\n",
    "print(np.std(x))\n",
    "x = [0.9707401032702238, 0.9518072289156626, 0.9363166953528399, 0.9466437177280551, 0.9397590361445783]\n",
    "print('Random choice of augmentation:', np.mean(x))\n",
    "print(np.std(x))\n",
    "x = [0.9500860585197934, 0.9535283993115319, 0.955249569707401, 0.9535283993115319, 0.9414802065404475]\n",
    "print('Choice of augmentation after each epoch:', np.mean(x))\n",
    "print(np.std(x))\n",
    "x = [0.9535283993115319,  0.9604130808950087, 0.9483648881239243, 0.9569707401032702, 0.9380378657487092]\n",
    "print('Random choice of augmentation with frequences:', np.mean(x))\n",
    "print(np.std(x))"
   ]
  },
  {
   "cell_type": "markdown",
   "metadata": {},
   "source": [
    "#### Resnet18 + HB"
   ]
  },
  {
   "cell_type": "code",
   "execution_count": 8,
   "metadata": {},
   "outputs": [
    {
     "name": "stdout",
     "output_type": "stream",
     "text": [
      "No augmentation: 0.8131979695431472\n",
      "0.007631114912879664\n",
      "Random choice of augmentation: 0.8477157360406091\n",
      "0.020241017296829342\n",
      "Choice of augmentation after each epoch: 0.8568527918781725\n",
      "0.01657342915463401\n",
      "Random choice of augmentation with frequences: 0.8538071065989847\n",
      "0.015446826451475056\n"
     ]
    }
   ],
   "source": [
    "x = [0.8147208121827412, 0.8020304568527918, 0.8197969543147208, 0.8223350253807107, 0.8071065989847716]\n",
    "print('No augmentation:', np.mean(x))\n",
    "print(np.std(x))\n",
    "x = [0.8248730964467005, 0.868020304568528, 0.8375634517766497, 0.8756345177664975, 0.8324873096446701]\n",
    "print('Random choice of augmentation:', np.mean(x))\n",
    "print(np.std(x))\n",
    "x = [0.8324873096446701, 0.8629441624365483, 0.8629441624365483, 0.8807106598984772, 0.8451776649746193]\n",
    "print('Choice of augmentation after each epoch:', np.mean(x))\n",
    "print(np.std(x))\n",
    "x = [0.8578680203045685, 0.8553299492385786, 0.8527918781725888, 0.8756345177664975, 0.8274111675126904]\n",
    "print('Random choice of augmentation with frequences:', np.mean(x))\n",
    "print(np.std(x))"
   ]
  },
  {
   "cell_type": "markdown",
   "metadata": {},
   "source": [
    "#### Resnet50 + HB"
   ]
  },
  {
   "cell_type": "code",
   "execution_count": 9,
   "metadata": {},
   "outputs": [
    {
     "name": "stdout",
     "output_type": "stream",
     "text": [
      "No augmentation: 0.8182741116751269\n",
      "0.023787562464690347\n",
      "Random choice of augmentation: 0.8517766497461929\n",
      "0.019369323886638465\n",
      "Choice of augmentation after each epoch: 0.8532994923857867\n",
      "0.011282289731417707\n",
      "Random choice of augmentation with frequences: 0.8649746192893402\n",
      "0.010075854437197563\n"
     ]
    }
   ],
   "source": [
    "x = [0.8401015228426396, 0.7791878172588832, 0.8020304568527918, 0.8350253807106599, 0.8350253807106599]\n",
    "print('No augmentation:', np.mean(x))\n",
    "print(np.std(x))\n",
    "x = [0.8147208121827412, 0.8604060913705583, 0.8604060913705583, 0.8705583756345178, 0.8527918781725888]\n",
    "print('Random choice of augmentation:', np.mean(x))\n",
    "print(np.std(x))\n",
    "x = [0.850253807106599, 0.8477157360406091, 0.8375634517766497, 0.8705583756345178, 0.8604060913705583]\n",
    "print('Choice of augmentation after each epoch:', np.mean(x))\n",
    "print(np.std(x))\n",
    "x = [0.8604060913705583, 0.8578680203045685, 0.8527918781725888, 0.8781725888324873, 0.8756345177664975]\n",
    "print('Random choice of augmentation with frequences:', np.mean(x))\n",
    "print(np.std(x))"
   ]
  },
  {
   "cell_type": "markdown",
   "metadata": {},
   "source": [
    "### 'Noise', 'TimeMasking', 'TimeRandomSwap', 'FreqMasking'"
   ]
  },
  {
   "cell_type": "markdown",
   "metadata": {},
   "source": [
    "#### Resnet18 + AM"
   ]
  },
  {
   "cell_type": "code",
   "execution_count": 10,
   "metadata": {},
   "outputs": [
    {
     "name": "stdout",
     "output_type": "stream",
     "text": [
      "No augmentation: 0.9514629948364888\n",
      "0.011643053029458013\n",
      "Random choice of augmentation: 0.9576592082616179\n",
      "0.009338836465576966\n",
      "Choice of augmentation after each epoch: 0.9583476764199655\n",
      "0.009941155991871717\n",
      "Random choice of augmentation with frequences: 0.9580034423407918\n",
      "0.005614287927814136\n"
     ]
    }
   ],
   "source": [
    "x = [0.963855421686747, 0.9569707401032702, 0.9432013769363167, 0.9604130808950087, 0.9328743545611016]\n",
    "print('No augmentation:', np.mean(x))\n",
    "print(np.std(x))\n",
    "x = [0.9586919104991394, 0.9690189328743546, 0.955249569707401, 0.963855421686747, 0.9414802065404475]\n",
    "print('Random choice of augmentation:', np.mean(x))\n",
    "print(np.std(x))\n",
    "x = [0.9707401032702238, 0.963855421686747, 0.9483648881239243, 0.963855421686747, 0.9449225473321858]\n",
    "print('Choice of augmentation after each epoch:', np.mean(x))\n",
    "print(np.std(x))\n",
    "x = [0.963855421686747, 0.955249569707401, 0.9535283993115319, 0.9655765920826161, 0.9518072289156626]\n",
    "print('Random choice of augmentation with frequences:', np.mean(x))\n",
    "print(np.std(x))"
   ]
  },
  {
   "cell_type": "markdown",
   "metadata": {},
   "source": [
    "#### Resnet50 + AM"
   ]
  },
  {
   "cell_type": "code",
   "execution_count": 11,
   "metadata": {},
   "outputs": [
    {
     "name": "stdout",
     "output_type": "stream",
     "text": [
      "No augmentation: 0.9462994836488813\n",
      "0.008803243960443637\n",
      "Random choice of augmentation: 0.9456110154905335\n",
      "0.012151024161599175\n",
      "Choice of augmentation after each epoch: 0.9524956970740103\n",
      "0.014830057988666448\n",
      "Random choice of augmentation with frequences: 0.9542168674698794\n",
      "0.00861273390925769\n"
     ]
    }
   ],
   "source": [
    "x = [0.9397590361445783, 0.9586919104991394, 0.955249569707401, 0.9397590361445783, 0.9380378657487092]\n",
    "print('No augmentation:', np.mean(x))\n",
    "print(np.std(x))\n",
    "x = [0.9621342512908778, 0.9586919104991394, 0.9345955249569707, 0.9363166953528399, 0.9363166953528399]\n",
    "print('Random choice of augmentation:', np.mean(x))\n",
    "print(np.std(x))\n",
    "x = [0.9569707401032702, 0.9672977624784854, 0.9604130808950087, 0.9535283993115319, 0.9242685025817556]\n",
    "print('Choice of augmentation after each epoch:', np.mean(x))\n",
    "print(np.std(x))\n",
    "x = [0.963855421686747, 0.9586919104991394, 0.9604130808950087, 0.9466437177280551, 0.9414802065404475]\n",
    "print('Random choice of augmentation with frequences:', np.mean(x))\n",
    "print(np.std(x))"
   ]
  },
  {
   "cell_type": "markdown",
   "metadata": {},
   "source": [
    "#### Resnet18 + HB"
   ]
  },
  {
   "cell_type": "code",
   "execution_count": 12,
   "metadata": {},
   "outputs": [
    {
     "name": "stdout",
     "output_type": "stream",
     "text": [
      "No augmentation: 0.8137055837563452\n",
      "0.013487644929529365\n",
      "Random choice of augmentation: 0.8162436548223351\n",
      "0.01995898807242387\n",
      "Choice of augmentation after each epoch: 0.8314720812182742\n",
      "0.009442170171440748\n",
      "Random choice of augmentation with frequences: 0.8197969543147208\n",
      "0.015563157072848614\n"
     ]
    }
   ],
   "source": [
    "x = [0.8197969543147208, 0.7944162436548223, 0.8121827411167513, 0.8350253807106599, 0.8071065989847716]\n",
    "print('No augmentation:', np.mean(x))\n",
    "print(np.std(x))\n",
    "x = [0.8223350253807107, 0.8020304568527918, 0.7918781725888325, 0.850253807106599, 0.8147208121827412]\n",
    "print('Random choice of augmentation:', np.mean(x))\n",
    "print(np.std(x))\n",
    "x = [0.8451776649746193, 0.8375634517766497, 0.817258883248731, 0.8299492385786802, 0.8274111675126904]\n",
    "print('Choice of augmentation after each epoch:', np.mean(x))\n",
    "print(np.std(x))\n",
    "x = [0.8223350253807107, 0.8223350253807107, 0.8223350253807107, 0.8401015228426396, 0.7918781725888325]\n",
    "print('Random choice of augmentation with frequences:', np.mean(x))\n",
    "print(np.std(x))"
   ]
  },
  {
   "cell_type": "markdown",
   "metadata": {},
   "source": [
    "#### Resnet50 + HB"
   ]
  },
  {
   "cell_type": "code",
   "execution_count": 13,
   "metadata": {},
   "outputs": [
    {
     "name": "stdout",
     "output_type": "stream",
     "text": [
      "No augmentation: 0.8248730964467006\n",
      "0.019594171640222122\n",
      "Random choice of augmentation: 0.8340101522842639\n",
      "0.019699094326834785\n",
      "Choice of augmentation after each epoch: 0.83248730964467\n",
      "0.01123651960465921\n",
      "Random choice of augmentation with frequences: 0.8309644670050762\n",
      "0.005919748116594214\n"
     ]
    }
   ],
   "source": [
    "x = [0.8071065989847716, 0.8248730964467005, 0.850253807106599, 0.8426395939086294, 0.799492385786802]\n",
    "print('No augmentation:', np.mean(x))\n",
    "print(np.std(x))\n",
    "x = [0.8426395939086294, 0.8553299492385786, 0.8401015228426396, 0.8350253807106599, 0.7969543147208121]\n",
    "print('Random choice of augmentation:', np.mean(x))\n",
    "print(np.std(x))\n",
    "x = [0.8426395939086294, 0.8121827411167513, 0.8350253807106599, 0.8426395939086294, 0.8299492385786802]\n",
    "print('Choice of augmentation after each epoch:', np.mean(x))\n",
    "print(np.std(x))\n",
    "x = [0.8223350253807107, 0.8324873096446701, 0.8324873096446701, 0.8401015228426396, 0.8274111675126904]\n",
    "print('Random choice of augmentation with frequences:', np.mean(x))\n",
    "print(np.std(x))"
   ]
  },
  {
   "cell_type": "markdown",
   "metadata": {},
   "source": [
    "### 'TimeCycleShift', 'TimeSwapAugmentation', 'TimeRandomSwap', 'TimeReplyMasking'"
   ]
  },
  {
   "cell_type": "markdown",
   "metadata": {},
   "source": [
    "#### Resnet18 + AM"
   ]
  },
  {
   "cell_type": "code",
   "execution_count": 14,
   "metadata": {},
   "outputs": [
    {
     "name": "stdout",
     "output_type": "stream",
     "text": [
      "No augmentation: 0.9514629948364888\n",
      "0.011643053029458013\n",
      "Random choice of augmentation: 0.9549053356282272\n",
      "0.008389712638178271\n",
      "Choice of augmentation after each epoch: 0.9562822719449224\n",
      "0.006309914898390152\n",
      "Random choice of augmentation with frequences: 0.9562822719449227\n",
      "0.009464872347585229\n"
     ]
    }
   ],
   "source": [
    "x = [0.963855421686747, 0.9569707401032702, 0.9432013769363167, 0.9604130808950087, 0.9328743545611016]\n",
    "print('No augmentation:', np.mean(x))\n",
    "print(np.std(x))\n",
    "x = [0.9569707401032702, 0.9655765920826161, 0.9604130808950087, 0.9500860585197934, 0.9414802065404475]\n",
    "print('Random choice of augmentation:', np.mean(x))\n",
    "print(np.std(x))\n",
    "x = [0.963855421686747, 0.9586919104991394, 0.955249569707401, 0.9586919104991394, 0.9449225473321858]\n",
    "print('Choice of augmentation after each epoch:', np.mean(x))\n",
    "print(np.std(x))\n",
    "x = [0.9604130808950087, 0.9655765920826161, 0.9449225473321858, 0.9655765920826161, 0.9449225473321858]\n",
    "print('Random choice of augmentation with frequences:', np.mean(x))\n",
    "print(np.std(x))"
   ]
  },
  {
   "cell_type": "markdown",
   "metadata": {},
   "source": [
    "#### Resnet50 + AM"
   ]
  },
  {
   "cell_type": "code",
   "execution_count": 15,
   "metadata": {},
   "outputs": [
    {
     "name": "stdout",
     "output_type": "stream",
     "text": [
      "No augmentation: 0.9462994836488813\n",
      "0.008803243960443637\n",
      "Random choice of augmentation: 0.9518072289156627\n",
      "0.012925978213782168\n",
      "Choice of augmentation after each epoch: 0.9487091222030981\n",
      "0.009452344383990358\n",
      "Random choice of augmentation with frequences: 0.9507745266781411\n",
      "0.014949432530539401\n"
     ]
    }
   ],
   "source": [
    "x = [0.9397590361445783, 0.9586919104991394, 0.955249569707401, 0.9397590361445783, 0.9380378657487092]\n",
    "print('No augmentation:', np.mean(x))\n",
    "print(np.std(x))\n",
    "x = [0.9535283993115319, 0.9621342512908778, 0.9380378657487092, 0.9690189328743546, 0.9363166953528399]\n",
    "print('Random choice of augmentation:', np.mean(x))\n",
    "print(np.std(x))\n",
    "x = [0.9604130808950087, 0.9586919104991394, 0.9466437177280551, 0.9363166953528399, 0.9414802065404475]\n",
    "print('Choice of augmentation after each epoch:', np.mean(x))\n",
    "print(np.std(x))\n",
    "x = [0.9569707401032702, 0.9690189328743546, 0.9397590361445783, 0.9604130808950087, 0.927710843373494]\n",
    "print('Random choice of augmentation with frequences:', np.mean(x))\n",
    "print(np.std(x))"
   ]
  },
  {
   "cell_type": "markdown",
   "metadata": {},
   "source": [
    "#### Resnet18 + HB"
   ]
  },
  {
   "cell_type": "code",
   "execution_count": 16,
   "metadata": {},
   "outputs": [
    {
     "name": "stdout",
     "output_type": "stream",
     "text": [
      "No augmentation: 0.8131979695431472\n",
      "0.007631114912879664\n",
      "Random choice of augmentation: 0.8395939086294415\n",
      "0.014659420383952938\n",
      "Choice of augmentation after each epoch: 0.8736040609137057\n",
      "0.006299326723853219\n",
      "Random choice of augmentation with frequences: 0.8715736040609137\n",
      "0.013677353893713164\n"
     ]
    }
   ],
   "source": [
    "x = [0.8147208121827412, 0.8020304568527918, 0.8197969543147208, 0.8223350253807107, 0.8071065989847716]\n",
    "print('No augmentation:', np.mean(x))\n",
    "print(np.std(x))\n",
    "x = [0.8299492385786802, 0.8426395939086294, 0.8375634517766497, 0.8654822335025381, 0.8223350253807107]\n",
    "print('Random choice of augmentation:', np.mean(x))\n",
    "print(np.std(x))\n",
    "x = [0.8629441624365483, 0.8807106598984772, 0.8756345177664975, 0.8705583756345178, 0.8781725888324873]\n",
    "print('Choice of augmentation after each epoch:', np.mean(x))\n",
    "print(np.std(x))\n",
    "x = [0.8705583756345178, 0.850253807106599, 0.8934010152284264, 0.8730964467005076, 0.8705583756345178]\n",
    "print('Random choice of augmentation with frequences:', np.mean(x))\n",
    "print(np.std(x))"
   ]
  },
  {
   "cell_type": "markdown",
   "metadata": {},
   "source": [
    "#### Resnet50 + HB"
   ]
  },
  {
   "cell_type": "code",
   "execution_count": 17,
   "metadata": {},
   "outputs": [
    {
     "name": "stdout",
     "output_type": "stream",
     "text": [
      "No augmentation: 0.8182741116751269\n",
      "0.023787562464690347\n",
      "Random choice of augmentation: 0.8634517766497461\n",
      "0.025803583811449402\n",
      "Choice of augmentation after each epoch: 0.8583756345177663\n",
      "0.012680198981519588\n",
      "Random choice of augmentation with frequences: 0.8644670050761422\n",
      "0.013677353893713185\n"
     ]
    }
   ],
   "source": [
    "x = [0.8401015228426396, 0.7791878172588832, 0.8020304568527918, 0.8350253807106599, 0.8350253807106599]\n",
    "print('No augmentation:', np.mean(x))\n",
    "print(np.std(x))\n",
    "x = [0.8426395939086294, 0.8477157360406091, 0.8604060913705583, 0.9137055837563451, 0.8527918781725888]\n",
    "print('Random choice of augmentation:', np.mean(x))\n",
    "print(np.std(x))\n",
    "x = [0.8578680203045685, 0.8426395939086294, 0.8654822335025381, 0.8477157360406091, 0.8781725888324873]\n",
    "print('Choice of augmentation after each epoch:', np.mean(x))\n",
    "print(np.std(x))\n",
    "x = [0.8553299492385786, 0.8654822335025381, 0.8477157360406091, 0.8883248730964467, 0.8654822335025381]\n",
    "print('Random choice of augmentation with frequences:', np.mean(x))\n",
    "print(np.std(x))"
   ]
  },
  {
   "cell_type": "code",
   "execution_count": null,
   "metadata": {},
   "outputs": [],
   "source": []
  }
 ],
 "metadata": {
  "kernelspec": {
   "display_name": "Python 3",
   "language": "python",
   "name": "python3"
  },
  "language_info": {
   "codemirror_mode": {
    "name": "ipython",
    "version": 3
   },
   "file_extension": ".py",
   "mimetype": "text/x-python",
   "name": "python",
   "nbconvert_exporter": "python",
   "pygments_lexer": "ipython3",
   "version": "3.8.5"
  }
 },
 "nbformat": 4,
 "nbformat_minor": 4
}
