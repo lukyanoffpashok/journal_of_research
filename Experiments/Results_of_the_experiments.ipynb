{
 "cells": [
  {
   "cell_type": "markdown",
   "metadata": {},
   "source": [
    "# Resnet18 + AudioMnist"
   ]
  },
  {
   "cell_type": "code",
   "execution_count": 2,
   "metadata": {},
   "outputs": [],
   "source": [
    "import numpy as np"
   ]
  },
  {
   "cell_type": "markdown",
   "metadata": {},
   "source": [
    "### No Augmentation"
   ]
  },
  {
   "cell_type": "code",
   "execution_count": 3,
   "metadata": {},
   "outputs": [
    {
     "name": "stdout",
     "output_type": "stream",
     "text": [
      "mean: 0.9542168674698797\n",
      "std: 0.009589251825944332\n"
     ]
    }
   ],
   "source": [
    "#Test_accuracy\n",
    "a = np.array([0.9535283993115319, 0.9604130808950087, 0.9569707401032702, 0.963855421686747, 0.9363166953528399])\n",
    "print('mean:', np.mean(a))\n",
    "print('std:', np.std(a))"
   ]
  },
  {
   "cell_type": "markdown",
   "metadata": {},
   "source": [
    "### TimeMasking"
   ]
  },
  {
   "cell_type": "code",
   "execution_count": 4,
   "metadata": {},
   "outputs": [
    {
     "name": "stdout",
     "output_type": "stream",
     "text": [
      "mean: 0.9524956970740103\n",
      "std: 0.006403124006106106\n"
     ]
    }
   ],
   "source": [
    "#Test_accuracy\n",
    "a = np.array([0.9432013769363167, 0.9586919104991394, 0.955249569707401, 0.9586919104991394, 0.9466437177280551])\n",
    "print('mean:', np.mean(a))\n",
    "print('std:', np.std(a))"
   ]
  },
  {
   "cell_type": "markdown",
   "metadata": {},
   "source": [
    "### Freq_Masking"
   ]
  },
  {
   "cell_type": "code",
   "execution_count": 5,
   "metadata": {},
   "outputs": [
    {
     "name": "stdout",
     "output_type": "stream",
     "text": [
      "mean: 0.9524956970740103\n",
      "std: 0.0038640179553603446\n"
     ]
    }
   ],
   "source": [
    "#Test_accuracy\n",
    "a = np.array([0.9500860585197934, 0.9586919104991394, 0.9500860585197934, 0.9483648881239243, 0.955249569707401])\n",
    "print('mean:', np.mean(a))\n",
    "print('std:', np.std(a))"
   ]
  },
  {
   "cell_type": "markdown",
   "metadata": {},
   "source": [
    "### Noise"
   ]
  },
  {
   "cell_type": "code",
   "execution_count": 6,
   "metadata": {},
   "outputs": [
    {
     "name": "stdout",
     "output_type": "stream",
     "text": [
      "mean: 0.9580034423407916\n",
      "std: 0.006403124006106101\n"
     ]
    }
   ],
   "source": [
    "#Test_accuracy\n",
    "a = np.array([0.9586919104991394, 0.9655765920826161, 0.9535283993115319, 0.963855421686747, 0.9483648881239243])\n",
    "print('mean:', np.mean(a))\n",
    "print('std:', np.std(a))"
   ]
  },
  {
   "cell_type": "markdown",
   "metadata": {},
   "source": [
    "### RandomErasing"
   ]
  },
  {
   "cell_type": "code",
   "execution_count": 7,
   "metadata": {},
   "outputs": [
    {
     "name": "stdout",
     "output_type": "stream",
     "text": [
      "mean: 0.961790017211704\n",
      "std: 0.005265768860853148\n"
     ]
    }
   ],
   "source": [
    "#Test_accuracy\n",
    "a = np.array([0.9672977624784854, 0.9672977624784854, 0.9586919104991394, 0.9621342512908778, 0.9535283993115319])\n",
    "print('mean:', np.mean(a))\n",
    "print('std:', np.std(a))"
   ]
  },
  {
   "cell_type": "markdown",
   "metadata": {},
   "source": [
    "### TimeShift"
   ]
  },
  {
   "cell_type": "code",
   "execution_count": 8,
   "metadata": {},
   "outputs": [
    {
     "name": "stdout",
     "output_type": "stream",
     "text": [
      "mean: 0.9611015490533562\n",
      "std: 0.0061192388415253806\n"
     ]
    }
   ],
   "source": [
    "#Test_accuracy\n",
    "a = np.array([0.9690189328743546, 0.9655765920826161, 0.9518072289156626, 0.9621342512908778, 0.9569707401032702])\n",
    "print('mean:', np.mean(a))\n",
    "print('std:', np.std(a))"
   ]
  },
  {
   "cell_type": "markdown",
   "metadata": {},
   "source": [
    "### FreqShift"
   ]
  },
  {
   "cell_type": "code",
   "execution_count": 9,
   "metadata": {},
   "outputs": [
    {
     "name": "stdout",
     "output_type": "stream",
     "text": [
      "mean: 0.9366609294320136\n",
      "std: 0.012852430087844697\n"
     ]
    }
   ],
   "source": [
    "#Test_accuracy\n",
    "a = np.array([0.9432013769363167, 0.9518072289156626, 0.9449225473321858, 0.9259896729776248, 0.9173838209982789])\n",
    "print('mean:', np.mean(a))\n",
    "print('std:', np.std(a))"
   ]
  },
  {
   "cell_type": "markdown",
   "metadata": {},
   "source": [
    "### TimeNoising"
   ]
  },
  {
   "cell_type": "code",
   "execution_count": 10,
   "metadata": {},
   "outputs": [
    {
     "name": "stdout",
     "output_type": "stream",
     "text": [
      "mean: 0.9604130808950085\n",
      "std: 0.0032656912153201825\n"
     ]
    }
   ],
   "source": [
    "#Test_accuracy\n",
    "a = np.array([0.9604130808950087, 0.9655765920826161, 0.9621342512908778, 0.9569707401032702, 0.9569707401032702])\n",
    "print('mean:', np.mean(a))\n",
    "print('std:', np.std(a))"
   ]
  },
  {
   "cell_type": "markdown",
   "metadata": {},
   "source": [
    "### FreqNoising"
   ]
  },
  {
   "cell_type": "code",
   "execution_count": 11,
   "metadata": {},
   "outputs": [
    {
     "name": "stdout",
     "output_type": "stream",
     "text": [
      "mean: 0.9569707401032701\n",
      "std: 0.003924872375556421\n"
     ]
    }
   ],
   "source": [
    "#Test_accuracy\n",
    "a = np.array([0.9569707401032702, 0.9569707401032702, 0.9586919104991394, 0.9621342512908778, 0.9500860585197934])\n",
    "print('mean:', np.mean(a))\n",
    "print('std:', np.std(a))"
   ]
  },
  {
   "cell_type": "markdown",
   "metadata": {},
   "source": [
    "### TimeCycleShift"
   ]
  },
  {
   "cell_type": "code",
   "execution_count": 12,
   "metadata": {},
   "outputs": [
    {
     "name": "stdout",
     "output_type": "stream",
     "text": [
      "mean: 0.961790017211704\n",
      "std: 0.006384591046812867\n"
     ]
    }
   ],
   "source": [
    "#Test_accuracy\n",
    "a = np.array([0.9724612736660929, 0.9569707401032702, 0.955249569707401, 0.9655765920826161, 0.9586919104991394])\n",
    "print('mean:', np.mean(a))\n",
    "print('std:', np.std(a))"
   ]
  },
  {
   "cell_type": "markdown",
   "metadata": {},
   "source": [
    "### FreqCycleShift"
   ]
  },
  {
   "cell_type": "code",
   "execution_count": 13,
   "metadata": {},
   "outputs": [
    {
     "name": "stdout",
     "output_type": "stream",
     "text": [
      "mean: 0.9366609294320136\n",
      "std: 0.012713380593885978\n"
     ]
    }
   ],
   "source": [
    "#Test_accuracy\n",
    "a = np.array([0.9363166953528399, 0.9569707401032702, 0.9242685025817556, 0.9432013769363167, 0.9225473321858864])\n",
    "print('mean:', np.mean(a))\n",
    "print('std:', np.std(a))"
   ]
  },
  {
   "cell_type": "markdown",
   "metadata": {},
   "source": [
    "### TimeSpecialShift"
   ]
  },
  {
   "cell_type": "code",
   "execution_count": 14,
   "metadata": {},
   "outputs": [
    {
     "name": "stdout",
     "output_type": "stream",
     "text": [
      "mean: 0.953184165232358\n",
      "std: 0.010798201130022816\n"
     ]
    }
   ],
   "source": [
    "#Test_accuracy\n",
    "a = np.array([0.9672977624784854, 0.9569707401032702, 0.9414802065404475, 0.9604130808950087, 0.9397590361445783])\n",
    "print('mean:', np.mean(a))\n",
    "print('std:', np.std(a))"
   ]
  },
  {
   "cell_type": "markdown",
   "metadata": {},
   "source": [
    "### FreqSpecialShift"
   ]
  },
  {
   "cell_type": "code",
   "execution_count": 15,
   "metadata": {},
   "outputs": [
    {
     "name": "stdout",
     "output_type": "stream",
     "text": [
      "mean: 0.9421686746987952\n",
      "std: 0.006494995615873733\n"
     ]
    }
   ],
   "source": [
    "#Test_accuracy\n",
    "a = np.array([0.9449225473321858, 0.9500860585197934, 0.9363166953528399, 0.9466437177280551, 0.9328743545611016])\n",
    "print('mean:', np.mean(a))\n",
    "print('std:', np.std(a))"
   ]
  },
  {
   "cell_type": "markdown",
   "metadata": {},
   "source": [
    "### TimeSwapAugmentation"
   ]
  },
  {
   "cell_type": "code",
   "execution_count": 16,
   "metadata": {},
   "outputs": [
    {
     "name": "stdout",
     "output_type": "stream",
     "text": [
      "mean: 0.9569707401032703\n",
      "std: 0.008501954585355243\n"
     ]
    }
   ],
   "source": [
    "#Test_accuracy\n",
    "a = np.array([0.9535283993115319, 0.9586919104991394, 0.9690189328743546, 0.9604130808950087, 0.9432013769363167])\n",
    "print('mean:', np.mean(a))\n",
    "print('std:', np.std(a))"
   ]
  },
  {
   "cell_type": "markdown",
   "metadata": {},
   "source": [
    "### FreqSwapAugnentation"
   ]
  },
  {
   "cell_type": "code",
   "execution_count": 17,
   "metadata": {},
   "outputs": [
    {
     "name": "stdout",
     "output_type": "stream",
     "text": [
      "mean: 0.9521514629948366\n",
      "std: 0.0064767255498199006\n"
     ]
    }
   ],
   "source": [
    "#Test_accuracy\n",
    "a = np.array([0.9535283993115319, 0.963855421686747, 0.9500860585197934, 0.9449225473321858, 0.9483648881239243])\n",
    "print('mean:', np.mean(a))\n",
    "print('std:', np.std(a))"
   ]
  },
  {
   "cell_type": "markdown",
   "metadata": {},
   "source": [
    "### TimeReplyMasking"
   ]
  },
  {
   "cell_type": "code",
   "execution_count": 18,
   "metadata": {},
   "outputs": [
    {
     "name": "stdout",
     "output_type": "stream",
     "text": [
      "mean: 0.9569707401032701\n",
      "std: 0.005862095134570178\n"
     ]
    }
   ],
   "source": [
    "#Test_accuracy\n",
    "a = np.array([0.9604130808950087, 0.9655765920826161, 0.9535283993115319, 0.9569707401032702, 0.9483648881239243])\n",
    "print('mean:', np.mean(a))\n",
    "print('std:', np.std(a))"
   ]
  },
  {
   "cell_type": "markdown",
   "metadata": {},
   "source": [
    "### FreqReplyMasking"
   ]
  },
  {
   "cell_type": "code",
   "execution_count": 19,
   "metadata": {},
   "outputs": [
    {
     "name": "stdout",
     "output_type": "stream",
     "text": [
      "mean: 0.9590361445783133\n",
      "std: 0.008247262341281201\n"
     ]
    }
   ],
   "source": [
    "#Test_accuracy\n",
    "a = np.array([0.963855421686747, 0.9586919104991394, 0.963855421686747, 0.9655765920826161, 0.9432013769363167])\n",
    "print('mean:', np.mean(a))\n",
    "print('std:', np.std(a))"
   ]
  },
  {
   "cell_type": "markdown",
   "metadata": {},
   "source": [
    "### TimeRandomSwap"
   ]
  },
  {
   "cell_type": "code",
   "execution_count": 20,
   "metadata": {},
   "outputs": [
    {
     "name": "stdout",
     "output_type": "stream",
     "text": [
      "mean: 0.9604130808950087\n",
      "std: 0.003442340791738374\n"
     ]
    }
   ],
   "source": [
    "#Test_accuracy\n",
    "a = np.array([0.9621342512908778, 0.9655765920826161, 0.955249569707401, 0.9586919104991394, 0.9604130808950087])\n",
    "print('mean:', np.mean(a))\n",
    "print('std:', np.std(a))"
   ]
  },
  {
   "cell_type": "markdown",
   "metadata": {},
   "source": [
    "### FreqRandomSwap"
   ]
  },
  {
   "cell_type": "code",
   "execution_count": 21,
   "metadata": {},
   "outputs": [
    {
     "name": "stdout",
     "output_type": "stream",
     "text": [
      "mean: 0.9569707401032701\n",
      "std: 0.005220568291946006\n"
     ]
    }
   ],
   "source": [
    "#Test_accuracy\n",
    "a = np.array([0.963855421686747, 0.9604130808950087, 0.9518072289156626, 0.9500860585197934, 0.9586919104991394])\n",
    "print('mean:', np.mean(a))\n",
    "print('std:', np.std(a))"
   ]
  },
  {
   "cell_type": "markdown",
   "metadata": {},
   "source": [
    "# Resnet18 + HeartBeatSounds"
   ]
  },
  {
   "cell_type": "markdown",
   "metadata": {},
   "source": [
    "### No augmentation"
   ]
  },
  {
   "cell_type": "code",
   "execution_count": 22,
   "metadata": {},
   "outputs": [
    {
     "name": "stdout",
     "output_type": "stream",
     "text": [
      "mean: 0.8304568527918782\n",
      "std: 0.016164145510751935\n"
     ]
    }
   ],
   "source": [
    "#Test_accuracy\n",
    "a = np.array([0.8147208121827412, 0.8527918781725888, 0.8451776649746193, 0.8121827411167513, 0.8274111675126904])\n",
    "print('mean:', np.mean(a))\n",
    "print('std:', np.std(a))"
   ]
  },
  {
   "cell_type": "markdown",
   "metadata": {},
   "source": [
    "### TimeMasking"
   ]
  },
  {
   "cell_type": "code",
   "execution_count": 23,
   "metadata": {},
   "outputs": [
    {
     "name": "stdout",
     "output_type": "stream",
     "text": [
      "mean: 0.8294416243654823\n",
      "std: 0.013938609358117762\n"
     ]
    }
   ],
   "source": [
    "#Test_accuracy\n",
    "a = np.array([0.8020304568527918, 0.8375634517766497, 0.8324873096446701, 0.8401015228426396, 0.8350253807106599])\n",
    "print('mean:', np.mean(a))\n",
    "print('std:', np.std(a))"
   ]
  },
  {
   "cell_type": "markdown",
   "metadata": {},
   "source": [
    "### FreqMasking"
   ]
  },
  {
   "cell_type": "code",
   "execution_count": 24,
   "metadata": {},
   "outputs": [
    {
     "name": "stdout",
     "output_type": "stream",
     "text": [
      "mean: 0.8289340101522843\n",
      "std: 0.014411238138658236\n"
     ]
    }
   ],
   "source": [
    "#Test_accuracy\n",
    "a = np.array([0.8274111675126904, 0.8147208121827412, 0.8553299492385786, 0.817258883248731, 0.8299492385786802])\n",
    "print('mean:', np.mean(a))\n",
    "print('std:', np.std(a))"
   ]
  },
  {
   "cell_type": "markdown",
   "metadata": {},
   "source": [
    "### Noise"
   ]
  },
  {
   "cell_type": "code",
   "execution_count": 25,
   "metadata": {},
   "outputs": [
    {
     "name": "stdout",
     "output_type": "stream",
     "text": [
      "mean: 0.8365482233502538\n",
      "std: 0.008733325144205738\n"
     ]
    }
   ],
   "source": [
    "#Test_accuracy\n",
    "a = np.array([0.8451776649746193, 0.8401015228426396, 0.8375634517766497, 0.8197969543147208, 0.8401015228426396])\n",
    "print('mean:', np.mean(a))\n",
    "print('std:', np.std(a))"
   ]
  },
  {
   "cell_type": "markdown",
   "metadata": {},
   "source": [
    "### RandomErasing"
   ]
  },
  {
   "cell_type": "code",
   "execution_count": 26,
   "metadata": {},
   "outputs": [
    {
     "name": "stdout",
     "output_type": "stream",
     "text": [
      "mean: 0.8228426395939087\n",
      "std: 0.010075854437197551\n"
     ]
    }
   ],
   "source": [
    "#Test_accuracy\n",
    "a = np.array([0.817258883248731, 0.8147208121827412, 0.8426395939086294, 0.8197969543147208, 0.8197969543147208])\n",
    "print('mean:', np.mean(a))\n",
    "print('std:', np.std(a))"
   ]
  },
  {
   "cell_type": "markdown",
   "metadata": {},
   "source": [
    "### TimeShift"
   ]
  },
  {
   "cell_type": "code",
   "execution_count": 27,
   "metadata": {},
   "outputs": [
    {
     "name": "stdout",
     "output_type": "stream",
     "text": [
      "mean: 0.8659898477157361\n",
      "std: 0.014213197969543144\n"
     ]
    }
   ],
   "source": [
    "#Test_accuracy\n",
    "a = np.array([0.8604060913705583, 0.8604060913705583, 0.883248730964467, 0.8807106598984772, 0.8451776649746193])\n",
    "print('mean:', np.mean(a))\n",
    "print('std:', np.std(a))"
   ]
  },
  {
   "cell_type": "markdown",
   "metadata": {},
   "source": [
    "### FreqShift"
   ]
  },
  {
   "cell_type": "code",
   "execution_count": 28,
   "metadata": {},
   "outputs": [
    {
     "name": "stdout",
     "output_type": "stream",
     "text": [
      "mean: 0.8182741116751269\n",
      "std: 0.010353339113894012\n"
     ]
    }
   ],
   "source": [
    "#Test_accuracy\n",
    "a = np.array([0.8020304568527918, 0.8223350253807107, 0.8324873096446701, 0.8223350253807107, 0.8121827411167513])\n",
    "print('mean:', np.mean(a))\n",
    "print('std:', np.std(a))"
   ]
  },
  {
   "cell_type": "markdown",
   "metadata": {},
   "source": [
    "### TimeNoising"
   ]
  },
  {
   "cell_type": "code",
   "execution_count": 29,
   "metadata": {},
   "outputs": [
    {
     "name": "stdout",
     "output_type": "stream",
     "text": [
      "mean: 0.817766497461929\n",
      "std: 0.010075854437197562\n"
     ]
    }
   ],
   "source": [
    "#Test_accuracy\n",
    "a = np.array([0.817258883248731, 0.8197969543147208, 0.8299492385786802, 0.799492385786802, 0.8223350253807107])\n",
    "print('mean:', np.mean(a))\n",
    "print('std:', np.std(a))"
   ]
  },
  {
   "cell_type": "markdown",
   "metadata": {},
   "source": [
    "### FreqNoising"
   ]
  },
  {
   "cell_type": "code",
   "execution_count": 30,
   "metadata": {},
   "outputs": [
    {
     "name": "stdout",
     "output_type": "stream",
     "text": [
      "mean: 0.8289340101522843\n",
      "std: 0.012901791905724718\n"
     ]
    }
   ],
   "source": [
    "#Test_accuracy\n",
    "a = np.array([0.8121827411167513, 0.8248730964467005, 0.8451776649746193, 0.8197969543147208, 0.8426395939086294])\n",
    "print('mean:', np.mean(a))\n",
    "print('std:', np.std(a))"
   ]
  },
  {
   "cell_type": "markdown",
   "metadata": {},
   "source": [
    "### TimeCycleShift"
   ]
  },
  {
   "cell_type": "code",
   "execution_count": 31,
   "metadata": {},
   "outputs": [
    {
     "name": "stdout",
     "output_type": "stream",
     "text": [
      "mean: 0.8700507614213198\n",
      "std: 0.0103284212940994\n"
     ]
    }
   ],
   "source": [
    "#Test_accuracy\n",
    "a = np.array([0.8807106598984772, 0.8527918781725888, 0.868020304568528, 0.868020304568528, 0.8807106598984772])\n",
    "print('mean:', np.mean(a))\n",
    "print('std:', np.std(a))"
   ]
  },
  {
   "cell_type": "markdown",
   "metadata": {},
   "source": [
    "### FreqCycleShift"
   ]
  },
  {
   "cell_type": "code",
   "execution_count": 32,
   "metadata": {},
   "outputs": [
    {
     "name": "stdout",
     "output_type": "stream",
     "text": [
      "mean: 0.818781725888325\n",
      "std: 0.004123877362759361\n"
     ]
    }
   ],
   "source": [
    "#Test_accuracy\n",
    "a = np.array([0.817258883248731, 0.8121827411167513, 0.8197969543147208, 0.8248730964467005, 0.8197969543147208])\n",
    "print('mean:', np.mean(a))\n",
    "print('std:', np.std(a))"
   ]
  },
  {
   "cell_type": "markdown",
   "metadata": {},
   "source": [
    "### TimeSpecialShift"
   ]
  },
  {
   "cell_type": "code",
   "execution_count": 33,
   "metadata": {},
   "outputs": [
    {
     "name": "stdout",
     "output_type": "stream",
     "text": [
      "mean: 0.8649746192893402\n",
      "std: 0.011051543683795554\n"
     ]
    }
   ],
   "source": [
    "#Test_accuracy\n",
    "a = np.array([0.8705583756345178, 0.8553299492385786,  0.8527918781725888, 0.8629441624365483, 0.883248730964467])\n",
    "print('mean:', np.mean(a))\n",
    "print('std:', np.std(a))"
   ]
  },
  {
   "cell_type": "markdown",
   "metadata": {},
   "source": [
    "### FreqSpecialShift"
   ]
  },
  {
   "cell_type": "code",
   "execution_count": 34,
   "metadata": {},
   "outputs": [
    {
     "name": "stdout",
     "output_type": "stream",
     "text": [
      "mean: 0.8208121827411168\n",
      "std: 0.010957884845138528\n"
     ]
    }
   ],
   "source": [
    "#Test_accuracy\n",
    "a = np.array([0.8350253807106599, 0.8071065989847716, 0.8299492385786802, 0.8223350253807107, 0.8096446700507615])\n",
    "print('mean:', np.mean(a))\n",
    "print('std:', np.std(a))"
   ]
  },
  {
   "cell_type": "markdown",
   "metadata": {},
   "source": [
    "### TimeSwapAugmentation"
   ]
  },
  {
   "cell_type": "code",
   "execution_count": 35,
   "metadata": {},
   "outputs": [
    {
     "name": "stdout",
     "output_type": "stream",
     "text": [
      "mean: 0.8345177664974619\n",
      "std: 0.015430136196518432\n"
     ]
    }
   ],
   "source": [
    "#Test_accuracy\n",
    "a = np.array([0.8299492385786802, 0.8121827411167513, 0.8604060913705583, 0.8350253807106599, 0.8350253807106599])\n",
    "print('mean:', np.mean(a))\n",
    "print('std:', np.std(a))"
   ]
  },
  {
   "cell_type": "markdown",
   "metadata": {},
   "source": [
    "### FreqSwapAugmentation"
   ]
  },
  {
   "cell_type": "code",
   "execution_count": 36,
   "metadata": {},
   "outputs": [
    {
     "name": "stdout",
     "output_type": "stream",
     "text": [
      "mean: 0.8121827411167513\n",
      "std: 0.015890838418780237\n"
     ]
    }
   ],
   "source": [
    "#Test_accuracy\n",
    "a = np.array([0.8096446700507615, 0.7842639593908629, 0.8299492385786802, 0.8248730964467005, 0.8121827411167513])\n",
    "print('mean:', np.mean(a))\n",
    "print('std:', np.std(a))"
   ]
  },
  {
   "cell_type": "markdown",
   "metadata": {},
   "source": [
    "### TimeReplyMasking"
   ]
  },
  {
   "cell_type": "code",
   "execution_count": 37,
   "metadata": {},
   "outputs": [
    {
     "name": "stdout",
     "output_type": "stream",
     "text": [
      "mean: 0.8340101522842639\n",
      "std: 0.017258883248730983\n"
     ]
    }
   ],
   "source": [
    "#Test_accuracy\n",
    "a = np.array([0.8324873096446701, 0.850253807106599, 0.8477157360406091, 0.8375634517766497, 0.8020304568527918])\n",
    "print('mean:', np.mean(a))\n",
    "print('std:', np.std(a))"
   ]
  },
  {
   "cell_type": "markdown",
   "metadata": {},
   "source": [
    "### FreqReplyMasking"
   ]
  },
  {
   "cell_type": "code",
   "execution_count": 38,
   "metadata": {},
   "outputs": [
    {
     "name": "stdout",
     "output_type": "stream",
     "text": [
      "mean: 0.818781725888325\n",
      "std: 0.016338555268457927\n"
     ]
    }
   ],
   "source": [
    "#Test_accuracy\n",
    "a = np.array([0.7918781725888325, 0.8223350253807107, 0.8426395939086294, 0.8223350253807107, 0.8147208121827412])\n",
    "print('mean:', np.mean(a))\n",
    "print('std:', np.std(a))"
   ]
  },
  {
   "cell_type": "markdown",
   "metadata": {},
   "source": [
    "### TimeRandomSwap"
   ]
  },
  {
   "cell_type": "code",
   "execution_count": 39,
   "metadata": {},
   "outputs": [
    {
     "name": "stdout",
     "output_type": "stream",
     "text": [
      "mean: 0.8350253807106599\n",
      "std: 0.00849401042166574\n"
     ]
    }
   ],
   "source": [
    "#Test_accuracy\n",
    "a = np.array([0.8375634517766497, 0.8324873096446701, 0.8426395939086294, 0.8197969543147208, 0.8426395939086294])\n",
    "print('mean:', np.mean(a))\n",
    "print('std:', np.std(a))"
   ]
  },
  {
   "cell_type": "markdown",
   "metadata": {},
   "source": [
    "### FreqRandomSwap"
   ]
  },
  {
   "cell_type": "code",
   "execution_count": 40,
   "metadata": {},
   "outputs": [
    {
     "name": "stdout",
     "output_type": "stream",
     "text": [
      "mean: 0.8223350253807107\n",
      "std: 0.008937470488151758\n"
     ]
    }
   ],
   "source": [
    "#Test_accuracy\n",
    "a = np.array([0.8121827411167513, 0.8147208121827412, 0.8223350253807107, 0.8248730964467005, 0.8375634517766497])\n",
    "print('mean:', np.mean(a))\n",
    "print('std:', np.std(a))"
   ]
  },
  {
   "cell_type": "markdown",
   "metadata": {},
   "source": [
    "# Resnet50 + AudioMnist"
   ]
  },
  {
   "cell_type": "markdown",
   "metadata": {},
   "source": [
    "### No Augmentation"
   ]
  },
  {
   "cell_type": "code",
   "execution_count": 41,
   "metadata": {},
   "outputs": [
    {
     "name": "stdout",
     "output_type": "stream",
     "text": [
      "mean: 0.9528399311531842\n",
      "std: 0.009275176306580027\n"
     ]
    }
   ],
   "source": [
    "#Test_accuracy\n",
    "a = np.array([0.9586919104991394, 0.963855421686747, 0.9518072289156626, 0.9535283993115319, 0.9363166953528399])\n",
    "print('mean:', np.mean(a))\n",
    "print('std:', np.std(a))"
   ]
  },
  {
   "cell_type": "markdown",
   "metadata": {},
   "source": [
    "### TimeMasking"
   ]
  },
  {
   "cell_type": "code",
   "execution_count": 42,
   "metadata": {},
   "outputs": [
    {
     "name": "stdout",
     "output_type": "stream",
     "text": [
      "mean: 0.9559380378657487\n",
      "std: 0.006403124006106116\n"
     ]
    }
   ],
   "source": [
    "#Test_accuracy\n",
    "a = np.array([0.9621342512908778, 0.9586919104991394, 0.9621342512908778, 0.9466437177280551, 0.9500860585197934])\n",
    "print('mean:', np.mean(a))\n",
    "print('std:', np.std(a))"
   ]
  },
  {
   "cell_type": "markdown",
   "metadata": {},
   "source": [
    "### FreqMasking"
   ]
  },
  {
   "cell_type": "code",
   "execution_count": 43,
   "metadata": {},
   "outputs": [
    {
     "name": "stdout",
     "output_type": "stream",
     "text": [
      "mean: 0.9569707401032701\n",
      "std: 0.00448826327380561\n"
     ]
    }
   ],
   "source": [
    "#Test_accuracy\n",
    "a = np.array([0.963855421686747, 0.9586919104991394, 0.955249569707401, 0.9569707401032702, 0.9500860585197934])\n",
    "print('mean:', np.mean(a))\n",
    "print('std:', np.std(a))"
   ]
  },
  {
   "cell_type": "markdown",
   "metadata": {},
   "source": [
    "### Noise"
   ]
  },
  {
   "cell_type": "code",
   "execution_count": 44,
   "metadata": {},
   "outputs": [
    {
     "name": "stdout",
     "output_type": "stream",
     "text": [
      "mean: 0.9511187607573148\n",
      "std: 0.008950086058519807\n"
     ]
    }
   ],
   "source": [
    "#Test_accuracy\n",
    "a = np.array([0.9569707401032702, 0.9621342512908778, 0.9535283993115319, 0.9466437177280551, 0.9363166953528399])\n",
    "print('mean:', np.mean(a))\n",
    "print('std:', np.std(a))"
   ]
  },
  {
   "cell_type": "markdown",
   "metadata": {},
   "source": [
    "### RandomErasing"
   ]
  },
  {
   "cell_type": "code",
   "execution_count": 45,
   "metadata": {},
   "outputs": [
    {
     "name": "stdout",
     "output_type": "stream",
     "text": [
      "mean: 0.9514629948364888\n",
      "std: 0.010349945871513182\n"
     ]
    }
   ],
   "source": [
    "#Test_accuracy\n",
    "a = np.array([0.955249569707401, 0.9604130808950087, 0.955249569707401, 0.955249569707401, 0.9311531841652324])\n",
    "print('mean:', np.mean(a))\n",
    "print('std:', np.std(a))"
   ]
  },
  {
   "cell_type": "markdown",
   "metadata": {},
   "source": [
    "### TimeShift"
   ]
  },
  {
   "cell_type": "code",
   "execution_count": 46,
   "metadata": {},
   "outputs": [
    {
     "name": "stdout",
     "output_type": "stream",
     "text": [
      "mean: 0.9566265060240962\n",
      "std: 0.0033374732236945395\n"
     ]
    }
   ],
   "source": [
    "#Test_accuracy\n",
    "a = np.array([0.9500860585197934, 0.9569707401032702, 0.9586919104991394, 0.9586919104991394, 0.9586919104991394])\n",
    "print('mean:', np.mean(a))\n",
    "print('std:', np.std(a))"
   ]
  },
  {
   "cell_type": "markdown",
   "metadata": {},
   "source": [
    "### FreqShift"
   ]
  },
  {
   "cell_type": "code",
   "execution_count": 47,
   "metadata": {},
   "outputs": [
    {
     "name": "stdout",
     "output_type": "stream",
     "text": [
      "mean: 0.9387263339070568\n",
      "std: 0.013044609515660215\n"
     ]
    }
   ],
   "source": [
    "#Test_accuracy\n",
    "a = np.array([0.9483648881239243, 0.9535283993115319, 0.9397590361445783, 0.9363166953528399, 0.9156626506024096])\n",
    "print('mean:', np.mean(a))\n",
    "print('std:', np.std(a))"
   ]
  },
  {
   "cell_type": "markdown",
   "metadata": {},
   "source": [
    "### TimeNoising"
   ]
  },
  {
   "cell_type": "code",
   "execution_count": 48,
   "metadata": {},
   "outputs": [
    {
     "name": "stdout",
     "output_type": "stream",
     "text": [
      "mean: 0.9562822719449227\n",
      "std: 0.008189588470478697\n"
     ]
    }
   ],
   "source": [
    "#Test_accuracy\n",
    "a = np.array([0.9535283993115319, 0.9707401032702238, 0.9586919104991394, 0.9518072289156626, 0.9466437177280551])\n",
    "print('mean:', np.mean(a))\n",
    "print('std:', np.std(a))"
   ]
  },
  {
   "cell_type": "markdown",
   "metadata": {},
   "source": [
    "### FreqNoising"
   ]
  },
  {
   "cell_type": "code",
   "execution_count": 49,
   "metadata": {},
   "outputs": [
    {
     "name": "stdout",
     "output_type": "stream",
     "text": [
      "mean: 0.9518072289156627\n",
      "std: 0.009736410067973116\n"
     ]
    }
   ],
   "source": [
    "#Test_accuracy\n",
    "a = np.array([0.963855421686747, 0.9535283993115319, 0.9500860585197934, 0.9569707401032702, 0.9345955249569707])\n",
    "print('mean:', np.mean(a))\n",
    "print('std:', np.std(a))"
   ]
  },
  {
   "cell_type": "markdown",
   "metadata": {},
   "source": [
    "### TimeCycleShift"
   ]
  },
  {
   "cell_type": "code",
   "execution_count": 50,
   "metadata": {},
   "outputs": [
    {
     "name": "stdout",
     "output_type": "stream",
     "text": [
      "mean: 0.9559380378657487\n",
      "std: 0.013535010844294329\n"
     ]
    }
   ],
   "source": [
    "#Test_accuracy\n",
    "a = np.array([0.9604130808950087, 0.9655765920826161, 0.9655765920826161, 0.9586919104991394, 0.9294320137693631])\n",
    "print('mean:', np.mean(a))\n",
    "print('std:', np.std(a))"
   ]
  },
  {
   "cell_type": "markdown",
   "metadata": {},
   "source": [
    "### FreqCycleShift"
   ]
  },
  {
   "cell_type": "code",
   "execution_count": 51,
   "metadata": {},
   "outputs": [
    {
     "name": "stdout",
     "output_type": "stream",
     "text": [
      "mean: 0.9287435456110155\n",
      "std: 0.01750524218256951\n"
     ]
    }
   ],
   "source": [
    "#Test_accuracy\n",
    "a = np.array([0.9432013769363167, 0.9414802065404475, 0.9328743545611016, 0.9311531841652324,  0.8950086058519794])\n",
    "print('mean:', np.mean(a))\n",
    "print('std:', np.std(a))"
   ]
  },
  {
   "cell_type": "markdown",
   "metadata": {},
   "source": [
    "### TimeSpecialShift"
   ]
  },
  {
   "cell_type": "code",
   "execution_count": 52,
   "metadata": {},
   "outputs": [
    {
     "name": "stdout",
     "output_type": "stream",
     "text": [
      "mean: 0.9521514629948363\n",
      "std: 0.005698087902666727\n"
     ]
    }
   ],
   "source": [
    "#Test_accuracy\n",
    "a = np.array([0.9586919104991394, 0.9569707401032702, 0.9535283993115319, 0.9432013769363167, 0.9483648881239243])\n",
    "print('mean:', np.mean(a))\n",
    "print('std:', np.std(a))"
   ]
  },
  {
   "cell_type": "markdown",
   "metadata": {},
   "source": [
    "### FreqSpecialShift"
   ]
  },
  {
   "cell_type": "code",
   "execution_count": 53,
   "metadata": {},
   "outputs": [
    {
     "name": "stdout",
     "output_type": "stream",
     "text": [
      "mean: 0.9428571428571428\n",
      "std: 0.007004127349182697\n"
     ]
    }
   ],
   "source": [
    "#Test_accuracy\n",
    "a = np.array([0.9500860585197934, 0.9500860585197934, 0.9414802065404475, 0.9414802065404475, 0.9311531841652324])\n",
    "print('mean:', np.mean(a))\n",
    "print('std:', np.std(a))"
   ]
  },
  {
   "cell_type": "markdown",
   "metadata": {},
   "source": [
    "### TimeSwapAugmentation"
   ]
  },
  {
   "cell_type": "code",
   "execution_count": 54,
   "metadata": {},
   "outputs": [
    {
     "name": "stdout",
     "output_type": "stream",
     "text": [
      "mean: 0.9497418244406196\n",
      "std: 0.011175685425644016\n"
     ]
    }
   ],
   "source": [
    "#Test_accuracy\n",
    "a = np.array([0.955249569707401, 0.9690189328743546, 0.9432013769363167, 0.9432013769363167, 0.9380378657487092])\n",
    "print('mean:', np.mean(a))\n",
    "print('std:', np.std(a))"
   ]
  },
  {
   "cell_type": "markdown",
   "metadata": {},
   "source": [
    "### FreqSwapAugmentation"
   ]
  },
  {
   "cell_type": "code",
   "execution_count": 55,
   "metadata": {},
   "outputs": [
    {
     "name": "stdout",
     "output_type": "stream",
     "text": [
      "mean: 0.9528399311531842\n",
      "std: 0.00789490185279155\n"
     ]
    }
   ],
   "source": [
    "#Test_accuracy\n",
    "a = np.array([0.9604130808950087, 0.955249569707401, 0.9604130808950087, 0.9483648881239243, 0.9397590361445783])\n",
    "print('mean:', np.mean(a))\n",
    "print('std:', np.std(a))"
   ]
  },
  {
   "cell_type": "markdown",
   "metadata": {},
   "source": [
    "### TimeReplyMasking"
   ]
  },
  {
   "cell_type": "code",
   "execution_count": 56,
   "metadata": {},
   "outputs": [
    {
     "name": "stdout",
     "output_type": "stream",
     "text": [
      "mean: 0.9528399311531841\n",
      "std: 0.006403124006106109\n"
     ]
    }
   ],
   "source": [
    "#Test_accuracy\n",
    "a = np.array([0.9569707401032702, 0.9586919104991394, 0.9569707401032702, 0.9500860585197934, 0.9414802065404475])\n",
    "print('mean:', np.mean(a))\n",
    "print('std:', np.std(a))"
   ]
  },
  {
   "cell_type": "markdown",
   "metadata": {},
   "source": [
    "### FreqReplyMasking"
   ]
  },
  {
   "cell_type": "code",
   "execution_count": 57,
   "metadata": {},
   "outputs": [
    {
     "name": "stdout",
     "output_type": "stream",
     "text": [
      "mean: 0.9528399311531842\n",
      "std: 0.005507745266781413\n"
     ]
    }
   ],
   "source": [
    "#Test_accuracy\n",
    "a = np.array([0.955249569707401, 0.9621342512908778, 0.9483648881239243, 0.9466437177280551, 0.9518072289156626])\n",
    "print('mean:', np.mean(a))\n",
    "print('std:', np.std(a))"
   ]
  },
  {
   "cell_type": "markdown",
   "metadata": {},
   "source": [
    "### TimeRandomSwap"
   ]
  },
  {
   "cell_type": "code",
   "execution_count": 58,
   "metadata": {},
   "outputs": [
    {
     "name": "stdout",
     "output_type": "stream",
     "text": [
      "mean: 0.9604130808950085\n",
      "std: 0.00544281869220031\n"
     ]
    }
   ],
   "source": [
    "#Test_accuracy\n",
    "a = np.array([0.9569707401032702, 0.9690189328743546, 0.963855421686747, 0.9586919104991394, 0.9535283993115319])\n",
    "print('mean:', np.mean(a))\n",
    "print('std:', np.std(a))"
   ]
  },
  {
   "cell_type": "markdown",
   "metadata": {},
   "source": [
    "### FreqRandomSwap"
   ]
  },
  {
   "cell_type": "code",
   "execution_count": 59,
   "metadata": {},
   "outputs": [
    {
     "name": "stdout",
     "output_type": "stream",
     "text": [
      "mean: 0.946987951807229\n",
      "std: 0.007088213522194122\n"
     ]
    }
   ],
   "source": [
    "#Test_accuracy\n",
    "a = np.array([0.9500860585197934, 0.9586919104991394, 0.9466437177280551, 0.9397590361445783, 0.9397590361445783])\n",
    "print('mean:', np.mean(a))\n",
    "print('std:', np.std(a))"
   ]
  },
  {
   "cell_type": "markdown",
   "metadata": {},
   "source": [
    "### Resnet50 + HeartBeatSounds"
   ]
  },
  {
   "cell_type": "markdown",
   "metadata": {},
   "source": [
    "### No augmentation"
   ]
  },
  {
   "cell_type": "code",
   "execution_count": 60,
   "metadata": {},
   "outputs": [
    {
     "name": "stdout",
     "output_type": "stream",
     "text": [
      "mean: 0.8243654822335025\n",
      "std: 0.01754025638900609\n"
     ]
    }
   ],
   "source": [
    "#Test_accuracy\n",
    "a = np.array([0.8299492385786802, 0.8274111675126904, 0.8527918781725888, 0.8071065989847716, 0.8045685279187818])\n",
    "print('mean:', np.mean(a))\n",
    "print('std:', np.std(a))"
   ]
  },
  {
   "cell_type": "markdown",
   "metadata": {},
   "source": [
    "### TimeMasking"
   ]
  },
  {
   "cell_type": "code",
   "execution_count": 61,
   "metadata": {},
   "outputs": [
    {
     "name": "stdout",
     "output_type": "stream",
     "text": [
      "mean: 0.8263959390862944\n",
      "std: 0.007460374851116302\n"
     ]
    }
   ],
   "source": [
    "#Test_accuracy\n",
    "a = np.array([0.8197969543147208, 0.8274111675126904, 0.8197969543147208, 0.8248730964467005, 0.8401015228426396])\n",
    "print('mean:', np.mean(a))\n",
    "print('std:', np.std(a))"
   ]
  },
  {
   "cell_type": "markdown",
   "metadata": {},
   "source": [
    "### FreqMasking"
   ]
  },
  {
   "cell_type": "code",
   "execution_count": 62,
   "metadata": {},
   "outputs": [
    {
     "name": "stdout",
     "output_type": "stream",
     "text": [
      "mean: 0.8248730964467006\n",
      "std: 0.013236959198381009\n"
     ]
    }
   ],
   "source": [
    "#Test_accuracy\n",
    "a = np.array([0.8350253807106599, 0.799492385786802, 0.8350253807106599, 0.8248730964467005, 0.8299492385786802])\n",
    "print('mean:', np.mean(a))\n",
    "print('std:', np.std(a))"
   ]
  },
  {
   "cell_type": "markdown",
   "metadata": {},
   "source": [
    "### Noise"
   ]
  },
  {
   "cell_type": "code",
   "execution_count": 63,
   "metadata": {},
   "outputs": [
    {
     "name": "stdout",
     "output_type": "stream",
     "text": [
      "mean: 0.8213197969543147\n",
      "std: 0.01493800910615448\n"
     ]
    }
   ],
   "source": [
    "#Test_accuracy\n",
    "a = np.array([0.8020304568527918, 0.8299492385786802, 0.8375634517766497, 0.8045685279187818, 0.8324873096446701])\n",
    "print('mean:', np.mean(a))\n",
    "print('std:', np.std(a))"
   ]
  },
  {
   "cell_type": "markdown",
   "metadata": {},
   "source": [
    "### RandomErasing"
   ]
  },
  {
   "cell_type": "code",
   "execution_count": 64,
   "metadata": {},
   "outputs": [
    {
     "name": "stdout",
     "output_type": "stream",
     "text": [
      "mean: 0.8172588832487311\n",
      "std: 0.013139268127456652\n"
     ]
    }
   ],
   "source": [
    "#Test_accuracy\n",
    "a = np.array([0.8020304568527918, 0.8248730964467005, 0.8350253807106599, 0.8223350253807107, 0.8020304568527918])\n",
    "print('mean:', np.mean(a))\n",
    "print('std:', np.std(a))"
   ]
  },
  {
   "cell_type": "markdown",
   "metadata": {},
   "source": [
    "### TimeShift"
   ]
  },
  {
   "cell_type": "code",
   "execution_count": 65,
   "metadata": {},
   "outputs": [
    {
     "name": "stdout",
     "output_type": "stream",
     "text": [
      "mean: 0.8629441624365481\n",
      "std: 0.015480152976626301\n"
     ]
    }
   ],
   "source": [
    "#Test_accuracy\n",
    "a = np.array([0.8629441624365483, 0.8807106598984772, 0.8629441624365483, 0.8350253807106599, 0.8730964467005076])\n",
    "print('mean:', np.mean(a))\n",
    "print('std:', np.std(a))"
   ]
  },
  {
   "cell_type": "markdown",
   "metadata": {},
   "source": [
    "### FreqShift"
   ]
  },
  {
   "cell_type": "code",
   "execution_count": 66,
   "metadata": {},
   "outputs": [
    {
     "name": "stdout",
     "output_type": "stream",
     "text": [
      "mean: 0.8213197969543147\n",
      "std: 0.01022814298457355\n"
     ]
    }
   ],
   "source": [
    "#Test_accuracy\n",
    "a = np.array([0.8324873096446701, 0.8147208121827412, 0.8274111675126904, 0.8045685279187818, 0.8274111675126904])\n",
    "print('mean:', np.mean(a))\n",
    "print('std:', np.std(a))"
   ]
  },
  {
   "cell_type": "markdown",
   "metadata": {},
   "source": [
    "### TimeNoising"
   ]
  },
  {
   "cell_type": "code",
   "execution_count": 67,
   "metadata": {},
   "outputs": [
    {
     "name": "stdout",
     "output_type": "stream",
     "text": [
      "mean: 0.8157360406091371\n",
      "std: 0.017989893549918128\n"
     ]
    }
   ],
   "source": [
    "#Test_accuracy\n",
    "a = np.array([0.8350253807106599, 0.8096446700507615, 0.8299492385786802, 0.8197969543147208, 0.7842639593908629])\n",
    "print('mean:', np.mean(a))\n",
    "print('std:', np.std(a))"
   ]
  },
  {
   "cell_type": "markdown",
   "metadata": {},
   "source": [
    "### FreqNoising"
   ]
  },
  {
   "cell_type": "code",
   "execution_count": 68,
   "metadata": {},
   "outputs": [
    {
     "name": "stdout",
     "output_type": "stream",
     "text": [
      "mean: 0.8233502538071067\n",
      "std: 0.018829682224356784\n"
     ]
    }
   ],
   "source": [
    "#Test_accuracy\n",
    "a = np.array([0.7893401015228426, 0.8299492385786802, 0.8451776649746193, 0.8324873096446701, 0.8197969543147208])\n",
    "print('mean:', np.mean(a))\n",
    "print('std:', np.std(a))"
   ]
  },
  {
   "cell_type": "markdown",
   "metadata": {},
   "source": [
    "### TimeCycleShift"
   ]
  },
  {
   "cell_type": "code",
   "execution_count": 69,
   "metadata": {},
   "outputs": [
    {
     "name": "stdout",
     "output_type": "stream",
     "text": [
      "mean: 0.8715736040609137\n",
      "std: 0.016957657957857943\n"
     ]
    }
   ],
   "source": [
    "#Test_accuracy\n",
    "a = np.array([0.8426395939086294, 0.8781725888324873, 0.8654822335025381, 0.8934010152284264, 0.8781725888324873])\n",
    "print('mean:', np.mean(a))\n",
    "print('std:', np.std(a))"
   ]
  },
  {
   "cell_type": "markdown",
   "metadata": {},
   "source": [
    "### FreqCycleShift"
   ]
  },
  {
   "cell_type": "code",
   "execution_count": 70,
   "metadata": {},
   "outputs": [
    {
     "name": "stdout",
     "output_type": "stream",
     "text": [
      "mean: 0.817766497461929\n",
      "std: 0.01716907058404847\n"
     ]
    }
   ],
   "source": [
    "#Test_accuracy\n",
    "a = np.array([0.817258883248731, 0.8071065989847716, 0.8350253807106599, 0.7918781725888325, 0.8375634517766497])\n",
    "print('mean:', np.mean(a))\n",
    "print('std:', np.std(a))"
   ]
  },
  {
   "cell_type": "markdown",
   "metadata": {},
   "source": [
    "### TimeSpecialShift"
   ]
  },
  {
   "cell_type": "code",
   "execution_count": 71,
   "metadata": {},
   "outputs": [
    {
     "name": "stdout",
     "output_type": "stream",
     "text": [
      "mean: 0.8583756345177666\n",
      "std: 0.014834151468225849\n"
     ]
    }
   ],
   "source": [
    "#Test_accuracy\n",
    "a = np.array([0.8451776649746193, 0.8807106598984772, 0.868020304568528, 0.8578680203045685, 0.8401015228426396])\n",
    "print('mean:', np.mean(a))\n",
    "print('std:', np.std(a))"
   ]
  },
  {
   "cell_type": "markdown",
   "metadata": {},
   "source": [
    "### FreqSpecialShift"
   ]
  },
  {
   "cell_type": "code",
   "execution_count": 72,
   "metadata": {},
   "outputs": [
    {
     "name": "stdout",
     "output_type": "stream",
     "text": [
      "mean: 0.83502538071066\n",
      "std: 0.006618479599190509\n"
     ]
    }
   ],
   "source": [
    "#Test_accuracy\n",
    "a = np.array([0.8299492385786802, 0.8324873096446701, 0.8451776649746193, 0.8274111675126904, 0.8401015228426396])\n",
    "print('mean:', np.mean(a))\n",
    "print('std:', np.std(a))"
   ]
  },
  {
   "cell_type": "markdown",
   "metadata": {},
   "source": [
    "### TimeSwapAugmentation"
   ]
  },
  {
   "cell_type": "code",
   "execution_count": 73,
   "metadata": {},
   "outputs": [
    {
     "name": "stdout",
     "output_type": "stream",
     "text": [
      "mean: 0.8329949238578681\n",
      "std: 0.015262229825759302\n"
     ]
    }
   ],
   "source": [
    "#Test_accuracy\n",
    "a = np.array([0.8274111675126904, 0.8071065989847716, 0.8527918781725888, 0.8401015228426396, 0.8375634517766497])\n",
    "print('mean:', np.mean(a))\n",
    "print('std:', np.std(a))"
   ]
  },
  {
   "cell_type": "markdown",
   "metadata": {},
   "source": [
    "### FreqSwapAugmentation"
   ]
  },
  {
   "cell_type": "code",
   "execution_count": 74,
   "metadata": {},
   "outputs": [
    {
     "name": "stdout",
     "output_type": "stream",
     "text": [
      "mean: 0.8279187817258883\n",
      "std: 0.019087914392856013\n"
     ]
    }
   ],
   "source": [
    "#Test_accuracy\n",
    "a = np.array([0.8020304568527918, 0.8324873096446701, 0.8604060913705583, 0.8248730964467005, 0.8197969543147208])\n",
    "print('mean:', np.mean(a))\n",
    "print('std:', np.std(a))"
   ]
  },
  {
   "cell_type": "markdown",
   "metadata": {},
   "source": [
    "### TimeReplyMasking"
   ]
  },
  {
   "cell_type": "code",
   "execution_count": 75,
   "metadata": {},
   "outputs": [
    {
     "name": "stdout",
     "output_type": "stream",
     "text": [
      "mean: 0.8258883248730964\n",
      "std: 0.02157211102626983\n"
     ]
    }
   ],
   "source": [
    "#Test_accuracy\n",
    "a = np.array([0.7918781725888325, 0.8299492385786802, 0.850253807106599, 0.8121827411167513, 0.8451776649746193])\n",
    "print('mean:', np.mean(a))\n",
    "print('std:', np.std(a))"
   ]
  },
  {
   "cell_type": "markdown",
   "metadata": {},
   "source": [
    "### FreqReplyMasking"
   ]
  },
  {
   "cell_type": "code",
   "execution_count": 76,
   "metadata": {},
   "outputs": [
    {
     "name": "stdout",
     "output_type": "stream",
     "text": [
      "mean: 0.8152284263959391\n",
      "std: 0.010452416386788827\n"
     ]
    }
   ],
   "source": [
    "#Test_accuracy\n",
    "a = np.array([0.8020304568527918, 0.8197969543147208, 0.8045685279187818, 0.8197969543147208, 0.8299492385786802])\n",
    "print('mean:', np.mean(a))\n",
    "print('std:', np.std(a))"
   ]
  },
  {
   "cell_type": "markdown",
   "metadata": {},
   "source": [
    "### TimeRandomSwap"
   ]
  },
  {
   "cell_type": "code",
   "execution_count": 77,
   "metadata": {},
   "outputs": [
    {
     "name": "stdout",
     "output_type": "stream",
     "text": [
      "mean: 0.8233502538071067\n",
      "std: 0.02096637200818616\n"
     ]
    }
   ],
   "source": [
    "#Test_accuracy\n",
    "a = np.array([0.7918781725888325, 0.8096446700507615, 0.8527918781725888, 0.8350253807106599, 0.8274111675126904])\n",
    "print('mean:', np.mean(a))\n",
    "print('std:', np.std(a))"
   ]
  },
  {
   "cell_type": "markdown",
   "metadata": {},
   "source": [
    "### FreqRandomSwap"
   ]
  },
  {
   "cell_type": "code",
   "execution_count": 78,
   "metadata": {},
   "outputs": [
    {
     "name": "stdout",
     "output_type": "stream",
     "text": [
      "mean: 0.8284263959390863\n",
      "std: 0.006540151637931551\n"
     ]
    }
   ],
   "source": [
    "#Test_accuracy\n",
    "a = np.array([0.817258883248731, 0.8248730964467005, 0.8350253807106599, 0.8324873096446701, 0.8324873096446701])\n",
    "print('mean:', np.mean(a))\n",
    "print('std:', np.std(a))"
   ]
  }
 ],
 "metadata": {
  "kernelspec": {
   "display_name": "Python 3",
   "language": "python",
   "name": "python3"
  },
  "language_info": {
   "codemirror_mode": {
    "name": "ipython",
    "version": 3
   },
   "file_extension": ".py",
   "mimetype": "text/x-python",
   "name": "python",
   "nbconvert_exporter": "python",
   "pygments_lexer": "ipython3",
   "version": "3.8.5"
  }
 },
 "nbformat": 4,
 "nbformat_minor": 4
}
