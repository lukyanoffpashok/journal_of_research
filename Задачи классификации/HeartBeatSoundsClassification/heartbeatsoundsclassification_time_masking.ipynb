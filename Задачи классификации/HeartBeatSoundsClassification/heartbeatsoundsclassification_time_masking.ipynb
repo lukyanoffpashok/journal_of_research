{
 "cells": [
  {
   "cell_type": "code",
   "execution_count": 1,
   "metadata": {
    "_cell_guid": "b1076dfc-b9ad-4769-8c92-a6c4dae69d19",
    "_uuid": "8f2839f25d086af736a60e9eeb907d3b93b6e0e5",
    "execution": {
     "iopub.execute_input": "2021-04-05T14:46:08.573798Z",
     "iopub.status.busy": "2021-04-05T14:46:08.573133Z",
     "iopub.status.idle": "2021-04-05T14:46:12.592910Z",
     "shell.execute_reply": "2021-04-05T14:46:12.592173Z"
    },
    "papermill": {
     "duration": 4.0386,
     "end_time": "2021-04-05T14:46:12.593144",
     "exception": false,
     "start_time": "2021-04-05T14:46:08.554544",
     "status": "completed"
    },
    "tags": []
   },
   "outputs": [
    {
     "name": "stderr",
     "output_type": "stream",
     "text": [
      "/opt/conda/lib/python3.7/site-packages/torchaudio/backend/utils.py:54: UserWarning: \"sox\" backend is being deprecated. The default backend will be changed to \"sox_io\" backend in 0.8.0 and \"sox\" backend will be removed in 0.9.0. Please migrate to \"sox_io\" backend. Please refer to https://github.com/pytorch/audio/issues/903 for the detail.\n",
      "  '\"sox\" backend is being deprecated. '\n"
     ]
    }
   ],
   "source": [
    "import numpy as np\n",
    "import matplotlib.pyplot as plt\n",
    "from sklearn.model_selection import train_test_split\n",
    "import librosa\n",
    "import librosa.display\n",
    "import os\n",
    "import copy\n",
    "import torch\n",
    "from torch.utils.data import Dataset, DataLoader\n",
    "import random\n",
    "import skimage.io as io\n",
    "import pandas as pd\n",
    "import torchaudio.transforms as T\n",
    "from torchvision.models import resnet18\n",
    "from tqdm import tqdm"
   ]
  },
  {
   "cell_type": "code",
   "execution_count": 2,
   "metadata": {
    "execution": {
     "iopub.execute_input": "2021-04-05T14:46:12.626187Z",
     "iopub.status.busy": "2021-04-05T14:46:12.625433Z",
     "iopub.status.idle": "2021-04-05T14:46:12.628351Z",
     "shell.execute_reply": "2021-04-05T14:46:12.627832Z"
    },
    "papermill": {
     "duration": 0.021004,
     "end_time": "2021-04-05T14:46:12.628452",
     "exception": false,
     "start_time": "2021-04-05T14:46:12.607448",
     "status": "completed"
    },
    "tags": []
   },
   "outputs": [],
   "source": [
    "def seed_everything(seed=42):\n",
    "    print(f'setting everything to seed {seed}')\n",
    "    random.seed(seed)\n",
    "    os.environ['PYTHONHASHSEED'] = str(seed)\n",
    "    np.random.seed(seed)\n",
    "    torch.manual_seed(seed)\n",
    "    torch.cuda.manual_seed(seed)\n",
    "    torch.backends.cudnn.deterministic = True\n",
    "    torch.cuda.empty_cache()"
   ]
  },
  {
   "cell_type": "code",
   "execution_count": 3,
   "metadata": {
    "execution": {
     "iopub.execute_input": "2021-04-05T14:46:12.659259Z",
     "iopub.status.busy": "2021-04-05T14:46:12.658661Z",
     "iopub.status.idle": "2021-04-05T14:46:12.661612Z",
     "shell.execute_reply": "2021-04-05T14:46:12.661076Z"
    },
    "papermill": {
     "duration": 0.020649,
     "end_time": "2021-04-05T14:46:12.661724",
     "exception": false,
     "start_time": "2021-04-05T14:46:12.641075",
     "status": "completed"
    },
    "tags": []
   },
   "outputs": [],
   "source": [
    "device = torch.device('cuda:0')"
   ]
  },
  {
   "cell_type": "code",
   "execution_count": 4,
   "metadata": {
    "execution": {
     "iopub.execute_input": "2021-04-05T14:46:12.691291Z",
     "iopub.status.busy": "2021-04-05T14:46:12.690621Z",
     "iopub.status.idle": "2021-04-05T14:46:12.693790Z",
     "shell.execute_reply": "2021-04-05T14:46:12.693397Z"
    },
    "papermill": {
     "duration": 0.019205,
     "end_time": "2021-04-05T14:46:12.693889",
     "exception": false,
     "start_time": "2021-04-05T14:46:12.674684",
     "status": "completed"
    },
    "tags": []
   },
   "outputs": [],
   "source": [
    "data_dir = '//kaggle/input/heartbeat-sounds/set_b'\n",
    "file_csv = '/kaggle/input/heartbeat-sounds/set_b.csv'"
   ]
  },
  {
   "cell_type": "code",
   "execution_count": 5,
   "metadata": {
    "execution": {
     "iopub.execute_input": "2021-04-05T14:46:12.727569Z",
     "iopub.status.busy": "2021-04-05T14:46:12.726936Z",
     "iopub.status.idle": "2021-04-05T14:46:12.729705Z",
     "shell.execute_reply": "2021-04-05T14:46:12.729208Z"
    },
    "papermill": {
     "duration": 0.022849,
     "end_time": "2021-04-05T14:46:12.729801",
     "exception": false,
     "start_time": "2021-04-05T14:46:12.706952",
     "status": "completed"
    },
    "tags": []
   },
   "outputs": [],
   "source": [
    "def mono_to_color(X, eps=1e-6, mean=None, std=None):\n",
    "    # Standardize\n",
    "    mean = mean or X.mean()\n",
    "    std = std or X.std()\n",
    "    X = (X - mean) / (std + eps)\n",
    "    # Normalize to [0, 255]\n",
    "    _min, _max = X.min(), X.max()\n",
    "    if (_max - _min) > eps:\n",
    "        V = np.clip(X, _min, _max)\n",
    "        V = 255 * (V - _min) / (_max - _min)\n",
    "        V = V.astype(np.uint8)\n",
    "    else:\n",
    "        V = np.zeros_like(X, dtype=np.uint8)\n",
    "    return V\n",
    "\n",
    "def normalize(image, mean=None, std=None):\n",
    "    image = image / 255.0\n",
    "    if mean is not None and std is not None:\n",
    "        image = (image - mean) / std\n",
    "    return image.astype(np.float32)"
   ]
  },
  {
   "cell_type": "code",
   "execution_count": 6,
   "metadata": {
    "execution": {
     "iopub.execute_input": "2021-04-05T14:46:12.759997Z",
     "iopub.status.busy": "2021-04-05T14:46:12.759257Z",
     "iopub.status.idle": "2021-04-05T14:46:12.762120Z",
     "shell.execute_reply": "2021-04-05T14:46:12.761663Z"
    },
    "papermill": {
     "duration": 0.019398,
     "end_time": "2021-04-05T14:46:12.762227",
     "exception": false,
     "start_time": "2021-04-05T14:46:12.742829",
     "status": "completed"
    },
    "tags": []
   },
   "outputs": [],
   "source": [
    "NUM_SAMPLES = 65500\n",
    "sr = 48000\n",
    "fmin = 84\n",
    "fmax = sr // 2\n",
    "nmels = 128\n",
    "batch_size = 32\n",
    "random_seed = 42\n",
    "train_size = 0.8"
   ]
  },
  {
   "cell_type": "code",
   "execution_count": 7,
   "metadata": {
    "execution": {
     "iopub.execute_input": "2021-04-05T14:46:12.791749Z",
     "iopub.status.busy": "2021-04-05T14:46:12.791188Z",
     "iopub.status.idle": "2021-04-05T14:46:12.891437Z",
     "shell.execute_reply": "2021-04-05T14:46:12.890921Z"
    },
    "papermill": {
     "duration": 0.116398,
     "end_time": "2021-04-05T14:46:12.891552",
     "exception": false,
     "start_time": "2021-04-05T14:46:12.775154",
     "status": "completed"
    },
    "tags": []
   },
   "outputs": [],
   "source": [
    "recordings_old = sorted(os.listdir(data_dir))"
   ]
  },
  {
   "cell_type": "code",
   "execution_count": 8,
   "metadata": {
    "execution": {
     "iopub.execute_input": "2021-04-05T14:46:12.922399Z",
     "iopub.status.busy": "2021-04-05T14:46:12.921817Z",
     "iopub.status.idle": "2021-04-05T14:49:18.034762Z",
     "shell.execute_reply": "2021-04-05T14:49:18.033869Z"
    },
    "papermill": {
     "duration": 185.130179,
     "end_time": "2021-04-05T14:49:18.034915",
     "exception": false,
     "start_time": "2021-04-05T14:46:12.904736",
     "status": "completed"
    },
    "tags": []
   },
   "outputs": [],
   "source": [
    "recordings = []\n",
    "for x in recordings_old:\n",
    "    y, _ = librosa.load(data_dir + '/' + x, sr = sr)\n",
    "    if y.shape[0] >= NUM_SAMPLES:\n",
    "        recordings.append(x)"
   ]
  },
  {
   "cell_type": "code",
   "execution_count": 9,
   "metadata": {
    "execution": {
     "iopub.execute_input": "2021-04-05T14:49:18.068413Z",
     "iopub.status.busy": "2021-04-05T14:49:18.067687Z",
     "iopub.status.idle": "2021-04-05T14:49:18.070795Z",
     "shell.execute_reply": "2021-04-05T14:49:18.071209Z"
    },
    "papermill": {
     "duration": 0.022245,
     "end_time": "2021-04-05T14:49:18.071352",
     "exception": false,
     "start_time": "2021-04-05T14:49:18.049107",
     "status": "completed"
    },
    "tags": []
   },
   "outputs": [
    {
     "data": {
      "text/plain": [
       "638"
      ]
     },
     "execution_count": 9,
     "metadata": {},
     "output_type": "execute_result"
    }
   ],
   "source": [
    "len(recordings)"
   ]
  },
  {
   "cell_type": "code",
   "execution_count": 10,
   "metadata": {
    "execution": {
     "iopub.execute_input": "2021-04-05T14:49:18.103460Z",
     "iopub.status.busy": "2021-04-05T14:49:18.102657Z",
     "iopub.status.idle": "2021-04-05T14:49:18.411701Z",
     "shell.execute_reply": "2021-04-05T14:49:18.411190Z"
    },
    "papermill": {
     "duration": 0.327206,
     "end_time": "2021-04-05T14:49:18.411825",
     "exception": false,
     "start_time": "2021-04-05T14:49:18.084619",
     "status": "completed"
    },
    "tags": []
   },
   "outputs": [
    {
     "data": {
      "image/png": "[encoded data removed]",
      "text/plain": [
       "<Figure size 1440x432 with 1 Axes>"
      ]
     },
     "metadata": {
      "needs_background": "light"
     },
     "output_type": "display_data"
    }
   ],
   "source": [
    "y, _ = librosa.load(data_dir + '/' + recordings[200], sr = sr)\n",
    "begin = (len(y) - NUM_SAMPLES) // 2\n",
    "samples = y[begin:begin + NUM_SAMPLES]\n",
    "melspec = librosa.feature.melspectrogram(samples, sr=sr, n_mels = nmels)#, fmin=fmin, fmax=fmax)\n",
    "melspec = librosa.power_to_db(melspec)\n",
    "melspec = mono_to_color(melspec)\n",
    "melspec = normalize(melspec, mean=None, std=None)\n",
    "plt.figure(figsize = (20, 6))\n",
    "plt.imshow(melspec)\n",
    "plt.show()"
   ]
  },
  {
   "cell_type": "code",
   "execution_count": 11,
   "metadata": {
    "execution": {
     "iopub.execute_input": "2021-04-05T14:49:18.450668Z",
     "iopub.status.busy": "2021-04-05T14:49:18.449742Z",
     "iopub.status.idle": "2021-04-05T14:49:18.453816Z",
     "shell.execute_reply": "2021-04-05T14:49:18.453259Z"
    },
    "papermill": {
     "duration": 0.025794,
     "end_time": "2021-04-05T14:49:18.453934",
     "exception": false,
     "start_time": "2021-04-05T14:49:18.428140",
     "status": "completed"
    },
    "tags": []
   },
   "outputs": [
    {
     "data": {
      "text/plain": [
       "(128, 128)"
      ]
     },
     "execution_count": 11,
     "metadata": {},
     "output_type": "execute_result"
    }
   ],
   "source": [
    "image_size = melspec.shape\n",
    "image_size"
   ]
  },
  {
   "cell_type": "code",
   "execution_count": 12,
   "metadata": {
    "execution": {
     "iopub.execute_input": "2021-04-05T14:49:18.496158Z",
     "iopub.status.busy": "2021-04-05T14:49:18.495427Z",
     "iopub.status.idle": "2021-04-05T14:49:18.519582Z",
     "shell.execute_reply": "2021-04-05T14:49:18.519093Z"
    },
    "papermill": {
     "duration": 0.047253,
     "end_time": "2021-04-05T14:49:18.519702",
     "exception": false,
     "start_time": "2021-04-05T14:49:18.472449",
     "status": "completed"
    },
    "tags": []
   },
   "outputs": [],
   "source": [
    "melspec = torch.tensor(melspec)\n",
    "melspec = torch.stack([melspec, melspec, melspec])"
   ]
  },
  {
   "cell_type": "code",
   "execution_count": 13,
   "metadata": {
    "execution": {
     "iopub.execute_input": "2021-04-05T14:49:18.569900Z",
     "iopub.status.busy": "2021-04-05T14:49:18.569043Z",
     "iopub.status.idle": "2021-04-05T14:49:18.572173Z",
     "shell.execute_reply": "2021-04-05T14:49:18.571711Z"
    },
    "papermill": {
     "duration": 0.034123,
     "end_time": "2021-04-05T14:49:18.572289",
     "exception": false,
     "start_time": "2021-04-05T14:49:18.538166",
     "status": "completed"
    },
    "tags": []
   },
   "outputs": [],
   "source": [
    "def noise_augmentation(im, var = 0.01):\n",
    "    noise = var * torch.randn(im.shape[1], im.shape[2])\n",
    "    im[0, :, :] += noise\n",
    "    im[1, :, :] += noise\n",
    "    im[2, :, :] += noise\n",
    "    return im\n",
    "\n",
    "def shift_augmentation(image, max_shift = 10):\n",
    "    shift = np.random.randint(max_shift)\n",
    "    p = np.random.rand()\n",
    "    if p < 0.5:\n",
    "        image[:, :, shift:] = image[:, :, :image.shape[2] - shift]\n",
    "        image[:, :, :shift] = 0.0\n",
    "    else:\n",
    "        image[:, :, :image.shape[2] - shift] = image[:, :, shift:]\n",
    "        image[:, :, image.shape[2] - shift:] = 0.0\n",
    "    return image\n",
    "    \n",
    "def random_erasing(image, max_a = 7, max_b = 7):\n",
    "    a = np.random.randint(max_a)\n",
    "    b = np.random.randint(max_b)\n",
    "    a0 = np.random.randint(image.shape[1] - max_a)\n",
    "    b0 = np.random.randint(image.shape[2] - max_a)\n",
    "    image[:, a0 : a0 + a, b0 : b0 + b] = 0\n",
    "    return image\n",
    "    \n",
    "    \n",
    "def augmentation(im, mode = 'No'):\n",
    "    image = im.clone()\n",
    "    if mode == 'TimeMasking':\n",
    "        return T.TimeMasking(25)(image)\n",
    "    if mode == 'FreqMasking':\n",
    "        return T.FrequencyMasking(12)(image)\n",
    "    if mode == 'RandomErasing':\n",
    "        return random_erasing(image, 10, 10)\n",
    "    if mode == 'Shift':\n",
    "        return shift_augmentation(image)\n",
    "    if mode == 'Noise':\n",
    "        return noise_augmentation(image)\n",
    "    \n",
    "    return image"
   ]
  },
  {
   "cell_type": "code",
   "execution_count": 14,
   "metadata": {
    "execution": {
     "iopub.execute_input": "2021-04-05T14:49:18.616183Z",
     "iopub.status.busy": "2021-04-05T14:49:18.615426Z",
     "iopub.status.idle": "2021-04-05T14:49:18.618580Z",
     "shell.execute_reply": "2021-04-05T14:49:18.618090Z"
    },
    "papermill": {
     "duration": 0.027919,
     "end_time": "2021-04-05T14:49:18.618694",
     "exception": false,
     "start_time": "2021-04-05T14:49:18.590775",
     "status": "completed"
    },
    "tags": []
   },
   "outputs": [],
   "source": [
    "def get_spectrograms(filename):\n",
    "    y, _ = librosa.load(filename, sr = sr)\n",
    "    count = len(y) // NUM_SAMPLES\n",
    "    mel_spectrograms = []\n",
    "    for i in range(count):\n",
    "        samples = y[i * NUM_SAMPLES:(i + 1) * NUM_SAMPLES]\n",
    "        melspec = librosa.feature.melspectrogram(samples, sr=sr, n_mels=nmels, fmin=fmin, fmax=fmax)\n",
    "        melspec = librosa.power_to_db(melspec)\n",
    "        melspec = mono_to_color(melspec)\n",
    "        melspec = normalize(melspec, mean=None, std=None)\n",
    "        mel_spectrograms.append(torch.tensor(melspec, dtype=torch.float32))\n",
    "\n",
    "    return mel_spectrograms, count"
   ]
  },
  {
   "cell_type": "code",
   "execution_count": 15,
   "metadata": {
    "execution": {
     "iopub.execute_input": "2021-04-05T14:49:18.663637Z",
     "iopub.status.busy": "2021-04-05T14:49:18.662856Z",
     "iopub.status.idle": "2021-04-05T14:49:18.666015Z",
     "shell.execute_reply": "2021-04-05T14:49:18.665560Z"
    },
    "papermill": {
     "duration": 0.028921,
     "end_time": "2021-04-05T14:49:18.666130",
     "exception": false,
     "start_time": "2021-04-05T14:49:18.637209",
     "status": "completed"
    },
    "tags": []
   },
   "outputs": [],
   "source": [
    "class HeartbeatSounds(Dataset):\n",
    "    def __init__(self, keys, mode = 'train', data = [], labels = [], augment = False, aug_type = 'No'):\n",
    "        super().__init__()\n",
    "        self.n = len(keys)\n",
    "        self.data = []\n",
    "        self.labels = []\n",
    "        self.augment = augment\n",
    "        self.aug_type = aug_type\n",
    "        for i in keys:\n",
    "            self.data.append(data[i])\n",
    "            self.labels.append(labels[i])\n",
    "\n",
    "    def __getitem__(self, i):\n",
    "        X = self.data[i]\n",
    "        X = torch.stack([X, X, X])\n",
    "        if self.augment:\n",
    "            X = augmentation(X, self.aug_type)\n",
    "        return X, self.labels[i]\n",
    "\n",
    "    def __len__(self):\n",
    "        return self.n"
   ]
  },
  {
   "cell_type": "code",
   "execution_count": 16,
   "metadata": {
    "execution": {
     "iopub.execute_input": "2021-04-05T14:49:18.711230Z",
     "iopub.status.busy": "2021-04-05T14:49:18.710672Z",
     "iopub.status.idle": "2021-04-05T14:52:17.076774Z",
     "shell.execute_reply": "2021-04-05T14:52:17.077367Z"
    },
    "papermill": {
     "duration": 178.392654,
     "end_time": "2021-04-05T14:52:17.077618",
     "exception": false,
     "start_time": "2021-04-05T14:49:18.684964",
     "status": "completed"
    },
    "tags": []
   },
   "outputs": [],
   "source": [
    "data = []\n",
    "labels = []\n",
    "for i in range(len(recordings)):\n",
    "    if 'normal' in recordings[i]:\n",
    "        label = 0\n",
    "        mel_spectrograms, count = get_spectrograms(data_dir + '/' + recordings[i])\n",
    "        for j in range(count):\n",
    "            data.append(mel_spectrograms[j])\n",
    "            labels.append(label)\n",
    "    elif 'extrastole' in recordings[i]:\n",
    "        label = 1\n",
    "        mel_spectrograms, count = get_spectrograms(data_dir + '/' + recordings[i])\n",
    "        for j in range(count):\n",
    "            data.append(mel_spectrograms[j])\n",
    "            labels.append(label)\n",
    "    elif 'murmur' in recordings[i]:\n",
    "        label = 2\n",
    "        mel_spectrograms, count = get_spectrograms(data_dir + '/' + recordings[i])\n",
    "        for j in range(count):\n",
    "            data.append(mel_spectrograms[j])\n",
    "            labels.append(label)"
   ]
  },
  {
   "cell_type": "code",
   "execution_count": 17,
   "metadata": {
    "execution": {
     "iopub.execute_input": "2021-04-05T14:52:17.137190Z",
     "iopub.status.busy": "2021-04-05T14:52:17.136524Z",
     "iopub.status.idle": "2021-04-05T14:52:17.139632Z",
     "shell.execute_reply": "2021-04-05T14:52:17.140159Z"
    },
    "papermill": {
     "duration": 0.03708,
     "end_time": "2021-04-05T14:52:17.140352",
     "exception": false,
     "start_time": "2021-04-05T14:52:17.103272",
     "status": "completed"
    },
    "tags": []
   },
   "outputs": [],
   "source": [
    "keys = np.arange(len(data))\n",
    "train_keys, test_keys = train_test_split(keys, train_size=train_size, random_state=random_seed)\n",
    "train_keys, valid_keys = train_test_split(train_keys, train_size=train_size, random_state=random_seed)"
   ]
  },
  {
   "cell_type": "code",
   "execution_count": 18,
   "metadata": {
    "execution": {
     "iopub.execute_input": "2021-04-05T14:52:17.199409Z",
     "iopub.status.busy": "2021-04-05T14:52:17.198707Z",
     "iopub.status.idle": "2021-04-05T14:52:17.208859Z",
     "shell.execute_reply": "2021-04-05T14:52:17.209740Z"
    },
    "papermill": {
     "duration": 0.044892,
     "end_time": "2021-04-05T14:52:17.209899",
     "exception": false,
     "start_time": "2021-04-05T14:52:17.165007",
     "status": "completed"
    },
    "tags": []
   },
   "outputs": [],
   "source": [
    "def train(model, loss_fn, train_loader, valid_loader, epochs, optimizer, augment = 'No'):\n",
    "    best_model_wts = copy.deepcopy(model.state_dict())\n",
    "    best_acc = 0.0\n",
    "    train_losses = []\n",
    "    valid_losses = []\n",
    "    valid_acc = []\n",
    "    best_train_acc = 0.0\n",
    "    for epoch in range(epochs):\n",
    "        print('epoch:', epoch)\n",
    "        model.train()\n",
    "        sum_loss = 0\n",
    "        sum_accuracy = 0\n",
    "        cnt_objects = 0\n",
    "        for X, y in train_dataloader:\n",
    "            optimizer.zero_grad()\n",
    "            X = X.to(device)\n",
    "            scores = model(X)\n",
    "            loss = criterion(scores, y.to(device))\n",
    "            loss.backward()\n",
    "            optimizer.step()\n",
    "            sum_loss += float(loss) * len(y)\n",
    "            cnt_objects += len(y)\n",
    "\n",
    "        mean_loss = sum_loss / cnt_objects\n",
    "        train_losses.append(mean_loss)\n",
    "        print('Train')\n",
    "        print(mean_loss)\n",
    "\n",
    "        model.eval()\n",
    "        sum_loss = 0\n",
    "        sum_accuracy = 0\n",
    "        cnt_objects = 0\n",
    "        with torch.no_grad():\n",
    "            for X, y in valid_loader:\n",
    "                X = X.to(device)\n",
    "                scores = model(X)\n",
    "                loss = criterion(scores, y.to(device))\n",
    "                sum_loss += float(loss) * len(y)\n",
    "                preds = scores.cpu().detach().argmax(dim=1)\n",
    "                accuracy = float((y == preds).float().sum())\n",
    "                sum_accuracy += accuracy\n",
    "                cnt_objects += len(y)\n",
    "\n",
    "        print('TEST')\n",
    "        mean_loss = sum_loss / cnt_objects\n",
    "        valid_losses.append(mean_loss)\n",
    "        mean_accuracy = sum_accuracy / cnt_objects\n",
    "        valid_acc.append(mean_accuracy)\n",
    "        if mean_accuracy > best_acc:\n",
    "            best_acc = mean_accuracy\n",
    "            best_model_wts = copy.deepcopy(model.state_dict())\n",
    "        print('loss:', mean_loss)\n",
    "        print('accuracy:', mean_accuracy)\n",
    "        print('******************')\n",
    "    print('Accuracy on the validation: ', best_acc)\n",
    "    model.load_state_dict(best_model_wts)\n",
    "    return model, train_losses, valid_losses, valid_acc"
   ]
  },
  {
   "cell_type": "code",
   "execution_count": 19,
   "metadata": {
    "execution": {
     "iopub.execute_input": "2021-04-05T14:52:17.278901Z",
     "iopub.status.busy": "2021-04-05T14:52:17.277277Z",
     "iopub.status.idle": "2021-04-05T14:52:17.281166Z",
     "shell.execute_reply": "2021-04-05T14:52:17.281760Z"
    },
    "papermill": {
     "duration": 0.046922,
     "end_time": "2021-04-05T14:52:17.281971",
     "exception": false,
     "start_time": "2021-04-05T14:52:17.235049",
     "status": "completed"
    },
    "tags": []
   },
   "outputs": [],
   "source": [
    "def evaluate(model, test_loader):\n",
    "    model.eval()\n",
    "    #all_preds = []\n",
    "    sum_accuracy = 0\n",
    "    cnt_objects = 0\n",
    "    with torch.no_grad():\n",
    "        for X, y in test_loader:\n",
    "            X = X.to(device)\n",
    "            scores = model(X)\n",
    "            preds = scores.cpu().detach().argmax(dim=1)\n",
    "            accuracy = float((y == preds).float().sum())\n",
    "            sum_accuracy += accuracy\n",
    "            cnt_objects += len(y)\n",
    "            #all_preds.append(preds)\n",
    "\n",
    "    mean_accuracy = sum_accuracy / cnt_objects\n",
    "    print('Quality of the model')\n",
    "    print('accuracy:', mean_accuracy)"
   ]
  },
  {
   "cell_type": "markdown",
   "metadata": {
    "papermill": {
     "duration": 0.016305,
     "end_time": "2021-04-05T14:52:17.323694",
     "exception": false,
     "start_time": "2021-04-05T14:52:17.307389",
     "status": "completed"
    },
    "tags": []
   },
   "source": [
    "## Resnet18"
   ]
  },
  {
   "cell_type": "markdown",
   "metadata": {
    "papermill": {
     "duration": 0.016333,
     "end_time": "2021-04-05T14:52:17.356439",
     "exception": false,
     "start_time": "2021-04-05T14:52:17.340106",
     "status": "completed"
    },
    "tags": []
   },
   "source": [
    "### TimeMasking"
   ]
  },
  {
   "cell_type": "code",
   "execution_count": 20,
   "metadata": {
    "execution": {
     "iopub.execute_input": "2021-04-05T14:52:17.413666Z",
     "iopub.status.busy": "2021-04-05T14:52:17.412421Z",
     "iopub.status.idle": "2021-04-05T14:54:57.702022Z",
     "shell.execute_reply": "2021-04-05T14:54:57.701055Z"
    },
    "papermill": {
     "duration": 160.329007,
     "end_time": "2021-04-05T14:54:57.702195",
     "exception": false,
     "start_time": "2021-04-05T14:52:17.373188",
     "status": "completed"
    },
    "tags": []
   },
   "outputs": [
    {
     "name": "stdout",
     "output_type": "stream",
     "text": [
      "setting everything to seed 42\n"
     ]
    },
    {
     "name": "stderr",
     "output_type": "stream",
     "text": [
      "Downloading: \"https://download.pytorch.org/models/resnet18-5c106cde.pth\" to /root/.cache/torch/hub/checkpoints/resnet18-5c106cde.pth\n"
     ]
    },
    {
     "data": {
      "application/vnd.jupyter.widget-view+json": {
       "model_id": "5c1e0242fb0e475381cfe1907c766d82",
       "version_major": 2,
       "version_minor": 0
      },
      "text/plain": [
       "  0%|          | 0.00/44.7M [00:00<?, ?B/s]"
      ]
     },
     "metadata": {},
     "output_type": "display_data"
    },
    {
     "name": "stdout",
     "output_type": "stream",
     "text": [
      "epoch: 0\n",
      "Train\n",
      "0.8123773495482489\n",
      "TEST\n",
      "loss: 0.8128126988335261\n",
      "accuracy: 0.6730158730158731\n",
      "******************\n",
      "epoch: 1\n",
      "Train\n",
      "0.6158883243065395\n",
      "TEST\n",
      "loss: 0.6795542252442194\n",
      "accuracy: 0.746031746031746\n",
      "******************\n",
      "epoch: 2\n",
      "Train\n",
      "0.5902857173757955\n",
      "TEST\n",
      "loss: 0.7433022212414514\n",
      "accuracy: 0.7904761904761904\n",
      "******************\n",
      "epoch: 3\n",
      "Train\n",
      "0.5292406114050564\n",
      "TEST\n",
      "loss: 0.5019460504963285\n",
      "accuracy: 0.8126984126984127\n",
      "******************\n",
      "epoch: 4\n",
      "Train\n",
      "0.49398747593685216\n",
      "TEST\n",
      "loss: 0.5463368564371078\n",
      "accuracy: 0.7936507936507936\n",
      "******************\n",
      "epoch: 5\n",
      "Train\n",
      "0.4223051400909924\n",
      "TEST\n",
      "loss: 0.6319740084428636\n",
      "accuracy: 0.8126984126984127\n",
      "******************\n",
      "epoch: 6\n",
      "Train\n",
      "0.45028536124680135\n",
      "TEST\n",
      "loss: 0.5886334933931865\n",
      "accuracy: 0.7333333333333333\n",
      "******************\n",
      "epoch: 7\n",
      "Train\n",
      "0.41388325496170614\n",
      "TEST\n",
      "loss: 1.7377645201153225\n",
      "accuracy: 0.4\n",
      "******************\n",
      "epoch: 8\n",
      "Train\n",
      "0.4064071526406207\n",
      "TEST\n",
      "loss: 0.673714140956364\n",
      "accuracy: 0.765079365079365\n",
      "******************\n",
      "epoch: 9\n",
      "Train\n",
      "0.328456488083619\n",
      "TEST\n",
      "loss: 0.9279467483361562\n",
      "accuracy: 0.7746031746031746\n",
      "******************\n",
      "epoch: 10\n",
      "Train\n",
      "0.33996522237233834\n",
      "TEST\n",
      "loss: 0.9305165716579982\n",
      "accuracy: 0.5777777777777777\n",
      "******************\n",
      "epoch: 11\n",
      "Train\n",
      "0.29655669623655967\n",
      "TEST\n",
      "loss: 0.9571286741703275\n",
      "accuracy: 0.7904761904761904\n",
      "******************\n",
      "epoch: 12\n",
      "Train\n",
      "0.28332402167147924\n",
      "TEST\n",
      "loss: 0.7191746703216008\n",
      "accuracy: 0.8063492063492064\n",
      "******************\n",
      "epoch: 13\n",
      "Train\n",
      "0.24105943635851737\n",
      "TEST\n",
      "loss: 1.7760707158890983\n",
      "accuracy: 0.6253968253968254\n",
      "******************\n",
      "epoch: 14\n",
      "Train\n",
      "0.21225416126518235\n",
      "TEST\n",
      "loss: 0.6603854319405934\n",
      "accuracy: 0.7142857142857143\n",
      "******************\n",
      "epoch: 15\n",
      "Train\n",
      "0.1745086288149154\n",
      "TEST\n",
      "loss: 0.8194396794788421\n",
      "accuracy: 0.7587301587301587\n",
      "******************\n",
      "epoch: 16\n",
      "Train\n",
      "0.21235512520132602\n",
      "TEST\n",
      "loss: 1.0346185006792583\n",
      "accuracy: 0.765079365079365\n",
      "******************\n",
      "epoch: 17\n",
      "Train\n",
      "0.18529627472754032\n",
      "TEST\n",
      "loss: 1.0313035249710083\n",
      "accuracy: 0.8285714285714286\n",
      "******************\n",
      "epoch: 18\n",
      "Train\n",
      "0.19639704095360966\n",
      "TEST\n",
      "loss: 0.7854285317753988\n",
      "accuracy: 0.7206349206349206\n",
      "******************\n",
      "epoch: 19\n",
      "Train\n",
      "0.14934224046535963\n",
      "TEST\n",
      "loss: 0.7378568034323435\n",
      "accuracy: 0.746031746031746\n",
      "******************\n",
      "epoch: 20\n",
      "Train\n",
      "0.16540680009933859\n",
      "TEST\n",
      "loss: 1.0832170388055227\n",
      "accuracy: 0.692063492063492\n",
      "******************\n",
      "epoch: 21\n",
      "Train\n",
      "0.14368108786033013\n",
      "TEST\n",
      "loss: 1.028940216700236\n",
      "accuracy: 0.8222222222222222\n",
      "******************\n",
      "epoch: 22\n",
      "Train\n",
      "0.12750798771106078\n",
      "TEST\n",
      "loss: 0.708102185953231\n",
      "accuracy: 0.8031746031746032\n",
      "******************\n",
      "epoch: 23\n",
      "Train\n",
      "0.05031827943232369\n",
      "TEST\n",
      "loss: 0.8587000950934395\n",
      "accuracy: 0.765079365079365\n",
      "******************\n",
      "epoch: 24\n",
      "Train\n",
      "0.05776243766132118\n",
      "TEST\n",
      "loss: 1.185639569116017\n",
      "accuracy: 0.8095238095238095\n",
      "******************\n",
      "epoch: 25\n",
      "Train\n",
      "0.07579905652190315\n",
      "TEST\n",
      "loss: 1.4408929711296445\n",
      "accuracy: 0.7904761904761904\n",
      "******************\n",
      "epoch: 26\n",
      "Train\n",
      "0.055588300085409804\n",
      "TEST\n",
      "loss: 0.9215528778140507\n",
      "accuracy: 0.7904761904761904\n",
      "******************\n",
      "epoch: 27\n",
      "Train\n",
      "0.07204827487563405\n",
      "TEST\n",
      "loss: 0.9872457460751609\n",
      "accuracy: 0.7015873015873015\n",
      "******************\n",
      "epoch: 28\n",
      "Train\n",
      "0.10244342028603513\n",
      "TEST\n",
      "loss: 1.4392229999814714\n",
      "accuracy: 0.8158730158730159\n",
      "******************\n",
      "epoch: 29\n",
      "Train\n",
      "0.06097340891529777\n",
      "TEST\n",
      "loss: 1.3694592494813222\n",
      "accuracy: 0.780952380952381\n",
      "******************\n",
      "epoch: 30\n",
      "Train\n",
      "0.07444124406675577\n",
      "TEST\n",
      "loss: 1.838996229852949\n",
      "accuracy: 0.8063492063492064\n",
      "******************\n",
      "epoch: 31\n",
      "Train\n",
      "0.05098546129992384\n",
      "TEST\n",
      "loss: 1.1160584752521818\n",
      "accuracy: 0.6793650793650794\n",
      "******************\n",
      "epoch: 32\n",
      "Train\n",
      "0.049154801851965496\n",
      "TEST\n",
      "loss: 1.7614838180087862\n",
      "accuracy: 0.7904761904761904\n",
      "******************\n",
      "epoch: 33\n",
      "Train\n",
      "0.06228603380329084\n",
      "TEST\n",
      "loss: 1.3735520292842198\n",
      "accuracy: 0.8285714285714286\n",
      "******************\n",
      "epoch: 34\n",
      "Train\n",
      "0.07013923649375073\n",
      "TEST\n",
      "loss: 0.7981052623854743\n",
      "accuracy: 0.7968253968253968\n",
      "******************\n",
      "epoch: 35\n",
      "Train\n",
      "0.1236793496146668\n",
      "TEST\n",
      "loss: 1.9472946272956\n",
      "accuracy: 0.7523809523809524\n",
      "******************\n",
      "epoch: 36\n",
      "Train\n",
      "0.19244062914746068\n",
      "TEST\n",
      "loss: 1.9420912379310244\n",
      "accuracy: 0.8095238095238095\n",
      "******************\n",
      "epoch: 37\n",
      "Train\n",
      "0.08954224511803474\n",
      "TEST\n",
      "loss: 1.253559351629681\n",
      "accuracy: 0.819047619047619\n",
      "******************\n",
      "epoch: 38\n",
      "Train\n",
      "0.04657527404031742\n",
      "TEST\n",
      "loss: 1.2309508028484526\n",
      "accuracy: 0.8253968253968254\n",
      "******************\n",
      "epoch: 39\n",
      "Train\n",
      "0.05165822518511577\n",
      "TEST\n",
      "loss: 1.5641172204698834\n",
      "accuracy: 0.8222222222222222\n",
      "******************\n",
      "epoch: 40\n",
      "Train\n",
      "0.04349215699003224\n",
      "TEST\n",
      "loss: 1.3417907474059907\n",
      "accuracy: 0.7936507936507936\n",
      "******************\n",
      "epoch: 41\n",
      "Train\n",
      "0.03569850696042192\n",
      "TEST\n",
      "loss: 1.4642128333212838\n",
      "accuracy: 0.819047619047619\n",
      "******************\n",
      "epoch: 42\n",
      "Train\n",
      "0.06445138633578151\n",
      "TEST\n",
      "loss: 0.7462445083591673\n",
      "accuracy: 0.7523809523809524\n",
      "******************\n",
      "epoch: 43\n",
      "Train\n",
      "0.05023187316652325\n",
      "TEST\n",
      "loss: 0.8844440461151184\n",
      "accuracy: 0.780952380952381\n",
      "******************\n",
      "epoch: 44\n",
      "Train\n",
      "0.039659426800575256\n",
      "TEST\n",
      "loss: 1.1280469639906807\n",
      "accuracy: 0.765079365079365\n",
      "******************\n",
      "epoch: 45\n",
      "Train\n",
      "0.028841550766809963\n",
      "TEST\n",
      "loss: 1.3634062635520148\n",
      "accuracy: 0.8063492063492064\n",
      "******************\n",
      "epoch: 46\n",
      "Train\n",
      "0.03338312394558241\n",
      "TEST\n",
      "loss: 1.2511167859747296\n",
      "accuracy: 0.8126984126984127\n",
      "******************\n",
      "epoch: 47\n",
      "Train\n",
      "0.020805344302717646\n",
      "TEST\n",
      "loss: 1.3088787774244943\n",
      "accuracy: 0.8031746031746032\n",
      "******************\n",
      "epoch: 48\n",
      "Train\n",
      "0.02130402320743678\n",
      "TEST\n",
      "loss: 1.7827076705675275\n",
      "accuracy: 0.7396825396825397\n",
      "******************\n",
      "epoch: 49\n",
      "Train\n",
      "0.023066226941125794\n",
      "TEST\n",
      "loss: 1.0256592255736154\n",
      "accuracy: 0.8222222222222222\n",
      "******************\n",
      "epoch: 50\n",
      "Train\n",
      "0.02319517808302799\n",
      "TEST\n",
      "loss: 1.1953511574911693\n",
      "accuracy: 0.7206349206349206\n",
      "******************\n",
      "epoch: 51\n",
      "Train\n",
      "0.028591252935161137\n",
      "TEST\n",
      "loss: 1.0111260744314345\n",
      "accuracy: 0.7873015873015873\n",
      "******************\n",
      "epoch: 52\n",
      "Train\n",
      "0.006935053263296025\n",
      "TEST\n",
      "loss: 1.1432369910535358\n",
      "accuracy: 0.7904761904761904\n",
      "******************\n",
      "epoch: 53\n",
      "Train\n",
      "0.012967655482177487\n",
      "TEST\n",
      "loss: 1.5666632987204052\n",
      "accuracy: 0.8158730158730159\n",
      "******************\n",
      "epoch: 54\n",
      "Train\n",
      "0.0049237509881685515\n",
      "TEST\n",
      "loss: 1.1455815504467677\n",
      "accuracy: 0.8063492063492064\n",
      "******************\n",
      "epoch: 55\n",
      "Train\n",
      "0.005309233351932755\n",
      "TEST\n",
      "loss: 1.2133126325077481\n",
      "accuracy: 0.8222222222222222\n",
      "******************\n",
      "epoch: 56\n",
      "Train\n",
      "0.003668511774046221\n",
      "TEST\n",
      "loss: 1.288251091847344\n",
      "accuracy: 0.8444444444444444\n",
      "******************\n",
      "epoch: 57\n",
      "Train\n",
      "0.011729816545234294\n",
      "TEST\n",
      "loss: 1.6005868841731359\n",
      "accuracy: 0.7841269841269841\n",
      "******************\n",
      "epoch: 58\n",
      "Train\n",
      "0.030800599170899768\n",
      "TEST\n",
      "loss: 1.8095880171609304\n",
      "accuracy: 0.6888888888888889\n",
      "******************\n",
      "epoch: 59\n",
      "Train\n",
      "0.10933047827744503\n",
      "TEST\n",
      "loss: 4.3166179180145265\n",
      "accuracy: 0.7206349206349206\n",
      "******************\n",
      "epoch: 60\n",
      "Train\n",
      "0.09973107519795536\n",
      "TEST\n",
      "loss: 2.7538071454517423\n",
      "accuracy: 0.7428571428571429\n",
      "******************\n",
      "epoch: 61\n",
      "Train\n",
      "0.04462783944196082\n",
      "TEST\n",
      "loss: 1.2615479501466902\n",
      "accuracy: 0.7682539682539683\n",
      "******************\n",
      "epoch: 62\n",
      "Train\n",
      "0.03577260940829092\n",
      "TEST\n",
      "loss: 0.9533486038919479\n",
      "accuracy: 0.7841269841269841\n",
      "******************\n",
      "epoch: 63\n",
      "Train\n",
      "0.0118648832094485\n",
      "TEST\n",
      "loss: 1.2905795335769654\n",
      "accuracy: 0.8158730158730159\n",
      "******************\n",
      "epoch: 64\n",
      "Train\n",
      "0.006696542677624155\n",
      "TEST\n",
      "loss: 1.1033076823703827\n",
      "accuracy: 0.7936507936507936\n",
      "******************\n",
      "epoch: 65\n",
      "Train\n",
      "0.037696082992708525\n",
      "TEST\n",
      "loss: 1.9032173682772924\n",
      "accuracy: 0.780952380952381\n",
      "******************\n",
      "epoch: 66\n",
      "Train\n",
      "0.05978224673578434\n",
      "TEST\n",
      "loss: 1.038313685996192\n",
      "accuracy: 0.765079365079365\n",
      "******************\n",
      "epoch: 67\n",
      "Train\n",
      "0.04617305497486866\n",
      "TEST\n",
      "loss: 1.2792015592257182\n",
      "accuracy: 0.7873015873015873\n",
      "******************\n",
      "epoch: 68\n",
      "Train\n",
      "0.042981535535656375\n",
      "TEST\n",
      "loss: 1.592807239956326\n",
      "accuracy: 0.6698412698412698\n",
      "******************\n",
      "epoch: 69\n",
      "Train\n",
      "0.032701264327130115\n",
      "TEST\n",
      "loss: 0.9829236357931107\n",
      "accuracy: 0.7428571428571429\n",
      "******************\n",
      "Accuracy on the validation:  0.8444444444444444\n"
     ]
    }
   ],
   "source": [
    "seed_everything(42)\n",
    "\n",
    "train_dataset = HeartbeatSounds(mode='train', data = data, labels = labels, augment = True, aug_type = 'TimeMasking', keys = train_keys)\n",
    "valid_dataset = HeartbeatSounds(mode='valid', data = data, labels = labels, keys = valid_keys)\n",
    "test_dataset = HeartbeatSounds(mode='test', data = data, labels = labels, keys = test_keys)\n",
    "\n",
    "train_dataloader = DataLoader(train_dataset, batch_size=batch_size, shuffle=True)\n",
    "valid_dataloader = DataLoader(valid_dataset, batch_size=batch_size, shuffle=False)\n",
    "test_dataloader = DataLoader(test_dataset, batch_size=batch_size, shuffle=False)\n",
    "\n",
    "model = resnet18(pretrained=True)\n",
    "num_ftrs = model.fc.in_features\n",
    "model.fc = torch.nn.Linear(num_ftrs, 3)\n",
    "model = model.to(device)\n",
    "\n",
    "epochs = 70\n",
    "criterion = torch.nn.CrossEntropyLoss()\n",
    "optimizer = torch.optim.Adam(model.parameters())\n",
    "\n",
    "model, train_losses, valid_losses, valid_acc = train(model, criterion, train_dataloader, valid_dataloader, epochs, optimizer)"
   ]
  },
  {
   "cell_type": "code",
   "execution_count": 21,
   "metadata": {
    "execution": {
     "iopub.execute_input": "2021-04-05T14:54:57.778322Z",
     "iopub.status.busy": "2021-04-05T14:54:57.777205Z",
     "iopub.status.idle": "2021-04-05T14:54:57.971968Z",
     "shell.execute_reply": "2021-04-05T14:54:57.972696Z"
    },
    "papermill": {
     "duration": 0.234574,
     "end_time": "2021-04-05T14:54:57.972889",
     "exception": false,
     "start_time": "2021-04-05T14:54:57.738315",
     "status": "completed"
    },
    "tags": []
   },
   "outputs": [
    {
     "name": "stdout",
     "output_type": "stream",
     "text": [
      "Quality of the model\n",
      "accuracy: 0.8274111675126904\n"
     ]
    }
   ],
   "source": [
    "evaluate(model, test_dataloader)"
   ]
  },
  {
   "cell_type": "code",
   "execution_count": 22,
   "metadata": {
    "execution": {
     "iopub.execute_input": "2021-04-05T14:54:58.065574Z",
     "iopub.status.busy": "2021-04-05T14:54:58.064743Z",
     "iopub.status.idle": "2021-04-05T14:54:58.195230Z",
     "shell.execute_reply": "2021-04-05T14:54:58.195656Z"
    },
    "papermill": {
     "duration": 0.185993,
     "end_time": "2021-04-05T14:54:58.195792",
     "exception": false,
     "start_time": "2021-04-05T14:54:58.009799",
     "status": "completed"
    },
    "tags": []
   },
   "outputs": [
    {
     "data": {
      "image/png": "[encoded data removed]",
      "text/plain": [
       "<Figure size 432x288 with 1 Axes>"
      ]
     },
     "metadata": {
      "needs_background": "light"
     },
     "output_type": "display_data"
    }
   ],
   "source": [
    "plt.plot(np.arange(epochs), train_losses, label = 'train_loss')\n",
    "plt.plot(np.arange(epochs), valid_losses, label = 'valid_loss')\n",
    "plt.plot(np.arange(epochs), valid_acc, label = 'valid_accuracy')\n",
    "plt.legend()\n",
    "plt.show()"
   ]
  }
 ],
 "metadata": {
  "kernelspec": {
   "display_name": "Python 3",
   "language": "python",
   "name": "python3"
  },
  "language_info": {
   "codemirror_mode": {
    "name": "ipython",
    "version": 3
   },
   "file_extension": ".py",
   "mimetype": "text/x-python",
   "name": "python",
   "nbconvert_exporter": "python",
   "pygments_lexer": "ipython3",
   "version": "3.7.9"
  },
  "papermill": {
   "default_parameters": {},
   "duration": 536.878993,
   "end_time": "2021-04-05T14:55:00.521078",
   "environment_variables": {},
   "exception": null,
   "input_path": "__notebook__.ipynb",
   "output_path": "__notebook__.ipynb",
   "parameters": {},
   "start_time": "2021-04-05T14:46:03.642085",
   "version": "2.2.2"
  },
  "widgets": {
   "application/vnd.jupyter.widget-state+json": {
    "state": {
     "0b5b1ecbafc04f73b63e2766462a6e82": {
      "model_module": "@jupyter-widgets/controls",
      "model_module_version": "1.5.0",
      "model_name": "FloatProgressModel",
      "state": {
       "_dom_classes": [],
       "_model_module": "@jupyter-widgets/controls",
       "_model_module_version": "1.5.0",
       "_model_name": "FloatProgressModel",
       "_view_count": null,
       "_view_module": "@jupyter-widgets/controls",
       "_view_module_version": "1.5.0",
       "_view_name": "ProgressView",
       "bar_style": "success",
       "description": "",
       "description_tooltip": null,
       "layout": "IPY_MODEL_1d8d130d29664b1eaa43923c96857dcf",
       "max": 46827520.0,
       "min": 0.0,
       "orientation": "horizontal",
       "style": "IPY_MODEL_0cc6f7ff341848a1a966ee01d610de14",
       "value": 46827520.0
      }
     },
     "0cc6f7ff341848a1a966ee01d610de14": {
      "model_module": "@jupyter-widgets/controls",
      "model_module_version": "1.5.0",
      "model_name": "ProgressStyleModel",
      "state": {
       "_model_module": "@jupyter-widgets/controls",
       "_model_module_version": "1.5.0",
       "_model_name": "ProgressStyleModel",
       "_view_count": null,
       "_view_module": "@jupyter-widgets/base",
       "_view_module_version": "1.2.0",
       "_view_name": "StyleView",
       "bar_color": null,
       "description_width": ""
      }
     },
     "1baa3d2129954edab608f8bc147f7146": {
      "model_module": "@jupyter-widgets/controls",
      "model_module_version": "1.5.0",
      "model_name": "DescriptionStyleModel",
      "state": {
       "_model_module": "@jupyter-widgets/controls",
       "_model_module_version": "1.5.0",
       "_model_name": "DescriptionStyleModel",
       "_view_count": null,
       "_view_module": "@jupyter-widgets/base",
       "_view_module_version": "1.2.0",
       "_view_name": "StyleView",
       "description_width": ""
      }
     },
     "1d8d130d29664b1eaa43923c96857dcf": {
      "model_module": "@jupyter-widgets/base",
      "model_module_version": "1.2.0",
      "model_name": "LayoutModel",
      "state": {
       "_model_module": "@jupyter-widgets/base",
       "_model_module_version": "1.2.0",
       "_model_name": "LayoutModel",
       "_view_count": null,
       "_view_module": "@jupyter-widgets/base",
       "_view_module_version": "1.2.0",
       "_view_name": "LayoutView",
       "align_content": null,
       "align_items": null,
       "align_self": null,
       "border": null,
       "bottom": null,
       "display": null,
       "flex": null,
       "flex_flow": null,
       "grid_area": null,
       "grid_auto_columns": null,
       "grid_auto_flow": null,
       "grid_auto_rows": null,
       "grid_column": null,
       "grid_gap": null,
       "grid_row": null,
       "grid_template_areas": null,
       "grid_template_columns": null,
       "grid_template_rows": null,
       "height": null,
       "justify_content": null,
       "justify_items": null,
       "left": null,
       "margin": null,
       "max_height": null,
       "max_width": null,
       "min_height": null,
       "min_width": null,
       "object_fit": null,
       "object_position": null,
       "order": null,
       "overflow": null,
       "overflow_x": null,
       "overflow_y": null,
       "padding": null,
       "right": null,
       "top": null,
       "visibility": null,
       "width": null
      }
     },
     "51f87365078a46d5bafd3fe91d253dd7": {
      "model_module": "@jupyter-widgets/controls",
      "model_module_version": "1.5.0",
      "model_name": "DescriptionStyleModel",
      "state": {
       "_model_module": "@jupyter-widgets/controls",
       "_model_module_version": "1.5.0",
       "_model_name": "DescriptionStyleModel",
       "_view_count": null,
       "_view_module": "@jupyter-widgets/base",
       "_view_module_version": "1.2.0",
       "_view_name": "StyleView",
       "description_width": ""
      }
     },
     "5af3da12c4744e00a1c71c3ce56533e2": {
      "model_module": "@jupyter-widgets/controls",
      "model_module_version": "1.5.0",
      "model_name": "HTMLModel",
      "state": {
       "_dom_classes": [],
       "_model_module": "@jupyter-widgets/controls",
       "_model_module_version": "1.5.0",
       "_model_name": "HTMLModel",
       "_view_count": null,
       "_view_module": "@jupyter-widgets/controls",
       "_view_module_version": "1.5.0",
       "_view_name": "HTMLView",
       "description": "",
       "description_tooltip": null,
       "layout": "IPY_MODEL_6d5d306fc6d74dc9b926093daae2870b",
       "placeholder": "​",
       "style": "IPY_MODEL_51f87365078a46d5bafd3fe91d253dd7",
       "value": " 44.7M/44.7M [00:02&lt;00:00, 23.6MB/s]"
      }
     },
     "5c1e0242fb0e475381cfe1907c766d82": {
      "model_module": "@jupyter-widgets/controls",
      "model_module_version": "1.5.0",
      "model_name": "HBoxModel",
      "state": {
       "_dom_classes": [],
       "_model_module": "@jupyter-widgets/controls",
       "_model_module_version": "1.5.0",
       "_model_name": "HBoxModel",
       "_view_count": null,
       "_view_module": "@jupyter-widgets/controls",
       "_view_module_version": "1.5.0",
       "_view_name": "HBoxView",
       "box_style": "",
       "children": [
        "IPY_MODEL_6070c9d0a68c468a81c65a30974fb3c9",
        "IPY_MODEL_0b5b1ecbafc04f73b63e2766462a6e82",
        "IPY_MODEL_5af3da12c4744e00a1c71c3ce56533e2"
       ],
       "layout": "IPY_MODEL_5d3b38b67795436a9cc521734d9ac8be"
      }
     },
     "5d3b38b67795436a9cc521734d9ac8be": {
      "model_module": "@jupyter-widgets/base",
      "model_module_version": "1.2.0",
      "model_name": "LayoutModel",
      "state": {
       "_model_module": "@jupyter-widgets/base",
       "_model_module_version": "1.2.0",
       "_model_name": "LayoutModel",
       "_view_count": null,
       "_view_module": "@jupyter-widgets/base",
       "_view_module_version": "1.2.0",
       "_view_name": "LayoutView",
       "align_content": null,
       "align_items": null,
       "align_self": null,
       "border": null,
       "bottom": null,
       "display": null,
       "flex": null,
       "flex_flow": null,
       "grid_area": null,
       "grid_auto_columns": null,
       "grid_auto_flow": null,
       "grid_auto_rows": null,
       "grid_column": null,
       "grid_gap": null,
       "grid_row": null,
       "grid_template_areas": null,
       "grid_template_columns": null,
       "grid_template_rows": null,
       "height": null,
       "justify_content": null,
       "justify_items": null,
       "left": null,
       "margin": null,
       "max_height": null,
       "max_width": null,
       "min_height": null,
       "min_width": null,
       "object_fit": null,
       "object_position": null,
       "order": null,
       "overflow": null,
       "overflow_x": null,
       "overflow_y": null,
       "padding": null,
       "right": null,
       "top": null,
       "visibility": null,
       "width": null
      }
     },
     "6070c9d0a68c468a81c65a30974fb3c9": {
      "model_module": "@jupyter-widgets/controls",
      "model_module_version": "1.5.0",
      "model_name": "HTMLModel",
      "state": {
       "_dom_classes": [],
       "_model_module": "@jupyter-widgets/controls",
       "_model_module_version": "1.5.0",
       "_model_name": "HTMLModel",
       "_view_count": null,
       "_view_module": "@jupyter-widgets/controls",
       "_view_module_version": "1.5.0",
       "_view_name": "HTMLView",
       "description": "",
       "description_tooltip": null,
       "layout": "IPY_MODEL_c58752ad23d442c2844487ace48e9d0f",
       "placeholder": "​",
       "style": "IPY_MODEL_1baa3d2129954edab608f8bc147f7146",
       "value": "100%"
      }
     },
     "6d5d306fc6d74dc9b926093daae2870b": {
      "model_module": "@jupyter-widgets/base",
      "model_module_version": "1.2.0",
      "model_name": "LayoutModel",
      "state": {
       "_model_module": "@jupyter-widgets/base",
       "_model_module_version": "1.2.0",
       "_model_name": "LayoutModel",
       "_view_count": null,
       "_view_module": "@jupyter-widgets/base",
       "_view_module_version": "1.2.0",
       "_view_name": "LayoutView",
       "align_content": null,
       "align_items": null,
       "align_self": null,
       "border": null,
       "bottom": null,
       "display": null,
       "flex": null,
       "flex_flow": null,
       "grid_area": null,
       "grid_auto_columns": null,
       "grid_auto_flow": null,
       "grid_auto_rows": null,
       "grid_column": null,
       "grid_gap": null,
       "grid_row": null,
       "grid_template_areas": null,
       "grid_template_columns": null,
       "grid_template_rows": null,
       "height": null,
       "justify_content": null,
       "justify_items": null,
       "left": null,
       "margin": null,
       "max_height": null,
       "max_width": null,
       "min_height": null,
       "min_width": null,
       "object_fit": null,
       "object_position": null,
       "order": null,
       "overflow": null,
       "overflow_x": null,
       "overflow_y": null,
       "padding": null,
       "right": null,
       "top": null,
       "visibility": null,
       "width": null
      }
     },
     "c58752ad23d442c2844487ace48e9d0f": {
      "model_module": "@jupyter-widgets/base",
      "model_module_version": "1.2.0",
      "model_name": "LayoutModel",
      "state": {
       "_model_module": "@jupyter-widgets/base",
       "_model_module_version": "1.2.0",
       "_model_name": "LayoutModel",
       "_view_count": null,
       "_view_module": "@jupyter-widgets/base",
       "_view_module_version": "1.2.0",
       "_view_name": "LayoutView",
       "align_content": null,
       "align_items": null,
       "align_self": null,
       "border": null,
       "bottom": null,
       "display": null,
       "flex": null,
       "flex_flow": null,
       "grid_area": null,
       "grid_auto_columns": null,
       "grid_auto_flow": null,
       "grid_auto_rows": null,
       "grid_column": null,
       "grid_gap": null,
       "grid_row": null,
       "grid_template_areas": null,
       "grid_template_columns": null,
       "grid_template_rows": null,
       "height": null,
       "justify_content": null,
       "justify_items": null,
       "left": null,
       "margin": null,
       "max_height": null,
       "max_width": null,
       "min_height": null,
       "min_width": null,
       "object_fit": null,
       "object_position": null,
       "order": null,
       "overflow": null,
       "overflow_x": null,
       "overflow_y": null,
       "padding": null,
       "right": null,
       "top": null,
       "visibility": null,
       "width": null
      }
     }
    },
    "version_major": 2,
    "version_minor": 0
   }
  }
 },
 "nbformat": 4,
 "nbformat_minor": 4
}
