{
 "cells": [
  {
   "cell_type": "code",
   "execution_count": 1,
   "metadata": {
    "_cell_guid": "b1076dfc-b9ad-4769-8c92-a6c4dae69d19",
    "_uuid": "8f2839f25d086af736a60e9eeb907d3b93b6e0e5",
    "execution": {
     "iopub.execute_input": "2021-04-05T16:04:47.324631Z",
     "iopub.status.busy": "2021-04-05T16:04:47.324069Z",
     "iopub.status.idle": "2021-04-05T16:04:51.469529Z",
     "shell.execute_reply": "2021-04-05T16:04:51.469962Z"
    },
    "papermill": {
     "duration": 4.165015,
     "end_time": "2021-04-05T16:04:51.470242",
     "exception": false,
     "start_time": "2021-04-05T16:04:47.305227",
     "status": "completed"
    },
    "tags": []
   },
   "outputs": [
    {
     "name": "stderr",
     "output_type": "stream",
     "text": [
      "/opt/conda/lib/python3.7/site-packages/torchaudio/backend/utils.py:54: UserWarning: \"sox\" backend is being deprecated. The default backend will be changed to \"sox_io\" backend in 0.8.0 and \"sox\" backend will be removed in 0.9.0. Please migrate to \"sox_io\" backend. Please refer to https://github.com/pytorch/audio/issues/903 for the detail.\n",
      "  '\"sox\" backend is being deprecated. '\n"
     ]
    }
   ],
   "source": [
    "import numpy as np\n",
    "import matplotlib.pyplot as plt\n",
    "from sklearn.model_selection import train_test_split\n",
    "import librosa\n",
    "import librosa.display\n",
    "import os\n",
    "import copy\n",
    "import torch\n",
    "from torch.utils.data import Dataset, DataLoader\n",
    "import random\n",
    "import skimage.io as io\n",
    "import pandas as pd\n",
    "import torchaudio.transforms as T\n",
    "from torchvision.models import resnet18\n",
    "from tqdm import tqdm"
   ]
  },
  {
   "cell_type": "code",
   "execution_count": 2,
   "metadata": {
    "execution": {
     "iopub.execute_input": "2021-04-05T16:04:51.502110Z",
     "iopub.status.busy": "2021-04-05T16:04:51.500708Z",
     "iopub.status.idle": "2021-04-05T16:04:51.502822Z",
     "shell.execute_reply": "2021-04-05T16:04:51.503247Z"
    },
    "papermill": {
     "duration": 0.02047,
     "end_time": "2021-04-05T16:04:51.503481",
     "exception": false,
     "start_time": "2021-04-05T16:04:51.483011",
     "status": "completed"
    },
    "tags": []
   },
   "outputs": [],
   "source": [
    "def seed_everything(seed=42):\n",
    "    print(f'setting everything to seed {seed}')\n",
    "    random.seed(seed)\n",
    "    os.environ['PYTHONHASHSEED'] = str(seed)\n",
    "    np.random.seed(seed)\n",
    "    torch.manual_seed(seed)\n",
    "    torch.cuda.manual_seed(seed)\n",
    "    torch.backends.cudnn.deterministic = True\n",
    "    torch.cuda.empty_cache()"
   ]
  },
  {
   "cell_type": "code",
   "execution_count": 3,
   "metadata": {
    "execution": {
     "iopub.execute_input": "2021-04-05T16:04:51.533902Z",
     "iopub.status.busy": "2021-04-05T16:04:51.533207Z",
     "iopub.status.idle": "2021-04-05T16:04:51.535609Z",
     "shell.execute_reply": "2021-04-05T16:04:51.536061Z"
    },
    "papermill": {
     "duration": 0.020004,
     "end_time": "2021-04-05T16:04:51.536204",
     "exception": false,
     "start_time": "2021-04-05T16:04:51.516200",
     "status": "completed"
    },
    "tags": []
   },
   "outputs": [],
   "source": [
    "device = torch.device('cuda:0')"
   ]
  },
  {
   "cell_type": "code",
   "execution_count": 4,
   "metadata": {
    "execution": {
     "iopub.execute_input": "2021-04-05T16:04:51.565074Z",
     "iopub.status.busy": "2021-04-05T16:04:51.564261Z",
     "iopub.status.idle": "2021-04-05T16:04:51.566772Z",
     "shell.execute_reply": "2021-04-05T16:04:51.567236Z"
    },
    "papermill": {
     "duration": 0.018583,
     "end_time": "2021-04-05T16:04:51.567363",
     "exception": false,
     "start_time": "2021-04-05T16:04:51.548780",
     "status": "completed"
    },
    "tags": []
   },
   "outputs": [],
   "source": [
    "data_dir = '//kaggle/input/heartbeat-sounds/set_b'\n",
    "file_csv = '/kaggle/input/heartbeat-sounds/set_b.csv'"
   ]
  },
  {
   "cell_type": "code",
   "execution_count": 5,
   "metadata": {
    "execution": {
     "iopub.execute_input": "2021-04-05T16:04:51.600457Z",
     "iopub.status.busy": "2021-04-05T16:04:51.599718Z",
     "iopub.status.idle": "2021-04-05T16:04:51.602034Z",
     "shell.execute_reply": "2021-04-05T16:04:51.602545Z"
    },
    "papermill": {
     "duration": 0.022621,
     "end_time": "2021-04-05T16:04:51.602670",
     "exception": false,
     "start_time": "2021-04-05T16:04:51.580049",
     "status": "completed"
    },
    "tags": []
   },
   "outputs": [],
   "source": [
    "def mono_to_color(X, eps=1e-6, mean=None, std=None):\n",
    "    # Standardize\n",
    "    mean = mean or X.mean()\n",
    "    std = std or X.std()\n",
    "    X = (X - mean) / (std + eps)\n",
    "    # Normalize to [0, 255]\n",
    "    _min, _max = X.min(), X.max()\n",
    "    if (_max - _min) > eps:\n",
    "        V = np.clip(X, _min, _max)\n",
    "        V = 255 * (V - _min) / (_max - _min)\n",
    "        V = V.astype(np.uint8)\n",
    "    else:\n",
    "        V = np.zeros_like(X, dtype=np.uint8)\n",
    "    return V\n",
    "\n",
    "def normalize(image, mean=None, std=None):\n",
    "    image = image / 255.0\n",
    "    if mean is not None and std is not None:\n",
    "        image = (image - mean) / std\n",
    "    return image.astype(np.float32)"
   ]
  },
  {
   "cell_type": "code",
   "execution_count": 6,
   "metadata": {
    "execution": {
     "iopub.execute_input": "2021-04-05T16:04:51.633313Z",
     "iopub.status.busy": "2021-04-05T16:04:51.632604Z",
     "iopub.status.idle": "2021-04-05T16:04:51.635007Z",
     "shell.execute_reply": "2021-04-05T16:04:51.635474Z"
    },
    "papermill": {
     "duration": 0.019914,
     "end_time": "2021-04-05T16:04:51.635606",
     "exception": false,
     "start_time": "2021-04-05T16:04:51.615692",
     "status": "completed"
    },
    "tags": []
   },
   "outputs": [],
   "source": [
    "NUM_SAMPLES = 65500\n",
    "sr = 48000\n",
    "fmin = 84\n",
    "fmax = sr // 2\n",
    "nmels = 128\n",
    "batch_size = 32\n",
    "random_seed = 42\n",
    "train_size = 0.8"
   ]
  },
  {
   "cell_type": "code",
   "execution_count": 7,
   "metadata": {
    "execution": {
     "iopub.execute_input": "2021-04-05T16:04:51.664627Z",
     "iopub.status.busy": "2021-04-05T16:04:51.664016Z",
     "iopub.status.idle": "2021-04-05T16:04:51.752315Z",
     "shell.execute_reply": "2021-04-05T16:04:51.754335Z"
    },
    "papermill": {
     "duration": 0.106706,
     "end_time": "2021-04-05T16:04:51.755243",
     "exception": false,
     "start_time": "2021-04-05T16:04:51.648537",
     "status": "completed"
    },
    "tags": []
   },
   "outputs": [],
   "source": [
    "recordings_old = sorted(os.listdir(data_dir))"
   ]
  },
  {
   "cell_type": "code",
   "execution_count": 8,
   "metadata": {
    "execution": {
     "iopub.execute_input": "2021-04-05T16:04:51.808561Z",
     "iopub.status.busy": "2021-04-05T16:04:51.807831Z",
     "iopub.status.idle": "2021-04-05T16:08:03.040046Z",
     "shell.execute_reply": "2021-04-05T16:08:03.039538Z"
    },
    "papermill": {
     "duration": 191.259124,
     "end_time": "2021-04-05T16:08:03.040215",
     "exception": false,
     "start_time": "2021-04-05T16:04:51.781091",
     "status": "completed"
    },
    "tags": []
   },
   "outputs": [],
   "source": [
    "recordings = []\n",
    "for x in recordings_old:\n",
    "    y, _ = librosa.load(data_dir + '/' + x, sr = sr)\n",
    "    if y.shape[0] >= NUM_SAMPLES:\n",
    "        recordings.append(x)"
   ]
  },
  {
   "cell_type": "code",
   "execution_count": 9,
   "metadata": {
    "execution": {
     "iopub.execute_input": "2021-04-05T16:08:03.073229Z",
     "iopub.status.busy": "2021-04-05T16:08:03.072688Z",
     "iopub.status.idle": "2021-04-05T16:08:03.077614Z",
     "shell.execute_reply": "2021-04-05T16:08:03.078015Z"
    },
    "papermill": {
     "duration": 0.024163,
     "end_time": "2021-04-05T16:08:03.078142",
     "exception": false,
     "start_time": "2021-04-05T16:08:03.053979",
     "status": "completed"
    },
    "tags": []
   },
   "outputs": [
    {
     "data": {
      "text/plain": [
       "638"
      ]
     },
     "execution_count": 9,
     "metadata": {},
     "output_type": "execute_result"
    }
   ],
   "source": [
    "len(recordings)"
   ]
  },
  {
   "cell_type": "code",
   "execution_count": 10,
   "metadata": {
    "execution": {
     "iopub.execute_input": "2021-04-05T16:08:03.110302Z",
     "iopub.status.busy": "2021-04-05T16:08:03.109511Z",
     "iopub.status.idle": "2021-04-05T16:08:03.424001Z",
     "shell.execute_reply": "2021-04-05T16:08:03.423523Z"
    },
    "papermill": {
     "duration": 0.332573,
     "end_time": "2021-04-05T16:08:03.424122",
     "exception": false,
     "start_time": "2021-04-05T16:08:03.091549",
     "status": "completed"
    },
    "tags": []
   },
   "outputs": [
    {
     "data": {
      "image/png": "[encoded data removed]",
      "text/plain": [
       "<Figure size 1440x432 with 1 Axes>"
      ]
     },
     "metadata": {
      "needs_background": "light"
     },
     "output_type": "display_data"
    }
   ],
   "source": [
    "y, _ = librosa.load(data_dir + '/' + recordings[200], sr = sr)\n",
    "begin = (len(y) - NUM_SAMPLES) // 2\n",
    "samples = y[begin:begin + NUM_SAMPLES]\n",
    "melspec = librosa.feature.melspectrogram(samples, sr=sr, n_mels = nmels)#, fmin=fmin, fmax=fmax)\n",
    "melspec = librosa.power_to_db(melspec)\n",
    "melspec = mono_to_color(melspec)\n",
    "melspec = normalize(melspec, mean=None, std=None)\n",
    "plt.figure(figsize = (20, 6))\n",
    "plt.imshow(melspec)\n",
    "plt.show()"
   ]
  },
  {
   "cell_type": "code",
   "execution_count": 11,
   "metadata": {
    "execution": {
     "iopub.execute_input": "2021-04-05T16:08:03.459125Z",
     "iopub.status.busy": "2021-04-05T16:08:03.458365Z",
     "iopub.status.idle": "2021-04-05T16:08:03.461606Z",
     "shell.execute_reply": "2021-04-05T16:08:03.462086Z"
    },
    "papermill": {
     "duration": 0.022648,
     "end_time": "2021-04-05T16:08:03.462226",
     "exception": false,
     "start_time": "2021-04-05T16:08:03.439578",
     "status": "completed"
    },
    "tags": []
   },
   "outputs": [
    {
     "data": {
      "text/plain": [
       "(128, 128)"
      ]
     },
     "execution_count": 11,
     "metadata": {},
     "output_type": "execute_result"
    }
   ],
   "source": [
    "image_size = melspec.shape\n",
    "image_size"
   ]
  },
  {
   "cell_type": "code",
   "execution_count": 12,
   "metadata": {
    "execution": {
     "iopub.execute_input": "2021-04-05T16:08:03.498239Z",
     "iopub.status.busy": "2021-04-05T16:08:03.497701Z",
     "iopub.status.idle": "2021-04-05T16:08:03.526079Z",
     "shell.execute_reply": "2021-04-05T16:08:03.525593Z"
    },
    "papermill": {
     "duration": 0.048389,
     "end_time": "2021-04-05T16:08:03.526207",
     "exception": false,
     "start_time": "2021-04-05T16:08:03.477818",
     "status": "completed"
    },
    "tags": []
   },
   "outputs": [],
   "source": [
    "melspec = torch.tensor(melspec)\n",
    "melspec = torch.stack([melspec, melspec, melspec])"
   ]
  },
  {
   "cell_type": "code",
   "execution_count": 13,
   "metadata": {
    "execution": {
     "iopub.execute_input": "2021-04-05T16:08:03.569336Z",
     "iopub.status.busy": "2021-04-05T16:08:03.568527Z",
     "iopub.status.idle": "2021-04-05T16:08:03.570797Z",
     "shell.execute_reply": "2021-04-05T16:08:03.571244Z"
    },
    "papermill": {
     "duration": 0.029337,
     "end_time": "2021-04-05T16:08:03.571374",
     "exception": false,
     "start_time": "2021-04-05T16:08:03.542037",
     "status": "completed"
    },
    "tags": []
   },
   "outputs": [],
   "source": [
    "def noise_augmentation(im, var = 0.01):\n",
    "    noise = var * torch.randn(im.shape[1], im.shape[2])\n",
    "    im[0, :, :] += noise\n",
    "    im[1, :, :] += noise\n",
    "    im[2, :, :] += noise\n",
    "    return im\n",
    "\n",
    "def shift_augmentation(image, max_shift = 10):\n",
    "    shift = np.random.randint(max_shift)\n",
    "    p = np.random.rand()\n",
    "    if p < 0.5:\n",
    "        image[:, :, shift:] = image[:, :, :image.shape[2] - shift]\n",
    "        image[:, :, :shift] = 0.0\n",
    "    else:\n",
    "        image[:, :, :image.shape[2] - shift] = image[:, :, shift:]\n",
    "        image[:, :, image.shape[2] - shift:] = 0.0\n",
    "    return image\n",
    "    \n",
    "def random_erasing(image, max_a = 10, max_b = 10):\n",
    "    a = np.random.randint(max_a)\n",
    "    b = np.random.randint(max_b)\n",
    "    a0 = np.random.randint(image.shape[1] - max_a)\n",
    "    b0 = np.random.randint(image.shape[2] - max_a)\n",
    "    image[:, a0 : a0 + a, b0 : b0 + b] = 0\n",
    "    return image\n",
    "    \n",
    "    \n",
    "def augmentation(im, mode = 'No'):\n",
    "    image = im.clone()\n",
    "    if mode == 'TimeMasking':\n",
    "        return T.TimeMasking(25)(image)\n",
    "    if mode == 'FreqMasking':\n",
    "        return T.FrequencyMasking(12)(image)\n",
    "    if mode == 'RandomErasing':\n",
    "        return random_erasing(image, 10, 10)\n",
    "    if mode == 'Shift':\n",
    "        return shift_augmentation(image)\n",
    "    if mode == 'Noise':\n",
    "        return noise_augmentation(image)\n",
    "    \n",
    "    return image"
   ]
  },
  {
   "cell_type": "code",
   "execution_count": 14,
   "metadata": {
    "execution": {
     "iopub.execute_input": "2021-04-05T16:08:03.609163Z",
     "iopub.status.busy": "2021-04-05T16:08:03.608500Z",
     "iopub.status.idle": "2021-04-05T16:08:03.611540Z",
     "shell.execute_reply": "2021-04-05T16:08:03.611125Z"
    },
    "papermill": {
     "duration": 0.024369,
     "end_time": "2021-04-05T16:08:03.611649",
     "exception": false,
     "start_time": "2021-04-05T16:08:03.587280",
     "status": "completed"
    },
    "tags": []
   },
   "outputs": [],
   "source": [
    "def get_spectrograms(filename):\n",
    "    y, _ = librosa.load(filename, sr = sr)\n",
    "    count = len(y) // NUM_SAMPLES\n",
    "    mel_spectrograms = []\n",
    "    for i in range(count):\n",
    "        samples = y[i * NUM_SAMPLES:(i + 1) * NUM_SAMPLES]\n",
    "        melspec = librosa.feature.melspectrogram(samples, sr=sr, n_mels=nmels, fmin=fmin, fmax=fmax)\n",
    "        melspec = librosa.power_to_db(melspec)\n",
    "        melspec = mono_to_color(melspec)\n",
    "        melspec = normalize(melspec, mean=None, std=None)\n",
    "        mel_spectrograms.append(torch.tensor(melspec, dtype=torch.float32))\n",
    "\n",
    "    return mel_spectrograms, count"
   ]
  },
  {
   "cell_type": "code",
   "execution_count": 15,
   "metadata": {
    "execution": {
     "iopub.execute_input": "2021-04-05T16:08:03.650096Z",
     "iopub.status.busy": "2021-04-05T16:08:03.649450Z",
     "iopub.status.idle": "2021-04-05T16:08:03.652362Z",
     "shell.execute_reply": "2021-04-05T16:08:03.651952Z"
    },
    "papermill": {
     "duration": 0.025037,
     "end_time": "2021-04-05T16:08:03.652471",
     "exception": false,
     "start_time": "2021-04-05T16:08:03.627434",
     "status": "completed"
    },
    "tags": []
   },
   "outputs": [],
   "source": [
    "class HeartbeatSounds(Dataset):\n",
    "    def __init__(self, keys, mode = 'train', data = [], labels = [], augment = False, aug_type = 'No'):\n",
    "        super().__init__()\n",
    "        self.n = len(keys)\n",
    "        self.data = []\n",
    "        self.labels = []\n",
    "        self.augment = augment\n",
    "        self.aug_type = aug_type\n",
    "        for i in keys:\n",
    "            self.data.append(data[i])\n",
    "            self.labels.append(labels[i])\n",
    "\n",
    "    def __getitem__(self, i):\n",
    "        X = self.data[i]\n",
    "        X = torch.stack([X, X, X])\n",
    "        if self.augment:\n",
    "            X = augmentation(X, self.aug_type)\n",
    "        return X, self.labels[i]\n",
    "\n",
    "    def __len__(self):\n",
    "        return self.n"
   ]
  },
  {
   "cell_type": "code",
   "execution_count": 16,
   "metadata": {
    "execution": {
     "iopub.execute_input": "2021-04-05T16:08:03.690966Z",
     "iopub.status.busy": "2021-04-05T16:08:03.690473Z",
     "iopub.status.idle": "2021-04-05T16:11:06.686370Z",
     "shell.execute_reply": "2021-04-05T16:11:06.686950Z"
    },
    "papermill": {
     "duration": 183.018705,
     "end_time": "2021-04-05T16:11:06.687174",
     "exception": false,
     "start_time": "2021-04-05T16:08:03.668469",
     "status": "completed"
    },
    "tags": []
   },
   "outputs": [],
   "source": [
    "data = []\n",
    "labels = []\n",
    "for i in range(len(recordings)):\n",
    "    if 'normal' in recordings[i]:\n",
    "        label = 0\n",
    "        mel_spectrograms, count = get_spectrograms(data_dir + '/' + recordings[i])\n",
    "        for j in range(count):\n",
    "            data.append(mel_spectrograms[j])\n",
    "            labels.append(label)\n",
    "    elif 'extrastole' in recordings[i]:\n",
    "        label = 1\n",
    "        mel_spectrograms, count = get_spectrograms(data_dir + '/' + recordings[i])\n",
    "        for j in range(count):\n",
    "            data.append(mel_spectrograms[j])\n",
    "            labels.append(label)\n",
    "    elif 'murmur' in recordings[i]:\n",
    "        label = 2\n",
    "        mel_spectrograms, count = get_spectrograms(data_dir + '/' + recordings[i])\n",
    "        for j in range(count):\n",
    "            data.append(mel_spectrograms[j])\n",
    "            labels.append(label)"
   ]
  },
  {
   "cell_type": "code",
   "execution_count": 17,
   "metadata": {
    "execution": {
     "iopub.execute_input": "2021-04-05T16:11:06.746987Z",
     "iopub.status.busy": "2021-04-05T16:11:06.744670Z",
     "iopub.status.idle": "2021-04-05T16:11:06.747766Z",
     "shell.execute_reply": "2021-04-05T16:11:06.748323Z"
    },
    "papermill": {
     "duration": 0.035835,
     "end_time": "2021-04-05T16:11:06.748498",
     "exception": false,
     "start_time": "2021-04-05T16:11:06.712663",
     "status": "completed"
    },
    "tags": []
   },
   "outputs": [],
   "source": [
    "keys = np.arange(len(data))\n",
    "train_keys, test_keys = train_test_split(keys, train_size=train_size, random_state=random_seed)\n",
    "train_keys, valid_keys = train_test_split(train_keys, train_size=train_size, random_state=random_seed)"
   ]
  },
  {
   "cell_type": "code",
   "execution_count": 18,
   "metadata": {
    "execution": {
     "iopub.execute_input": "2021-04-05T16:11:06.808252Z",
     "iopub.status.busy": "2021-04-05T16:11:06.807528Z",
     "iopub.status.idle": "2021-04-05T16:11:06.816104Z",
     "shell.execute_reply": "2021-04-05T16:11:06.817000Z"
    },
    "papermill": {
     "duration": 0.044057,
     "end_time": "2021-04-05T16:11:06.817161",
     "exception": false,
     "start_time": "2021-04-05T16:11:06.773104",
     "status": "completed"
    },
    "tags": []
   },
   "outputs": [],
   "source": [
    "def train(model, loss_fn, train_loader, valid_loader, epochs, optimizer, augment = 'No'):\n",
    "    best_model_wts = copy.deepcopy(model.state_dict())\n",
    "    best_acc = 0.0\n",
    "    train_losses = []\n",
    "    valid_losses = []\n",
    "    valid_acc = []\n",
    "    best_train_acc = 0.0\n",
    "    for epoch in range(epochs):\n",
    "        print('epoch:', epoch)\n",
    "        model.train()\n",
    "        sum_loss = 0\n",
    "        sum_accuracy = 0\n",
    "        cnt_objects = 0\n",
    "        for X, y in train_dataloader:\n",
    "            optimizer.zero_grad()\n",
    "            X = X.to(device)\n",
    "            scores = model(X)\n",
    "            loss = criterion(scores, y.to(device))\n",
    "            loss.backward()\n",
    "            optimizer.step()\n",
    "            sum_loss += float(loss) * len(y)\n",
    "            cnt_objects += len(y)\n",
    "\n",
    "        mean_loss = sum_loss / cnt_objects\n",
    "        train_losses.append(mean_loss)\n",
    "        print('Train')\n",
    "        print(mean_loss)\n",
    "\n",
    "        model.eval()\n",
    "        sum_loss = 0\n",
    "        sum_accuracy = 0\n",
    "        cnt_objects = 0\n",
    "        with torch.no_grad():\n",
    "            for X, y in valid_loader:\n",
    "                X = X.to(device)\n",
    "                scores = model(X)\n",
    "                loss = criterion(scores, y.to(device))\n",
    "                sum_loss += float(loss) * len(y)\n",
    "                preds = scores.cpu().detach().argmax(dim=1)\n",
    "                accuracy = float((y == preds).float().sum())\n",
    "                sum_accuracy += accuracy\n",
    "                cnt_objects += len(y)\n",
    "\n",
    "        print('TEST')\n",
    "        mean_loss = sum_loss / cnt_objects\n",
    "        valid_losses.append(mean_loss)\n",
    "        mean_accuracy = sum_accuracy / cnt_objects\n",
    "        valid_acc.append(mean_accuracy)\n",
    "        if mean_accuracy > best_acc:\n",
    "            best_acc = mean_accuracy\n",
    "            best_model_wts = copy.deepcopy(model.state_dict())\n",
    "        print('loss:', mean_loss)\n",
    "        print('accuracy:', mean_accuracy)\n",
    "        print('******************')\n",
    "    print('Accuracy on the validation: ', best_acc)\n",
    "    model.load_state_dict(best_model_wts)\n",
    "    return model, train_losses, valid_losses, valid_acc"
   ]
  },
  {
   "cell_type": "code",
   "execution_count": 19,
   "metadata": {
    "execution": {
     "iopub.execute_input": "2021-04-05T16:11:06.887769Z",
     "iopub.status.busy": "2021-04-05T16:11:06.886806Z",
     "iopub.status.idle": "2021-04-05T16:11:06.890201Z",
     "shell.execute_reply": "2021-04-05T16:11:06.891608Z"
    },
    "papermill": {
     "duration": 0.049747,
     "end_time": "2021-04-05T16:11:06.891826",
     "exception": false,
     "start_time": "2021-04-05T16:11:06.842079",
     "status": "completed"
    },
    "tags": []
   },
   "outputs": [],
   "source": [
    "def evaluate(model, test_loader):\n",
    "    model.eval()\n",
    "    #all_preds = []\n",
    "    sum_accuracy = 0\n",
    "    cnt_objects = 0\n",
    "    with torch.no_grad():\n",
    "        for X, y in test_loader:\n",
    "            X = X.to(device)\n",
    "            scores = model(X)\n",
    "            preds = scores.cpu().detach().argmax(dim=1)\n",
    "            accuracy = float((y == preds).float().sum())\n",
    "            sum_accuracy += accuracy\n",
    "            cnt_objects += len(y)\n",
    "            #all_preds.append(preds)\n",
    "\n",
    "    mean_accuracy = sum_accuracy / cnt_objects\n",
    "    print('Quality of the model')\n",
    "    print('accuracy:', mean_accuracy)"
   ]
  },
  {
   "cell_type": "markdown",
   "metadata": {
    "papermill": {
     "duration": 0.016307,
     "end_time": "2021-04-05T16:11:06.932682",
     "exception": false,
     "start_time": "2021-04-05T16:11:06.916375",
     "status": "completed"
    },
    "tags": []
   },
   "source": [
    "## Resnet18"
   ]
  },
  {
   "cell_type": "markdown",
   "metadata": {
    "papermill": {
     "duration": 0.016198,
     "end_time": "2021-04-05T16:11:06.965302",
     "exception": false,
     "start_time": "2021-04-05T16:11:06.949104",
     "status": "completed"
    },
    "tags": []
   },
   "source": [
    "### Shift"
   ]
  },
  {
   "cell_type": "code",
   "execution_count": 20,
   "metadata": {
    "execution": {
     "iopub.execute_input": "2021-04-05T16:11:07.006034Z",
     "iopub.status.busy": "2021-04-05T16:11:07.005531Z",
     "iopub.status.idle": "2021-04-05T16:13:36.026862Z",
     "shell.execute_reply": "2021-04-05T16:13:36.027440Z"
    },
    "papermill": {
     "duration": 149.046143,
     "end_time": "2021-04-05T16:13:36.027669",
     "exception": false,
     "start_time": "2021-04-05T16:11:06.981526",
     "status": "completed"
    },
    "tags": []
   },
   "outputs": [
    {
     "name": "stdout",
     "output_type": "stream",
     "text": [
      "setting everything to seed 42\n"
     ]
    },
    {
     "name": "stderr",
     "output_type": "stream",
     "text": [
      "Downloading: \"https://download.pytorch.org/models/resnet18-5c106cde.pth\" to /root/.cache/torch/hub/checkpoints/resnet18-5c106cde.pth\n"
     ]
    },
    {
     "data": {
      "application/vnd.jupyter.widget-view+json": {
       "model_id": "8f3c04bbe7ec434bbb66f2535cec2a22",
       "version_major": 2,
       "version_minor": 0
      },
      "text/plain": [
       "  0%|          | 0.00/44.7M [00:00<?, ?B/s]"
      ]
     },
     "metadata": {},
     "output_type": "display_data"
    },
    {
     "name": "stdout",
     "output_type": "stream",
     "text": [
      "epoch: 0\n",
      "Train\n",
      "0.7777739754856532\n",
      "TEST\n",
      "loss: 1.583418489637829\n",
      "accuracy: 0.4158730158730159\n",
      "******************\n",
      "epoch: 1\n",
      "Train\n",
      "0.6203070028705006\n",
      "TEST\n",
      "loss: 0.6481109305033608\n",
      "accuracy: 0.7523809523809524\n",
      "******************\n",
      "epoch: 2\n",
      "Train\n",
      "0.5759442951397067\n",
      "TEST\n",
      "loss: 0.5911820214892191\n",
      "accuracy: 0.7936507936507936\n",
      "******************\n",
      "epoch: 3\n",
      "Train\n",
      "0.5247051091635389\n",
      "TEST\n",
      "loss: 0.8046547399626838\n",
      "accuracy: 0.6285714285714286\n",
      "******************\n",
      "epoch: 4\n",
      "Train\n",
      "0.49393447985054484\n",
      "TEST\n",
      "loss: 0.580845691050802\n",
      "accuracy: 0.819047619047619\n",
      "******************\n",
      "epoch: 5\n",
      "Train\n",
      "0.45788943414843397\n",
      "TEST\n",
      "loss: 0.4903532301622724\n",
      "accuracy: 0.819047619047619\n",
      "******************\n",
      "epoch: 6\n",
      "Train\n",
      "0.4506118231296918\n",
      "TEST\n",
      "loss: 1.7042822947577825\n",
      "accuracy: 0.7047619047619048\n",
      "******************\n",
      "epoch: 7\n",
      "Train\n",
      "0.44987174283899517\n",
      "TEST\n",
      "loss: 1.1436719358913483\n",
      "accuracy: 0.746031746031746\n",
      "******************\n",
      "epoch: 8\n",
      "Train\n",
      "0.41909184930010196\n",
      "TEST\n",
      "loss: 0.660515839996792\n",
      "accuracy: 0.7841269841269841\n",
      "******************\n",
      "epoch: 9\n",
      "Train\n",
      "0.3917648216577822\n",
      "TEST\n",
      "loss: 0.4866410963119022\n",
      "accuracy: 0.7936507936507936\n",
      "******************\n",
      "epoch: 10\n",
      "Train\n",
      "0.3563668298001702\n",
      "TEST\n",
      "loss: 0.5901105960210165\n",
      "accuracy: 0.7936507936507936\n",
      "******************\n",
      "epoch: 11\n",
      "Train\n",
      "0.3944542723707115\n",
      "TEST\n",
      "loss: 0.49164764270896005\n",
      "accuracy: 0.8507936507936508\n",
      "******************\n",
      "epoch: 12\n",
      "Train\n",
      "0.39272474892277676\n",
      "TEST\n",
      "loss: 0.4677651212328956\n",
      "accuracy: 0.819047619047619\n",
      "******************\n",
      "epoch: 13\n",
      "Train\n",
      "0.34115792168237746\n",
      "TEST\n",
      "loss: 0.682438047537728\n",
      "accuracy: 0.7333333333333333\n",
      "******************\n",
      "epoch: 14\n",
      "Train\n",
      "0.3499500740133078\n",
      "TEST\n",
      "loss: 0.5184621080519661\n",
      "accuracy: 0.7492063492063492\n",
      "******************\n",
      "epoch: 15\n",
      "Train\n",
      "0.3241816301777592\n",
      "TEST\n",
      "loss: 0.43036475191040646\n",
      "accuracy: 0.8698412698412699\n",
      "******************\n",
      "epoch: 16\n",
      "Train\n",
      "0.26047614607382996\n",
      "TEST\n",
      "loss: 0.8326635622788989\n",
      "accuracy: 0.8126984126984127\n",
      "******************\n",
      "epoch: 17\n",
      "Train\n",
      "0.2855521885292032\n",
      "TEST\n",
      "loss: 0.8898383233282301\n",
      "accuracy: 0.6126984126984127\n",
      "******************\n",
      "epoch: 18\n",
      "Train\n",
      "0.3600568857999715\n",
      "TEST\n",
      "loss: 0.533319521044928\n",
      "accuracy: 0.8507936507936508\n",
      "******************\n",
      "epoch: 19\n",
      "Train\n",
      "0.2886174608782419\n",
      "TEST\n",
      "loss: 0.9254319947863382\n",
      "accuracy: 0.526984126984127\n",
      "******************\n",
      "epoch: 20\n",
      "Train\n",
      "0.25409116564618867\n",
      "TEST\n",
      "loss: 1.2533274402694097\n",
      "accuracy: 0.7682539682539683\n",
      "******************\n",
      "epoch: 21\n",
      "Train\n",
      "0.21169822768998392\n",
      "TEST\n",
      "loss: 0.6219888527241965\n",
      "accuracy: 0.7619047619047619\n",
      "******************\n",
      "epoch: 22\n",
      "Train\n",
      "0.253657501223449\n",
      "TEST\n",
      "loss: 0.8928233983970824\n",
      "accuracy: 0.8126984126984127\n",
      "******************\n",
      "epoch: 23\n",
      "Train\n",
      "0.1663462594506568\n",
      "TEST\n",
      "loss: 0.5261697811739785\n",
      "accuracy: 0.8063492063492064\n",
      "******************\n",
      "epoch: 24\n",
      "Train\n",
      "0.17843743498312092\n",
      "TEST\n",
      "loss: 0.68925213340729\n",
      "accuracy: 0.8126984126984127\n",
      "******************\n",
      "epoch: 25\n",
      "Train\n",
      "0.23014106258832812\n",
      "TEST\n",
      "loss: 0.4770590228220773\n",
      "accuracy: 0.8539682539682539\n",
      "******************\n",
      "epoch: 26\n",
      "Train\n",
      "0.15599512888194078\n",
      "TEST\n",
      "loss: 1.6957146027731518\n",
      "accuracy: 0.47619047619047616\n",
      "******************\n",
      "epoch: 27\n",
      "Train\n",
      "0.15529553065515872\n",
      "TEST\n",
      "loss: 0.6709228008512467\n",
      "accuracy: 0.8571428571428571\n",
      "******************\n",
      "epoch: 28\n",
      "Train\n",
      "0.15299682960659858\n",
      "TEST\n",
      "loss: 0.8132277626839896\n",
      "accuracy: 0.834920634920635\n",
      "******************\n",
      "epoch: 29\n",
      "Train\n",
      "0.1745141224256577\n",
      "TEST\n",
      "loss: 0.5837613711754481\n",
      "accuracy: 0.7968253968253968\n",
      "******************\n",
      "epoch: 30\n",
      "Train\n",
      "0.1631282620232573\n",
      "TEST\n",
      "loss: 0.519812550241985\n",
      "accuracy: 0.8285714285714286\n",
      "******************\n",
      "epoch: 31\n",
      "Train\n",
      "0.10503268432881124\n",
      "TEST\n",
      "loss: 0.7417327736105238\n",
      "accuracy: 0.8126984126984127\n",
      "******************\n",
      "epoch: 32\n",
      "Train\n",
      "0.17982064788484972\n",
      "TEST\n",
      "loss: 0.7142741713258955\n",
      "accuracy: 0.8317460317460318\n",
      "******************\n",
      "epoch: 33\n",
      "Train\n",
      "0.15648067526584394\n",
      "TEST\n",
      "loss: 0.5363420143013908\n",
      "accuracy: 0.8031746031746032\n",
      "******************\n",
      "epoch: 34\n",
      "Train\n",
      "0.12316801794897099\n",
      "TEST\n",
      "loss: 0.6478259653326065\n",
      "accuracy: 0.8285714285714286\n",
      "******************\n",
      "epoch: 35\n",
      "Train\n",
      "0.08028959320315157\n",
      "TEST\n",
      "loss: 0.5684402020677688\n",
      "accuracy: 0.8317460317460318\n",
      "******************\n",
      "epoch: 36\n",
      "Train\n",
      "0.07731867315376369\n",
      "TEST\n",
      "loss: 0.720022820291065\n",
      "accuracy: 0.7873015873015873\n",
      "******************\n",
      "epoch: 37\n",
      "Train\n",
      "0.09141815501702409\n",
      "TEST\n",
      "loss: 0.7271055073965164\n",
      "accuracy: 0.8\n",
      "******************\n",
      "epoch: 38\n",
      "Train\n",
      "0.15705141699721267\n",
      "TEST\n",
      "loss: 0.8910228498398312\n",
      "accuracy: 0.780952380952381\n",
      "******************\n",
      "epoch: 39\n",
      "Train\n",
      "0.10710548384024852\n",
      "TEST\n",
      "loss: 0.7173704814343226\n",
      "accuracy: 0.8539682539682539\n",
      "******************\n",
      "epoch: 40\n",
      "Train\n",
      "0.055848605929325744\n",
      "TEST\n",
      "loss: 0.6161395047865217\n",
      "accuracy: 0.8539682539682539\n",
      "******************\n",
      "epoch: 41\n",
      "Train\n",
      "0.07891553116931245\n",
      "TEST\n",
      "loss: 0.9329552707217988\n",
      "accuracy: 0.7555555555555555\n",
      "******************\n",
      "epoch: 42\n",
      "Train\n",
      "0.10641189969371859\n",
      "TEST\n",
      "loss: 0.6913419808660235\n",
      "accuracy: 0.8285714285714286\n",
      "******************\n",
      "epoch: 43\n",
      "Train\n",
      "0.06526979102893282\n",
      "TEST\n",
      "loss: 1.1707255800565084\n",
      "accuracy: 0.8031746031746032\n",
      "******************\n",
      "epoch: 44\n",
      "Train\n",
      "0.07219199271690666\n",
      "TEST\n",
      "loss: 0.9499097703941285\n",
      "accuracy: 0.8476190476190476\n",
      "******************\n",
      "epoch: 45\n",
      "Train\n",
      "0.05884154015194811\n",
      "TEST\n",
      "loss: 0.791086882352829\n",
      "accuracy: 0.7936507936507936\n",
      "******************\n",
      "epoch: 46\n",
      "Train\n",
      "0.06631905906275211\n",
      "TEST\n",
      "loss: 0.9939616508900173\n",
      "accuracy: 0.780952380952381\n",
      "******************\n",
      "epoch: 47\n",
      "Train\n",
      "0.09011200688205322\n",
      "TEST\n",
      "loss: 0.6416879336512278\n",
      "accuracy: 0.8412698412698413\n",
      "******************\n",
      "epoch: 48\n",
      "Train\n",
      "0.04769301828443767\n",
      "TEST\n",
      "loss: 0.9236018690798018\n",
      "accuracy: 0.8571428571428571\n",
      "******************\n",
      "epoch: 49\n",
      "Train\n",
      "0.04778966950245255\n",
      "TEST\n",
      "loss: 1.3792877855755035\n",
      "accuracy: 0.7587301587301587\n",
      "******************\n",
      "epoch: 50\n",
      "Train\n",
      "0.05317469066670246\n",
      "TEST\n",
      "loss: 1.125054299074506\n",
      "accuracy: 0.8380952380952381\n",
      "******************\n",
      "epoch: 51\n",
      "Train\n",
      "0.04830330548433674\n",
      "TEST\n",
      "loss: 0.6767535840471586\n",
      "accuracy: 0.8507936507936508\n",
      "******************\n",
      "epoch: 52\n",
      "Train\n",
      "0.10348483410218584\n",
      "TEST\n",
      "loss: 1.1106753303891137\n",
      "accuracy: 0.7142857142857143\n",
      "******************\n",
      "epoch: 53\n",
      "Train\n",
      "0.08059695208588699\n",
      "TEST\n",
      "loss: 0.9934853690011161\n",
      "accuracy: 0.7111111111111111\n",
      "******************\n",
      "epoch: 54\n",
      "Train\n",
      "0.07872663143610935\n",
      "TEST\n",
      "loss: 0.7590111565968347\n",
      "accuracy: 0.8539682539682539\n",
      "******************\n",
      "epoch: 55\n",
      "Train\n",
      "0.061326609831969116\n",
      "TEST\n",
      "loss: 0.9382987441051573\n",
      "accuracy: 0.7714285714285715\n",
      "******************\n",
      "epoch: 56\n",
      "Train\n",
      "0.05009274778754848\n",
      "TEST\n",
      "loss: 1.4408311491920835\n",
      "accuracy: 0.8317460317460318\n",
      "******************\n",
      "epoch: 57\n",
      "Train\n",
      "0.055777029886640565\n",
      "TEST\n",
      "loss: 1.1768202541366457\n",
      "accuracy: 0.8444444444444444\n",
      "******************\n",
      "epoch: 58\n",
      "Train\n",
      "0.15469307986230865\n",
      "TEST\n",
      "loss: 0.9848446808164082\n",
      "accuracy: 0.6126984126984127\n",
      "******************\n",
      "epoch: 59\n",
      "Train\n",
      "0.07920943477691829\n",
      "TEST\n",
      "loss: 0.917789942499191\n",
      "accuracy: 0.8285714285714286\n",
      "******************\n",
      "epoch: 60\n",
      "Train\n",
      "0.06219409092742213\n",
      "TEST\n",
      "loss: 1.0553588583355857\n",
      "accuracy: 0.8571428571428571\n",
      "******************\n",
      "epoch: 61\n",
      "Train\n",
      "0.04069864825065218\n",
      "TEST\n",
      "loss: 0.6961509901379782\n",
      "accuracy: 0.8317460317460318\n",
      "******************\n",
      "epoch: 62\n",
      "Train\n",
      "0.07077786857831847\n",
      "TEST\n",
      "loss: 1.021141302964044\n",
      "accuracy: 0.8571428571428571\n",
      "******************\n",
      "epoch: 63\n",
      "Train\n",
      "0.05497849631442069\n",
      "TEST\n",
      "loss: 0.8047400346351048\n",
      "accuracy: 0.8444444444444444\n",
      "******************\n",
      "epoch: 64\n",
      "Train\n",
      "0.10196212962613019\n",
      "TEST\n",
      "loss: 0.8470873768367465\n",
      "accuracy: 0.7142857142857143\n",
      "******************\n",
      "epoch: 65\n",
      "Train\n",
      "0.06768909096717834\n",
      "TEST\n",
      "loss: 0.750940491738064\n",
      "accuracy: 0.8571428571428571\n",
      "******************\n",
      "epoch: 66\n",
      "Train\n",
      "0.03961452351464365\n",
      "TEST\n",
      "loss: 0.6124392927166016\n",
      "accuracy: 0.8539682539682539\n",
      "******************\n",
      "epoch: 67\n",
      "Train\n",
      "0.05249554455883925\n",
      "TEST\n",
      "loss: 0.7275531839756738\n",
      "accuracy: 0.8317460317460318\n",
      "******************\n",
      "epoch: 68\n",
      "Train\n",
      "0.03797823395446902\n",
      "TEST\n",
      "loss: 0.8365131304377601\n",
      "accuracy: 0.8666666666666667\n",
      "******************\n",
      "epoch: 69\n",
      "Train\n",
      "0.030365616892411938\n",
      "TEST\n",
      "loss: 0.8970204490517814\n",
      "accuracy: 0.8507936507936508\n",
      "******************\n",
      "Accuracy on the validation:  0.8698412698412699\n"
     ]
    }
   ],
   "source": [
    "seed_everything(42)\n",
    "\n",
    "train_dataset = HeartbeatSounds(mode='train', data = data, labels = labels, augment = True, aug_type = 'Shift', keys = train_keys)\n",
    "valid_dataset = HeartbeatSounds(mode='valid', data = data, labels = labels, keys = valid_keys)\n",
    "test_dataset = HeartbeatSounds(mode='test', data = data, labels = labels, keys = test_keys)\n",
    "\n",
    "train_dataloader = DataLoader(train_dataset, batch_size=batch_size, shuffle=True)\n",
    "valid_dataloader = DataLoader(valid_dataset, batch_size=batch_size, shuffle=False)\n",
    "test_dataloader = DataLoader(test_dataset, batch_size=batch_size, shuffle=False)\n",
    "\n",
    "model = resnet18(pretrained=True)\n",
    "num_ftrs = model.fc.in_features\n",
    "model.fc = torch.nn.Linear(num_ftrs, 3)\n",
    "model = model.to(device)\n",
    "\n",
    "epochs = 70\n",
    "criterion = torch.nn.CrossEntropyLoss()\n",
    "optimizer = torch.optim.Adam(model.parameters())\n",
    "\n",
    "model, train_losses, valid_losses, valid_acc = train(model, criterion, train_dataloader, valid_dataloader, epochs, optimizer)"
   ]
  },
  {
   "cell_type": "code",
   "execution_count": 21,
   "metadata": {
    "execution": {
     "iopub.execute_input": "2021-04-05T16:13:36.105126Z",
     "iopub.status.busy": "2021-04-05T16:13:36.104005Z",
     "iopub.status.idle": "2021-04-05T16:13:36.292006Z",
     "shell.execute_reply": "2021-04-05T16:13:36.292447Z"
    },
    "papermill": {
     "duration": 0.22876,
     "end_time": "2021-04-05T16:13:36.292597",
     "exception": false,
     "start_time": "2021-04-05T16:13:36.063837",
     "status": "completed"
    },
    "tags": []
   },
   "outputs": [
    {
     "name": "stdout",
     "output_type": "stream",
     "text": [
      "Quality of the model\n",
      "accuracy: 0.850253807106599\n"
     ]
    }
   ],
   "source": [
    "evaluate(model, test_dataloader)"
   ]
  },
  {
   "cell_type": "code",
   "execution_count": 22,
   "metadata": {
    "execution": {
     "iopub.execute_input": "2021-04-05T16:13:36.370297Z",
     "iopub.status.busy": "2021-04-05T16:13:36.369504Z",
     "iopub.status.idle": "2021-04-05T16:13:36.536791Z",
     "shell.execute_reply": "2021-04-05T16:13:36.537214Z"
    },
    "papermill": {
     "duration": 0.208456,
     "end_time": "2021-04-05T16:13:36.537358",
     "exception": false,
     "start_time": "2021-04-05T16:13:36.328902",
     "status": "completed"
    },
    "tags": []
   },
   "outputs": [
    {
     "data": {
      "image/png": "[encoded data removed]",
      "text/plain": [
       "<Figure size 432x288 with 1 Axes>"
      ]
     },
     "metadata": {
      "needs_background": "light"
     },
     "output_type": "display_data"
    }
   ],
   "source": [
    "plt.plot(np.arange(epochs), train_losses, label = 'train_loss')\n",
    "plt.plot(np.arange(epochs), valid_losses, label = 'valid_loss')\n",
    "plt.plot(np.arange(epochs), valid_acc, label = 'valid_accuracy')\n",
    "plt.legend()\n",
    "plt.show()"
   ]
  }
 ],
 "metadata": {
  "kernelspec": {
   "display_name": "Python 3",
   "language": "python",
   "name": "python3"
  },
  "language_info": {
   "codemirror_mode": {
    "name": "ipython",
    "version": 3
   },
   "file_extension": ".py",
   "mimetype": "text/x-python",
   "name": "python",
   "nbconvert_exporter": "python",
   "pygments_lexer": "ipython3",
   "version": "3.7.9"
  },
  "papermill": {
   "default_parameters": {},
   "duration": 535.528604,
   "end_time": "2021-04-05T16:13:37.884683",
   "environment_variables": {},
   "exception": null,
   "input_path": "__notebook__.ipynb",
   "output_path": "__notebook__.ipynb",
   "parameters": {},
   "start_time": "2021-04-05T16:04:42.356079",
   "version": "2.2.2"
  },
  "widgets": {
   "application/vnd.jupyter.widget-state+json": {
    "state": {
     "0f862de742474c88b701cbf2de3eaed6": {
      "model_module": "@jupyter-widgets/controls",
      "model_module_version": "1.5.0",
      "model_name": "DescriptionStyleModel",
      "state": {
       "_model_module": "@jupyter-widgets/controls",
       "_model_module_version": "1.5.0",
       "_model_name": "DescriptionStyleModel",
       "_view_count": null,
       "_view_module": "@jupyter-widgets/base",
       "_view_module_version": "1.2.0",
       "_view_name": "StyleView",
       "description_width": ""
      }
     },
     "211c1bd0a576437d972ea881f69695d5": {
      "model_module": "@jupyter-widgets/controls",
      "model_module_version": "1.5.0",
      "model_name": "DescriptionStyleModel",
      "state": {
       "_model_module": "@jupyter-widgets/controls",
       "_model_module_version": "1.5.0",
       "_model_name": "DescriptionStyleModel",
       "_view_count": null,
       "_view_module": "@jupyter-widgets/base",
       "_view_module_version": "1.2.0",
       "_view_name": "StyleView",
       "description_width": ""
      }
     },
     "3a422871d7fb4d31b02c90a1de1e097e": {
      "model_module": "@jupyter-widgets/base",
      "model_module_version": "1.2.0",
      "model_name": "LayoutModel",
      "state": {
       "_model_module": "@jupyter-widgets/base",
       "_model_module_version": "1.2.0",
       "_model_name": "LayoutModel",
       "_view_count": null,
       "_view_module": "@jupyter-widgets/base",
       "_view_module_version": "1.2.0",
       "_view_name": "LayoutView",
       "align_content": null,
       "align_items": null,
       "align_self": null,
       "border": null,
       "bottom": null,
       "display": null,
       "flex": null,
       "flex_flow": null,
       "grid_area": null,
       "grid_auto_columns": null,
       "grid_auto_flow": null,
       "grid_auto_rows": null,
       "grid_column": null,
       "grid_gap": null,
       "grid_row": null,
       "grid_template_areas": null,
       "grid_template_columns": null,
       "grid_template_rows": null,
       "height": null,
       "justify_content": null,
       "justify_items": null,
       "left": null,
       "margin": null,
       "max_height": null,
       "max_width": null,
       "min_height": null,
       "min_width": null,
       "object_fit": null,
       "object_position": null,
       "order": null,
       "overflow": null,
       "overflow_x": null,
       "overflow_y": null,
       "padding": null,
       "right": null,
       "top": null,
       "visibility": null,
       "width": null
      }
     },
     "5bcba9d61e814f4c8dcf6fe043e05f5b": {
      "model_module": "@jupyter-widgets/controls",
      "model_module_version": "1.5.0",
      "model_name": "FloatProgressModel",
      "state": {
       "_dom_classes": [],
       "_model_module": "@jupyter-widgets/controls",
       "_model_module_version": "1.5.0",
       "_model_name": "FloatProgressModel",
       "_view_count": null,
       "_view_module": "@jupyter-widgets/controls",
       "_view_module_version": "1.5.0",
       "_view_name": "ProgressView",
       "bar_style": "success",
       "description": "",
       "description_tooltip": null,
       "layout": "IPY_MODEL_fad9647829214bc0a7f309aa2d0f8817",
       "max": 46827520.0,
       "min": 0.0,
       "orientation": "horizontal",
       "style": "IPY_MODEL_bcb539fbc344483aba155c637365e1c8",
       "value": 46827520.0
      }
     },
     "8f3c04bbe7ec434bbb66f2535cec2a22": {
      "model_module": "@jupyter-widgets/controls",
      "model_module_version": "1.5.0",
      "model_name": "HBoxModel",
      "state": {
       "_dom_classes": [],
       "_model_module": "@jupyter-widgets/controls",
       "_model_module_version": "1.5.0",
       "_model_name": "HBoxModel",
       "_view_count": null,
       "_view_module": "@jupyter-widgets/controls",
       "_view_module_version": "1.5.0",
       "_view_name": "HBoxView",
       "box_style": "",
       "children": [
        "IPY_MODEL_abe6de1f037544d7b2d42337a7fb3daf",
        "IPY_MODEL_5bcba9d61e814f4c8dcf6fe043e05f5b",
        "IPY_MODEL_d8365ce05ab5455d98ad728fd9a136fb"
       ],
       "layout": "IPY_MODEL_edeb4aac166f476d98dafc2f8c348290"
      }
     },
     "abe6de1f037544d7b2d42337a7fb3daf": {
      "model_module": "@jupyter-widgets/controls",
      "model_module_version": "1.5.0",
      "model_name": "HTMLModel",
      "state": {
       "_dom_classes": [],
       "_model_module": "@jupyter-widgets/controls",
       "_model_module_version": "1.5.0",
       "_model_name": "HTMLModel",
       "_view_count": null,
       "_view_module": "@jupyter-widgets/controls",
       "_view_module_version": "1.5.0",
       "_view_name": "HTMLView",
       "description": "",
       "description_tooltip": null,
       "layout": "IPY_MODEL_e8a603b66c1a43ac9dd99c8662d294a5",
       "placeholder": "​",
       "style": "IPY_MODEL_0f862de742474c88b701cbf2de3eaed6",
       "value": "100%"
      }
     },
     "bcb539fbc344483aba155c637365e1c8": {
      "model_module": "@jupyter-widgets/controls",
      "model_module_version": "1.5.0",
      "model_name": "ProgressStyleModel",
      "state": {
       "_model_module": "@jupyter-widgets/controls",
       "_model_module_version": "1.5.0",
       "_model_name": "ProgressStyleModel",
       "_view_count": null,
       "_view_module": "@jupyter-widgets/base",
       "_view_module_version": "1.2.0",
       "_view_name": "StyleView",
       "bar_color": null,
       "description_width": ""
      }
     },
     "d8365ce05ab5455d98ad728fd9a136fb": {
      "model_module": "@jupyter-widgets/controls",
      "model_module_version": "1.5.0",
      "model_name": "HTMLModel",
      "state": {
       "_dom_classes": [],
       "_model_module": "@jupyter-widgets/controls",
       "_model_module_version": "1.5.0",
       "_model_name": "HTMLModel",
       "_view_count": null,
       "_view_module": "@jupyter-widgets/controls",
       "_view_module_version": "1.5.0",
       "_view_name": "HTMLView",
       "description": "",
       "description_tooltip": null,
       "layout": "IPY_MODEL_3a422871d7fb4d31b02c90a1de1e097e",
       "placeholder": "​",
       "style": "IPY_MODEL_211c1bd0a576437d972ea881f69695d5",
       "value": " 44.7M/44.7M [00:02&lt;00:00, 23.9MB/s]"
      }
     },
     "e8a603b66c1a43ac9dd99c8662d294a5": {
      "model_module": "@jupyter-widgets/base",
      "model_module_version": "1.2.0",
      "model_name": "LayoutModel",
      "state": {
       "_model_module": "@jupyter-widgets/base",
       "_model_module_version": "1.2.0",
       "_model_name": "LayoutModel",
       "_view_count": null,
       "_view_module": "@jupyter-widgets/base",
       "_view_module_version": "1.2.0",
       "_view_name": "LayoutView",
       "align_content": null,
       "align_items": null,
       "align_self": null,
       "border": null,
       "bottom": null,
       "display": null,
       "flex": null,
       "flex_flow": null,
       "grid_area": null,
       "grid_auto_columns": null,
       "grid_auto_flow": null,
       "grid_auto_rows": null,
       "grid_column": null,
       "grid_gap": null,
       "grid_row": null,
       "grid_template_areas": null,
       "grid_template_columns": null,
       "grid_template_rows": null,
       "height": null,
       "justify_content": null,
       "justify_items": null,
       "left": null,
       "margin": null,
       "max_height": null,
       "max_width": null,
       "min_height": null,
       "min_width": null,
       "object_fit": null,
       "object_position": null,
       "order": null,
       "overflow": null,
       "overflow_x": null,
       "overflow_y": null,
       "padding": null,
       "right": null,
       "top": null,
       "visibility": null,
       "width": null
      }
     },
     "edeb4aac166f476d98dafc2f8c348290": {
      "model_module": "@jupyter-widgets/base",
      "model_module_version": "1.2.0",
      "model_name": "LayoutModel",
      "state": {
       "_model_module": "@jupyter-widgets/base",
       "_model_module_version": "1.2.0",
       "_model_name": "LayoutModel",
       "_view_count": null,
       "_view_module": "@jupyter-widgets/base",
       "_view_module_version": "1.2.0",
       "_view_name": "LayoutView",
       "align_content": null,
       "align_items": null,
       "align_self": null,
       "border": null,
       "bottom": null,
       "display": null,
       "flex": null,
       "flex_flow": null,
       "grid_area": null,
       "grid_auto_columns": null,
       "grid_auto_flow": null,
       "grid_auto_rows": null,
       "grid_column": null,
       "grid_gap": null,
       "grid_row": null,
       "grid_template_areas": null,
       "grid_template_columns": null,
       "grid_template_rows": null,
       "height": null,
       "justify_content": null,
       "justify_items": null,
       "left": null,
       "margin": null,
       "max_height": null,
       "max_width": null,
       "min_height": null,
       "min_width": null,
       "object_fit": null,
       "object_position": null,
       "order": null,
       "overflow": null,
       "overflow_x": null,
       "overflow_y": null,
       "padding": null,
       "right": null,
       "top": null,
       "visibility": null,
       "width": null
      }
     },
     "fad9647829214bc0a7f309aa2d0f8817": {
      "model_module": "@jupyter-widgets/base",
      "model_module_version": "1.2.0",
      "model_name": "LayoutModel",
      "state": {
       "_model_module": "@jupyter-widgets/base",
       "_model_module_version": "1.2.0",
       "_model_name": "LayoutModel",
       "_view_count": null,
       "_view_module": "@jupyter-widgets/base",
       "_view_module_version": "1.2.0",
       "_view_name": "LayoutView",
       "align_content": null,
       "align_items": null,
       "align_self": null,
       "border": null,
       "bottom": null,
       "display": null,
       "flex": null,
       "flex_flow": null,
       "grid_area": null,
       "grid_auto_columns": null,
       "grid_auto_flow": null,
       "grid_auto_rows": null,
       "grid_column": null,
       "grid_gap": null,
       "grid_row": null,
       "grid_template_areas": null,
       "grid_template_columns": null,
       "grid_template_rows": null,
       "height": null,
       "justify_content": null,
       "justify_items": null,
       "left": null,
       "margin": null,
       "max_height": null,
       "max_width": null,
       "min_height": null,
       "min_width": null,
       "object_fit": null,
       "object_position": null,
       "order": null,
       "overflow": null,
       "overflow_x": null,
       "overflow_y": null,
       "padding": null,
       "right": null,
       "top": null,
       "visibility": null,
       "width": null
      }
     }
    },
    "version_major": 2,
    "version_minor": 0
   }
  }
 },
 "nbformat": 4,
 "nbformat_minor": 4
}
