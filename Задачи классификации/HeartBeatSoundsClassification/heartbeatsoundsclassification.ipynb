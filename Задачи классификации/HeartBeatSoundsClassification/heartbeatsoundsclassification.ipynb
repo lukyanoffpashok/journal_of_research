{
 "cells": [
  {
   "cell_type": "code",
   "execution_count": 1,
   "metadata": {
    "_cell_guid": "b1076dfc-b9ad-4769-8c92-a6c4dae69d19",
    "_uuid": "8f2839f25d086af736a60e9eeb907d3b93b6e0e5",
    "execution": {
     "iopub.execute_input": "2021-03-15T20:13:02.010102Z",
     "iopub.status.busy": "2021-03-15T20:13:02.009386Z",
     "iopub.status.idle": "2021-03-15T20:13:06.985388Z",
     "shell.execute_reply": "2021-03-15T20:13:06.984165Z"
    },
    "papermill": {
     "duration": 4.993417,
     "end_time": "2021-03-15T20:13:06.985623",
     "exception": false,
     "start_time": "2021-03-15T20:13:01.992206",
     "status": "completed"
    },
    "tags": []
   },
   "outputs": [],
   "source": [
    "import numpy as np\n",
    "import matplotlib.pyplot as plt\n",
    "from sklearn.model_selection import train_test_split\n",
    "import librosa\n",
    "import librosa.display\n",
    "import os\n",
    "import torch\n",
    "from torch.utils.data import Dataset, DataLoader\n",
    "import random\n",
    "import skimage.io as io\n",
    "import pandas as pd\n",
    "import torchvision.models as models\n",
    "from tqdm import tqdm"
   ]
  },
  {
   "cell_type": "code",
   "execution_count": 2,
   "metadata": {
    "execution": {
     "iopub.execute_input": "2021-03-15T20:13:07.013565Z",
     "iopub.status.busy": "2021-03-15T20:13:07.012941Z",
     "iopub.status.idle": "2021-03-15T20:13:15.609578Z",
     "shell.execute_reply": "2021-03-15T20:13:15.608380Z"
    },
    "papermill": {
     "duration": 8.6123,
     "end_time": "2021-03-15T20:13:15.609732",
     "exception": false,
     "start_time": "2021-03-15T20:13:06.997432",
     "status": "completed"
    },
    "tags": []
   },
   "outputs": [
    {
     "name": "stdout",
     "output_type": "stream",
     "text": [
      "Collecting efficientnet_pytorch\r\n",
      "  Downloading efficientnet_pytorch-0.7.0.tar.gz (20 kB)\r\n",
      "Requirement already satisfied: torch in /opt/conda/lib/python3.7/site-packages (from efficientnet_pytorch) (1.7.0)\r\n",
      "Requirement already satisfied: future in /opt/conda/lib/python3.7/site-packages (from torch->efficientnet_pytorch) (0.18.2)\r\n",
      "Requirement already satisfied: typing_extensions in /opt/conda/lib/python3.7/site-packages (from torch->efficientnet_pytorch) (3.7.4.3)\r\n",
      "Requirement already satisfied: dataclasses in /opt/conda/lib/python3.7/site-packages (from torch->efficientnet_pytorch) (0.6)\r\n",
      "Requirement already satisfied: numpy in /opt/conda/lib/python3.7/site-packages (from torch->efficientnet_pytorch) (1.19.5)\r\n",
      "Building wheels for collected packages: efficientnet-pytorch\r\n",
      "  Building wheel for efficientnet-pytorch (setup.py) ... \u001b[?25l-\b \b\\\b \bdone\r\n",
      "\u001b[?25h  Created wheel for efficientnet-pytorch: filename=efficientnet_pytorch-0.7.0-py3-none-any.whl size=16033 sha256=677d3daec65b2a70c8591b35024ac4bef6398e72344a8d49ffc110a9b2160673\r\n",
      "  Stored in directory: /root/.cache/pip/wheels/b7/cc/0d/41d384b0071c6f46e542aded5f8571700ace4f1eb3f1591c29\r\n",
      "Successfully built efficientnet-pytorch\r\n",
      "Installing collected packages: efficientnet-pytorch\r\n",
      "Successfully installed efficientnet-pytorch-0.7.0\r\n"
     ]
    }
   ],
   "source": [
    "!pip install efficientnet_pytorch\n",
    "from efficientnet_pytorch import EfficientNet"
   ]
  },
  {
   "cell_type": "code",
   "execution_count": 3,
   "metadata": {
    "execution": {
     "iopub.execute_input": "2021-03-15T20:13:15.642934Z",
     "iopub.status.busy": "2021-03-15T20:13:15.642375Z",
     "iopub.status.idle": "2021-03-15T20:13:15.650509Z",
     "shell.execute_reply": "2021-03-15T20:13:15.650012Z"
    },
    "papermill": {
     "duration": 0.026812,
     "end_time": "2021-03-15T20:13:15.650625",
     "exception": false,
     "start_time": "2021-03-15T20:13:15.623813",
     "status": "completed"
    },
    "tags": []
   },
   "outputs": [
    {
     "name": "stdout",
     "output_type": "stream",
     "text": [
      "setting everything to seed 42\n"
     ]
    }
   ],
   "source": [
    "def seed_everything(seed=42):\n",
    "    print(f'setting everything to seed {seed}')\n",
    "    random.seed(seed)\n",
    "    os.environ['PYTHONHASHSEED'] = str(seed)\n",
    "    np.random.seed(seed)\n",
    "    torch.manual_seed(seed)\n",
    "    torch.cuda.manual_seed(seed)\n",
    "    torch.backends.cudnn.deterministic = True\n",
    "    torch.cuda.empty_cache()\n",
    "    \n",
    "seed_everything(42)"
   ]
  },
  {
   "cell_type": "code",
   "execution_count": 4,
   "metadata": {
    "execution": {
     "iopub.execute_input": "2021-03-15T20:13:15.682661Z",
     "iopub.status.busy": "2021-03-15T20:13:15.682025Z",
     "iopub.status.idle": "2021-03-15T20:13:15.684798Z",
     "shell.execute_reply": "2021-03-15T20:13:15.684363Z"
    },
    "papermill": {
     "duration": 0.021026,
     "end_time": "2021-03-15T20:13:15.684915",
     "exception": false,
     "start_time": "2021-03-15T20:13:15.663889",
     "status": "completed"
    },
    "tags": []
   },
   "outputs": [],
   "source": [
    "device = torch.device('cuda:0')"
   ]
  },
  {
   "cell_type": "code",
   "execution_count": 5,
   "metadata": {
    "execution": {
     "iopub.execute_input": "2021-03-15T20:13:15.714650Z",
     "iopub.status.busy": "2021-03-15T20:13:15.714168Z",
     "iopub.status.idle": "2021-03-15T20:13:15.718013Z",
     "shell.execute_reply": "2021-03-15T20:13:15.717586Z"
    },
    "papermill": {
     "duration": 0.019983,
     "end_time": "2021-03-15T20:13:15.718120",
     "exception": false,
     "start_time": "2021-03-15T20:13:15.698137",
     "status": "completed"
    },
    "tags": []
   },
   "outputs": [],
   "source": [
    "data_dir = '//kaggle/input/heartbeat-sounds/set_b'\n",
    "file_csv = '/kaggle/input/heartbeat-sounds/set_b.csv'"
   ]
  },
  {
   "cell_type": "code",
   "execution_count": 6,
   "metadata": {
    "execution": {
     "iopub.execute_input": "2021-03-15T20:13:15.753130Z",
     "iopub.status.busy": "2021-03-15T20:13:15.752491Z",
     "iopub.status.idle": "2021-03-15T20:13:15.755367Z",
     "shell.execute_reply": "2021-03-15T20:13:15.754953Z"
    },
    "papermill": {
     "duration": 0.023715,
     "end_time": "2021-03-15T20:13:15.755473",
     "exception": false,
     "start_time": "2021-03-15T20:13:15.731758",
     "status": "completed"
    },
    "tags": []
   },
   "outputs": [],
   "source": [
    "def mono_to_color(X, eps=1e-6, mean=None, std=None):\n",
    "    X = np.stack([X, X, X])\n",
    "\n",
    "    # Standardize\n",
    "    mean = mean or X.mean()\n",
    "    std = std or X.std()\n",
    "    X = (X - mean) / (std + eps)\n",
    "\n",
    "    # Normalize to [0, 255]\n",
    "    _min, _max = X.min(), X.max()\n",
    "\n",
    "    if (_max - _min) > eps:\n",
    "        V = np.clip(X, _min, _max)\n",
    "        V = 255 * (V - _min) / (_max - _min)\n",
    "        V = V.astype(np.uint8)\n",
    "    else:\n",
    "        V = np.zeros_like(X, dtype=np.uint8)\n",
    "\n",
    "    return V\n",
    "\n",
    "\n",
    "def normalize(image, mean=None, std=None):\n",
    "    image = image / 255.0\n",
    "    if mean is not None and std is not None:\n",
    "        image = (image - mean) / std\n",
    "    return image.astype(np.float32)"
   ]
  },
  {
   "cell_type": "code",
   "execution_count": 7,
   "metadata": {
    "execution": {
     "iopub.execute_input": "2021-03-15T20:13:15.786812Z",
     "iopub.status.busy": "2021-03-15T20:13:15.786141Z",
     "iopub.status.idle": "2021-03-15T20:13:15.788860Z",
     "shell.execute_reply": "2021-03-15T20:13:15.788450Z"
    },
    "papermill": {
     "duration": 0.019671,
     "end_time": "2021-03-15T20:13:15.788964",
     "exception": false,
     "start_time": "2021-03-15T20:13:15.769293",
     "status": "completed"
    },
    "tags": []
   },
   "outputs": [],
   "source": [
    "NUM_SAMPLES = 65500\n",
    "sr = 48000\n",
    "fmin = 84\n",
    "fmax = sr // 2\n",
    "nmels = 128"
   ]
  },
  {
   "cell_type": "code",
   "execution_count": 8,
   "metadata": {
    "execution": {
     "iopub.execute_input": "2021-03-15T20:13:15.819820Z",
     "iopub.status.busy": "2021-03-15T20:13:15.819338Z",
     "iopub.status.idle": "2021-03-15T20:13:15.956708Z",
     "shell.execute_reply": "2021-03-15T20:13:15.956187Z"
    },
    "papermill": {
     "duration": 0.154292,
     "end_time": "2021-03-15T20:13:15.956821",
     "exception": false,
     "start_time": "2021-03-15T20:13:15.802529",
     "status": "completed"
    },
    "tags": []
   },
   "outputs": [],
   "source": [
    "recordings_old = sorted(os.listdir(data_dir))"
   ]
  },
  {
   "cell_type": "code",
   "execution_count": 9,
   "metadata": {
    "execution": {
     "iopub.execute_input": "2021-03-15T20:13:15.989679Z",
     "iopub.status.busy": "2021-03-15T20:13:15.989197Z",
     "iopub.status.idle": "2021-03-15T20:16:26.223500Z",
     "shell.execute_reply": "2021-03-15T20:16:26.223012Z"
    },
    "papermill": {
     "duration": 190.252622,
     "end_time": "2021-03-15T20:16:26.223651",
     "exception": false,
     "start_time": "2021-03-15T20:13:15.971029",
     "status": "completed"
    },
    "tags": []
   },
   "outputs": [
    {
     "name": "stdout",
     "output_type": "stream",
     "text": [
      "0\n",
      "50\n",
      "100\n",
      "150\n",
      "200\n",
      "250\n",
      "300\n",
      "350\n",
      "400\n",
      "450\n",
      "500\n",
      "550\n",
      "600\n",
      "650\n"
     ]
    }
   ],
   "source": [
    "recordings = []\n",
    "i = 0\n",
    "for x in recordings_old:\n",
    "    if i % 50 == 0:\n",
    "        print(i)\n",
    "    i += 1\n",
    "    y, _ = librosa.load(data_dir + '/' + x, sr = sr)\n",
    "    if y.shape[0] >= NUM_SAMPLES:\n",
    "        recordings.append(x)"
   ]
  },
  {
   "cell_type": "code",
   "execution_count": 10,
   "metadata": {
    "execution": {
     "iopub.execute_input": "2021-03-15T20:16:26.266837Z",
     "iopub.status.busy": "2021-03-15T20:16:26.265747Z",
     "iopub.status.idle": "2021-03-15T20:16:26.269347Z",
     "shell.execute_reply": "2021-03-15T20:16:26.269727Z"
    },
    "papermill": {
     "duration": 0.028111,
     "end_time": "2021-03-15T20:16:26.269858",
     "exception": false,
     "start_time": "2021-03-15T20:16:26.241747",
     "status": "completed"
    },
    "tags": []
   },
   "outputs": [
    {
     "data": {
      "text/plain": [
       "638"
      ]
     },
     "execution_count": 10,
     "metadata": {},
     "output_type": "execute_result"
    }
   ],
   "source": [
    "len(recordings)"
   ]
  },
  {
   "cell_type": "code",
   "execution_count": 11,
   "metadata": {
    "execution": {
     "iopub.execute_input": "2021-03-15T20:16:26.312529Z",
     "iopub.status.busy": "2021-03-15T20:16:26.312033Z",
     "iopub.status.idle": "2021-03-15T20:16:26.652287Z",
     "shell.execute_reply": "2021-03-15T20:16:26.652717Z"
    },
    "papermill": {
     "duration": 0.364479,
     "end_time": "2021-03-15T20:16:26.652885",
     "exception": false,
     "start_time": "2021-03-15T20:16:26.288406",
     "status": "completed"
    },
    "tags": []
   },
   "outputs": [
    {
     "data": {
      "text/plain": [
       "<matplotlib.image.AxesImage at 0x7f5c41c51050>"
      ]
     },
     "execution_count": 11,
     "metadata": {},
     "output_type": "execute_result"
    },
    {
     "data": {
      "image/png": "[encoded data removed]",
      "text/plain": [
       "<Figure size 1440x432 with 1 Axes>"
      ]
     },
     "metadata": {
      "needs_background": "light"
     },
     "output_type": "display_data"
    }
   ],
   "source": [
    "y, _ = librosa.load(data_dir + '/' + recordings[200], sr = sr)\n",
    "begin = (len(y) - NUM_SAMPLES) // 2\n",
    "samples = y[begin:begin + NUM_SAMPLES]\n",
    "melspec = librosa.feature.melspectrogram(samples, sr=sr, n_mels = nmels)#, fmin=fmin, fmax=fmax)\n",
    "melspec = librosa.power_to_db(melspec)\n",
    "melspec = mono_to_color(melspec)\n",
    "melspec = normalize(melspec, mean=None, std=None)\n",
    "#melspec = self.img_transform(image=melspec)['image']\n",
    "plt.figure(figsize = (20, 6))\n",
    "plt.imshow(melspec[0])"
   ]
  },
  {
   "cell_type": "code",
   "execution_count": 12,
   "metadata": {
    "execution": {
     "iopub.execute_input": "2021-03-15T20:16:26.698346Z",
     "iopub.status.busy": "2021-03-15T20:16:26.697798Z",
     "iopub.status.idle": "2021-03-15T20:16:26.700800Z",
     "shell.execute_reply": "2021-03-15T20:16:26.700407Z"
    },
    "papermill": {
     "duration": 0.027243,
     "end_time": "2021-03-15T20:16:26.700923",
     "exception": false,
     "start_time": "2021-03-15T20:16:26.673680",
     "status": "completed"
    },
    "tags": []
   },
   "outputs": [
    {
     "data": {
      "text/plain": [
       "(3, 128, 128)"
      ]
     },
     "execution_count": 12,
     "metadata": {},
     "output_type": "execute_result"
    }
   ],
   "source": [
    "image_size = melspec.shape\n",
    "image_size"
   ]
  },
  {
   "cell_type": "code",
   "execution_count": 13,
   "metadata": {
    "execution": {
     "iopub.execute_input": "2021-03-15T20:16:26.748387Z",
     "iopub.status.busy": "2021-03-15T20:16:26.747687Z",
     "iopub.status.idle": "2021-03-15T20:16:26.750912Z",
     "shell.execute_reply": "2021-03-15T20:16:26.750171Z"
    },
    "papermill": {
     "duration": 0.029523,
     "end_time": "2021-03-15T20:16:26.751017",
     "exception": false,
     "start_time": "2021-03-15T20:16:26.721494",
     "status": "completed"
    },
    "tags": []
   },
   "outputs": [],
   "source": [
    "def get_spectrograms(filename):\n",
    "    y, _ = librosa.load(filename, sr = sr)\n",
    "    count = len(y) // NUM_SAMPLES\n",
    "    mel_spectrograms = []\n",
    "    for i in range(count):\n",
    "        samples = y[i * NUM_SAMPLES:(i + 1) * NUM_SAMPLES]\n",
    "        melspec = librosa.feature.melspectrogram(samples, sr=sr, n_mels=nmels, fmin=fmin, fmax=fmax)\n",
    "        melspec = librosa.power_to_db(melspec)\n",
    "        melspec = mono_to_color(melspec)\n",
    "        melspec = normalize(melspec, mean=None, std=None)\n",
    "        #melspec = self.img_transform(image=melspec)['image']\n",
    "        mel_spectrograms.append(torch.tensor(melspec, dtype=torch.float32))\n",
    "\n",
    "    return mel_spectrograms, count"
   ]
  },
  {
   "cell_type": "code",
   "execution_count": 14,
   "metadata": {
    "execution": {
     "iopub.execute_input": "2021-03-15T20:16:26.804863Z",
     "iopub.status.busy": "2021-03-15T20:16:26.804146Z",
     "iopub.status.idle": "2021-03-15T20:16:26.806516Z",
     "shell.execute_reply": "2021-03-15T20:16:26.806959Z"
    },
    "papermill": {
     "duration": 0.034892,
     "end_time": "2021-03-15T20:16:26.807076",
     "exception": false,
     "start_time": "2021-03-15T20:16:26.772184",
     "status": "completed"
    },
    "tags": []
   },
   "outputs": [],
   "source": [
    "class HeartbeatSounds(Dataset):\n",
    "    def __init__(self, mode = 'train', data_dir='./', train_size=0.8, random_seed=42, recordings=[]):\n",
    "        super().__init__()\n",
    "        data = []\n",
    "        labels = []\n",
    "        for i in range(len(recordings)):\n",
    "            #print(recordings[i])\n",
    "            if 'normal' in recordings[i]:\n",
    "                label = 0\n",
    "                mel_spectrograms, count = get_spectrograms(data_dir + '/' + recordings[i])\n",
    "                for j in range(count):\n",
    "                    data.append(mel_spectrograms[j])\n",
    "                    labels.append(label)\n",
    "            elif 'extrastole' in recordings[i]:\n",
    "                label = 1\n",
    "                mel_spectrograms, count = get_spectrograms(data_dir + '/' + recordings[i])\n",
    "                for j in range(count):\n",
    "                    data.append(mel_spectrograms[j])\n",
    "                    labels.append(label)\n",
    "            elif 'murmur' in recordings[i]:\n",
    "                label = 2\n",
    "                mel_spectrograms, count = get_spectrograms(data_dir + '/' + recordings[i])\n",
    "                for j in range(count):\n",
    "                    data.append(mel_spectrograms[j])\n",
    "                    labels.append(label)\n",
    "        \n",
    "        keys = np.arange(len(data))\n",
    "        train_keys, test_keys = train_test_split(keys, train_size=train_size, random_state=random_seed)\n",
    "        if mode == 'train':\n",
    "            keys = train_keys\n",
    "        else:\n",
    "            keys = test_keys\n",
    "        self.n = len(keys)\n",
    "        self.data = []\n",
    "        self.labels = []\n",
    "        for i in keys:\n",
    "            #print(recordings[i])\n",
    "            self.data.append(data[i])\n",
    "            self.labels.append(labels[i])\n",
    "        \n",
    "\n",
    "    def __getitem__(self, i):     \n",
    "        return self.data[i], self.labels[i]\n",
    "\n",
    "    def __len__(self):\n",
    "        return self.n"
   ]
  },
  {
   "cell_type": "code",
   "execution_count": 15,
   "metadata": {
    "execution": {
     "iopub.execute_input": "2021-03-15T20:16:26.852290Z",
     "iopub.status.busy": "2021-03-15T20:16:26.851766Z",
     "iopub.status.idle": "2021-03-15T20:22:25.544550Z",
     "shell.execute_reply": "2021-03-15T20:22:25.544063Z"
    },
    "papermill": {
     "duration": 358.71705,
     "end_time": "2021-03-15T20:22:25.544692",
     "exception": false,
     "start_time": "2021-03-15T20:16:26.827642",
     "status": "completed"
    },
    "tags": []
   },
   "outputs": [],
   "source": [
    "train_dataset = HeartbeatSounds(mode='train', data_dir=data_dir, recordings=recordings)\n",
    "test_dataset = HeartbeatSounds(mode='test', data_dir=data_dir, recordings=recordings)"
   ]
  },
  {
   "cell_type": "code",
   "execution_count": 16,
   "metadata": {
    "execution": {
     "iopub.execute_input": "2021-03-15T20:22:25.590620Z",
     "iopub.status.busy": "2021-03-15T20:22:25.589839Z",
     "iopub.status.idle": "2021-03-15T20:22:25.593522Z",
     "shell.execute_reply": "2021-03-15T20:22:25.593123Z"
    },
    "papermill": {
     "duration": 0.027783,
     "end_time": "2021-03-15T20:22:25.593628",
     "exception": false,
     "start_time": "2021-03-15T20:22:25.565845",
     "status": "completed"
    },
    "tags": []
   },
   "outputs": [
    {
     "data": {
      "text/plain": [
       "1574"
      ]
     },
     "execution_count": 16,
     "metadata": {},
     "output_type": "execute_result"
    }
   ],
   "source": [
    "len(train_dataset)"
   ]
  },
  {
   "cell_type": "code",
   "execution_count": 17,
   "metadata": {
    "execution": {
     "iopub.execute_input": "2021-03-15T20:22:25.639846Z",
     "iopub.status.busy": "2021-03-15T20:22:25.639212Z",
     "iopub.status.idle": "2021-03-15T20:22:25.642086Z",
     "shell.execute_reply": "2021-03-15T20:22:25.641679Z"
    },
    "papermill": {
     "duration": 0.02745,
     "end_time": "2021-03-15T20:22:25.642188",
     "exception": false,
     "start_time": "2021-03-15T20:22:25.614738",
     "status": "completed"
    },
    "tags": []
   },
   "outputs": [],
   "source": [
    "batch_size = 32\n",
    "\n",
    "train_dataloader = DataLoader(train_dataset, batch_size=batch_size, shuffle=True)\n",
    "test_dataloader = DataLoader(test_dataset, batch_size=batch_size, shuffle=False)"
   ]
  },
  {
   "cell_type": "code",
   "execution_count": 18,
   "metadata": {
    "execution": {
     "iopub.execute_input": "2021-03-15T20:22:25.701226Z",
     "iopub.status.busy": "2021-03-15T20:22:25.700716Z",
     "iopub.status.idle": "2021-03-15T20:22:32.752254Z",
     "shell.execute_reply": "2021-03-15T20:22:32.751783Z"
    },
    "papermill": {
     "duration": 7.089149,
     "end_time": "2021-03-15T20:22:32.752393",
     "exception": false,
     "start_time": "2021-03-15T20:22:25.663244",
     "status": "completed"
    },
    "tags": []
   },
   "outputs": [
    {
     "name": "stderr",
     "output_type": "stream",
     "text": [
      "Downloading: \"https://download.pytorch.org/models/resnet18-5c106cde.pth\" to /root/.cache/torch/hub/checkpoints/resnet18-5c106cde.pth\n"
     ]
    },
    {
     "data": {
      "application/vnd.jupyter.widget-view+json": {
       "model_id": "21502b7b7fd644659dd11a011e742ae1",
       "version_major": 2,
       "version_minor": 0
      },
      "text/plain": [
       "  0%|          | 0.00/44.7M [00:00<?, ?B/s]"
      ]
     },
     "metadata": {},
     "output_type": "display_data"
    }
   ],
   "source": [
    "model = models.resnet18(pretrained=True)\n",
    "num_ftrs = model.fc.in_features\n",
    "model.fc = torch.nn.Linear(num_ftrs, 3)\n",
    "model = model.to(device)"
   ]
  },
  {
   "cell_type": "code",
   "execution_count": 19,
   "metadata": {
    "execution": {
     "iopub.execute_input": "2021-03-15T20:22:32.802049Z",
     "iopub.status.busy": "2021-03-15T20:22:32.801378Z",
     "iopub.status.idle": "2021-03-15T20:22:32.804694Z",
     "shell.execute_reply": "2021-03-15T20:22:32.804222Z"
    },
    "papermill": {
     "duration": 0.030003,
     "end_time": "2021-03-15T20:22:32.804809",
     "exception": false,
     "start_time": "2021-03-15T20:22:32.774806",
     "status": "completed"
    },
    "tags": []
   },
   "outputs": [],
   "source": [
    "max_epoch = 50\n",
    "criterion = torch.nn.CrossEntropyLoss()\n",
    "optimizer = torch.optim.Adam(model.parameters())"
   ]
  },
  {
   "cell_type": "code",
   "execution_count": 20,
   "metadata": {
    "execution": {
     "iopub.execute_input": "2021-03-15T20:22:32.860871Z",
     "iopub.status.busy": "2021-03-15T20:22:32.860198Z",
     "iopub.status.idle": "2021-03-15T20:24:29.071153Z",
     "shell.execute_reply": "2021-03-15T20:24:29.071657Z"
    },
    "papermill": {
     "duration": 116.244626,
     "end_time": "2021-03-15T20:24:29.071874",
     "exception": false,
     "start_time": "2021-03-15T20:22:32.827248",
     "status": "completed"
    },
    "tags": []
   },
   "outputs": [
    {
     "name": "stdout",
     "output_type": "stream",
     "text": [
      "epoch: 0\n",
      "Train\n",
      "0.7528373316933875\n",
      "TEST\n",
      "loss: 0.738132866506044\n",
      "accuracy: tensor(0.6954)\n",
      "******************\n",
      "epoch: 1\n",
      "Train\n",
      "0.5230781816163844\n",
      "TEST\n",
      "loss: 0.4886498505694007\n",
      "accuracy: tensor(0.7843)\n",
      "******************\n",
      "epoch: 2\n",
      "Train\n",
      "0.5082965370509039\n",
      "TEST\n",
      "loss: 0.5676063414152503\n",
      "accuracy: tensor(0.7919)\n",
      "******************\n",
      "epoch: 3\n",
      "Train\n",
      "0.4657409932970849\n",
      "TEST\n",
      "loss: 0.4938127159467203\n",
      "accuracy: tensor(0.8198)\n",
      "******************\n",
      "epoch: 4\n",
      "Train\n",
      "0.41239264849786383\n",
      "TEST\n",
      "loss: 0.46577169991991846\n",
      "accuracy: tensor(0.8096)\n",
      "******************\n",
      "epoch: 5\n",
      "Train\n",
      "0.3818285185772703\n",
      "TEST\n",
      "loss: 0.710356961652107\n",
      "accuracy: tensor(0.7741)\n",
      "******************\n",
      "epoch: 6\n",
      "Train\n",
      "0.33452057111369304\n",
      "TEST\n",
      "loss: 0.48091313379065037\n",
      "accuracy: tensor(0.8020)\n",
      "******************\n",
      "epoch: 7\n",
      "Train\n",
      "0.26956378372227524\n",
      "TEST\n",
      "loss: 0.6253863518613244\n",
      "accuracy: tensor(0.7843)\n",
      "******************\n",
      "epoch: 8\n",
      "Train\n",
      "0.2682498273885841\n",
      "TEST\n",
      "loss: 1.0622168458657821\n",
      "accuracy: tensor(0.6701)\n",
      "******************\n",
      "epoch: 9\n",
      "Train\n",
      "0.36321313317576387\n",
      "TEST\n",
      "loss: 1.0118400142882682\n",
      "accuracy: tensor(0.7868)\n",
      "******************\n",
      "epoch: 10\n",
      "Train\n",
      "0.33255918596645173\n",
      "TEST\n",
      "loss: 0.6237734889015933\n",
      "accuracy: tensor(0.7792)\n",
      "******************\n",
      "epoch: 11\n",
      "Train\n",
      "0.21682911136174596\n",
      "TEST\n",
      "loss: 0.6000925701886869\n",
      "accuracy: tensor(0.8350)\n",
      "******************\n",
      "epoch: 12\n",
      "Train\n",
      "0.13885302923080126\n",
      "TEST\n",
      "loss: 0.8637017259743008\n",
      "accuracy: tensor(0.7690)\n",
      "******************\n",
      "epoch: 13\n",
      "Train\n",
      "0.20035007001484212\n",
      "TEST\n",
      "loss: 0.8619847164541332\n",
      "accuracy: tensor(0.6929)\n",
      "******************\n",
      "epoch: 14\n",
      "Train\n",
      "0.15358489100481684\n",
      "TEST\n",
      "loss: 0.4812608122220499\n",
      "accuracy: tensor(0.8350)\n",
      "******************\n",
      "epoch: 15\n",
      "Train\n",
      "0.10869602325077736\n",
      "TEST\n",
      "loss: 0.6324881127643102\n",
      "accuracy: tensor(0.7487)\n",
      "******************\n",
      "epoch: 16\n",
      "Train\n",
      "0.2031965969080695\n",
      "TEST\n",
      "loss: 1.1782975378375369\n",
      "accuracy: tensor(0.6574)\n",
      "******************\n",
      "epoch: 17\n",
      "Train\n",
      "0.06273560162504668\n",
      "TEST\n",
      "loss: 0.7919023696541181\n",
      "accuracy: tensor(0.7766)\n",
      "******************\n",
      "epoch: 18\n",
      "Train\n",
      "0.02868872840937317\n",
      "TEST\n",
      "loss: 0.6893345178081299\n",
      "accuracy: tensor(0.7462)\n",
      "******************\n",
      "epoch: 19\n",
      "Train\n",
      "0.09765912690986861\n",
      "TEST\n",
      "loss: 1.0133028611313872\n",
      "accuracy: tensor(0.7970)\n",
      "******************\n",
      "epoch: 20\n",
      "Train\n",
      "0.09278886232245832\n",
      "TEST\n",
      "loss: 0.9287589207518524\n",
      "accuracy: tensor(0.8350)\n",
      "******************\n",
      "epoch: 21\n",
      "Train\n",
      "0.06018672089697142\n",
      "TEST\n",
      "loss: 1.6084313489458888\n",
      "accuracy: tensor(0.5888)\n",
      "******************\n",
      "epoch: 22\n",
      "Train\n",
      "0.06944467183178837\n",
      "TEST\n",
      "loss: 0.6940717085969025\n",
      "accuracy: tensor(0.8046)\n",
      "******************\n",
      "epoch: 23\n",
      "Train\n",
      "0.13180467441767985\n",
      "TEST\n",
      "loss: 0.557278584707812\n",
      "accuracy: tensor(0.8147)\n",
      "******************\n",
      "epoch: 24\n",
      "Train\n",
      "0.04824033238495472\n",
      "TEST\n",
      "loss: 0.7456537019177741\n",
      "accuracy: tensor(0.8071)\n",
      "******************\n",
      "epoch: 25\n",
      "Train\n",
      "0.13639063718509795\n",
      "TEST\n",
      "loss: 1.004929223036403\n",
      "accuracy: tensor(0.7893)\n",
      "******************\n",
      "epoch: 26\n",
      "Train\n",
      "0.10553571912714456\n",
      "TEST\n",
      "loss: 0.9465946013552283\n",
      "accuracy: tensor(0.8198)\n",
      "******************\n",
      "epoch: 27\n",
      "Train\n",
      "0.07011859944466563\n",
      "TEST\n",
      "loss: 0.7581896745613989\n",
      "accuracy: tensor(0.8274)\n",
      "******************\n",
      "epoch: 28\n",
      "Train\n",
      "0.04411384186043559\n",
      "TEST\n",
      "loss: 0.9213774391842372\n",
      "accuracy: tensor(0.8198)\n",
      "******************\n",
      "epoch: 29\n",
      "Train\n",
      "0.017774576981572063\n",
      "TEST\n",
      "loss: 0.8997531409190996\n",
      "accuracy: tensor(0.8325)\n",
      "******************\n",
      "epoch: 30\n",
      "Train\n",
      "0.005903894190287177\n",
      "TEST\n",
      "loss: 1.0694541023467399\n",
      "accuracy: tensor(0.8426)\n",
      "******************\n",
      "epoch: 31\n",
      "Train\n",
      "0.00471674450790022\n",
      "TEST\n",
      "loss: 0.6463674651789786\n",
      "accuracy: tensor(0.8223)\n",
      "******************\n",
      "epoch: 32\n",
      "Train\n",
      "0.008572444882719592\n",
      "TEST\n",
      "loss: 0.7558709316447302\n",
      "accuracy: tensor(0.8553)\n",
      "******************\n",
      "epoch: 33\n",
      "Train\n",
      "0.016016063902789212\n",
      "TEST\n",
      "loss: 1.0434961845426995\n",
      "accuracy: tensor(0.8325)\n",
      "******************\n",
      "epoch: 34\n",
      "Train\n",
      "0.016569217703668482\n",
      "TEST\n",
      "loss: 1.293966871832833\n",
      "accuracy: tensor(0.8426)\n",
      "******************\n",
      "epoch: 35\n",
      "Train\n",
      "0.1518987353507718\n",
      "TEST\n",
      "loss: 1.4334939730348926\n",
      "accuracy: tensor(0.8096)\n",
      "******************\n",
      "epoch: 36\n",
      "Train\n",
      "0.08849543806406866\n",
      "TEST\n",
      "loss: 0.755882689190395\n",
      "accuracy: tensor(0.7462)\n",
      "******************\n",
      "epoch: 37\n",
      "Train\n",
      "0.06362773434482658\n",
      "TEST\n",
      "loss: 0.7152711594770402\n",
      "accuracy: tensor(0.8046)\n",
      "******************\n",
      "epoch: 38\n",
      "Train\n",
      "0.03261227365121662\n",
      "TEST\n",
      "loss: 0.7784246520947684\n",
      "accuracy: tensor(0.8198)\n",
      "******************\n",
      "epoch: 39\n",
      "Train\n",
      "0.011563841393158275\n",
      "TEST\n",
      "loss: 1.168576827509149\n",
      "accuracy: tensor(0.8299)\n",
      "******************\n",
      "epoch: 40\n",
      "Train\n",
      "0.12273989628830018\n",
      "TEST\n",
      "loss: 0.7433237708764633\n",
      "accuracy: tensor(0.7665)\n",
      "******************\n",
      "epoch: 41\n",
      "Train\n",
      "0.0593543331312747\n",
      "TEST\n",
      "loss: 1.2403467730217173\n",
      "accuracy: tensor(0.7919)\n",
      "******************\n",
      "epoch: 42\n",
      "Train\n",
      "0.08350861146856747\n",
      "TEST\n",
      "loss: 0.6969049200793813\n",
      "accuracy: tensor(0.8071)\n",
      "******************\n",
      "epoch: 43\n",
      "Train\n",
      "0.04310306158358186\n",
      "TEST\n",
      "loss: 0.6966788187849945\n",
      "accuracy: tensor(0.8096)\n",
      "******************\n",
      "epoch: 44\n",
      "Train\n",
      "0.015738206693673037\n",
      "TEST\n",
      "loss: 0.7496948417673256\n",
      "accuracy: tensor(0.8274)\n",
      "******************\n",
      "epoch: 45\n",
      "Train\n",
      "0.04928646632618113\n",
      "TEST\n",
      "loss: 1.3992000207078032\n",
      "accuracy: tensor(0.6777)\n",
      "******************\n",
      "epoch: 46\n",
      "Train\n",
      "0.029192912984009847\n",
      "TEST\n",
      "loss: 1.2058764932119301\n",
      "accuracy: tensor(0.8046)\n",
      "******************\n",
      "epoch: 47\n",
      "Train\n",
      "0.025173327504518752\n",
      "TEST\n",
      "loss: 0.8922754798443789\n",
      "accuracy: tensor(0.7970)\n",
      "******************\n",
      "epoch: 48\n",
      "Train\n",
      "0.013780846592131173\n",
      "TEST\n",
      "loss: 1.0188014434678905\n",
      "accuracy: tensor(0.8147)\n",
      "******************\n",
      "epoch: 49\n",
      "Train\n",
      "0.00322485974981104\n",
      "TEST\n",
      "loss: 1.1186636898118227\n",
      "accuracy: tensor(0.8299)\n",
      "******************\n"
     ]
    }
   ],
   "source": [
    "for epoch in range(max_epoch):\n",
    "    print('epoch:', epoch)\n",
    "    model.train()\n",
    "    #all_ys = []\n",
    "    #all_preds = []\n",
    "    sum_loss = 0\n",
    "    #sum_accuracy = 0\n",
    "    cnt_objects = 0\n",
    "    for X, y in train_dataloader:\n",
    "        optimizer.zero_grad()\n",
    "        X = X.to(device)\n",
    "        scores = model(X)\n",
    "        loss = criterion(scores, y.to(device))\n",
    "        loss.backward()\n",
    "        optimizer.step()\n",
    "        sum_loss += float(loss) * len(y)\n",
    "        cnt_objects += len(y)\n",
    "\n",
    "        #all_ys.append(y)\n",
    "        #all_preds.append(preds)\n",
    "    mean_loss = sum_loss / cnt_objects\n",
    "    print('Train')\n",
    "    print(mean_loss)\n",
    "    \n",
    "    model.eval()\n",
    "    #all_ys = []\n",
    "    #all_preds = []\n",
    "    sum_loss = 0\n",
    "    sum_accuracy = 0\n",
    "    cnt_objects = 0\n",
    "    with torch.no_grad():\n",
    "        for X, y in test_dataloader:\n",
    "            X = X.to(device)\n",
    "            scores = model(X)\n",
    "            loss = criterion(scores, y.to(device))\n",
    "            sum_loss += float(loss) * len(y)\n",
    "            preds = scores.cpu().detach().argmax(dim=1)\n",
    "            accuracy = (y == preds).float().sum()\n",
    "            sum_accuracy += accuracy\n",
    "            cnt_objects += len(y)\n",
    "\n",
    "            #all_ys.append(y)\n",
    "            #all_preds.append(preds)\n",
    "\n",
    "    print('TEST')\n",
    "    mean_loss = sum_loss / cnt_objects\n",
    "    mean_accuracy = sum_accuracy / cnt_objects\n",
    "    print('loss:', mean_loss)\n",
    "    print('accuracy:', mean_accuracy)\n",
    "    print('******************')"
   ]
  },
  {
   "cell_type": "code",
   "execution_count": null,
   "metadata": {
    "papermill": {
     "duration": 0.034768,
     "end_time": "2021-03-15T20:24:29.142458",
     "exception": false,
     "start_time": "2021-03-15T20:24:29.107690",
     "status": "completed"
    },
    "tags": []
   },
   "outputs": [],
   "source": []
  }
 ],
 "metadata": {
  "kernelspec": {
   "display_name": "Python 3",
   "language": "python",
   "name": "python3"
  },
  "language_info": {
   "codemirror_mode": {
    "name": "ipython",
    "version": 3
   },
   "file_extension": ".py",
   "mimetype": "text/x-python",
   "name": "python",
   "nbconvert_exporter": "python",
   "pygments_lexer": "ipython3",
   "version": "3.7.9"
  },
  "papermill": {
   "default_parameters": {},
   "duration": 694.979467,
   "end_time": "2021-03-15T20:24:31.402164",
   "environment_variables": {},
   "exception": null,
   "input_path": "__notebook__.ipynb",
   "output_path": "__notebook__.ipynb",
   "parameters": {},
   "start_time": "2021-03-15T20:12:56.422697",
   "version": "2.2.2"
  },
  "widgets": {
   "application/vnd.jupyter.widget-state+json": {
    "state": {
     "0499f43a086f4ba6a17d1020f67f97f7": {
      "model_module": "@jupyter-widgets/controls",
      "model_module_version": "1.5.0",
      "model_name": "ProgressStyleModel",
      "state": {
       "_model_module": "@jupyter-widgets/controls",
       "_model_module_version": "1.5.0",
       "_model_name": "ProgressStyleModel",
       "_view_count": null,
       "_view_module": "@jupyter-widgets/base",
       "_view_module_version": "1.2.0",
       "_view_name": "StyleView",
       "bar_color": null,
       "description_width": ""
      }
     },
     "20c59b31ee644c73958b31de0fd1a6d1": {
      "model_module": "@jupyter-widgets/base",
      "model_module_version": "1.2.0",
      "model_name": "LayoutModel",
      "state": {
       "_model_module": "@jupyter-widgets/base",
       "_model_module_version": "1.2.0",
       "_model_name": "LayoutModel",
       "_view_count": null,
       "_view_module": "@jupyter-widgets/base",
       "_view_module_version": "1.2.0",
       "_view_name": "LayoutView",
       "align_content": null,
       "align_items": null,
       "align_self": null,
       "border": null,
       "bottom": null,
       "display": null,
       "flex": null,
       "flex_flow": null,
       "grid_area": null,
       "grid_auto_columns": null,
       "grid_auto_flow": null,
       "grid_auto_rows": null,
       "grid_column": null,
       "grid_gap": null,
       "grid_row": null,
       "grid_template_areas": null,
       "grid_template_columns": null,
       "grid_template_rows": null,
       "height": null,
       "justify_content": null,
       "justify_items": null,
       "left": null,
       "margin": null,
       "max_height": null,
       "max_width": null,
       "min_height": null,
       "min_width": null,
       "object_fit": null,
       "object_position": null,
       "order": null,
       "overflow": null,
       "overflow_x": null,
       "overflow_y": null,
       "padding": null,
       "right": null,
       "top": null,
       "visibility": null,
       "width": null
      }
     },
     "21502b7b7fd644659dd11a011e742ae1": {
      "model_module": "@jupyter-widgets/controls",
      "model_module_version": "1.5.0",
      "model_name": "HBoxModel",
      "state": {
       "_dom_classes": [],
       "_model_module": "@jupyter-widgets/controls",
       "_model_module_version": "1.5.0",
       "_model_name": "HBoxModel",
       "_view_count": null,
       "_view_module": "@jupyter-widgets/controls",
       "_view_module_version": "1.5.0",
       "_view_name": "HBoxView",
       "box_style": "",
       "children": [
        "IPY_MODEL_81aa6bef27b845828a513f283a05d157",
        "IPY_MODEL_b5d15fb3bf604f379ec7116be7bf0c77",
        "IPY_MODEL_bfdf821f2910490888bd5e2898b092cf"
       ],
       "layout": "IPY_MODEL_7c4b8108b9b04053ba0ada55575adbaf"
      }
     },
     "6b5ccfcf6f2340ab9f327e28bf419c6a": {
      "model_module": "@jupyter-widgets/base",
      "model_module_version": "1.2.0",
      "model_name": "LayoutModel",
      "state": {
       "_model_module": "@jupyter-widgets/base",
       "_model_module_version": "1.2.0",
       "_model_name": "LayoutModel",
       "_view_count": null,
       "_view_module": "@jupyter-widgets/base",
       "_view_module_version": "1.2.0",
       "_view_name": "LayoutView",
       "align_content": null,
       "align_items": null,
       "align_self": null,
       "border": null,
       "bottom": null,
       "display": null,
       "flex": null,
       "flex_flow": null,
       "grid_area": null,
       "grid_auto_columns": null,
       "grid_auto_flow": null,
       "grid_auto_rows": null,
       "grid_column": null,
       "grid_gap": null,
       "grid_row": null,
       "grid_template_areas": null,
       "grid_template_columns": null,
       "grid_template_rows": null,
       "height": null,
       "justify_content": null,
       "justify_items": null,
       "left": null,
       "margin": null,
       "max_height": null,
       "max_width": null,
       "min_height": null,
       "min_width": null,
       "object_fit": null,
       "object_position": null,
       "order": null,
       "overflow": null,
       "overflow_x": null,
       "overflow_y": null,
       "padding": null,
       "right": null,
       "top": null,
       "visibility": null,
       "width": null
      }
     },
     "7c4b8108b9b04053ba0ada55575adbaf": {
      "model_module": "@jupyter-widgets/base",
      "model_module_version": "1.2.0",
      "model_name": "LayoutModel",
      "state": {
       "_model_module": "@jupyter-widgets/base",
       "_model_module_version": "1.2.0",
       "_model_name": "LayoutModel",
       "_view_count": null,
       "_view_module": "@jupyter-widgets/base",
       "_view_module_version": "1.2.0",
       "_view_name": "LayoutView",
       "align_content": null,
       "align_items": null,
       "align_self": null,
       "border": null,
       "bottom": null,
       "display": null,
       "flex": null,
       "flex_flow": null,
       "grid_area": null,
       "grid_auto_columns": null,
       "grid_auto_flow": null,
       "grid_auto_rows": null,
       "grid_column": null,
       "grid_gap": null,
       "grid_row": null,
       "grid_template_areas": null,
       "grid_template_columns": null,
       "grid_template_rows": null,
       "height": null,
       "justify_content": null,
       "justify_items": null,
       "left": null,
       "margin": null,
       "max_height": null,
       "max_width": null,
       "min_height": null,
       "min_width": null,
       "object_fit": null,
       "object_position": null,
       "order": null,
       "overflow": null,
       "overflow_x": null,
       "overflow_y": null,
       "padding": null,
       "right": null,
       "top": null,
       "visibility": null,
       "width": null
      }
     },
     "81aa6bef27b845828a513f283a05d157": {
      "model_module": "@jupyter-widgets/controls",
      "model_module_version": "1.5.0",
      "model_name": "HTMLModel",
      "state": {
       "_dom_classes": [],
       "_model_module": "@jupyter-widgets/controls",
       "_model_module_version": "1.5.0",
       "_model_name": "HTMLModel",
       "_view_count": null,
       "_view_module": "@jupyter-widgets/controls",
       "_view_module_version": "1.5.0",
       "_view_name": "HTMLView",
       "description": "",
       "description_tooltip": null,
       "layout": "IPY_MODEL_20c59b31ee644c73958b31de0fd1a6d1",
       "placeholder": "​",
       "style": "IPY_MODEL_b9de55027164431988446f2e605ed795",
       "value": "100%"
      }
     },
     "8ebd175167f84fd2a1ea8893b78096d0": {
      "model_module": "@jupyter-widgets/controls",
      "model_module_version": "1.5.0",
      "model_name": "DescriptionStyleModel",
      "state": {
       "_model_module": "@jupyter-widgets/controls",
       "_model_module_version": "1.5.0",
       "_model_name": "DescriptionStyleModel",
       "_view_count": null,
       "_view_module": "@jupyter-widgets/base",
       "_view_module_version": "1.2.0",
       "_view_name": "StyleView",
       "description_width": ""
      }
     },
     "b5d15fb3bf604f379ec7116be7bf0c77": {
      "model_module": "@jupyter-widgets/controls",
      "model_module_version": "1.5.0",
      "model_name": "FloatProgressModel",
      "state": {
       "_dom_classes": [],
       "_model_module": "@jupyter-widgets/controls",
       "_model_module_version": "1.5.0",
       "_model_name": "FloatProgressModel",
       "_view_count": null,
       "_view_module": "@jupyter-widgets/controls",
       "_view_module_version": "1.5.0",
       "_view_name": "ProgressView",
       "bar_style": "success",
       "description": "",
       "description_tooltip": null,
       "layout": "IPY_MODEL_6b5ccfcf6f2340ab9f327e28bf419c6a",
       "max": 46827520.0,
       "min": 0.0,
       "orientation": "horizontal",
       "style": "IPY_MODEL_0499f43a086f4ba6a17d1020f67f97f7",
       "value": 46827520.0
      }
     },
     "b9de55027164431988446f2e605ed795": {
      "model_module": "@jupyter-widgets/controls",
      "model_module_version": "1.5.0",
      "model_name": "DescriptionStyleModel",
      "state": {
       "_model_module": "@jupyter-widgets/controls",
       "_model_module_version": "1.5.0",
       "_model_name": "DescriptionStyleModel",
       "_view_count": null,
       "_view_module": "@jupyter-widgets/base",
       "_view_module_version": "1.2.0",
       "_view_name": "StyleView",
       "description_width": ""
      }
     },
     "bfdf821f2910490888bd5e2898b092cf": {
      "model_module": "@jupyter-widgets/controls",
      "model_module_version": "1.5.0",
      "model_name": "HTMLModel",
      "state": {
       "_dom_classes": [],
       "_model_module": "@jupyter-widgets/controls",
       "_model_module_version": "1.5.0",
       "_model_name": "HTMLModel",
       "_view_count": null,
       "_view_module": "@jupyter-widgets/controls",
       "_view_module_version": "1.5.0",
       "_view_name": "HTMLView",
       "description": "",
       "description_tooltip": null,
       "layout": "IPY_MODEL_eb43f3cd63bf42d5822b775165ff718d",
       "placeholder": "​",
       "style": "IPY_MODEL_8ebd175167f84fd2a1ea8893b78096d0",
       "value": " 44.7M/44.7M [00:01&lt;00:00, 35.5MB/s]"
      }
     },
     "eb43f3cd63bf42d5822b775165ff718d": {
      "model_module": "@jupyter-widgets/base",
      "model_module_version": "1.2.0",
      "model_name": "LayoutModel",
      "state": {
       "_model_module": "@jupyter-widgets/base",
       "_model_module_version": "1.2.0",
       "_model_name": "LayoutModel",
       "_view_count": null,
       "_view_module": "@jupyter-widgets/base",
       "_view_module_version": "1.2.0",
       "_view_name": "LayoutView",
       "align_content": null,
       "align_items": null,
       "align_self": null,
       "border": null,
       "bottom": null,
       "display": null,
       "flex": null,
       "flex_flow": null,
       "grid_area": null,
       "grid_auto_columns": null,
       "grid_auto_flow": null,
       "grid_auto_rows": null,
       "grid_column": null,
       "grid_gap": null,
       "grid_row": null,
       "grid_template_areas": null,
       "grid_template_columns": null,
       "grid_template_rows": null,
       "height": null,
       "justify_content": null,
       "justify_items": null,
       "left": null,
       "margin": null,
       "max_height": null,
       "max_width": null,
       "min_height": null,
       "min_width": null,
       "object_fit": null,
       "object_position": null,
       "order": null,
       "overflow": null,
       "overflow_x": null,
       "overflow_y": null,
       "padding": null,
       "right": null,
       "top": null,
       "visibility": null,
       "width": null
      }
     }
    },
    "version_major": 2,
    "version_minor": 0
   }
  }
 },
 "nbformat": 4,
 "nbformat_minor": 4
}
