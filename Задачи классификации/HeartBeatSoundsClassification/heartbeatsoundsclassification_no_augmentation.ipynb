{
 "cells": [
  {
   "cell_type": "code",
   "execution_count": 1,
   "metadata": {
    "_cell_guid": "b1076dfc-b9ad-4769-8c92-a6c4dae69d19",
    "_uuid": "8f2839f25d086af736a60e9eeb907d3b93b6e0e5",
    "execution": {
     "iopub.execute_input": "2021-04-05T14:21:17.864211Z",
     "iopub.status.busy": "2021-04-05T14:21:17.863624Z",
     "iopub.status.idle": "2021-04-05T14:21:21.852971Z",
     "shell.execute_reply": "2021-04-05T14:21:21.853487Z"
    },
    "papermill": {
     "duration": 4.009711,
     "end_time": "2021-04-05T14:21:21.853856",
     "exception": false,
     "start_time": "2021-04-05T14:21:17.844145",
     "status": "completed"
    },
    "tags": []
   },
   "outputs": [
    {
     "name": "stderr",
     "output_type": "stream",
     "text": [
      "/opt/conda/lib/python3.7/site-packages/torchaudio/backend/utils.py:54: UserWarning: \"sox\" backend is being deprecated. The default backend will be changed to \"sox_io\" backend in 0.8.0 and \"sox\" backend will be removed in 0.9.0. Please migrate to \"sox_io\" backend. Please refer to https://github.com/pytorch/audio/issues/903 for the detail.\n",
      "  '\"sox\" backend is being deprecated. '\n"
     ]
    }
   ],
   "source": [
    "import numpy as np\n",
    "import matplotlib.pyplot as plt\n",
    "from sklearn.model_selection import train_test_split\n",
    "import librosa\n",
    "import librosa.display\n",
    "import os\n",
    "import copy\n",
    "import torch\n",
    "from torch.utils.data import Dataset, DataLoader\n",
    "import random\n",
    "import skimage.io as io\n",
    "import pandas as pd\n",
    "import torchaudio.transforms as T\n",
    "from torchvision.models import resnet18\n",
    "from tqdm import tqdm"
   ]
  },
  {
   "cell_type": "code",
   "execution_count": 2,
   "metadata": {
    "execution": {
     "iopub.execute_input": "2021-04-05T14:21:21.885723Z",
     "iopub.status.busy": "2021-04-05T14:21:21.885028Z",
     "iopub.status.idle": "2021-04-05T14:21:21.887861Z",
     "shell.execute_reply": "2021-04-05T14:21:21.887328Z"
    },
    "papermill": {
     "duration": 0.020157,
     "end_time": "2021-04-05T14:21:21.887971",
     "exception": false,
     "start_time": "2021-04-05T14:21:21.867814",
     "status": "completed"
    },
    "tags": []
   },
   "outputs": [],
   "source": [
    "def seed_everything(seed=42):\n",
    "    print(f'setting everything to seed {seed}')\n",
    "    random.seed(seed)\n",
    "    os.environ['PYTHONHASHSEED'] = str(seed)\n",
    "    np.random.seed(seed)\n",
    "    torch.manual_seed(seed)\n",
    "    torch.cuda.manual_seed(seed)\n",
    "    torch.backends.cudnn.deterministic = True\n",
    "    torch.cuda.empty_cache()"
   ]
  },
  {
   "cell_type": "code",
   "execution_count": 3,
   "metadata": {
    "execution": {
     "iopub.execute_input": "2021-04-05T14:21:21.917966Z",
     "iopub.status.busy": "2021-04-05T14:21:21.917262Z",
     "iopub.status.idle": "2021-04-05T14:21:21.920134Z",
     "shell.execute_reply": "2021-04-05T14:21:21.919629Z"
    },
    "papermill": {
     "duration": 0.019807,
     "end_time": "2021-04-05T14:21:21.920236",
     "exception": false,
     "start_time": "2021-04-05T14:21:21.900429",
     "status": "completed"
    },
    "tags": []
   },
   "outputs": [],
   "source": [
    "device = torch.device('cuda:0')"
   ]
  },
  {
   "cell_type": "code",
   "execution_count": 4,
   "metadata": {
    "execution": {
     "iopub.execute_input": "2021-04-05T14:21:21.949079Z",
     "iopub.status.busy": "2021-04-05T14:21:21.948373Z",
     "iopub.status.idle": "2021-04-05T14:21:21.950821Z",
     "shell.execute_reply": "2021-04-05T14:21:21.951310Z"
    },
    "papermill": {
     "duration": 0.018685,
     "end_time": "2021-04-05T14:21:21.951457",
     "exception": false,
     "start_time": "2021-04-05T14:21:21.932772",
     "status": "completed"
    },
    "tags": []
   },
   "outputs": [],
   "source": [
    "data_dir = '//kaggle/input/heartbeat-sounds/set_b'\n",
    "file_csv = '/kaggle/input/heartbeat-sounds/set_b.csv'"
   ]
  },
  {
   "cell_type": "code",
   "execution_count": 5,
   "metadata": {
    "execution": {
     "iopub.execute_input": "2021-04-05T14:21:21.984400Z",
     "iopub.status.busy": "2021-04-05T14:21:21.983676Z",
     "iopub.status.idle": "2021-04-05T14:21:21.986590Z",
     "shell.execute_reply": "2021-04-05T14:21:21.986156Z"
    },
    "papermill": {
     "duration": 0.022559,
     "end_time": "2021-04-05T14:21:21.986700",
     "exception": false,
     "start_time": "2021-04-05T14:21:21.964141",
     "status": "completed"
    },
    "tags": []
   },
   "outputs": [],
   "source": [
    "def mono_to_color(X, eps=1e-6, mean=None, std=None):\n",
    "    # Standardize\n",
    "    mean = mean or X.mean()\n",
    "    std = std or X.std()\n",
    "    X = (X - mean) / (std + eps)\n",
    "    # Normalize to [0, 255]\n",
    "    _min, _max = X.min(), X.max()\n",
    "    if (_max - _min) > eps:\n",
    "        V = np.clip(X, _min, _max)\n",
    "        V = 255 * (V - _min) / (_max - _min)\n",
    "        V = V.astype(np.uint8)\n",
    "    else:\n",
    "        V = np.zeros_like(X, dtype=np.uint8)\n",
    "    return V\n",
    "\n",
    "def normalize(image, mean=None, std=None):\n",
    "    image = image / 255.0\n",
    "    if mean is not None and std is not None:\n",
    "        image = (image - mean) / std\n",
    "    return image.astype(np.float32)"
   ]
  },
  {
   "cell_type": "code",
   "execution_count": 6,
   "metadata": {
    "execution": {
     "iopub.execute_input": "2021-04-05T14:21:22.017394Z",
     "iopub.status.busy": "2021-04-05T14:21:22.016577Z",
     "iopub.status.idle": "2021-04-05T14:21:22.019262Z",
     "shell.execute_reply": "2021-04-05T14:21:22.018843Z"
    },
    "papermill": {
     "duration": 0.019956,
     "end_time": "2021-04-05T14:21:22.019367",
     "exception": false,
     "start_time": "2021-04-05T14:21:21.999411",
     "status": "completed"
    },
    "tags": []
   },
   "outputs": [],
   "source": [
    "NUM_SAMPLES = 65500\n",
    "sr = 48000\n",
    "fmin = 84\n",
    "fmax = sr // 2\n",
    "nmels = 128\n",
    "batch_size = 32\n",
    "random_seed = 42\n",
    "train_size = 0.8"
   ]
  },
  {
   "cell_type": "code",
   "execution_count": 7,
   "metadata": {
    "execution": {
     "iopub.execute_input": "2021-04-05T14:21:22.048227Z",
     "iopub.status.busy": "2021-04-05T14:21:22.047737Z",
     "iopub.status.idle": "2021-04-05T14:21:22.125824Z",
     "shell.execute_reply": "2021-04-05T14:21:22.125158Z"
    },
    "papermill": {
     "duration": 0.093732,
     "end_time": "2021-04-05T14:21:22.125970",
     "exception": false,
     "start_time": "2021-04-05T14:21:22.032238",
     "status": "completed"
    },
    "tags": []
   },
   "outputs": [],
   "source": [
    "recordings_old = sorted(os.listdir(data_dir))"
   ]
  },
  {
   "cell_type": "code",
   "execution_count": 8,
   "metadata": {
    "execution": {
     "iopub.execute_input": "2021-04-05T14:21:22.156558Z",
     "iopub.status.busy": "2021-04-05T14:21:22.156002Z",
     "iopub.status.idle": "2021-04-05T14:24:32.890315Z",
     "shell.execute_reply": "2021-04-05T14:24:32.889824Z"
    },
    "papermill": {
     "duration": 190.751176,
     "end_time": "2021-04-05T14:24:32.890485",
     "exception": false,
     "start_time": "2021-04-05T14:21:22.139309",
     "status": "completed"
    },
    "tags": []
   },
   "outputs": [],
   "source": [
    "recordings = []\n",
    "for x in recordings_old:\n",
    "    y, _ = librosa.load(data_dir + '/' + x, sr = sr)\n",
    "    if y.shape[0] >= NUM_SAMPLES:\n",
    "        recordings.append(x)"
   ]
  },
  {
   "cell_type": "code",
   "execution_count": 9,
   "metadata": {
    "execution": {
     "iopub.execute_input": "2021-04-05T14:24:32.925266Z",
     "iopub.status.busy": "2021-04-05T14:24:32.923897Z",
     "iopub.status.idle": "2021-04-05T14:24:32.927843Z",
     "shell.execute_reply": "2021-04-05T14:24:32.927431Z"
    },
    "papermill": {
     "duration": 0.023545,
     "end_time": "2021-04-05T14:24:32.927956",
     "exception": false,
     "start_time": "2021-04-05T14:24:32.904411",
     "status": "completed"
    },
    "tags": []
   },
   "outputs": [
    {
     "data": {
      "text/plain": [
       "638"
      ]
     },
     "execution_count": 9,
     "metadata": {},
     "output_type": "execute_result"
    }
   ],
   "source": [
    "len(recordings)"
   ]
  },
  {
   "cell_type": "code",
   "execution_count": 10,
   "metadata": {
    "execution": {
     "iopub.execute_input": "2021-04-05T14:24:32.960237Z",
     "iopub.status.busy": "2021-04-05T14:24:32.959744Z",
     "iopub.status.idle": "2021-04-05T14:24:33.271136Z",
     "shell.execute_reply": "2021-04-05T14:24:33.270659Z"
    },
    "papermill": {
     "duration": 0.329938,
     "end_time": "2021-04-05T14:24:33.271254",
     "exception": false,
     "start_time": "2021-04-05T14:24:32.941316",
     "status": "completed"
    },
    "tags": []
   },
   "outputs": [
    {
     "data": {
      "image/png": "[encoded data removed]",
      "text/plain": [
       "<Figure size 1440x432 with 1 Axes>"
      ]
     },
     "metadata": {
      "needs_background": "light"
     },
     "output_type": "display_data"
    }
   ],
   "source": [
    "y, _ = librosa.load(data_dir + '/' + recordings[200], sr = sr)\n",
    "begin = (len(y) - NUM_SAMPLES) // 2\n",
    "samples = y[begin:begin + NUM_SAMPLES]\n",
    "melspec = librosa.feature.melspectrogram(samples, sr=sr, n_mels = nmels)#, fmin=fmin, fmax=fmax)\n",
    "melspec = librosa.power_to_db(melspec)\n",
    "melspec = mono_to_color(melspec)\n",
    "melspec = normalize(melspec, mean=None, std=None)\n",
    "plt.figure(figsize = (20, 6))\n",
    "plt.imshow(melspec)\n",
    "plt.show()"
   ]
  },
  {
   "cell_type": "code",
   "execution_count": 11,
   "metadata": {
    "execution": {
     "iopub.execute_input": "2021-04-05T14:24:33.307998Z",
     "iopub.status.busy": "2021-04-05T14:24:33.307292Z",
     "iopub.status.idle": "2021-04-05T14:24:33.310609Z",
     "shell.execute_reply": "2021-04-05T14:24:33.311007Z"
    },
    "papermill": {
     "duration": 0.024265,
     "end_time": "2021-04-05T14:24:33.311140",
     "exception": false,
     "start_time": "2021-04-05T14:24:33.286875",
     "status": "completed"
    },
    "tags": []
   },
   "outputs": [
    {
     "data": {
      "text/plain": [
       "(128, 128)"
      ]
     },
     "execution_count": 11,
     "metadata": {},
     "output_type": "execute_result"
    }
   ],
   "source": [
    "image_size = melspec.shape\n",
    "image_size"
   ]
  },
  {
   "cell_type": "code",
   "execution_count": 12,
   "metadata": {
    "execution": {
     "iopub.execute_input": "2021-04-05T14:24:33.348275Z",
     "iopub.status.busy": "2021-04-05T14:24:33.347691Z",
     "iopub.status.idle": "2021-04-05T14:24:33.368804Z",
     "shell.execute_reply": "2021-04-05T14:24:33.368367Z"
    },
    "papermill": {
     "duration": 0.042044,
     "end_time": "2021-04-05T14:24:33.368916",
     "exception": false,
     "start_time": "2021-04-05T14:24:33.326872",
     "status": "completed"
    },
    "tags": []
   },
   "outputs": [],
   "source": [
    "melspec = torch.tensor(melspec)\n",
    "melspec = torch.stack([melspec, melspec, melspec])"
   ]
  },
  {
   "cell_type": "code",
   "execution_count": 13,
   "metadata": {
    "execution": {
     "iopub.execute_input": "2021-04-05T14:24:33.415190Z",
     "iopub.status.busy": "2021-04-05T14:24:33.414445Z",
     "iopub.status.idle": "2021-04-05T14:24:33.417451Z",
     "shell.execute_reply": "2021-04-05T14:24:33.417036Z"
    },
    "papermill": {
     "duration": 0.032014,
     "end_time": "2021-04-05T14:24:33.417579",
     "exception": false,
     "start_time": "2021-04-05T14:24:33.385565",
     "status": "completed"
    },
    "tags": []
   },
   "outputs": [],
   "source": [
    "def noise_augmentation(im, var = 0.01):\n",
    "    noise = var * torch.randn(im.shape[1], im.shape[2])\n",
    "    im[0, :, :] += noise\n",
    "    im[1, :, :] += noise\n",
    "    im[2, :, :] += noise\n",
    "    return im\n",
    "\n",
    "def shift_augmentation(image, max_shift = 10):\n",
    "    shift = np.random.randint(max_shift)\n",
    "    p = np.random.rand()\n",
    "    if p < 0.5:\n",
    "        image[:, :, shift:] = image[:, :, :image.shape[2] - shift]\n",
    "        image[:, :, :shift] = 0.0\n",
    "    else:\n",
    "        image[:, :, :image.shape[2] - shift] = image[:, :, shift:]\n",
    "        image[:, :, image.shape[2] - shift:] = 0.0\n",
    "    return image\n",
    "    \n",
    "def random_erasing(image, max_a = 7, max_b = 7):\n",
    "    a = np.random.randint(max_a)\n",
    "    b = np.random.randint(max_b)\n",
    "    a0 = np.random.randint(image.shape[1] - max_a)\n",
    "    b0 = np.random.randint(image.shape[2] - max_a)\n",
    "    image[:, a0 : a0 + a, b0 : b0 + b] = 0\n",
    "    return image\n",
    "    \n",
    "    \n",
    "def augmentation(im, mode = 'No'):\n",
    "    image = im.clone()\n",
    "    if mode == 'TimeMasking':\n",
    "        return T.TimeMasking(25)(image)\n",
    "    if mode == 'FreqMasking':\n",
    "        return T.FrequencyMasking(12)(image)\n",
    "    if mode == 'RandomErasing':\n",
    "        return random_erasing(image, 10, 10)\n",
    "    if mode == 'Shift':\n",
    "        return shift_augmentation(image)\n",
    "    if mode == 'Noise':\n",
    "        return noise_augmentation(image)\n",
    "    \n",
    "    return image"
   ]
  },
  {
   "cell_type": "code",
   "execution_count": 14,
   "metadata": {
    "execution": {
     "iopub.execute_input": "2021-04-05T14:24:33.457798Z",
     "iopub.status.busy": "2021-04-05T14:24:33.457127Z",
     "iopub.status.idle": "2021-04-05T14:24:33.460005Z",
     "shell.execute_reply": "2021-04-05T14:24:33.459613Z"
    },
    "papermill": {
     "duration": 0.02488,
     "end_time": "2021-04-05T14:24:33.460112",
     "exception": false,
     "start_time": "2021-04-05T14:24:33.435232",
     "status": "completed"
    },
    "tags": []
   },
   "outputs": [],
   "source": [
    "def get_spectrograms(filename):\n",
    "    y, _ = librosa.load(filename, sr = sr)\n",
    "    count = len(y) // NUM_SAMPLES\n",
    "    mel_spectrograms = []\n",
    "    for i in range(count):\n",
    "        samples = y[i * NUM_SAMPLES:(i + 1) * NUM_SAMPLES]\n",
    "        melspec = librosa.feature.melspectrogram(samples, sr=sr, n_mels=nmels, fmin=fmin, fmax=fmax)\n",
    "        melspec = librosa.power_to_db(melspec)\n",
    "        melspec = mono_to_color(melspec)\n",
    "        melspec = normalize(melspec, mean=None, std=None)\n",
    "        mel_spectrograms.append(torch.tensor(melspec, dtype=torch.float32))\n",
    "\n",
    "    return mel_spectrograms, count"
   ]
  },
  {
   "cell_type": "code",
   "execution_count": 15,
   "metadata": {
    "execution": {
     "iopub.execute_input": "2021-04-05T14:24:33.499686Z",
     "iopub.status.busy": "2021-04-05T14:24:33.499033Z",
     "iopub.status.idle": "2021-04-05T14:24:33.501894Z",
     "shell.execute_reply": "2021-04-05T14:24:33.501367Z"
    },
    "papermill": {
     "duration": 0.025841,
     "end_time": "2021-04-05T14:24:33.501998",
     "exception": false,
     "start_time": "2021-04-05T14:24:33.476157",
     "status": "completed"
    },
    "tags": []
   },
   "outputs": [],
   "source": [
    "class HeartbeatSounds(Dataset):\n",
    "    def __init__(self, keys, mode = 'train', data = [], labels = [], augment = False, aug_type = 'No'):\n",
    "        super().__init__()\n",
    "        self.n = len(keys)\n",
    "        self.data = []\n",
    "        self.labels = []\n",
    "        self.augment = augment\n",
    "        self.aug_type = aug_type\n",
    "        for i in keys:\n",
    "            self.data.append(data[i])\n",
    "            self.labels.append(labels[i])\n",
    "\n",
    "    def __getitem__(self, i):\n",
    "        X = self.data[i]\n",
    "        X = torch.stack([X, X, X])\n",
    "        if self.augment:\n",
    "            X = augmentation(X, self.aug_type)\n",
    "        return X, self.labels[i]\n",
    "\n",
    "    def __len__(self):\n",
    "        return self.n"
   ]
  },
  {
   "cell_type": "code",
   "execution_count": 16,
   "metadata": {
    "execution": {
     "iopub.execute_input": "2021-04-05T14:24:33.541473Z",
     "iopub.status.busy": "2021-04-05T14:24:33.540782Z",
     "iopub.status.idle": "2021-04-05T14:27:36.571459Z",
     "shell.execute_reply": "2021-04-05T14:27:36.570359Z"
    },
    "papermill": {
     "duration": 183.053406,
     "end_time": "2021-04-05T14:27:36.571613",
     "exception": false,
     "start_time": "2021-04-05T14:24:33.518207",
     "status": "completed"
    },
    "tags": []
   },
   "outputs": [],
   "source": [
    "data = []\n",
    "labels = []\n",
    "for i in range(len(recordings)):\n",
    "    if 'normal' in recordings[i]:\n",
    "        label = 0\n",
    "        mel_spectrograms, count = get_spectrograms(data_dir + '/' + recordings[i])\n",
    "        for j in range(count):\n",
    "            data.append(mel_spectrograms[j])\n",
    "            labels.append(label)\n",
    "    elif 'extrastole' in recordings[i]:\n",
    "        label = 1\n",
    "        mel_spectrograms, count = get_spectrograms(data_dir + '/' + recordings[i])\n",
    "        for j in range(count):\n",
    "            data.append(mel_spectrograms[j])\n",
    "            labels.append(label)\n",
    "    elif 'murmur' in recordings[i]:\n",
    "        label = 2\n",
    "        mel_spectrograms, count = get_spectrograms(data_dir + '/' + recordings[i])\n",
    "        for j in range(count):\n",
    "            data.append(mel_spectrograms[j])\n",
    "            labels.append(label)"
   ]
  },
  {
   "cell_type": "code",
   "execution_count": 17,
   "metadata": {
    "execution": {
     "iopub.execute_input": "2021-04-05T14:27:36.613218Z",
     "iopub.status.busy": "2021-04-05T14:27:36.612559Z",
     "iopub.status.idle": "2021-04-05T14:27:36.615872Z",
     "shell.execute_reply": "2021-04-05T14:27:36.615462Z"
    },
    "papermill": {
     "duration": 0.027129,
     "end_time": "2021-04-05T14:27:36.615986",
     "exception": false,
     "start_time": "2021-04-05T14:27:36.588857",
     "status": "completed"
    },
    "tags": []
   },
   "outputs": [],
   "source": [
    "keys = np.arange(len(data))\n",
    "train_keys, test_keys = train_test_split(keys, train_size=train_size, random_state=random_seed)\n",
    "train_keys, valid_keys = train_test_split(train_keys, train_size=train_size, random_state=random_seed)"
   ]
  },
  {
   "cell_type": "code",
   "execution_count": 18,
   "metadata": {
    "execution": {
     "iopub.execute_input": "2021-04-05T14:27:36.661954Z",
     "iopub.status.busy": "2021-04-05T14:27:36.661180Z",
     "iopub.status.idle": "2021-04-05T14:27:36.664029Z",
     "shell.execute_reply": "2021-04-05T14:27:36.663622Z"
    },
    "papermill": {
     "duration": 0.030581,
     "end_time": "2021-04-05T14:27:36.664142",
     "exception": false,
     "start_time": "2021-04-05T14:27:36.633561",
     "status": "completed"
    },
    "tags": []
   },
   "outputs": [],
   "source": [
    "def train(model, loss_fn, train_loader, valid_loader, epochs, optimizer, augment = 'No'):\n",
    "    best_model_wts = copy.deepcopy(model.state_dict())\n",
    "    best_acc = 0.0\n",
    "    train_losses = []\n",
    "    valid_losses = []\n",
    "    valid_acc = []\n",
    "    best_train_acc = 0.0\n",
    "    for epoch in range(epochs):\n",
    "        print('epoch:', epoch)\n",
    "        model.train()\n",
    "        sum_loss = 0\n",
    "        sum_accuracy = 0\n",
    "        cnt_objects = 0\n",
    "        for X, y in train_dataloader:\n",
    "            optimizer.zero_grad()\n",
    "            X = X.to(device)\n",
    "            scores = model(X)\n",
    "            loss = criterion(scores, y.to(device))\n",
    "            loss.backward()\n",
    "            optimizer.step()\n",
    "            sum_loss += float(loss) * len(y)\n",
    "            cnt_objects += len(y)\n",
    "\n",
    "        mean_loss = sum_loss / cnt_objects\n",
    "        train_losses.append(mean_loss)\n",
    "        print('Train')\n",
    "        print(mean_loss)\n",
    "\n",
    "        model.eval()\n",
    "        sum_loss = 0\n",
    "        sum_accuracy = 0\n",
    "        cnt_objects = 0\n",
    "        with torch.no_grad():\n",
    "            for X, y in valid_loader:\n",
    "                X = X.to(device)\n",
    "                scores = model(X)\n",
    "                loss = criterion(scores, y.to(device))\n",
    "                sum_loss += float(loss) * len(y)\n",
    "                preds = scores.cpu().detach().argmax(dim=1)\n",
    "                accuracy = float((y == preds).float().sum())\n",
    "                sum_accuracy += accuracy\n",
    "                cnt_objects += len(y)\n",
    "\n",
    "        print('TEST')\n",
    "        mean_loss = sum_loss / cnt_objects\n",
    "        valid_losses.append(mean_loss)\n",
    "        mean_accuracy = sum_accuracy / cnt_objects\n",
    "        valid_acc.append(mean_accuracy)\n",
    "        if mean_accuracy > best_acc:\n",
    "            best_acc = mean_accuracy\n",
    "            best_model_wts = copy.deepcopy(model.state_dict())\n",
    "        print('loss:', mean_loss)\n",
    "        print('accuracy:', mean_accuracy)\n",
    "        print('******************')\n",
    "    print('Accuracy on the validation: ', best_acc)\n",
    "    model.load_state_dict(best_model_wts)\n",
    "    return model, train_losses, valid_losses, valid_acc"
   ]
  },
  {
   "cell_type": "code",
   "execution_count": 19,
   "metadata": {
    "execution": {
     "iopub.execute_input": "2021-04-05T14:27:36.702762Z",
     "iopub.status.busy": "2021-04-05T14:27:36.702098Z",
     "iopub.status.idle": "2021-04-05T14:27:36.704955Z",
     "shell.execute_reply": "2021-04-05T14:27:36.704455Z"
    },
    "papermill": {
     "duration": 0.024618,
     "end_time": "2021-04-05T14:27:36.705056",
     "exception": false,
     "start_time": "2021-04-05T14:27:36.680438",
     "status": "completed"
    },
    "tags": []
   },
   "outputs": [],
   "source": [
    "def evaluate(model, test_loader):\n",
    "    model.eval()\n",
    "    #all_preds = []\n",
    "    sum_accuracy = 0\n",
    "    cnt_objects = 0\n",
    "    with torch.no_grad():\n",
    "        for X, y in test_loader:\n",
    "            X = X.to(device)\n",
    "            scores = model(X)\n",
    "            preds = scores.cpu().detach().argmax(dim=1)\n",
    "            accuracy = float((y == preds).float().sum())\n",
    "            sum_accuracy += accuracy\n",
    "            cnt_objects += len(y)\n",
    "            #all_preds.append(preds)\n",
    "\n",
    "    mean_accuracy = sum_accuracy / cnt_objects\n",
    "    print('Quality of the model')\n",
    "    print('accuracy:', mean_accuracy)"
   ]
  },
  {
   "cell_type": "markdown",
   "metadata": {
    "papermill": {
     "duration": 0.016557,
     "end_time": "2021-04-05T14:27:36.738182",
     "exception": false,
     "start_time": "2021-04-05T14:27:36.721625",
     "status": "completed"
    },
    "tags": []
   },
   "source": [
    "## Resnet18"
   ]
  },
  {
   "cell_type": "markdown",
   "metadata": {
    "papermill": {
     "duration": 0.018638,
     "end_time": "2021-04-05T14:27:36.773703",
     "exception": false,
     "start_time": "2021-04-05T14:27:36.755065",
     "status": "completed"
    },
    "tags": []
   },
   "source": [
    "### No Augmentation"
   ]
  },
  {
   "cell_type": "code",
   "execution_count": 20,
   "metadata": {
    "execution": {
     "iopub.execute_input": "2021-04-05T14:27:36.814625Z",
     "iopub.status.busy": "2021-04-05T14:27:36.814078Z",
     "iopub.status.idle": "2021-04-05T14:29:57.019728Z",
     "shell.execute_reply": "2021-04-05T14:29:57.020107Z"
    },
    "papermill": {
     "duration": 140.230096,
     "end_time": "2021-04-05T14:29:57.020280",
     "exception": false,
     "start_time": "2021-04-05T14:27:36.790184",
     "status": "completed"
    },
    "tags": []
   },
   "outputs": [
    {
     "name": "stdout",
     "output_type": "stream",
     "text": [
      "setting everything to seed 42\n"
     ]
    },
    {
     "name": "stderr",
     "output_type": "stream",
     "text": [
      "Downloading: \"https://download.pytorch.org/models/resnet18-5c106cde.pth\" to /root/.cache/torch/hub/checkpoints/resnet18-5c106cde.pth\n"
     ]
    },
    {
     "data": {
      "application/vnd.jupyter.widget-view+json": {
       "model_id": "f6dcae69202b47b18f570df35e1618ff",
       "version_major": 2,
       "version_minor": 0
      },
      "text/plain": [
       "  0%|          | 0.00/44.7M [00:00<?, ?B/s]"
      ]
     },
     "metadata": {},
     "output_type": "display_data"
    },
    {
     "name": "stdout",
     "output_type": "stream",
     "text": [
      "epoch: 0\n",
      "Train\n",
      "0.7468241709532295\n",
      "TEST\n",
      "loss: 0.7772527705109309\n",
      "accuracy: 0.7174603174603175\n",
      "******************\n",
      "epoch: 1\n",
      "Train\n",
      "0.5632650236272926\n",
      "TEST\n",
      "loss: 0.7328172238100142\n",
      "accuracy: 0.7428571428571429\n",
      "******************\n",
      "epoch: 2\n",
      "Train\n",
      "0.511602355337408\n",
      "TEST\n",
      "loss: 0.5548395072656964\n",
      "accuracy: 0.7936507936507936\n",
      "******************\n",
      "epoch: 3\n",
      "Train\n",
      "0.41057869467686053\n",
      "TEST\n",
      "loss: 2.086079226221357\n",
      "accuracy: 0.37142857142857144\n",
      "******************\n",
      "epoch: 4\n",
      "Train\n",
      "0.3991234075748513\n",
      "TEST\n",
      "loss: 0.517795675519913\n",
      "accuracy: 0.8031746031746032\n",
      "******************\n",
      "epoch: 5\n",
      "Train\n",
      "0.30940044480150325\n",
      "TEST\n",
      "loss: 1.5891367083504087\n",
      "accuracy: 0.42857142857142855\n",
      "******************\n",
      "epoch: 6\n",
      "Train\n",
      "0.3035099110236899\n",
      "TEST\n",
      "loss: 0.588852954667712\n",
      "accuracy: 0.7936507936507936\n",
      "******************\n",
      "epoch: 7\n",
      "Train\n",
      "0.25193447648674083\n",
      "TEST\n",
      "loss: 1.2898523964579143\n",
      "accuracy: 0.7111111111111111\n",
      "******************\n",
      "epoch: 8\n",
      "Train\n",
      "0.2199334117322805\n",
      "TEST\n",
      "loss: 0.7667602245769803\n",
      "accuracy: 0.765079365079365\n",
      "******************\n",
      "epoch: 9\n",
      "Train\n",
      "0.13458114834036308\n",
      "TEST\n",
      "loss: 3.003260540583777\n",
      "accuracy: 0.7333333333333333\n",
      "******************\n",
      "epoch: 10\n",
      "Train\n",
      "0.19953303530255986\n",
      "TEST\n",
      "loss: 0.8919433268289717\n",
      "accuracy: 0.8031746031746032\n",
      "******************\n",
      "epoch: 11\n",
      "Train\n",
      "0.19201603749762508\n",
      "TEST\n",
      "loss: 0.919278065174345\n",
      "accuracy: 0.7873015873015873\n",
      "******************\n",
      "epoch: 12\n",
      "Train\n",
      "0.08908432932767345\n",
      "TEST\n",
      "loss: 0.7590895824962192\n",
      "accuracy: 0.8031746031746032\n",
      "******************\n",
      "epoch: 13\n",
      "Train\n",
      "0.0946431489804844\n",
      "TEST\n",
      "loss: 2.3944444830455476\n",
      "accuracy: 0.5047619047619047\n",
      "******************\n",
      "epoch: 14\n",
      "Train\n",
      "0.09120280238799011\n",
      "TEST\n",
      "loss: 0.9169427308771345\n",
      "accuracy: 0.8095238095238095\n",
      "******************\n",
      "epoch: 15\n",
      "Train\n",
      "0.08896980560706474\n",
      "TEST\n",
      "loss: 0.9380179935031467\n",
      "accuracy: 0.8\n",
      "******************\n",
      "epoch: 16\n",
      "Train\n",
      "0.07763612802370472\n",
      "TEST\n",
      "loss: 1.3467633755434127\n",
      "accuracy: 0.7936507936507936\n",
      "******************\n",
      "epoch: 17\n",
      "Train\n",
      "0.08795337910993976\n",
      "TEST\n",
      "loss: 2.1402119424608017\n",
      "accuracy: 0.4888888888888889\n",
      "******************\n",
      "epoch: 18\n",
      "Train\n",
      "0.180699816383451\n",
      "TEST\n",
      "loss: 1.6991925031419783\n",
      "accuracy: 0.7523809523809524\n",
      "******************\n",
      "epoch: 19\n",
      "Train\n",
      "0.09208430335032174\n",
      "TEST\n",
      "loss: 0.9098921744596391\n",
      "accuracy: 0.7904761904761904\n",
      "******************\n",
      "epoch: 20\n",
      "Train\n",
      "0.059162106712639474\n",
      "TEST\n",
      "loss: 1.1454276957209149\n",
      "accuracy: 0.780952380952381\n",
      "******************\n",
      "epoch: 21\n",
      "Train\n",
      "0.046061123673218976\n",
      "TEST\n",
      "loss: 2.8306683896079896\n",
      "accuracy: 0.4380952380952381\n",
      "******************\n",
      "epoch: 22\n",
      "Train\n",
      "0.06475790832162116\n",
      "TEST\n",
      "loss: 1.88694630974815\n",
      "accuracy: 0.7619047619047619\n",
      "******************\n",
      "epoch: 23\n",
      "Train\n",
      "0.016685152566911117\n",
      "TEST\n",
      "loss: 0.8667909915485079\n",
      "accuracy: 0.819047619047619\n",
      "******************\n",
      "epoch: 24\n",
      "Train\n",
      "0.006594449607544446\n",
      "TEST\n",
      "loss: 0.7755937387072851\n",
      "accuracy: 0.834920634920635\n",
      "******************\n",
      "epoch: 25\n",
      "Train\n",
      "0.022446828304380887\n",
      "TEST\n",
      "loss: 2.1357308380187505\n",
      "accuracy: 0.7523809523809524\n",
      "******************\n",
      "epoch: 26\n",
      "Train\n",
      "0.04148903226951837\n",
      "TEST\n",
      "loss: 0.9363765016434684\n",
      "accuracy: 0.8\n",
      "******************\n",
      "epoch: 27\n",
      "Train\n",
      "0.09119339905401087\n",
      "TEST\n",
      "loss: 1.4651886332602728\n",
      "accuracy: 0.8095238095238095\n",
      "******************\n",
      "epoch: 28\n",
      "Train\n",
      "0.08189247111047192\n",
      "TEST\n",
      "loss: 1.0387926712868705\n",
      "accuracy: 0.7904761904761904\n",
      "******************\n",
      "epoch: 29\n",
      "Train\n",
      "0.05769525578865416\n",
      "TEST\n",
      "loss: 1.3141831844572036\n",
      "accuracy: 0.7777777777777778\n",
      "******************\n",
      "epoch: 30\n",
      "Train\n",
      "0.04328264572492684\n",
      "TEST\n",
      "loss: 0.7446642023230355\n",
      "accuracy: 0.8317460317460318\n",
      "******************\n",
      "epoch: 31\n",
      "Train\n",
      "0.023834032230885482\n",
      "TEST\n",
      "loss: 0.9009983128971524\n",
      "accuracy: 0.7587301587301587\n",
      "******************\n",
      "epoch: 32\n",
      "Train\n",
      "0.009343389506308277\n",
      "TEST\n",
      "loss: 1.0328589664565193\n",
      "accuracy: 0.8317460317460318\n",
      "******************\n",
      "epoch: 33\n",
      "Train\n",
      "0.0036404071399953877\n",
      "TEST\n",
      "loss: 0.8919800830265833\n",
      "accuracy: 0.8444444444444444\n",
      "******************\n",
      "epoch: 34\n",
      "Train\n",
      "0.0013006551450024477\n",
      "TEST\n",
      "loss: 0.9772334761089749\n",
      "accuracy: 0.8380952380952381\n",
      "******************\n",
      "epoch: 35\n",
      "Train\n",
      "0.000591886715077284\n",
      "TEST\n",
      "loss: 0.9910745433398656\n",
      "accuracy: 0.8412698412698413\n",
      "******************\n",
      "epoch: 36\n",
      "Train\n",
      "0.002309297905631563\n",
      "TEST\n",
      "loss: 0.9597021649754237\n",
      "accuracy: 0.780952380952381\n",
      "******************\n",
      "epoch: 37\n",
      "Train\n",
      "0.010961220368914561\n",
      "TEST\n",
      "loss: 1.097907963442424\n",
      "accuracy: 0.8158730158730159\n",
      "******************\n",
      "epoch: 38\n",
      "Train\n",
      "0.09764362699955087\n",
      "TEST\n",
      "loss: 0.8994436614097111\n",
      "accuracy: 0.7682539682539683\n",
      "******************\n",
      "epoch: 39\n",
      "Train\n",
      "0.03944654077249139\n",
      "TEST\n",
      "loss: 1.709784956583901\n",
      "accuracy: 0.8095238095238095\n",
      "******************\n",
      "epoch: 40\n",
      "Train\n",
      "0.0493617993317148\n",
      "TEST\n",
      "loss: 0.9250142218574645\n",
      "accuracy: 0.726984126984127\n",
      "******************\n",
      "epoch: 41\n",
      "Train\n",
      "0.021348046469542838\n",
      "TEST\n",
      "loss: 1.0369296206368341\n",
      "accuracy: 0.7523809523809524\n",
      "******************\n",
      "epoch: 42\n",
      "Train\n",
      "0.08652577304811682\n",
      "TEST\n",
      "loss: 1.1562858696021732\n",
      "accuracy: 0.8253968253968254\n",
      "******************\n",
      "epoch: 43\n",
      "Train\n",
      "0.05877848643353882\n",
      "TEST\n",
      "loss: 0.9405052296699039\n",
      "accuracy: 0.8158730158730159\n",
      "******************\n",
      "epoch: 44\n",
      "Train\n",
      "0.022053404380526685\n",
      "TEST\n",
      "loss: 1.0607982778359972\n",
      "accuracy: 0.8317460317460318\n",
      "******************\n",
      "epoch: 45\n",
      "Train\n",
      "0.028740972339680877\n",
      "TEST\n",
      "loss: 1.0640478792644683\n",
      "accuracy: 0.7587301587301587\n",
      "******************\n",
      "epoch: 46\n",
      "Train\n",
      "0.012221586028730897\n",
      "TEST\n",
      "loss: 1.129511612937564\n",
      "accuracy: 0.7682539682539683\n",
      "******************\n",
      "epoch: 47\n",
      "Train\n",
      "0.039009445878019446\n",
      "TEST\n",
      "loss: 1.038179297863491\n",
      "accuracy: 0.7968253968253968\n",
      "******************\n",
      "epoch: 48\n",
      "Train\n",
      "0.013379190458876922\n",
      "TEST\n",
      "loss: 1.080638871684907\n",
      "accuracy: 0.765079365079365\n",
      "******************\n",
      "epoch: 49\n",
      "Train\n",
      "0.026080677106018232\n",
      "TEST\n",
      "loss: 1.3564246308235894\n",
      "accuracy: 0.8031746031746032\n",
      "******************\n",
      "epoch: 50\n",
      "Train\n",
      "0.007959912899464393\n",
      "TEST\n",
      "loss: 1.06510368661275\n",
      "accuracy: 0.7587301587301587\n",
      "******************\n",
      "epoch: 51\n",
      "Train\n",
      "0.008966079036867197\n",
      "TEST\n",
      "loss: 1.0770429999109299\n",
      "accuracy: 0.780952380952381\n",
      "******************\n",
      "epoch: 52\n",
      "Train\n",
      "0.021959091529904436\n",
      "TEST\n",
      "loss: 1.7137143704626294\n",
      "accuracy: 0.8158730158730159\n",
      "******************\n",
      "epoch: 53\n",
      "Train\n",
      "0.010024477251508733\n",
      "TEST\n",
      "loss: 1.8421337352858649\n",
      "accuracy: 0.7841269841269841\n",
      "******************\n",
      "epoch: 54\n",
      "Train\n",
      "0.0048292160006069874\n",
      "TEST\n",
      "loss: 1.13085258082738\n",
      "accuracy: 0.8222222222222222\n",
      "******************\n",
      "epoch: 55\n",
      "Train\n",
      "0.003780314027970898\n",
      "TEST\n",
      "loss: 1.0621263700818258\n",
      "accuracy: 0.8158730158730159\n",
      "******************\n",
      "epoch: 56\n",
      "Train\n",
      "0.0013459179432699464\n",
      "TEST\n",
      "loss: 1.2226368459444197\n",
      "accuracy: 0.8222222222222222\n",
      "******************\n",
      "epoch: 57\n",
      "Train\n",
      "0.0008107156427488371\n",
      "TEST\n",
      "loss: 1.2572516042088706\n",
      "accuracy: 0.819047619047619\n",
      "******************\n",
      "epoch: 58\n",
      "Train\n",
      "0.0010741474857735814\n",
      "TEST\n",
      "loss: 1.1959016945627001\n",
      "accuracy: 0.8380952380952381\n",
      "******************\n",
      "epoch: 59\n",
      "Train\n",
      "0.0019414057154143233\n",
      "TEST\n",
      "loss: 1.613421993217771\n",
      "accuracy: 0.7936507936507936\n",
      "******************\n",
      "epoch: 60\n",
      "Train\n",
      "0.001739290102297696\n",
      "TEST\n",
      "loss: 1.2152254657139854\n",
      "accuracy: 0.834920634920635\n",
      "******************\n",
      "epoch: 61\n",
      "Train\n",
      "0.00051986000838492\n",
      "TEST\n",
      "loss: 1.4037748068098037\n",
      "accuracy: 0.8095238095238095\n",
      "******************\n",
      "epoch: 62\n",
      "Train\n",
      "0.0004927343807031191\n",
      "TEST\n",
      "loss: 1.3075645706010244\n",
      "accuracy: 0.8317460317460318\n",
      "******************\n",
      "epoch: 63\n",
      "Train\n",
      "0.0002621363915500098\n",
      "TEST\n",
      "loss: 1.2164352114238437\n",
      "accuracy: 0.834920634920635\n",
      "******************\n",
      "epoch: 64\n",
      "Train\n",
      "0.00032844456104970203\n",
      "TEST\n",
      "loss: 1.2203141571983458\n",
      "accuracy: 0.8285714285714286\n",
      "******************\n",
      "epoch: 65\n",
      "Train\n",
      "0.00019684262737662127\n",
      "TEST\n",
      "loss: 1.3243670936614749\n",
      "accuracy: 0.8317460317460318\n",
      "******************\n",
      "epoch: 66\n",
      "Train\n",
      "0.0001369194320920482\n",
      "TEST\n",
      "loss: 1.2959646389597939\n",
      "accuracy: 0.8317460317460318\n",
      "******************\n",
      "epoch: 67\n",
      "Train\n",
      "0.0001321156463958249\n",
      "TEST\n",
      "loss: 1.2660666287891449\n",
      "accuracy: 0.834920634920635\n",
      "******************\n",
      "epoch: 68\n",
      "Train\n",
      "0.00013098826441785302\n",
      "TEST\n",
      "loss: 1.3200546881509205\n",
      "accuracy: 0.8222222222222222\n",
      "******************\n",
      "epoch: 69\n",
      "Train\n",
      "4.0324878645598494e-05\n",
      "TEST\n",
      "loss: 1.3829712298181323\n",
      "accuracy: 0.8222222222222222\n",
      "******************\n",
      "Accuracy on the validation:  0.8444444444444444\n"
     ]
    }
   ],
   "source": [
    "seed_everything(42)\n",
    "\n",
    "train_dataset = HeartbeatSounds(mode='train', data = data, labels = labels, augment = False, keys = train_keys)\n",
    "valid_dataset = HeartbeatSounds(mode='valid', data = data, labels = labels, keys = valid_keys)\n",
    "test_dataset = HeartbeatSounds(mode='test', data = data, labels = labels, keys = test_keys)\n",
    "\n",
    "train_dataloader = DataLoader(train_dataset, batch_size=batch_size, shuffle=True)\n",
    "valid_dataloader = DataLoader(valid_dataset, batch_size=batch_size, shuffle=False)\n",
    "test_dataloader = DataLoader(test_dataset, batch_size=batch_size, shuffle=False)\n",
    "\n",
    "model = resnet18(pretrained=True)\n",
    "num_ftrs = model.fc.in_features\n",
    "model.fc = torch.nn.Linear(num_ftrs, 3)\n",
    "model = model.to(device)\n",
    "\n",
    "epochs = 70\n",
    "criterion = torch.nn.CrossEntropyLoss()\n",
    "optimizer = torch.optim.Adam(model.parameters())\n",
    "\n",
    "model, train_losses, valid_losses, valid_acc = train(model, criterion, train_dataloader, valid_dataloader, epochs, optimizer)"
   ]
  },
  {
   "cell_type": "code",
   "execution_count": 21,
   "metadata": {
    "execution": {
     "iopub.execute_input": "2021-04-05T14:29:57.096101Z",
     "iopub.status.busy": "2021-04-05T14:29:57.095557Z",
     "iopub.status.idle": "2021-04-05T14:29:57.290136Z",
     "shell.execute_reply": "2021-04-05T14:29:57.289312Z"
    },
    "papermill": {
     "duration": 0.234293,
     "end_time": "2021-04-05T14:29:57.290321",
     "exception": false,
     "start_time": "2021-04-05T14:29:57.056028",
     "status": "completed"
    },
    "tags": []
   },
   "outputs": [
    {
     "name": "stdout",
     "output_type": "stream",
     "text": [
      "Quality of the model\n",
      "accuracy: 0.8401015228426396\n"
     ]
    }
   ],
   "source": [
    "evaluate(model, test_dataloader)"
   ]
  },
  {
   "cell_type": "code",
   "execution_count": 22,
   "metadata": {
    "execution": {
     "iopub.execute_input": "2021-04-05T14:29:57.413880Z",
     "iopub.status.busy": "2021-04-05T14:29:57.381810Z",
     "iopub.status.idle": "2021-04-05T14:29:57.527800Z",
     "shell.execute_reply": "2021-04-05T14:29:57.528198Z"
    },
    "papermill": {
     "duration": 0.201652,
     "end_time": "2021-04-05T14:29:57.528349",
     "exception": false,
     "start_time": "2021-04-05T14:29:57.326697",
     "status": "completed"
    },
    "tags": []
   },
   "outputs": [
    {
     "data": {
      "image/png": "[encoded data removed]",
      "text/plain": [
       "<Figure size 432x288 with 1 Axes>"
      ]
     },
     "metadata": {
      "needs_background": "light"
     },
     "output_type": "display_data"
    }
   ],
   "source": [
    "plt.plot(np.arange(epochs), train_losses, label = 'train_loss')\n",
    "plt.plot(np.arange(epochs), valid_losses, label = 'valid_loss')\n",
    "plt.plot(np.arange(epochs), valid_acc, label = 'valid_accuracy')\n",
    "plt.legend()\n",
    "plt.show()"
   ]
  }
 ],
 "metadata": {
  "kernelspec": {
   "display_name": "Python 3",
   "language": "python",
   "name": "python3"
  },
  "language_info": {
   "codemirror_mode": {
    "name": "ipython",
    "version": 3
   },
   "file_extension": ".py",
   "mimetype": "text/x-python",
   "name": "python",
   "nbconvert_exporter": "python",
   "pygments_lexer": "ipython3",
   "version": "3.7.9"
  },
  "papermill": {
   "default_parameters": {},
   "duration": 525.796629,
   "end_time": "2021-04-05T14:29:58.875857",
   "environment_variables": {},
   "exception": null,
   "input_path": "__notebook__.ipynb",
   "output_path": "__notebook__.ipynb",
   "parameters": {},
   "start_time": "2021-04-05T14:21:13.079228",
   "version": "2.2.2"
  },
  "widgets": {
   "application/vnd.jupyter.widget-state+json": {
    "state": {
     "005af3009e9a490990e1421ad2de3fbb": {
      "model_module": "@jupyter-widgets/base",
      "model_module_version": "1.2.0",
      "model_name": "LayoutModel",
      "state": {
       "_model_module": "@jupyter-widgets/base",
       "_model_module_version": "1.2.0",
       "_model_name": "LayoutModel",
       "_view_count": null,
       "_view_module": "@jupyter-widgets/base",
       "_view_module_version": "1.2.0",
       "_view_name": "LayoutView",
       "align_content": null,
       "align_items": null,
       "align_self": null,
       "border": null,
       "bottom": null,
       "display": null,
       "flex": null,
       "flex_flow": null,
       "grid_area": null,
       "grid_auto_columns": null,
       "grid_auto_flow": null,
       "grid_auto_rows": null,
       "grid_column": null,
       "grid_gap": null,
       "grid_row": null,
       "grid_template_areas": null,
       "grid_template_columns": null,
       "grid_template_rows": null,
       "height": null,
       "justify_content": null,
       "justify_items": null,
       "left": null,
       "margin": null,
       "max_height": null,
       "max_width": null,
       "min_height": null,
       "min_width": null,
       "object_fit": null,
       "object_position": null,
       "order": null,
       "overflow": null,
       "overflow_x": null,
       "overflow_y": null,
       "padding": null,
       "right": null,
       "top": null,
       "visibility": null,
       "width": null
      }
     },
     "10cd5ae9e4f44b34b1ebd3196132f406": {
      "model_module": "@jupyter-widgets/controls",
      "model_module_version": "1.5.0",
      "model_name": "FloatProgressModel",
      "state": {
       "_dom_classes": [],
       "_model_module": "@jupyter-widgets/controls",
       "_model_module_version": "1.5.0",
       "_model_name": "FloatProgressModel",
       "_view_count": null,
       "_view_module": "@jupyter-widgets/controls",
       "_view_module_version": "1.5.0",
       "_view_name": "ProgressView",
       "bar_style": "success",
       "description": "",
       "description_tooltip": null,
       "layout": "IPY_MODEL_49ecfa0e07bd416a88a6805eadaaa7ee",
       "max": 46827520.0,
       "min": 0.0,
       "orientation": "horizontal",
       "style": "IPY_MODEL_5b7ab6bbefb34971b2760362da118b2b",
       "value": 46827520.0
      }
     },
     "1cb5a572e5094e4da3304e851ba44578": {
      "model_module": "@jupyter-widgets/base",
      "model_module_version": "1.2.0",
      "model_name": "LayoutModel",
      "state": {
       "_model_module": "@jupyter-widgets/base",
       "_model_module_version": "1.2.0",
       "_model_name": "LayoutModel",
       "_view_count": null,
       "_view_module": "@jupyter-widgets/base",
       "_view_module_version": "1.2.0",
       "_view_name": "LayoutView",
       "align_content": null,
       "align_items": null,
       "align_self": null,
       "border": null,
       "bottom": null,
       "display": null,
       "flex": null,
       "flex_flow": null,
       "grid_area": null,
       "grid_auto_columns": null,
       "grid_auto_flow": null,
       "grid_auto_rows": null,
       "grid_column": null,
       "grid_gap": null,
       "grid_row": null,
       "grid_template_areas": null,
       "grid_template_columns": null,
       "grid_template_rows": null,
       "height": null,
       "justify_content": null,
       "justify_items": null,
       "left": null,
       "margin": null,
       "max_height": null,
       "max_width": null,
       "min_height": null,
       "min_width": null,
       "object_fit": null,
       "object_position": null,
       "order": null,
       "overflow": null,
       "overflow_x": null,
       "overflow_y": null,
       "padding": null,
       "right": null,
       "top": null,
       "visibility": null,
       "width": null
      }
     },
     "49ecfa0e07bd416a88a6805eadaaa7ee": {
      "model_module": "@jupyter-widgets/base",
      "model_module_version": "1.2.0",
      "model_name": "LayoutModel",
      "state": {
       "_model_module": "@jupyter-widgets/base",
       "_model_module_version": "1.2.0",
       "_model_name": "LayoutModel",
       "_view_count": null,
       "_view_module": "@jupyter-widgets/base",
       "_view_module_version": "1.2.0",
       "_view_name": "LayoutView",
       "align_content": null,
       "align_items": null,
       "align_self": null,
       "border": null,
       "bottom": null,
       "display": null,
       "flex": null,
       "flex_flow": null,
       "grid_area": null,
       "grid_auto_columns": null,
       "grid_auto_flow": null,
       "grid_auto_rows": null,
       "grid_column": null,
       "grid_gap": null,
       "grid_row": null,
       "grid_template_areas": null,
       "grid_template_columns": null,
       "grid_template_rows": null,
       "height": null,
       "justify_content": null,
       "justify_items": null,
       "left": null,
       "margin": null,
       "max_height": null,
       "max_width": null,
       "min_height": null,
       "min_width": null,
       "object_fit": null,
       "object_position": null,
       "order": null,
       "overflow": null,
       "overflow_x": null,
       "overflow_y": null,
       "padding": null,
       "right": null,
       "top": null,
       "visibility": null,
       "width": null
      }
     },
     "5673de5ed2424294915c32e194a9bc11": {
      "model_module": "@jupyter-widgets/controls",
      "model_module_version": "1.5.0",
      "model_name": "HTMLModel",
      "state": {
       "_dom_classes": [],
       "_model_module": "@jupyter-widgets/controls",
       "_model_module_version": "1.5.0",
       "_model_name": "HTMLModel",
       "_view_count": null,
       "_view_module": "@jupyter-widgets/controls",
       "_view_module_version": "1.5.0",
       "_view_name": "HTMLView",
       "description": "",
       "description_tooltip": null,
       "layout": "IPY_MODEL_66ffeb2c02a94417a00beae440901f30",
       "placeholder": "​",
       "style": "IPY_MODEL_d3742924f8f947fc8b99fbce397a8ade",
       "value": " 44.7M/44.7M [00:00&lt;00:00, 168MB/s]"
      }
     },
     "5b7ab6bbefb34971b2760362da118b2b": {
      "model_module": "@jupyter-widgets/controls",
      "model_module_version": "1.5.0",
      "model_name": "ProgressStyleModel",
      "state": {
       "_model_module": "@jupyter-widgets/controls",
       "_model_module_version": "1.5.0",
       "_model_name": "ProgressStyleModel",
       "_view_count": null,
       "_view_module": "@jupyter-widgets/base",
       "_view_module_version": "1.2.0",
       "_view_name": "StyleView",
       "bar_color": null,
       "description_width": ""
      }
     },
     "66ffeb2c02a94417a00beae440901f30": {
      "model_module": "@jupyter-widgets/base",
      "model_module_version": "1.2.0",
      "model_name": "LayoutModel",
      "state": {
       "_model_module": "@jupyter-widgets/base",
       "_model_module_version": "1.2.0",
       "_model_name": "LayoutModel",
       "_view_count": null,
       "_view_module": "@jupyter-widgets/base",
       "_view_module_version": "1.2.0",
       "_view_name": "LayoutView",
       "align_content": null,
       "align_items": null,
       "align_self": null,
       "border": null,
       "bottom": null,
       "display": null,
       "flex": null,
       "flex_flow": null,
       "grid_area": null,
       "grid_auto_columns": null,
       "grid_auto_flow": null,
       "grid_auto_rows": null,
       "grid_column": null,
       "grid_gap": null,
       "grid_row": null,
       "grid_template_areas": null,
       "grid_template_columns": null,
       "grid_template_rows": null,
       "height": null,
       "justify_content": null,
       "justify_items": null,
       "left": null,
       "margin": null,
       "max_height": null,
       "max_width": null,
       "min_height": null,
       "min_width": null,
       "object_fit": null,
       "object_position": null,
       "order": null,
       "overflow": null,
       "overflow_x": null,
       "overflow_y": null,
       "padding": null,
       "right": null,
       "top": null,
       "visibility": null,
       "width": null
      }
     },
     "7c225bb347204adf88004f19d42bbcbf": {
      "model_module": "@jupyter-widgets/controls",
      "model_module_version": "1.5.0",
      "model_name": "HTMLModel",
      "state": {
       "_dom_classes": [],
       "_model_module": "@jupyter-widgets/controls",
       "_model_module_version": "1.5.0",
       "_model_name": "HTMLModel",
       "_view_count": null,
       "_view_module": "@jupyter-widgets/controls",
       "_view_module_version": "1.5.0",
       "_view_name": "HTMLView",
       "description": "",
       "description_tooltip": null,
       "layout": "IPY_MODEL_005af3009e9a490990e1421ad2de3fbb",
       "placeholder": "​",
       "style": "IPY_MODEL_d7f22fc12f554dc1bfdf338890c2ba27",
       "value": "100%"
      }
     },
     "d3742924f8f947fc8b99fbce397a8ade": {
      "model_module": "@jupyter-widgets/controls",
      "model_module_version": "1.5.0",
      "model_name": "DescriptionStyleModel",
      "state": {
       "_model_module": "@jupyter-widgets/controls",
       "_model_module_version": "1.5.0",
       "_model_name": "DescriptionStyleModel",
       "_view_count": null,
       "_view_module": "@jupyter-widgets/base",
       "_view_module_version": "1.2.0",
       "_view_name": "StyleView",
       "description_width": ""
      }
     },
     "d7f22fc12f554dc1bfdf338890c2ba27": {
      "model_module": "@jupyter-widgets/controls",
      "model_module_version": "1.5.0",
      "model_name": "DescriptionStyleModel",
      "state": {
       "_model_module": "@jupyter-widgets/controls",
       "_model_module_version": "1.5.0",
       "_model_name": "DescriptionStyleModel",
       "_view_count": null,
       "_view_module": "@jupyter-widgets/base",
       "_view_module_version": "1.2.0",
       "_view_name": "StyleView",
       "description_width": ""
      }
     },
     "f6dcae69202b47b18f570df35e1618ff": {
      "model_module": "@jupyter-widgets/controls",
      "model_module_version": "1.5.0",
      "model_name": "HBoxModel",
      "state": {
       "_dom_classes": [],
       "_model_module": "@jupyter-widgets/controls",
       "_model_module_version": "1.5.0",
       "_model_name": "HBoxModel",
       "_view_count": null,
       "_view_module": "@jupyter-widgets/controls",
       "_view_module_version": "1.5.0",
       "_view_name": "HBoxView",
       "box_style": "",
       "children": [
        "IPY_MODEL_7c225bb347204adf88004f19d42bbcbf",
        "IPY_MODEL_10cd5ae9e4f44b34b1ebd3196132f406",
        "IPY_MODEL_5673de5ed2424294915c32e194a9bc11"
       ],
       "layout": "IPY_MODEL_1cb5a572e5094e4da3304e851ba44578"
      }
     }
    },
    "version_major": 2,
    "version_minor": 0
   }
  }
 },
 "nbformat": 4,
 "nbformat_minor": 4
}
