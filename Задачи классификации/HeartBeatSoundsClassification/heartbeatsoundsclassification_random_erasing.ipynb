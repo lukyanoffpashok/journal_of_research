{
 "cells": [
  {
   "cell_type": "code",
   "execution_count": 1,
   "metadata": {
    "_cell_guid": "b1076dfc-b9ad-4769-8c92-a6c4dae69d19",
    "_uuid": "8f2839f25d086af736a60e9eeb907d3b93b6e0e5",
    "execution": {
     "iopub.execute_input": "2021-04-05T15:31:34.613822Z",
     "iopub.status.busy": "2021-04-05T15:31:34.613228Z",
     "iopub.status.idle": "2021-04-05T15:31:38.493676Z",
     "shell.execute_reply": "2021-04-05T15:31:38.494310Z"
    },
    "papermill": {
     "duration": 3.900678,
     "end_time": "2021-04-05T15:31:38.494672",
     "exception": false,
     "start_time": "2021-04-05T15:31:34.593994",
     "status": "completed"
    },
    "tags": []
   },
   "outputs": [
    {
     "name": "stderr",
     "output_type": "stream",
     "text": [
      "/opt/conda/lib/python3.7/site-packages/torchaudio/backend/utils.py:54: UserWarning: \"sox\" backend is being deprecated. The default backend will be changed to \"sox_io\" backend in 0.8.0 and \"sox\" backend will be removed in 0.9.0. Please migrate to \"sox_io\" backend. Please refer to https://github.com/pytorch/audio/issues/903 for the detail.\n",
      "  '\"sox\" backend is being deprecated. '\n"
     ]
    }
   ],
   "source": [
    "import numpy as np\n",
    "import matplotlib.pyplot as plt\n",
    "from sklearn.model_selection import train_test_split\n",
    "import librosa\n",
    "import librosa.display\n",
    "import os\n",
    "import copy\n",
    "import torch\n",
    "from torch.utils.data import Dataset, DataLoader\n",
    "import random\n",
    "import skimage.io as io\n",
    "import pandas as pd\n",
    "import torchaudio.transforms as T\n",
    "from torchvision.models import resnet18\n",
    "from tqdm import tqdm"
   ]
  },
  {
   "cell_type": "code",
   "execution_count": 2,
   "metadata": {
    "execution": {
     "iopub.execute_input": "2021-04-05T15:31:38.527685Z",
     "iopub.status.busy": "2021-04-05T15:31:38.526990Z",
     "iopub.status.idle": "2021-04-05T15:31:38.529934Z",
     "shell.execute_reply": "2021-04-05T15:31:38.529444Z"
    },
    "papermill": {
     "duration": 0.020908,
     "end_time": "2021-04-05T15:31:38.530052",
     "exception": false,
     "start_time": "2021-04-05T15:31:38.509144",
     "status": "completed"
    },
    "tags": []
   },
   "outputs": [],
   "source": [
    "def seed_everything(seed=42):\n",
    "    print(f'setting everything to seed {seed}')\n",
    "    random.seed(seed)\n",
    "    os.environ['PYTHONHASHSEED'] = str(seed)\n",
    "    np.random.seed(seed)\n",
    "    torch.manual_seed(seed)\n",
    "    torch.cuda.manual_seed(seed)\n",
    "    torch.backends.cudnn.deterministic = True\n",
    "    torch.cuda.empty_cache()"
   ]
  },
  {
   "cell_type": "code",
   "execution_count": 3,
   "metadata": {
    "execution": {
     "iopub.execute_input": "2021-04-05T15:31:38.561039Z",
     "iopub.status.busy": "2021-04-05T15:31:38.560402Z",
     "iopub.status.idle": "2021-04-05T15:31:38.563318Z",
     "shell.execute_reply": "2021-04-05T15:31:38.562834Z"
    },
    "papermill": {
     "duration": 0.020323,
     "end_time": "2021-04-05T15:31:38.563421",
     "exception": false,
     "start_time": "2021-04-05T15:31:38.543098",
     "status": "completed"
    },
    "tags": []
   },
   "outputs": [],
   "source": [
    "device = torch.device('cuda:0')"
   ]
  },
  {
   "cell_type": "code",
   "execution_count": 4,
   "metadata": {
    "execution": {
     "iopub.execute_input": "2021-04-05T15:31:38.592270Z",
     "iopub.status.busy": "2021-04-05T15:31:38.591571Z",
     "iopub.status.idle": "2021-04-05T15:31:38.594009Z",
     "shell.execute_reply": "2021-04-05T15:31:38.594439Z"
    },
    "papermill": {
     "duration": 0.018659,
     "end_time": "2021-04-05T15:31:38.594555",
     "exception": false,
     "start_time": "2021-04-05T15:31:38.575896",
     "status": "completed"
    },
    "tags": []
   },
   "outputs": [],
   "source": [
    "data_dir = '//kaggle/input/heartbeat-sounds/set_b'\n",
    "file_csv = '/kaggle/input/heartbeat-sounds/set_b.csv'"
   ]
  },
  {
   "cell_type": "code",
   "execution_count": 5,
   "metadata": {
    "execution": {
     "iopub.execute_input": "2021-04-05T15:31:38.627541Z",
     "iopub.status.busy": "2021-04-05T15:31:38.626848Z",
     "iopub.status.idle": "2021-04-05T15:31:38.629671Z",
     "shell.execute_reply": "2021-04-05T15:31:38.629199Z"
    },
    "papermill": {
     "duration": 0.022615,
     "end_time": "2021-04-05T15:31:38.629788",
     "exception": false,
     "start_time": "2021-04-05T15:31:38.607173",
     "status": "completed"
    },
    "tags": []
   },
   "outputs": [],
   "source": [
    "def mono_to_color(X, eps=1e-6, mean=None, std=None):\n",
    "    # Standardize\n",
    "    mean = mean or X.mean()\n",
    "    std = std or X.std()\n",
    "    X = (X - mean) / (std + eps)\n",
    "    # Normalize to [0, 255]\n",
    "    _min, _max = X.min(), X.max()\n",
    "    if (_max - _min) > eps:\n",
    "        V = np.clip(X, _min, _max)\n",
    "        V = 255 * (V - _min) / (_max - _min)\n",
    "        V = V.astype(np.uint8)\n",
    "    else:\n",
    "        V = np.zeros_like(X, dtype=np.uint8)\n",
    "    return V\n",
    "\n",
    "def normalize(image, mean=None, std=None):\n",
    "    image = image / 255.0\n",
    "    if mean is not None and std is not None:\n",
    "        image = (image - mean) / std\n",
    "    return image.astype(np.float32)"
   ]
  },
  {
   "cell_type": "code",
   "execution_count": 6,
   "metadata": {
    "execution": {
     "iopub.execute_input": "2021-04-05T15:31:38.660928Z",
     "iopub.status.busy": "2021-04-05T15:31:38.660120Z",
     "iopub.status.idle": "2021-04-05T15:31:38.662487Z",
     "shell.execute_reply": "2021-04-05T15:31:38.662971Z"
    },
    "papermill": {
     "duration": 0.020065,
     "end_time": "2021-04-05T15:31:38.663095",
     "exception": false,
     "start_time": "2021-04-05T15:31:38.643030",
     "status": "completed"
    },
    "tags": []
   },
   "outputs": [],
   "source": [
    "NUM_SAMPLES = 65500\n",
    "sr = 48000\n",
    "fmin = 84\n",
    "fmax = sr // 2\n",
    "nmels = 128\n",
    "batch_size = 32\n",
    "random_seed = 42\n",
    "train_size = 0.8"
   ]
  },
  {
   "cell_type": "code",
   "execution_count": 7,
   "metadata": {
    "execution": {
     "iopub.execute_input": "2021-04-05T15:31:38.692981Z",
     "iopub.status.busy": "2021-04-05T15:31:38.692386Z",
     "iopub.status.idle": "2021-04-05T15:31:38.779578Z",
     "shell.execute_reply": "2021-04-05T15:31:38.778986Z"
    },
    "papermill": {
     "duration": 0.103282,
     "end_time": "2021-04-05T15:31:38.779704",
     "exception": false,
     "start_time": "2021-04-05T15:31:38.676422",
     "status": "completed"
    },
    "tags": []
   },
   "outputs": [],
   "source": [
    "recordings_old = sorted(os.listdir(data_dir))"
   ]
  },
  {
   "cell_type": "code",
   "execution_count": 8,
   "metadata": {
    "execution": {
     "iopub.execute_input": "2021-04-05T15:31:38.810485Z",
     "iopub.status.busy": "2021-04-05T15:31:38.809987Z",
     "iopub.status.idle": "2021-04-05T15:34:55.634100Z",
     "shell.execute_reply": "2021-04-05T15:34:55.633198Z"
    },
    "papermill": {
     "duration": 196.841416,
     "end_time": "2021-04-05T15:34:55.634261",
     "exception": false,
     "start_time": "2021-04-05T15:31:38.792845",
     "status": "completed"
    },
    "tags": []
   },
   "outputs": [],
   "source": [
    "recordings = []\n",
    "for x in recordings_old:\n",
    "    y, _ = librosa.load(data_dir + '/' + x, sr = sr)\n",
    "    if y.shape[0] >= NUM_SAMPLES:\n",
    "        recordings.append(x)"
   ]
  },
  {
   "cell_type": "code",
   "execution_count": 9,
   "metadata": {
    "execution": {
     "iopub.execute_input": "2021-04-05T15:34:55.667266Z",
     "iopub.status.busy": "2021-04-05T15:34:55.666546Z",
     "iopub.status.idle": "2021-04-05T15:34:55.669626Z",
     "shell.execute_reply": "2021-04-05T15:34:55.670038Z"
    },
    "papermill": {
     "duration": 0.022325,
     "end_time": "2021-04-05T15:34:55.670170",
     "exception": false,
     "start_time": "2021-04-05T15:34:55.647845",
     "status": "completed"
    },
    "tags": []
   },
   "outputs": [
    {
     "data": {
      "text/plain": [
       "638"
      ]
     },
     "execution_count": 9,
     "metadata": {},
     "output_type": "execute_result"
    }
   ],
   "source": [
    "len(recordings)"
   ]
  },
  {
   "cell_type": "code",
   "execution_count": 10,
   "metadata": {
    "execution": {
     "iopub.execute_input": "2021-04-05T15:34:55.702060Z",
     "iopub.status.busy": "2021-04-05T15:34:55.701481Z",
     "iopub.status.idle": "2021-04-05T15:34:56.024268Z",
     "shell.execute_reply": "2021-04-05T15:34:56.024711Z"
    },
    "papermill": {
     "duration": 0.341361,
     "end_time": "2021-04-05T15:34:56.024879",
     "exception": false,
     "start_time": "2021-04-05T15:34:55.683518",
     "status": "completed"
    },
    "tags": []
   },
   "outputs": [
    {
     "data": {
      "image/png": "[encoded data removed]",
      "text/plain": [
       "<Figure size 1440x432 with 1 Axes>"
      ]
     },
     "metadata": {
      "needs_background": "light"
     },
     "output_type": "display_data"
    }
   ],
   "source": [
    "y, _ = librosa.load(data_dir + '/' + recordings[200], sr = sr)\n",
    "begin = (len(y) - NUM_SAMPLES) // 2\n",
    "samples = y[begin:begin + NUM_SAMPLES]\n",
    "melspec = librosa.feature.melspectrogram(samples, sr=sr, n_mels = nmels)#, fmin=fmin, fmax=fmax)\n",
    "melspec = librosa.power_to_db(melspec)\n",
    "melspec = mono_to_color(melspec)\n",
    "melspec = normalize(melspec, mean=None, std=None)\n",
    "plt.figure(figsize = (20, 6))\n",
    "plt.imshow(melspec)\n",
    "plt.show()"
   ]
  },
  {
   "cell_type": "code",
   "execution_count": 11,
   "metadata": {
    "execution": {
     "iopub.execute_input": "2021-04-05T15:34:56.062465Z",
     "iopub.status.busy": "2021-04-05T15:34:56.061582Z",
     "iopub.status.idle": "2021-04-05T15:34:56.064545Z",
     "shell.execute_reply": "2021-04-05T15:34:56.064986Z"
    },
    "papermill": {
     "duration": 0.023711,
     "end_time": "2021-04-05T15:34:56.065114",
     "exception": false,
     "start_time": "2021-04-05T15:34:56.041403",
     "status": "completed"
    },
    "tags": []
   },
   "outputs": [
    {
     "data": {
      "text/plain": [
       "(128, 128)"
      ]
     },
     "execution_count": 11,
     "metadata": {},
     "output_type": "execute_result"
    }
   ],
   "source": [
    "image_size = melspec.shape\n",
    "image_size"
   ]
  },
  {
   "cell_type": "code",
   "execution_count": 12,
   "metadata": {
    "execution": {
     "iopub.execute_input": "2021-04-05T15:34:56.102549Z",
     "iopub.status.busy": "2021-04-05T15:34:56.101920Z",
     "iopub.status.idle": "2021-04-05T15:34:56.124229Z",
     "shell.execute_reply": "2021-04-05T15:34:56.123802Z"
    },
    "papermill": {
     "duration": 0.04322,
     "end_time": "2021-04-05T15:34:56.124339",
     "exception": false,
     "start_time": "2021-04-05T15:34:56.081119",
     "status": "completed"
    },
    "tags": []
   },
   "outputs": [],
   "source": [
    "melspec = torch.tensor(melspec)\n",
    "melspec = torch.stack([melspec, melspec, melspec])"
   ]
  },
  {
   "cell_type": "code",
   "execution_count": 13,
   "metadata": {
    "execution": {
     "iopub.execute_input": "2021-04-05T15:34:56.168030Z",
     "iopub.status.busy": "2021-04-05T15:34:56.167369Z",
     "iopub.status.idle": "2021-04-05T15:34:56.169809Z",
     "shell.execute_reply": "2021-04-05T15:34:56.170280Z"
    },
    "papermill": {
     "duration": 0.02917,
     "end_time": "2021-04-05T15:34:56.170399",
     "exception": false,
     "start_time": "2021-04-05T15:34:56.141229",
     "status": "completed"
    },
    "tags": []
   },
   "outputs": [],
   "source": [
    "def noise_augmentation(im, var = 0.01):\n",
    "    noise = var * torch.randn(im.shape[1], im.shape[2])\n",
    "    im[0, :, :] += noise\n",
    "    im[1, :, :] += noise\n",
    "    im[2, :, :] += noise\n",
    "    return im\n",
    "\n",
    "def shift_augmentation(image, max_shift = 10):\n",
    "    shift = np.random.randint(max_shift)\n",
    "    p = np.random.rand()\n",
    "    if p < 0.5:\n",
    "        image[:, :, shift:] = image[:, :, :image.shape[2] - shift]\n",
    "        image[:, :, :shift] = 0.0\n",
    "    else:\n",
    "        image[:, :, :image.shape[2] - shift] = image[:, :, shift:]\n",
    "        image[:, :, image.shape[2] - shift:] = 0.0\n",
    "    return image\n",
    "    \n",
    "def random_erasing(image, max_a = 10, max_b = 10):\n",
    "    a = np.random.randint(max_a)\n",
    "    b = np.random.randint(max_b)\n",
    "    a0 = np.random.randint(image.shape[1] - max_a)\n",
    "    b0 = np.random.randint(image.shape[2] - max_a)\n",
    "    image[:, a0 : a0 + a, b0 : b0 + b] = 0\n",
    "    return image\n",
    "    \n",
    "    \n",
    "def augmentation(im, mode = 'No'):\n",
    "    image = im.clone()\n",
    "    if mode == 'TimeMasking':\n",
    "        return T.TimeMasking(25)(image)\n",
    "    if mode == 'FreqMasking':\n",
    "        return T.FrequencyMasking(12)(image)\n",
    "    if mode == 'RandomErasing':\n",
    "        return random_erasing(image, 10, 10)\n",
    "    if mode == 'Shift':\n",
    "        return shift_augmentation(image)\n",
    "    if mode == 'Noise':\n",
    "        return noise_augmentation(image)\n",
    "    \n",
    "    return image"
   ]
  },
  {
   "cell_type": "code",
   "execution_count": 14,
   "metadata": {
    "execution": {
     "iopub.execute_input": "2021-04-05T15:34:56.208249Z",
     "iopub.status.busy": "2021-04-05T15:34:56.207586Z",
     "iopub.status.idle": "2021-04-05T15:34:56.210500Z",
     "shell.execute_reply": "2021-04-05T15:34:56.210106Z"
    },
    "papermill": {
     "duration": 0.024254,
     "end_time": "2021-04-05T15:34:56.210605",
     "exception": false,
     "start_time": "2021-04-05T15:34:56.186351",
     "status": "completed"
    },
    "tags": []
   },
   "outputs": [],
   "source": [
    "def get_spectrograms(filename):\n",
    "    y, _ = librosa.load(filename, sr = sr)\n",
    "    count = len(y) // NUM_SAMPLES\n",
    "    mel_spectrograms = []\n",
    "    for i in range(count):\n",
    "        samples = y[i * NUM_SAMPLES:(i + 1) * NUM_SAMPLES]\n",
    "        melspec = librosa.feature.melspectrogram(samples, sr=sr, n_mels=nmels, fmin=fmin, fmax=fmax)\n",
    "        melspec = librosa.power_to_db(melspec)\n",
    "        melspec = mono_to_color(melspec)\n",
    "        melspec = normalize(melspec, mean=None, std=None)\n",
    "        mel_spectrograms.append(torch.tensor(melspec, dtype=torch.float32))\n",
    "\n",
    "    return mel_spectrograms, count"
   ]
  },
  {
   "cell_type": "code",
   "execution_count": 15,
   "metadata": {
    "execution": {
     "iopub.execute_input": "2021-04-05T15:34:56.250351Z",
     "iopub.status.busy": "2021-04-05T15:34:56.249694Z",
     "iopub.status.idle": "2021-04-05T15:34:56.252642Z",
     "shell.execute_reply": "2021-04-05T15:34:56.252213Z"
    },
    "papermill": {
     "duration": 0.025547,
     "end_time": "2021-04-05T15:34:56.252748",
     "exception": false,
     "start_time": "2021-04-05T15:34:56.227201",
     "status": "completed"
    },
    "tags": []
   },
   "outputs": [],
   "source": [
    "class HeartbeatSounds(Dataset):\n",
    "    def __init__(self, keys, mode = 'train', data = [], labels = [], augment = False, aug_type = 'No'):\n",
    "        super().__init__()\n",
    "        self.n = len(keys)\n",
    "        self.data = []\n",
    "        self.labels = []\n",
    "        self.augment = augment\n",
    "        self.aug_type = aug_type\n",
    "        for i in keys:\n",
    "            self.data.append(data[i])\n",
    "            self.labels.append(labels[i])\n",
    "\n",
    "    def __getitem__(self, i):\n",
    "        X = self.data[i]\n",
    "        X = torch.stack([X, X, X])\n",
    "        if self.augment:\n",
    "            X = augmentation(X, self.aug_type)\n",
    "        return X, self.labels[i]\n",
    "\n",
    "    def __len__(self):\n",
    "        return self.n"
   ]
  },
  {
   "cell_type": "code",
   "execution_count": 16,
   "metadata": {
    "execution": {
     "iopub.execute_input": "2021-04-05T15:34:56.292059Z",
     "iopub.status.busy": "2021-04-05T15:34:56.291391Z",
     "iopub.status.idle": "2021-04-05T15:38:04.008741Z",
     "shell.execute_reply": "2021-04-05T15:38:04.009279Z"
    },
    "papermill": {
     "duration": 187.740648,
     "end_time": "2021-04-05T15:38:04.009457",
     "exception": false,
     "start_time": "2021-04-05T15:34:56.268809",
     "status": "completed"
    },
    "tags": []
   },
   "outputs": [],
   "source": [
    "data = []\n",
    "labels = []\n",
    "for i in range(len(recordings)):\n",
    "    if 'normal' in recordings[i]:\n",
    "        label = 0\n",
    "        mel_spectrograms, count = get_spectrograms(data_dir + '/' + recordings[i])\n",
    "        for j in range(count):\n",
    "            data.append(mel_spectrograms[j])\n",
    "            labels.append(label)\n",
    "    elif 'extrastole' in recordings[i]:\n",
    "        label = 1\n",
    "        mel_spectrograms, count = get_spectrograms(data_dir + '/' + recordings[i])\n",
    "        for j in range(count):\n",
    "            data.append(mel_spectrograms[j])\n",
    "            labels.append(label)\n",
    "    elif 'murmur' in recordings[i]:\n",
    "        label = 2\n",
    "        mel_spectrograms, count = get_spectrograms(data_dir + '/' + recordings[i])\n",
    "        for j in range(count):\n",
    "            data.append(mel_spectrograms[j])\n",
    "            labels.append(label)"
   ]
  },
  {
   "cell_type": "code",
   "execution_count": 17,
   "metadata": {
    "execution": {
     "iopub.execute_input": "2021-04-05T15:38:04.052696Z",
     "iopub.status.busy": "2021-04-05T15:38:04.052081Z",
     "iopub.status.idle": "2021-04-05T15:38:04.055382Z",
     "shell.execute_reply": "2021-04-05T15:38:04.054986Z"
    },
    "papermill": {
     "duration": 0.026953,
     "end_time": "2021-04-05T15:38:04.055497",
     "exception": false,
     "start_time": "2021-04-05T15:38:04.028544",
     "status": "completed"
    },
    "tags": []
   },
   "outputs": [],
   "source": [
    "keys = np.arange(len(data))\n",
    "train_keys, test_keys = train_test_split(keys, train_size=train_size, random_state=random_seed)\n",
    "train_keys, valid_keys = train_test_split(train_keys, train_size=train_size, random_state=random_seed)"
   ]
  },
  {
   "cell_type": "code",
   "execution_count": 18,
   "metadata": {
    "execution": {
     "iopub.execute_input": "2021-04-05T15:38:04.099569Z",
     "iopub.status.busy": "2021-04-05T15:38:04.098957Z",
     "iopub.status.idle": "2021-04-05T15:38:04.102069Z",
     "shell.execute_reply": "2021-04-05T15:38:04.101550Z"
    },
    "papermill": {
     "duration": 0.030514,
     "end_time": "2021-04-05T15:38:04.102173",
     "exception": false,
     "start_time": "2021-04-05T15:38:04.071659",
     "status": "completed"
    },
    "tags": []
   },
   "outputs": [],
   "source": [
    "def train(model, loss_fn, train_loader, valid_loader, epochs, optimizer, augment = 'No'):\n",
    "    best_model_wts = copy.deepcopy(model.state_dict())\n",
    "    best_acc = 0.0\n",
    "    train_losses = []\n",
    "    valid_losses = []\n",
    "    valid_acc = []\n",
    "    best_train_acc = 0.0\n",
    "    for epoch in range(epochs):\n",
    "        print('epoch:', epoch)\n",
    "        model.train()\n",
    "        sum_loss = 0\n",
    "        sum_accuracy = 0\n",
    "        cnt_objects = 0\n",
    "        for X, y in train_dataloader:\n",
    "            optimizer.zero_grad()\n",
    "            X = X.to(device)\n",
    "            scores = model(X)\n",
    "            loss = criterion(scores, y.to(device))\n",
    "            loss.backward()\n",
    "            optimizer.step()\n",
    "            sum_loss += float(loss) * len(y)\n",
    "            cnt_objects += len(y)\n",
    "\n",
    "        mean_loss = sum_loss / cnt_objects\n",
    "        train_losses.append(mean_loss)\n",
    "        print('Train')\n",
    "        print(mean_loss)\n",
    "\n",
    "        model.eval()\n",
    "        sum_loss = 0\n",
    "        sum_accuracy = 0\n",
    "        cnt_objects = 0\n",
    "        with torch.no_grad():\n",
    "            for X, y in valid_loader:\n",
    "                X = X.to(device)\n",
    "                scores = model(X)\n",
    "                loss = criterion(scores, y.to(device))\n",
    "                sum_loss += float(loss) * len(y)\n",
    "                preds = scores.cpu().detach().argmax(dim=1)\n",
    "                accuracy = float((y == preds).float().sum())\n",
    "                sum_accuracy += accuracy\n",
    "                cnt_objects += len(y)\n",
    "\n",
    "        print('TEST')\n",
    "        mean_loss = sum_loss / cnt_objects\n",
    "        valid_losses.append(mean_loss)\n",
    "        mean_accuracy = sum_accuracy / cnt_objects\n",
    "        valid_acc.append(mean_accuracy)\n",
    "        if mean_accuracy > best_acc:\n",
    "            best_acc = mean_accuracy\n",
    "            best_model_wts = copy.deepcopy(model.state_dict())\n",
    "        print('loss:', mean_loss)\n",
    "        print('accuracy:', mean_accuracy)\n",
    "        print('******************')\n",
    "    print('Accuracy on the validation: ', best_acc)\n",
    "    model.load_state_dict(best_model_wts)\n",
    "    return model, train_losses, valid_losses, valid_acc"
   ]
  },
  {
   "cell_type": "code",
   "execution_count": 19,
   "metadata": {
    "execution": {
     "iopub.execute_input": "2021-04-05T15:38:04.141785Z",
     "iopub.status.busy": "2021-04-05T15:38:04.140902Z",
     "iopub.status.idle": "2021-04-05T15:38:04.143312Z",
     "shell.execute_reply": "2021-04-05T15:38:04.143810Z"
    },
    "papermill": {
     "duration": 0.025005,
     "end_time": "2021-04-05T15:38:04.143944",
     "exception": false,
     "start_time": "2021-04-05T15:38:04.118939",
     "status": "completed"
    },
    "tags": []
   },
   "outputs": [],
   "source": [
    "def evaluate(model, test_loader):\n",
    "    model.eval()\n",
    "    #all_preds = []\n",
    "    sum_accuracy = 0\n",
    "    cnt_objects = 0\n",
    "    with torch.no_grad():\n",
    "        for X, y in test_loader:\n",
    "            X = X.to(device)\n",
    "            scores = model(X)\n",
    "            preds = scores.cpu().detach().argmax(dim=1)\n",
    "            accuracy = float((y == preds).float().sum())\n",
    "            sum_accuracy += accuracy\n",
    "            cnt_objects += len(y)\n",
    "            #all_preds.append(preds)\n",
    "\n",
    "    mean_accuracy = sum_accuracy / cnt_objects\n",
    "    print('Quality of the model')\n",
    "    print('accuracy:', mean_accuracy)"
   ]
  },
  {
   "cell_type": "markdown",
   "metadata": {
    "papermill": {
     "duration": 0.016419,
     "end_time": "2021-04-05T15:38:04.176718",
     "exception": false,
     "start_time": "2021-04-05T15:38:04.160299",
     "status": "completed"
    },
    "tags": []
   },
   "source": [
    "## Resnet18"
   ]
  },
  {
   "cell_type": "markdown",
   "metadata": {
    "papermill": {
     "duration": 0.016667,
     "end_time": "2021-04-05T15:38:04.210799",
     "exception": false,
     "start_time": "2021-04-05T15:38:04.194132",
     "status": "completed"
    },
    "tags": []
   },
   "source": [
    "### RandomErasing"
   ]
  },
  {
   "cell_type": "code",
   "execution_count": 20,
   "metadata": {
    "execution": {
     "iopub.execute_input": "2021-04-05T15:38:04.252410Z",
     "iopub.status.busy": "2021-04-05T15:38:04.251879Z",
     "iopub.status.idle": "2021-04-05T15:40:31.803354Z",
     "shell.execute_reply": "2021-04-05T15:40:31.804010Z"
    },
    "papermill": {
     "duration": 147.576587,
     "end_time": "2021-04-05T15:40:31.804234",
     "exception": false,
     "start_time": "2021-04-05T15:38:04.227647",
     "status": "completed"
    },
    "tags": []
   },
   "outputs": [
    {
     "name": "stdout",
     "output_type": "stream",
     "text": [
      "setting everything to seed 42\n"
     ]
    },
    {
     "name": "stderr",
     "output_type": "stream",
     "text": [
      "Downloading: \"https://download.pytorch.org/models/resnet18-5c106cde.pth\" to /root/.cache/torch/hub/checkpoints/resnet18-5c106cde.pth\n"
     ]
    },
    {
     "data": {
      "application/vnd.jupyter.widget-view+json": {
       "model_id": "749c960caa3c4c76bbbb0c6f43eb1c47",
       "version_major": 2,
       "version_minor": 0
      },
      "text/plain": [
       "  0%|          | 0.00/44.7M [00:00<?, ?B/s]"
      ]
     },
     "metadata": {},
     "output_type": "display_data"
    },
    {
     "name": "stdout",
     "output_type": "stream",
     "text": [
      "epoch: 0\n",
      "Train\n",
      "0.7506592109195763\n",
      "TEST\n",
      "loss: 0.723996956670095\n",
      "accuracy: 0.765079365079365\n",
      "******************\n",
      "epoch: 1\n",
      "Train\n",
      "0.578484424245651\n",
      "TEST\n",
      "loss: 1.0568349276270186\n",
      "accuracy: 0.6031746031746031\n",
      "******************\n",
      "epoch: 2\n",
      "Train\n",
      "0.5352063693632864\n",
      "TEST\n",
      "loss: 0.5229810581320808\n",
      "accuracy: 0.7904761904761904\n",
      "******************\n",
      "epoch: 3\n",
      "Train\n",
      "0.4550559199973645\n",
      "TEST\n",
      "loss: 0.762524067598676\n",
      "accuracy: 0.6031746031746031\n",
      "******************\n",
      "epoch: 4\n",
      "Train\n",
      "0.39341085405932996\n",
      "TEST\n",
      "loss: 0.8546640179460011\n",
      "accuracy: 0.7682539682539683\n",
      "******************\n",
      "epoch: 5\n",
      "Train\n",
      "0.3359661189287404\n",
      "TEST\n",
      "loss: 1.0382874257980832\n",
      "accuracy: 0.6507936507936508\n",
      "******************\n",
      "epoch: 6\n",
      "Train\n",
      "0.30311108530277864\n",
      "TEST\n",
      "loss: 0.5724942229096852\n",
      "accuracy: 0.819047619047619\n",
      "******************\n",
      "epoch: 7\n",
      "Train\n",
      "0.3126982712054461\n",
      "TEST\n",
      "loss: 0.9502183425994146\n",
      "accuracy: 0.8031746031746032\n",
      "******************\n",
      "epoch: 8\n",
      "Train\n",
      "0.2432323911414438\n",
      "TEST\n",
      "loss: 1.7604064296162318\n",
      "accuracy: 0.7015873015873015\n",
      "******************\n",
      "epoch: 9\n",
      "Train\n",
      "0.20279673889954\n",
      "TEST\n",
      "loss: 1.0863620046585325\n",
      "accuracy: 0.7523809523809524\n",
      "******************\n",
      "epoch: 10\n",
      "Train\n",
      "0.16855628222724198\n",
      "TEST\n",
      "loss: 1.4184915107394023\n",
      "accuracy: 0.4603174603174603\n",
      "******************\n",
      "epoch: 11\n",
      "Train\n",
      "0.22191648343851683\n",
      "TEST\n",
      "loss: 1.3440131187438964\n",
      "accuracy: 0.5841269841269842\n",
      "******************\n",
      "epoch: 12\n",
      "Train\n",
      "0.1400799307797616\n",
      "TEST\n",
      "loss: 0.919063092791845\n",
      "accuracy: 0.8222222222222222\n",
      "******************\n",
      "epoch: 13\n",
      "Train\n",
      "0.0991846027445992\n",
      "TEST\n",
      "loss: 1.089944501339443\n",
      "accuracy: 0.7174603174603175\n",
      "******************\n",
      "epoch: 14\n",
      "Train\n",
      "0.08829998412569712\n",
      "TEST\n",
      "loss: 2.31292672914172\n",
      "accuracy: 0.4095238095238095\n",
      "******************\n",
      "epoch: 15\n",
      "Train\n",
      "0.10860199406092086\n",
      "TEST\n",
      "loss: 1.207382213123261\n",
      "accuracy: 0.6857142857142857\n",
      "******************\n",
      "epoch: 16\n",
      "Train\n",
      "0.12845061515251543\n",
      "TEST\n",
      "loss: 0.8433820119925908\n",
      "accuracy: 0.819047619047619\n",
      "******************\n",
      "epoch: 17\n",
      "Train\n",
      "0.03373113690451604\n",
      "TEST\n",
      "loss: 1.062693623134068\n",
      "accuracy: 0.8\n",
      "******************\n",
      "epoch: 18\n",
      "Train\n",
      "0.09613138370991132\n",
      "TEST\n",
      "loss: 0.8786176631374965\n",
      "accuracy: 0.7619047619047619\n",
      "******************\n",
      "epoch: 19\n",
      "Train\n",
      "0.10773469593503156\n",
      "TEST\n",
      "loss: 1.9047782757925609\n",
      "accuracy: 0.6349206349206349\n",
      "******************\n",
      "epoch: 20\n",
      "Train\n",
      "0.11696760524345401\n",
      "TEST\n",
      "loss: 1.690775397845677\n",
      "accuracy: 0.7587301587301587\n",
      "******************\n",
      "epoch: 21\n",
      "Train\n",
      "0.036931420231831276\n",
      "TEST\n",
      "loss: 1.0052982708764455\n",
      "accuracy: 0.819047619047619\n",
      "******************\n",
      "epoch: 22\n",
      "Train\n",
      "0.05100925225169768\n",
      "TEST\n",
      "loss: 1.4800318237334962\n",
      "accuracy: 0.6031746031746031\n",
      "******************\n",
      "epoch: 23\n",
      "Train\n",
      "0.03481608548632884\n",
      "TEST\n",
      "loss: 0.8007428508902353\n",
      "accuracy: 0.7904761904761904\n",
      "******************\n",
      "epoch: 24\n",
      "Train\n",
      "0.03345389342241765\n",
      "TEST\n",
      "loss: 0.8105753529639471\n",
      "accuracy: 0.8031746031746032\n",
      "******************\n",
      "epoch: 25\n",
      "Train\n",
      "0.04721320786596978\n",
      "TEST\n",
      "loss: 1.1681215008099874\n",
      "accuracy: 0.8317460317460318\n",
      "******************\n",
      "epoch: 26\n",
      "Train\n",
      "0.028783731053437598\n",
      "TEST\n",
      "loss: 0.8579942664456746\n",
      "accuracy: 0.8\n",
      "******************\n",
      "epoch: 27\n",
      "Train\n",
      "0.03027435602447147\n",
      "TEST\n",
      "loss: 2.3615094358958895\n",
      "accuracy: 0.7714285714285715\n",
      "******************\n",
      "epoch: 28\n",
      "Train\n",
      "0.030126068812189884\n",
      "TEST\n",
      "loss: 0.9958138908658709\n",
      "accuracy: 0.780952380952381\n",
      "******************\n",
      "epoch: 29\n",
      "Train\n",
      "0.02341081324677746\n",
      "TEST\n",
      "loss: 1.9856437834482343\n",
      "accuracy: 0.7968253968253968\n",
      "******************\n",
      "epoch: 30\n",
      "Train\n",
      "0.01376011908545164\n",
      "TEST\n",
      "loss: 1.2233934693866306\n",
      "accuracy: 0.7746031746031746\n",
      "******************\n",
      "epoch: 31\n",
      "Train\n",
      "0.008446450486137125\n",
      "TEST\n",
      "loss: 1.2089939968926566\n",
      "accuracy: 0.8126984126984127\n",
      "******************\n",
      "epoch: 32\n",
      "Train\n",
      "0.006449270838635994\n",
      "TEST\n",
      "loss: 1.2536012447069562\n",
      "accuracy: 0.8126984126984127\n",
      "******************\n",
      "epoch: 33\n",
      "Train\n",
      "0.010236213663911019\n",
      "TEST\n",
      "loss: 1.1046212626828087\n",
      "accuracy: 0.780952380952381\n",
      "******************\n",
      "epoch: 34\n",
      "Train\n",
      "0.01636896634447489\n",
      "TEST\n",
      "loss: 1.2905725172587803\n",
      "accuracy: 0.7682539682539683\n",
      "******************\n",
      "epoch: 35\n",
      "Train\n",
      "0.02310222409061963\n",
      "TEST\n",
      "loss: 1.2716779992693947\n",
      "accuracy: 0.8126984126984127\n",
      "******************\n",
      "epoch: 36\n",
      "Train\n",
      "0.0498295950391156\n",
      "TEST\n",
      "loss: 2.6876727709694515\n",
      "accuracy: 0.7428571428571429\n",
      "******************\n",
      "epoch: 37\n",
      "Train\n",
      "0.05241983045688501\n",
      "TEST\n",
      "loss: 0.9142969595061408\n",
      "accuracy: 0.7523809523809524\n",
      "******************\n",
      "epoch: 38\n",
      "Train\n",
      "0.03269761005997942\n",
      "TEST\n",
      "loss: 3.3376551877884637\n",
      "accuracy: 0.7428571428571429\n",
      "******************\n",
      "epoch: 39\n",
      "Train\n",
      "0.025695735430736995\n",
      "TEST\n",
      "loss: 1.190078998179663\n",
      "accuracy: 0.746031746031746\n",
      "******************\n",
      "epoch: 40\n",
      "Train\n",
      "0.015901496805643813\n",
      "TEST\n",
      "loss: 1.6310906896515498\n",
      "accuracy: 0.7936507936507936\n",
      "******************\n",
      "epoch: 41\n",
      "Train\n",
      "0.005293670491366466\n",
      "TEST\n",
      "loss: 1.1584643555065943\n",
      "accuracy: 0.7047619047619048\n",
      "******************\n",
      "epoch: 42\n",
      "Train\n",
      "0.016325792133500407\n",
      "TEST\n",
      "loss: 1.1977357467015584\n",
      "accuracy: 0.726984126984127\n",
      "******************\n",
      "epoch: 43\n",
      "Train\n",
      "0.027750045280441987\n",
      "TEST\n",
      "loss: 2.515536378678821\n",
      "accuracy: 0.5682539682539682\n",
      "******************\n",
      "epoch: 44\n",
      "Train\n",
      "0.10456907433606359\n",
      "TEST\n",
      "loss: 1.2230118234952292\n",
      "accuracy: 0.7365079365079366\n",
      "******************\n",
      "epoch: 45\n",
      "Train\n",
      "0.12150391517909771\n",
      "TEST\n",
      "loss: 0.9507341987556881\n",
      "accuracy: 0.7968253968253968\n",
      "******************\n",
      "epoch: 46\n",
      "Train\n",
      "0.047914396486199974\n",
      "TEST\n",
      "loss: 1.4954109973377652\n",
      "accuracy: 0.638095238095238\n",
      "******************\n",
      "epoch: 47\n",
      "Train\n",
      "0.024900255912679636\n",
      "TEST\n",
      "loss: 1.109787820823609\n",
      "accuracy: 0.7746031746031746\n",
      "******************\n",
      "epoch: 48\n",
      "Train\n",
      "0.009864270975598747\n",
      "TEST\n",
      "loss: 1.119885868117923\n",
      "accuracy: 0.765079365079365\n",
      "******************\n",
      "epoch: 49\n",
      "Train\n",
      "0.0023950318721913813\n",
      "TEST\n",
      "loss: 1.3814220267628867\n",
      "accuracy: 0.8095238095238095\n",
      "******************\n",
      "epoch: 50\n",
      "Train\n",
      "0.0008832047465917557\n",
      "TEST\n",
      "loss: 1.2020927179427374\n",
      "accuracy: 0.7904761904761904\n",
      "******************\n",
      "epoch: 51\n",
      "Train\n",
      "0.001069295126940157\n",
      "TEST\n",
      "loss: 1.2961884091770839\n",
      "accuracy: 0.7968253968253968\n",
      "******************\n",
      "epoch: 52\n",
      "Train\n",
      "0.0007802711712267484\n",
      "TEST\n",
      "loss: 1.13849035482558\n",
      "accuracy: 0.8095238095238095\n",
      "******************\n",
      "epoch: 53\n",
      "Train\n",
      "0.0005114984176758931\n",
      "TEST\n",
      "loss: 1.2092469752780974\n",
      "accuracy: 0.8063492063492064\n",
      "******************\n",
      "epoch: 54\n",
      "Train\n",
      "0.0003826034178023801\n",
      "TEST\n",
      "loss: 1.2728069848484462\n",
      "accuracy: 0.8\n",
      "******************\n",
      "epoch: 55\n",
      "Train\n",
      "0.0002829543059851569\n",
      "TEST\n",
      "loss: 1.3294471356603834\n",
      "accuracy: 0.8063492063492064\n",
      "******************\n",
      "epoch: 56\n",
      "Train\n",
      "0.00041881064235931725\n",
      "TEST\n",
      "loss: 1.296266127957238\n",
      "accuracy: 0.8031746031746032\n",
      "******************\n",
      "epoch: 57\n",
      "Train\n",
      "0.00867396280321317\n",
      "TEST\n",
      "loss: 1.245751532864949\n",
      "accuracy: 0.8031746031746032\n",
      "******************\n",
      "epoch: 58\n",
      "Train\n",
      "0.005185051436604069\n",
      "TEST\n",
      "loss: 1.321926406451634\n",
      "accuracy: 0.7682539682539683\n",
      "******************\n",
      "epoch: 59\n",
      "Train\n",
      "0.003255457907953119\n",
      "TEST\n",
      "loss: 1.4577003359794616\n",
      "accuracy: 0.7428571428571429\n",
      "******************\n",
      "epoch: 60\n",
      "Train\n",
      "0.00935974787673643\n",
      "TEST\n",
      "loss: 1.5573030842675104\n",
      "accuracy: 0.7841269841269841\n",
      "******************\n",
      "epoch: 61\n",
      "Train\n",
      "0.018048749011634266\n",
      "TEST\n",
      "loss: 1.62580230500963\n",
      "accuracy: 0.6857142857142857\n",
      "******************\n",
      "epoch: 62\n",
      "Train\n",
      "0.11421301231569388\n",
      "TEST\n",
      "loss: 2.098436877841041\n",
      "accuracy: 0.4380952380952381\n",
      "******************\n",
      "epoch: 63\n",
      "Train\n",
      "0.14574573241097288\n",
      "TEST\n",
      "loss: 1.176919987277379\n",
      "accuracy: 0.6507936507936508\n",
      "******************\n",
      "epoch: 64\n",
      "Train\n",
      "0.07869855049373234\n",
      "TEST\n",
      "loss: 2.4270380568882777\n",
      "accuracy: 0.7333333333333333\n",
      "******************\n",
      "epoch: 65\n",
      "Train\n",
      "0.026208465623745517\n",
      "TEST\n",
      "loss: 1.2120629641744824\n",
      "accuracy: 0.7777777777777778\n",
      "******************\n",
      "epoch: 66\n",
      "Train\n",
      "0.008892313945806208\n",
      "TEST\n",
      "loss: 1.189965019528828\n",
      "accuracy: 0.7936507936507936\n",
      "******************\n",
      "epoch: 67\n",
      "Train\n",
      "0.006393669524586614\n",
      "TEST\n",
      "loss: 1.3667131160932875\n",
      "accuracy: 0.7841269841269841\n",
      "******************\n",
      "epoch: 68\n",
      "Train\n",
      "0.007682405293285195\n",
      "TEST\n",
      "loss: 1.6186799344562348\n",
      "accuracy: 0.7968253968253968\n",
      "******************\n",
      "epoch: 69\n",
      "Train\n",
      "0.002393147005955522\n",
      "TEST\n",
      "loss: 1.191190739283486\n",
      "accuracy: 0.8031746031746032\n",
      "******************\n",
      "Accuracy on the validation:  0.8317460317460318\n"
     ]
    }
   ],
   "source": [
    "seed_everything(42)\n",
    "\n",
    "train_dataset = HeartbeatSounds(mode='train', data = data, labels = labels, augment = True, aug_type = 'RandomErasing', keys = train_keys)\n",
    "valid_dataset = HeartbeatSounds(mode='valid', data = data, labels = labels, keys = valid_keys)\n",
    "test_dataset = HeartbeatSounds(mode='test', data = data, labels = labels, keys = test_keys)\n",
    "\n",
    "train_dataloader = DataLoader(train_dataset, batch_size=batch_size, shuffle=True)\n",
    "valid_dataloader = DataLoader(valid_dataset, batch_size=batch_size, shuffle=False)\n",
    "test_dataloader = DataLoader(test_dataset, batch_size=batch_size, shuffle=False)\n",
    "\n",
    "model = resnet18(pretrained=True)\n",
    "num_ftrs = model.fc.in_features\n",
    "model.fc = torch.nn.Linear(num_ftrs, 3)\n",
    "model = model.to(device)\n",
    "\n",
    "epochs = 70\n",
    "criterion = torch.nn.CrossEntropyLoss()\n",
    "optimizer = torch.optim.Adam(model.parameters())\n",
    "\n",
    "model, train_losses, valid_losses, valid_acc = train(model, criterion, train_dataloader, valid_dataloader, epochs, optimizer)"
   ]
  },
  {
   "cell_type": "code",
   "execution_count": 21,
   "metadata": {
    "execution": {
     "iopub.execute_input": "2021-04-05T15:40:31.882729Z",
     "iopub.status.busy": "2021-04-05T15:40:31.882243Z",
     "iopub.status.idle": "2021-04-05T15:40:32.072825Z",
     "shell.execute_reply": "2021-04-05T15:40:32.071897Z"
    },
    "papermill": {
     "duration": 0.231436,
     "end_time": "2021-04-05T15:40:32.073012",
     "exception": false,
     "start_time": "2021-04-05T15:40:31.841576",
     "status": "completed"
    },
    "tags": []
   },
   "outputs": [
    {
     "name": "stdout",
     "output_type": "stream",
     "text": [
      "Quality of the model\n",
      "accuracy: 0.8223350253807107\n"
     ]
    }
   ],
   "source": [
    "evaluate(model, test_dataloader)"
   ]
  },
  {
   "cell_type": "code",
   "execution_count": 22,
   "metadata": {
    "execution": {
     "iopub.execute_input": "2021-04-05T15:40:32.175903Z",
     "iopub.status.busy": "2021-04-05T15:40:32.163883Z",
     "iopub.status.idle": "2021-04-05T15:40:32.317340Z",
     "shell.execute_reply": "2021-04-05T15:40:32.317778Z"
    },
    "papermill": {
     "duration": 0.207782,
     "end_time": "2021-04-05T15:40:32.317995",
     "exception": false,
     "start_time": "2021-04-05T15:40:32.110213",
     "status": "completed"
    },
    "tags": []
   },
   "outputs": [
    {
     "data": {
      "image/png": "[encoded data removed]",
      "text/plain": [
       "<Figure size 432x288 with 1 Axes>"
      ]
     },
     "metadata": {
      "needs_background": "light"
     },
     "output_type": "display_data"
    }
   ],
   "source": [
    "plt.plot(np.arange(epochs), train_losses, label = 'train_loss')\n",
    "plt.plot(np.arange(epochs), valid_losses, label = 'valid_loss')\n",
    "plt.plot(np.arange(epochs), valid_acc, label = 'valid_accuracy')\n",
    "plt.legend()\n",
    "plt.show()"
   ]
  }
 ],
 "metadata": {
  "kernelspec": {
   "display_name": "Python 3",
   "language": "python",
   "name": "python3"
  },
  "language_info": {
   "codemirror_mode": {
    "name": "ipython",
    "version": 3
   },
   "file_extension": ".py",
   "mimetype": "text/x-python",
   "name": "python",
   "nbconvert_exporter": "python",
   "pygments_lexer": "ipython3",
   "version": "3.7.9"
  },
  "papermill": {
   "default_parameters": {},
   "duration": 545.056554,
   "end_time": "2021-04-05T15:40:34.276835",
   "environment_variables": {},
   "exception": null,
   "input_path": "__notebook__.ipynb",
   "output_path": "__notebook__.ipynb",
   "parameters": {},
   "start_time": "2021-04-05T15:31:29.220281",
   "version": "2.2.2"
  },
  "widgets": {
   "application/vnd.jupyter.widget-state+json": {
    "state": {
     "242d112566c644649ee6955656c1794b": {
      "model_module": "@jupyter-widgets/controls",
      "model_module_version": "1.5.0",
      "model_name": "FloatProgressModel",
      "state": {
       "_dom_classes": [],
       "_model_module": "@jupyter-widgets/controls",
       "_model_module_version": "1.5.0",
       "_model_name": "FloatProgressModel",
       "_view_count": null,
       "_view_module": "@jupyter-widgets/controls",
       "_view_module_version": "1.5.0",
       "_view_name": "ProgressView",
       "bar_style": "success",
       "description": "",
       "description_tooltip": null,
       "layout": "IPY_MODEL_8c1d32cafc3f424d82a31fc120456abc",
       "max": 46827520.0,
       "min": 0.0,
       "orientation": "horizontal",
       "style": "IPY_MODEL_964517b473bd4448a2d17019cd0c5f2c",
       "value": 46827520.0
      }
     },
     "4f53662f07c441269eb3f4d0a3b13bbf": {
      "model_module": "@jupyter-widgets/base",
      "model_module_version": "1.2.0",
      "model_name": "LayoutModel",
      "state": {
       "_model_module": "@jupyter-widgets/base",
       "_model_module_version": "1.2.0",
       "_model_name": "LayoutModel",
       "_view_count": null,
       "_view_module": "@jupyter-widgets/base",
       "_view_module_version": "1.2.0",
       "_view_name": "LayoutView",
       "align_content": null,
       "align_items": null,
       "align_self": null,
       "border": null,
       "bottom": null,
       "display": null,
       "flex": null,
       "flex_flow": null,
       "grid_area": null,
       "grid_auto_columns": null,
       "grid_auto_flow": null,
       "grid_auto_rows": null,
       "grid_column": null,
       "grid_gap": null,
       "grid_row": null,
       "grid_template_areas": null,
       "grid_template_columns": null,
       "grid_template_rows": null,
       "height": null,
       "justify_content": null,
       "justify_items": null,
       "left": null,
       "margin": null,
       "max_height": null,
       "max_width": null,
       "min_height": null,
       "min_width": null,
       "object_fit": null,
       "object_position": null,
       "order": null,
       "overflow": null,
       "overflow_x": null,
       "overflow_y": null,
       "padding": null,
       "right": null,
       "top": null,
       "visibility": null,
       "width": null
      }
     },
     "5b68eeb58fb04a818f80284e5b4997f4": {
      "model_module": "@jupyter-widgets/base",
      "model_module_version": "1.2.0",
      "model_name": "LayoutModel",
      "state": {
       "_model_module": "@jupyter-widgets/base",
       "_model_module_version": "1.2.0",
       "_model_name": "LayoutModel",
       "_view_count": null,
       "_view_module": "@jupyter-widgets/base",
       "_view_module_version": "1.2.0",
       "_view_name": "LayoutView",
       "align_content": null,
       "align_items": null,
       "align_self": null,
       "border": null,
       "bottom": null,
       "display": null,
       "flex": null,
       "flex_flow": null,
       "grid_area": null,
       "grid_auto_columns": null,
       "grid_auto_flow": null,
       "grid_auto_rows": null,
       "grid_column": null,
       "grid_gap": null,
       "grid_row": null,
       "grid_template_areas": null,
       "grid_template_columns": null,
       "grid_template_rows": null,
       "height": null,
       "justify_content": null,
       "justify_items": null,
       "left": null,
       "margin": null,
       "max_height": null,
       "max_width": null,
       "min_height": null,
       "min_width": null,
       "object_fit": null,
       "object_position": null,
       "order": null,
       "overflow": null,
       "overflow_x": null,
       "overflow_y": null,
       "padding": null,
       "right": null,
       "top": null,
       "visibility": null,
       "width": null
      }
     },
     "5cb46b5a225640189b7ce000bfd8c486": {
      "model_module": "@jupyter-widgets/controls",
      "model_module_version": "1.5.0",
      "model_name": "HTMLModel",
      "state": {
       "_dom_classes": [],
       "_model_module": "@jupyter-widgets/controls",
       "_model_module_version": "1.5.0",
       "_model_name": "HTMLModel",
       "_view_count": null,
       "_view_module": "@jupyter-widgets/controls",
       "_view_module_version": "1.5.0",
       "_view_name": "HTMLView",
       "description": "",
       "description_tooltip": null,
       "layout": "IPY_MODEL_5b68eeb58fb04a818f80284e5b4997f4",
       "placeholder": "​",
       "style": "IPY_MODEL_673c4d5e708d4b5ca352b46f37171ce9",
       "value": "100%"
      }
     },
     "5d0bfe3e2f334776b66f4b21edb3972f": {
      "model_module": "@jupyter-widgets/controls",
      "model_module_version": "1.5.0",
      "model_name": "HTMLModel",
      "state": {
       "_dom_classes": [],
       "_model_module": "@jupyter-widgets/controls",
       "_model_module_version": "1.5.0",
       "_model_name": "HTMLModel",
       "_view_count": null,
       "_view_module": "@jupyter-widgets/controls",
       "_view_module_version": "1.5.0",
       "_view_name": "HTMLView",
       "description": "",
       "description_tooltip": null,
       "layout": "IPY_MODEL_4f53662f07c441269eb3f4d0a3b13bbf",
       "placeholder": "​",
       "style": "IPY_MODEL_ab257f8f35b6438191147fce4ec8027c",
       "value": " 44.7M/44.7M [00:03&lt;00:00, 24.0MB/s]"
      }
     },
     "673c4d5e708d4b5ca352b46f37171ce9": {
      "model_module": "@jupyter-widgets/controls",
      "model_module_version": "1.5.0",
      "model_name": "DescriptionStyleModel",
      "state": {
       "_model_module": "@jupyter-widgets/controls",
       "_model_module_version": "1.5.0",
       "_model_name": "DescriptionStyleModel",
       "_view_count": null,
       "_view_module": "@jupyter-widgets/base",
       "_view_module_version": "1.2.0",
       "_view_name": "StyleView",
       "description_width": ""
      }
     },
     "71a890905f2c49c788e02beea5ea65c7": {
      "model_module": "@jupyter-widgets/base",
      "model_module_version": "1.2.0",
      "model_name": "LayoutModel",
      "state": {
       "_model_module": "@jupyter-widgets/base",
       "_model_module_version": "1.2.0",
       "_model_name": "LayoutModel",
       "_view_count": null,
       "_view_module": "@jupyter-widgets/base",
       "_view_module_version": "1.2.0",
       "_view_name": "LayoutView",
       "align_content": null,
       "align_items": null,
       "align_self": null,
       "border": null,
       "bottom": null,
       "display": null,
       "flex": null,
       "flex_flow": null,
       "grid_area": null,
       "grid_auto_columns": null,
       "grid_auto_flow": null,
       "grid_auto_rows": null,
       "grid_column": null,
       "grid_gap": null,
       "grid_row": null,
       "grid_template_areas": null,
       "grid_template_columns": null,
       "grid_template_rows": null,
       "height": null,
       "justify_content": null,
       "justify_items": null,
       "left": null,
       "margin": null,
       "max_height": null,
       "max_width": null,
       "min_height": null,
       "min_width": null,
       "object_fit": null,
       "object_position": null,
       "order": null,
       "overflow": null,
       "overflow_x": null,
       "overflow_y": null,
       "padding": null,
       "right": null,
       "top": null,
       "visibility": null,
       "width": null
      }
     },
     "749c960caa3c4c76bbbb0c6f43eb1c47": {
      "model_module": "@jupyter-widgets/controls",
      "model_module_version": "1.5.0",
      "model_name": "HBoxModel",
      "state": {
       "_dom_classes": [],
       "_model_module": "@jupyter-widgets/controls",
       "_model_module_version": "1.5.0",
       "_model_name": "HBoxModel",
       "_view_count": null,
       "_view_module": "@jupyter-widgets/controls",
       "_view_module_version": "1.5.0",
       "_view_name": "HBoxView",
       "box_style": "",
       "children": [
        "IPY_MODEL_5cb46b5a225640189b7ce000bfd8c486",
        "IPY_MODEL_242d112566c644649ee6955656c1794b",
        "IPY_MODEL_5d0bfe3e2f334776b66f4b21edb3972f"
       ],
       "layout": "IPY_MODEL_71a890905f2c49c788e02beea5ea65c7"
      }
     },
     "8c1d32cafc3f424d82a31fc120456abc": {
      "model_module": "@jupyter-widgets/base",
      "model_module_version": "1.2.0",
      "model_name": "LayoutModel",
      "state": {
       "_model_module": "@jupyter-widgets/base",
       "_model_module_version": "1.2.0",
       "_model_name": "LayoutModel",
       "_view_count": null,
       "_view_module": "@jupyter-widgets/base",
       "_view_module_version": "1.2.0",
       "_view_name": "LayoutView",
       "align_content": null,
       "align_items": null,
       "align_self": null,
       "border": null,
       "bottom": null,
       "display": null,
       "flex": null,
       "flex_flow": null,
       "grid_area": null,
       "grid_auto_columns": null,
       "grid_auto_flow": null,
       "grid_auto_rows": null,
       "grid_column": null,
       "grid_gap": null,
       "grid_row": null,
       "grid_template_areas": null,
       "grid_template_columns": null,
       "grid_template_rows": null,
       "height": null,
       "justify_content": null,
       "justify_items": null,
       "left": null,
       "margin": null,
       "max_height": null,
       "max_width": null,
       "min_height": null,
       "min_width": null,
       "object_fit": null,
       "object_position": null,
       "order": null,
       "overflow": null,
       "overflow_x": null,
       "overflow_y": null,
       "padding": null,
       "right": null,
       "top": null,
       "visibility": null,
       "width": null
      }
     },
     "964517b473bd4448a2d17019cd0c5f2c": {
      "model_module": "@jupyter-widgets/controls",
      "model_module_version": "1.5.0",
      "model_name": "ProgressStyleModel",
      "state": {
       "_model_module": "@jupyter-widgets/controls",
       "_model_module_version": "1.5.0",
       "_model_name": "ProgressStyleModel",
       "_view_count": null,
       "_view_module": "@jupyter-widgets/base",
       "_view_module_version": "1.2.0",
       "_view_name": "StyleView",
       "bar_color": null,
       "description_width": ""
      }
     },
     "ab257f8f35b6438191147fce4ec8027c": {
      "model_module": "@jupyter-widgets/controls",
      "model_module_version": "1.5.0",
      "model_name": "DescriptionStyleModel",
      "state": {
       "_model_module": "@jupyter-widgets/controls",
       "_model_module_version": "1.5.0",
       "_model_name": "DescriptionStyleModel",
       "_view_count": null,
       "_view_module": "@jupyter-widgets/base",
       "_view_module_version": "1.2.0",
       "_view_name": "StyleView",
       "description_width": ""
      }
     }
    },
    "version_major": 2,
    "version_minor": 0
   }
  }
 },
 "nbformat": 4,
 "nbformat_minor": 4
}
