{
 "cells": [
  {
   "cell_type": "code",
   "execution_count": 1,
   "metadata": {
    "_cell_guid": "b1076dfc-b9ad-4769-8c92-a6c4dae69d19",
    "_uuid": "8f2839f25d086af736a60e9eeb907d3b93b6e0e5",
    "execution": {
     "iopub.execute_input": "2021-04-05T15:02:42.774393Z",
     "iopub.status.busy": "2021-04-05T15:02:42.773662Z",
     "iopub.status.idle": "2021-04-05T15:02:46.741986Z",
     "shell.execute_reply": "2021-04-05T15:02:46.743305Z"
    },
    "papermill": {
     "duration": 3.988947,
     "end_time": "2021-04-05T15:02:46.743653",
     "exception": false,
     "start_time": "2021-04-05T15:02:42.754706",
     "status": "completed"
    },
    "tags": []
   },
   "outputs": [
    {
     "name": "stderr",
     "output_type": "stream",
     "text": [
      "/opt/conda/lib/python3.7/site-packages/torchaudio/backend/utils.py:54: UserWarning: \"sox\" backend is being deprecated. The default backend will be changed to \"sox_io\" backend in 0.8.0 and \"sox\" backend will be removed in 0.9.0. Please migrate to \"sox_io\" backend. Please refer to https://github.com/pytorch/audio/issues/903 for the detail.\n",
      "  '\"sox\" backend is being deprecated. '\n"
     ]
    }
   ],
   "source": [
    "import numpy as np\n",
    "import matplotlib.pyplot as plt\n",
    "from sklearn.model_selection import train_test_split\n",
    "import librosa\n",
    "import librosa.display\n",
    "import os\n",
    "import copy\n",
    "import torch\n",
    "from torch.utils.data import Dataset, DataLoader\n",
    "import random\n",
    "import skimage.io as io\n",
    "import pandas as pd\n",
    "import torchaudio.transforms as T\n",
    "from torchvision.models import resnet18\n",
    "from tqdm import tqdm"
   ]
  },
  {
   "cell_type": "code",
   "execution_count": 2,
   "metadata": {
    "execution": {
     "iopub.execute_input": "2021-04-05T15:02:46.795501Z",
     "iopub.status.busy": "2021-04-05T15:02:46.794647Z",
     "iopub.status.idle": "2021-04-05T15:02:46.801105Z",
     "shell.execute_reply": "2021-04-05T15:02:46.801973Z"
    },
    "papermill": {
     "duration": 0.044978,
     "end_time": "2021-04-05T15:02:46.802230",
     "exception": false,
     "start_time": "2021-04-05T15:02:46.757252",
     "status": "completed"
    },
    "tags": []
   },
   "outputs": [],
   "source": [
    "def seed_everything(seed=42):\n",
    "    print(f'setting everything to seed {seed}')\n",
    "    random.seed(seed)\n",
    "    os.environ['PYTHONHASHSEED'] = str(seed)\n",
    "    np.random.seed(seed)\n",
    "    torch.manual_seed(seed)\n",
    "    torch.cuda.manual_seed(seed)\n",
    "    torch.backends.cudnn.deterministic = True\n",
    "    torch.cuda.empty_cache()"
   ]
  },
  {
   "cell_type": "code",
   "execution_count": 3,
   "metadata": {
    "execution": {
     "iopub.execute_input": "2021-04-05T15:02:46.839427Z",
     "iopub.status.busy": "2021-04-05T15:02:46.838676Z",
     "iopub.status.idle": "2021-04-05T15:02:46.841746Z",
     "shell.execute_reply": "2021-04-05T15:02:46.841323Z"
    },
    "papermill": {
     "duration": 0.020529,
     "end_time": "2021-04-05T15:02:46.841859",
     "exception": false,
     "start_time": "2021-04-05T15:02:46.821330",
     "status": "completed"
    },
    "tags": []
   },
   "outputs": [],
   "source": [
    "device = torch.device('cuda:0')"
   ]
  },
  {
   "cell_type": "code",
   "execution_count": 4,
   "metadata": {
    "execution": {
     "iopub.execute_input": "2021-04-05T15:02:46.870350Z",
     "iopub.status.busy": "2021-04-05T15:02:46.869729Z",
     "iopub.status.idle": "2021-04-05T15:02:46.872587Z",
     "shell.execute_reply": "2021-04-05T15:02:46.872180Z"
    },
    "papermill": {
     "duration": 0.018393,
     "end_time": "2021-04-05T15:02:46.872726",
     "exception": false,
     "start_time": "2021-04-05T15:02:46.854333",
     "status": "completed"
    },
    "tags": []
   },
   "outputs": [],
   "source": [
    "data_dir = '//kaggle/input/heartbeat-sounds/set_b'\n",
    "file_csv = '/kaggle/input/heartbeat-sounds/set_b.csv'"
   ]
  },
  {
   "cell_type": "code",
   "execution_count": 5,
   "metadata": {
    "execution": {
     "iopub.execute_input": "2021-04-05T15:02:46.905252Z",
     "iopub.status.busy": "2021-04-05T15:02:46.904548Z",
     "iopub.status.idle": "2021-04-05T15:02:46.906831Z",
     "shell.execute_reply": "2021-04-05T15:02:46.907325Z"
    },
    "papermill": {
     "duration": 0.022229,
     "end_time": "2021-04-05T15:02:46.907442",
     "exception": false,
     "start_time": "2021-04-05T15:02:46.885213",
     "status": "completed"
    },
    "tags": []
   },
   "outputs": [],
   "source": [
    "def mono_to_color(X, eps=1e-6, mean=None, std=None):\n",
    "    # Standardize\n",
    "    mean = mean or X.mean()\n",
    "    std = std or X.std()\n",
    "    X = (X - mean) / (std + eps)\n",
    "    # Normalize to [0, 255]\n",
    "    _min, _max = X.min(), X.max()\n",
    "    if (_max - _min) > eps:\n",
    "        V = np.clip(X, _min, _max)\n",
    "        V = 255 * (V - _min) / (_max - _min)\n",
    "        V = V.astype(np.uint8)\n",
    "    else:\n",
    "        V = np.zeros_like(X, dtype=np.uint8)\n",
    "    return V\n",
    "\n",
    "def normalize(image, mean=None, std=None):\n",
    "    image = image / 255.0\n",
    "    if mean is not None and std is not None:\n",
    "        image = (image - mean) / std\n",
    "    return image.astype(np.float32)"
   ]
  },
  {
   "cell_type": "code",
   "execution_count": 6,
   "metadata": {
    "execution": {
     "iopub.execute_input": "2021-04-05T15:02:46.941623Z",
     "iopub.status.busy": "2021-04-05T15:02:46.940975Z",
     "iopub.status.idle": "2021-04-05T15:02:46.943781Z",
     "shell.execute_reply": "2021-04-05T15:02:46.943257Z"
    },
    "papermill": {
     "duration": 0.020867,
     "end_time": "2021-04-05T15:02:46.943884",
     "exception": false,
     "start_time": "2021-04-05T15:02:46.923017",
     "status": "completed"
    },
    "tags": []
   },
   "outputs": [],
   "source": [
    "NUM_SAMPLES = 65500\n",
    "sr = 48000\n",
    "fmin = 84\n",
    "fmax = sr // 2\n",
    "nmels = 128\n",
    "batch_size = 32\n",
    "random_seed = 42\n",
    "train_size = 0.8"
   ]
  },
  {
   "cell_type": "code",
   "execution_count": 7,
   "metadata": {
    "execution": {
     "iopub.execute_input": "2021-04-05T15:02:46.972653Z",
     "iopub.status.busy": "2021-04-05T15:02:46.972136Z",
     "iopub.status.idle": "2021-04-05T15:02:47.013153Z",
     "shell.execute_reply": "2021-04-05T15:02:47.012732Z"
    },
    "papermill": {
     "duration": 0.056603,
     "end_time": "2021-04-05T15:02:47.013265",
     "exception": false,
     "start_time": "2021-04-05T15:02:46.956662",
     "status": "completed"
    },
    "tags": []
   },
   "outputs": [],
   "source": [
    "recordings_old = sorted(os.listdir(data_dir))"
   ]
  },
  {
   "cell_type": "code",
   "execution_count": 8,
   "metadata": {
    "execution": {
     "iopub.execute_input": "2021-04-05T15:02:47.044374Z",
     "iopub.status.busy": "2021-04-05T15:02:47.043834Z",
     "iopub.status.idle": "2021-04-05T15:05:57.934152Z",
     "shell.execute_reply": "2021-04-05T15:05:57.932921Z"
    },
    "papermill": {
     "duration": 190.907739,
     "end_time": "2021-04-05T15:05:57.934344",
     "exception": false,
     "start_time": "2021-04-05T15:02:47.026605",
     "status": "completed"
    },
    "tags": []
   },
   "outputs": [],
   "source": [
    "recordings = []\n",
    "for x in recordings_old:\n",
    "    y, _ = librosa.load(data_dir + '/' + x, sr = sr)\n",
    "    if y.shape[0] >= NUM_SAMPLES:\n",
    "        recordings.append(x)"
   ]
  },
  {
   "cell_type": "code",
   "execution_count": 9,
   "metadata": {
    "execution": {
     "iopub.execute_input": "2021-04-05T15:05:57.968876Z",
     "iopub.status.busy": "2021-04-05T15:05:57.968154Z",
     "iopub.status.idle": "2021-04-05T15:05:57.971925Z",
     "shell.execute_reply": "2021-04-05T15:05:57.972340Z"
    },
    "papermill": {
     "duration": 0.024196,
     "end_time": "2021-04-05T15:05:57.972467",
     "exception": false,
     "start_time": "2021-04-05T15:05:57.948271",
     "status": "completed"
    },
    "tags": []
   },
   "outputs": [
    {
     "data": {
      "text/plain": [
       "638"
      ]
     },
     "execution_count": 9,
     "metadata": {},
     "output_type": "execute_result"
    }
   ],
   "source": [
    "len(recordings)"
   ]
  },
  {
   "cell_type": "code",
   "execution_count": 10,
   "metadata": {
    "execution": {
     "iopub.execute_input": "2021-04-05T15:05:58.005166Z",
     "iopub.status.busy": "2021-04-05T15:05:58.004678Z",
     "iopub.status.idle": "2021-04-05T15:05:58.317088Z",
     "shell.execute_reply": "2021-04-05T15:05:58.316246Z"
    },
    "papermill": {
     "duration": 0.331313,
     "end_time": "2021-04-05T15:05:58.317223",
     "exception": false,
     "start_time": "2021-04-05T15:05:57.985910",
     "status": "completed"
    },
    "tags": []
   },
   "outputs": [
    {
     "data": {
      "image/png": "[encoded data removed]",
      "text/plain": [
       "<Figure size 1440x432 with 1 Axes>"
      ]
     },
     "metadata": {
      "needs_background": "light"
     },
     "output_type": "display_data"
    }
   ],
   "source": [
    "y, _ = librosa.load(data_dir + '/' + recordings[200], sr = sr)\n",
    "begin = (len(y) - NUM_SAMPLES) // 2\n",
    "samples = y[begin:begin + NUM_SAMPLES]\n",
    "melspec = librosa.feature.melspectrogram(samples, sr=sr, n_mels = nmels)#, fmin=fmin, fmax=fmax)\n",
    "melspec = librosa.power_to_db(melspec)\n",
    "melspec = mono_to_color(melspec)\n",
    "melspec = normalize(melspec, mean=None, std=None)\n",
    "plt.figure(figsize = (20, 6))\n",
    "plt.imshow(melspec)\n",
    "plt.show()"
   ]
  },
  {
   "cell_type": "code",
   "execution_count": 11,
   "metadata": {
    "execution": {
     "iopub.execute_input": "2021-04-05T15:05:58.354139Z",
     "iopub.status.busy": "2021-04-05T15:05:58.353536Z",
     "iopub.status.idle": "2021-04-05T15:05:58.356906Z",
     "shell.execute_reply": "2021-04-05T15:05:58.357315Z"
    },
    "papermill": {
     "duration": 0.02459,
     "end_time": "2021-04-05T15:05:58.357450",
     "exception": false,
     "start_time": "2021-04-05T15:05:58.332860",
     "status": "completed"
    },
    "tags": []
   },
   "outputs": [
    {
     "data": {
      "text/plain": [
       "(128, 128)"
      ]
     },
     "execution_count": 11,
     "metadata": {},
     "output_type": "execute_result"
    }
   ],
   "source": [
    "image_size = melspec.shape\n",
    "image_size"
   ]
  },
  {
   "cell_type": "code",
   "execution_count": 12,
   "metadata": {
    "execution": {
     "iopub.execute_input": "2021-04-05T15:05:58.395112Z",
     "iopub.status.busy": "2021-04-05T15:05:58.394531Z",
     "iopub.status.idle": "2021-04-05T15:05:58.416769Z",
     "shell.execute_reply": "2021-04-05T15:05:58.416355Z"
    },
    "papermill": {
     "duration": 0.043491,
     "end_time": "2021-04-05T15:05:58.416883",
     "exception": false,
     "start_time": "2021-04-05T15:05:58.373392",
     "status": "completed"
    },
    "tags": []
   },
   "outputs": [],
   "source": [
    "melspec = torch.tensor(melspec)\n",
    "melspec = torch.stack([melspec, melspec, melspec])"
   ]
  },
  {
   "cell_type": "code",
   "execution_count": 13,
   "metadata": {
    "execution": {
     "iopub.execute_input": "2021-04-05T15:05:58.459683Z",
     "iopub.status.busy": "2021-04-05T15:05:58.458974Z",
     "iopub.status.idle": "2021-04-05T15:05:58.461639Z",
     "shell.execute_reply": "2021-04-05T15:05:58.461219Z"
    },
    "papermill": {
     "duration": 0.029099,
     "end_time": "2021-04-05T15:05:58.461747",
     "exception": false,
     "start_time": "2021-04-05T15:05:58.432648",
     "status": "completed"
    },
    "tags": []
   },
   "outputs": [],
   "source": [
    "def noise_augmentation(im, var = 0.01):\n",
    "    noise = var * torch.randn(im.shape[1], im.shape[2])\n",
    "    im[0, :, :] += noise\n",
    "    im[1, :, :] += noise\n",
    "    im[2, :, :] += noise\n",
    "    return im\n",
    "\n",
    "def shift_augmentation(image, max_shift = 10):\n",
    "    shift = np.random.randint(max_shift)\n",
    "    p = np.random.rand()\n",
    "    if p < 0.5:\n",
    "        image[:, :, shift:] = image[:, :, :image.shape[2] - shift]\n",
    "        image[:, :, :shift] = 0.0\n",
    "    else:\n",
    "        image[:, :, :image.shape[2] - shift] = image[:, :, shift:]\n",
    "        image[:, :, image.shape[2] - shift:] = 0.0\n",
    "    return image\n",
    "    \n",
    "def random_erasing(image, max_a = 7, max_b = 7):\n",
    "    a = np.random.randint(max_a)\n",
    "    b = np.random.randint(max_b)\n",
    "    a0 = np.random.randint(image.shape[1] - max_a)\n",
    "    b0 = np.random.randint(image.shape[2] - max_a)\n",
    "    image[:, a0 : a0 + a, b0 : b0 + b] = 0\n",
    "    return image\n",
    "    \n",
    "    \n",
    "def augmentation(im, mode = 'No'):\n",
    "    image = im.clone()\n",
    "    if mode == 'TimeMasking':\n",
    "        return T.TimeMasking(25)(image)\n",
    "    if mode == 'FreqMasking':\n",
    "        return T.FrequencyMasking(12)(image)\n",
    "    if mode == 'RandomErasing':\n",
    "        return random_erasing(image, 10, 10)\n",
    "    if mode == 'Shift':\n",
    "        return shift_augmentation(image)\n",
    "    if mode == 'Noise':\n",
    "        return noise_augmentation(image)\n",
    "    \n",
    "    return image"
   ]
  },
  {
   "cell_type": "code",
   "execution_count": 14,
   "metadata": {
    "execution": {
     "iopub.execute_input": "2021-04-05T15:05:58.499983Z",
     "iopub.status.busy": "2021-04-05T15:05:58.499314Z",
     "iopub.status.idle": "2021-04-05T15:05:58.502180Z",
     "shell.execute_reply": "2021-04-05T15:05:58.501764Z"
    },
    "papermill": {
     "duration": 0.024594,
     "end_time": "2021-04-05T15:05:58.502284",
     "exception": false,
     "start_time": "2021-04-05T15:05:58.477690",
     "status": "completed"
    },
    "tags": []
   },
   "outputs": [],
   "source": [
    "def get_spectrograms(filename):\n",
    "    y, _ = librosa.load(filename, sr = sr)\n",
    "    count = len(y) // NUM_SAMPLES\n",
    "    mel_spectrograms = []\n",
    "    for i in range(count):\n",
    "        samples = y[i * NUM_SAMPLES:(i + 1) * NUM_SAMPLES]\n",
    "        melspec = librosa.feature.melspectrogram(samples, sr=sr, n_mels=nmels, fmin=fmin, fmax=fmax)\n",
    "        melspec = librosa.power_to_db(melspec)\n",
    "        melspec = mono_to_color(melspec)\n",
    "        melspec = normalize(melspec, mean=None, std=None)\n",
    "        mel_spectrograms.append(torch.tensor(melspec, dtype=torch.float32))\n",
    "\n",
    "    return mel_spectrograms, count"
   ]
  },
  {
   "cell_type": "code",
   "execution_count": 15,
   "metadata": {
    "execution": {
     "iopub.execute_input": "2021-04-05T15:05:58.540970Z",
     "iopub.status.busy": "2021-04-05T15:05:58.540278Z",
     "iopub.status.idle": "2021-04-05T15:05:58.542751Z",
     "shell.execute_reply": "2021-04-05T15:05:58.543225Z"
    },
    "papermill": {
     "duration": 0.025246,
     "end_time": "2021-04-05T15:05:58.543369",
     "exception": false,
     "start_time": "2021-04-05T15:05:58.518123",
     "status": "completed"
    },
    "tags": []
   },
   "outputs": [],
   "source": [
    "class HeartbeatSounds(Dataset):\n",
    "    def __init__(self, keys, mode = 'train', data = [], labels = [], augment = False, aug_type = 'No'):\n",
    "        super().__init__()\n",
    "        self.n = len(keys)\n",
    "        self.data = []\n",
    "        self.labels = []\n",
    "        self.augment = augment\n",
    "        self.aug_type = aug_type\n",
    "        for i in keys:\n",
    "            self.data.append(data[i])\n",
    "            self.labels.append(labels[i])\n",
    "\n",
    "    def __getitem__(self, i):\n",
    "        X = self.data[i]\n",
    "        X = torch.stack([X, X, X])\n",
    "        if self.augment:\n",
    "            X = augmentation(X, self.aug_type)\n",
    "        return X, self.labels[i]\n",
    "\n",
    "    def __len__(self):\n",
    "        return self.n"
   ]
  },
  {
   "cell_type": "code",
   "execution_count": 16,
   "metadata": {
    "execution": {
     "iopub.execute_input": "2021-04-05T15:05:58.582701Z",
     "iopub.status.busy": "2021-04-05T15:05:58.581835Z",
     "iopub.status.idle": "2021-04-05T15:08:59.628151Z",
     "shell.execute_reply": "2021-04-05T15:08:59.627688Z"
    },
    "papermill": {
     "duration": 181.068887,
     "end_time": "2021-04-05T15:08:59.628282",
     "exception": false,
     "start_time": "2021-04-05T15:05:58.559395",
     "status": "completed"
    },
    "tags": []
   },
   "outputs": [],
   "source": [
    "data = []\n",
    "labels = []\n",
    "for i in range(len(recordings)):\n",
    "    if 'normal' in recordings[i]:\n",
    "        label = 0\n",
    "        mel_spectrograms, count = get_spectrograms(data_dir + '/' + recordings[i])\n",
    "        for j in range(count):\n",
    "            data.append(mel_spectrograms[j])\n",
    "            labels.append(label)\n",
    "    elif 'extrastole' in recordings[i]:\n",
    "        label = 1\n",
    "        mel_spectrograms, count = get_spectrograms(data_dir + '/' + recordings[i])\n",
    "        for j in range(count):\n",
    "            data.append(mel_spectrograms[j])\n",
    "            labels.append(label)\n",
    "    elif 'murmur' in recordings[i]:\n",
    "        label = 2\n",
    "        mel_spectrograms, count = get_spectrograms(data_dir + '/' + recordings[i])\n",
    "        for j in range(count):\n",
    "            data.append(mel_spectrograms[j])\n",
    "            labels.append(label)"
   ]
  },
  {
   "cell_type": "code",
   "execution_count": 17,
   "metadata": {
    "execution": {
     "iopub.execute_input": "2021-04-05T15:08:59.666473Z",
     "iopub.status.busy": "2021-04-05T15:08:59.665693Z",
     "iopub.status.idle": "2021-04-05T15:08:59.670357Z",
     "shell.execute_reply": "2021-04-05T15:08:59.669890Z"
    },
    "papermill": {
     "duration": 0.024897,
     "end_time": "2021-04-05T15:08:59.670462",
     "exception": false,
     "start_time": "2021-04-05T15:08:59.645565",
     "status": "completed"
    },
    "tags": []
   },
   "outputs": [],
   "source": [
    "keys = np.arange(len(data))\n",
    "train_keys, test_keys = train_test_split(keys, train_size=train_size, random_state=random_seed)\n",
    "train_keys, valid_keys = train_test_split(train_keys, train_size=train_size, random_state=random_seed)"
   ]
  },
  {
   "cell_type": "code",
   "execution_count": 18,
   "metadata": {
    "execution": {
     "iopub.execute_input": "2021-04-05T15:08:59.714981Z",
     "iopub.status.busy": "2021-04-05T15:08:59.714262Z",
     "iopub.status.idle": "2021-04-05T15:08:59.716546Z",
     "shell.execute_reply": "2021-04-05T15:08:59.717023Z"
    },
    "papermill": {
     "duration": 0.030289,
     "end_time": "2021-04-05T15:08:59.717144",
     "exception": false,
     "start_time": "2021-04-05T15:08:59.686855",
     "status": "completed"
    },
    "tags": []
   },
   "outputs": [],
   "source": [
    "def train(model, loss_fn, train_loader, valid_loader, epochs, optimizer, augment = 'No'):\n",
    "    best_model_wts = copy.deepcopy(model.state_dict())\n",
    "    best_acc = 0.0\n",
    "    train_losses = []\n",
    "    valid_losses = []\n",
    "    valid_acc = []\n",
    "    best_train_acc = 0.0\n",
    "    for epoch in range(epochs):\n",
    "        print('epoch:', epoch)\n",
    "        model.train()\n",
    "        sum_loss = 0\n",
    "        sum_accuracy = 0\n",
    "        cnt_objects = 0\n",
    "        for X, y in train_dataloader:\n",
    "            optimizer.zero_grad()\n",
    "            X = X.to(device)\n",
    "            scores = model(X)\n",
    "            loss = criterion(scores, y.to(device))\n",
    "            loss.backward()\n",
    "            optimizer.step()\n",
    "            sum_loss += float(loss) * len(y)\n",
    "            cnt_objects += len(y)\n",
    "\n",
    "        mean_loss = sum_loss / cnt_objects\n",
    "        train_losses.append(mean_loss)\n",
    "        print('Train')\n",
    "        print(mean_loss)\n",
    "\n",
    "        model.eval()\n",
    "        sum_loss = 0\n",
    "        sum_accuracy = 0\n",
    "        cnt_objects = 0\n",
    "        with torch.no_grad():\n",
    "            for X, y in valid_loader:\n",
    "                X = X.to(device)\n",
    "                scores = model(X)\n",
    "                loss = criterion(scores, y.to(device))\n",
    "                sum_loss += float(loss) * len(y)\n",
    "                preds = scores.cpu().detach().argmax(dim=1)\n",
    "                accuracy = float((y == preds).float().sum())\n",
    "                sum_accuracy += accuracy\n",
    "                cnt_objects += len(y)\n",
    "\n",
    "        print('TEST')\n",
    "        mean_loss = sum_loss / cnt_objects\n",
    "        valid_losses.append(mean_loss)\n",
    "        mean_accuracy = sum_accuracy / cnt_objects\n",
    "        valid_acc.append(mean_accuracy)\n",
    "        if mean_accuracy > best_acc:\n",
    "            best_acc = mean_accuracy\n",
    "            best_model_wts = copy.deepcopy(model.state_dict())\n",
    "        print('loss:', mean_loss)\n",
    "        print('accuracy:', mean_accuracy)\n",
    "        print('******************')\n",
    "    print('Accuracy on the validation: ', best_acc)\n",
    "    model.load_state_dict(best_model_wts)\n",
    "    return model, train_losses, valid_losses, valid_acc"
   ]
  },
  {
   "cell_type": "code",
   "execution_count": 19,
   "metadata": {
    "execution": {
     "iopub.execute_input": "2021-04-05T15:08:59.755688Z",
     "iopub.status.busy": "2021-04-05T15:08:59.755010Z",
     "iopub.status.idle": "2021-04-05T15:08:59.757366Z",
     "shell.execute_reply": "2021-04-05T15:08:59.757842Z"
    },
    "papermill": {
     "duration": 0.024381,
     "end_time": "2021-04-05T15:08:59.757954",
     "exception": false,
     "start_time": "2021-04-05T15:08:59.733573",
     "status": "completed"
    },
    "tags": []
   },
   "outputs": [],
   "source": [
    "def evaluate(model, test_loader):\n",
    "    model.eval()\n",
    "    #all_preds = []\n",
    "    sum_accuracy = 0\n",
    "    cnt_objects = 0\n",
    "    with torch.no_grad():\n",
    "        for X, y in test_loader:\n",
    "            X = X.to(device)\n",
    "            scores = model(X)\n",
    "            preds = scores.cpu().detach().argmax(dim=1)\n",
    "            accuracy = float((y == preds).float().sum())\n",
    "            sum_accuracy += accuracy\n",
    "            cnt_objects += len(y)\n",
    "            #all_preds.append(preds)\n",
    "\n",
    "    mean_accuracy = sum_accuracy / cnt_objects\n",
    "    print('Quality of the model')\n",
    "    print('accuracy:', mean_accuracy)"
   ]
  },
  {
   "cell_type": "markdown",
   "metadata": {
    "papermill": {
     "duration": 0.01649,
     "end_time": "2021-04-05T15:08:59.790924",
     "exception": false,
     "start_time": "2021-04-05T15:08:59.774434",
     "status": "completed"
    },
    "tags": []
   },
   "source": [
    "## Resnet18"
   ]
  },
  {
   "cell_type": "markdown",
   "metadata": {
    "papermill": {
     "duration": 0.016326,
     "end_time": "2021-04-05T15:08:59.823714",
     "exception": false,
     "start_time": "2021-04-05T15:08:59.807388",
     "status": "completed"
    },
    "tags": []
   },
   "source": [
    "### FreqMasking"
   ]
  },
  {
   "cell_type": "code",
   "execution_count": 20,
   "metadata": {
    "execution": {
     "iopub.execute_input": "2021-04-05T15:08:59.864346Z",
     "iopub.status.busy": "2021-04-05T15:08:59.863810Z",
     "iopub.status.idle": "2021-04-05T15:11:37.230887Z",
     "shell.execute_reply": "2021-04-05T15:11:37.231924Z"
    },
    "papermill": {
     "duration": 157.391624,
     "end_time": "2021-04-05T15:11:37.232133",
     "exception": false,
     "start_time": "2021-04-05T15:08:59.840509",
     "status": "completed"
    },
    "tags": []
   },
   "outputs": [
    {
     "name": "stdout",
     "output_type": "stream",
     "text": [
      "setting everything to seed 42\n"
     ]
    },
    {
     "name": "stderr",
     "output_type": "stream",
     "text": [
      "Downloading: \"https://download.pytorch.org/models/resnet18-5c106cde.pth\" to /root/.cache/torch/hub/checkpoints/resnet18-5c106cde.pth\n"
     ]
    },
    {
     "data": {
      "application/vnd.jupyter.widget-view+json": {
       "model_id": "7130bdab45e54109ae9e418865dfaa62",
       "version_major": 2,
       "version_minor": 0
      },
      "text/plain": [
       "  0%|          | 0.00/44.7M [00:00<?, ?B/s]"
      ]
     },
     "metadata": {},
     "output_type": "display_data"
    },
    {
     "name": "stdout",
     "output_type": "stream",
     "text": [
      "epoch: 0\n",
      "Train\n",
      "0.7953877459214357\n",
      "TEST\n",
      "loss: 0.629418897250342\n",
      "accuracy: 0.7746031746031746\n",
      "******************\n",
      "epoch: 1\n",
      "Train\n",
      "0.623705139512387\n",
      "TEST\n",
      "loss: 0.664872053502098\n",
      "accuracy: 0.7523809523809524\n",
      "******************\n",
      "epoch: 2\n",
      "Train\n",
      "0.5470357608283863\n",
      "TEST\n",
      "loss: 0.5823643171598041\n",
      "accuracy: 0.780952380952381\n",
      "******************\n",
      "epoch: 3\n",
      "Train\n",
      "0.4558780135925655\n",
      "TEST\n",
      "loss: 0.8580504443910387\n",
      "accuracy: 0.7523809523809524\n",
      "******************\n",
      "epoch: 4\n",
      "Train\n",
      "0.47489505322728487\n",
      "TEST\n",
      "loss: 0.5739042882881468\n",
      "accuracy: 0.8063492063492064\n",
      "******************\n",
      "epoch: 5\n",
      "Train\n",
      "0.4141817071117798\n",
      "TEST\n",
      "loss: 1.0540258475712367\n",
      "accuracy: 0.5365079365079365\n",
      "******************\n",
      "epoch: 6\n",
      "Train\n",
      "0.37837068361361126\n",
      "TEST\n",
      "loss: 0.6411389162616125\n",
      "accuracy: 0.7873015873015873\n",
      "******************\n",
      "epoch: 7\n",
      "Train\n",
      "0.3258035248759439\n",
      "TEST\n",
      "loss: 0.9831309538985056\n",
      "accuracy: 0.7174603174603175\n",
      "******************\n",
      "epoch: 8\n",
      "Train\n",
      "0.30048936430284956\n",
      "TEST\n",
      "loss: 0.6813904670495835\n",
      "accuracy: 0.7936507936507936\n",
      "******************\n",
      "epoch: 9\n",
      "Train\n",
      "0.22426799134402356\n",
      "TEST\n",
      "loss: 0.7324918785738567\n",
      "accuracy: 0.8222222222222222\n",
      "******************\n",
      "epoch: 10\n",
      "Train\n",
      "0.18781281988757106\n",
      "TEST\n",
      "loss: 2.1122096784531124\n",
      "accuracy: 0.473015873015873\n",
      "******************\n",
      "epoch: 11\n",
      "Train\n",
      "0.1953229517265385\n",
      "TEST\n",
      "loss: 0.8340524757665301\n",
      "accuracy: 0.8126984126984127\n",
      "******************\n",
      "epoch: 12\n",
      "Train\n",
      "0.16854885654010596\n",
      "TEST\n",
      "loss: 1.035908818055713\n",
      "accuracy: 0.7714285714285715\n",
      "******************\n",
      "epoch: 13\n",
      "Train\n",
      "0.16034466250724883\n",
      "TEST\n",
      "loss: 0.6578380734201461\n",
      "accuracy: 0.8031746031746032\n",
      "******************\n",
      "epoch: 14\n",
      "Train\n",
      "0.16735883380232394\n",
      "TEST\n",
      "loss: 1.2725129812482803\n",
      "accuracy: 0.7238095238095238\n",
      "******************\n",
      "epoch: 15\n",
      "Train\n",
      "0.13066782401704524\n",
      "TEST\n",
      "loss: 0.863084818446447\n",
      "accuracy: 0.8063492063492064\n",
      "******************\n",
      "epoch: 16\n",
      "Train\n",
      "0.1550665522930734\n",
      "TEST\n",
      "loss: 1.1343017796675363\n",
      "accuracy: 0.8253968253968254\n",
      "******************\n",
      "epoch: 17\n",
      "Train\n",
      "0.09183390759304462\n",
      "TEST\n",
      "loss: 0.8785085303442819\n",
      "accuracy: 0.7333333333333333\n",
      "******************\n",
      "epoch: 18\n",
      "Train\n",
      "0.1259263036454524\n",
      "TEST\n",
      "loss: 1.0830254537718638\n",
      "accuracy: 0.7904761904761904\n",
      "******************\n",
      "epoch: 19\n",
      "Train\n",
      "0.09531946244743535\n",
      "TEST\n",
      "loss: 1.6826045250135755\n",
      "accuracy: 0.7555555555555555\n",
      "******************\n",
      "epoch: 20\n",
      "Train\n",
      "0.08385862811077223\n",
      "TEST\n",
      "loss: 1.1253455869735234\n",
      "accuracy: 0.6730158730158731\n",
      "******************\n",
      "epoch: 21\n",
      "Train\n",
      "0.061892740481708425\n",
      "TEST\n",
      "loss: 1.1097547425164116\n",
      "accuracy: 0.7714285714285715\n",
      "******************\n",
      "epoch: 22\n",
      "Train\n",
      "0.09806281539172858\n",
      "TEST\n",
      "loss: 1.0455212892994048\n",
      "accuracy: 0.8095238095238095\n",
      "******************\n",
      "epoch: 23\n",
      "Train\n",
      "0.04816433689701263\n",
      "TEST\n",
      "loss: 1.0268468964667548\n",
      "accuracy: 0.7619047619047619\n",
      "******************\n",
      "epoch: 24\n",
      "Train\n",
      "0.053286642741598333\n",
      "TEST\n",
      "loss: 1.0286874018964314\n",
      "accuracy: 0.7841269841269841\n",
      "******************\n",
      "epoch: 25\n",
      "Train\n",
      "0.0412987839457201\n",
      "TEST\n",
      "loss: 1.04982264969084\n",
      "accuracy: 0.8095238095238095\n",
      "******************\n",
      "epoch: 26\n",
      "Train\n",
      "0.047373266960179836\n",
      "TEST\n",
      "loss: 1.1181394612978375\n",
      "accuracy: 0.8031746031746032\n",
      "******************\n",
      "epoch: 27\n",
      "Train\n",
      "0.044092401496162066\n",
      "TEST\n",
      "loss: 1.304454713775998\n",
      "accuracy: 0.7936507936507936\n",
      "******************\n",
      "epoch: 28\n",
      "Train\n",
      "0.0440790060119048\n",
      "TEST\n",
      "loss: 1.2397617890721275\n",
      "accuracy: 0.7873015873015873\n",
      "******************\n",
      "epoch: 29\n",
      "Train\n",
      "0.06021778539083513\n",
      "TEST\n",
      "loss: 1.2317842349173531\n",
      "accuracy: 0.7936507936507936\n",
      "******************\n",
      "epoch: 30\n",
      "Train\n",
      "0.06783216102810678\n",
      "TEST\n",
      "loss: 1.4054409943875812\n",
      "accuracy: 0.8\n",
      "******************\n",
      "epoch: 31\n",
      "Train\n",
      "0.0682248416178467\n",
      "TEST\n",
      "loss: 1.2743039303355748\n",
      "accuracy: 0.8095238095238095\n",
      "******************\n",
      "epoch: 32\n",
      "Train\n",
      "0.03340419021667543\n",
      "TEST\n",
      "loss: 0.9777825961037288\n",
      "accuracy: 0.7301587301587301\n",
      "******************\n",
      "epoch: 33\n",
      "Train\n",
      "0.0206785417539885\n",
      "TEST\n",
      "loss: 1.4098267252483065\n",
      "accuracy: 0.7777777777777778\n",
      "******************\n",
      "epoch: 34\n",
      "Train\n",
      "0.030426592489140813\n",
      "TEST\n",
      "loss: 1.4615548482016911\n",
      "accuracy: 0.7206349206349206\n",
      "******************\n",
      "epoch: 35\n",
      "Train\n",
      "0.055328872689505336\n",
      "TEST\n",
      "loss: 1.7058329756297763\n",
      "accuracy: 0.7777777777777778\n",
      "******************\n",
      "epoch: 36\n",
      "Train\n",
      "0.18037283493648265\n",
      "TEST\n",
      "loss: 0.9836594530514309\n",
      "accuracy: 0.7619047619047619\n",
      "******************\n",
      "epoch: 37\n",
      "Train\n",
      "0.03862405708022682\n",
      "TEST\n",
      "loss: 1.1389212933797686\n",
      "accuracy: 0.7238095238095238\n",
      "******************\n",
      "epoch: 38\n",
      "Train\n",
      "0.03959656741447537\n",
      "TEST\n",
      "loss: 1.2125478239286513\n",
      "accuracy: 0.8253968253968254\n",
      "******************\n",
      "epoch: 39\n",
      "Train\n",
      "0.011621978902498392\n",
      "TEST\n",
      "loss: 1.0775897304217021\n",
      "accuracy: 0.7523809523809524\n",
      "******************\n",
      "epoch: 40\n",
      "Train\n",
      "0.017744250750913328\n",
      "TEST\n",
      "loss: 1.523977584119827\n",
      "accuracy: 0.7619047619047619\n",
      "******************\n",
      "epoch: 41\n",
      "Train\n",
      "0.01718410170645208\n",
      "TEST\n",
      "loss: 1.4197973031846305\n",
      "accuracy: 0.8063492063492064\n",
      "******************\n",
      "epoch: 42\n",
      "Train\n",
      "0.035337929985002556\n",
      "TEST\n",
      "loss: 1.2385093698425897\n",
      "accuracy: 0.7682539682539683\n",
      "******************\n",
      "epoch: 43\n",
      "Train\n",
      "0.02535131143448938\n",
      "TEST\n",
      "loss: 1.1109290266793872\n",
      "accuracy: 0.7777777777777778\n",
      "******************\n",
      "epoch: 44\n",
      "Train\n",
      "0.0223497556432981\n",
      "TEST\n",
      "loss: 1.7251721069926307\n",
      "accuracy: 0.7873015873015873\n",
      "******************\n",
      "epoch: 45\n",
      "Train\n",
      "0.014578318382214645\n",
      "TEST\n",
      "loss: 1.2644366777132428\n",
      "accuracy: 0.7968253968253968\n",
      "******************\n",
      "epoch: 46\n",
      "Train\n",
      "0.019175412248872956\n",
      "TEST\n",
      "loss: 1.512858071970561\n",
      "accuracy: 0.7968253968253968\n",
      "******************\n",
      "epoch: 47\n",
      "Train\n",
      "0.012124989487451217\n",
      "TEST\n",
      "loss: 1.1329450339551956\n",
      "accuracy: 0.7968253968253968\n",
      "******************\n",
      "epoch: 48\n",
      "Train\n",
      "0.0036454254227136153\n",
      "TEST\n",
      "loss: 1.1444167787593509\n",
      "accuracy: 0.8158730158730159\n",
      "******************\n",
      "epoch: 49\n",
      "Train\n",
      "0.00858107212515928\n",
      "TEST\n",
      "loss: 1.2756749253424386\n",
      "accuracy: 0.7365079365079366\n",
      "******************\n",
      "epoch: 50\n",
      "Train\n",
      "0.022957963007927604\n",
      "TEST\n",
      "loss: 1.3256921543015374\n",
      "accuracy: 0.7587301587301587\n",
      "******************\n",
      "epoch: 51\n",
      "Train\n",
      "0.02461372928085831\n",
      "TEST\n",
      "loss: 1.277533501481253\n",
      "accuracy: 0.8063492063492064\n",
      "******************\n",
      "epoch: 52\n",
      "Train\n",
      "0.007778987089209732\n",
      "TEST\n",
      "loss: 1.4457353209692334\n",
      "accuracy: 0.819047619047619\n",
      "******************\n",
      "epoch: 53\n",
      "Train\n",
      "0.01719980693819494\n",
      "TEST\n",
      "loss: 1.2409375147214012\n",
      "accuracy: 0.7714285714285715\n",
      "******************\n",
      "epoch: 54\n",
      "Train\n",
      "0.0411632883716064\n",
      "TEST\n",
      "loss: 1.304996123200371\n",
      "accuracy: 0.7904761904761904\n",
      "******************\n",
      "epoch: 55\n",
      "Train\n",
      "0.013328811254511743\n",
      "TEST\n",
      "loss: 1.0381516482148851\n",
      "accuracy: 0.7873015873015873\n",
      "******************\n",
      "epoch: 56\n",
      "Train\n",
      "0.00914957227213201\n",
      "TEST\n",
      "loss: 0.9413942004007007\n",
      "accuracy: 0.7714285714285715\n",
      "******************\n",
      "epoch: 57\n",
      "Train\n",
      "0.0035517181595676444\n",
      "TEST\n",
      "loss: 1.6037215215819223\n",
      "accuracy: 0.8126984126984127\n",
      "******************\n",
      "epoch: 58\n",
      "Train\n",
      "0.011172382605137825\n",
      "TEST\n",
      "loss: 1.326120632413834\n",
      "accuracy: 0.8031746031746032\n",
      "******************\n",
      "epoch: 59\n",
      "Train\n",
      "0.018358470763743178\n",
      "TEST\n",
      "loss: 2.5333665518533617\n",
      "accuracy: 0.8031746031746032\n",
      "******************\n",
      "epoch: 60\n",
      "Train\n",
      "0.020902449803601068\n",
      "TEST\n",
      "loss: 2.0834597553525653\n",
      "accuracy: 0.7936507936507936\n",
      "******************\n",
      "epoch: 61\n",
      "Train\n",
      "0.03215708245785509\n",
      "TEST\n",
      "loss: 1.601190201441447\n",
      "accuracy: 0.6603174603174603\n",
      "******************\n",
      "epoch: 62\n",
      "Train\n",
      "0.06739178641789502\n",
      "TEST\n",
      "loss: 1.2524941379115695\n",
      "accuracy: 0.780952380952381\n",
      "******************\n",
      "epoch: 63\n",
      "Train\n",
      "0.05633866761953846\n",
      "TEST\n",
      "loss: 1.449934546909635\n",
      "accuracy: 0.765079365079365\n",
      "******************\n",
      "epoch: 64\n",
      "Train\n",
      "0.06468450357047123\n",
      "TEST\n",
      "loss: 1.2127830429682656\n",
      "accuracy: 0.7904761904761904\n",
      "******************\n",
      "epoch: 65\n",
      "Train\n",
      "0.036000519749768395\n",
      "TEST\n",
      "loss: 1.3425128989749484\n",
      "accuracy: 0.7873015873015873\n",
      "******************\n",
      "epoch: 66\n",
      "Train\n",
      "0.01087570202117453\n",
      "TEST\n",
      "loss: 1.5557845425984216\n",
      "accuracy: 0.8126984126984127\n",
      "******************\n",
      "epoch: 67\n",
      "Train\n",
      "0.043746995317991574\n",
      "TEST\n",
      "loss: 1.456987398011344\n",
      "accuracy: 0.7746031746031746\n",
      "******************\n",
      "epoch: 68\n",
      "Train\n",
      "0.02046376163460983\n",
      "TEST\n",
      "loss: 1.222521320032695\n",
      "accuracy: 0.7619047619047619\n",
      "******************\n",
      "epoch: 69\n",
      "Train\n",
      "0.00766171953972648\n",
      "TEST\n",
      "loss: 1.3625369119265722\n",
      "accuracy: 0.7746031746031746\n",
      "******************\n",
      "Accuracy on the validation:  0.8253968253968254\n"
     ]
    }
   ],
   "source": [
    "seed_everything(42)\n",
    "\n",
    "train_dataset = HeartbeatSounds(mode='train', data = data, labels = labels, augment = True, aug_type = 'FreqMasking', keys = train_keys)\n",
    "valid_dataset = HeartbeatSounds(mode='valid', data = data, labels = labels, keys = valid_keys)\n",
    "test_dataset = HeartbeatSounds(mode='test', data = data, labels = labels, keys = test_keys)\n",
    "\n",
    "train_dataloader = DataLoader(train_dataset, batch_size=batch_size, shuffle=True)\n",
    "valid_dataloader = DataLoader(valid_dataset, batch_size=batch_size, shuffle=False)\n",
    "test_dataloader = DataLoader(test_dataset, batch_size=batch_size, shuffle=False)\n",
    "\n",
    "model = resnet18(pretrained=True)\n",
    "num_ftrs = model.fc.in_features\n",
    "model.fc = torch.nn.Linear(num_ftrs, 3)\n",
    "model = model.to(device)\n",
    "\n",
    "epochs = 70\n",
    "criterion = torch.nn.CrossEntropyLoss()\n",
    "optimizer = torch.optim.Adam(model.parameters())\n",
    "\n",
    "model, train_losses, valid_losses, valid_acc = train(model, criterion, train_dataloader, valid_dataloader, epochs, optimizer)"
   ]
  },
  {
   "cell_type": "code",
   "execution_count": 21,
   "metadata": {
    "execution": {
     "iopub.execute_input": "2021-04-05T15:11:37.374068Z",
     "iopub.status.busy": "2021-04-05T15:11:37.373094Z",
     "iopub.status.idle": "2021-04-05T15:11:37.557138Z",
     "shell.execute_reply": "2021-04-05T15:11:37.556553Z"
    },
    "papermill": {
     "duration": 0.26143,
     "end_time": "2021-04-05T15:11:37.557329",
     "exception": false,
     "start_time": "2021-04-05T15:11:37.295899",
     "status": "completed"
    },
    "tags": []
   },
   "outputs": [
    {
     "name": "stdout",
     "output_type": "stream",
     "text": [
      "Quality of the model\n",
      "accuracy: 0.8197969543147208\n"
     ]
    }
   ],
   "source": [
    "evaluate(model, test_dataloader)"
   ]
  },
  {
   "cell_type": "code",
   "execution_count": 22,
   "metadata": {
    "execution": {
     "iopub.execute_input": "2021-04-05T15:11:37.648690Z",
     "iopub.status.busy": "2021-04-05T15:11:37.634495Z",
     "iopub.status.idle": "2021-04-05T15:11:37.794926Z",
     "shell.execute_reply": "2021-04-05T15:11:37.795380Z"
    },
    "papermill": {
     "duration": 0.200849,
     "end_time": "2021-04-05T15:11:37.795541",
     "exception": false,
     "start_time": "2021-04-05T15:11:37.594692",
     "status": "completed"
    },
    "tags": []
   },
   "outputs": [
    {
     "data": {
      "image/png": "[encoded data removed]",
      "text/plain": [
       "<Figure size 432x288 with 1 Axes>"
      ]
     },
     "metadata": {
      "needs_background": "light"
     },
     "output_type": "display_data"
    }
   ],
   "source": [
    "plt.plot(np.arange(epochs), train_losses, label = 'train_loss')\n",
    "plt.plot(np.arange(epochs), valid_losses, label = 'valid_loss')\n",
    "plt.plot(np.arange(epochs), valid_acc, label = 'valid_accuracy')\n",
    "plt.legend()\n",
    "plt.show()"
   ]
  }
 ],
 "metadata": {
  "kernelspec": {
   "display_name": "Python 3",
   "language": "python",
   "name": "python3"
  },
  "language_info": {
   "codemirror_mode": {
    "name": "ipython",
    "version": 3
   },
   "file_extension": ".py",
   "mimetype": "text/x-python",
   "name": "python",
   "nbconvert_exporter": "python",
   "pygments_lexer": "ipython3",
   "version": "3.7.9"
  },
  "papermill": {
   "default_parameters": {},
   "duration": 542.125388,
   "end_time": "2021-04-05T15:11:40.215724",
   "environment_variables": {},
   "exception": null,
   "input_path": "__notebook__.ipynb",
   "output_path": "__notebook__.ipynb",
   "parameters": {},
   "start_time": "2021-04-05T15:02:38.090336",
   "version": "2.2.2"
  },
  "widgets": {
   "application/vnd.jupyter.widget-state+json": {
    "state": {
     "1dd64392c917458d860e804cc153cec7": {
      "model_module": "@jupyter-widgets/controls",
      "model_module_version": "1.5.0",
      "model_name": "HTMLModel",
      "state": {
       "_dom_classes": [],
       "_model_module": "@jupyter-widgets/controls",
       "_model_module_version": "1.5.0",
       "_model_name": "HTMLModel",
       "_view_count": null,
       "_view_module": "@jupyter-widgets/controls",
       "_view_module_version": "1.5.0",
       "_view_name": "HTMLView",
       "description": "",
       "description_tooltip": null,
       "layout": "IPY_MODEL_9e4b7d811c9b4a1493a8ad489478d6c8",
       "placeholder": "​",
       "style": "IPY_MODEL_bac3256d80ff407480a5786011b11a47",
       "value": " 44.7M/44.7M [00:02&lt;00:00, 17.9MB/s]"
      }
     },
     "2400f2df664f4b15884fcd85d4b13bc8": {
      "model_module": "@jupyter-widgets/controls",
      "model_module_version": "1.5.0",
      "model_name": "ProgressStyleModel",
      "state": {
       "_model_module": "@jupyter-widgets/controls",
       "_model_module_version": "1.5.0",
       "_model_name": "ProgressStyleModel",
       "_view_count": null,
       "_view_module": "@jupyter-widgets/base",
       "_view_module_version": "1.2.0",
       "_view_name": "StyleView",
       "bar_color": null,
       "description_width": ""
      }
     },
     "31d02cfe543e4455b213e5ad4dfc83f8": {
      "model_module": "@jupyter-widgets/base",
      "model_module_version": "1.2.0",
      "model_name": "LayoutModel",
      "state": {
       "_model_module": "@jupyter-widgets/base",
       "_model_module_version": "1.2.0",
       "_model_name": "LayoutModel",
       "_view_count": null,
       "_view_module": "@jupyter-widgets/base",
       "_view_module_version": "1.2.0",
       "_view_name": "LayoutView",
       "align_content": null,
       "align_items": null,
       "align_self": null,
       "border": null,
       "bottom": null,
       "display": null,
       "flex": null,
       "flex_flow": null,
       "grid_area": null,
       "grid_auto_columns": null,
       "grid_auto_flow": null,
       "grid_auto_rows": null,
       "grid_column": null,
       "grid_gap": null,
       "grid_row": null,
       "grid_template_areas": null,
       "grid_template_columns": null,
       "grid_template_rows": null,
       "height": null,
       "justify_content": null,
       "justify_items": null,
       "left": null,
       "margin": null,
       "max_height": null,
       "max_width": null,
       "min_height": null,
       "min_width": null,
       "object_fit": null,
       "object_position": null,
       "order": null,
       "overflow": null,
       "overflow_x": null,
       "overflow_y": null,
       "padding": null,
       "right": null,
       "top": null,
       "visibility": null,
       "width": null
      }
     },
     "4c75c6129ae74f418c82032d9d9f3313": {
      "model_module": "@jupyter-widgets/controls",
      "model_module_version": "1.5.0",
      "model_name": "HTMLModel",
      "state": {
       "_dom_classes": [],
       "_model_module": "@jupyter-widgets/controls",
       "_model_module_version": "1.5.0",
       "_model_name": "HTMLModel",
       "_view_count": null,
       "_view_module": "@jupyter-widgets/controls",
       "_view_module_version": "1.5.0",
       "_view_name": "HTMLView",
       "description": "",
       "description_tooltip": null,
       "layout": "IPY_MODEL_c3e4fa9e884f4303814cc6d129dd7545",
       "placeholder": "​",
       "style": "IPY_MODEL_7adedb4e27a341eb93f26aa8eb3a7016",
       "value": "100%"
      }
     },
     "7130bdab45e54109ae9e418865dfaa62": {
      "model_module": "@jupyter-widgets/controls",
      "model_module_version": "1.5.0",
      "model_name": "HBoxModel",
      "state": {
       "_dom_classes": [],
       "_model_module": "@jupyter-widgets/controls",
       "_model_module_version": "1.5.0",
       "_model_name": "HBoxModel",
       "_view_count": null,
       "_view_module": "@jupyter-widgets/controls",
       "_view_module_version": "1.5.0",
       "_view_name": "HBoxView",
       "box_style": "",
       "children": [
        "IPY_MODEL_4c75c6129ae74f418c82032d9d9f3313",
        "IPY_MODEL_e58381c399ae48db8999ca092b74e658",
        "IPY_MODEL_1dd64392c917458d860e804cc153cec7"
       ],
       "layout": "IPY_MODEL_31d02cfe543e4455b213e5ad4dfc83f8"
      }
     },
     "7adedb4e27a341eb93f26aa8eb3a7016": {
      "model_module": "@jupyter-widgets/controls",
      "model_module_version": "1.5.0",
      "model_name": "DescriptionStyleModel",
      "state": {
       "_model_module": "@jupyter-widgets/controls",
       "_model_module_version": "1.5.0",
       "_model_name": "DescriptionStyleModel",
       "_view_count": null,
       "_view_module": "@jupyter-widgets/base",
       "_view_module_version": "1.2.0",
       "_view_name": "StyleView",
       "description_width": ""
      }
     },
     "9e4b7d811c9b4a1493a8ad489478d6c8": {
      "model_module": "@jupyter-widgets/base",
      "model_module_version": "1.2.0",
      "model_name": "LayoutModel",
      "state": {
       "_model_module": "@jupyter-widgets/base",
       "_model_module_version": "1.2.0",
       "_model_name": "LayoutModel",
       "_view_count": null,
       "_view_module": "@jupyter-widgets/base",
       "_view_module_version": "1.2.0",
       "_view_name": "LayoutView",
       "align_content": null,
       "align_items": null,
       "align_self": null,
       "border": null,
       "bottom": null,
       "display": null,
       "flex": null,
       "flex_flow": null,
       "grid_area": null,
       "grid_auto_columns": null,
       "grid_auto_flow": null,
       "grid_auto_rows": null,
       "grid_column": null,
       "grid_gap": null,
       "grid_row": null,
       "grid_template_areas": null,
       "grid_template_columns": null,
       "grid_template_rows": null,
       "height": null,
       "justify_content": null,
       "justify_items": null,
       "left": null,
       "margin": null,
       "max_height": null,
       "max_width": null,
       "min_height": null,
       "min_width": null,
       "object_fit": null,
       "object_position": null,
       "order": null,
       "overflow": null,
       "overflow_x": null,
       "overflow_y": null,
       "padding": null,
       "right": null,
       "top": null,
       "visibility": null,
       "width": null
      }
     },
     "bac3256d80ff407480a5786011b11a47": {
      "model_module": "@jupyter-widgets/controls",
      "model_module_version": "1.5.0",
      "model_name": "DescriptionStyleModel",
      "state": {
       "_model_module": "@jupyter-widgets/controls",
       "_model_module_version": "1.5.0",
       "_model_name": "DescriptionStyleModel",
       "_view_count": null,
       "_view_module": "@jupyter-widgets/base",
       "_view_module_version": "1.2.0",
       "_view_name": "StyleView",
       "description_width": ""
      }
     },
     "c3e4fa9e884f4303814cc6d129dd7545": {
      "model_module": "@jupyter-widgets/base",
      "model_module_version": "1.2.0",
      "model_name": "LayoutModel",
      "state": {
       "_model_module": "@jupyter-widgets/base",
       "_model_module_version": "1.2.0",
       "_model_name": "LayoutModel",
       "_view_count": null,
       "_view_module": "@jupyter-widgets/base",
       "_view_module_version": "1.2.0",
       "_view_name": "LayoutView",
       "align_content": null,
       "align_items": null,
       "align_self": null,
       "border": null,
       "bottom": null,
       "display": null,
       "flex": null,
       "flex_flow": null,
       "grid_area": null,
       "grid_auto_columns": null,
       "grid_auto_flow": null,
       "grid_auto_rows": null,
       "grid_column": null,
       "grid_gap": null,
       "grid_row": null,
       "grid_template_areas": null,
       "grid_template_columns": null,
       "grid_template_rows": null,
       "height": null,
       "justify_content": null,
       "justify_items": null,
       "left": null,
       "margin": null,
       "max_height": null,
       "max_width": null,
       "min_height": null,
       "min_width": null,
       "object_fit": null,
       "object_position": null,
       "order": null,
       "overflow": null,
       "overflow_x": null,
       "overflow_y": null,
       "padding": null,
       "right": null,
       "top": null,
       "visibility": null,
       "width": null
      }
     },
     "e58381c399ae48db8999ca092b74e658": {
      "model_module": "@jupyter-widgets/controls",
      "model_module_version": "1.5.0",
      "model_name": "FloatProgressModel",
      "state": {
       "_dom_classes": [],
       "_model_module": "@jupyter-widgets/controls",
       "_model_module_version": "1.5.0",
       "_model_name": "FloatProgressModel",
       "_view_count": null,
       "_view_module": "@jupyter-widgets/controls",
       "_view_module_version": "1.5.0",
       "_view_name": "ProgressView",
       "bar_style": "success",
       "description": "",
       "description_tooltip": null,
       "layout": "IPY_MODEL_ea73f03039ed4ddea8556a0c4168d997",
       "max": 46827520.0,
       "min": 0.0,
       "orientation": "horizontal",
       "style": "IPY_MODEL_2400f2df664f4b15884fcd85d4b13bc8",
       "value": 46827520.0
      }
     },
     "ea73f03039ed4ddea8556a0c4168d997": {
      "model_module": "@jupyter-widgets/base",
      "model_module_version": "1.2.0",
      "model_name": "LayoutModel",
      "state": {
       "_model_module": "@jupyter-widgets/base",
       "_model_module_version": "1.2.0",
       "_model_name": "LayoutModel",
       "_view_count": null,
       "_view_module": "@jupyter-widgets/base",
       "_view_module_version": "1.2.0",
       "_view_name": "LayoutView",
       "align_content": null,
       "align_items": null,
       "align_self": null,
       "border": null,
       "bottom": null,
       "display": null,
       "flex": null,
       "flex_flow": null,
       "grid_area": null,
       "grid_auto_columns": null,
       "grid_auto_flow": null,
       "grid_auto_rows": null,
       "grid_column": null,
       "grid_gap": null,
       "grid_row": null,
       "grid_template_areas": null,
       "grid_template_columns": null,
       "grid_template_rows": null,
       "height": null,
       "justify_content": null,
       "justify_items": null,
       "left": null,
       "margin": null,
       "max_height": null,
       "max_width": null,
       "min_height": null,
       "min_width": null,
       "object_fit": null,
       "object_position": null,
       "order": null,
       "overflow": null,
       "overflow_x": null,
       "overflow_y": null,
       "padding": null,
       "right": null,
       "top": null,
       "visibility": null,
       "width": null
      }
     }
    },
    "version_major": 2,
    "version_minor": 0
   }
  }
 },
 "nbformat": 4,
 "nbformat_minor": 4
}
