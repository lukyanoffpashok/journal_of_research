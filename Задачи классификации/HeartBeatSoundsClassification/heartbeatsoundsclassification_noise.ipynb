{
 "cells": [
  {
   "cell_type": "code",
   "execution_count": 1,
   "metadata": {
    "_cell_guid": "b1076dfc-b9ad-4769-8c92-a6c4dae69d19",
    "_uuid": "8f2839f25d086af736a60e9eeb907d3b93b6e0e5",
    "execution": {
     "iopub.execute_input": "2021-04-05T15:13:35.182214Z",
     "iopub.status.busy": "2021-04-05T15:13:35.181505Z",
     "iopub.status.idle": "2021-04-05T15:13:39.260552Z",
     "shell.execute_reply": "2021-04-05T15:13:39.260949Z"
    },
    "papermill": {
     "duration": 4.098662,
     "end_time": "2021-04-05T15:13:39.261265",
     "exception": false,
     "start_time": "2021-04-05T15:13:35.162603",
     "status": "completed"
    },
    "tags": []
   },
   "outputs": [
    {
     "name": "stderr",
     "output_type": "stream",
     "text": [
      "/opt/conda/lib/python3.7/site-packages/torchaudio/backend/utils.py:54: UserWarning: \"sox\" backend is being deprecated. The default backend will be changed to \"sox_io\" backend in 0.8.0 and \"sox\" backend will be removed in 0.9.0. Please migrate to \"sox_io\" backend. Please refer to https://github.com/pytorch/audio/issues/903 for the detail.\n",
      "  '\"sox\" backend is being deprecated. '\n"
     ]
    }
   ],
   "source": [
    "import numpy as np\n",
    "import matplotlib.pyplot as plt\n",
    "from sklearn.model_selection import train_test_split\n",
    "import librosa\n",
    "import librosa.display\n",
    "import os\n",
    "import copy\n",
    "import torch\n",
    "from torch.utils.data import Dataset, DataLoader\n",
    "import random\n",
    "import skimage.io as io\n",
    "import pandas as pd\n",
    "import torchaudio.transforms as T\n",
    "from torchvision.models import resnet18\n",
    "from tqdm import tqdm"
   ]
  },
  {
   "cell_type": "code",
   "execution_count": 2,
   "metadata": {
    "execution": {
     "iopub.execute_input": "2021-04-05T15:13:39.292204Z",
     "iopub.status.busy": "2021-04-05T15:13:39.291511Z",
     "iopub.status.idle": "2021-04-05T15:13:39.294335Z",
     "shell.execute_reply": "2021-04-05T15:13:39.293828Z"
    },
    "papermill": {
     "duration": 0.019892,
     "end_time": "2021-04-05T15:13:39.294443",
     "exception": false,
     "start_time": "2021-04-05T15:13:39.274551",
     "status": "completed"
    },
    "tags": []
   },
   "outputs": [],
   "source": [
    "def seed_everything(seed=42):\n",
    "    print(f'setting everything to seed {seed}')\n",
    "    random.seed(seed)\n",
    "    os.environ['PYTHONHASHSEED'] = str(seed)\n",
    "    np.random.seed(seed)\n",
    "    torch.manual_seed(seed)\n",
    "    torch.cuda.manual_seed(seed)\n",
    "    torch.backends.cudnn.deterministic = True\n",
    "    torch.cuda.empty_cache()"
   ]
  },
  {
   "cell_type": "code",
   "execution_count": 3,
   "metadata": {
    "execution": {
     "iopub.execute_input": "2021-04-05T15:13:39.323922Z",
     "iopub.status.busy": "2021-04-05T15:13:39.323273Z",
     "iopub.status.idle": "2021-04-05T15:13:39.326195Z",
     "shell.execute_reply": "2021-04-05T15:13:39.325803Z"
    },
    "papermill": {
     "duration": 0.019702,
     "end_time": "2021-04-05T15:13:39.326297",
     "exception": false,
     "start_time": "2021-04-05T15:13:39.306595",
     "status": "completed"
    },
    "tags": []
   },
   "outputs": [],
   "source": [
    "device = torch.device('cuda:0')"
   ]
  },
  {
   "cell_type": "code",
   "execution_count": 4,
   "metadata": {
    "execution": {
     "iopub.execute_input": "2021-04-05T15:13:39.354829Z",
     "iopub.status.busy": "2021-04-05T15:13:39.354175Z",
     "iopub.status.idle": "2021-04-05T15:13:39.357024Z",
     "shell.execute_reply": "2021-04-05T15:13:39.356464Z"
    },
    "papermill": {
     "duration": 0.018237,
     "end_time": "2021-04-05T15:13:39.357125",
     "exception": false,
     "start_time": "2021-04-05T15:13:39.338888",
     "status": "completed"
    },
    "tags": []
   },
   "outputs": [],
   "source": [
    "data_dir = '//kaggle/input/heartbeat-sounds/set_b'\n",
    "file_csv = '/kaggle/input/heartbeat-sounds/set_b.csv'"
   ]
  },
  {
   "cell_type": "code",
   "execution_count": 5,
   "metadata": {
    "execution": {
     "iopub.execute_input": "2021-04-05T15:13:39.388990Z",
     "iopub.status.busy": "2021-04-05T15:13:39.388326Z",
     "iopub.status.idle": "2021-04-05T15:13:39.391273Z",
     "shell.execute_reply": "2021-04-05T15:13:39.390773Z"
    },
    "papermill": {
     "duration": 0.021887,
     "end_time": "2021-04-05T15:13:39.391371",
     "exception": false,
     "start_time": "2021-04-05T15:13:39.369484",
     "status": "completed"
    },
    "tags": []
   },
   "outputs": [],
   "source": [
    "def mono_to_color(X, eps=1e-6, mean=None, std=None):\n",
    "    # Standardize\n",
    "    mean = mean or X.mean()\n",
    "    std = std or X.std()\n",
    "    X = (X - mean) / (std + eps)\n",
    "    # Normalize to [0, 255]\n",
    "    _min, _max = X.min(), X.max()\n",
    "    if (_max - _min) > eps:\n",
    "        V = np.clip(X, _min, _max)\n",
    "        V = 255 * (V - _min) / (_max - _min)\n",
    "        V = V.astype(np.uint8)\n",
    "    else:\n",
    "        V = np.zeros_like(X, dtype=np.uint8)\n",
    "    return V\n",
    "\n",
    "def normalize(image, mean=None, std=None):\n",
    "    image = image / 255.0\n",
    "    if mean is not None and std is not None:\n",
    "        image = (image - mean) / std\n",
    "    return image.astype(np.float32)"
   ]
  },
  {
   "cell_type": "code",
   "execution_count": 6,
   "metadata": {
    "execution": {
     "iopub.execute_input": "2021-04-05T15:13:39.420731Z",
     "iopub.status.busy": "2021-04-05T15:13:39.420111Z",
     "iopub.status.idle": "2021-04-05T15:13:39.422919Z",
     "shell.execute_reply": "2021-04-05T15:13:39.422444Z"
    },
    "papermill": {
     "duration": 0.0191,
     "end_time": "2021-04-05T15:13:39.423017",
     "exception": false,
     "start_time": "2021-04-05T15:13:39.403917",
     "status": "completed"
    },
    "tags": []
   },
   "outputs": [],
   "source": [
    "NUM_SAMPLES = 65500\n",
    "sr = 48000\n",
    "fmin = 84\n",
    "fmax = sr // 2\n",
    "nmels = 128\n",
    "batch_size = 32\n",
    "random_seed = 42\n",
    "train_size = 0.8"
   ]
  },
  {
   "cell_type": "code",
   "execution_count": 7,
   "metadata": {
    "execution": {
     "iopub.execute_input": "2021-04-05T15:13:39.451975Z",
     "iopub.status.busy": "2021-04-05T15:13:39.451433Z",
     "iopub.status.idle": "2021-04-05T15:13:39.606452Z",
     "shell.execute_reply": "2021-04-05T15:13:39.607650Z"
    },
    "papermill": {
     "duration": 0.172146,
     "end_time": "2021-04-05T15:13:39.607876",
     "exception": false,
     "start_time": "2021-04-05T15:13:39.435730",
     "status": "completed"
    },
    "tags": []
   },
   "outputs": [],
   "source": [
    "recordings_old = sorted(os.listdir(data_dir))"
   ]
  },
  {
   "cell_type": "code",
   "execution_count": 8,
   "metadata": {
    "execution": {
     "iopub.execute_input": "2021-04-05T15:13:39.665888Z",
     "iopub.status.busy": "2021-04-05T15:13:39.664362Z",
     "iopub.status.idle": "2021-04-05T15:16:46.557396Z",
     "shell.execute_reply": "2021-04-05T15:16:46.558310Z"
    },
    "papermill": {
     "duration": 186.92259,
     "end_time": "2021-04-05T15:16:46.558644",
     "exception": false,
     "start_time": "2021-04-05T15:13:39.636054",
     "status": "completed"
    },
    "tags": []
   },
   "outputs": [],
   "source": [
    "recordings = []\n",
    "for x in recordings_old:\n",
    "    y, _ = librosa.load(data_dir + '/' + x, sr = sr)\n",
    "    if y.shape[0] >= NUM_SAMPLES:\n",
    "        recordings.append(x)"
   ]
  },
  {
   "cell_type": "code",
   "execution_count": 9,
   "metadata": {
    "execution": {
     "iopub.execute_input": "2021-04-05T15:16:46.631403Z",
     "iopub.status.busy": "2021-04-05T15:16:46.630561Z",
     "iopub.status.idle": "2021-04-05T15:16:46.638126Z",
     "shell.execute_reply": "2021-04-05T15:16:46.638813Z"
    },
    "papermill": {
     "duration": 0.054483,
     "end_time": "2021-04-05T15:16:46.639023",
     "exception": false,
     "start_time": "2021-04-05T15:16:46.584540",
     "status": "completed"
    },
    "tags": []
   },
   "outputs": [
    {
     "data": {
      "text/plain": [
       "638"
      ]
     },
     "execution_count": 9,
     "metadata": {},
     "output_type": "execute_result"
    }
   ],
   "source": [
    "len(recordings)"
   ]
  },
  {
   "cell_type": "code",
   "execution_count": 10,
   "metadata": {
    "execution": {
     "iopub.execute_input": "2021-04-05T15:16:46.706223Z",
     "iopub.status.busy": "2021-04-05T15:16:46.703675Z",
     "iopub.status.idle": "2021-04-05T15:16:47.191796Z",
     "shell.execute_reply": "2021-04-05T15:16:47.192354Z"
    },
    "papermill": {
     "duration": 0.532498,
     "end_time": "2021-04-05T15:16:47.192549",
     "exception": false,
     "start_time": "2021-04-05T15:16:46.660051",
     "status": "completed"
    },
    "tags": []
   },
   "outputs": [
    {
     "data": {
      "image/png": "[encoded data removed]",
      "text/plain": [
       "<Figure size 1440x432 with 1 Axes>"
      ]
     },
     "metadata": {
      "needs_background": "light"
     },
     "output_type": "display_data"
    }
   ],
   "source": [
    "y, _ = librosa.load(data_dir + '/' + recordings[200], sr = sr)\n",
    "begin = (len(y) - NUM_SAMPLES) // 2\n",
    "samples = y[begin:begin + NUM_SAMPLES]\n",
    "melspec = librosa.feature.melspectrogram(samples, sr=sr, n_mels = nmels)#, fmin=fmin, fmax=fmax)\n",
    "melspec = librosa.power_to_db(melspec)\n",
    "melspec = mono_to_color(melspec)\n",
    "melspec = normalize(melspec, mean=None, std=None)\n",
    "plt.figure(figsize = (20, 6))\n",
    "plt.imshow(melspec)\n",
    "plt.show()"
   ]
  },
  {
   "cell_type": "code",
   "execution_count": 11,
   "metadata": {
    "execution": {
     "iopub.execute_input": "2021-04-05T15:16:47.247779Z",
     "iopub.status.busy": "2021-04-05T15:16:47.246966Z",
     "iopub.status.idle": "2021-04-05T15:16:47.250021Z",
     "shell.execute_reply": "2021-04-05T15:16:47.248454Z"
    },
    "papermill": {
     "duration": 0.032488,
     "end_time": "2021-04-05T15:16:47.250158",
     "exception": false,
     "start_time": "2021-04-05T15:16:47.217670",
     "status": "completed"
    },
    "tags": []
   },
   "outputs": [
    {
     "data": {
      "text/plain": [
       "(128, 128)"
      ]
     },
     "execution_count": 11,
     "metadata": {},
     "output_type": "execute_result"
    }
   ],
   "source": [
    "image_size = melspec.shape\n",
    "image_size"
   ]
  },
  {
   "cell_type": "code",
   "execution_count": 12,
   "metadata": {
    "execution": {
     "iopub.execute_input": "2021-04-05T15:16:47.303635Z",
     "iopub.status.busy": "2021-04-05T15:16:47.303001Z",
     "iopub.status.idle": "2021-04-05T15:16:47.326200Z",
     "shell.execute_reply": "2021-04-05T15:16:47.325772Z"
    },
    "papermill": {
     "duration": 0.047661,
     "end_time": "2021-04-05T15:16:47.326303",
     "exception": false,
     "start_time": "2021-04-05T15:16:47.278642",
     "status": "completed"
    },
    "tags": []
   },
   "outputs": [],
   "source": [
    "melspec = torch.tensor(melspec)\n",
    "melspec = torch.stack([melspec, melspec, melspec])"
   ]
  },
  {
   "cell_type": "code",
   "execution_count": 13,
   "metadata": {
    "execution": {
     "iopub.execute_input": "2021-04-05T15:16:47.388574Z",
     "iopub.status.busy": "2021-04-05T15:16:47.379194Z",
     "iopub.status.idle": "2021-04-05T15:16:47.391724Z",
     "shell.execute_reply": "2021-04-05T15:16:47.392232Z"
    },
    "papermill": {
     "duration": 0.050575,
     "end_time": "2021-04-05T15:16:47.392386",
     "exception": false,
     "start_time": "2021-04-05T15:16:47.341811",
     "status": "completed"
    },
    "tags": []
   },
   "outputs": [],
   "source": [
    "def noise_augmentation(im, var = 0.01):\n",
    "    noise = var * torch.randn(im.shape[1], im.shape[2])\n",
    "    im[0, :, :] += noise\n",
    "    im[1, :, :] += noise\n",
    "    im[2, :, :] += noise\n",
    "    return im\n",
    "\n",
    "def shift_augmentation(image, max_shift = 10):\n",
    "    shift = np.random.randint(max_shift)\n",
    "    p = np.random.rand()\n",
    "    if p < 0.5:\n",
    "        image[:, :, shift:] = image[:, :, :image.shape[2] - shift]\n",
    "        image[:, :, :shift] = 0.0\n",
    "    else:\n",
    "        image[:, :, :image.shape[2] - shift] = image[:, :, shift:]\n",
    "        image[:, :, image.shape[2] - shift:] = 0.0\n",
    "    return image\n",
    "    \n",
    "def random_erasing(image, max_a = 7, max_b = 7):\n",
    "    a = np.random.randint(max_a)\n",
    "    b = np.random.randint(max_b)\n",
    "    a0 = np.random.randint(image.shape[1] - max_a)\n",
    "    b0 = np.random.randint(image.shape[2] - max_a)\n",
    "    image[:, a0 : a0 + a, b0 : b0 + b] = 0\n",
    "    return image\n",
    "    \n",
    "    \n",
    "def augmentation(im, mode = 'No'):\n",
    "    image = im.clone()\n",
    "    if mode == 'TimeMasking':\n",
    "        return T.TimeMasking(25)(image)\n",
    "    if mode == 'FreqMasking':\n",
    "        return T.FrequencyMasking(12)(image)\n",
    "    if mode == 'RandomErasing':\n",
    "        return random_erasing(image, 10, 10)\n",
    "    if mode == 'Shift':\n",
    "        return shift_augmentation(image)\n",
    "    if mode == 'Noise':\n",
    "        return noise_augmentation(image)\n",
    "    \n",
    "    return image"
   ]
  },
  {
   "cell_type": "code",
   "execution_count": 14,
   "metadata": {
    "execution": {
     "iopub.execute_input": "2021-04-05T15:16:47.450410Z",
     "iopub.status.busy": "2021-04-05T15:16:47.449760Z",
     "iopub.status.idle": "2021-04-05T15:16:47.452831Z",
     "shell.execute_reply": "2021-04-05T15:16:47.453332Z"
    },
    "papermill": {
     "duration": 0.034995,
     "end_time": "2021-04-05T15:16:47.453482",
     "exception": false,
     "start_time": "2021-04-05T15:16:47.418487",
     "status": "completed"
    },
    "tags": []
   },
   "outputs": [],
   "source": [
    "def get_spectrograms(filename):\n",
    "    y, _ = librosa.load(filename, sr = sr)\n",
    "    count = len(y) // NUM_SAMPLES\n",
    "    mel_spectrograms = []\n",
    "    for i in range(count):\n",
    "        samples = y[i * NUM_SAMPLES:(i + 1) * NUM_SAMPLES]\n",
    "        melspec = librosa.feature.melspectrogram(samples, sr=sr, n_mels=nmels, fmin=fmin, fmax=fmax)\n",
    "        melspec = librosa.power_to_db(melspec)\n",
    "        melspec = mono_to_color(melspec)\n",
    "        melspec = normalize(melspec, mean=None, std=None)\n",
    "        mel_spectrograms.append(torch.tensor(melspec, dtype=torch.float32))\n",
    "\n",
    "    return mel_spectrograms, count"
   ]
  },
  {
   "cell_type": "code",
   "execution_count": 15,
   "metadata": {
    "execution": {
     "iopub.execute_input": "2021-04-05T15:16:47.523451Z",
     "iopub.status.busy": "2021-04-05T15:16:47.522793Z",
     "iopub.status.idle": "2021-04-05T15:16:47.528811Z",
     "shell.execute_reply": "2021-04-05T15:16:47.529786Z"
    },
    "papermill": {
     "duration": 0.04946,
     "end_time": "2021-04-05T15:16:47.529943",
     "exception": false,
     "start_time": "2021-04-05T15:16:47.480483",
     "status": "completed"
    },
    "tags": []
   },
   "outputs": [],
   "source": [
    "class HeartbeatSounds(Dataset):\n",
    "    def __init__(self, keys, mode = 'train', data = [], labels = [], augment = False, aug_type = 'No'):\n",
    "        super().__init__()\n",
    "        self.n = len(keys)\n",
    "        self.data = []\n",
    "        self.labels = []\n",
    "        self.augment = augment\n",
    "        self.aug_type = aug_type\n",
    "        for i in keys:\n",
    "            self.data.append(data[i])\n",
    "            self.labels.append(labels[i])\n",
    "\n",
    "    def __getitem__(self, i):\n",
    "        X = self.data[i]\n",
    "        X = torch.stack([X, X, X])\n",
    "        if self.augment:\n",
    "            X = augmentation(X, self.aug_type)\n",
    "        return X, self.labels[i]\n",
    "\n",
    "    def __len__(self):\n",
    "        return self.n"
   ]
  },
  {
   "cell_type": "code",
   "execution_count": 16,
   "metadata": {
    "execution": {
     "iopub.execute_input": "2021-04-05T15:16:47.593980Z",
     "iopub.status.busy": "2021-04-05T15:16:47.589620Z",
     "iopub.status.idle": "2021-04-05T15:19:49.403096Z",
     "shell.execute_reply": "2021-04-05T15:19:49.402167Z"
    },
    "papermill": {
     "duration": 181.848571,
     "end_time": "2021-04-05T15:19:49.403256",
     "exception": false,
     "start_time": "2021-04-05T15:16:47.554685",
     "status": "completed"
    },
    "tags": []
   },
   "outputs": [],
   "source": [
    "data = []\n",
    "labels = []\n",
    "for i in range(len(recordings)):\n",
    "    if 'normal' in recordings[i]:\n",
    "        label = 0\n",
    "        mel_spectrograms, count = get_spectrograms(data_dir + '/' + recordings[i])\n",
    "        for j in range(count):\n",
    "            data.append(mel_spectrograms[j])\n",
    "            labels.append(label)\n",
    "    elif 'extrastole' in recordings[i]:\n",
    "        label = 1\n",
    "        mel_spectrograms, count = get_spectrograms(data_dir + '/' + recordings[i])\n",
    "        for j in range(count):\n",
    "            data.append(mel_spectrograms[j])\n",
    "            labels.append(label)\n",
    "    elif 'murmur' in recordings[i]:\n",
    "        label = 2\n",
    "        mel_spectrograms, count = get_spectrograms(data_dir + '/' + recordings[i])\n",
    "        for j in range(count):\n",
    "            data.append(mel_spectrograms[j])\n",
    "            labels.append(label)"
   ]
  },
  {
   "cell_type": "code",
   "execution_count": 17,
   "metadata": {
    "execution": {
     "iopub.execute_input": "2021-04-05T15:19:49.444250Z",
     "iopub.status.busy": "2021-04-05T15:19:49.443464Z",
     "iopub.status.idle": "2021-04-05T15:19:49.446147Z",
     "shell.execute_reply": "2021-04-05T15:19:49.445725Z"
    },
    "papermill": {
     "duration": 0.025763,
     "end_time": "2021-04-05T15:19:49.446250",
     "exception": false,
     "start_time": "2021-04-05T15:19:49.420487",
     "status": "completed"
    },
    "tags": []
   },
   "outputs": [],
   "source": [
    "keys = np.arange(len(data))\n",
    "train_keys, test_keys = train_test_split(keys, train_size=train_size, random_state=random_seed)\n",
    "train_keys, valid_keys = train_test_split(train_keys, train_size=train_size, random_state=random_seed)"
   ]
  },
  {
   "cell_type": "code",
   "execution_count": 18,
   "metadata": {
    "execution": {
     "iopub.execute_input": "2021-04-05T15:19:49.490832Z",
     "iopub.status.busy": "2021-04-05T15:19:49.490113Z",
     "iopub.status.idle": "2021-04-05T15:19:49.492970Z",
     "shell.execute_reply": "2021-04-05T15:19:49.492461Z"
    },
    "papermill": {
     "duration": 0.030161,
     "end_time": "2021-04-05T15:19:49.493069",
     "exception": false,
     "start_time": "2021-04-05T15:19:49.462908",
     "status": "completed"
    },
    "tags": []
   },
   "outputs": [],
   "source": [
    "def train(model, loss_fn, train_loader, valid_loader, epochs, optimizer, augment = 'No'):\n",
    "    best_model_wts = copy.deepcopy(model.state_dict())\n",
    "    best_acc = 0.0\n",
    "    train_losses = []\n",
    "    valid_losses = []\n",
    "    valid_acc = []\n",
    "    best_train_acc = 0.0\n",
    "    for epoch in range(epochs):\n",
    "        print('epoch:', epoch)\n",
    "        model.train()\n",
    "        sum_loss = 0\n",
    "        sum_accuracy = 0\n",
    "        cnt_objects = 0\n",
    "        for X, y in train_dataloader:\n",
    "            optimizer.zero_grad()\n",
    "            X = X.to(device)\n",
    "            scores = model(X)\n",
    "            loss = criterion(scores, y.to(device))\n",
    "            loss.backward()\n",
    "            optimizer.step()\n",
    "            sum_loss += float(loss) * len(y)\n",
    "            cnt_objects += len(y)\n",
    "\n",
    "        mean_loss = sum_loss / cnt_objects\n",
    "        train_losses.append(mean_loss)\n",
    "        print('Train')\n",
    "        print(mean_loss)\n",
    "\n",
    "        model.eval()\n",
    "        sum_loss = 0\n",
    "        sum_accuracy = 0\n",
    "        cnt_objects = 0\n",
    "        with torch.no_grad():\n",
    "            for X, y in valid_loader:\n",
    "                X = X.to(device)\n",
    "                scores = model(X)\n",
    "                loss = criterion(scores, y.to(device))\n",
    "                sum_loss += float(loss) * len(y)\n",
    "                preds = scores.cpu().detach().argmax(dim=1)\n",
    "                accuracy = float((y == preds).float().sum())\n",
    "                sum_accuracy += accuracy\n",
    "                cnt_objects += len(y)\n",
    "\n",
    "        print('TEST')\n",
    "        mean_loss = sum_loss / cnt_objects\n",
    "        valid_losses.append(mean_loss)\n",
    "        mean_accuracy = sum_accuracy / cnt_objects\n",
    "        valid_acc.append(mean_accuracy)\n",
    "        if mean_accuracy > best_acc:\n",
    "            best_acc = mean_accuracy\n",
    "            best_model_wts = copy.deepcopy(model.state_dict())\n",
    "        print('loss:', mean_loss)\n",
    "        print('accuracy:', mean_accuracy)\n",
    "        print('******************')\n",
    "    print('Accuracy on the validation: ', best_acc)\n",
    "    model.load_state_dict(best_model_wts)\n",
    "    return model, train_losses, valid_losses, valid_acc"
   ]
  },
  {
   "cell_type": "code",
   "execution_count": 19,
   "metadata": {
    "execution": {
     "iopub.execute_input": "2021-04-05T15:19:49.531407Z",
     "iopub.status.busy": "2021-04-05T15:19:49.530805Z",
     "iopub.status.idle": "2021-04-05T15:19:49.533552Z",
     "shell.execute_reply": "2021-04-05T15:19:49.533115Z"
    },
    "papermill": {
     "duration": 0.024527,
     "end_time": "2021-04-05T15:19:49.533654",
     "exception": false,
     "start_time": "2021-04-05T15:19:49.509127",
     "status": "completed"
    },
    "tags": []
   },
   "outputs": [],
   "source": [
    "def evaluate(model, test_loader):\n",
    "    model.eval()\n",
    "    #all_preds = []\n",
    "    sum_accuracy = 0\n",
    "    cnt_objects = 0\n",
    "    with torch.no_grad():\n",
    "        for X, y in test_loader:\n",
    "            X = X.to(device)\n",
    "            scores = model(X)\n",
    "            preds = scores.cpu().detach().argmax(dim=1)\n",
    "            accuracy = float((y == preds).float().sum())\n",
    "            sum_accuracy += accuracy\n",
    "            cnt_objects += len(y)\n",
    "            #all_preds.append(preds)\n",
    "\n",
    "    mean_accuracy = sum_accuracy / cnt_objects\n",
    "    print('Quality of the model')\n",
    "    print('accuracy:', mean_accuracy)"
   ]
  },
  {
   "cell_type": "markdown",
   "metadata": {
    "papermill": {
     "duration": 0.01625,
     "end_time": "2021-04-05T15:19:49.566327",
     "exception": false,
     "start_time": "2021-04-05T15:19:49.550077",
     "status": "completed"
    },
    "tags": []
   },
   "source": [
    "## Resnet18"
   ]
  },
  {
   "cell_type": "markdown",
   "metadata": {
    "papermill": {
     "duration": 0.016526,
     "end_time": "2021-04-05T15:19:49.599432",
     "exception": false,
     "start_time": "2021-04-05T15:19:49.582906",
     "status": "completed"
    },
    "tags": []
   },
   "source": [
    "### Noise"
   ]
  },
  {
   "cell_type": "code",
   "execution_count": 20,
   "metadata": {
    "execution": {
     "iopub.execute_input": "2021-04-05T15:19:49.639978Z",
     "iopub.status.busy": "2021-04-05T15:19:49.639448Z",
     "iopub.status.idle": "2021-04-05T15:22:38.913718Z",
     "shell.execute_reply": "2021-04-05T15:22:38.912902Z"
    },
    "papermill": {
     "duration": 169.297866,
     "end_time": "2021-04-05T15:22:38.913907",
     "exception": false,
     "start_time": "2021-04-05T15:19:49.616041",
     "status": "completed"
    },
    "tags": []
   },
   "outputs": [
    {
     "name": "stdout",
     "output_type": "stream",
     "text": [
      "setting everything to seed 42\n"
     ]
    },
    {
     "name": "stderr",
     "output_type": "stream",
     "text": [
      "Downloading: \"https://download.pytorch.org/models/resnet18-5c106cde.pth\" to /root/.cache/torch/hub/checkpoints/resnet18-5c106cde.pth\n"
     ]
    },
    {
     "data": {
      "application/vnd.jupyter.widget-view+json": {
       "model_id": "f1cf378fbbd14e9d83c5805ca114bf03",
       "version_major": 2,
       "version_minor": 0
      },
      "text/plain": [
       "  0%|          | 0.00/44.7M [00:00<?, ?B/s]"
      ]
     },
     "metadata": {},
     "output_type": "display_data"
    },
    {
     "name": "stdout",
     "output_type": "stream",
     "text": [
      "epoch: 0\n",
      "Train\n",
      "0.7814077738971347\n",
      "TEST\n",
      "loss: 0.6125756742462279\n",
      "accuracy: 0.7777777777777778\n",
      "******************\n",
      "epoch: 1\n",
      "Train\n",
      "0.5944024593797915\n",
      "TEST\n",
      "loss: 0.7184035466776953\n",
      "accuracy: 0.7015873015873015\n",
      "******************\n",
      "epoch: 2\n",
      "Train\n",
      "0.5275566138569754\n",
      "TEST\n",
      "loss: 0.49957784262914506\n",
      "accuracy: 0.8222222222222222\n",
      "******************\n",
      "epoch: 3\n",
      "Train\n",
      "0.4304815822882346\n",
      "TEST\n",
      "loss: 0.6525916460014525\n",
      "accuracy: 0.7904761904761904\n",
      "******************\n",
      "epoch: 4\n",
      "Train\n",
      "0.4097929574649802\n",
      "TEST\n",
      "loss: 0.9300617226532527\n",
      "accuracy: 0.7587301587301587\n",
      "******************\n",
      "epoch: 5\n",
      "Train\n",
      "0.407307331954041\n",
      "TEST\n",
      "loss: 1.239398565746489\n",
      "accuracy: 0.44761904761904764\n",
      "******************\n",
      "epoch: 6\n",
      "Train\n",
      "0.32271301635112715\n",
      "TEST\n",
      "loss: 0.5895279029059032\n",
      "accuracy: 0.7873015873015873\n",
      "******************\n",
      "epoch: 7\n",
      "Train\n",
      "0.23380097984746867\n",
      "TEST\n",
      "loss: 1.7172814070232332\n",
      "accuracy: 0.48253968253968255\n",
      "******************\n",
      "epoch: 8\n",
      "Train\n",
      "0.2589283663664099\n",
      "TEST\n",
      "loss: 0.809472756347959\n",
      "accuracy: 0.7904761904761904\n",
      "******************\n",
      "epoch: 9\n",
      "Train\n",
      "0.243825297255285\n",
      "TEST\n",
      "loss: 0.8367712041688344\n",
      "accuracy: 0.7873015873015873\n",
      "******************\n",
      "epoch: 10\n",
      "Train\n",
      "0.17085904171771715\n",
      "TEST\n",
      "loss: 0.9945584574389079\n",
      "accuracy: 0.7333333333333333\n",
      "******************\n",
      "epoch: 11\n",
      "Train\n",
      "0.16550700422124887\n",
      "TEST\n",
      "loss: 0.8965299273294116\n",
      "accuracy: 0.7873015873015873\n",
      "******************\n",
      "epoch: 12\n",
      "Train\n",
      "0.14200337603984134\n",
      "TEST\n",
      "loss: 1.1964201902586316\n",
      "accuracy: 0.6444444444444445\n",
      "******************\n",
      "epoch: 13\n",
      "Train\n",
      "0.12313737255070621\n",
      "TEST\n",
      "loss: 0.8858200120547461\n",
      "accuracy: 0.7841269841269841\n",
      "******************\n",
      "epoch: 14\n",
      "Train\n",
      "0.11104113302053772\n",
      "TEST\n",
      "loss: 1.0813486916678292\n",
      "accuracy: 0.6507936507936508\n",
      "******************\n",
      "epoch: 15\n",
      "Train\n",
      "0.0695807837583036\n",
      "TEST\n",
      "loss: 1.846202590541234\n",
      "accuracy: 0.780952380952381\n",
      "******************\n",
      "epoch: 16\n",
      "Train\n",
      "0.1683632721791578\n",
      "TEST\n",
      "loss: 1.3566100911488608\n",
      "accuracy: 0.653968253968254\n",
      "******************\n",
      "epoch: 17\n",
      "Train\n",
      "0.11810403071622037\n",
      "TEST\n",
      "loss: 1.6250247616616507\n",
      "accuracy: 0.5873015873015873\n",
      "******************\n",
      "epoch: 18\n",
      "Train\n",
      "0.05021322619856422\n",
      "TEST\n",
      "loss: 1.2395562557947069\n",
      "accuracy: 0.6476190476190476\n",
      "******************\n",
      "epoch: 19\n",
      "Train\n",
      "0.03154627809625021\n",
      "TEST\n",
      "loss: 1.5423370406741188\n",
      "accuracy: 0.8\n",
      "******************\n",
      "epoch: 20\n",
      "Train\n",
      "0.03230843064689608\n",
      "TEST\n",
      "loss: 1.0660276863310072\n",
      "accuracy: 0.6857142857142857\n",
      "******************\n",
      "epoch: 21\n",
      "Train\n",
      "0.041608080696950746\n",
      "TEST\n",
      "loss: 1.0701710333899845\n",
      "accuracy: 0.6730158730158731\n",
      "******************\n",
      "epoch: 22\n",
      "Train\n",
      "0.04016612785682674\n",
      "TEST\n",
      "loss: 1.349909445785341\n",
      "accuracy: 0.7555555555555555\n",
      "******************\n",
      "epoch: 23\n",
      "Train\n",
      "0.06393038730985523\n",
      "TEST\n",
      "loss: 2.6761321737652732\n",
      "accuracy: 0.7142857142857143\n",
      "******************\n",
      "epoch: 24\n",
      "Train\n",
      "0.06102153706158873\n",
      "TEST\n",
      "loss: 0.8447606256083836\n",
      "accuracy: 0.7619047619047619\n",
      "******************\n",
      "epoch: 25\n",
      "Train\n",
      "0.04834046433280304\n",
      "TEST\n",
      "loss: 1.2778974972073993\n",
      "accuracy: 0.8126984126984127\n",
      "******************\n",
      "epoch: 26\n",
      "Train\n",
      "0.02681724352317709\n",
      "TEST\n",
      "loss: 1.1444058741841998\n",
      "accuracy: 0.7746031746031746\n",
      "******************\n",
      "epoch: 27\n",
      "Train\n",
      "0.012728333794988982\n",
      "TEST\n",
      "loss: 1.0567071638410053\n",
      "accuracy: 0.8\n",
      "******************\n",
      "epoch: 28\n",
      "Train\n",
      "0.030944343053419927\n",
      "TEST\n",
      "loss: 1.0673853414399284\n",
      "accuracy: 0.819047619047619\n",
      "******************\n",
      "epoch: 29\n",
      "Train\n",
      "0.03682161532667916\n",
      "TEST\n",
      "loss: 1.2519231939126574\n",
      "accuracy: 0.7142857142857143\n",
      "******************\n",
      "epoch: 30\n",
      "Train\n",
      "0.051321351092909424\n",
      "TEST\n",
      "loss: 1.2948984421434857\n",
      "accuracy: 0.7619047619047619\n",
      "******************\n",
      "epoch: 31\n",
      "Train\n",
      "0.02791635775265474\n",
      "TEST\n",
      "loss: 1.5674936073166983\n",
      "accuracy: 0.8\n",
      "******************\n",
      "epoch: 32\n",
      "Train\n",
      "0.1759866706263555\n",
      "TEST\n",
      "loss: 0.9000411776323167\n",
      "accuracy: 0.7968253968253968\n",
      "******************\n",
      "epoch: 33\n",
      "Train\n",
      "0.06256453802273183\n",
      "TEST\n",
      "loss: 1.221999326584831\n",
      "accuracy: 0.8\n",
      "******************\n",
      "epoch: 34\n",
      "Train\n",
      "0.03453765720916088\n",
      "TEST\n",
      "loss: 1.2819707580975124\n",
      "accuracy: 0.7873015873015873\n",
      "******************\n",
      "epoch: 35\n",
      "Train\n",
      "0.017547585965208917\n",
      "TEST\n",
      "loss: 1.059075389400361\n",
      "accuracy: 0.8126984126984127\n",
      "******************\n",
      "epoch: 36\n",
      "Train\n",
      "0.02318268237048146\n",
      "TEST\n",
      "loss: 2.63321596478659\n",
      "accuracy: 0.7555555555555555\n",
      "******************\n",
      "epoch: 37\n",
      "Train\n",
      "0.02334481711603695\n",
      "TEST\n",
      "loss: 1.4560065990402584\n",
      "accuracy: 0.7904761904761904\n",
      "******************\n",
      "epoch: 38\n",
      "Train\n",
      "0.018729015070030716\n",
      "TEST\n",
      "loss: 1.1085653978680807\n",
      "accuracy: 0.8222222222222222\n",
      "******************\n",
      "epoch: 39\n",
      "Train\n",
      "0.01538759571407841\n",
      "TEST\n",
      "loss: 1.110235756824887\n",
      "accuracy: 0.7936507936507936\n",
      "******************\n",
      "epoch: 40\n",
      "Train\n",
      "0.018271422992305827\n",
      "TEST\n",
      "loss: 0.9598218111764817\n",
      "accuracy: 0.7142857142857143\n",
      "******************\n",
      "epoch: 41\n",
      "Train\n",
      "0.011640024476856987\n",
      "TEST\n",
      "loss: 1.7539075932805501\n",
      "accuracy: 0.7873015873015873\n",
      "******************\n",
      "epoch: 42\n",
      "Train\n",
      "0.034018835591280286\n",
      "TEST\n",
      "loss: 1.8751735365579998\n",
      "accuracy: 0.6285714285714286\n",
      "******************\n",
      "epoch: 43\n",
      "Train\n",
      "0.05200567763894974\n",
      "TEST\n",
      "loss: 1.0784306068269034\n",
      "accuracy: 0.7904761904761904\n",
      "******************\n",
      "epoch: 44\n",
      "Train\n",
      "0.02336215985355628\n",
      "TEST\n",
      "loss: 1.4774846688149468\n",
      "accuracy: 0.7714285714285715\n",
      "******************\n",
      "epoch: 45\n",
      "Train\n",
      "0.00866300047071648\n",
      "TEST\n",
      "loss: 1.415517983360896\n",
      "accuracy: 0.7746031746031746\n",
      "******************\n",
      "epoch: 46\n",
      "Train\n",
      "0.009801587771929096\n",
      "TEST\n",
      "loss: 1.6659434833223858\n",
      "accuracy: 0.7841269841269841\n",
      "******************\n",
      "epoch: 47\n",
      "Train\n",
      "0.03119438878671844\n",
      "TEST\n",
      "loss: 1.1712580474596175\n",
      "accuracy: 0.7777777777777778\n",
      "******************\n",
      "epoch: 48\n",
      "Train\n",
      "0.00883202719101956\n",
      "TEST\n",
      "loss: 1.266080742222922\n",
      "accuracy: 0.7904761904761904\n",
      "******************\n",
      "epoch: 49\n",
      "Train\n",
      "0.05221919062960896\n",
      "TEST\n",
      "loss: 1.1838560295483422\n",
      "accuracy: 0.6730158730158731\n",
      "******************\n",
      "epoch: 50\n",
      "Train\n",
      "0.05509718993384276\n",
      "TEST\n",
      "loss: 1.24115068893584\n",
      "accuracy: 0.7904761904761904\n",
      "******************\n",
      "epoch: 51\n",
      "Train\n",
      "0.04173114496476303\n",
      "TEST\n",
      "loss: 1.1922454077099998\n",
      "accuracy: 0.7936507936507936\n",
      "******************\n",
      "epoch: 52\n",
      "Train\n",
      "0.04760251087421363\n",
      "TEST\n",
      "loss: 1.435698051868923\n",
      "accuracy: 0.726984126984127\n",
      "******************\n",
      "epoch: 53\n",
      "Train\n",
      "0.02311142919713822\n",
      "TEST\n",
      "loss: 1.2154985390012227\n",
      "accuracy: 0.8\n",
      "******************\n",
      "epoch: 54\n",
      "Train\n",
      "0.03028721900914246\n",
      "TEST\n",
      "loss: 1.1700239786079951\n",
      "accuracy: 0.7587301587301587\n",
      "******************\n",
      "epoch: 55\n",
      "Train\n",
      "0.04289513468580369\n",
      "TEST\n",
      "loss: 0.9914044265709226\n",
      "accuracy: 0.7714285714285715\n",
      "******************\n",
      "epoch: 56\n",
      "Train\n",
      "0.021476212151628208\n",
      "TEST\n",
      "loss: 1.2752350300077409\n",
      "accuracy: 0.8158730158730159\n",
      "******************\n",
      "epoch: 57\n",
      "Train\n",
      "0.01266135104818712\n",
      "TEST\n",
      "loss: 1.1342522218113853\n",
      "accuracy: 0.8095238095238095\n",
      "******************\n",
      "epoch: 58\n",
      "Train\n",
      "0.002987862944868715\n",
      "TEST\n",
      "loss: 1.527159381291223\n",
      "accuracy: 0.7873015873015873\n",
      "******************\n",
      "epoch: 59\n",
      "Train\n",
      "0.0026383937953464057\n",
      "TEST\n",
      "loss: 1.3634771797392102\n",
      "accuracy: 0.8\n",
      "******************\n",
      "epoch: 60\n",
      "Train\n",
      "0.0008589872068099898\n",
      "TEST\n",
      "loss: 1.3814047520122832\n",
      "accuracy: 0.7936507936507936\n",
      "******************\n",
      "epoch: 61\n",
      "Train\n",
      "0.0005483519231546981\n",
      "TEST\n",
      "loss: 1.486783262283083\n",
      "accuracy: 0.8031746031746032\n",
      "******************\n",
      "epoch: 62\n",
      "Train\n",
      "0.0003142714833404887\n",
      "TEST\n",
      "loss: 1.3941424644182598\n",
      "accuracy: 0.8031746031746032\n",
      "******************\n",
      "epoch: 63\n",
      "Train\n",
      "0.00029951412370770567\n",
      "TEST\n",
      "loss: 1.3552072736952039\n",
      "accuracy: 0.8158730158730159\n",
      "******************\n",
      "epoch: 64\n",
      "Train\n",
      "0.0003266039330695739\n",
      "TEST\n",
      "loss: 1.4389132961394295\n",
      "accuracy: 0.8063492063492064\n",
      "******************\n",
      "epoch: 65\n",
      "Train\n",
      "0.00014737831405807817\n",
      "TEST\n",
      "loss: 1.457789062886011\n",
      "accuracy: 0.8095238095238095\n",
      "******************\n",
      "epoch: 66\n",
      "Train\n",
      "0.00012877718301962824\n",
      "TEST\n",
      "loss: 1.4207198674716646\n",
      "accuracy: 0.8\n",
      "******************\n",
      "epoch: 67\n",
      "Train\n",
      "0.00022394481286788125\n",
      "TEST\n",
      "loss: 1.3955831058441646\n",
      "accuracy: 0.7841269841269841\n",
      "******************\n",
      "epoch: 68\n",
      "Train\n",
      "0.00014808452844425942\n",
      "TEST\n",
      "loss: 1.4688307035536994\n",
      "accuracy: 0.7873015873015873\n",
      "******************\n",
      "epoch: 69\n",
      "Train\n",
      "0.0001973857611505937\n",
      "TEST\n",
      "loss: 1.44999495536562\n",
      "accuracy: 0.7873015873015873\n",
      "******************\n",
      "Accuracy on the validation:  0.8222222222222222\n"
     ]
    }
   ],
   "source": [
    "seed_everything(42)\n",
    "\n",
    "train_dataset = HeartbeatSounds(mode='train', data = data, labels = labels, augment = True, aug_type = 'Noise', keys = train_keys)\n",
    "valid_dataset = HeartbeatSounds(mode='valid', data = data, labels = labels, keys = valid_keys)\n",
    "test_dataset = HeartbeatSounds(mode='test', data = data, labels = labels, keys = test_keys)\n",
    "\n",
    "train_dataloader = DataLoader(train_dataset, batch_size=batch_size, shuffle=True)\n",
    "valid_dataloader = DataLoader(valid_dataset, batch_size=batch_size, shuffle=False)\n",
    "test_dataloader = DataLoader(test_dataset, batch_size=batch_size, shuffle=False)\n",
    "\n",
    "model = resnet18(pretrained=True)\n",
    "num_ftrs = model.fc.in_features\n",
    "model.fc = torch.nn.Linear(num_ftrs, 3)\n",
    "model = model.to(device)\n",
    "\n",
    "epochs = 70\n",
    "criterion = torch.nn.CrossEntropyLoss()\n",
    "optimizer = torch.optim.Adam(model.parameters())\n",
    "\n",
    "model, train_losses, valid_losses, valid_acc = train(model, criterion, train_dataloader, valid_dataloader, epochs, optimizer)"
   ]
  },
  {
   "cell_type": "code",
   "execution_count": 21,
   "metadata": {
    "execution": {
     "iopub.execute_input": "2021-04-05T15:22:39.040458Z",
     "iopub.status.busy": "2021-04-05T15:22:39.039572Z",
     "iopub.status.idle": "2021-04-05T15:22:39.233388Z",
     "shell.execute_reply": "2021-04-05T15:22:39.234008Z"
    },
    "papermill": {
     "duration": 0.261922,
     "end_time": "2021-04-05T15:22:39.234211",
     "exception": false,
     "start_time": "2021-04-05T15:22:38.972289",
     "status": "completed"
    },
    "tags": []
   },
   "outputs": [
    {
     "name": "stdout",
     "output_type": "stream",
     "text": [
      "Quality of the model\n",
      "accuracy: 0.8223350253807107\n"
     ]
    }
   ],
   "source": [
    "evaluate(model, test_dataloader)"
   ]
  },
  {
   "cell_type": "code",
   "execution_count": 22,
   "metadata": {
    "execution": {
     "iopub.execute_input": "2021-04-05T15:22:39.328802Z",
     "iopub.status.busy": "2021-04-05T15:22:39.326228Z",
     "iopub.status.idle": "2021-04-05T15:22:39.464367Z",
     "shell.execute_reply": "2021-04-05T15:22:39.464786Z"
    },
    "papermill": {
     "duration": 0.193274,
     "end_time": "2021-04-05T15:22:39.464939",
     "exception": false,
     "start_time": "2021-04-05T15:22:39.271665",
     "status": "completed"
    },
    "tags": []
   },
   "outputs": [
    {
     "data": {
      "image/png": "[encoded data removed]",
      "text/plain": [
       "<Figure size 432x288 with 1 Axes>"
      ]
     },
     "metadata": {
      "needs_background": "light"
     },
     "output_type": "display_data"
    }
   ],
   "source": [
    "plt.plot(np.arange(epochs), train_losses, label = 'train_loss')\n",
    "plt.plot(np.arange(epochs), valid_losses, label = 'valid_loss')\n",
    "plt.plot(np.arange(epochs), valid_acc, label = 'valid_accuracy')\n",
    "plt.legend()\n",
    "plt.show()"
   ]
  }
 ],
 "metadata": {
  "kernelspec": {
   "display_name": "Python 3",
   "language": "python",
   "name": "python3"
  },
  "language_info": {
   "codemirror_mode": {
    "name": "ipython",
    "version": 3
   },
   "file_extension": ".py",
   "mimetype": "text/x-python",
   "name": "python",
   "nbconvert_exporter": "python",
   "pygments_lexer": "ipython3",
   "version": "3.7.9"
  },
  "papermill": {
   "default_parameters": {},
   "duration": 551.893053,
   "end_time": "2021-04-05T15:22:41.801925",
   "environment_variables": {},
   "exception": null,
   "input_path": "__notebook__.ipynb",
   "output_path": "__notebook__.ipynb",
   "parameters": {},
   "start_time": "2021-04-05T15:13:29.908872",
   "version": "2.2.2"
  },
  "widgets": {
   "application/vnd.jupyter.widget-state+json": {
    "state": {
     "3050eeb58c9347fd8e0f4b0d3930a4a6": {
      "model_module": "@jupyter-widgets/controls",
      "model_module_version": "1.5.0",
      "model_name": "FloatProgressModel",
      "state": {
       "_dom_classes": [],
       "_model_module": "@jupyter-widgets/controls",
       "_model_module_version": "1.5.0",
       "_model_name": "FloatProgressModel",
       "_view_count": null,
       "_view_module": "@jupyter-widgets/controls",
       "_view_module_version": "1.5.0",
       "_view_name": "ProgressView",
       "bar_style": "success",
       "description": "",
       "description_tooltip": null,
       "layout": "IPY_MODEL_cab93c2ae32a423595b3840fa6f11f3f",
       "max": 46827520.0,
       "min": 0.0,
       "orientation": "horizontal",
       "style": "IPY_MODEL_c4afd663500d4334b0e66391a9a0b35b",
       "value": 46827520.0
      }
     },
     "3bac8f457c0d493d878e0c34b20ec85a": {
      "model_module": "@jupyter-widgets/base",
      "model_module_version": "1.2.0",
      "model_name": "LayoutModel",
      "state": {
       "_model_module": "@jupyter-widgets/base",
       "_model_module_version": "1.2.0",
       "_model_name": "LayoutModel",
       "_view_count": null,
       "_view_module": "@jupyter-widgets/base",
       "_view_module_version": "1.2.0",
       "_view_name": "LayoutView",
       "align_content": null,
       "align_items": null,
       "align_self": null,
       "border": null,
       "bottom": null,
       "display": null,
       "flex": null,
       "flex_flow": null,
       "grid_area": null,
       "grid_auto_columns": null,
       "grid_auto_flow": null,
       "grid_auto_rows": null,
       "grid_column": null,
       "grid_gap": null,
       "grid_row": null,
       "grid_template_areas": null,
       "grid_template_columns": null,
       "grid_template_rows": null,
       "height": null,
       "justify_content": null,
       "justify_items": null,
       "left": null,
       "margin": null,
       "max_height": null,
       "max_width": null,
       "min_height": null,
       "min_width": null,
       "object_fit": null,
       "object_position": null,
       "order": null,
       "overflow": null,
       "overflow_x": null,
       "overflow_y": null,
       "padding": null,
       "right": null,
       "top": null,
       "visibility": null,
       "width": null
      }
     },
     "7acd92ea292d49f590563b21bd2283c9": {
      "model_module": "@jupyter-widgets/controls",
      "model_module_version": "1.5.0",
      "model_name": "HTMLModel",
      "state": {
       "_dom_classes": [],
       "_model_module": "@jupyter-widgets/controls",
       "_model_module_version": "1.5.0",
       "_model_name": "HTMLModel",
       "_view_count": null,
       "_view_module": "@jupyter-widgets/controls",
       "_view_module_version": "1.5.0",
       "_view_name": "HTMLView",
       "description": "",
       "description_tooltip": null,
       "layout": "IPY_MODEL_3bac8f457c0d493d878e0c34b20ec85a",
       "placeholder": "​",
       "style": "IPY_MODEL_c4756731b2cd4f868c8b526394e2820a",
       "value": " 44.7M/44.7M [00:02&lt;00:00, 23.2MB/s]"
      }
     },
     "a0a9587df5a5417489578dd03307a4ea": {
      "model_module": "@jupyter-widgets/base",
      "model_module_version": "1.2.0",
      "model_name": "LayoutModel",
      "state": {
       "_model_module": "@jupyter-widgets/base",
       "_model_module_version": "1.2.0",
       "_model_name": "LayoutModel",
       "_view_count": null,
       "_view_module": "@jupyter-widgets/base",
       "_view_module_version": "1.2.0",
       "_view_name": "LayoutView",
       "align_content": null,
       "align_items": null,
       "align_self": null,
       "border": null,
       "bottom": null,
       "display": null,
       "flex": null,
       "flex_flow": null,
       "grid_area": null,
       "grid_auto_columns": null,
       "grid_auto_flow": null,
       "grid_auto_rows": null,
       "grid_column": null,
       "grid_gap": null,
       "grid_row": null,
       "grid_template_areas": null,
       "grid_template_columns": null,
       "grid_template_rows": null,
       "height": null,
       "justify_content": null,
       "justify_items": null,
       "left": null,
       "margin": null,
       "max_height": null,
       "max_width": null,
       "min_height": null,
       "min_width": null,
       "object_fit": null,
       "object_position": null,
       "order": null,
       "overflow": null,
       "overflow_x": null,
       "overflow_y": null,
       "padding": null,
       "right": null,
       "top": null,
       "visibility": null,
       "width": null
      }
     },
     "c4756731b2cd4f868c8b526394e2820a": {
      "model_module": "@jupyter-widgets/controls",
      "model_module_version": "1.5.0",
      "model_name": "DescriptionStyleModel",
      "state": {
       "_model_module": "@jupyter-widgets/controls",
       "_model_module_version": "1.5.0",
       "_model_name": "DescriptionStyleModel",
       "_view_count": null,
       "_view_module": "@jupyter-widgets/base",
       "_view_module_version": "1.2.0",
       "_view_name": "StyleView",
       "description_width": ""
      }
     },
     "c4afd663500d4334b0e66391a9a0b35b": {
      "model_module": "@jupyter-widgets/controls",
      "model_module_version": "1.5.0",
      "model_name": "ProgressStyleModel",
      "state": {
       "_model_module": "@jupyter-widgets/controls",
       "_model_module_version": "1.5.0",
       "_model_name": "ProgressStyleModel",
       "_view_count": null,
       "_view_module": "@jupyter-widgets/base",
       "_view_module_version": "1.2.0",
       "_view_name": "StyleView",
       "bar_color": null,
       "description_width": ""
      }
     },
     "cab93c2ae32a423595b3840fa6f11f3f": {
      "model_module": "@jupyter-widgets/base",
      "model_module_version": "1.2.0",
      "model_name": "LayoutModel",
      "state": {
       "_model_module": "@jupyter-widgets/base",
       "_model_module_version": "1.2.0",
       "_model_name": "LayoutModel",
       "_view_count": null,
       "_view_module": "@jupyter-widgets/base",
       "_view_module_version": "1.2.0",
       "_view_name": "LayoutView",
       "align_content": null,
       "align_items": null,
       "align_self": null,
       "border": null,
       "bottom": null,
       "display": null,
       "flex": null,
       "flex_flow": null,
       "grid_area": null,
       "grid_auto_columns": null,
       "grid_auto_flow": null,
       "grid_auto_rows": null,
       "grid_column": null,
       "grid_gap": null,
       "grid_row": null,
       "grid_template_areas": null,
       "grid_template_columns": null,
       "grid_template_rows": null,
       "height": null,
       "justify_content": null,
       "justify_items": null,
       "left": null,
       "margin": null,
       "max_height": null,
       "max_width": null,
       "min_height": null,
       "min_width": null,
       "object_fit": null,
       "object_position": null,
       "order": null,
       "overflow": null,
       "overflow_x": null,
       "overflow_y": null,
       "padding": null,
       "right": null,
       "top": null,
       "visibility": null,
       "width": null
      }
     },
     "d3f81b2a4b0945989f225e35812d89f7": {
      "model_module": "@jupyter-widgets/controls",
      "model_module_version": "1.5.0",
      "model_name": "HTMLModel",
      "state": {
       "_dom_classes": [],
       "_model_module": "@jupyter-widgets/controls",
       "_model_module_version": "1.5.0",
       "_model_name": "HTMLModel",
       "_view_count": null,
       "_view_module": "@jupyter-widgets/controls",
       "_view_module_version": "1.5.0",
       "_view_name": "HTMLView",
       "description": "",
       "description_tooltip": null,
       "layout": "IPY_MODEL_a0a9587df5a5417489578dd03307a4ea",
       "placeholder": "​",
       "style": "IPY_MODEL_fa225f35786c45e7997f76354ce98ce9",
       "value": "100%"
      }
     },
     "f1cf378fbbd14e9d83c5805ca114bf03": {
      "model_module": "@jupyter-widgets/controls",
      "model_module_version": "1.5.0",
      "model_name": "HBoxModel",
      "state": {
       "_dom_classes": [],
       "_model_module": "@jupyter-widgets/controls",
       "_model_module_version": "1.5.0",
       "_model_name": "HBoxModel",
       "_view_count": null,
       "_view_module": "@jupyter-widgets/controls",
       "_view_module_version": "1.5.0",
       "_view_name": "HBoxView",
       "box_style": "",
       "children": [
        "IPY_MODEL_d3f81b2a4b0945989f225e35812d89f7",
        "IPY_MODEL_3050eeb58c9347fd8e0f4b0d3930a4a6",
        "IPY_MODEL_7acd92ea292d49f590563b21bd2283c9"
       ],
       "layout": "IPY_MODEL_f94e089acf43415aaabcf07bc23f7cfb"
      }
     },
     "f94e089acf43415aaabcf07bc23f7cfb": {
      "model_module": "@jupyter-widgets/base",
      "model_module_version": "1.2.0",
      "model_name": "LayoutModel",
      "state": {
       "_model_module": "@jupyter-widgets/base",
       "_model_module_version": "1.2.0",
       "_model_name": "LayoutModel",
       "_view_count": null,
       "_view_module": "@jupyter-widgets/base",
       "_view_module_version": "1.2.0",
       "_view_name": "LayoutView",
       "align_content": null,
       "align_items": null,
       "align_self": null,
       "border": null,
       "bottom": null,
       "display": null,
       "flex": null,
       "flex_flow": null,
       "grid_area": null,
       "grid_auto_columns": null,
       "grid_auto_flow": null,
       "grid_auto_rows": null,
       "grid_column": null,
       "grid_gap": null,
       "grid_row": null,
       "grid_template_areas": null,
       "grid_template_columns": null,
       "grid_template_rows": null,
       "height": null,
       "justify_content": null,
       "justify_items": null,
       "left": null,
       "margin": null,
       "max_height": null,
       "max_width": null,
       "min_height": null,
       "min_width": null,
       "object_fit": null,
       "object_position": null,
       "order": null,
       "overflow": null,
       "overflow_x": null,
       "overflow_y": null,
       "padding": null,
       "right": null,
       "top": null,
       "visibility": null,
       "width": null
      }
     },
     "fa225f35786c45e7997f76354ce98ce9": {
      "model_module": "@jupyter-widgets/controls",
      "model_module_version": "1.5.0",
      "model_name": "DescriptionStyleModel",
      "state": {
       "_model_module": "@jupyter-widgets/controls",
       "_model_module_version": "1.5.0",
       "_model_name": "DescriptionStyleModel",
       "_view_count": null,
       "_view_module": "@jupyter-widgets/base",
       "_view_module_version": "1.2.0",
       "_view_name": "StyleView",
       "description_width": ""
      }
     }
    },
    "version_major": 2,
    "version_minor": 0
   }
  }
 },
 "nbformat": 4,
 "nbformat_minor": 4
}
