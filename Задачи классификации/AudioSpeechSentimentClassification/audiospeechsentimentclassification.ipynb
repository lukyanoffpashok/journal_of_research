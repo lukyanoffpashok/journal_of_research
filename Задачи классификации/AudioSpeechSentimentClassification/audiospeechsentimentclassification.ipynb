{
 "cells": [
  {
   "cell_type": "code",
   "execution_count": 1,
   "metadata": {
    "execution": {
     "iopub.execute_input": "2021-03-15T12:41:56.244750Z",
     "iopub.status.busy": "2021-03-15T12:41:56.244046Z",
     "iopub.status.idle": "2021-03-15T12:41:59.906845Z",
     "shell.execute_reply": "2021-03-15T12:41:59.905728Z"
    },
    "papermill": {
     "duration": 3.680641,
     "end_time": "2021-03-15T12:41:59.907094",
     "exception": false,
     "start_time": "2021-03-15T12:41:56.226453",
     "status": "completed"
    },
    "tags": []
   },
   "outputs": [],
   "source": [
    "import numpy as np\n",
    "import matplotlib.pyplot as plt\n",
    "from sklearn.model_selection import train_test_split\n",
    "import librosa\n",
    "import librosa.display\n",
    "import os\n",
    "import torch\n",
    "from torch.utils.data import Dataset, DataLoader\n",
    "import random\n",
    "import skimage.io as io\n",
    "import pandas as pd\n",
    "import torchvision.models as models\n",
    "from tqdm import tqdm"
   ]
  },
  {
   "cell_type": "code",
   "execution_count": 2,
   "metadata": {
    "execution": {
     "iopub.execute_input": "2021-03-15T12:41:59.933501Z",
     "iopub.status.busy": "2021-03-15T12:41:59.932920Z",
     "iopub.status.idle": "2021-03-15T12:42:09.066375Z",
     "shell.execute_reply": "2021-03-15T12:42:09.065591Z"
    },
    "papermill": {
     "duration": 9.148059,
     "end_time": "2021-03-15T12:42:09.066517",
     "exception": false,
     "start_time": "2021-03-15T12:41:59.918458",
     "status": "completed"
    },
    "tags": []
   },
   "outputs": [
    {
     "name": "stdout",
     "output_type": "stream",
     "text": [
      "Collecting efficientnet_pytorch\r\n",
      "  Downloading efficientnet_pytorch-0.7.0.tar.gz (20 kB)\r\n",
      "Requirement already satisfied: torch in /opt/conda/lib/python3.7/site-packages (from efficientnet_pytorch) (1.7.0)\r\n",
      "Requirement already satisfied: future in /opt/conda/lib/python3.7/site-packages (from torch->efficientnet_pytorch) (0.18.2)\r\n",
      "Requirement already satisfied: typing_extensions in /opt/conda/lib/python3.7/site-packages (from torch->efficientnet_pytorch) (3.7.4.3)\r\n",
      "Requirement already satisfied: dataclasses in /opt/conda/lib/python3.7/site-packages (from torch->efficientnet_pytorch) (0.6)\r\n",
      "Requirement already satisfied: numpy in /opt/conda/lib/python3.7/site-packages (from torch->efficientnet_pytorch) (1.19.5)\r\n",
      "Building wheels for collected packages: efficientnet-pytorch\r\n",
      "  Building wheel for efficientnet-pytorch (setup.py) ... \u001b[?25l-\b \b\\\b \bdone\r\n",
      "\u001b[?25h  Created wheel for efficientnet-pytorch: filename=efficientnet_pytorch-0.7.0-py3-none-any.whl size=16033 sha256=95370f42a4d9d9bc2c473f03707e9564c4bab9076d8b0cea5fabbbeff1f076b9\r\n",
      "  Stored in directory: /root/.cache/pip/wheels/b7/cc/0d/41d384b0071c6f46e542aded5f8571700ace4f1eb3f1591c29\r\n",
      "Successfully built efficientnet-pytorch\r\n",
      "Installing collected packages: efficientnet-pytorch\r\n",
      "Successfully installed efficientnet-pytorch-0.7.0\r\n"
     ]
    }
   ],
   "source": [
    "!pip install efficientnet_pytorch\n",
    "from efficientnet_pytorch import EfficientNet"
   ]
  },
  {
   "cell_type": "code",
   "execution_count": 3,
   "metadata": {
    "execution": {
     "iopub.execute_input": "2021-03-15T12:42:09.099213Z",
     "iopub.status.busy": "2021-03-15T12:42:09.098696Z",
     "iopub.status.idle": "2021-03-15T12:42:09.105920Z",
     "shell.execute_reply": "2021-03-15T12:42:09.105473Z"
    },
    "papermill": {
     "duration": 0.025717,
     "end_time": "2021-03-15T12:42:09.106053",
     "exception": false,
     "start_time": "2021-03-15T12:42:09.080336",
     "status": "completed"
    },
    "tags": []
   },
   "outputs": [
    {
     "name": "stdout",
     "output_type": "stream",
     "text": [
      "setting everything to seed 42\n"
     ]
    }
   ],
   "source": [
    "def seed_everything(seed=42):\n",
    "    print(f'setting everything to seed {seed}')\n",
    "    random.seed(seed)\n",
    "    os.environ['PYTHONHASHSEED'] = str(seed)\n",
    "    np.random.seed(seed)\n",
    "    torch.manual_seed(seed)\n",
    "    torch.cuda.manual_seed(seed)\n",
    "    torch.backends.cudnn.deterministic = True\n",
    "    torch.cuda.empty_cache()\n",
    "    \n",
    "seed_everything(42)"
   ]
  },
  {
   "cell_type": "code",
   "execution_count": 4,
   "metadata": {
    "execution": {
     "iopub.execute_input": "2021-03-15T12:42:09.138526Z",
     "iopub.status.busy": "2021-03-15T12:42:09.137777Z",
     "iopub.status.idle": "2021-03-15T12:42:09.140990Z",
     "shell.execute_reply": "2021-03-15T12:42:09.140565Z"
    },
    "papermill": {
     "duration": 0.021567,
     "end_time": "2021-03-15T12:42:09.141101",
     "exception": false,
     "start_time": "2021-03-15T12:42:09.119534",
     "status": "completed"
    },
    "tags": []
   },
   "outputs": [],
   "source": [
    "device = torch.device('cuda:0')"
   ]
  },
  {
   "cell_type": "code",
   "execution_count": 5,
   "metadata": {
    "execution": {
     "iopub.execute_input": "2021-03-15T12:42:09.171852Z",
     "iopub.status.busy": "2021-03-15T12:42:09.171260Z",
     "iopub.status.idle": "2021-03-15T12:42:09.174108Z",
     "shell.execute_reply": "2021-03-15T12:42:09.173610Z"
    },
    "papermill": {
     "duration": 0.019421,
     "end_time": "2021-03-15T12:42:09.174210",
     "exception": false,
     "start_time": "2021-03-15T12:42:09.154789",
     "status": "completed"
    },
    "tags": []
   },
   "outputs": [],
   "source": [
    "data_dir = '//kaggle/input/audio-speech-sentiment/TRAIN'\n",
    "file_csv = '/kaggle/input/audio-speech-sentiment/TRAIN.csv'"
   ]
  },
  {
   "cell_type": "code",
   "execution_count": 6,
   "metadata": {
    "execution": {
     "iopub.execute_input": "2021-03-15T12:42:09.209284Z",
     "iopub.status.busy": "2021-03-15T12:42:09.208660Z",
     "iopub.status.idle": "2021-03-15T12:42:09.211147Z",
     "shell.execute_reply": "2021-03-15T12:42:09.211528Z"
    },
    "papermill": {
     "duration": 0.023924,
     "end_time": "2021-03-15T12:42:09.211646",
     "exception": false,
     "start_time": "2021-03-15T12:42:09.187722",
     "status": "completed"
    },
    "tags": []
   },
   "outputs": [],
   "source": [
    "def mono_to_color(X, eps=1e-6, mean=None, std=None):\n",
    "    X = np.stack([X, X, X])\n",
    "\n",
    "    # Standardize\n",
    "    mean = mean or X.mean()\n",
    "    std = std or X.std()\n",
    "    X = (X - mean) / (std + eps)\n",
    "\n",
    "    # Normalize to [0, 255]\n",
    "    _min, _max = X.min(), X.max()\n",
    "\n",
    "    if (_max - _min) > eps:\n",
    "        V = np.clip(X, _min, _max)\n",
    "        V = 255 * (V - _min) / (_max - _min)\n",
    "        V = V.astype(np.uint8)\n",
    "    else:\n",
    "        V = np.zeros_like(X, dtype=np.uint8)\n",
    "\n",
    "    return V\n",
    "\n",
    "\n",
    "def normalize(image, mean=None, std=None):\n",
    "    image = image / 255.0\n",
    "    if mean is not None and std is not None:\n",
    "        image = (image - mean) / std\n",
    "    return image.astype(np.float32)"
   ]
  },
  {
   "cell_type": "code",
   "execution_count": 7,
   "metadata": {
    "execution": {
     "iopub.execute_input": "2021-03-15T12:42:09.242071Z",
     "iopub.status.busy": "2021-03-15T12:42:09.241560Z",
     "iopub.status.idle": "2021-03-15T12:42:09.270746Z",
     "shell.execute_reply": "2021-03-15T12:42:09.270311Z"
    },
    "papermill": {
     "duration": 0.045589,
     "end_time": "2021-03-15T12:42:09.270844",
     "exception": false,
     "start_time": "2021-03-15T12:42:09.225255",
     "status": "completed"
    },
    "tags": []
   },
   "outputs": [],
   "source": [
    "recordings = sorted(os.listdir(data_dir))"
   ]
  },
  {
   "cell_type": "code",
   "execution_count": 8,
   "metadata": {
    "execution": {
     "iopub.execute_input": "2021-03-15T12:42:09.305291Z",
     "iopub.status.busy": "2021-03-15T12:42:09.304454Z",
     "iopub.status.idle": "2021-03-15T12:42:09.308321Z",
     "shell.execute_reply": "2021-03-15T12:42:09.307868Z"
    },
    "papermill": {
     "duration": 0.023722,
     "end_time": "2021-03-15T12:42:09.308452",
     "exception": false,
     "start_time": "2021-03-15T12:42:09.284730",
     "status": "completed"
    },
    "tags": []
   },
   "outputs": [
    {
     "data": {
      "text/plain": [
       "250"
      ]
     },
     "execution_count": 8,
     "metadata": {},
     "output_type": "execute_result"
    }
   ],
   "source": [
    "len(recordings)"
   ]
  },
  {
   "cell_type": "code",
   "execution_count": 9,
   "metadata": {
    "execution": {
     "iopub.execute_input": "2021-03-15T12:42:09.341824Z",
     "iopub.status.busy": "2021-03-15T12:42:09.341149Z",
     "iopub.status.idle": "2021-03-15T12:42:09.344012Z",
     "shell.execute_reply": "2021-03-15T12:42:09.343601Z"
    },
    "papermill": {
     "duration": 0.021438,
     "end_time": "2021-03-15T12:42:09.344117",
     "exception": false,
     "start_time": "2021-03-15T12:42:09.322679",
     "status": "completed"
    },
    "tags": []
   },
   "outputs": [],
   "source": [
    "NUM_SAMPLES = 81503\n",
    "sr = 48000\n",
    "fmin = 84\n",
    "fmax = sr // 2\n",
    "nmels = 128"
   ]
  },
  {
   "cell_type": "code",
   "execution_count": 10,
   "metadata": {
    "execution": {
     "iopub.execute_input": "2021-03-15T12:42:09.377839Z",
     "iopub.status.busy": "2021-03-15T12:42:09.377350Z",
     "iopub.status.idle": "2021-03-15T12:42:10.415180Z",
     "shell.execute_reply": "2021-03-15T12:42:10.414733Z"
    },
    "papermill": {
     "duration": 1.057041,
     "end_time": "2021-03-15T12:42:10.415306",
     "exception": false,
     "start_time": "2021-03-15T12:42:09.358265",
     "status": "completed"
    },
    "tags": []
   },
   "outputs": [
    {
     "ename": "TypeError",
     "evalue": "Invalid shape (3, 128, 160) for image data",
     "output_type": "error",
     "traceback": [
      "\u001b[0;31m---------------------------------------------------------------------------\u001b[0m",
      "\u001b[0;31mTypeError\u001b[0m                                 Traceback (most recent call last)",
      "\u001b[0;32m<ipython-input-10-dfc04f7331de>\u001b[0m in \u001b[0;36m<module>\u001b[0;34m\u001b[0m\n\u001b[1;32m      8\u001b[0m \u001b[0;31m#melspec = self.img_transform(image=melspec)['image']\u001b[0m\u001b[0;34m\u001b[0m\u001b[0;34m\u001b[0m\u001b[0;34m\u001b[0m\u001b[0m\n\u001b[1;32m      9\u001b[0m \u001b[0mplt\u001b[0m\u001b[0;34m.\u001b[0m\u001b[0mfigure\u001b[0m\u001b[0;34m(\u001b[0m\u001b[0mfigsize\u001b[0m \u001b[0;34m=\u001b[0m \u001b[0;34m(\u001b[0m\u001b[0;36m20\u001b[0m\u001b[0;34m,\u001b[0m \u001b[0;36m6\u001b[0m\u001b[0;34m)\u001b[0m\u001b[0;34m)\u001b[0m\u001b[0;34m\u001b[0m\u001b[0;34m\u001b[0m\u001b[0m\n\u001b[0;32m---> 10\u001b[0;31m \u001b[0mplt\u001b[0m\u001b[0;34m.\u001b[0m\u001b[0mimshow\u001b[0m\u001b[0;34m(\u001b[0m\u001b[0mmelspec\u001b[0m\u001b[0;34m)\u001b[0m\u001b[0;34m\u001b[0m\u001b[0;34m\u001b[0m\u001b[0m\n\u001b[0m",
      "\u001b[0;32m/opt/conda/lib/python3.7/site-packages/matplotlib/pyplot.py\u001b[0m in \u001b[0;36mimshow\u001b[0;34m(X, cmap, norm, aspect, interpolation, alpha, vmin, vmax, origin, extent, filternorm, filterrad, resample, url, data, **kwargs)\u001b[0m\n\u001b[1;32m   2728\u001b[0m         \u001b[0mfilternorm\u001b[0m\u001b[0;34m=\u001b[0m\u001b[0mfilternorm\u001b[0m\u001b[0;34m,\u001b[0m \u001b[0mfilterrad\u001b[0m\u001b[0;34m=\u001b[0m\u001b[0mfilterrad\u001b[0m\u001b[0;34m,\u001b[0m \u001b[0mresample\u001b[0m\u001b[0;34m=\u001b[0m\u001b[0mresample\u001b[0m\u001b[0;34m,\u001b[0m\u001b[0;34m\u001b[0m\u001b[0;34m\u001b[0m\u001b[0m\n\u001b[1;32m   2729\u001b[0m         \u001b[0murl\u001b[0m\u001b[0;34m=\u001b[0m\u001b[0murl\u001b[0m\u001b[0;34m,\u001b[0m \u001b[0;34m**\u001b[0m\u001b[0;34m(\u001b[0m\u001b[0;34m{\u001b[0m\u001b[0;34m\"data\"\u001b[0m\u001b[0;34m:\u001b[0m \u001b[0mdata\u001b[0m\u001b[0;34m}\u001b[0m \u001b[0;32mif\u001b[0m \u001b[0mdata\u001b[0m \u001b[0;32mis\u001b[0m \u001b[0;32mnot\u001b[0m \u001b[0;32mNone\u001b[0m \u001b[0;32melse\u001b[0m \u001b[0;34m{\u001b[0m\u001b[0;34m}\u001b[0m\u001b[0;34m)\u001b[0m\u001b[0;34m,\u001b[0m\u001b[0;34m\u001b[0m\u001b[0;34m\u001b[0m\u001b[0m\n\u001b[0;32m-> 2730\u001b[0;31m         **kwargs)\n\u001b[0m\u001b[1;32m   2731\u001b[0m     \u001b[0msci\u001b[0m\u001b[0;34m(\u001b[0m\u001b[0m__ret\u001b[0m\u001b[0;34m)\u001b[0m\u001b[0;34m\u001b[0m\u001b[0;34m\u001b[0m\u001b[0m\n\u001b[1;32m   2732\u001b[0m     \u001b[0;32mreturn\u001b[0m \u001b[0m__ret\u001b[0m\u001b[0;34m\u001b[0m\u001b[0;34m\u001b[0m\u001b[0m\n",
      "\u001b[0;32m/opt/conda/lib/python3.7/site-packages/matplotlib/__init__.py\u001b[0m in \u001b[0;36minner\u001b[0;34m(ax, data, *args, **kwargs)\u001b[0m\n\u001b[1;32m   1445\u001b[0m     \u001b[0;32mdef\u001b[0m \u001b[0minner\u001b[0m\u001b[0;34m(\u001b[0m\u001b[0max\u001b[0m\u001b[0;34m,\u001b[0m \u001b[0;34m*\u001b[0m\u001b[0margs\u001b[0m\u001b[0;34m,\u001b[0m \u001b[0mdata\u001b[0m\u001b[0;34m=\u001b[0m\u001b[0;32mNone\u001b[0m\u001b[0;34m,\u001b[0m \u001b[0;34m**\u001b[0m\u001b[0mkwargs\u001b[0m\u001b[0;34m)\u001b[0m\u001b[0;34m:\u001b[0m\u001b[0;34m\u001b[0m\u001b[0;34m\u001b[0m\u001b[0m\n\u001b[1;32m   1446\u001b[0m         \u001b[0;32mif\u001b[0m \u001b[0mdata\u001b[0m \u001b[0;32mis\u001b[0m \u001b[0;32mNone\u001b[0m\u001b[0;34m:\u001b[0m\u001b[0;34m\u001b[0m\u001b[0;34m\u001b[0m\u001b[0m\n\u001b[0;32m-> 1447\u001b[0;31m             \u001b[0;32mreturn\u001b[0m \u001b[0mfunc\u001b[0m\u001b[0;34m(\u001b[0m\u001b[0max\u001b[0m\u001b[0;34m,\u001b[0m \u001b[0;34m*\u001b[0m\u001b[0mmap\u001b[0m\u001b[0;34m(\u001b[0m\u001b[0msanitize_sequence\u001b[0m\u001b[0;34m,\u001b[0m \u001b[0margs\u001b[0m\u001b[0;34m)\u001b[0m\u001b[0;34m,\u001b[0m \u001b[0;34m**\u001b[0m\u001b[0mkwargs\u001b[0m\u001b[0;34m)\u001b[0m\u001b[0;34m\u001b[0m\u001b[0;34m\u001b[0m\u001b[0m\n\u001b[0m\u001b[1;32m   1448\u001b[0m \u001b[0;34m\u001b[0m\u001b[0m\n\u001b[1;32m   1449\u001b[0m         \u001b[0mbound\u001b[0m \u001b[0;34m=\u001b[0m \u001b[0mnew_sig\u001b[0m\u001b[0;34m.\u001b[0m\u001b[0mbind\u001b[0m\u001b[0;34m(\u001b[0m\u001b[0max\u001b[0m\u001b[0;34m,\u001b[0m \u001b[0;34m*\u001b[0m\u001b[0margs\u001b[0m\u001b[0;34m,\u001b[0m \u001b[0;34m**\u001b[0m\u001b[0mkwargs\u001b[0m\u001b[0;34m)\u001b[0m\u001b[0;34m\u001b[0m\u001b[0;34m\u001b[0m\u001b[0m\n",
      "\u001b[0;32m/opt/conda/lib/python3.7/site-packages/matplotlib/axes/_axes.py\u001b[0m in \u001b[0;36mimshow\u001b[0;34m(self, X, cmap, norm, aspect, interpolation, alpha, vmin, vmax, origin, extent, filternorm, filterrad, resample, url, **kwargs)\u001b[0m\n\u001b[1;32m   5521\u001b[0m                               resample=resample, **kwargs)\n\u001b[1;32m   5522\u001b[0m \u001b[0;34m\u001b[0m\u001b[0m\n\u001b[0;32m-> 5523\u001b[0;31m         \u001b[0mim\u001b[0m\u001b[0;34m.\u001b[0m\u001b[0mset_data\u001b[0m\u001b[0;34m(\u001b[0m\u001b[0mX\u001b[0m\u001b[0;34m)\u001b[0m\u001b[0;34m\u001b[0m\u001b[0;34m\u001b[0m\u001b[0m\n\u001b[0m\u001b[1;32m   5524\u001b[0m         \u001b[0mim\u001b[0m\u001b[0;34m.\u001b[0m\u001b[0mset_alpha\u001b[0m\u001b[0;34m(\u001b[0m\u001b[0malpha\u001b[0m\u001b[0;34m)\u001b[0m\u001b[0;34m\u001b[0m\u001b[0;34m\u001b[0m\u001b[0m\n\u001b[1;32m   5525\u001b[0m         \u001b[0;32mif\u001b[0m \u001b[0mim\u001b[0m\u001b[0;34m.\u001b[0m\u001b[0mget_clip_path\u001b[0m\u001b[0;34m(\u001b[0m\u001b[0;34m)\u001b[0m \u001b[0;32mis\u001b[0m \u001b[0;32mNone\u001b[0m\u001b[0;34m:\u001b[0m\u001b[0;34m\u001b[0m\u001b[0;34m\u001b[0m\u001b[0m\n",
      "\u001b[0;32m/opt/conda/lib/python3.7/site-packages/matplotlib/image.py\u001b[0m in \u001b[0;36mset_data\u001b[0;34m(self, A)\u001b[0m\n\u001b[1;32m    710\u001b[0m                 or self._A.ndim == 3 and self._A.shape[-1] in [3, 4]):\n\u001b[1;32m    711\u001b[0m             raise TypeError(\"Invalid shape {} for image data\"\n\u001b[0;32m--> 712\u001b[0;31m                             .format(self._A.shape))\n\u001b[0m\u001b[1;32m    713\u001b[0m \u001b[0;34m\u001b[0m\u001b[0m\n\u001b[1;32m    714\u001b[0m         \u001b[0;32mif\u001b[0m \u001b[0mself\u001b[0m\u001b[0;34m.\u001b[0m\u001b[0m_A\u001b[0m\u001b[0;34m.\u001b[0m\u001b[0mndim\u001b[0m \u001b[0;34m==\u001b[0m \u001b[0;36m3\u001b[0m\u001b[0;34m:\u001b[0m\u001b[0;34m\u001b[0m\u001b[0;34m\u001b[0m\u001b[0m\n",
      "\u001b[0;31mTypeError\u001b[0m: Invalid shape (3, 128, 160) for image data"
     ]
    },
    {
     "data": {
      "image/png": "[encoded data removed]",
      "text/plain": [
       "<Figure size 1440x432 with 1 Axes>"
      ]
     },
     "metadata": {
      "needs_background": "light"
     },
     "output_type": "display_data"
    }
   ],
   "source": [
    "y, _ = librosa.load(data_dir + '/' + recordings[200], sr = sr)\n",
    "begin = (len(y) - NUM_SAMPLES) // 2\n",
    "samples = y[begin:begin + NUM_SAMPLES]\n",
    "melspec = librosa.feature.melspectrogram(samples, sr=sr, n_mels = nmels, fmin=fmin, fmax=fmax)\n",
    "melspec = librosa.power_to_db(melspec)\n",
    "melspec = mono_to_color(melspec)\n",
    "melspec = normalize(melspec, mean=None, std=None)\n",
    "#melspec = self.img_transform(image=melspec)['image']\n",
    "plt.figure(figsize = (20, 6))\n",
    "plt.imshow(melspec)"
   ]
  },
  {
   "cell_type": "code",
   "execution_count": 11,
   "metadata": {
    "execution": {
     "iopub.execute_input": "2021-03-15T12:42:10.450772Z",
     "iopub.status.busy": "2021-03-15T12:42:10.450067Z",
     "iopub.status.idle": "2021-03-15T12:42:10.453569Z",
     "shell.execute_reply": "2021-03-15T12:42:10.453177Z"
    },
    "papermill": {
     "duration": 0.022915,
     "end_time": "2021-03-15T12:42:10.453677",
     "exception": false,
     "start_time": "2021-03-15T12:42:10.430762",
     "status": "completed"
    },
    "tags": []
   },
   "outputs": [
    {
     "data": {
      "text/plain": [
       "(3, 128, 160)"
      ]
     },
     "execution_count": 11,
     "metadata": {},
     "output_type": "execute_result"
    }
   ],
   "source": [
    "image_size = melspec.shape\n",
    "image_size"
   ]
  },
  {
   "cell_type": "code",
   "execution_count": 12,
   "metadata": {
    "execution": {
     "iopub.execute_input": "2021-03-15T12:42:10.490902Z",
     "iopub.status.busy": "2021-03-15T12:42:10.490274Z",
     "iopub.status.idle": "2021-03-15T12:42:10.493231Z",
     "shell.execute_reply": "2021-03-15T12:42:10.492718Z"
    },
    "papermill": {
     "duration": 0.02398,
     "end_time": "2021-03-15T12:42:10.493335",
     "exception": false,
     "start_time": "2021-03-15T12:42:10.469355",
     "status": "completed"
    },
    "tags": []
   },
   "outputs": [],
   "source": [
    "def get_spectrogram(filename):\n",
    "    y, _ = librosa.load(filename, sr = sr)\n",
    "    begin = (len(y) - NUM_SAMPLES) // 2\n",
    "    samples = y[begin:begin + NUM_SAMPLES]\n",
    "    melspec = librosa.feature.melspectrogram(samples, sr=sr, n_mels=nmels, fmin=fmin, fmax=fmax)\n",
    "    melspec = librosa.power_to_db(melspec)\n",
    "    melspec = mono_to_color(melspec)\n",
    "    melspec = normalize(melspec, mean=None, std=None)\n",
    "    #melspec = self.img_transform(image=melspec)['image']\n",
    "\n",
    "    return torch.tensor(melspec, dtype=torch.float32)"
   ]
  },
  {
   "cell_type": "code",
   "execution_count": 13,
   "metadata": {
    "execution": {
     "iopub.execute_input": "2021-03-15T12:42:10.536281Z",
     "iopub.status.busy": "2021-03-15T12:42:10.534670Z",
     "iopub.status.idle": "2021-03-15T12:42:10.548671Z",
     "shell.execute_reply": "2021-03-15T12:42:10.548061Z"
    },
    "papermill": {
     "duration": 0.039644,
     "end_time": "2021-03-15T12:42:10.548809",
     "exception": false,
     "start_time": "2021-03-15T12:42:10.509165",
     "status": "completed"
    },
    "tags": []
   },
   "outputs": [],
   "source": [
    "p_csv = pd.read_csv(file_csv)\n",
    "files_dict = dict()\n",
    "Filename = p_csv['Filename']\n",
    "Class = p_csv['Class']\n",
    "for i in range(250):\n",
    "    t = 2\n",
    "    if Class[i] == 'Negative':\n",
    "        t = 0\n",
    "    elif Class[i] == 'Positive':\n",
    "        t = 1\n",
    "    files_dict[Filename[i]] = t"
   ]
  },
  {
   "cell_type": "code",
   "execution_count": 14,
   "metadata": {
    "execution": {
     "iopub.execute_input": "2021-03-15T12:42:10.584061Z",
     "iopub.status.busy": "2021-03-15T12:42:10.583428Z",
     "iopub.status.idle": "2021-03-15T12:42:10.585910Z",
     "shell.execute_reply": "2021-03-15T12:42:10.586341Z"
    },
    "papermill": {
     "duration": 0.021774,
     "end_time": "2021-03-15T12:42:10.586471",
     "exception": false,
     "start_time": "2021-03-15T12:42:10.564697",
     "status": "completed"
    },
    "tags": []
   },
   "outputs": [],
   "source": [
    "# 0 - Negative\n",
    "# 1 - Positive\n",
    "# 2 - Neutral"
   ]
  },
  {
   "cell_type": "code",
   "execution_count": 15,
   "metadata": {
    "execution": {
     "iopub.execute_input": "2021-03-15T12:42:10.626258Z",
     "iopub.status.busy": "2021-03-15T12:42:10.625555Z",
     "iopub.status.idle": "2021-03-15T12:42:10.628230Z",
     "shell.execute_reply": "2021-03-15T12:42:10.627816Z"
    },
    "papermill": {
     "duration": 0.025809,
     "end_time": "2021-03-15T12:42:10.628345",
     "exception": false,
     "start_time": "2021-03-15T12:42:10.602536",
     "status": "completed"
    },
    "tags": []
   },
   "outputs": [],
   "source": [
    "class AudioSpeechSentiment(Dataset):\n",
    "    def __init__(self, mode = 'train', data_dir='./', train_size=0.8, random_seed=42, recordings=[], files_dict=dict()):\n",
    "        super().__init__()\n",
    "\n",
    "        keys = np.arange(len(recordings))\n",
    "        train_keys, test_keys = train_test_split(keys, train_size=train_size, random_state=random_seed)\n",
    "        if mode == 'train':\n",
    "            keys = train_keys\n",
    "        else:\n",
    "            keys = test_keys\n",
    "        self.n = len(keys)\n",
    "        self.data = []\n",
    "        self.labels = []\n",
    "        for i in keys:\n",
    "            #print(recordings[i])\n",
    "            self.data.append(get_spectrogram(data_dir + '/' + recordings[i]))\n",
    "            self.labels.append(int(files_dict[recordings[i]]))\n",
    "        \n",
    "\n",
    "    def __getitem__(self, i):     \n",
    "        return self.data[i], self.labels[i]\n",
    "\n",
    "    def __len__(self):\n",
    "        return self.n"
   ]
  },
  {
   "cell_type": "code",
   "execution_count": 16,
   "metadata": {
    "execution": {
     "iopub.execute_input": "2021-03-15T12:42:10.665775Z",
     "iopub.status.busy": "2021-03-15T12:42:10.665302Z",
     "iopub.status.idle": "2021-03-15T12:42:53.301940Z",
     "shell.execute_reply": "2021-03-15T12:42:53.302464Z"
    },
    "papermill": {
     "duration": 42.657871,
     "end_time": "2021-03-15T12:42:53.302683",
     "exception": false,
     "start_time": "2021-03-15T12:42:10.644812",
     "status": "completed"
    },
    "tags": []
   },
   "outputs": [],
   "source": [
    "train_dataset = AudioSpeechSentiment(mode='train', data_dir=data_dir, recordings=recordings, files_dict=files_dict)\n",
    "test_dataset = AudioSpeechSentiment(mode='test', data_dir=data_dir, recordings=recordings, files_dict=files_dict)"
   ]
  },
  {
   "cell_type": "code",
   "execution_count": 17,
   "metadata": {
    "execution": {
     "iopub.execute_input": "2021-03-15T12:42:53.348289Z",
     "iopub.status.busy": "2021-03-15T12:42:53.346403Z",
     "iopub.status.idle": "2021-03-15T12:42:53.349073Z",
     "shell.execute_reply": "2021-03-15T12:42:53.349533Z"
    },
    "papermill": {
     "duration": 0.02673,
     "end_time": "2021-03-15T12:42:53.349662",
     "exception": false,
     "start_time": "2021-03-15T12:42:53.322932",
     "status": "completed"
    },
    "tags": []
   },
   "outputs": [],
   "source": [
    "batch_size = 16\n",
    "\n",
    "train_dataloader = DataLoader(train_dataset, batch_size=batch_size, shuffle=True)\n",
    "test_dataloader = DataLoader(test_dataset, batch_size=batch_size, shuffle=False)"
   ]
  },
  {
   "cell_type": "code",
   "execution_count": 18,
   "metadata": {
    "execution": {
     "iopub.execute_input": "2021-03-15T12:42:53.400855Z",
     "iopub.status.busy": "2021-03-15T12:42:53.397370Z",
     "iopub.status.idle": "2021-03-15T12:43:01.541485Z",
     "shell.execute_reply": "2021-03-15T12:43:01.540985Z"
    },
    "papermill": {
     "duration": 8.173662,
     "end_time": "2021-03-15T12:43:01.541610",
     "exception": false,
     "start_time": "2021-03-15T12:42:53.367948",
     "status": "completed"
    },
    "tags": []
   },
   "outputs": [
    {
     "name": "stderr",
     "output_type": "stream",
     "text": [
      "Downloading: \"https://download.pytorch.org/models/resnet18-5c106cde.pth\" to /root/.cache/torch/hub/checkpoints/resnet18-5c106cde.pth\n"
     ]
    },
    {
     "data": {
      "application/vnd.jupyter.widget-view+json": {
       "model_id": "1185c051d16c4ed38ccd7416165eb7be",
       "version_major": 2,
       "version_minor": 0
      },
      "text/plain": [
       "  0%|          | 0.00/44.7M [00:00<?, ?B/s]"
      ]
     },
     "metadata": {},
     "output_type": "display_data"
    }
   ],
   "source": [
    "model = models.resnet18(pretrained=True)\n",
    "num_ftrs = model.fc.in_features\n",
    "model.fc = torch.nn.Linear(num_ftrs, 3)\n",
    "model = model.to(device)"
   ]
  },
  {
   "cell_type": "code",
   "execution_count": 19,
   "metadata": {
    "execution": {
     "iopub.execute_input": "2021-03-15T12:43:01.582125Z",
     "iopub.status.busy": "2021-03-15T12:43:01.581450Z",
     "iopub.status.idle": "2021-03-15T12:43:01.584376Z",
     "shell.execute_reply": "2021-03-15T12:43:01.583982Z"
    },
    "papermill": {
     "duration": 0.02493,
     "end_time": "2021-03-15T12:43:01.584484",
     "exception": false,
     "start_time": "2021-03-15T12:43:01.559554",
     "status": "completed"
    },
    "tags": []
   },
   "outputs": [],
   "source": [
    "max_epoch = 30\n",
    "criterion = torch.nn.CrossEntropyLoss()\n",
    "optimizer = torch.optim.Adam(model.parameters())"
   ]
  },
  {
   "cell_type": "code",
   "execution_count": 20,
   "metadata": {
    "execution": {
     "iopub.execute_input": "2021-03-15T12:43:01.629361Z",
     "iopub.status.busy": "2021-03-15T12:43:01.628847Z",
     "iopub.status.idle": "2021-03-15T12:43:16.498639Z",
     "shell.execute_reply": "2021-03-15T12:43:16.497755Z"
    },
    "papermill": {
     "duration": 14.897068,
     "end_time": "2021-03-15T12:43:16.498776",
     "exception": false,
     "start_time": "2021-03-15T12:43:01.601708",
     "status": "completed"
    },
    "tags": []
   },
   "outputs": [
    {
     "name": "stdout",
     "output_type": "stream",
     "text": [
      "epoch: 0\n",
      "Train\n",
      "0.45114065527915953\n",
      "TEST\n",
      "loss: 0.3580043166875839\n",
      "accuracy: tensor(0.8000)\n",
      "******************\n",
      "epoch: 1\n",
      "Train\n",
      "0.09882829882204533\n",
      "TEST\n",
      "loss: 2.7634761333465576\n",
      "accuracy: tensor(0.6400)\n",
      "******************\n",
      "epoch: 2\n",
      "Train\n",
      "0.2517020867019892\n",
      "TEST\n",
      "loss: 1.0424539840221405\n",
      "accuracy: tensor(0.8200)\n",
      "******************\n",
      "epoch: 3\n",
      "Train\n",
      "0.1488585203886032\n",
      "TEST\n",
      "loss: 0.5962909054377815\n",
      "accuracy: tensor(0.8800)\n",
      "******************\n",
      "epoch: 4\n",
      "Train\n",
      "0.15339122781530024\n",
      "TEST\n",
      "loss: 0.03427817755844444\n",
      "accuracy: tensor(1.)\n",
      "******************\n",
      "epoch: 5\n",
      "Train\n",
      "0.03967992583289742\n",
      "TEST\n",
      "loss: 0.033134814891961926\n",
      "accuracy: tensor(0.9800)\n",
      "******************\n",
      "epoch: 6\n",
      "Train\n",
      "0.009150235508568584\n",
      "TEST\n",
      "loss: 0.01447508528304752\n",
      "accuracy: tensor(1.)\n",
      "******************\n",
      "epoch: 7\n",
      "Train\n",
      "0.12035106857831124\n",
      "TEST\n",
      "loss: 1.8866113824956119\n",
      "accuracy: tensor(0.7000)\n",
      "******************\n",
      "epoch: 8\n",
      "Train\n",
      "0.07982300056377425\n",
      "TEST\n",
      "loss: 0.14447893554344773\n",
      "accuracy: tensor(0.9400)\n",
      "******************\n",
      "epoch: 9\n",
      "Train\n",
      "0.05686447843909263\n",
      "TEST\n",
      "loss: 0.08381239488720894\n",
      "accuracy: tensor(0.9800)\n",
      "******************\n",
      "epoch: 10\n",
      "Train\n",
      "0.0686086682509631\n",
      "TEST\n",
      "loss: 0.4669144129517372\n",
      "accuracy: tensor(0.8800)\n",
      "******************\n",
      "epoch: 11\n",
      "Train\n",
      "0.0341811763390433\n",
      "TEST\n",
      "loss: 0.008054113686084748\n",
      "accuracy: tensor(1.)\n",
      "******************\n",
      "epoch: 12\n",
      "Train\n",
      "0.036207880442962054\n",
      "TEST\n",
      "loss: 0.03591794818639741\n",
      "accuracy: tensor(0.9800)\n",
      "******************\n",
      "epoch: 13\n",
      "Train\n",
      "0.12625138388946652\n",
      "TEST\n",
      "loss: 0.8516824316978364\n",
      "accuracy: tensor(0.8000)\n",
      "******************\n",
      "epoch: 14\n",
      "Train\n",
      "0.07662544565740972\n",
      "TEST\n",
      "loss: 0.8790198398835491\n",
      "accuracy: tensor(0.8600)\n",
      "******************\n",
      "epoch: 15\n",
      "Train\n",
      "0.026873533222824333\n",
      "TEST\n",
      "loss: 0.44188401650229936\n",
      "accuracy: tensor(0.8600)\n",
      "******************\n",
      "epoch: 16\n",
      "Train\n",
      "0.012095421499107034\n",
      "TEST\n",
      "loss: 0.0031996132107451557\n",
      "accuracy: tensor(1.)\n",
      "******************\n",
      "epoch: 17\n",
      "Train\n",
      "0.03828700458165258\n",
      "TEST\n",
      "loss: 0.05762213103473186\n",
      "accuracy: tensor(0.9600)\n",
      "******************\n",
      "epoch: 18\n",
      "Train\n",
      "0.15542977506760508\n",
      "TEST\n",
      "loss: 10.08907117843628\n",
      "accuracy: tensor(0.3600)\n",
      "******************\n",
      "epoch: 19\n",
      "Train\n",
      "0.05254325293004513\n",
      "TEST\n",
      "loss: 0.25845631536096336\n",
      "accuracy: tensor(0.8600)\n",
      "******************\n",
      "epoch: 20\n",
      "Train\n",
      "0.05357835880480707\n",
      "TEST\n",
      "loss: 0.9724424915201962\n",
      "accuracy: tensor(0.7800)\n",
      "******************\n",
      "epoch: 21\n",
      "Train\n",
      "0.11865156970918178\n",
      "TEST\n",
      "loss: 0.40246429443359377\n",
      "accuracy: tensor(0.9000)\n",
      "******************\n",
      "epoch: 22\n",
      "Train\n",
      "0.050031262543052436\n",
      "TEST\n",
      "loss: 0.0395948438346386\n",
      "accuracy: tensor(1.)\n",
      "******************\n",
      "epoch: 23\n",
      "Train\n",
      "0.019964109775610268\n",
      "TEST\n",
      "loss: 0.05289260321529582\n",
      "accuracy: tensor(0.9600)\n",
      "******************\n",
      "epoch: 24\n",
      "Train\n",
      "0.008250905978493393\n",
      "TEST\n",
      "loss: 0.12665296548773766\n",
      "accuracy: tensor(0.9400)\n",
      "******************\n",
      "epoch: 25\n",
      "Train\n",
      "0.012401722045615316\n",
      "TEST\n",
      "loss: 0.004057203959673643\n",
      "accuracy: tensor(1.)\n",
      "******************\n",
      "epoch: 26\n",
      "Train\n",
      "0.026926642055623232\n",
      "TEST\n",
      "loss: 0.01660112051788019\n",
      "accuracy: tensor(1.)\n",
      "******************\n",
      "epoch: 27\n",
      "Train\n",
      "0.21238709200173617\n",
      "TEST\n",
      "loss: 0.5089579999446869\n",
      "accuracy: tensor(0.7800)\n",
      "******************\n",
      "epoch: 28\n",
      "Train\n",
      "0.10129343427717685\n",
      "TEST\n",
      "loss: 0.3143950080871582\n",
      "accuracy: tensor(0.8800)\n",
      "******************\n",
      "epoch: 29\n",
      "Train\n",
      "0.011414053877815604\n",
      "TEST\n",
      "loss: 0.0167822777107358\n",
      "accuracy: tensor(1.)\n",
      "******************\n"
     ]
    }
   ],
   "source": [
    "for epoch in range(max_epoch):\n",
    "    print('epoch:', epoch)\n",
    "    model.train()\n",
    "    #all_ys = []\n",
    "    #all_preds = []\n",
    "    sum_loss = 0\n",
    "    #sum_accuracy = 0\n",
    "    cnt_objects = 0\n",
    "    for X, y in train_dataloader:\n",
    "        optimizer.zero_grad()\n",
    "        X = X.to(device)\n",
    "        scores = model(X)\n",
    "        loss = criterion(scores, y.to(device))\n",
    "        loss.backward()\n",
    "        optimizer.step()\n",
    "        sum_loss += float(loss) * len(y)\n",
    "        cnt_objects += len(y)\n",
    "\n",
    "        #all_ys.append(y)\n",
    "        #all_preds.append(preds)\n",
    "    mean_loss = sum_loss / cnt_objects\n",
    "    print('Train')\n",
    "    print(mean_loss)\n",
    "    \n",
    "    model.eval()\n",
    "    #all_ys = []\n",
    "    #all_preds = []\n",
    "    sum_loss = 0\n",
    "    sum_accuracy = 0\n",
    "    cnt_objects = 0\n",
    "    with torch.no_grad():\n",
    "        for X, y in test_dataloader:\n",
    "            X = X.to(device)\n",
    "            scores = model(X)\n",
    "            loss = criterion(scores, y.to(device))\n",
    "            sum_loss += float(loss) * len(y)\n",
    "            preds = scores.cpu().detach().argmax(dim=1)\n",
    "            accuracy = (y == preds).float().sum()\n",
    "            sum_accuracy += accuracy\n",
    "            cnt_objects += len(y)\n",
    "\n",
    "            #all_ys.append(y)\n",
    "            #all_preds.append(preds)\n",
    "\n",
    "    print('TEST')\n",
    "    mean_loss = sum_loss / cnt_objects\n",
    "    mean_accuracy = sum_accuracy / cnt_objects\n",
    "    print('loss:', mean_loss)\n",
    "    print('accuracy:', mean_accuracy)\n",
    "    print('******************')"
   ]
  },
  {
   "cell_type": "code",
   "execution_count": null,
   "metadata": {
    "papermill": {
     "duration": 0.025354,
     "end_time": "2021-03-15T12:43:16.553653",
     "exception": false,
     "start_time": "2021-03-15T12:43:16.528299",
     "status": "completed"
    },
    "tags": []
   },
   "outputs": [],
   "source": []
  }
 ],
 "metadata": {
  "kernelspec": {
   "display_name": "Python 3",
   "language": "python",
   "name": "python3"
  },
  "language_info": {
   "codemirror_mode": {
    "name": "ipython",
    "version": 3
   },
   "file_extension": ".py",
   "mimetype": "text/x-python",
   "name": "python",
   "nbconvert_exporter": "python",
   "pygments_lexer": "ipython3",
   "version": "3.7.9"
  },
  "papermill": {
   "default_parameters": {},
   "duration": 86.144003,
   "end_time": "2021-03-15T12:43:17.788938",
   "environment_variables": {},
   "exception": null,
   "input_path": "__notebook__.ipynb",
   "output_path": "__notebook__.ipynb",
   "parameters": {},
   "start_time": "2021-03-15T12:41:51.644935",
   "version": "2.2.2"
  },
  "widgets": {
   "application/vnd.jupyter.widget-state+json": {
    "state": {
     "1185c051d16c4ed38ccd7416165eb7be": {
      "model_module": "@jupyter-widgets/controls",
      "model_module_version": "1.5.0",
      "model_name": "HBoxModel",
      "state": {
       "_dom_classes": [],
       "_model_module": "@jupyter-widgets/controls",
       "_model_module_version": "1.5.0",
       "_model_name": "HBoxModel",
       "_view_count": null,
       "_view_module": "@jupyter-widgets/controls",
       "_view_module_version": "1.5.0",
       "_view_name": "HBoxView",
       "box_style": "",
       "children": [
        "IPY_MODEL_4725df23fc4a45d8b4db7a587d6bdbca",
        "IPY_MODEL_c411b9fa20d441d18b91a9c42fd76a74",
        "IPY_MODEL_c4327890e212484780a8c813461c30bb"
       ],
       "layout": "IPY_MODEL_fa4cec5e73844c0ea75d36b9dc28f3be"
      }
     },
     "28b361914f0e4926a742d63d3d1e2faf": {
      "model_module": "@jupyter-widgets/base",
      "model_module_version": "1.2.0",
      "model_name": "LayoutModel",
      "state": {
       "_model_module": "@jupyter-widgets/base",
       "_model_module_version": "1.2.0",
       "_model_name": "LayoutModel",
       "_view_count": null,
       "_view_module": "@jupyter-widgets/base",
       "_view_module_version": "1.2.0",
       "_view_name": "LayoutView",
       "align_content": null,
       "align_items": null,
       "align_self": null,
       "border": null,
       "bottom": null,
       "display": null,
       "flex": null,
       "flex_flow": null,
       "grid_area": null,
       "grid_auto_columns": null,
       "grid_auto_flow": null,
       "grid_auto_rows": null,
       "grid_column": null,
       "grid_gap": null,
       "grid_row": null,
       "grid_template_areas": null,
       "grid_template_columns": null,
       "grid_template_rows": null,
       "height": null,
       "justify_content": null,
       "justify_items": null,
       "left": null,
       "margin": null,
       "max_height": null,
       "max_width": null,
       "min_height": null,
       "min_width": null,
       "object_fit": null,
       "object_position": null,
       "order": null,
       "overflow": null,
       "overflow_x": null,
       "overflow_y": null,
       "padding": null,
       "right": null,
       "top": null,
       "visibility": null,
       "width": null
      }
     },
     "4725df23fc4a45d8b4db7a587d6bdbca": {
      "model_module": "@jupyter-widgets/controls",
      "model_module_version": "1.5.0",
      "model_name": "HTMLModel",
      "state": {
       "_dom_classes": [],
       "_model_module": "@jupyter-widgets/controls",
       "_model_module_version": "1.5.0",
       "_model_name": "HTMLModel",
       "_view_count": null,
       "_view_module": "@jupyter-widgets/controls",
       "_view_module_version": "1.5.0",
       "_view_name": "HTMLView",
       "description": "",
       "description_tooltip": null,
       "layout": "IPY_MODEL_75f264df47ca43ebb15784ff5f7f8513",
       "placeholder": "​",
       "style": "IPY_MODEL_80544331ab3645f3a5336630b8d52ff5",
       "value": "100%"
      }
     },
     "75f264df47ca43ebb15784ff5f7f8513": {
      "model_module": "@jupyter-widgets/base",
      "model_module_version": "1.2.0",
      "model_name": "LayoutModel",
      "state": {
       "_model_module": "@jupyter-widgets/base",
       "_model_module_version": "1.2.0",
       "_model_name": "LayoutModel",
       "_view_count": null,
       "_view_module": "@jupyter-widgets/base",
       "_view_module_version": "1.2.0",
       "_view_name": "LayoutView",
       "align_content": null,
       "align_items": null,
       "align_self": null,
       "border": null,
       "bottom": null,
       "display": null,
       "flex": null,
       "flex_flow": null,
       "grid_area": null,
       "grid_auto_columns": null,
       "grid_auto_flow": null,
       "grid_auto_rows": null,
       "grid_column": null,
       "grid_gap": null,
       "grid_row": null,
       "grid_template_areas": null,
       "grid_template_columns": null,
       "grid_template_rows": null,
       "height": null,
       "justify_content": null,
       "justify_items": null,
       "left": null,
       "margin": null,
       "max_height": null,
       "max_width": null,
       "min_height": null,
       "min_width": null,
       "object_fit": null,
       "object_position": null,
       "order": null,
       "overflow": null,
       "overflow_x": null,
       "overflow_y": null,
       "padding": null,
       "right": null,
       "top": null,
       "visibility": null,
       "width": null
      }
     },
     "80544331ab3645f3a5336630b8d52ff5": {
      "model_module": "@jupyter-widgets/controls",
      "model_module_version": "1.5.0",
      "model_name": "DescriptionStyleModel",
      "state": {
       "_model_module": "@jupyter-widgets/controls",
       "_model_module_version": "1.5.0",
       "_model_name": "DescriptionStyleModel",
       "_view_count": null,
       "_view_module": "@jupyter-widgets/base",
       "_view_module_version": "1.2.0",
       "_view_name": "StyleView",
       "description_width": ""
      }
     },
     "ab02a3aae3fd47248c90e40fa32c8c3e": {
      "model_module": "@jupyter-widgets/controls",
      "model_module_version": "1.5.0",
      "model_name": "DescriptionStyleModel",
      "state": {
       "_model_module": "@jupyter-widgets/controls",
       "_model_module_version": "1.5.0",
       "_model_name": "DescriptionStyleModel",
       "_view_count": null,
       "_view_module": "@jupyter-widgets/base",
       "_view_module_version": "1.2.0",
       "_view_name": "StyleView",
       "description_width": ""
      }
     },
     "c411b9fa20d441d18b91a9c42fd76a74": {
      "model_module": "@jupyter-widgets/controls",
      "model_module_version": "1.5.0",
      "model_name": "FloatProgressModel",
      "state": {
       "_dom_classes": [],
       "_model_module": "@jupyter-widgets/controls",
       "_model_module_version": "1.5.0",
       "_model_name": "FloatProgressModel",
       "_view_count": null,
       "_view_module": "@jupyter-widgets/controls",
       "_view_module_version": "1.5.0",
       "_view_name": "ProgressView",
       "bar_style": "success",
       "description": "",
       "description_tooltip": null,
       "layout": "IPY_MODEL_f0c09f8863d14a1bb43127bec7fbc805",
       "max": 46827520.0,
       "min": 0.0,
       "orientation": "horizontal",
       "style": "IPY_MODEL_cb32f10ded874db0b0d886f918aaf9ce",
       "value": 46827520.0
      }
     },
     "c4327890e212484780a8c813461c30bb": {
      "model_module": "@jupyter-widgets/controls",
      "model_module_version": "1.5.0",
      "model_name": "HTMLModel",
      "state": {
       "_dom_classes": [],
       "_model_module": "@jupyter-widgets/controls",
       "_model_module_version": "1.5.0",
       "_model_name": "HTMLModel",
       "_view_count": null,
       "_view_module": "@jupyter-widgets/controls",
       "_view_module_version": "1.5.0",
       "_view_name": "HTMLView",
       "description": "",
       "description_tooltip": null,
       "layout": "IPY_MODEL_28b361914f0e4926a742d63d3d1e2faf",
       "placeholder": "​",
       "style": "IPY_MODEL_ab02a3aae3fd47248c90e40fa32c8c3e",
       "value": " 44.7M/44.7M [00:02&lt;00:00, 21.7MB/s]"
      }
     },
     "cb32f10ded874db0b0d886f918aaf9ce": {
      "model_module": "@jupyter-widgets/controls",
      "model_module_version": "1.5.0",
      "model_name": "ProgressStyleModel",
      "state": {
       "_model_module": "@jupyter-widgets/controls",
       "_model_module_version": "1.5.0",
       "_model_name": "ProgressStyleModel",
       "_view_count": null,
       "_view_module": "@jupyter-widgets/base",
       "_view_module_version": "1.2.0",
       "_view_name": "StyleView",
       "bar_color": null,
       "description_width": ""
      }
     },
     "f0c09f8863d14a1bb43127bec7fbc805": {
      "model_module": "@jupyter-widgets/base",
      "model_module_version": "1.2.0",
      "model_name": "LayoutModel",
      "state": {
       "_model_module": "@jupyter-widgets/base",
       "_model_module_version": "1.2.0",
       "_model_name": "LayoutModel",
       "_view_count": null,
       "_view_module": "@jupyter-widgets/base",
       "_view_module_version": "1.2.0",
       "_view_name": "LayoutView",
       "align_content": null,
       "align_items": null,
       "align_self": null,
       "border": null,
       "bottom": null,
       "display": null,
       "flex": null,
       "flex_flow": null,
       "grid_area": null,
       "grid_auto_columns": null,
       "grid_auto_flow": null,
       "grid_auto_rows": null,
       "grid_column": null,
       "grid_gap": null,
       "grid_row": null,
       "grid_template_areas": null,
       "grid_template_columns": null,
       "grid_template_rows": null,
       "height": null,
       "justify_content": null,
       "justify_items": null,
       "left": null,
       "margin": null,
       "max_height": null,
       "max_width": null,
       "min_height": null,
       "min_width": null,
       "object_fit": null,
       "object_position": null,
       "order": null,
       "overflow": null,
       "overflow_x": null,
       "overflow_y": null,
       "padding": null,
       "right": null,
       "top": null,
       "visibility": null,
       "width": null
      }
     },
     "fa4cec5e73844c0ea75d36b9dc28f3be": {
      "model_module": "@jupyter-widgets/base",
      "model_module_version": "1.2.0",
      "model_name": "LayoutModel",
      "state": {
       "_model_module": "@jupyter-widgets/base",
       "_model_module_version": "1.2.0",
       "_model_name": "LayoutModel",
       "_view_count": null,
       "_view_module": "@jupyter-widgets/base",
       "_view_module_version": "1.2.0",
       "_view_name": "LayoutView",
       "align_content": null,
       "align_items": null,
       "align_self": null,
       "border": null,
       "bottom": null,
       "display": null,
       "flex": null,
       "flex_flow": null,
       "grid_area": null,
       "grid_auto_columns": null,
       "grid_auto_flow": null,
       "grid_auto_rows": null,
       "grid_column": null,
       "grid_gap": null,
       "grid_row": null,
       "grid_template_areas": null,
       "grid_template_columns": null,
       "grid_template_rows": null,
       "height": null,
       "justify_content": null,
       "justify_items": null,
       "left": null,
       "margin": null,
       "max_height": null,
       "max_width": null,
       "min_height": null,
       "min_width": null,
       "object_fit": null,
       "object_position": null,
       "order": null,
       "overflow": null,
       "overflow_x": null,
       "overflow_y": null,
       "padding": null,
       "right": null,
       "top": null,
       "visibility": null,
       "width": null
      }
     }
    },
    "version_major": 2,
    "version_minor": 0
   }
  }
 },
 "nbformat": 4,
 "nbformat_minor": 4
}
