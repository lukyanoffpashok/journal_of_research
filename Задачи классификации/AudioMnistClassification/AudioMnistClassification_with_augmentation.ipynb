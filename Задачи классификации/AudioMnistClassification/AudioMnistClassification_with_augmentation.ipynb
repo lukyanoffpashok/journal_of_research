{
  "nbformat": 4,
  "nbformat_minor": 0,
  "metadata": {
    "colab": {
      "name": "AudioMnistClassification.ipynb",
      "provenance": [],
      "collapsed_sections": []
    },
    "kernelspec": {
      "name": "python3",
      "display_name": "Python 3"
    },
    "accelerator": "GPU"
  },
  "cells": [
    {
      "cell_type": "code",
      "metadata": {
        "id": "BHgPYciuxy31"
      },
      "source": [
        "import numpy as np\r\n",
        "import matplotlib.pyplot as plt\r\n",
        "from sklearn.model_selection import train_test_split\r\n",
        "import librosa\r\n",
        "import librosa.display\r\n",
        "import os\r\n",
        "import torch\r\n",
        "from torch.utils.data import Dataset, DataLoader\r\n",
        "import random\r\n",
        "import skimage.io as io\r\n",
        "from tqdm import tqdm\r\n",
        "#from efficientnet_pytorch import EfficientNet"
      ],
      "execution_count": 1,
      "outputs": []
    },
    {
      "cell_type": "code",
      "metadata": {
        "id": "eJYkneVU-Y4L",
        "colab": {
          "base_uri": "https://localhost:8080/"
        },
        "outputId": "0935d338-d3be-40bf-f384-711ca23d528a"
      },
      "source": [
        "from google.colab import drive\r\n",
        "drive.mount('/content/drive')"
      ],
      "execution_count": 2,
      "outputs": [
        {
          "output_type": "stream",
          "text": [
            "Mounted at /content/drive\n"
          ],
          "name": "stdout"
        }
      ]
    },
    {
      "cell_type": "code",
      "metadata": {
        "colab": {
          "base_uri": "https://localhost:8080/"
        },
        "id": "sSXIGCB4NQ07",
        "outputId": "8f707bc0-fe44-4ec0-b642-f242a3425a88"
      },
      "source": [
        "!pip install efficientnet_pytorch\r\n",
        "from efficientnet_pytorch import EfficientNet"
      ],
      "execution_count": 3,
      "outputs": [
        {
          "output_type": "stream",
          "text": [
            "Collecting efficientnet_pytorch\n",
            "  Downloading https://files.pythonhosted.org/packages/4e/83/f9c5f44060f996279e474185ebcbd8dbd91179593bffb9abe3afa55d085b/efficientnet_pytorch-0.7.0.tar.gz\n",
            "Requirement already satisfied: torch in /usr/local/lib/python3.7/dist-packages (from efficientnet_pytorch) (1.8.0+cu101)\n",
            "Requirement already satisfied: numpy in /usr/local/lib/python3.7/dist-packages (from torch->efficientnet_pytorch) (1.19.5)\n",
            "Requirement already satisfied: typing-extensions in /usr/local/lib/python3.7/dist-packages (from torch->efficientnet_pytorch) (3.7.4.3)\n",
            "Building wheels for collected packages: efficientnet-pytorch\n",
            "  Building wheel for efficientnet-pytorch (setup.py) ... \u001b[?25l\u001b[?25hdone\n",
            "  Created wheel for efficientnet-pytorch: filename=efficientnet_pytorch-0.7.0-cp37-none-any.whl size=16031 sha256=8b6018190eccb1db75325df21f705f5b2b69bcc9f585f718245c2ba2c7f8d5fd\n",
            "  Stored in directory: /root/.cache/pip/wheels/e9/c6/e1/7a808b26406239712cfce4b5ceeb67d9513ae32aa4b31445c6\n",
            "Successfully built efficientnet-pytorch\n",
            "Installing collected packages: efficientnet-pytorch\n",
            "Successfully installed efficientnet-pytorch-0.7.0\n"
          ],
          "name": "stdout"
        }
      ]
    },
    {
      "cell_type": "code",
      "metadata": {
        "colab": {
          "base_uri": "https://localhost:8080/"
        },
        "id": "KC_7AZmQ9xcv",
        "outputId": "f61711fb-6010-45c5-c528-bf423eb894db"
      },
      "source": [
        "def seed_everything(seed=42):\r\n",
        "    print(f'setting everything to seed {seed}')\r\n",
        "    random.seed(seed)\r\n",
        "    os.environ['PYTHONHASHSEED'] = str(seed)\r\n",
        "    np.random.seed(seed)\r\n",
        "    torch.manual_seed(seed)\r\n",
        "    torch.cuda.manual_seed(seed)\r\n",
        "    torch.backends.cudnn.deterministic = True\r\n",
        "    torch.cuda.empty_cache()\r\n",
        "    \r\n",
        "seed_everything(42)"
      ],
      "execution_count": 4,
      "outputs": [
        {
          "output_type": "stream",
          "text": [
            "setting everything to seed 42\n"
          ],
          "name": "stdout"
        }
      ]
    },
    {
      "cell_type": "code",
      "metadata": {
        "id": "YJi6RRp_etDR"
      },
      "source": [
        "device = torch.device('cuda:0')"
      ],
      "execution_count": 5,
      "outputs": []
    },
    {
      "cell_type": "code",
      "metadata": {
        "id": "B1LVx4Kz9OiQ"
      },
      "source": [
        "data_dir = '/content/drive/My Drive/AudioMnist/free-spoken-digit-dataset-master/recordings'"
      ],
      "execution_count": 6,
      "outputs": []
    },
    {
      "cell_type": "code",
      "metadata": {
        "id": "89tYkcZwzVtJ"
      },
      "source": [
        "def mono_to_color(X, eps=1e-6, mean=None, std=None):\r\n",
        "    #X = np.stack([X, X, X])\r\n",
        "\r\n",
        "    # Standardize\r\n",
        "    mean = mean or X.mean()\r\n",
        "    std = std or X.std()\r\n",
        "    X = (X - mean) / (std + eps)\r\n",
        "\r\n",
        "    # Normalize to [0, 255]\r\n",
        "    _min, _max = X.min(), X.max()\r\n",
        "\r\n",
        "    if (_max - _min) > eps:\r\n",
        "        V = np.clip(X, _min, _max)\r\n",
        "        V = 255 * (V - _min) / (_max - _min)\r\n",
        "        V = V.astype(np.uint8)\r\n",
        "    else:\r\n",
        "        V = np.zeros_like(X, dtype=np.uint8)\r\n",
        "\r\n",
        "    return V\r\n",
        "\r\n",
        "\r\n",
        "def normalize(image, mean=None, std=None):\r\n",
        "    image = image / 255.0\r\n",
        "    if mean is not None and std is not None:\r\n",
        "        image = (image - mean) / std\r\n",
        "    return image.astype(np.float32)"
      ],
      "execution_count": 7,
      "outputs": []
    },
    {
      "cell_type": "code",
      "metadata": {
        "id": "DOAMJn8NfQUL"
      },
      "source": [
        "def noise_time(image, p = 0.05):\r\n",
        "    m1 = image.shape[1]\r\n",
        "    m0 = image.shape[0]\r\n",
        "    n = int(m1 * p)\r\n",
        "    idx = np.random.randint(0, m1 - n)\r\n",
        "    noise = np.random.randn(m0, n) * 0.01\r\n",
        "    image[:, idx:idx + n] += noise\r\n",
        "    return image\r\n",
        "\r\n",
        "def noise_freq(image, p = 0.05):\r\n",
        "    m1 = image.shape[1]\r\n",
        "    m0 = image.shape[0]\r\n",
        "    n = int(m0 * p)\r\n",
        "    idx = np.random.randint(0, m0 - n)\r\n",
        "    noise = np.random.randn(n, m1) * 0.01\r\n",
        "    image[idx:idx + n, :] += noise\r\n",
        "    return image\r\n",
        "\r\n",
        "def augmentation(image):\r\n",
        "    t = np.random.rand()\r\n",
        "    if t < 0.33:\r\n",
        "        return noise_time(image)\r\n",
        "    elif t < 0.66:\r\n",
        "        return noise_freq(image)\r\n",
        "    else:\r\n",
        "        return image\r\n"
      ],
      "execution_count": 20,
      "outputs": []
    },
    {
      "cell_type": "code",
      "metadata": {
        "id": "LN1b9x-OoTbN"
      },
      "source": [
        "recordings_old = sorted(os.listdir(data_dir))"
      ],
      "execution_count": 9,
      "outputs": []
    },
    {
      "cell_type": "code",
      "metadata": {
        "id": "rF1q6o6B_pSS"
      },
      "source": [
        "NUM_SAMPLES = 11022\r\n",
        "sr = 48000\r\n",
        "fmin = 84\r\n",
        "fmax = sr // 2\r\n",
        "nmels = 128"
      ],
      "execution_count": 10,
      "outputs": []
    },
    {
      "cell_type": "code",
      "metadata": {
        "id": "BuCeyC373Px2",
        "colab": {
          "base_uri": "https://localhost:8080/"
        },
        "outputId": "bf3d559c-39fe-4de3-c767-a8fad16a1745"
      },
      "source": [
        "recordings = []\r\n",
        "i = 0\r\n",
        "for x in recordings_old:\r\n",
        "    if i % 100 == 0:\r\n",
        "        print(i)\r\n",
        "    i += 1\r\n",
        "    y, _ = librosa.load(data_dir + '/' + x, sr = sr)\r\n",
        "    if y.shape[0] >= NUM_SAMPLES:\r\n",
        "        recordings.append(x)"
      ],
      "execution_count": 11,
      "outputs": [
        {
          "output_type": "stream",
          "text": [
            "0\n",
            "100\n",
            "200\n",
            "300\n",
            "400\n",
            "500\n",
            "600\n",
            "700\n",
            "800\n",
            "900\n",
            "1000\n",
            "1100\n",
            "1200\n",
            "1300\n",
            "1400\n",
            "1500\n",
            "1600\n",
            "1700\n",
            "1800\n",
            "1900\n",
            "2000\n",
            "2100\n",
            "2200\n",
            "2300\n",
            "2400\n",
            "2500\n",
            "2600\n",
            "2700\n",
            "2800\n",
            "2900\n"
          ],
          "name": "stdout"
        }
      ]
    },
    {
      "cell_type": "code",
      "metadata": {
        "colab": {
          "base_uri": "https://localhost:8080/"
        },
        "id": "NSDpEEAy_vsd",
        "outputId": "55cb6384-35f7-4e03-8c44-a58e3480f8ef"
      },
      "source": [
        "len(recordings)"
      ],
      "execution_count": 12,
      "outputs": [
        {
          "output_type": "execute_result",
          "data": {
            "text/plain": [
              "2903"
            ]
          },
          "metadata": {
            "tags": []
          },
          "execution_count": 12
        }
      ]
    },
    {
      "cell_type": "code",
      "metadata": {
        "id": "oxZW0imClFjV"
      },
      "source": [
        "y, _ = librosa.load(data_dir + '/' + recordings[700], sr = sr)"
      ],
      "execution_count": 13,
      "outputs": []
    },
    {
      "cell_type": "code",
      "metadata": {
        "id": "WeWpiMT6pi2R"
      },
      "source": [
        "samples = y[:NUM_SAMPLES]\r\n",
        "melspec = librosa.feature.melspectrogram(samples, sr=sr, n_mels=nmels, fmin=fmin, fmax=fmax)\r\n",
        "melspec = librosa.power_to_db(melspec)\r\n",
        "melspec = mono_to_color(melspec)\r\n",
        "#melspec = normalize(melspec, mean=None, std=None)\r\n",
        "#melspec = self.img_transform(image=melspec)['image']"
      ],
      "execution_count": 14,
      "outputs": []
    },
    {
      "cell_type": "code",
      "metadata": {
        "colab": {
          "base_uri": "https://localhost:8080/",
          "height": 395
        },
        "id": "2XpsgkkjsJaF",
        "outputId": "e9375d44-f40c-4b9c-9f65-fe60775ac34f"
      },
      "source": [
        "plt.figure(figsize = (20, 6))\r\n",
        "plt.imshow(melspec)"
      ],
      "execution_count": 15,
      "outputs": [
        {
          "output_type": "execute_result",
          "data": {
            "text/plain": [
              "<matplotlib.image.AxesImage at 0x7feabc0ba910>"
            ]
          },
          "metadata": {
            "tags": []
          },
          "execution_count": 15
        },
        {
          "output_type": "display_data",
          "data": {
            "image/png": "[encoded data removed]",
            "text/plain": [
              "<Figure size 1440x432 with 1 Axes>"
            ]
          },
          "metadata": {
            "tags": [],
            "needs_background": "light"
          }
        }
      ]
    },
    {
      "cell_type": "code",
      "metadata": {
        "colab": {
          "base_uri": "https://localhost:8080/",
          "height": 279
        },
        "id": "23gh9l-PO3hy",
        "outputId": "78ec50fd-e009-401b-9324-e87d7e80b57a"
      },
      "source": [
        "librosa.display.specshow(melspec, sr=sr, x_axis='time', y_axis='mel');\r\n",
        "plt.colorbar(format='%+2.0f dB');"
      ],
      "execution_count": null,
      "outputs": [
        {
          "output_type": "display_data",
          "data": {
            "image/png": "[encoded data removed]",
            "text/plain": [
              "<Figure size 432x288 with 2 Axes>"
            ]
          },
          "metadata": {
            "tags": [],
            "needs_background": "light"
          }
        }
      ]
    },
    {
      "cell_type": "code",
      "metadata": {
        "colab": {
          "base_uri": "https://localhost:8080/"
        },
        "id": "ZlGX0G6s9MbV",
        "outputId": "a5486241-d340-4627-dc1f-6fcbcc259864"
      },
      "source": [
        "image_size = melspec.shape\r\n",
        "image_size"
      ],
      "execution_count": 16,
      "outputs": [
        {
          "output_type": "execute_result",
          "data": {
            "text/plain": [
              "(128, 22)"
            ]
          },
          "metadata": {
            "tags": []
          },
          "execution_count": 16
        }
      ]
    },
    {
      "cell_type": "code",
      "metadata": {
        "id": "aGkwlWbYpAUy"
      },
      "source": [
        "#num_samples = []\r\n",
        "#for x in recordings:\r\n",
        "#    y, _ = librosa.load(data_dir + '/' + x, sr = sr)\r\n",
        "#    num_samples.append(y.shape[0])"
      ],
      "execution_count": null,
      "outputs": []
    },
    {
      "cell_type": "code",
      "metadata": {
        "colab": {
          "base_uri": "https://localhost:8080/"
        },
        "id": "4jbgWO118tKP",
        "outputId": "c3e50d4d-efac-4468-8126-cbfc2bc8e856"
      },
      "source": [
        "#min_num_samples = np.min(num_samples)\r\n",
        "#min_num_samples"
      ],
      "execution_count": null,
      "outputs": [
        {
          "output_type": "execute_result",
          "data": {
            "text/plain": [
              "6888"
            ]
          },
          "metadata": {
            "tags": []
          },
          "execution_count": 21
        }
      ]
    },
    {
      "cell_type": "code",
      "metadata": {
        "id": "HKCcD_OFYwlB"
      },
      "source": [
        "def get_spectrogram(filename, augment = False):\r\n",
        "    y, _ = librosa.load(filename, sr = sr)\r\n",
        "    samples = y[:NUM_SAMPLES]\r\n",
        "    melspec = librosa.feature.melspectrogram(samples, sr=sr, n_mels=nmels, fmin=fmin, fmax=fmax)\r\n",
        "    melspec = librosa.power_to_db(melspec)\r\n",
        "    melspec = mono_to_color(melspec)\r\n",
        "    melspec = normalize(melspec, mean=None, std=None)\r\n",
        "    #melspec = self.img_transform(image=melspec)['image']\r\n",
        "    if augment:\r\n",
        "        melspec = augmentation(melspec)\r\n",
        "\r\n",
        "    return torch.tensor(melspec.reshape(1, 128, 22), dtype=torch.float32)"
      ],
      "execution_count": 29,
      "outputs": []
    },
    {
      "cell_type": "code",
      "metadata": {
        "id": "NZ-IOkKDet-5"
      },
      "source": [
        "class AudioMNIST(Dataset):\r\n",
        "    def __init__(self, mode = 'train', data_dir='./', train_size=0.75, random_seed=42, recordings=[]):\r\n",
        "        super().__init__()\r\n",
        "        keys = np.arange(len(recordings))\r\n",
        "        train_keys, test_keys = train_test_split(keys, train_size=train_size, random_state=random_seed)\r\n",
        "        augment = False\r\n",
        "        if mode == 'train':\r\n",
        "            keys = train_keys\r\n",
        "            augment = True\r\n",
        "        else:\r\n",
        "            keys = test_keys\r\n",
        "        self.n = len(keys)\r\n",
        "        self.data = []\r\n",
        "        self.labels = []\r\n",
        "        for i in keys:\r\n",
        "            self.data.append(get_spectrogram(data_dir + '/' + recordings[i], augment))\r\n",
        "            self.labels.append(int(recordings[i][0]))\r\n",
        "        \r\n",
        "\r\n",
        "    def __getitem__(self, i):     \r\n",
        "        return self.data[i], self.labels[i]\r\n",
        "\r\n",
        "    def __len__(self):\r\n",
        "        return self.n\r\n"
      ],
      "execution_count": 32,
      "outputs": []
    },
    {
      "cell_type": "code",
      "metadata": {
        "id": "qmeOMC8qwp8M"
      },
      "source": [
        "train_dataset = AudioMNIST(mode='train', data_dir=data_dir, recordings=recordings)\r\n",
        "test_dataset = AudioMNIST(mode='test', data_dir=data_dir, recordings=recordings)"
      ],
      "execution_count": 33,
      "outputs": []
    },
    {
      "cell_type": "code",
      "metadata": {
        "colab": {
          "base_uri": "https://localhost:8080/"
        },
        "id": "-44JfWsiXjR2",
        "outputId": "e30a9616-7c00-4262-ea8a-ddc556420d60"
      },
      "source": [
        "len(train_dataset)"
      ],
      "execution_count": 34,
      "outputs": [
        {
          "output_type": "execute_result",
          "data": {
            "text/plain": [
              "2177"
            ]
          },
          "metadata": {
            "tags": []
          },
          "execution_count": 34
        }
      ]
    },
    {
      "cell_type": "code",
      "metadata": {
        "id": "yzVdkVsswp_x"
      },
      "source": [
        "batch_size = 32\r\n",
        "\r\n",
        "train_dataloader = DataLoader(train_dataset, batch_size=batch_size, shuffle=True)\r\n",
        "test_dataloader = DataLoader(test_dataset, batch_size=batch_size, shuffle=False)"
      ],
      "execution_count": 35,
      "outputs": []
    },
    {
      "cell_type": "code",
      "metadata": {
        "id": "RCbJIkFXwqDi"
      },
      "source": [
        "model = EfficientNet.from_name('efficientnet-b0', in_channels=1, num_classes=10, image_size=image_size).to(device)"
      ],
      "execution_count": 36,
      "outputs": []
    },
    {
      "cell_type": "code",
      "metadata": {
        "id": "4u8BhMTjV17P"
      },
      "source": [
        "max_epoch = 30\r\n",
        "criterion = torch.nn.CrossEntropyLoss()\r\n",
        "optimizer = torch.optim.Adam(model.parameters())"
      ],
      "execution_count": 37,
      "outputs": []
    },
    {
      "cell_type": "code",
      "metadata": {
        "id": "NH0stQRjeuCZ",
        "colab": {
          "base_uri": "https://localhost:8080/"
        },
        "outputId": "0c0b39d6-cacd-4cbb-826d-1ea3cf133f80"
      },
      "source": [
        "for epoch in range(max_epoch):\r\n",
        "    print('epoch:', epoch)\r\n",
        "    model.train()\r\n",
        "    #all_ys = []\r\n",
        "    #all_preds = []\r\n",
        "    sum_loss = 0\r\n",
        "    #sum_accuracy = 0\r\n",
        "    cnt_objects = 0\r\n",
        "    for X, y in train_dataloader:\r\n",
        "        optimizer.zero_grad()\r\n",
        "        X = X.to(device)\r\n",
        "        scores = model(X)\r\n",
        "        loss = criterion(scores, y.to(device))\r\n",
        "        loss.backward()\r\n",
        "        optimizer.step()\r\n",
        "        sum_loss += float(loss) * len(y)\r\n",
        "        cnt_objects += len(y)\r\n",
        "\r\n",
        "        #all_ys.append(y)\r\n",
        "        #all_preds.append(preds)\r\n",
        "    mean_loss = sum_loss / cnt_objects\r\n",
        "    print('Train')\r\n",
        "    print(mean_loss)\r\n",
        "    \r\n",
        "    #model.eval()\r\n",
        "    #all_ys = []\r\n",
        "    #all_preds = []\r\n",
        "    sum_loss = 0\r\n",
        "    sum_accuracy = 0\r\n",
        "    cnt_objects = 0\r\n",
        "    with torch.no_grad():\r\n",
        "        for X, y in test_dataloader:\r\n",
        "            X = X.to(device)\r\n",
        "            scores = model(X)\r\n",
        "            loss = criterion(scores, y.to(device))\r\n",
        "            sum_loss += float(loss) * len(y)\r\n",
        "            preds = scores.cpu().detach().argmax(dim=1)\r\n",
        "            accuracy = (y == preds).float().sum()\r\n",
        "            sum_accuracy += accuracy\r\n",
        "            cnt_objects += len(y)\r\n",
        "\r\n",
        "            #all_ys.append(y)\r\n",
        "            #all_preds.append(preds)\r\n",
        "\r\n",
        "    print('TEST')\r\n",
        "    mean_loss = sum_loss / cnt_objects\r\n",
        "    mean_accuracy = sum_accuracy / cnt_objects\r\n",
        "    print('loss:', mean_loss)\r\n",
        "    print('accuracy:', mean_accuracy)\r\n",
        "    print('*************')"
      ],
      "execution_count": 38,
      "outputs": [
        {
          "output_type": "stream",
          "text": [
            "epoch: 0\n",
            "Train\n",
            "1.8708316452962082\n",
            "TEST\n",
            "loss: 1.2355487977177644\n",
            "accuracy: tensor(0.5537)\n",
            "*************\n",
            "epoch: 1\n",
            "Train\n",
            "0.979564918637221\n",
            "TEST\n",
            "loss: 0.9937992598399643\n",
            "accuracy: tensor(0.6708)\n",
            "*************\n",
            "epoch: 2\n",
            "Train\n",
            "0.6193865767081616\n",
            "TEST\n",
            "loss: 0.7147386652050596\n",
            "accuracy: tensor(0.7824)\n",
            "*************\n",
            "epoch: 3\n",
            "Train\n",
            "0.42878965210027525\n",
            "TEST\n",
            "loss: 0.676845744457455\n",
            "accuracy: tensor(0.7879)\n",
            "*************\n",
            "epoch: 4\n",
            "Train\n",
            "0.3200772140460875\n",
            "TEST\n",
            "loss: 0.5355167140973829\n",
            "accuracy: tensor(0.8485)\n",
            "*************\n",
            "epoch: 5\n",
            "Train\n",
            "0.28194292066948207\n",
            "TEST\n",
            "loss: 0.6770171005863789\n",
            "accuracy: tensor(0.8182)\n",
            "*************\n",
            "epoch: 6\n",
            "Train\n",
            "0.23417673715495932\n",
            "TEST\n",
            "loss: 0.48313275053481425\n",
            "accuracy: tensor(0.8705)\n",
            "*************\n",
            "epoch: 7\n",
            "Train\n",
            "0.2025831257689147\n",
            "TEST\n",
            "loss: 0.4205607018194908\n",
            "accuracy: tensor(0.8871)\n",
            "*************\n",
            "epoch: 8\n",
            "Train\n",
            "0.1243599943053465\n",
            "TEST\n",
            "loss: 0.41486150206941547\n",
            "accuracy: tensor(0.8871)\n",
            "*************\n",
            "epoch: 9\n",
            "Train\n",
            "0.1455857868746546\n",
            "TEST\n",
            "loss: 0.5294010718006733\n",
            "accuracy: tensor(0.8430)\n",
            "*************\n",
            "epoch: 10\n",
            "Train\n",
            "0.20159615036211379\n",
            "TEST\n",
            "loss: 0.5586464258921705\n",
            "accuracy: tensor(0.8664)\n",
            "*************\n",
            "epoch: 11\n",
            "Train\n",
            "0.13683155934691266\n",
            "TEST\n",
            "loss: 0.4164981979969119\n",
            "accuracy: tensor(0.8884)\n",
            "*************\n",
            "epoch: 12\n",
            "Train\n",
            "0.10143144250080352\n",
            "TEST\n",
            "loss: 0.515426528601607\n",
            "accuracy: tensor(0.8939)\n",
            "*************\n",
            "epoch: 13\n",
            "Train\n",
            "0.09603529781459065\n",
            "TEST\n",
            "loss: 0.4474462142250098\n",
            "accuracy: tensor(0.8815)\n",
            "*************\n",
            "epoch: 14\n",
            "Train\n",
            "0.11431648123275265\n",
            "TEST\n",
            "loss: 0.42123285510651665\n",
            "accuracy: tensor(0.8994)\n",
            "*************\n",
            "epoch: 15\n",
            "Train\n",
            "0.07637601360151622\n",
            "TEST\n",
            "loss: 0.505745566088306\n",
            "accuracy: tensor(0.8857)\n",
            "*************\n",
            "epoch: 16\n",
            "Train\n",
            "0.05962454091601816\n",
            "TEST\n",
            "loss: 0.4625753296882981\n",
            "accuracy: tensor(0.8939)\n",
            "*************\n",
            "epoch: 17\n",
            "Train\n",
            "0.040525125999296266\n",
            "TEST\n",
            "loss: 0.43694089127309393\n",
            "accuracy: tensor(0.9077)\n",
            "*************\n",
            "epoch: 18\n",
            "Train\n",
            "0.05372853906885933\n",
            "TEST\n",
            "loss: 0.5141686139110034\n",
            "accuracy: tensor(0.9077)\n",
            "*************\n",
            "epoch: 19\n",
            "Train\n",
            "0.05910821900038638\n",
            "TEST\n",
            "loss: 0.4594158336479145\n",
            "accuracy: tensor(0.8994)\n",
            "*************\n",
            "epoch: 20\n",
            "Train\n",
            "0.03954234440863598\n",
            "TEST\n",
            "loss: 0.5047432837735851\n",
            "accuracy: tensor(0.8939)\n",
            "*************\n",
            "epoch: 21\n",
            "Train\n",
            "0.02979455309713385\n",
            "TEST\n",
            "loss: 0.45553947792237126\n",
            "accuracy: tensor(0.9008)\n",
            "*************\n",
            "epoch: 22\n",
            "Train\n",
            "0.06462041175845953\n",
            "TEST\n",
            "loss: 0.41389655393674024\n",
            "accuracy: tensor(0.9118)\n",
            "*************\n",
            "epoch: 23\n",
            "Train\n",
            "0.07425340436155992\n",
            "TEST\n",
            "loss: 0.454257008457972\n",
            "accuracy: tensor(0.8967)\n",
            "*************\n",
            "epoch: 24\n",
            "Train\n",
            "0.0610999563810718\n",
            "TEST\n",
            "loss: 0.5347161891539235\n",
            "accuracy: tensor(0.8871)\n",
            "*************\n",
            "epoch: 25\n",
            "Train\n",
            "0.08042624227096852\n",
            "TEST\n",
            "loss: 0.4169619047280514\n",
            "accuracy: tensor(0.9077)\n",
            "*************\n",
            "epoch: 26\n",
            "Train\n",
            "0.06514902016747748\n",
            "TEST\n",
            "loss: 0.4551587434839611\n",
            "accuracy: tensor(0.9050)\n",
            "*************\n",
            "epoch: 27\n",
            "Train\n",
            "0.060520544593411954\n",
            "TEST\n",
            "loss: 0.4778965005019972\n",
            "accuracy: tensor(0.9091)\n",
            "*************\n",
            "epoch: 28\n",
            "Train\n",
            "0.0337096811329957\n",
            "TEST\n",
            "loss: 0.44351950041518723\n",
            "accuracy: tensor(0.9118)\n",
            "*************\n",
            "epoch: 29\n",
            "Train\n",
            "0.03812922333522461\n",
            "TEST\n",
            "loss: 0.554119172831869\n",
            "accuracy: tensor(0.9050)\n",
            "*************\n"
          ],
          "name": "stdout"
        }
      ]
    },
    {
      "cell_type": "code",
      "metadata": {
        "id": "0Dq7vV-deuGI"
      },
      "source": [
        ""
      ],
      "execution_count": null,
      "outputs": []
    }
  ]
}