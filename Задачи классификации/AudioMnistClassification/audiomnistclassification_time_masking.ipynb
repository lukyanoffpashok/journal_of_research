{
 "cells": [
  {
   "cell_type": "code",
   "execution_count": 1,
   "metadata": {
    "_cell_guid": "b1076dfc-b9ad-4769-8c92-a6c4dae69d19",
    "_uuid": "8f2839f25d086af736a60e9eeb907d3b93b6e0e5",
    "execution": {
     "iopub.execute_input": "2021-04-05T17:13:14.896666Z",
     "iopub.status.busy": "2021-04-05T17:13:14.896029Z",
     "iopub.status.idle": "2021-04-05T17:13:18.918110Z",
     "shell.execute_reply": "2021-04-05T17:13:18.918745Z"
    },
    "papermill": {
     "duration": 4.04201,
     "end_time": "2021-04-05T17:13:18.919085",
     "exception": false,
     "start_time": "2021-04-05T17:13:14.877075",
     "status": "completed"
    },
    "tags": []
   },
   "outputs": [
    {
     "name": "stderr",
     "output_type": "stream",
     "text": [
      "/opt/conda/lib/python3.7/site-packages/torchaudio/backend/utils.py:54: UserWarning: \"sox\" backend is being deprecated. The default backend will be changed to \"sox_io\" backend in 0.8.0 and \"sox\" backend will be removed in 0.9.0. Please migrate to \"sox_io\" backend. Please refer to https://github.com/pytorch/audio/issues/903 for the detail.\n",
      "  '\"sox\" backend is being deprecated. '\n"
     ]
    }
   ],
   "source": [
    "import numpy as np\n",
    "import matplotlib.pyplot as plt\n",
    "from sklearn.model_selection import train_test_split\n",
    "import librosa\n",
    "import librosa.display\n",
    "import os\n",
    "import copy\n",
    "import torch\n",
    "from torch.utils.data import Dataset, DataLoader\n",
    "import random\n",
    "import skimage.io as io\n",
    "import pandas as pd\n",
    "from torchvision.models import resnet18\n",
    "import torchaudio.transforms as T\n",
    "from tqdm import tqdm"
   ]
  },
  {
   "cell_type": "code",
   "execution_count": 2,
   "metadata": {
    "execution": {
     "iopub.execute_input": "2021-04-05T17:13:18.950294Z",
     "iopub.status.busy": "2021-04-05T17:13:18.948551Z",
     "iopub.status.idle": "2021-04-05T17:13:18.950900Z",
     "shell.execute_reply": "2021-04-05T17:13:18.951309Z"
    },
    "papermill": {
     "duration": 0.019409,
     "end_time": "2021-04-05T17:13:18.951435",
     "exception": false,
     "start_time": "2021-04-05T17:13:18.932026",
     "status": "completed"
    },
    "tags": []
   },
   "outputs": [],
   "source": [
    "def seed_everything(seed=42):\n",
    "    print(f'setting everything to seed {seed}')\n",
    "    random.seed(seed)\n",
    "    os.environ['PYTHONHASHSEED'] = str(seed)\n",
    "    np.random.seed(seed)\n",
    "    torch.manual_seed(seed)\n",
    "    torch.cuda.manual_seed(seed)\n",
    "    torch.backends.cudnn.deterministic = True\n",
    "    torch.cuda.empty_cache()"
   ]
  },
  {
   "cell_type": "code",
   "execution_count": 3,
   "metadata": {
    "execution": {
     "iopub.execute_input": "2021-04-05T17:13:18.980040Z",
     "iopub.status.busy": "2021-04-05T17:13:18.979413Z",
     "iopub.status.idle": "2021-04-05T17:13:18.982557Z",
     "shell.execute_reply": "2021-04-05T17:13:18.982136Z"
    },
    "papermill": {
     "duration": 0.0198,
     "end_time": "2021-04-05T17:13:18.982665",
     "exception": false,
     "start_time": "2021-04-05T17:13:18.962865",
     "status": "completed"
    },
    "tags": []
   },
   "outputs": [],
   "source": [
    "device = torch.device('cuda:0')\n",
    "data_dir = '/kaggle/input/free-spoken-digits/free-spoken-digit-dataset-master/recordings'"
   ]
  },
  {
   "cell_type": "code",
   "execution_count": 4,
   "metadata": {
    "execution": {
     "iopub.execute_input": "2021-04-05T17:13:19.014349Z",
     "iopub.status.busy": "2021-04-05T17:13:19.013488Z",
     "iopub.status.idle": "2021-04-05T17:13:19.016033Z",
     "shell.execute_reply": "2021-04-05T17:13:19.015626Z"
    },
    "papermill": {
     "duration": 0.0218,
     "end_time": "2021-04-05T17:13:19.016149",
     "exception": false,
     "start_time": "2021-04-05T17:13:18.994349",
     "status": "completed"
    },
    "tags": []
   },
   "outputs": [],
   "source": [
    "def mono_to_color(X, eps=1e-6, mean=None, std=None):\n",
    "    # Standardize\n",
    "    mean = mean or X.mean()\n",
    "    std = std or X.std()\n",
    "    X = (X - mean) / (std + eps)\n",
    "    # Normalize to [0, 255]\n",
    "    _min, _max = X.min(), X.max()\n",
    "    if (_max - _min) > eps:\n",
    "        V = np.clip(X, _min, _max)\n",
    "        V = 255 * (V - _min) / (_max - _min)\n",
    "        V = V.astype(np.uint8)\n",
    "    else:\n",
    "        V = np.zeros_like(X, dtype=np.uint8)\n",
    "    return V\n",
    "\n",
    "def normalize(image, mean=None, std=None):\n",
    "    image = image / 255.0\n",
    "    if mean is not None and std is not None:\n",
    "        image = (image - mean) / std\n",
    "    return image.astype(np.float32)"
   ]
  },
  {
   "cell_type": "code",
   "execution_count": 5,
   "metadata": {
    "execution": {
     "iopub.execute_input": "2021-04-05T17:13:19.044360Z",
     "iopub.status.busy": "2021-04-05T17:13:19.043679Z",
     "iopub.status.idle": "2021-04-05T17:13:19.046668Z",
     "shell.execute_reply": "2021-04-05T17:13:19.046143Z"
    },
    "papermill": {
     "duration": 0.018785,
     "end_time": "2021-04-05T17:13:19.046776",
     "exception": false,
     "start_time": "2021-04-05T17:13:19.027991",
     "status": "completed"
    },
    "tags": []
   },
   "outputs": [],
   "source": [
    "NUM_SAMPLES = 11022\n",
    "sr = 48000\n",
    "fmin = 84\n",
    "fmax = sr // 2\n",
    "nmels = 128\n",
    "batch_size = 32\n",
    "random_seed = 42\n",
    "train_size = 0.8"
   ]
  },
  {
   "cell_type": "code",
   "execution_count": 6,
   "metadata": {
    "execution": {
     "iopub.execute_input": "2021-04-05T17:13:19.074238Z",
     "iopub.status.busy": "2021-04-05T17:13:19.073680Z",
     "iopub.status.idle": "2021-04-05T17:13:19.679496Z",
     "shell.execute_reply": "2021-04-05T17:13:19.680169Z"
    },
    "papermill": {
     "duration": 0.62158,
     "end_time": "2021-04-05T17:13:19.680411",
     "exception": false,
     "start_time": "2021-04-05T17:13:19.058831",
     "status": "completed"
    },
    "tags": []
   },
   "outputs": [],
   "source": [
    "recordings_old = sorted(os.listdir(data_dir))"
   ]
  },
  {
   "cell_type": "code",
   "execution_count": 7,
   "metadata": {
    "execution": {
     "iopub.execute_input": "2021-04-05T17:13:19.728122Z",
     "iopub.status.busy": "2021-04-05T17:13:19.727621Z",
     "iopub.status.idle": "2021-04-05T17:14:52.141523Z",
     "shell.execute_reply": "2021-04-05T17:14:52.140986Z"
    },
    "papermill": {
     "duration": 92.439785,
     "end_time": "2021-04-05T17:14:52.141670",
     "exception": false,
     "start_time": "2021-04-05T17:13:19.701885",
     "status": "completed"
    },
    "tags": []
   },
   "outputs": [],
   "source": [
    "recordings = []\n",
    "for x in recordings_old:\n",
    "    y, _ = librosa.load(data_dir + '/' + x, sr = sr)\n",
    "    if y.shape[0] >= NUM_SAMPLES:\n",
    "        recordings.append(x)"
   ]
  },
  {
   "cell_type": "code",
   "execution_count": 8,
   "metadata": {
    "execution": {
     "iopub.execute_input": "2021-04-05T17:14:52.172298Z",
     "iopub.status.busy": "2021-04-05T17:14:52.171733Z",
     "iopub.status.idle": "2021-04-05T17:14:52.176637Z",
     "shell.execute_reply": "2021-04-05T17:14:52.177032Z"
    },
    "papermill": {
     "duration": 0.022567,
     "end_time": "2021-04-05T17:14:52.177152",
     "exception": false,
     "start_time": "2021-04-05T17:14:52.154585",
     "status": "completed"
    },
    "tags": []
   },
   "outputs": [
    {
     "data": {
      "text/plain": [
       "2903"
      ]
     },
     "execution_count": 8,
     "metadata": {},
     "output_type": "execute_result"
    }
   ],
   "source": [
    "len(recordings)"
   ]
  },
  {
   "cell_type": "code",
   "execution_count": 9,
   "metadata": {
    "execution": {
     "iopub.execute_input": "2021-04-05T17:14:52.208064Z",
     "iopub.status.busy": "2021-04-05T17:14:52.207575Z",
     "iopub.status.idle": "2021-04-05T17:14:52.365870Z",
     "shell.execute_reply": "2021-04-05T17:14:52.366295Z"
    },
    "papermill": {
     "duration": 0.175958,
     "end_time": "2021-04-05T17:14:52.366442",
     "exception": false,
     "start_time": "2021-04-05T17:14:52.190484",
     "status": "completed"
    },
    "tags": []
   },
   "outputs": [
    {
     "data": {
      "image/png": "[encoded data removed]",
      "text/plain": [
       "<Figure size 1440x432 with 1 Axes>"
      ]
     },
     "metadata": {
      "needs_background": "light"
     },
     "output_type": "display_data"
    }
   ],
   "source": [
    "y, _ = librosa.load(data_dir + '/' + recordings[700], sr = sr)\n",
    "samples = y[:NUM_SAMPLES]\n",
    "melspec = librosa.feature.melspectrogram(samples, sr=sr, n_mels=nmels, fmin=fmin, fmax=fmax)\n",
    "melspec = librosa.power_to_db(melspec)\n",
    "melspec = mono_to_color(melspec)\n",
    "melspec = normalize(melspec, mean=None, std=None)\n",
    "plt.figure(figsize = (20, 6))\n",
    "plt.imshow(melspec)\n",
    "plt.show()"
   ]
  },
  {
   "cell_type": "code",
   "execution_count": 10,
   "metadata": {
    "execution": {
     "iopub.execute_input": "2021-04-05T17:14:52.397475Z",
     "iopub.status.busy": "2021-04-05T17:14:52.396836Z",
     "iopub.status.idle": "2021-04-05T17:14:52.401700Z",
     "shell.execute_reply": "2021-04-05T17:14:52.401284Z"
    },
    "papermill": {
     "duration": 0.02186,
     "end_time": "2021-04-05T17:14:52.401805",
     "exception": false,
     "start_time": "2021-04-05T17:14:52.379945",
     "status": "completed"
    },
    "tags": []
   },
   "outputs": [
    {
     "data": {
      "text/plain": [
       "(128, 22)"
      ]
     },
     "execution_count": 10,
     "metadata": {},
     "output_type": "execute_result"
    }
   ],
   "source": [
    "image_size = melspec.shape\n",
    "image_size"
   ]
  },
  {
   "cell_type": "code",
   "execution_count": 11,
   "metadata": {
    "execution": {
     "iopub.execute_input": "2021-04-05T17:14:52.441438Z",
     "iopub.status.busy": "2021-04-05T17:14:52.440696Z",
     "iopub.status.idle": "2021-04-05T17:14:52.443114Z",
     "shell.execute_reply": "2021-04-05T17:14:52.443618Z"
    },
    "papermill": {
     "duration": 0.028077,
     "end_time": "2021-04-05T17:14:52.443748",
     "exception": false,
     "start_time": "2021-04-05T17:14:52.415671",
     "status": "completed"
    },
    "tags": []
   },
   "outputs": [],
   "source": [
    "def noise_augmentation(im, var = 0.01):\n",
    "    noise = var * torch.randn(im.shape[1], im.shape[2])\n",
    "    im[0, :, :] += noise\n",
    "    im[1, :, :] += noise\n",
    "    im[2, :, :] += noise\n",
    "    return im\n",
    "\n",
    "def shift_augmentation(image, max_shift = 2):\n",
    "    shift = np.random.randint(max_shift)\n",
    "    p = np.random.rand()\n",
    "    if p < 0.5:\n",
    "        image[:, :, shift:] = image[:, :, :image.shape[2] - shift]\n",
    "        image[:, :, :shift] = 0.0\n",
    "    else:\n",
    "        image[:, :, :image.shape[2] - shift] = image[:, :, shift:]\n",
    "        image[:, :, image.shape[2] - shift:] = 0.0\n",
    "    return image\n",
    "    \n",
    "def random_erasing(image, max_a = 12, max_b = 2):\n",
    "    a = np.random.randint(max_a)\n",
    "    b = np.random.randint(max_b)\n",
    "    a0 = np.random.randint(image.shape[1] - max_a)\n",
    "    b0 = np.random.randint(image.shape[2] - max_a)\n",
    "    image[:, a0 : a0 + a, b0 : b0 + b] = 0\n",
    "    return image\n",
    "    \n",
    "    \n",
    "def augmentation(im, mode = 'No'):\n",
    "    image = im.clone()\n",
    "    if mode == 'TimeMasking':\n",
    "        return T.TimeMasking(2)(image)\n",
    "    if mode == 'FreqMasking':\n",
    "        return T.FrequencyMasking(12)(image)\n",
    "    if mode == 'RandomErasing':\n",
    "        return random_erasing(image, 12, 2)\n",
    "    if mode == 'Shift':\n",
    "        return shift_augmentation(image)\n",
    "    if mode == 'Noise':\n",
    "        return noise_augmentation(image)\n",
    "    \n",
    "    return image"
   ]
  },
  {
   "cell_type": "code",
   "execution_count": 12,
   "metadata": {
    "execution": {
     "iopub.execute_input": "2021-04-05T17:14:52.477146Z",
     "iopub.status.busy": "2021-04-05T17:14:52.476513Z",
     "iopub.status.idle": "2021-04-05T17:14:52.479348Z",
     "shell.execute_reply": "2021-04-05T17:14:52.478806Z"
    },
    "papermill": {
     "duration": 0.021771,
     "end_time": "2021-04-05T17:14:52.479477",
     "exception": false,
     "start_time": "2021-04-05T17:14:52.457706",
     "status": "completed"
    },
    "tags": []
   },
   "outputs": [],
   "source": [
    "def get_spectrogram(filename):\n",
    "    y, _ = librosa.load(filename, sr = sr)\n",
    "    samples = y[:NUM_SAMPLES]\n",
    "    melspec = librosa.feature.melspectrogram(samples, sr=sr, n_mels=nmels, fmin=fmin, fmax=fmax)\n",
    "    melspec = librosa.power_to_db(melspec)\n",
    "    melspec = mono_to_color(melspec)\n",
    "    melspec = normalize(melspec, mean=None, std=None)\n",
    "    return torch.tensor(melspec, dtype=torch.float32)"
   ]
  },
  {
   "cell_type": "code",
   "execution_count": 13,
   "metadata": {
    "execution": {
     "iopub.execute_input": "2021-04-05T17:14:52.511999Z",
     "iopub.status.busy": "2021-04-05T17:14:52.511175Z",
     "iopub.status.idle": "2021-04-05T17:16:19.381207Z",
     "shell.execute_reply": "2021-04-05T17:16:19.379996Z"
    },
    "papermill": {
     "duration": 86.887928,
     "end_time": "2021-04-05T17:16:19.381369",
     "exception": false,
     "start_time": "2021-04-05T17:14:52.493441",
     "status": "completed"
    },
    "tags": []
   },
   "outputs": [],
   "source": [
    "data = []\n",
    "labels = []\n",
    "for i in range(len(recordings)):\n",
    "    data.append(get_spectrogram(data_dir + '/' + recordings[i]))\n",
    "    labels.append(int(recordings[i][0]))\n"
   ]
  },
  {
   "cell_type": "code",
   "execution_count": 14,
   "metadata": {
    "execution": {
     "iopub.execute_input": "2021-04-05T17:16:19.422329Z",
     "iopub.status.busy": "2021-04-05T17:16:19.420398Z",
     "iopub.status.idle": "2021-04-05T17:16:19.422980Z",
     "shell.execute_reply": "2021-04-05T17:16:19.423415Z"
    },
    "papermill": {
     "duration": 0.025814,
     "end_time": "2021-04-05T17:16:19.423547",
     "exception": false,
     "start_time": "2021-04-05T17:16:19.397733",
     "status": "completed"
    },
    "tags": []
   },
   "outputs": [],
   "source": [
    "keys = np.arange(len(data))\n",
    "train_keys, test_keys = train_test_split(keys, train_size=train_size, random_state=random_seed)\n",
    "train_keys, valid_keys = train_test_split(train_keys, train_size=train_size, random_state=random_seed)"
   ]
  },
  {
   "cell_type": "code",
   "execution_count": 15,
   "metadata": {
    "execution": {
     "iopub.execute_input": "2021-04-05T17:16:19.462659Z",
     "iopub.status.busy": "2021-04-05T17:16:19.461994Z",
     "iopub.status.idle": "2021-04-05T17:16:19.465861Z",
     "shell.execute_reply": "2021-04-05T17:16:19.465271Z"
    },
    "papermill": {
     "duration": 0.026686,
     "end_time": "2021-04-05T17:16:19.465982",
     "exception": false,
     "start_time": "2021-04-05T17:16:19.439296",
     "status": "completed"
    },
    "tags": []
   },
   "outputs": [],
   "source": [
    "class AudioMNIST(Dataset):\n",
    "    def __init__(self, keys, mode = 'train', data = [], labels = [], augment = False, aug_type = 'No'):\n",
    "        super().__init__()\n",
    "        self.n = len(keys)\n",
    "        self.data = []\n",
    "        self.labels = []\n",
    "        self.augment = augment\n",
    "        self.aug_type = aug_type\n",
    "        for i in keys:\n",
    "            self.data.append(data[i])\n",
    "            self.labels.append(labels[i])\n",
    "\n",
    "    def __getitem__(self, i):\n",
    "        X = self.data[i]\n",
    "        X = torch.stack([X, X, X])\n",
    "        if self.augment:\n",
    "            X = augmentation(X, self.aug_type)\n",
    "        return X, self.labels[i]\n",
    "\n",
    "    def __len__(self):\n",
    "        return self.n"
   ]
  },
  {
   "cell_type": "code",
   "execution_count": 16,
   "metadata": {
    "execution": {
     "iopub.execute_input": "2021-04-05T17:16:19.510706Z",
     "iopub.status.busy": "2021-04-05T17:16:19.508858Z",
     "iopub.status.idle": "2021-04-05T17:16:19.511772Z",
     "shell.execute_reply": "2021-04-05T17:16:19.512175Z"
    },
    "papermill": {
     "duration": 0.030683,
     "end_time": "2021-04-05T17:16:19.512319",
     "exception": false,
     "start_time": "2021-04-05T17:16:19.481636",
     "status": "completed"
    },
    "tags": []
   },
   "outputs": [],
   "source": [
    "def train(model, loss_fn, train_loader, valid_loader, epochs, optimizer, augment = 'No'):\n",
    "    best_model_wts = copy.deepcopy(model.state_dict())\n",
    "    best_acc = 0.0\n",
    "    train_losses = []\n",
    "    valid_losses = []\n",
    "    valid_acc = []\n",
    "    best_train_acc = 0.0\n",
    "    for epoch in range(epochs):\n",
    "        print('epoch:', epoch)\n",
    "        model.train()\n",
    "        sum_loss = 0\n",
    "        sum_accuracy = 0\n",
    "        cnt_objects = 0\n",
    "        for X, y in train_dataloader:\n",
    "            optimizer.zero_grad()\n",
    "            X = X.to(device)\n",
    "            scores = model(X)\n",
    "            loss = criterion(scores, y.to(device))\n",
    "            loss.backward()\n",
    "            optimizer.step()\n",
    "            sum_loss += float(loss) * len(y)\n",
    "            cnt_objects += len(y)\n",
    "\n",
    "        mean_loss = sum_loss / cnt_objects\n",
    "        train_losses.append(mean_loss)\n",
    "        print('Train')\n",
    "        print(mean_loss)\n",
    "\n",
    "        model.eval()\n",
    "        sum_loss = 0\n",
    "        sum_accuracy = 0\n",
    "        cnt_objects = 0\n",
    "        with torch.no_grad():\n",
    "            for X, y in valid_loader:\n",
    "                X = X.to(device)\n",
    "                scores = model(X)\n",
    "                loss = criterion(scores, y.to(device))\n",
    "                sum_loss += float(loss) * len(y)\n",
    "                preds = scores.cpu().detach().argmax(dim=1)\n",
    "                accuracy = float((y == preds).float().sum())\n",
    "                sum_accuracy += accuracy\n",
    "                cnt_objects += len(y)\n",
    "\n",
    "        print('TEST')\n",
    "        mean_loss = sum_loss / cnt_objects\n",
    "        valid_losses.append(mean_loss)\n",
    "        mean_accuracy = sum_accuracy / cnt_objects\n",
    "        valid_acc.append(mean_accuracy)\n",
    "        if mean_accuracy > best_acc:\n",
    "            best_acc = mean_accuracy\n",
    "            best_model_wts = copy.deepcopy(model.state_dict())\n",
    "        print('loss:', mean_loss)\n",
    "        print('accuracy:', mean_accuracy)\n",
    "        print('******************')\n",
    "    print('Accuracy on the validation: ', best_acc)\n",
    "    model.load_state_dict(best_model_wts)\n",
    "    return model, train_losses, valid_losses, valid_acc"
   ]
  },
  {
   "cell_type": "code",
   "execution_count": 17,
   "metadata": {
    "execution": {
     "iopub.execute_input": "2021-04-05T17:16:19.549279Z",
     "iopub.status.busy": "2021-04-05T17:16:19.548668Z",
     "iopub.status.idle": "2021-04-05T17:16:19.552986Z",
     "shell.execute_reply": "2021-04-05T17:16:19.552555Z"
    },
    "papermill": {
     "duration": 0.024937,
     "end_time": "2021-04-05T17:16:19.553089",
     "exception": false,
     "start_time": "2021-04-05T17:16:19.528152",
     "status": "completed"
    },
    "tags": []
   },
   "outputs": [],
   "source": [
    "def evaluate(model, test_loader):\n",
    "    model.eval()\n",
    "    #all_preds = []\n",
    "    sum_accuracy = 0\n",
    "    cnt_objects = 0\n",
    "    with torch.no_grad():\n",
    "        for X, y in test_loader:\n",
    "            X = X.to(device)\n",
    "            scores = model(X)\n",
    "            preds = scores.cpu().detach().argmax(dim=1)\n",
    "            accuracy = float((y == preds).float().sum())\n",
    "            sum_accuracy += accuracy\n",
    "            cnt_objects += len(y)\n",
    "            #all_preds.append(preds)\n",
    "\n",
    "    mean_accuracy = sum_accuracy / cnt_objects\n",
    "    print('Quality of the model')\n",
    "    print('accuracy:', mean_accuracy)"
   ]
  },
  {
   "cell_type": "markdown",
   "metadata": {
    "papermill": {
     "duration": 0.014831,
     "end_time": "2021-04-05T17:16:19.582980",
     "exception": false,
     "start_time": "2021-04-05T17:16:19.568149",
     "status": "completed"
    },
    "tags": []
   },
   "source": [
    "## Resnet18"
   ]
  },
  {
   "cell_type": "markdown",
   "metadata": {
    "papermill": {
     "duration": 0.01477,
     "end_time": "2021-04-05T17:16:19.613015",
     "exception": false,
     "start_time": "2021-04-05T17:16:19.598245",
     "status": "completed"
    },
    "tags": []
   },
   "source": [
    "### TimeMasking"
   ]
  },
  {
   "cell_type": "code",
   "execution_count": 18,
   "metadata": {
    "execution": {
     "iopub.execute_input": "2021-04-05T17:16:19.652295Z",
     "iopub.status.busy": "2021-04-05T17:16:19.651718Z",
     "iopub.status.idle": "2021-04-05T17:19:09.770930Z",
     "shell.execute_reply": "2021-04-05T17:19:09.771545Z"
    },
    "papermill": {
     "duration": 170.143923,
     "end_time": "2021-04-05T17:19:09.771772",
     "exception": false,
     "start_time": "2021-04-05T17:16:19.627849",
     "status": "completed"
    },
    "tags": []
   },
   "outputs": [
    {
     "name": "stdout",
     "output_type": "stream",
     "text": [
      "setting everything to seed 42\n"
     ]
    },
    {
     "name": "stderr",
     "output_type": "stream",
     "text": [
      "Downloading: \"https://download.pytorch.org/models/resnet18-5c106cde.pth\" to /root/.cache/torch/hub/checkpoints/resnet18-5c106cde.pth\n"
     ]
    },
    {
     "data": {
      "application/vnd.jupyter.widget-view+json": {
       "model_id": "9e462cb1ec804799a4113fa81e309121",
       "version_major": 2,
       "version_minor": 0
      },
      "text/plain": [
       "  0%|          | 0.00/44.7M [00:00<?, ?B/s]"
      ]
     },
     "metadata": {},
     "output_type": "display_data"
    },
    {
     "name": "stdout",
     "output_type": "stream",
     "text": [
      "epoch: 0\n",
      "Train\n",
      "1.158642588087995\n",
      "TEST\n",
      "loss: 0.8354669761914079\n",
      "accuracy: 0.7849462365591398\n",
      "******************\n",
      "epoch: 1\n",
      "Train\n",
      "0.42287121296699287\n",
      "TEST\n",
      "loss: 0.42535810624399495\n",
      "accuracy: 0.8774193548387097\n",
      "******************\n",
      "epoch: 2\n",
      "Train\n",
      "0.3263067111701945\n",
      "TEST\n",
      "loss: 0.46331043698454416\n",
      "accuracy: 0.8494623655913979\n",
      "******************\n",
      "epoch: 3\n",
      "Train\n",
      "0.25921567675883755\n",
      "TEST\n",
      "loss: 0.3892828215834915\n",
      "accuracy: 0.9096774193548387\n",
      "******************\n",
      "epoch: 4\n",
      "Train\n",
      "0.21474429947365722\n",
      "TEST\n",
      "loss: 0.2090125115247824\n",
      "accuracy: 0.9397849462365592\n",
      "******************\n",
      "epoch: 5\n",
      "Train\n",
      "0.1798115959396013\n",
      "TEST\n",
      "loss: 0.5319930814927624\n",
      "accuracy: 0.864516129032258\n",
      "******************\n",
      "epoch: 6\n",
      "Train\n",
      "0.19087582445459206\n",
      "TEST\n",
      "loss: 0.192754778009589\n",
      "accuracy: 0.9440860215053763\n",
      "******************\n",
      "epoch: 7\n",
      "Train\n",
      "0.14864950434906096\n",
      "TEST\n",
      "loss: 0.29354888048543726\n",
      "accuracy: 0.9311827956989247\n",
      "******************\n",
      "epoch: 8\n",
      "Train\n",
      "0.11476597249283223\n",
      "TEST\n",
      "loss: 0.21041176371196266\n",
      "accuracy: 0.9440860215053763\n",
      "******************\n",
      "epoch: 9\n",
      "Train\n",
      "0.16445592681310095\n",
      "TEST\n",
      "loss: 0.383243162913989\n",
      "accuracy: 0.9247311827956989\n",
      "******************\n",
      "epoch: 10\n",
      "Train\n",
      "0.17988836119331592\n",
      "TEST\n",
      "loss: 0.20101433800112817\n",
      "accuracy: 0.9376344086021505\n",
      "******************\n",
      "epoch: 11\n",
      "Train\n",
      "0.09116848336315052\n",
      "TEST\n",
      "loss: 0.2164817778013086\n",
      "accuracy: 0.9397849462365592\n",
      "******************\n",
      "epoch: 12\n",
      "Train\n",
      "0.11046341764522484\n",
      "TEST\n",
      "loss: 0.3969463286380614\n",
      "accuracy: 0.9010752688172043\n",
      "******************\n",
      "epoch: 13\n",
      "Train\n",
      "0.0933826581550402\n",
      "TEST\n",
      "loss: 0.2967514241895368\n",
      "accuracy: 0.9075268817204301\n",
      "******************\n",
      "epoch: 14\n",
      "Train\n",
      "0.07769286518592505\n",
      "TEST\n",
      "loss: 0.20775524276879526\n",
      "accuracy: 0.946236559139785\n",
      "******************\n",
      "epoch: 15\n",
      "Train\n",
      "0.06906938224059957\n",
      "TEST\n",
      "loss: 0.23130424370368322\n",
      "accuracy: 0.9376344086021505\n",
      "******************\n",
      "epoch: 16\n",
      "Train\n",
      "0.08064930129938698\n",
      "TEST\n",
      "loss: 0.18824003055211036\n",
      "accuracy: 0.9505376344086022\n",
      "******************\n",
      "epoch: 17\n",
      "Train\n",
      "0.10925529968930336\n",
      "TEST\n",
      "loss: 0.2889985780882579\n",
      "accuracy: 0.9354838709677419\n",
      "******************\n",
      "epoch: 18\n",
      "Train\n",
      "0.043872005602582594\n",
      "TEST\n",
      "loss: 0.17740008622928652\n",
      "accuracy: 0.967741935483871\n",
      "******************\n",
      "epoch: 19\n",
      "Train\n",
      "0.04259743780503526\n",
      "TEST\n",
      "loss: 0.18083034414167126\n",
      "accuracy: 0.9634408602150538\n",
      "******************\n",
      "epoch: 20\n",
      "Train\n",
      "0.035042423894353046\n",
      "TEST\n",
      "loss: 0.19954146860888408\n",
      "accuracy: 0.9634408602150538\n",
      "******************\n",
      "epoch: 21\n",
      "Train\n",
      "0.026968410734125346\n",
      "TEST\n",
      "loss: 0.24580659778708572\n",
      "accuracy: 0.9483870967741935\n",
      "******************\n",
      "epoch: 22\n",
      "Train\n",
      "0.05240979849866917\n",
      "TEST\n",
      "loss: 0.19883833450655783\n",
      "accuracy: 0.9397849462365592\n",
      "******************\n",
      "epoch: 23\n",
      "Train\n",
      "0.08603803772132244\n",
      "TEST\n",
      "loss: 0.3466987532633607\n",
      "accuracy: 0.9182795698924732\n",
      "******************\n",
      "epoch: 24\n",
      "Train\n",
      "0.054169092531976486\n",
      "TEST\n",
      "loss: 0.17674005612410526\n",
      "accuracy: 0.9548387096774194\n",
      "******************\n",
      "epoch: 25\n",
      "Train\n",
      "0.01965762367176156\n",
      "TEST\n",
      "loss: 0.16995229007255647\n",
      "accuracy: 0.9763440860215054\n",
      "******************\n",
      "epoch: 26\n",
      "Train\n",
      "0.012559512103509056\n",
      "TEST\n",
      "loss: 0.1654048558534874\n",
      "accuracy: 0.9720430107526882\n",
      "******************\n",
      "epoch: 27\n",
      "Train\n",
      "0.015819189789181894\n",
      "TEST\n",
      "loss: 0.19108018626368814\n",
      "accuracy: 0.9655913978494624\n",
      "******************\n",
      "epoch: 28\n",
      "Train\n",
      "0.041156316451391325\n",
      "TEST\n",
      "loss: 0.2627531992852367\n",
      "accuracy: 0.9397849462365592\n",
      "******************\n",
      "epoch: 29\n",
      "Train\n",
      "0.07727949332102821\n",
      "TEST\n",
      "loss: 0.2698696741654027\n",
      "accuracy: 0.9526881720430107\n",
      "******************\n",
      "epoch: 30\n",
      "Train\n",
      "0.08356654491149165\n",
      "TEST\n",
      "loss: 0.3763935331054913\n",
      "accuracy: 0.9311827956989247\n",
      "******************\n",
      "epoch: 31\n",
      "Train\n",
      "0.09198600837161416\n",
      "TEST\n",
      "loss: 0.3814926596738959\n",
      "accuracy: 0.9161290322580645\n",
      "******************\n",
      "epoch: 32\n",
      "Train\n",
      "0.07093125845741442\n",
      "TEST\n",
      "loss: 0.25002605335045885\n",
      "accuracy: 0.946236559139785\n",
      "******************\n",
      "epoch: 33\n",
      "Train\n",
      "0.044421096457249704\n",
      "TEST\n",
      "loss: 0.19508086543890737\n",
      "accuracy: 0.956989247311828\n",
      "******************\n",
      "epoch: 34\n",
      "Train\n",
      "0.06997456709921007\n",
      "TEST\n",
      "loss: 0.31721618986257943\n",
      "accuracy: 0.9440860215053763\n",
      "******************\n",
      "epoch: 35\n",
      "Train\n",
      "0.046681559444031503\n",
      "TEST\n",
      "loss: 0.2293921159039582\n",
      "accuracy: 0.9548387096774194\n",
      "******************\n",
      "epoch: 36\n",
      "Train\n",
      "0.05407600470717774\n",
      "TEST\n",
      "loss: 0.30410094054876474\n",
      "accuracy: 0.9376344086021505\n",
      "******************\n",
      "epoch: 37\n",
      "Train\n",
      "0.044133426142103194\n",
      "TEST\n",
      "loss: 0.16640131520808385\n",
      "accuracy: 0.956989247311828\n",
      "******************\n",
      "epoch: 38\n",
      "Train\n",
      "0.021032511744614114\n",
      "TEST\n",
      "loss: 0.1572623010043816\n",
      "accuracy: 0.9698924731182795\n",
      "******************\n",
      "epoch: 39\n",
      "Train\n",
      "0.01488136911918206\n",
      "TEST\n",
      "loss: 0.22432363375380476\n",
      "accuracy: 0.956989247311828\n",
      "******************\n",
      "epoch: 40\n",
      "Train\n",
      "0.014427671403065926\n",
      "TEST\n",
      "loss: 0.20158745260728944\n",
      "accuracy: 0.9612903225806452\n",
      "******************\n",
      "epoch: 41\n",
      "Train\n",
      "0.011817319869947975\n",
      "TEST\n",
      "loss: 0.17969693880007473\n",
      "accuracy: 0.967741935483871\n",
      "******************\n",
      "epoch: 42\n",
      "Train\n",
      "0.009758091543730415\n",
      "TEST\n",
      "loss: 0.17984197883195774\n",
      "accuracy: 0.9634408602150538\n",
      "******************\n",
      "epoch: 43\n",
      "Train\n",
      "0.025753931107534135\n",
      "TEST\n",
      "loss: 0.17023162051274252\n",
      "accuracy: 0.9698924731182795\n",
      "******************\n",
      "epoch: 44\n",
      "Train\n",
      "0.02064522921985871\n",
      "TEST\n",
      "loss: 0.5834894004047558\n",
      "accuracy: 0.8838709677419355\n",
      "******************\n",
      "epoch: 45\n",
      "Train\n",
      "0.06111216364658097\n",
      "TEST\n",
      "loss: 0.17293752375789867\n",
      "accuracy: 0.9655913978494624\n",
      "******************\n",
      "epoch: 46\n",
      "Train\n",
      "0.07787345899655156\n",
      "TEST\n",
      "loss: 0.5082255105818472\n",
      "accuracy: 0.9247311827956989\n",
      "******************\n",
      "epoch: 47\n",
      "Train\n",
      "0.05114096606538446\n",
      "TEST\n",
      "loss: 0.1600803683882439\n",
      "accuracy: 0.956989247311828\n",
      "******************\n",
      "epoch: 48\n",
      "Train\n",
      "0.014884919025441236\n",
      "TEST\n",
      "loss: 0.20773279661392813\n",
      "accuracy: 0.956989247311828\n",
      "******************\n",
      "epoch: 49\n",
      "Train\n",
      "0.015189795927372778\n",
      "TEST\n",
      "loss: 0.1919663659126688\n",
      "accuracy: 0.956989247311828\n",
      "******************\n",
      "epoch: 50\n",
      "Train\n",
      "0.016028493238080397\n",
      "TEST\n",
      "loss: 0.29711356179448223\n",
      "accuracy: 0.9548387096774194\n",
      "******************\n",
      "epoch: 51\n",
      "Train\n",
      "0.036436470959678606\n",
      "TEST\n",
      "loss: 0.3731485818022041\n",
      "accuracy: 0.9247311827956989\n",
      "******************\n",
      "epoch: 52\n",
      "Train\n",
      "0.03185306365767721\n",
      "TEST\n",
      "loss: 0.30522660971969684\n",
      "accuracy: 0.9505376344086022\n",
      "******************\n",
      "epoch: 53\n",
      "Train\n",
      "0.06077464368403977\n",
      "TEST\n",
      "loss: 0.2655254652503357\n",
      "accuracy: 0.946236559139785\n",
      "******************\n",
      "epoch: 54\n",
      "Train\n",
      "0.016210337121573246\n",
      "TEST\n",
      "loss: 0.20115498333208023\n",
      "accuracy: 0.9505376344086022\n",
      "******************\n",
      "epoch: 55\n",
      "Train\n",
      "0.053492725460188774\n",
      "TEST\n",
      "loss: 0.28477358965463534\n",
      "accuracy: 0.9397849462365592\n",
      "******************\n",
      "epoch: 56\n",
      "Train\n",
      "0.03407573633048409\n",
      "TEST\n",
      "loss: 0.21900266455386275\n",
      "accuracy: 0.956989247311828\n",
      "******************\n",
      "epoch: 57\n",
      "Train\n",
      "0.017594579920698284\n",
      "TEST\n",
      "loss: 0.19483214949247657\n",
      "accuracy: 0.9612903225806452\n",
      "******************\n",
      "epoch: 58\n",
      "Train\n",
      "0.008526680635099787\n",
      "TEST\n",
      "loss: 0.15532071370511286\n",
      "accuracy: 0.9698924731182795\n",
      "******************\n",
      "epoch: 59\n",
      "Train\n",
      "0.022022468219955058\n",
      "TEST\n",
      "loss: 0.2275207600606385\n",
      "accuracy: 0.9548387096774194\n",
      "******************\n",
      "epoch: 60\n",
      "Train\n",
      "0.030482870375654295\n",
      "TEST\n",
      "loss: 0.1591237232689896\n",
      "accuracy: 0.9612903225806452\n",
      "******************\n",
      "epoch: 61\n",
      "Train\n",
      "0.00949200344867262\n",
      "TEST\n",
      "loss: 0.16349909586571557\n",
      "accuracy: 0.9634408602150538\n",
      "******************\n",
      "epoch: 62\n",
      "Train\n",
      "0.01236802952273312\n",
      "TEST\n",
      "loss: 0.1836189040773979\n",
      "accuracy: 0.9612903225806452\n",
      "******************\n",
      "epoch: 63\n",
      "Train\n",
      "0.014409257217391114\n",
      "TEST\n",
      "loss: 0.16661818483694185\n",
      "accuracy: 0.9612903225806452\n",
      "******************\n",
      "epoch: 64\n",
      "Train\n",
      "0.0028408728975012265\n",
      "TEST\n",
      "loss: 0.16223176294857616\n",
      "accuracy: 0.9655913978494624\n",
      "******************\n",
      "epoch: 65\n",
      "Train\n",
      "0.011153222099182286\n",
      "TEST\n",
      "loss: 0.3364870479991359\n",
      "accuracy: 0.9247311827956989\n",
      "******************\n",
      "epoch: 66\n",
      "Train\n",
      "0.037612990407984326\n",
      "TEST\n",
      "loss: 0.2189978289668278\n",
      "accuracy: 0.9483870967741935\n",
      "******************\n",
      "epoch: 67\n",
      "Train\n",
      "0.026041018839285588\n",
      "TEST\n",
      "loss: 0.24607552069249333\n",
      "accuracy: 0.9419354838709677\n",
      "******************\n",
      "epoch: 68\n",
      "Train\n",
      "0.021030504782957475\n",
      "TEST\n",
      "loss: 0.22790964369371694\n",
      "accuracy: 0.9634408602150538\n",
      "******************\n",
      "epoch: 69\n",
      "Train\n",
      "0.023118831149082256\n",
      "TEST\n",
      "loss: 0.20601198745701182\n",
      "accuracy: 0.9612903225806452\n",
      "******************\n",
      "epoch: 70\n",
      "Train\n",
      "0.0499191678755535\n",
      "TEST\n",
      "loss: 0.2198309305714824\n",
      "accuracy: 0.9612903225806452\n",
      "******************\n",
      "epoch: 71\n",
      "Train\n",
      "0.04874008167966374\n",
      "TEST\n",
      "loss: 0.16444174007222218\n",
      "accuracy: 0.9591397849462365\n",
      "******************\n",
      "epoch: 72\n",
      "Train\n",
      "0.028887211606428067\n",
      "TEST\n",
      "loss: 0.26717738819418735\n",
      "accuracy: 0.9548387096774194\n",
      "******************\n",
      "epoch: 73\n",
      "Train\n",
      "0.04458583251201519\n",
      "TEST\n",
      "loss: 0.32090022951885255\n",
      "accuracy: 0.9333333333333333\n",
      "******************\n",
      "epoch: 74\n",
      "Train\n",
      "0.03906486127435294\n",
      "TEST\n",
      "loss: 0.2073974725840393\n",
      "accuracy: 0.9612903225806452\n",
      "******************\n",
      "Accuracy on the validation:  0.9763440860215054\n"
     ]
    }
   ],
   "source": [
    "seed_everything(42)\n",
    "\n",
    "train_dataset = AudioMNIST(mode='train', data = data, labels = labels, augment = True, aug_type = 'TimeMasking', keys = train_keys)\n",
    "valid_dataset = AudioMNIST(mode='valid', data = data, labels = labels, keys = valid_keys)\n",
    "test_dataset = AudioMNIST(mode='test', data = data, labels = labels, keys = test_keys)\n",
    "\n",
    "train_dataloader = DataLoader(train_dataset, batch_size=batch_size, shuffle=True)\n",
    "valid_dataloader = DataLoader(valid_dataset, batch_size=batch_size, shuffle=False)\n",
    "test_dataloader = DataLoader(test_dataset, batch_size=batch_size, shuffle=False)\n",
    "\n",
    "model = resnet18(pretrained=True)\n",
    "num_ftrs = model.fc.in_features\n",
    "model.fc = torch.nn.Linear(num_ftrs, 10)\n",
    "model = model.to(device)\n",
    "\n",
    "epochs = 75\n",
    "criterion = torch.nn.CrossEntropyLoss()\n",
    "optimizer = torch.optim.Adam(model.parameters())\n",
    "\n",
    "model, train_losses, valid_losses, valid_acc = train(model, criterion, train_dataloader, valid_dataloader, epochs, optimizer)"
   ]
  },
  {
   "cell_type": "code",
   "execution_count": 19,
   "metadata": {
    "execution": {
     "iopub.execute_input": "2021-04-05T17:19:09.846986Z",
     "iopub.status.busy": "2021-04-05T17:19:09.846095Z",
     "iopub.status.idle": "2021-04-05T17:19:09.981715Z",
     "shell.execute_reply": "2021-04-05T17:19:09.982330Z"
    },
    "papermill": {
     "duration": 0.175414,
     "end_time": "2021-04-05T17:19:09.982522",
     "exception": false,
     "start_time": "2021-04-05T17:19:09.807108",
     "status": "completed"
    },
    "tags": []
   },
   "outputs": [
    {
     "name": "stdout",
     "output_type": "stream",
     "text": [
      "Quality of the model\n",
      "accuracy: 0.9518072289156626\n"
     ]
    }
   ],
   "source": [
    "evaluate(model, test_dataloader)"
   ]
  },
  {
   "cell_type": "code",
   "execution_count": 20,
   "metadata": {
    "execution": {
     "iopub.execute_input": "2021-04-05T17:19:10.073853Z",
     "iopub.status.busy": "2021-04-05T17:19:10.072972Z",
     "iopub.status.idle": "2021-04-05T17:19:10.222469Z",
     "shell.execute_reply": "2021-04-05T17:19:10.222883Z"
    },
    "papermill": {
     "duration": 0.204217,
     "end_time": "2021-04-05T17:19:10.223027",
     "exception": false,
     "start_time": "2021-04-05T17:19:10.018810",
     "status": "completed"
    },
    "tags": []
   },
   "outputs": [
    {
     "data": {
      "image/png": "[encoded data removed]",
      "text/plain": [
       "<Figure size 432x288 with 1 Axes>"
      ]
     },
     "metadata": {
      "needs_background": "light"
     },
     "output_type": "display_data"
    }
   ],
   "source": [
    "plt.plot(np.arange(epochs), train_losses, label = 'train_loss')\n",
    "plt.plot(np.arange(epochs), valid_losses, label = 'valid_loss')\n",
    "plt.plot(np.arange(epochs), valid_acc, label = 'valid_accuracy')\n",
    "plt.legend()\n",
    "plt.show()"
   ]
  }
 ],
 "metadata": {
  "kernelspec": {
   "display_name": "Python 3",
   "language": "python",
   "name": "python3"
  },
  "language_info": {
   "codemirror_mode": {
    "name": "ipython",
    "version": 3
   },
   "file_extension": ".py",
   "mimetype": "text/x-python",
   "name": "python",
   "nbconvert_exporter": "python",
   "pygments_lexer": "ipython3",
   "version": "3.7.9"
  },
  "papermill": {
   "default_parameters": {},
   "duration": 361.849206,
   "end_time": "2021-04-05T17:19:11.754665",
   "environment_variables": {},
   "exception": null,
   "input_path": "__notebook__.ipynb",
   "output_path": "__notebook__.ipynb",
   "parameters": {},
   "start_time": "2021-04-05T17:13:09.905459",
   "version": "2.2.2"
  },
  "widgets": {
   "application/vnd.jupyter.widget-state+json": {
    "state": {
     "063d6db5efb14b6fb3674444fb95092f": {
      "model_module": "@jupyter-widgets/controls",
      "model_module_version": "1.5.0",
      "model_name": "FloatProgressModel",
      "state": {
       "_dom_classes": [],
       "_model_module": "@jupyter-widgets/controls",
       "_model_module_version": "1.5.0",
       "_model_name": "FloatProgressModel",
       "_view_count": null,
       "_view_module": "@jupyter-widgets/controls",
       "_view_module_version": "1.5.0",
       "_view_name": "ProgressView",
       "bar_style": "success",
       "description": "",
       "description_tooltip": null,
       "layout": "IPY_MODEL_0d95a12f9de64d268e2f9aac28c0b515",
       "max": 46827520.0,
       "min": 0.0,
       "orientation": "horizontal",
       "style": "IPY_MODEL_ec9f5590f21d476c8e526bd896c59c44",
       "value": 46827520.0
      }
     },
     "0d95a12f9de64d268e2f9aac28c0b515": {
      "model_module": "@jupyter-widgets/base",
      "model_module_version": "1.2.0",
      "model_name": "LayoutModel",
      "state": {
       "_model_module": "@jupyter-widgets/base",
       "_model_module_version": "1.2.0",
       "_model_name": "LayoutModel",
       "_view_count": null,
       "_view_module": "@jupyter-widgets/base",
       "_view_module_version": "1.2.0",
       "_view_name": "LayoutView",
       "align_content": null,
       "align_items": null,
       "align_self": null,
       "border": null,
       "bottom": null,
       "display": null,
       "flex": null,
       "flex_flow": null,
       "grid_area": null,
       "grid_auto_columns": null,
       "grid_auto_flow": null,
       "grid_auto_rows": null,
       "grid_column": null,
       "grid_gap": null,
       "grid_row": null,
       "grid_template_areas": null,
       "grid_template_columns": null,
       "grid_template_rows": null,
       "height": null,
       "justify_content": null,
       "justify_items": null,
       "left": null,
       "margin": null,
       "max_height": null,
       "max_width": null,
       "min_height": null,
       "min_width": null,
       "object_fit": null,
       "object_position": null,
       "order": null,
       "overflow": null,
       "overflow_x": null,
       "overflow_y": null,
       "padding": null,
       "right": null,
       "top": null,
       "visibility": null,
       "width": null
      }
     },
     "2a71ae46474c4524b53a40c53e6d17fb": {
      "model_module": "@jupyter-widgets/controls",
      "model_module_version": "1.5.0",
      "model_name": "DescriptionStyleModel",
      "state": {
       "_model_module": "@jupyter-widgets/controls",
       "_model_module_version": "1.5.0",
       "_model_name": "DescriptionStyleModel",
       "_view_count": null,
       "_view_module": "@jupyter-widgets/base",
       "_view_module_version": "1.2.0",
       "_view_name": "StyleView",
       "description_width": ""
      }
     },
     "46bb1ba8b51c4b4cb4fa09f0e2076e80": {
      "model_module": "@jupyter-widgets/controls",
      "model_module_version": "1.5.0",
      "model_name": "DescriptionStyleModel",
      "state": {
       "_model_module": "@jupyter-widgets/controls",
       "_model_module_version": "1.5.0",
       "_model_name": "DescriptionStyleModel",
       "_view_count": null,
       "_view_module": "@jupyter-widgets/base",
       "_view_module_version": "1.2.0",
       "_view_name": "StyleView",
       "description_width": ""
      }
     },
     "6018972849ba436282d50abc473a3e0b": {
      "model_module": "@jupyter-widgets/controls",
      "model_module_version": "1.5.0",
      "model_name": "HTMLModel",
      "state": {
       "_dom_classes": [],
       "_model_module": "@jupyter-widgets/controls",
       "_model_module_version": "1.5.0",
       "_model_name": "HTMLModel",
       "_view_count": null,
       "_view_module": "@jupyter-widgets/controls",
       "_view_module_version": "1.5.0",
       "_view_name": "HTMLView",
       "description": "",
       "description_tooltip": null,
       "layout": "IPY_MODEL_dc6ff8faad274425920a987ec9beba94",
       "placeholder": "​",
       "style": "IPY_MODEL_46bb1ba8b51c4b4cb4fa09f0e2076e80",
       "value": " 44.7M/44.7M [00:01&lt;00:00, 33.3MB/s]"
      }
     },
     "8da0a04af2de482094ad1e9776562efb": {
      "model_module": "@jupyter-widgets/controls",
      "model_module_version": "1.5.0",
      "model_name": "HTMLModel",
      "state": {
       "_dom_classes": [],
       "_model_module": "@jupyter-widgets/controls",
       "_model_module_version": "1.5.0",
       "_model_name": "HTMLModel",
       "_view_count": null,
       "_view_module": "@jupyter-widgets/controls",
       "_view_module_version": "1.5.0",
       "_view_name": "HTMLView",
       "description": "",
       "description_tooltip": null,
       "layout": "IPY_MODEL_d52d8e76a4e8498181cb460f93408dc0",
       "placeholder": "​",
       "style": "IPY_MODEL_2a71ae46474c4524b53a40c53e6d17fb",
       "value": "100%"
      }
     },
     "9e462cb1ec804799a4113fa81e309121": {
      "model_module": "@jupyter-widgets/controls",
      "model_module_version": "1.5.0",
      "model_name": "HBoxModel",
      "state": {
       "_dom_classes": [],
       "_model_module": "@jupyter-widgets/controls",
       "_model_module_version": "1.5.0",
       "_model_name": "HBoxModel",
       "_view_count": null,
       "_view_module": "@jupyter-widgets/controls",
       "_view_module_version": "1.5.0",
       "_view_name": "HBoxView",
       "box_style": "",
       "children": [
        "IPY_MODEL_8da0a04af2de482094ad1e9776562efb",
        "IPY_MODEL_063d6db5efb14b6fb3674444fb95092f",
        "IPY_MODEL_6018972849ba436282d50abc473a3e0b"
       ],
       "layout": "IPY_MODEL_fc065742e9b54a3099986592b3657da8"
      }
     },
     "d52d8e76a4e8498181cb460f93408dc0": {
      "model_module": "@jupyter-widgets/base",
      "model_module_version": "1.2.0",
      "model_name": "LayoutModel",
      "state": {
       "_model_module": "@jupyter-widgets/base",
       "_model_module_version": "1.2.0",
       "_model_name": "LayoutModel",
       "_view_count": null,
       "_view_module": "@jupyter-widgets/base",
       "_view_module_version": "1.2.0",
       "_view_name": "LayoutView",
       "align_content": null,
       "align_items": null,
       "align_self": null,
       "border": null,
       "bottom": null,
       "display": null,
       "flex": null,
       "flex_flow": null,
       "grid_area": null,
       "grid_auto_columns": null,
       "grid_auto_flow": null,
       "grid_auto_rows": null,
       "grid_column": null,
       "grid_gap": null,
       "grid_row": null,
       "grid_template_areas": null,
       "grid_template_columns": null,
       "grid_template_rows": null,
       "height": null,
       "justify_content": null,
       "justify_items": null,
       "left": null,
       "margin": null,
       "max_height": null,
       "max_width": null,
       "min_height": null,
       "min_width": null,
       "object_fit": null,
       "object_position": null,
       "order": null,
       "overflow": null,
       "overflow_x": null,
       "overflow_y": null,
       "padding": null,
       "right": null,
       "top": null,
       "visibility": null,
       "width": null
      }
     },
     "dc6ff8faad274425920a987ec9beba94": {
      "model_module": "@jupyter-widgets/base",
      "model_module_version": "1.2.0",
      "model_name": "LayoutModel",
      "state": {
       "_model_module": "@jupyter-widgets/base",
       "_model_module_version": "1.2.0",
       "_model_name": "LayoutModel",
       "_view_count": null,
       "_view_module": "@jupyter-widgets/base",
       "_view_module_version": "1.2.0",
       "_view_name": "LayoutView",
       "align_content": null,
       "align_items": null,
       "align_self": null,
       "border": null,
       "bottom": null,
       "display": null,
       "flex": null,
       "flex_flow": null,
       "grid_area": null,
       "grid_auto_columns": null,
       "grid_auto_flow": null,
       "grid_auto_rows": null,
       "grid_column": null,
       "grid_gap": null,
       "grid_row": null,
       "grid_template_areas": null,
       "grid_template_columns": null,
       "grid_template_rows": null,
       "height": null,
       "justify_content": null,
       "justify_items": null,
       "left": null,
       "margin": null,
       "max_height": null,
       "max_width": null,
       "min_height": null,
       "min_width": null,
       "object_fit": null,
       "object_position": null,
       "order": null,
       "overflow": null,
       "overflow_x": null,
       "overflow_y": null,
       "padding": null,
       "right": null,
       "top": null,
       "visibility": null,
       "width": null
      }
     },
     "ec9f5590f21d476c8e526bd896c59c44": {
      "model_module": "@jupyter-widgets/controls",
      "model_module_version": "1.5.0",
      "model_name": "ProgressStyleModel",
      "state": {
       "_model_module": "@jupyter-widgets/controls",
       "_model_module_version": "1.5.0",
       "_model_name": "ProgressStyleModel",
       "_view_count": null,
       "_view_module": "@jupyter-widgets/base",
       "_view_module_version": "1.2.0",
       "_view_name": "StyleView",
       "bar_color": null,
       "description_width": ""
      }
     },
     "fc065742e9b54a3099986592b3657da8": {
      "model_module": "@jupyter-widgets/base",
      "model_module_version": "1.2.0",
      "model_name": "LayoutModel",
      "state": {
       "_model_module": "@jupyter-widgets/base",
       "_model_module_version": "1.2.0",
       "_model_name": "LayoutModel",
       "_view_count": null,
       "_view_module": "@jupyter-widgets/base",
       "_view_module_version": "1.2.0",
       "_view_name": "LayoutView",
       "align_content": null,
       "align_items": null,
       "align_self": null,
       "border": null,
       "bottom": null,
       "display": null,
       "flex": null,
       "flex_flow": null,
       "grid_area": null,
       "grid_auto_columns": null,
       "grid_auto_flow": null,
       "grid_auto_rows": null,
       "grid_column": null,
       "grid_gap": null,
       "grid_row": null,
       "grid_template_areas": null,
       "grid_template_columns": null,
       "grid_template_rows": null,
       "height": null,
       "justify_content": null,
       "justify_items": null,
       "left": null,
       "margin": null,
       "max_height": null,
       "max_width": null,
       "min_height": null,
       "min_width": null,
       "object_fit": null,
       "object_position": null,
       "order": null,
       "overflow": null,
       "overflow_x": null,
       "overflow_y": null,
       "padding": null,
       "right": null,
       "top": null,
       "visibility": null,
       "width": null
      }
     }
    },
    "version_major": 2,
    "version_minor": 0
   }
  }
 },
 "nbformat": 4,
 "nbformat_minor": 4
}
