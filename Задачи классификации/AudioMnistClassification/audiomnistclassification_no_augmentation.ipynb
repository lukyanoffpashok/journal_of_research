{
 "cells": [
  {
   "cell_type": "code",
   "execution_count": 1,
   "metadata": {
    "_cell_guid": "b1076dfc-b9ad-4769-8c92-a6c4dae69d19",
    "_uuid": "8f2839f25d086af736a60e9eeb907d3b93b6e0e5",
    "execution": {
     "iopub.execute_input": "2021-04-05T16:45:58.447201Z",
     "iopub.status.busy": "2021-04-05T16:45:58.446532Z",
     "iopub.status.idle": "2021-04-05T16:46:02.423670Z",
     "shell.execute_reply": "2021-04-05T16:46:02.424232Z"
    },
    "papermill": {
     "duration": 3.995433,
     "end_time": "2021-04-05T16:46:02.424520",
     "exception": false,
     "start_time": "2021-04-05T16:45:58.429087",
     "status": "completed"
    },
    "tags": []
   },
   "outputs": [
    {
     "name": "stderr",
     "output_type": "stream",
     "text": [
      "/opt/conda/lib/python3.7/site-packages/torchaudio/backend/utils.py:54: UserWarning: \"sox\" backend is being deprecated. The default backend will be changed to \"sox_io\" backend in 0.8.0 and \"sox\" backend will be removed in 0.9.0. Please migrate to \"sox_io\" backend. Please refer to https://github.com/pytorch/audio/issues/903 for the detail.\n",
      "  '\"sox\" backend is being deprecated. '\n"
     ]
    }
   ],
   "source": [
    "import numpy as np\n",
    "import matplotlib.pyplot as plt\n",
    "from sklearn.model_selection import train_test_split\n",
    "import librosa\n",
    "import librosa.display\n",
    "import os\n",
    "import copy\n",
    "import torch\n",
    "from torch.utils.data import Dataset, DataLoader\n",
    "import random\n",
    "import skimage.io as io\n",
    "import pandas as pd\n",
    "from torchvision.models import resnet18\n",
    "import torchaudio.transforms as T\n",
    "from tqdm import tqdm"
   ]
  },
  {
   "cell_type": "code",
   "execution_count": 2,
   "metadata": {
    "execution": {
     "iopub.execute_input": "2021-04-05T16:46:02.453455Z",
     "iopub.status.busy": "2021-04-05T16:46:02.452827Z",
     "iopub.status.idle": "2021-04-05T16:46:02.455736Z",
     "shell.execute_reply": "2021-04-05T16:46:02.455314Z"
    },
    "papermill": {
     "duration": 0.018887,
     "end_time": "2021-04-05T16:46:02.455843",
     "exception": false,
     "start_time": "2021-04-05T16:46:02.436956",
     "status": "completed"
    },
    "tags": []
   },
   "outputs": [],
   "source": [
    "def seed_everything(seed=42):\n",
    "    print(f'setting everything to seed {seed}')\n",
    "    random.seed(seed)\n",
    "    os.environ['PYTHONHASHSEED'] = str(seed)\n",
    "    np.random.seed(seed)\n",
    "    torch.manual_seed(seed)\n",
    "    torch.cuda.manual_seed(seed)\n",
    "    torch.backends.cudnn.deterministic = True\n",
    "    torch.cuda.empty_cache()"
   ]
  },
  {
   "cell_type": "code",
   "execution_count": 3,
   "metadata": {
    "execution": {
     "iopub.execute_input": "2021-04-05T16:46:02.484061Z",
     "iopub.status.busy": "2021-04-05T16:46:02.483355Z",
     "iopub.status.idle": "2021-04-05T16:46:02.486145Z",
     "shell.execute_reply": "2021-04-05T16:46:02.485743Z"
    },
    "papermill": {
     "duration": 0.019154,
     "end_time": "2021-04-05T16:46:02.486246",
     "exception": false,
     "start_time": "2021-04-05T16:46:02.467092",
     "status": "completed"
    },
    "tags": []
   },
   "outputs": [],
   "source": [
    "device = torch.device('cuda:0')\n",
    "data_dir = '/kaggle/input/free-spoken-digits/free-spoken-digit-dataset-master/recordings'"
   ]
  },
  {
   "cell_type": "code",
   "execution_count": 4,
   "metadata": {
    "execution": {
     "iopub.execute_input": "2021-04-05T16:46:02.516170Z",
     "iopub.status.busy": "2021-04-05T16:46:02.515521Z",
     "iopub.status.idle": "2021-04-05T16:46:02.518453Z",
     "shell.execute_reply": "2021-04-05T16:46:02.518041Z"
    },
    "papermill": {
     "duration": 0.020787,
     "end_time": "2021-04-05T16:46:02.518554",
     "exception": false,
     "start_time": "2021-04-05T16:46:02.497767",
     "status": "completed"
    },
    "tags": []
   },
   "outputs": [],
   "source": [
    "def mono_to_color(X, eps=1e-6, mean=None, std=None):\n",
    "    # Standardize\n",
    "    mean = mean or X.mean()\n",
    "    std = std or X.std()\n",
    "    X = (X - mean) / (std + eps)\n",
    "    # Normalize to [0, 255]\n",
    "    _min, _max = X.min(), X.max()\n",
    "    if (_max - _min) > eps:\n",
    "        V = np.clip(X, _min, _max)\n",
    "        V = 255 * (V - _min) / (_max - _min)\n",
    "        V = V.astype(np.uint8)\n",
    "    else:\n",
    "        V = np.zeros_like(X, dtype=np.uint8)\n",
    "    return V\n",
    "\n",
    "def normalize(image, mean=None, std=None):\n",
    "    image = image / 255.0\n",
    "    if mean is not None and std is not None:\n",
    "        image = (image - mean) / std\n",
    "    return image.astype(np.float32)"
   ]
  },
  {
   "cell_type": "code",
   "execution_count": 5,
   "metadata": {
    "execution": {
     "iopub.execute_input": "2021-04-05T16:46:02.545894Z",
     "iopub.status.busy": "2021-04-05T16:46:02.545268Z",
     "iopub.status.idle": "2021-04-05T16:46:02.547785Z",
     "shell.execute_reply": "2021-04-05T16:46:02.548219Z"
    },
    "papermill": {
     "duration": 0.018297,
     "end_time": "2021-04-05T16:46:02.548329",
     "exception": false,
     "start_time": "2021-04-05T16:46:02.530032",
     "status": "completed"
    },
    "tags": []
   },
   "outputs": [],
   "source": [
    "NUM_SAMPLES = 11022\n",
    "sr = 48000\n",
    "fmin = 84\n",
    "fmax = sr // 2\n",
    "nmels = 128\n",
    "batch_size = 32\n",
    "random_seed = 42\n",
    "train_size = 0.8"
   ]
  },
  {
   "cell_type": "code",
   "execution_count": 6,
   "metadata": {
    "execution": {
     "iopub.execute_input": "2021-04-05T16:46:02.575555Z",
     "iopub.status.busy": "2021-04-05T16:46:02.574981Z",
     "iopub.status.idle": "2021-04-05T16:46:03.324362Z",
     "shell.execute_reply": "2021-04-05T16:46:03.323886Z"
    },
    "papermill": {
     "duration": 0.764388,
     "end_time": "2021-04-05T16:46:03.324492",
     "exception": false,
     "start_time": "2021-04-05T16:46:02.560104",
     "status": "completed"
    },
    "tags": []
   },
   "outputs": [],
   "source": [
    "recordings_old = sorted(os.listdir(data_dir))"
   ]
  },
  {
   "cell_type": "code",
   "execution_count": 7,
   "metadata": {
    "execution": {
     "iopub.execute_input": "2021-04-05T16:46:03.377227Z",
     "iopub.status.busy": "2021-04-05T16:46:03.376396Z",
     "iopub.status.idle": "2021-04-05T16:47:37.831019Z",
     "shell.execute_reply": "2021-04-05T16:47:37.830042Z"
    },
    "papermill": {
     "duration": 94.482529,
     "end_time": "2021-04-05T16:47:37.831167",
     "exception": false,
     "start_time": "2021-04-05T16:46:03.348638",
     "status": "completed"
    },
    "tags": []
   },
   "outputs": [],
   "source": [
    "recordings = []\n",
    "for x in recordings_old:\n",
    "    y, _ = librosa.load(data_dir + '/' + x, sr = sr)\n",
    "    if y.shape[0] >= NUM_SAMPLES:\n",
    "        recordings.append(x)"
   ]
  },
  {
   "cell_type": "code",
   "execution_count": 8,
   "metadata": {
    "execution": {
     "iopub.execute_input": "2021-04-05T16:47:37.861631Z",
     "iopub.status.busy": "2021-04-05T16:47:37.860820Z",
     "iopub.status.idle": "2021-04-05T16:47:37.865055Z",
     "shell.execute_reply": "2021-04-05T16:47:37.864665Z"
    },
    "papermill": {
     "duration": 0.021587,
     "end_time": "2021-04-05T16:47:37.865170",
     "exception": false,
     "start_time": "2021-04-05T16:47:37.843583",
     "status": "completed"
    },
    "tags": []
   },
   "outputs": [
    {
     "data": {
      "text/plain": [
       "2903"
      ]
     },
     "execution_count": 8,
     "metadata": {},
     "output_type": "execute_result"
    }
   ],
   "source": [
    "len(recordings)"
   ]
  },
  {
   "cell_type": "code",
   "execution_count": 9,
   "metadata": {
    "execution": {
     "iopub.execute_input": "2021-04-05T16:47:37.896527Z",
     "iopub.status.busy": "2021-04-05T16:47:37.895749Z",
     "iopub.status.idle": "2021-04-05T16:47:38.048695Z",
     "shell.execute_reply": "2021-04-05T16:47:38.049102Z"
    },
    "papermill": {
     "duration": 0.170735,
     "end_time": "2021-04-05T16:47:38.049230",
     "exception": false,
     "start_time": "2021-04-05T16:47:37.878495",
     "status": "completed"
    },
    "tags": []
   },
   "outputs": [
    {
     "data": {
      "image/png": "[encoded data removed]",
      "text/plain": [
       "<Figure size 1440x432 with 1 Axes>"
      ]
     },
     "metadata": {
      "needs_background": "light"
     },
     "output_type": "display_data"
    }
   ],
   "source": [
    "y, _ = librosa.load(data_dir + '/' + recordings[700], sr = sr)\n",
    "samples = y[:NUM_SAMPLES]\n",
    "melspec = librosa.feature.melspectrogram(samples, sr=sr, n_mels=nmels, fmin=fmin, fmax=fmax)\n",
    "melspec = librosa.power_to_db(melspec)\n",
    "melspec = mono_to_color(melspec)\n",
    "melspec = normalize(melspec, mean=None, std=None)\n",
    "plt.figure(figsize = (20, 6))\n",
    "plt.imshow(melspec)\n",
    "plt.show()"
   ]
  },
  {
   "cell_type": "code",
   "execution_count": 10,
   "metadata": {
    "execution": {
     "iopub.execute_input": "2021-04-05T16:47:38.081036Z",
     "iopub.status.busy": "2021-04-05T16:47:38.080416Z",
     "iopub.status.idle": "2021-04-05T16:47:38.083525Z",
     "shell.execute_reply": "2021-04-05T16:47:38.083937Z"
    },
    "papermill": {
     "duration": 0.021627,
     "end_time": "2021-04-05T16:47:38.084053",
     "exception": false,
     "start_time": "2021-04-05T16:47:38.062426",
     "status": "completed"
    },
    "tags": []
   },
   "outputs": [
    {
     "data": {
      "text/plain": [
       "(128, 22)"
      ]
     },
     "execution_count": 10,
     "metadata": {},
     "output_type": "execute_result"
    }
   ],
   "source": [
    "image_size = melspec.shape\n",
    "image_size"
   ]
  },
  {
   "cell_type": "code",
   "execution_count": 11,
   "metadata": {
    "execution": {
     "iopub.execute_input": "2021-04-05T16:47:38.122103Z",
     "iopub.status.busy": "2021-04-05T16:47:38.121422Z",
     "iopub.status.idle": "2021-04-05T16:47:38.125088Z",
     "shell.execute_reply": "2021-04-05T16:47:38.124684Z"
    },
    "papermill": {
     "duration": 0.027642,
     "end_time": "2021-04-05T16:47:38.125186",
     "exception": false,
     "start_time": "2021-04-05T16:47:38.097544",
     "status": "completed"
    },
    "tags": []
   },
   "outputs": [],
   "source": [
    "def noise_augmentation(im, var = 0.01):\n",
    "    noise = var * torch.randn(im.shape[1], im.shape[2])\n",
    "    im[0, :, :] += noise\n",
    "    im[1, :, :] += noise\n",
    "    im[2, :, :] += noise\n",
    "    return im\n",
    "\n",
    "def shift_augmentation(image, max_shift = 2):\n",
    "    shift = np.random.randint(max_shift)\n",
    "    p = np.random.rand()\n",
    "    if p < 0.5:\n",
    "        image[:, :, shift:] = image[:, :, :image.shape[2] - shift]\n",
    "        image[:, :, :shift] = 0.0\n",
    "    else:\n",
    "        image[:, :, :image.shape[2] - shift] = image[:, :, shift:]\n",
    "        image[:, :, image.shape[2] - shift:] = 0.0\n",
    "    return image\n",
    "    \n",
    "def random_erasing(image, max_a = 12, max_b = 2):\n",
    "    a = np.random.randint(max_a)\n",
    "    b = np.random.randint(max_b)\n",
    "    a0 = np.random.randint(image.shape[1] - max_a)\n",
    "    b0 = np.random.randint(image.shape[2] - max_a)\n",
    "    image[:, a0 : a0 + a, b0 : b0 + b] = 0\n",
    "    return image\n",
    "    \n",
    "    \n",
    "def augmentation(im, mode = 'No'):\n",
    "    image = im.clone()\n",
    "    if mode == 'TimeMasking':\n",
    "        return T.TimeMasking(2)(image)\n",
    "    if mode == 'FreqMasking':\n",
    "        return T.FrequencyMasking(12)(image)\n",
    "    if mode == 'RandomErasing':\n",
    "        return random_erasing(image, 12, 2)\n",
    "    if mode == 'Shift':\n",
    "        return shift_augmentation(image)\n",
    "    if mode == 'Noise':\n",
    "        return noise_augmentation(image)\n",
    "    \n",
    "    return image"
   ]
  },
  {
   "cell_type": "code",
   "execution_count": 12,
   "metadata": {
    "execution": {
     "iopub.execute_input": "2021-04-05T16:47:38.157460Z",
     "iopub.status.busy": "2021-04-05T16:47:38.156980Z",
     "iopub.status.idle": "2021-04-05T16:47:38.160507Z",
     "shell.execute_reply": "2021-04-05T16:47:38.160109Z"
    },
    "papermill": {
     "duration": 0.021833,
     "end_time": "2021-04-05T16:47:38.160627",
     "exception": false,
     "start_time": "2021-04-05T16:47:38.138794",
     "status": "completed"
    },
    "tags": []
   },
   "outputs": [],
   "source": [
    "def get_spectrogram(filename):\n",
    "    y, _ = librosa.load(filename, sr = sr)\n",
    "    samples = y[:NUM_SAMPLES]\n",
    "    melspec = librosa.feature.melspectrogram(samples, sr=sr, n_mels=nmels, fmin=fmin, fmax=fmax)\n",
    "    melspec = librosa.power_to_db(melspec)\n",
    "    melspec = mono_to_color(melspec)\n",
    "    melspec = normalize(melspec, mean=None, std=None)\n",
    "    return torch.tensor(melspec, dtype=torch.float32)"
   ]
  },
  {
   "cell_type": "code",
   "execution_count": 13,
   "metadata": {
    "execution": {
     "iopub.execute_input": "2021-04-05T16:47:38.192367Z",
     "iopub.status.busy": "2021-04-05T16:47:38.191879Z",
     "iopub.status.idle": "2021-04-05T16:49:01.752216Z",
     "shell.execute_reply": "2021-04-05T16:49:01.751179Z"
    },
    "papermill": {
     "duration": 83.577818,
     "end_time": "2021-04-05T16:49:01.752381",
     "exception": false,
     "start_time": "2021-04-05T16:47:38.174563",
     "status": "completed"
    },
    "tags": []
   },
   "outputs": [],
   "source": [
    "data = []\n",
    "labels = []\n",
    "for i in range(len(recordings)):\n",
    "    data.append(get_spectrogram(data_dir + '/' + recordings[i]))\n",
    "    labels.append(int(recordings[i][0]))\n"
   ]
  },
  {
   "cell_type": "code",
   "execution_count": 14,
   "metadata": {
    "execution": {
     "iopub.execute_input": "2021-04-05T16:49:01.788932Z",
     "iopub.status.busy": "2021-04-05T16:49:01.788062Z",
     "iopub.status.idle": "2021-04-05T16:49:01.792131Z",
     "shell.execute_reply": "2021-04-05T16:49:01.791517Z"
    },
    "papermill": {
     "duration": 0.02487,
     "end_time": "2021-04-05T16:49:01.792251",
     "exception": false,
     "start_time": "2021-04-05T16:49:01.767381",
     "status": "completed"
    },
    "tags": []
   },
   "outputs": [],
   "source": [
    "keys = np.arange(len(data))\n",
    "train_keys, test_keys = train_test_split(keys, train_size=train_size, random_state=random_seed)\n",
    "train_keys, valid_keys = train_test_split(train_keys, train_size=train_size, random_state=random_seed)"
   ]
  },
  {
   "cell_type": "code",
   "execution_count": 15,
   "metadata": {
    "execution": {
     "iopub.execute_input": "2021-04-05T16:49:01.829125Z",
     "iopub.status.busy": "2021-04-05T16:49:01.828452Z",
     "iopub.status.idle": "2021-04-05T16:49:01.832131Z",
     "shell.execute_reply": "2021-04-05T16:49:01.831714Z"
    },
    "papermill": {
     "duration": 0.025035,
     "end_time": "2021-04-05T16:49:01.832242",
     "exception": false,
     "start_time": "2021-04-05T16:49:01.807207",
     "status": "completed"
    },
    "tags": []
   },
   "outputs": [],
   "source": [
    "class AudioMNIST(Dataset):\n",
    "    def __init__(self, keys, mode = 'train', data = [], labels = [], augment = False, aug_type = 'No'):\n",
    "        super().__init__()\n",
    "        self.n = len(keys)\n",
    "        self.data = []\n",
    "        self.labels = []\n",
    "        self.augment = augment\n",
    "        self.aug_type = aug_type\n",
    "        for i in keys:\n",
    "            self.data.append(data[i])\n",
    "            self.labels.append(labels[i])\n",
    "\n",
    "    def __getitem__(self, i):\n",
    "        X = self.data[i]\n",
    "        X = torch.stack([X, X, X])\n",
    "        if self.augment:\n",
    "            X = augmentation(X, self.aug_type)\n",
    "        return X, self.labels[i]\n",
    "\n",
    "    def __len__(self):\n",
    "        return self.n"
   ]
  },
  {
   "cell_type": "code",
   "execution_count": 16,
   "metadata": {
    "execution": {
     "iopub.execute_input": "2021-04-05T16:49:01.873330Z",
     "iopub.status.busy": "2021-04-05T16:49:01.872804Z",
     "iopub.status.idle": "2021-04-05T16:49:01.876843Z",
     "shell.execute_reply": "2021-04-05T16:49:01.876437Z"
    },
    "papermill": {
     "duration": 0.029716,
     "end_time": "2021-04-05T16:49:01.876952",
     "exception": false,
     "start_time": "2021-04-05T16:49:01.847236",
     "status": "completed"
    },
    "tags": []
   },
   "outputs": [],
   "source": [
    "def train(model, loss_fn, train_loader, valid_loader, epochs, optimizer, augment = 'No'):\n",
    "    best_model_wts = copy.deepcopy(model.state_dict())\n",
    "    best_acc = 0.0\n",
    "    train_losses = []\n",
    "    valid_losses = []\n",
    "    valid_acc = []\n",
    "    best_train_acc = 0.0\n",
    "    for epoch in range(epochs):\n",
    "        print('epoch:', epoch)\n",
    "        model.train()\n",
    "        sum_loss = 0\n",
    "        sum_accuracy = 0\n",
    "        cnt_objects = 0\n",
    "        for X, y in train_dataloader:\n",
    "            optimizer.zero_grad()\n",
    "            X = X.to(device)\n",
    "            scores = model(X)\n",
    "            loss = criterion(scores, y.to(device))\n",
    "            loss.backward()\n",
    "            optimizer.step()\n",
    "            sum_loss += float(loss) * len(y)\n",
    "            cnt_objects += len(y)\n",
    "\n",
    "        mean_loss = sum_loss / cnt_objects\n",
    "        train_losses.append(mean_loss)\n",
    "        print('Train')\n",
    "        print(mean_loss)\n",
    "\n",
    "        model.eval()\n",
    "        sum_loss = 0\n",
    "        sum_accuracy = 0\n",
    "        cnt_objects = 0\n",
    "        with torch.no_grad():\n",
    "            for X, y in valid_loader:\n",
    "                X = X.to(device)\n",
    "                scores = model(X)\n",
    "                loss = criterion(scores, y.to(device))\n",
    "                sum_loss += float(loss) * len(y)\n",
    "                preds = scores.cpu().detach().argmax(dim=1)\n",
    "                accuracy = float((y == preds).float().sum())\n",
    "                sum_accuracy += accuracy\n",
    "                cnt_objects += len(y)\n",
    "\n",
    "        print('TEST')\n",
    "        mean_loss = sum_loss / cnt_objects\n",
    "        valid_losses.append(mean_loss)\n",
    "        mean_accuracy = sum_accuracy / cnt_objects\n",
    "        valid_acc.append(mean_accuracy)\n",
    "        if mean_accuracy > best_acc:\n",
    "            best_acc = mean_accuracy\n",
    "            best_model_wts = copy.deepcopy(model.state_dict())\n",
    "        print('loss:', mean_loss)\n",
    "        print('accuracy:', mean_accuracy)\n",
    "        print('******************')\n",
    "    print('Accuracy on the validation: ', best_acc)\n",
    "    model.load_state_dict(best_model_wts)\n",
    "    return model, train_losses, valid_losses, valid_acc"
   ]
  },
  {
   "cell_type": "code",
   "execution_count": 17,
   "metadata": {
    "execution": {
     "iopub.execute_input": "2021-04-05T16:49:01.912175Z",
     "iopub.status.busy": "2021-04-05T16:49:01.911521Z",
     "iopub.status.idle": "2021-04-05T16:49:01.914590Z",
     "shell.execute_reply": "2021-04-05T16:49:01.914975Z"
    },
    "papermill": {
     "duration": 0.023877,
     "end_time": "2021-04-05T16:49:01.915099",
     "exception": false,
     "start_time": "2021-04-05T16:49:01.891222",
     "status": "completed"
    },
    "tags": []
   },
   "outputs": [],
   "source": [
    "def evaluate(model, test_loader):\n",
    "    model.eval()\n",
    "    #all_preds = []\n",
    "    sum_accuracy = 0\n",
    "    cnt_objects = 0\n",
    "    with torch.no_grad():\n",
    "        for X, y in test_loader:\n",
    "            X = X.to(device)\n",
    "            scores = model(X)\n",
    "            preds = scores.cpu().detach().argmax(dim=1)\n",
    "            accuracy = float((y == preds).float().sum())\n",
    "            sum_accuracy += accuracy\n",
    "            cnt_objects += len(y)\n",
    "            #all_preds.append(preds)\n",
    "\n",
    "    mean_accuracy = sum_accuracy / cnt_objects\n",
    "    print('Quality of the model')\n",
    "    print('accuracy:', mean_accuracy)"
   ]
  },
  {
   "cell_type": "markdown",
   "metadata": {
    "papermill": {
     "duration": 0.014246,
     "end_time": "2021-04-05T16:49:01.943642",
     "exception": false,
     "start_time": "2021-04-05T16:49:01.929396",
     "status": "completed"
    },
    "tags": []
   },
   "source": [
    "## Resnet18"
   ]
  },
  {
   "cell_type": "markdown",
   "metadata": {
    "papermill": {
     "duration": 0.014549,
     "end_time": "2021-04-05T16:49:01.972622",
     "exception": false,
     "start_time": "2021-04-05T16:49:01.958073",
     "status": "completed"
    },
    "tags": []
   },
   "source": [
    "### No augmentation"
   ]
  },
  {
   "cell_type": "code",
   "execution_count": 18,
   "metadata": {
    "execution": {
     "iopub.execute_input": "2021-04-05T16:49:02.008471Z",
     "iopub.status.busy": "2021-04-05T16:49:02.007973Z",
     "iopub.status.idle": "2021-04-05T16:51:28.335127Z",
     "shell.execute_reply": "2021-04-05T16:51:28.334435Z"
    },
    "papermill": {
     "duration": 146.348442,
     "end_time": "2021-04-05T16:51:28.335362",
     "exception": false,
     "start_time": "2021-04-05T16:49:01.986920",
     "status": "completed"
    },
    "tags": []
   },
   "outputs": [
    {
     "name": "stdout",
     "output_type": "stream",
     "text": [
      "setting everything to seed 42\n"
     ]
    },
    {
     "name": "stderr",
     "output_type": "stream",
     "text": [
      "Downloading: \"https://download.pytorch.org/models/resnet18-5c106cde.pth\" to /root/.cache/torch/hub/checkpoints/resnet18-5c106cde.pth\n"
     ]
    },
    {
     "data": {
      "application/vnd.jupyter.widget-view+json": {
       "model_id": "3b5fcf6884b8470c8cf72a3132b9d25a",
       "version_major": 2,
       "version_minor": 0
      },
      "text/plain": [
       "  0%|          | 0.00/44.7M [00:00<?, ?B/s]"
      ]
     },
     "metadata": {},
     "output_type": "display_data"
    },
    {
     "name": "stdout",
     "output_type": "stream",
     "text": [
      "epoch: 0\n",
      "Train\n",
      "0.9654668678053618\n",
      "TEST\n",
      "loss: 0.5513526926758469\n",
      "accuracy: 0.8365591397849462\n",
      "******************\n",
      "epoch: 1\n",
      "Train\n",
      "0.3485931751865434\n",
      "TEST\n",
      "loss: 0.26867997877059446\n",
      "accuracy: 0.9161290322580645\n",
      "******************\n",
      "epoch: 2\n",
      "Train\n",
      "0.2748375304231864\n",
      "TEST\n",
      "loss: 0.44819760578934864\n",
      "accuracy: 0.8602150537634409\n",
      "******************\n",
      "epoch: 3\n",
      "Train\n",
      "0.1954639534444403\n",
      "TEST\n",
      "loss: 0.700922663557914\n",
      "accuracy: 0.7849462365591398\n",
      "******************\n",
      "epoch: 4\n",
      "Train\n",
      "0.2392934015443008\n",
      "TEST\n",
      "loss: 0.3534814703849054\n",
      "accuracy: 0.9053763440860215\n",
      "******************\n",
      "epoch: 5\n",
      "Train\n",
      "0.23988432287527917\n",
      "TEST\n",
      "loss: 0.46150845122593703\n",
      "accuracy: 0.8688172043010752\n",
      "******************\n",
      "epoch: 6\n",
      "Train\n",
      "0.20896843772263185\n",
      "TEST\n",
      "loss: 0.3403791593928491\n",
      "accuracy: 0.9376344086021505\n",
      "******************\n",
      "epoch: 7\n",
      "Train\n",
      "0.10930696078443244\n",
      "TEST\n",
      "loss: 0.22755295640678816\n",
      "accuracy: 0.9376344086021505\n",
      "******************\n",
      "epoch: 8\n",
      "Train\n",
      "0.10666032980447439\n",
      "TEST\n",
      "loss: 0.31895251011335723\n",
      "accuracy: 0.9075268817204301\n",
      "******************\n",
      "epoch: 9\n",
      "Train\n",
      "0.12786975770980102\n",
      "TEST\n",
      "loss: 0.21392879061481004\n",
      "accuracy: 0.9505376344086022\n",
      "******************\n",
      "epoch: 10\n",
      "Train\n",
      "0.09940991764532088\n",
      "TEST\n",
      "loss: 0.4856596313497072\n",
      "accuracy: 0.896774193548387\n",
      "******************\n",
      "epoch: 11\n",
      "Train\n",
      "0.1287988023666939\n",
      "TEST\n",
      "loss: 0.40833342916542487\n",
      "accuracy: 0.9010752688172043\n",
      "******************\n",
      "epoch: 12\n",
      "Train\n",
      "0.15105970082709272\n",
      "TEST\n",
      "loss: 0.4325458482388527\n",
      "accuracy: 0.8774193548387097\n",
      "******************\n",
      "epoch: 13\n",
      "Train\n",
      "0.08669318344171209\n",
      "TEST\n",
      "loss: 0.22842165154795493\n",
      "accuracy: 0.9419354838709677\n",
      "******************\n",
      "epoch: 14\n",
      "Train\n",
      "0.06287076425330897\n",
      "TEST\n",
      "loss: 0.3574529819591071\n",
      "accuracy: 0.9247311827956989\n",
      "******************\n",
      "epoch: 15\n",
      "Train\n",
      "0.07223363414980516\n",
      "TEST\n",
      "loss: 0.2210216658650547\n",
      "accuracy: 0.9440860215053763\n",
      "******************\n",
      "epoch: 16\n",
      "Train\n",
      "0.039056098094640335\n",
      "TEST\n",
      "loss: 0.17010533470179764\n",
      "accuracy: 0.9612903225806452\n",
      "******************\n",
      "epoch: 17\n",
      "Train\n",
      "0.05171478528872445\n",
      "TEST\n",
      "loss: 0.2895918890994082\n",
      "accuracy: 0.9225806451612903\n",
      "******************\n",
      "epoch: 18\n",
      "Train\n",
      "0.08986707952116277\n",
      "TEST\n",
      "loss: 0.21328999813525906\n",
      "accuracy: 0.9333333333333333\n",
      "******************\n",
      "epoch: 19\n",
      "Train\n",
      "0.06830993439956064\n",
      "TEST\n",
      "loss: 0.2901359752301247\n",
      "accuracy: 0.9268817204301075\n",
      "******************\n",
      "epoch: 20\n",
      "Train\n",
      "0.06656863381930686\n",
      "TEST\n",
      "loss: 0.1929295427856907\n",
      "accuracy: 0.9505376344086022\n",
      "******************\n",
      "epoch: 21\n",
      "Train\n",
      "0.05426942747072244\n",
      "TEST\n",
      "loss: 0.19099124378414564\n",
      "accuracy: 0.956989247311828\n",
      "******************\n",
      "epoch: 22\n",
      "Train\n",
      "0.0466505859486506\n",
      "TEST\n",
      "loss: 0.26098139002438514\n",
      "accuracy: 0.9419354838709677\n",
      "******************\n",
      "epoch: 23\n",
      "Train\n",
      "0.027065994704466193\n",
      "TEST\n",
      "loss: 0.175018583416378\n",
      "accuracy: 0.9634408602150538\n",
      "******************\n",
      "epoch: 24\n",
      "Train\n",
      "0.0530064174771012\n",
      "TEST\n",
      "loss: 0.31730662879123483\n",
      "accuracy: 0.9376344086021505\n",
      "******************\n",
      "epoch: 25\n",
      "Train\n",
      "0.047592544740624625\n",
      "TEST\n",
      "loss: 0.2439953785269491\n",
      "accuracy: 0.9419354838709677\n",
      "******************\n",
      "epoch: 26\n",
      "Train\n",
      "0.04162808274474109\n",
      "TEST\n",
      "loss: 0.2384206945857694\n",
      "accuracy: 0.9548387096774194\n",
      "******************\n",
      "epoch: 27\n",
      "Train\n",
      "0.04257873655535084\n",
      "TEST\n",
      "loss: 0.2864996829981445\n",
      "accuracy: 0.9311827956989247\n",
      "******************\n",
      "epoch: 28\n",
      "Train\n",
      "0.04060351273609655\n",
      "TEST\n",
      "loss: 0.23390152542901937\n",
      "accuracy: 0.9526881720430107\n",
      "******************\n",
      "epoch: 29\n",
      "Train\n",
      "0.020527879018928327\n",
      "TEST\n",
      "loss: 0.20627489070538232\n",
      "accuracy: 0.9634408602150538\n",
      "******************\n",
      "epoch: 30\n",
      "Train\n",
      "0.016992711180727777\n",
      "TEST\n",
      "loss: 0.21068818356381147\n",
      "accuracy: 0.9612903225806452\n",
      "******************\n",
      "epoch: 31\n",
      "Train\n",
      "0.009459745354161036\n",
      "TEST\n",
      "loss: 0.20393691114200058\n",
      "accuracy: 0.9591397849462365\n",
      "******************\n",
      "epoch: 32\n",
      "Train\n",
      "0.025599858996156938\n",
      "TEST\n",
      "loss: 0.1837591945288843\n",
      "accuracy: 0.9655913978494624\n",
      "******************\n",
      "epoch: 33\n",
      "Train\n",
      "0.02637180134237282\n",
      "TEST\n",
      "loss: 0.16955347371197516\n",
      "accuracy: 0.9655913978494624\n",
      "******************\n",
      "epoch: 34\n",
      "Train\n",
      "0.04036954923632706\n",
      "TEST\n",
      "loss: 0.3097694428377254\n",
      "accuracy: 0.9290322580645162\n",
      "******************\n",
      "epoch: 35\n",
      "Train\n",
      "0.07902233516441344\n",
      "TEST\n",
      "loss: 0.2650018497940994\n",
      "accuracy: 0.9376344086021505\n",
      "******************\n",
      "epoch: 36\n",
      "Train\n",
      "0.05098565791141268\n",
      "TEST\n",
      "loss: 0.20392353100882424\n",
      "accuracy: 0.9440860215053763\n",
      "******************\n",
      "epoch: 37\n",
      "Train\n",
      "0.021255984631811876\n",
      "TEST\n",
      "loss: 0.2402523686711286\n",
      "accuracy: 0.956989247311828\n",
      "******************\n",
      "epoch: 38\n",
      "Train\n",
      "0.05683694519684337\n",
      "TEST\n",
      "loss: 0.26407496858668583\n",
      "accuracy: 0.9397849462365592\n",
      "******************\n",
      "epoch: 39\n",
      "Train\n",
      "0.06441387330323826\n",
      "TEST\n",
      "loss: 0.2827914783671018\n",
      "accuracy: 0.9440860215053763\n",
      "******************\n",
      "epoch: 40\n",
      "Train\n",
      "0.04633224637869005\n",
      "TEST\n",
      "loss: 0.17158982206977183\n",
      "accuracy: 0.956989247311828\n",
      "******************\n",
      "epoch: 41\n",
      "Train\n",
      "0.028274127862460842\n",
      "TEST\n",
      "loss: 0.16137306164669735\n",
      "accuracy: 0.9634408602150538\n",
      "******************\n",
      "epoch: 42\n",
      "Train\n",
      "0.01574383853214021\n",
      "TEST\n",
      "loss: 0.2363140400619276\n",
      "accuracy: 0.9505376344086022\n",
      "******************\n",
      "epoch: 43\n",
      "Train\n",
      "0.023136821844277518\n",
      "TEST\n",
      "loss: 0.2700946552138175\n",
      "accuracy: 0.9354838709677419\n",
      "******************\n",
      "epoch: 44\n",
      "Train\n",
      "0.016720856230216494\n",
      "TEST\n",
      "loss: 0.2623527000748342\n",
      "accuracy: 0.9505376344086022\n",
      "******************\n",
      "epoch: 45\n",
      "Train\n",
      "0.031464528761840214\n",
      "TEST\n",
      "loss: 0.29248830092850553\n",
      "accuracy: 0.9290322580645162\n",
      "******************\n",
      "epoch: 46\n",
      "Train\n",
      "0.019531162436620227\n",
      "TEST\n",
      "loss: 0.22518142264696858\n",
      "accuracy: 0.9526881720430107\n",
      "******************\n",
      "epoch: 47\n",
      "Train\n",
      "0.034068671989595185\n",
      "TEST\n",
      "loss: 0.2003155106177894\n",
      "accuracy: 0.956989247311828\n",
      "******************\n",
      "epoch: 48\n",
      "Train\n",
      "0.04243171643856943\n",
      "TEST\n",
      "loss: 0.3539968654793757\n",
      "accuracy: 0.946236559139785\n",
      "******************\n",
      "epoch: 49\n",
      "Train\n",
      "0.02313162944032362\n",
      "TEST\n",
      "loss: 0.16659505046423403\n",
      "accuracy: 0.9548387096774194\n",
      "******************\n",
      "epoch: 50\n",
      "Train\n",
      "0.02347836110065854\n",
      "TEST\n",
      "loss: 0.3641657374238455\n",
      "accuracy: 0.9419354838709677\n",
      "******************\n",
      "epoch: 51\n",
      "Train\n",
      "0.03898822030831905\n",
      "TEST\n",
      "loss: 0.30653952424244213\n",
      "accuracy: 0.9397849462365592\n",
      "******************\n",
      "epoch: 52\n",
      "Train\n",
      "0.022724536650522733\n",
      "TEST\n",
      "loss: 0.24496018830211133\n",
      "accuracy: 0.9526881720430107\n",
      "******************\n",
      "epoch: 53\n",
      "Train\n",
      "0.01925360134566543\n",
      "TEST\n",
      "loss: 0.23953684815405918\n",
      "accuracy: 0.9526881720430107\n",
      "******************\n",
      "epoch: 54\n",
      "Train\n",
      "0.011503489544353356\n",
      "TEST\n",
      "loss: 0.21766590802900254\n",
      "accuracy: 0.9634408602150538\n",
      "******************\n",
      "epoch: 55\n",
      "Train\n",
      "0.005780981723961406\n",
      "TEST\n",
      "loss: 0.21261253761307847\n",
      "accuracy: 0.9655913978494624\n",
      "******************\n",
      "epoch: 56\n",
      "Train\n",
      "0.014794442994373625\n",
      "TEST\n",
      "loss: 0.22948124953495558\n",
      "accuracy: 0.9591397849462365\n",
      "******************\n",
      "epoch: 57\n",
      "Train\n",
      "0.04225952458238419\n",
      "TEST\n",
      "loss: 0.6795460845834466\n",
      "accuracy: 0.8709677419354839\n",
      "******************\n",
      "epoch: 58\n",
      "Train\n",
      "0.07063102146423049\n",
      "TEST\n",
      "loss: 0.2268543930624121\n",
      "accuracy: 0.9376344086021505\n",
      "******************\n",
      "epoch: 59\n",
      "Train\n",
      "0.02763580572884179\n",
      "TEST\n",
      "loss: 0.1996184007775399\n",
      "accuracy: 0.9548387096774194\n",
      "******************\n",
      "epoch: 60\n",
      "Train\n",
      "0.011206852105146752\n",
      "TEST\n",
      "loss: 0.15468460031013975\n",
      "accuracy: 0.9655913978494624\n",
      "******************\n",
      "epoch: 61\n",
      "Train\n",
      "0.020926836747289963\n",
      "TEST\n",
      "loss: 0.348608168350753\n",
      "accuracy: 0.9290322580645162\n",
      "******************\n",
      "epoch: 62\n",
      "Train\n",
      "0.013044385017308582\n",
      "TEST\n",
      "loss: 0.1872497661620058\n",
      "accuracy: 0.956989247311828\n",
      "******************\n",
      "epoch: 63\n",
      "Train\n",
      "0.010120348654552998\n",
      "TEST\n",
      "loss: 0.20528151926494415\n",
      "accuracy: 0.9720430107526882\n",
      "******************\n",
      "epoch: 64\n",
      "Train\n",
      "0.009393952817515172\n",
      "TEST\n",
      "loss: 0.1636699707717985\n",
      "accuracy: 0.9720430107526882\n",
      "******************\n",
      "epoch: 65\n",
      "Train\n",
      "0.007311818502930143\n",
      "TEST\n",
      "loss: 0.1673577967390258\n",
      "accuracy: 0.967741935483871\n",
      "******************\n",
      "epoch: 66\n",
      "Train\n",
      "0.006057278350840424\n",
      "TEST\n",
      "loss: 0.15085587134104103\n",
      "accuracy: 0.9698924731182795\n",
      "******************\n",
      "epoch: 67\n",
      "Train\n",
      "0.0010739862299790053\n",
      "TEST\n",
      "loss: 0.14971863711377986\n",
      "accuracy: 0.967741935483871\n",
      "******************\n",
      "epoch: 68\n",
      "Train\n",
      "0.0033199121552686508\n",
      "TEST\n",
      "loss: 0.15702725945401094\n",
      "accuracy: 0.967741935483871\n",
      "******************\n",
      "epoch: 69\n",
      "Train\n",
      "0.003331919724242556\n",
      "TEST\n",
      "loss: 0.16928913432664128\n",
      "accuracy: 0.967741935483871\n",
      "******************\n",
      "epoch: 70\n",
      "Train\n",
      "0.015698830117336107\n",
      "TEST\n",
      "loss: 0.23481821551598528\n",
      "accuracy: 0.956989247311828\n",
      "******************\n",
      "epoch: 71\n",
      "Train\n",
      "0.021659911168096253\n",
      "TEST\n",
      "loss: 0.20236826660161616\n",
      "accuracy: 0.9634408602150538\n",
      "******************\n",
      "epoch: 72\n",
      "Train\n",
      "0.014413465369983256\n",
      "TEST\n",
      "loss: 0.210726969966024\n",
      "accuracy: 0.9634408602150538\n",
      "******************\n",
      "epoch: 73\n",
      "Train\n",
      "0.019373269744395936\n",
      "TEST\n",
      "loss: 0.31869676368240946\n",
      "accuracy: 0.9591397849462365\n",
      "******************\n",
      "epoch: 74\n",
      "Train\n",
      "0.02237748845611279\n",
      "TEST\n",
      "loss: 0.22516968433947993\n",
      "accuracy: 0.9612903225806452\n",
      "******************\n",
      "Accuracy on the validation:  0.9720430107526882\n"
     ]
    }
   ],
   "source": [
    "seed_everything(42)\n",
    "\n",
    "train_dataset = AudioMNIST(mode='train', data = data, labels = labels, augment = False, keys = train_keys)\n",
    "valid_dataset = AudioMNIST(mode='valid', data = data, labels = labels, keys = valid_keys)\n",
    "test_dataset = AudioMNIST(mode='test', data = data, labels = labels, keys = test_keys)\n",
    "\n",
    "train_dataloader = DataLoader(train_dataset, batch_size=batch_size, shuffle=True)\n",
    "valid_dataloader = DataLoader(valid_dataset, batch_size=batch_size, shuffle=False)\n",
    "test_dataloader = DataLoader(test_dataset, batch_size=batch_size, shuffle=False)\n",
    "\n",
    "model = resnet18(pretrained=True)\n",
    "num_ftrs = model.fc.in_features\n",
    "model.fc = torch.nn.Linear(num_ftrs, 10)\n",
    "model = model.to(device)\n",
    "\n",
    "epochs = 75\n",
    "criterion = torch.nn.CrossEntropyLoss()\n",
    "optimizer = torch.optim.Adam(model.parameters())\n",
    "\n",
    "model, train_losses, valid_losses, valid_acc = train(model, criterion, train_dataloader, valid_dataloader, epochs, optimizer)"
   ]
  },
  {
   "cell_type": "code",
   "execution_count": 19,
   "metadata": {
    "execution": {
     "iopub.execute_input": "2021-04-05T16:51:28.410476Z",
     "iopub.status.busy": "2021-04-05T16:51:28.409981Z",
     "iopub.status.idle": "2021-04-05T16:51:28.545185Z",
     "shell.execute_reply": "2021-04-05T16:51:28.545947Z"
    },
    "papermill": {
     "duration": 0.174474,
     "end_time": "2021-04-05T16:51:28.546128",
     "exception": false,
     "start_time": "2021-04-05T16:51:28.371654",
     "status": "completed"
    },
    "tags": []
   },
   "outputs": [
    {
     "name": "stdout",
     "output_type": "stream",
     "text": [
      "Quality of the model\n",
      "accuracy: 0.9655765920826161\n"
     ]
    }
   ],
   "source": [
    "evaluate(model, test_dataloader)"
   ]
  },
  {
   "cell_type": "code",
   "execution_count": 20,
   "metadata": {
    "execution": {
     "iopub.execute_input": "2021-04-05T16:51:28.635540Z",
     "iopub.status.busy": "2021-04-05T16:51:28.634766Z",
     "iopub.status.idle": "2021-04-05T16:51:28.780385Z",
     "shell.execute_reply": "2021-04-05T16:51:28.780801Z"
    },
    "papermill": {
     "duration": 0.199131,
     "end_time": "2021-04-05T16:51:28.780944",
     "exception": false,
     "start_time": "2021-04-05T16:51:28.581813",
     "status": "completed"
    },
    "tags": []
   },
   "outputs": [
    {
     "data": {
      "image/png": "[encoded data removed]",
      "text/plain": [
       "<Figure size 432x288 with 1 Axes>"
      ]
     },
     "metadata": {
      "needs_background": "light"
     },
     "output_type": "display_data"
    }
   ],
   "source": [
    "plt.plot(np.arange(epochs), train_losses, label = 'train_loss')\n",
    "plt.plot(np.arange(epochs), valid_losses, label = 'valid_loss')\n",
    "plt.plot(np.arange(epochs), valid_acc, label = 'valid_accuracy')\n",
    "plt.legend()\n",
    "plt.show()"
   ]
  }
 ],
 "metadata": {
  "kernelspec": {
   "display_name": "Python 3",
   "language": "python",
   "name": "python3"
  },
  "language_info": {
   "codemirror_mode": {
    "name": "ipython",
    "version": 3
   },
   "file_extension": ".py",
   "mimetype": "text/x-python",
   "name": "python",
   "nbconvert_exporter": "python",
   "pygments_lexer": "ipython3",
   "version": "3.7.9"
  },
  "papermill": {
   "default_parameters": {},
   "duration": 336.625483,
   "end_time": "2021-04-05T16:51:30.126990",
   "environment_variables": {},
   "exception": null,
   "input_path": "__notebook__.ipynb",
   "output_path": "__notebook__.ipynb",
   "parameters": {},
   "start_time": "2021-04-05T16:45:53.501507",
   "version": "2.2.2"
  },
  "widgets": {
   "application/vnd.jupyter.widget-state+json": {
    "state": {
     "1c4f8226d345434ab0aa7b3a3a9aa584": {
      "model_module": "@jupyter-widgets/controls",
      "model_module_version": "1.5.0",
      "model_name": "HTMLModel",
      "state": {
       "_dom_classes": [],
       "_model_module": "@jupyter-widgets/controls",
       "_model_module_version": "1.5.0",
       "_model_name": "HTMLModel",
       "_view_count": null,
       "_view_module": "@jupyter-widgets/controls",
       "_view_module_version": "1.5.0",
       "_view_name": "HTMLView",
       "description": "",
       "description_tooltip": null,
       "layout": "IPY_MODEL_84c9944d275e4139bf179f43ede16a5a",
       "placeholder": "​",
       "style": "IPY_MODEL_80c97946c12446ad88fb1a117d236781",
       "value": "100%"
      }
     },
     "31b0cf5342d147a79eba63c3331c15af": {
      "model_module": "@jupyter-widgets/base",
      "model_module_version": "1.2.0",
      "model_name": "LayoutModel",
      "state": {
       "_model_module": "@jupyter-widgets/base",
       "_model_module_version": "1.2.0",
       "_model_name": "LayoutModel",
       "_view_count": null,
       "_view_module": "@jupyter-widgets/base",
       "_view_module_version": "1.2.0",
       "_view_name": "LayoutView",
       "align_content": null,
       "align_items": null,
       "align_self": null,
       "border": null,
       "bottom": null,
       "display": null,
       "flex": null,
       "flex_flow": null,
       "grid_area": null,
       "grid_auto_columns": null,
       "grid_auto_flow": null,
       "grid_auto_rows": null,
       "grid_column": null,
       "grid_gap": null,
       "grid_row": null,
       "grid_template_areas": null,
       "grid_template_columns": null,
       "grid_template_rows": null,
       "height": null,
       "justify_content": null,
       "justify_items": null,
       "left": null,
       "margin": null,
       "max_height": null,
       "max_width": null,
       "min_height": null,
       "min_width": null,
       "object_fit": null,
       "object_position": null,
       "order": null,
       "overflow": null,
       "overflow_x": null,
       "overflow_y": null,
       "padding": null,
       "right": null,
       "top": null,
       "visibility": null,
       "width": null
      }
     },
     "3b5fcf6884b8470c8cf72a3132b9d25a": {
      "model_module": "@jupyter-widgets/controls",
      "model_module_version": "1.5.0",
      "model_name": "HBoxModel",
      "state": {
       "_dom_classes": [],
       "_model_module": "@jupyter-widgets/controls",
       "_model_module_version": "1.5.0",
       "_model_name": "HBoxModel",
       "_view_count": null,
       "_view_module": "@jupyter-widgets/controls",
       "_view_module_version": "1.5.0",
       "_view_name": "HBoxView",
       "box_style": "",
       "children": [
        "IPY_MODEL_1c4f8226d345434ab0aa7b3a3a9aa584",
        "IPY_MODEL_bba6023b4a83495ebb0f85e08ba40b0a",
        "IPY_MODEL_541ab0f476884bddb3789b6f505cd058"
       ],
       "layout": "IPY_MODEL_8d1bd3cdc485466c9bb9e7bbe677246b"
      }
     },
     "541ab0f476884bddb3789b6f505cd058": {
      "model_module": "@jupyter-widgets/controls",
      "model_module_version": "1.5.0",
      "model_name": "HTMLModel",
      "state": {
       "_dom_classes": [],
       "_model_module": "@jupyter-widgets/controls",
       "_model_module_version": "1.5.0",
       "_model_name": "HTMLModel",
       "_view_count": null,
       "_view_module": "@jupyter-widgets/controls",
       "_view_module_version": "1.5.0",
       "_view_name": "HTMLView",
       "description": "",
       "description_tooltip": null,
       "layout": "IPY_MODEL_ef588798473a4e4f86321f054a36e75d",
       "placeholder": "​",
       "style": "IPY_MODEL_c8feadcbe30b4a95ada9cce28ad15b4c",
       "value": " 44.7M/44.7M [00:02&lt;00:00, 23.6MB/s]"
      }
     },
     "80c97946c12446ad88fb1a117d236781": {
      "model_module": "@jupyter-widgets/controls",
      "model_module_version": "1.5.0",
      "model_name": "DescriptionStyleModel",
      "state": {
       "_model_module": "@jupyter-widgets/controls",
       "_model_module_version": "1.5.0",
       "_model_name": "DescriptionStyleModel",
       "_view_count": null,
       "_view_module": "@jupyter-widgets/base",
       "_view_module_version": "1.2.0",
       "_view_name": "StyleView",
       "description_width": ""
      }
     },
     "84c9944d275e4139bf179f43ede16a5a": {
      "model_module": "@jupyter-widgets/base",
      "model_module_version": "1.2.0",
      "model_name": "LayoutModel",
      "state": {
       "_model_module": "@jupyter-widgets/base",
       "_model_module_version": "1.2.0",
       "_model_name": "LayoutModel",
       "_view_count": null,
       "_view_module": "@jupyter-widgets/base",
       "_view_module_version": "1.2.0",
       "_view_name": "LayoutView",
       "align_content": null,
       "align_items": null,
       "align_self": null,
       "border": null,
       "bottom": null,
       "display": null,
       "flex": null,
       "flex_flow": null,
       "grid_area": null,
       "grid_auto_columns": null,
       "grid_auto_flow": null,
       "grid_auto_rows": null,
       "grid_column": null,
       "grid_gap": null,
       "grid_row": null,
       "grid_template_areas": null,
       "grid_template_columns": null,
       "grid_template_rows": null,
       "height": null,
       "justify_content": null,
       "justify_items": null,
       "left": null,
       "margin": null,
       "max_height": null,
       "max_width": null,
       "min_height": null,
       "min_width": null,
       "object_fit": null,
       "object_position": null,
       "order": null,
       "overflow": null,
       "overflow_x": null,
       "overflow_y": null,
       "padding": null,
       "right": null,
       "top": null,
       "visibility": null,
       "width": null
      }
     },
     "8d1bd3cdc485466c9bb9e7bbe677246b": {
      "model_module": "@jupyter-widgets/base",
      "model_module_version": "1.2.0",
      "model_name": "LayoutModel",
      "state": {
       "_model_module": "@jupyter-widgets/base",
       "_model_module_version": "1.2.0",
       "_model_name": "LayoutModel",
       "_view_count": null,
       "_view_module": "@jupyter-widgets/base",
       "_view_module_version": "1.2.0",
       "_view_name": "LayoutView",
       "align_content": null,
       "align_items": null,
       "align_self": null,
       "border": null,
       "bottom": null,
       "display": null,
       "flex": null,
       "flex_flow": null,
       "grid_area": null,
       "grid_auto_columns": null,
       "grid_auto_flow": null,
       "grid_auto_rows": null,
       "grid_column": null,
       "grid_gap": null,
       "grid_row": null,
       "grid_template_areas": null,
       "grid_template_columns": null,
       "grid_template_rows": null,
       "height": null,
       "justify_content": null,
       "justify_items": null,
       "left": null,
       "margin": null,
       "max_height": null,
       "max_width": null,
       "min_height": null,
       "min_width": null,
       "object_fit": null,
       "object_position": null,
       "order": null,
       "overflow": null,
       "overflow_x": null,
       "overflow_y": null,
       "padding": null,
       "right": null,
       "top": null,
       "visibility": null,
       "width": null
      }
     },
     "bba10d3ff1614753b5815d8a1ec888fd": {
      "model_module": "@jupyter-widgets/controls",
      "model_module_version": "1.5.0",
      "model_name": "ProgressStyleModel",
      "state": {
       "_model_module": "@jupyter-widgets/controls",
       "_model_module_version": "1.5.0",
       "_model_name": "ProgressStyleModel",
       "_view_count": null,
       "_view_module": "@jupyter-widgets/base",
       "_view_module_version": "1.2.0",
       "_view_name": "StyleView",
       "bar_color": null,
       "description_width": ""
      }
     },
     "bba6023b4a83495ebb0f85e08ba40b0a": {
      "model_module": "@jupyter-widgets/controls",
      "model_module_version": "1.5.0",
      "model_name": "FloatProgressModel",
      "state": {
       "_dom_classes": [],
       "_model_module": "@jupyter-widgets/controls",
       "_model_module_version": "1.5.0",
       "_model_name": "FloatProgressModel",
       "_view_count": null,
       "_view_module": "@jupyter-widgets/controls",
       "_view_module_version": "1.5.0",
       "_view_name": "ProgressView",
       "bar_style": "success",
       "description": "",
       "description_tooltip": null,
       "layout": "IPY_MODEL_31b0cf5342d147a79eba63c3331c15af",
       "max": 46827520.0,
       "min": 0.0,
       "orientation": "horizontal",
       "style": "IPY_MODEL_bba10d3ff1614753b5815d8a1ec888fd",
       "value": 46827520.0
      }
     },
     "c8feadcbe30b4a95ada9cce28ad15b4c": {
      "model_module": "@jupyter-widgets/controls",
      "model_module_version": "1.5.0",
      "model_name": "DescriptionStyleModel",
      "state": {
       "_model_module": "@jupyter-widgets/controls",
       "_model_module_version": "1.5.0",
       "_model_name": "DescriptionStyleModel",
       "_view_count": null,
       "_view_module": "@jupyter-widgets/base",
       "_view_module_version": "1.2.0",
       "_view_name": "StyleView",
       "description_width": ""
      }
     },
     "ef588798473a4e4f86321f054a36e75d": {
      "model_module": "@jupyter-widgets/base",
      "model_module_version": "1.2.0",
      "model_name": "LayoutModel",
      "state": {
       "_model_module": "@jupyter-widgets/base",
       "_model_module_version": "1.2.0",
       "_model_name": "LayoutModel",
       "_view_count": null,
       "_view_module": "@jupyter-widgets/base",
       "_view_module_version": "1.2.0",
       "_view_name": "LayoutView",
       "align_content": null,
       "align_items": null,
       "align_self": null,
       "border": null,
       "bottom": null,
       "display": null,
       "flex": null,
       "flex_flow": null,
       "grid_area": null,
       "grid_auto_columns": null,
       "grid_auto_flow": null,
       "grid_auto_rows": null,
       "grid_column": null,
       "grid_gap": null,
       "grid_row": null,
       "grid_template_areas": null,
       "grid_template_columns": null,
       "grid_template_rows": null,
       "height": null,
       "justify_content": null,
       "justify_items": null,
       "left": null,
       "margin": null,
       "max_height": null,
       "max_width": null,
       "min_height": null,
       "min_width": null,
       "object_fit": null,
       "object_position": null,
       "order": null,
       "overflow": null,
       "overflow_x": null,
       "overflow_y": null,
       "padding": null,
       "right": null,
       "top": null,
       "visibility": null,
       "width": null
      }
     }
    },
    "version_major": 2,
    "version_minor": 0
   }
  }
 },
 "nbformat": 4,
 "nbformat_minor": 4
}
