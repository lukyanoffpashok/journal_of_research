{
 "cells": [
  {
   "cell_type": "code",
   "execution_count": 1,
   "metadata": {
    "_cell_guid": "b1076dfc-b9ad-4769-8c92-a6c4dae69d19",
    "_uuid": "8f2839f25d086af736a60e9eeb907d3b93b6e0e5",
    "execution": {
     "iopub.execute_input": "2021-04-05T17:22:39.437701Z",
     "iopub.status.busy": "2021-04-05T17:22:39.437011Z",
     "iopub.status.idle": "2021-04-05T17:22:43.552749Z",
     "shell.execute_reply": "2021-04-05T17:22:43.553179Z"
    },
    "papermill": {
     "duration": 4.134427,
     "end_time": "2021-04-05T17:22:43.553489",
     "exception": false,
     "start_time": "2021-04-05T17:22:39.419062",
     "status": "completed"
    },
    "tags": []
   },
   "outputs": [
    {
     "name": "stderr",
     "output_type": "stream",
     "text": [
      "/opt/conda/lib/python3.7/site-packages/torchaudio/backend/utils.py:54: UserWarning: \"sox\" backend is being deprecated. The default backend will be changed to \"sox_io\" backend in 0.8.0 and \"sox\" backend will be removed in 0.9.0. Please migrate to \"sox_io\" backend. Please refer to https://github.com/pytorch/audio/issues/903 for the detail.\n",
      "  '\"sox\" backend is being deprecated. '\n"
     ]
    }
   ],
   "source": [
    "import numpy as np\n",
    "import matplotlib.pyplot as plt\n",
    "from sklearn.model_selection import train_test_split\n",
    "import librosa\n",
    "import librosa.display\n",
    "import os\n",
    "import copy\n",
    "import torch\n",
    "from torch.utils.data import Dataset, DataLoader\n",
    "import random\n",
    "import skimage.io as io\n",
    "import pandas as pd\n",
    "from torchvision.models import resnet18\n",
    "import torchaudio.transforms as T\n",
    "from tqdm import tqdm"
   ]
  },
  {
   "cell_type": "code",
   "execution_count": 2,
   "metadata": {
    "execution": {
     "iopub.execute_input": "2021-04-05T17:22:43.582468Z",
     "iopub.status.busy": "2021-04-05T17:22:43.581797Z",
     "iopub.status.idle": "2021-04-05T17:22:43.584653Z",
     "shell.execute_reply": "2021-04-05T17:22:43.584132Z"
    },
    "papermill": {
     "duration": 0.019039,
     "end_time": "2021-04-05T17:22:43.584761",
     "exception": false,
     "start_time": "2021-04-05T17:22:43.565722",
     "status": "completed"
    },
    "tags": []
   },
   "outputs": [],
   "source": [
    "def seed_everything(seed=42):\n",
    "    print(f'setting everything to seed {seed}')\n",
    "    random.seed(seed)\n",
    "    os.environ['PYTHONHASHSEED'] = str(seed)\n",
    "    np.random.seed(seed)\n",
    "    torch.manual_seed(seed)\n",
    "    torch.cuda.manual_seed(seed)\n",
    "    torch.backends.cudnn.deterministic = True\n",
    "    torch.cuda.empty_cache()"
   ]
  },
  {
   "cell_type": "code",
   "execution_count": 3,
   "metadata": {
    "execution": {
     "iopub.execute_input": "2021-04-05T17:22:43.612911Z",
     "iopub.status.busy": "2021-04-05T17:22:43.612181Z",
     "iopub.status.idle": "2021-04-05T17:22:43.615061Z",
     "shell.execute_reply": "2021-04-05T17:22:43.614642Z"
    },
    "papermill": {
     "duration": 0.019027,
     "end_time": "2021-04-05T17:22:43.615174",
     "exception": false,
     "start_time": "2021-04-05T17:22:43.596147",
     "status": "completed"
    },
    "tags": []
   },
   "outputs": [],
   "source": [
    "device = torch.device('cuda:0')\n",
    "data_dir = '/kaggle/input/free-spoken-digits/free-spoken-digit-dataset-master/recordings'"
   ]
  },
  {
   "cell_type": "code",
   "execution_count": 4,
   "metadata": {
    "execution": {
     "iopub.execute_input": "2021-04-05T17:22:43.645495Z",
     "iopub.status.busy": "2021-04-05T17:22:43.644839Z",
     "iopub.status.idle": "2021-04-05T17:22:43.647763Z",
     "shell.execute_reply": "2021-04-05T17:22:43.647341Z"
    },
    "papermill": {
     "duration": 0.021202,
     "end_time": "2021-04-05T17:22:43.647873",
     "exception": false,
     "start_time": "2021-04-05T17:22:43.626671",
     "status": "completed"
    },
    "tags": []
   },
   "outputs": [],
   "source": [
    "def mono_to_color(X, eps=1e-6, mean=None, std=None):\n",
    "    # Standardize\n",
    "    mean = mean or X.mean()\n",
    "    std = std or X.std()\n",
    "    X = (X - mean) / (std + eps)\n",
    "    # Normalize to [0, 255]\n",
    "    _min, _max = X.min(), X.max()\n",
    "    if (_max - _min) > eps:\n",
    "        V = np.clip(X, _min, _max)\n",
    "        V = 255 * (V - _min) / (_max - _min)\n",
    "        V = V.astype(np.uint8)\n",
    "    else:\n",
    "        V = np.zeros_like(X, dtype=np.uint8)\n",
    "    return V\n",
    "\n",
    "def normalize(image, mean=None, std=None):\n",
    "    image = image / 255.0\n",
    "    if mean is not None and std is not None:\n",
    "        image = (image - mean) / std\n",
    "    return image.astype(np.float32)"
   ]
  },
  {
   "cell_type": "code",
   "execution_count": 5,
   "metadata": {
    "execution": {
     "iopub.execute_input": "2021-04-05T17:22:43.675488Z",
     "iopub.status.busy": "2021-04-05T17:22:43.674806Z",
     "iopub.status.idle": "2021-04-05T17:22:43.677949Z",
     "shell.execute_reply": "2021-04-05T17:22:43.677520Z"
    },
    "papermill": {
     "duration": 0.018481,
     "end_time": "2021-04-05T17:22:43.678057",
     "exception": false,
     "start_time": "2021-04-05T17:22:43.659576",
     "status": "completed"
    },
    "tags": []
   },
   "outputs": [],
   "source": [
    "NUM_SAMPLES = 11022\n",
    "sr = 48000\n",
    "fmin = 84\n",
    "fmax = sr // 2\n",
    "nmels = 128\n",
    "batch_size = 32\n",
    "random_seed = 42\n",
    "train_size = 0.8"
   ]
  },
  {
   "cell_type": "code",
   "execution_count": 6,
   "metadata": {
    "execution": {
     "iopub.execute_input": "2021-04-05T17:22:43.705107Z",
     "iopub.status.busy": "2021-04-05T17:22:43.704608Z",
     "iopub.status.idle": "2021-04-05T17:22:44.070462Z",
     "shell.execute_reply": "2021-04-05T17:22:44.071211Z"
    },
    "papermill": {
     "duration": 0.381706,
     "end_time": "2021-04-05T17:22:44.071483",
     "exception": false,
     "start_time": "2021-04-05T17:22:43.689777",
     "status": "completed"
    },
    "tags": []
   },
   "outputs": [],
   "source": [
    "recordings_old = sorted(os.listdir(data_dir))"
   ]
  },
  {
   "cell_type": "code",
   "execution_count": 7,
   "metadata": {
    "execution": {
     "iopub.execute_input": "2021-04-05T17:22:44.122044Z",
     "iopub.status.busy": "2021-04-05T17:22:44.119497Z",
     "iopub.status.idle": "2021-04-05T17:24:03.312767Z",
     "shell.execute_reply": "2021-04-05T17:24:03.311732Z"
    },
    "papermill": {
     "duration": 79.223903,
     "end_time": "2021-04-05T17:24:03.312934",
     "exception": false,
     "start_time": "2021-04-05T17:22:44.089031",
     "status": "completed"
    },
    "tags": []
   },
   "outputs": [],
   "source": [
    "recordings = []\n",
    "for x in recordings_old:\n",
    "    y, _ = librosa.load(data_dir + '/' + x, sr = sr)\n",
    "    if y.shape[0] >= NUM_SAMPLES:\n",
    "        recordings.append(x)"
   ]
  },
  {
   "cell_type": "code",
   "execution_count": 8,
   "metadata": {
    "execution": {
     "iopub.execute_input": "2021-04-05T17:24:03.344891Z",
     "iopub.status.busy": "2021-04-05T17:24:03.344155Z",
     "iopub.status.idle": "2021-04-05T17:24:03.347880Z",
     "shell.execute_reply": "2021-04-05T17:24:03.348272Z"
    },
    "papermill": {
     "duration": 0.022888,
     "end_time": "2021-04-05T17:24:03.348399",
     "exception": false,
     "start_time": "2021-04-05T17:24:03.325511",
     "status": "completed"
    },
    "tags": []
   },
   "outputs": [
    {
     "data": {
      "text/plain": [
       "2903"
      ]
     },
     "execution_count": 8,
     "metadata": {},
     "output_type": "execute_result"
    }
   ],
   "source": [
    "len(recordings)"
   ]
  },
  {
   "cell_type": "code",
   "execution_count": 9,
   "metadata": {
    "execution": {
     "iopub.execute_input": "2021-04-05T17:24:03.379658Z",
     "iopub.status.busy": "2021-04-05T17:24:03.378823Z",
     "iopub.status.idle": "2021-04-05T17:24:03.535928Z",
     "shell.execute_reply": "2021-04-05T17:24:03.535477Z"
    },
    "papermill": {
     "duration": 0.174081,
     "end_time": "2021-04-05T17:24:03.536050",
     "exception": false,
     "start_time": "2021-04-05T17:24:03.361969",
     "status": "completed"
    },
    "tags": []
   },
   "outputs": [
    {
     "data": {
      "image/png": "[encoded data removed]",
      "text/plain": [
       "<Figure size 1440x432 with 1 Axes>"
      ]
     },
     "metadata": {
      "needs_background": "light"
     },
     "output_type": "display_data"
    }
   ],
   "source": [
    "y, _ = librosa.load(data_dir + '/' + recordings[700], sr = sr)\n",
    "samples = y[:NUM_SAMPLES]\n",
    "melspec = librosa.feature.melspectrogram(samples, sr=sr, n_mels=nmels, fmin=fmin, fmax=fmax)\n",
    "melspec = librosa.power_to_db(melspec)\n",
    "melspec = mono_to_color(melspec)\n",
    "melspec = normalize(melspec, mean=None, std=None)\n",
    "plt.figure(figsize = (20, 6))\n",
    "plt.imshow(melspec)\n",
    "plt.show()"
   ]
  },
  {
   "cell_type": "code",
   "execution_count": 10,
   "metadata": {
    "execution": {
     "iopub.execute_input": "2021-04-05T17:24:03.568128Z",
     "iopub.status.busy": "2021-04-05T17:24:03.567526Z",
     "iopub.status.idle": "2021-04-05T17:24:03.570738Z",
     "shell.execute_reply": "2021-04-05T17:24:03.571136Z"
    },
    "papermill": {
     "duration": 0.021812,
     "end_time": "2021-04-05T17:24:03.571253",
     "exception": false,
     "start_time": "2021-04-05T17:24:03.549441",
     "status": "completed"
    },
    "tags": []
   },
   "outputs": [
    {
     "data": {
      "text/plain": [
       "(128, 22)"
      ]
     },
     "execution_count": 10,
     "metadata": {},
     "output_type": "execute_result"
    }
   ],
   "source": [
    "image_size = melspec.shape\n",
    "image_size"
   ]
  },
  {
   "cell_type": "code",
   "execution_count": 11,
   "metadata": {
    "execution": {
     "iopub.execute_input": "2021-04-05T17:24:03.610532Z",
     "iopub.status.busy": "2021-04-05T17:24:03.609379Z",
     "iopub.status.idle": "2021-04-05T17:24:03.612231Z",
     "shell.execute_reply": "2021-04-05T17:24:03.611833Z"
    },
    "papermill": {
     "duration": 0.02743,
     "end_time": "2021-04-05T17:24:03.612334",
     "exception": false,
     "start_time": "2021-04-05T17:24:03.584904",
     "status": "completed"
    },
    "tags": []
   },
   "outputs": [],
   "source": [
    "def noise_augmentation(im, var = 0.01):\n",
    "    noise = var * torch.randn(im.shape[1], im.shape[2])\n",
    "    im[0, :, :] += noise\n",
    "    im[1, :, :] += noise\n",
    "    im[2, :, :] += noise\n",
    "    return im\n",
    "\n",
    "def shift_augmentation(image, max_shift = 2):\n",
    "    shift = np.random.randint(max_shift)\n",
    "    p = np.random.rand()\n",
    "    if p < 0.5:\n",
    "        image[:, :, shift:] = image[:, :, :image.shape[2] - shift]\n",
    "        image[:, :, :shift] = 0.0\n",
    "    else:\n",
    "        image[:, :, :image.shape[2] - shift] = image[:, :, shift:]\n",
    "        image[:, :, image.shape[2] - shift:] = 0.0\n",
    "    return image\n",
    "    \n",
    "def random_erasing(image, max_a = 12, max_b = 2):\n",
    "    a = np.random.randint(max_a)\n",
    "    b = np.random.randint(max_b)\n",
    "    a0 = np.random.randint(image.shape[1] - max_a)\n",
    "    b0 = np.random.randint(image.shape[2] - max_a)\n",
    "    image[:, a0 : a0 + a, b0 : b0 + b] = 0\n",
    "    return image\n",
    "    \n",
    "    \n",
    "def augmentation(im, mode = 'No'):\n",
    "    image = im.clone()\n",
    "    if mode == 'TimeMasking':\n",
    "        return T.TimeMasking(2)(image)\n",
    "    if mode == 'FreqMasking':\n",
    "        return T.FrequencyMasking(12)(image)\n",
    "    if mode == 'RandomErasing':\n",
    "        return random_erasing(image, 12, 2)\n",
    "    if mode == 'Shift':\n",
    "        return shift_augmentation(image)\n",
    "    if mode == 'Noise':\n",
    "        return noise_augmentation(image)\n",
    "    \n",
    "    return image"
   ]
  },
  {
   "cell_type": "code",
   "execution_count": 12,
   "metadata": {
    "execution": {
     "iopub.execute_input": "2021-04-05T17:24:03.645019Z",
     "iopub.status.busy": "2021-04-05T17:24:03.644373Z",
     "iopub.status.idle": "2021-04-05T17:24:03.647706Z",
     "shell.execute_reply": "2021-04-05T17:24:03.647288Z"
    },
    "papermill": {
     "duration": 0.021846,
     "end_time": "2021-04-05T17:24:03.647812",
     "exception": false,
     "start_time": "2021-04-05T17:24:03.625966",
     "status": "completed"
    },
    "tags": []
   },
   "outputs": [],
   "source": [
    "def get_spectrogram(filename):\n",
    "    y, _ = librosa.load(filename, sr = sr)\n",
    "    samples = y[:NUM_SAMPLES]\n",
    "    melspec = librosa.feature.melspectrogram(samples, sr=sr, n_mels=nmels, fmin=fmin, fmax=fmax)\n",
    "    melspec = librosa.power_to_db(melspec)\n",
    "    melspec = mono_to_color(melspec)\n",
    "    melspec = normalize(melspec, mean=None, std=None)\n",
    "    return torch.tensor(melspec, dtype=torch.float32)"
   ]
  },
  {
   "cell_type": "code",
   "execution_count": 13,
   "metadata": {
    "execution": {
     "iopub.execute_input": "2021-04-05T17:24:03.679843Z",
     "iopub.status.busy": "2021-04-05T17:24:03.679045Z",
     "iopub.status.idle": "2021-04-05T17:25:27.810988Z",
     "shell.execute_reply": "2021-04-05T17:25:27.810460Z"
    },
    "papermill": {
     "duration": 84.149523,
     "end_time": "2021-04-05T17:25:27.811147",
     "exception": false,
     "start_time": "2021-04-05T17:24:03.661624",
     "status": "completed"
    },
    "tags": []
   },
   "outputs": [],
   "source": [
    "data = []\n",
    "labels = []\n",
    "for i in range(len(recordings)):\n",
    "    data.append(get_spectrogram(data_dir + '/' + recordings[i]))\n",
    "    labels.append(int(recordings[i][0]))\n"
   ]
  },
  {
   "cell_type": "code",
   "execution_count": 14,
   "metadata": {
    "execution": {
     "iopub.execute_input": "2021-04-05T17:25:27.847492Z",
     "iopub.status.busy": "2021-04-05T17:25:27.846167Z",
     "iopub.status.idle": "2021-04-05T17:25:27.848698Z",
     "shell.execute_reply": "2021-04-05T17:25:27.849073Z"
    },
    "papermill": {
     "duration": 0.023397,
     "end_time": "2021-04-05T17:25:27.849200",
     "exception": false,
     "start_time": "2021-04-05T17:25:27.825803",
     "status": "completed"
    },
    "tags": []
   },
   "outputs": [],
   "source": [
    "keys = np.arange(len(data))\n",
    "train_keys, test_keys = train_test_split(keys, train_size=train_size, random_state=random_seed)\n",
    "train_keys, valid_keys = train_test_split(train_keys, train_size=train_size, random_state=random_seed)"
   ]
  },
  {
   "cell_type": "code",
   "execution_count": 15,
   "metadata": {
    "execution": {
     "iopub.execute_input": "2021-04-05T17:25:27.884707Z",
     "iopub.status.busy": "2021-04-05T17:25:27.884011Z",
     "iopub.status.idle": "2021-04-05T17:25:27.886281Z",
     "shell.execute_reply": "2021-04-05T17:25:27.886783Z"
    },
    "papermill": {
     "duration": 0.023697,
     "end_time": "2021-04-05T17:25:27.886917",
     "exception": false,
     "start_time": "2021-04-05T17:25:27.863220",
     "status": "completed"
    },
    "tags": []
   },
   "outputs": [],
   "source": [
    "class AudioMNIST(Dataset):\n",
    "    def __init__(self, keys, mode = 'train', data = [], labels = [], augment = False, aug_type = 'No'):\n",
    "        super().__init__()\n",
    "        self.n = len(keys)\n",
    "        self.data = []\n",
    "        self.labels = []\n",
    "        self.augment = augment\n",
    "        self.aug_type = aug_type\n",
    "        for i in keys:\n",
    "            self.data.append(data[i])\n",
    "            self.labels.append(labels[i])\n",
    "\n",
    "    def __getitem__(self, i):\n",
    "        X = self.data[i]\n",
    "        X = torch.stack([X, X, X])\n",
    "        if self.augment:\n",
    "            X = augmentation(X, self.aug_type)\n",
    "        return X, self.labels[i]\n",
    "\n",
    "    def __len__(self):\n",
    "        return self.n"
   ]
  },
  {
   "cell_type": "code",
   "execution_count": 16,
   "metadata": {
    "execution": {
     "iopub.execute_input": "2021-04-05T17:25:27.926803Z",
     "iopub.status.busy": "2021-04-05T17:25:27.926116Z",
     "iopub.status.idle": "2021-04-05T17:25:27.928967Z",
     "shell.execute_reply": "2021-04-05T17:25:27.928471Z"
    },
    "papermill": {
     "duration": 0.0281,
     "end_time": "2021-04-05T17:25:27.929066",
     "exception": false,
     "start_time": "2021-04-05T17:25:27.900966",
     "status": "completed"
    },
    "tags": []
   },
   "outputs": [],
   "source": [
    "def train(model, loss_fn, train_loader, valid_loader, epochs, optimizer, augment = 'No'):\n",
    "    best_model_wts = copy.deepcopy(model.state_dict())\n",
    "    best_acc = 0.0\n",
    "    train_losses = []\n",
    "    valid_losses = []\n",
    "    valid_acc = []\n",
    "    best_train_acc = 0.0\n",
    "    for epoch in range(epochs):\n",
    "        print('epoch:', epoch)\n",
    "        model.train()\n",
    "        sum_loss = 0\n",
    "        sum_accuracy = 0\n",
    "        cnt_objects = 0\n",
    "        for X, y in train_dataloader:\n",
    "            optimizer.zero_grad()\n",
    "            X = X.to(device)\n",
    "            scores = model(X)\n",
    "            loss = criterion(scores, y.to(device))\n",
    "            loss.backward()\n",
    "            optimizer.step()\n",
    "            sum_loss += float(loss) * len(y)\n",
    "            cnt_objects += len(y)\n",
    "\n",
    "        mean_loss = sum_loss / cnt_objects\n",
    "        train_losses.append(mean_loss)\n",
    "        print('Train')\n",
    "        print(mean_loss)\n",
    "\n",
    "        model.eval()\n",
    "        sum_loss = 0\n",
    "        sum_accuracy = 0\n",
    "        cnt_objects = 0\n",
    "        with torch.no_grad():\n",
    "            for X, y in valid_loader:\n",
    "                X = X.to(device)\n",
    "                scores = model(X)\n",
    "                loss = criterion(scores, y.to(device))\n",
    "                sum_loss += float(loss) * len(y)\n",
    "                preds = scores.cpu().detach().argmax(dim=1)\n",
    "                accuracy = float((y == preds).float().sum())\n",
    "                sum_accuracy += accuracy\n",
    "                cnt_objects += len(y)\n",
    "\n",
    "        print('TEST')\n",
    "        mean_loss = sum_loss / cnt_objects\n",
    "        valid_losses.append(mean_loss)\n",
    "        mean_accuracy = sum_accuracy / cnt_objects\n",
    "        valid_acc.append(mean_accuracy)\n",
    "        if mean_accuracy > best_acc:\n",
    "            best_acc = mean_accuracy\n",
    "            best_model_wts = copy.deepcopy(model.state_dict())\n",
    "        print('loss:', mean_loss)\n",
    "        print('accuracy:', mean_accuracy)\n",
    "        print('******************')\n",
    "    print('Accuracy on the validation: ', best_acc)\n",
    "    model.load_state_dict(best_model_wts)\n",
    "    return model, train_losses, valid_losses, valid_acc"
   ]
  },
  {
   "cell_type": "code",
   "execution_count": 17,
   "metadata": {
    "execution": {
     "iopub.execute_input": "2021-04-05T17:25:27.964328Z",
     "iopub.status.busy": "2021-04-05T17:25:27.963622Z",
     "iopub.status.idle": "2021-04-05T17:25:27.965893Z",
     "shell.execute_reply": "2021-04-05T17:25:27.966255Z"
    },
    "papermill": {
     "duration": 0.022707,
     "end_time": "2021-04-05T17:25:27.966374",
     "exception": false,
     "start_time": "2021-04-05T17:25:27.943667",
     "status": "completed"
    },
    "tags": []
   },
   "outputs": [],
   "source": [
    "def evaluate(model, test_loader):\n",
    "    model.eval()\n",
    "    #all_preds = []\n",
    "    sum_accuracy = 0\n",
    "    cnt_objects = 0\n",
    "    with torch.no_grad():\n",
    "        for X, y in test_loader:\n",
    "            X = X.to(device)\n",
    "            scores = model(X)\n",
    "            preds = scores.cpu().detach().argmax(dim=1)\n",
    "            accuracy = float((y == preds).float().sum())\n",
    "            sum_accuracy += accuracy\n",
    "            cnt_objects += len(y)\n",
    "            #all_preds.append(preds)\n",
    "\n",
    "    mean_accuracy = sum_accuracy / cnt_objects\n",
    "    print('Quality of the model')\n",
    "    print('accuracy:', mean_accuracy)"
   ]
  },
  {
   "cell_type": "markdown",
   "metadata": {
    "papermill": {
     "duration": 0.014265,
     "end_time": "2021-04-05T17:25:27.995028",
     "exception": false,
     "start_time": "2021-04-05T17:25:27.980763",
     "status": "completed"
    },
    "tags": []
   },
   "source": [
    "## Resnet18"
   ]
  },
  {
   "cell_type": "markdown",
   "metadata": {
    "papermill": {
     "duration": 0.014451,
     "end_time": "2021-04-05T17:25:28.023811",
     "exception": false,
     "start_time": "2021-04-05T17:25:28.009360",
     "status": "completed"
    },
    "tags": []
   },
   "source": [
    "### FreqMasking"
   ]
  },
  {
   "cell_type": "code",
   "execution_count": 18,
   "metadata": {
    "execution": {
     "iopub.execute_input": "2021-04-05T17:25:28.073469Z",
     "iopub.status.busy": "2021-04-05T17:25:28.072691Z",
     "iopub.status.idle": "2021-04-05T17:28:18.751069Z",
     "shell.execute_reply": "2021-04-05T17:28:18.750312Z"
    },
    "papermill": {
     "duration": 170.712997,
     "end_time": "2021-04-05T17:28:18.751211",
     "exception": false,
     "start_time": "2021-04-05T17:25:28.038214",
     "status": "completed"
    },
    "tags": []
   },
   "outputs": [
    {
     "name": "stdout",
     "output_type": "stream",
     "text": [
      "setting everything to seed 42\n"
     ]
    },
    {
     "name": "stderr",
     "output_type": "stream",
     "text": [
      "Downloading: \"https://download.pytorch.org/models/resnet18-5c106cde.pth\" to /root/.cache/torch/hub/checkpoints/resnet18-5c106cde.pth\n"
     ]
    },
    {
     "data": {
      "application/vnd.jupyter.widget-view+json": {
       "model_id": "59a57da3a26b413592a0d19d25e9799d",
       "version_major": 2,
       "version_minor": 0
      },
      "text/plain": [
       "  0%|          | 0.00/44.7M [00:00<?, ?B/s]"
      ]
     },
     "metadata": {},
     "output_type": "display_data"
    },
    {
     "name": "stdout",
     "output_type": "stream",
     "text": [
      "epoch: 0\n",
      "Train\n",
      "1.1940001380912193\n",
      "TEST\n",
      "loss: 0.46912488033694605\n",
      "accuracy: 0.8344086021505376\n",
      "******************\n",
      "epoch: 1\n",
      "Train\n",
      "0.4706274348686765\n",
      "TEST\n",
      "loss: 0.2800354813696236\n",
      "accuracy: 0.9204301075268817\n",
      "******************\n",
      "epoch: 2\n",
      "Train\n",
      "0.3424086659970178\n",
      "TEST\n",
      "loss: 0.6763862638063328\n",
      "accuracy: 0.8150537634408602\n",
      "******************\n",
      "epoch: 3\n",
      "Train\n",
      "0.37103230438376217\n",
      "TEST\n",
      "loss: 0.25464397002291933\n",
      "accuracy: 0.9311827956989247\n",
      "******************\n",
      "epoch: 4\n",
      "Train\n",
      "0.30045365619608067\n",
      "TEST\n",
      "loss: 0.36751740119790516\n",
      "accuracy: 0.9032258064516129\n",
      "******************\n",
      "epoch: 5\n",
      "Train\n",
      "0.24710556097613526\n",
      "TEST\n",
      "loss: 0.19440413828819028\n",
      "accuracy: 0.9376344086021505\n",
      "******************\n",
      "epoch: 6\n",
      "Train\n",
      "0.17363955496971364\n",
      "TEST\n",
      "loss: 0.29401934268654034\n",
      "accuracy: 0.9290322580645162\n",
      "******************\n",
      "epoch: 7\n",
      "Train\n",
      "0.12386657871350076\n",
      "TEST\n",
      "loss: 0.30623771705294167\n",
      "accuracy: 0.9247311827956989\n",
      "******************\n",
      "epoch: 8\n",
      "Train\n",
      "0.16184300434608645\n",
      "TEST\n",
      "loss: 0.8399763271372805\n",
      "accuracy: 0.7956989247311828\n",
      "******************\n",
      "epoch: 9\n",
      "Train\n",
      "0.2577816258853138\n",
      "TEST\n",
      "loss: 0.24994442350761864\n",
      "accuracy: 0.9247311827956989\n",
      "******************\n",
      "epoch: 10\n",
      "Train\n",
      "0.15787747625901485\n",
      "TEST\n",
      "loss: 0.9126035111565743\n",
      "accuracy: 0.7569892473118279\n",
      "******************\n",
      "epoch: 11\n",
      "Train\n",
      "0.20189643195064463\n",
      "TEST\n",
      "loss: 0.17706966358487325\n",
      "accuracy: 0.9440860215053763\n",
      "******************\n",
      "epoch: 12\n",
      "Train\n",
      "0.1745062126032306\n",
      "TEST\n",
      "loss: 0.268787978701694\n",
      "accuracy: 0.9290322580645162\n",
      "******************\n",
      "epoch: 13\n",
      "Train\n",
      "0.1168175535371821\n",
      "TEST\n",
      "loss: 0.21227556007203235\n",
      "accuracy: 0.946236559139785\n",
      "******************\n",
      "epoch: 14\n",
      "Train\n",
      "0.09511965822165669\n",
      "TEST\n",
      "loss: 0.20291313114826398\n",
      "accuracy: 0.9483870967741935\n",
      "******************\n",
      "epoch: 15\n",
      "Train\n",
      "0.08664751992504251\n",
      "TEST\n",
      "loss: 0.1903736272165852\n",
      "accuracy: 0.9612903225806452\n",
      "******************\n",
      "epoch: 16\n",
      "Train\n",
      "0.07680409265642983\n",
      "TEST\n",
      "loss: 0.24220027026309762\n",
      "accuracy: 0.946236559139785\n",
      "******************\n",
      "epoch: 17\n",
      "Train\n",
      "0.07286124915089187\n",
      "TEST\n",
      "loss: 0.3172973280131657\n",
      "accuracy: 0.9483870967741935\n",
      "******************\n",
      "epoch: 18\n",
      "Train\n",
      "0.10887353381921382\n",
      "TEST\n",
      "loss: 0.6036665328087345\n",
      "accuracy: 0.8602150537634409\n",
      "******************\n",
      "epoch: 19\n",
      "Train\n",
      "0.10319826644822738\n",
      "TEST\n",
      "loss: 0.19456434137318082\n",
      "accuracy: 0.9526881720430107\n",
      "******************\n",
      "epoch: 20\n",
      "Train\n",
      "0.06853566063577024\n",
      "TEST\n",
      "loss: 0.34648518164952596\n",
      "accuracy: 0.9290322580645162\n",
      "******************\n",
      "epoch: 21\n",
      "Train\n",
      "0.06515201701149224\n",
      "TEST\n",
      "loss: 0.17462064643861144\n",
      "accuracy: 0.9548387096774194\n",
      "******************\n",
      "epoch: 22\n",
      "Train\n",
      "0.04553445397716218\n",
      "TEST\n",
      "loss: 0.1815645641777464\n",
      "accuracy: 0.9612903225806452\n",
      "******************\n",
      "epoch: 23\n",
      "Train\n",
      "0.0869588450833104\n",
      "TEST\n",
      "loss: 0.23262063449108472\n",
      "accuracy: 0.9526881720430107\n",
      "******************\n",
      "epoch: 24\n",
      "Train\n",
      "0.05396466842849022\n",
      "TEST\n",
      "loss: 0.15084081643050717\n",
      "accuracy: 0.9526881720430107\n",
      "******************\n",
      "epoch: 25\n",
      "Train\n",
      "0.04851750445521578\n",
      "TEST\n",
      "loss: 0.23388519131688662\n",
      "accuracy: 0.9505376344086022\n",
      "******************\n",
      "epoch: 26\n",
      "Train\n",
      "0.08193368976258693\n",
      "TEST\n",
      "loss: 0.27481599217781455\n",
      "accuracy: 0.9591397849462365\n",
      "******************\n",
      "epoch: 27\n",
      "Train\n",
      "0.03760653197982007\n",
      "TEST\n",
      "loss: 0.2446535019183992\n",
      "accuracy: 0.9505376344086022\n",
      "******************\n",
      "epoch: 28\n",
      "Train\n",
      "0.10777395780313125\n",
      "TEST\n",
      "loss: 0.4051386587722327\n",
      "accuracy: 0.9010752688172043\n",
      "******************\n",
      "epoch: 29\n",
      "Train\n",
      "0.08810764549758464\n",
      "TEST\n",
      "loss: 0.42243914578550606\n",
      "accuracy: 0.8881720430107527\n",
      "******************\n",
      "epoch: 30\n",
      "Train\n",
      "0.053551415935375386\n",
      "TEST\n",
      "loss: 0.21004061162051174\n",
      "accuracy: 0.9548387096774194\n",
      "******************\n",
      "epoch: 31\n",
      "Train\n",
      "0.10873743407498478\n",
      "TEST\n",
      "loss: 0.23801746893954534\n",
      "accuracy: 0.9483870967741935\n",
      "******************\n",
      "epoch: 32\n",
      "Train\n",
      "0.06568282487459669\n",
      "TEST\n",
      "loss: 0.16937555738834925\n",
      "accuracy: 0.9655913978494624\n",
      "******************\n",
      "epoch: 33\n",
      "Train\n",
      "0.07230588433362331\n",
      "TEST\n",
      "loss: 0.1792492384070991\n",
      "accuracy: 0.9526881720430107\n",
      "******************\n",
      "epoch: 34\n",
      "Train\n",
      "0.06552050444039209\n",
      "TEST\n",
      "loss: 0.21896008584367974\n",
      "accuracy: 0.9548387096774194\n",
      "******************\n",
      "epoch: 35\n",
      "Train\n",
      "0.048282747529547386\n",
      "TEST\n",
      "loss: 0.16951553690577706\n",
      "accuracy: 0.956989247311828\n",
      "******************\n",
      "epoch: 36\n",
      "Train\n",
      "0.04698979827250902\n",
      "TEST\n",
      "loss: 0.27027293097588323\n",
      "accuracy: 0.946236559139785\n",
      "******************\n",
      "epoch: 37\n",
      "Train\n",
      "0.060195690551526966\n",
      "TEST\n",
      "loss: 0.15355727722848295\n",
      "accuracy: 0.9612903225806452\n",
      "******************\n",
      "epoch: 38\n",
      "Train\n",
      "0.04224462905877626\n",
      "TEST\n",
      "loss: 0.32340823431168836\n",
      "accuracy: 0.9354838709677419\n",
      "******************\n",
      "epoch: 39\n",
      "Train\n",
      "0.02383250161186944\n",
      "TEST\n",
      "loss: 0.25674197364157886\n",
      "accuracy: 0.9419354838709677\n",
      "******************\n",
      "epoch: 40\n",
      "Train\n",
      "0.026897390418187964\n",
      "TEST\n",
      "loss: 0.20693512652269613\n",
      "accuracy: 0.9591397849462365\n",
      "******************\n",
      "epoch: 41\n",
      "Train\n",
      "0.03171084930655869\n",
      "TEST\n",
      "loss: 0.1903568054098756\n",
      "accuracy: 0.9591397849462365\n",
      "******************\n",
      "epoch: 42\n",
      "Train\n",
      "0.01615652405467801\n",
      "TEST\n",
      "loss: 0.15493570215178915\n",
      "accuracy: 0.9741935483870968\n",
      "******************\n",
      "epoch: 43\n",
      "Train\n",
      "0.024838344204276157\n",
      "TEST\n",
      "loss: 0.23317979373117928\n",
      "accuracy: 0.9612903225806452\n",
      "******************\n",
      "epoch: 44\n",
      "Train\n",
      "0.08707334641337106\n",
      "TEST\n",
      "loss: 0.17357325174955912\n",
      "accuracy: 0.9655913978494624\n",
      "******************\n",
      "epoch: 45\n",
      "Train\n",
      "0.048749998779581256\n",
      "TEST\n",
      "loss: 0.21339056749017007\n",
      "accuracy: 0.956989247311828\n",
      "******************\n",
      "epoch: 46\n",
      "Train\n",
      "0.043778077245869976\n",
      "TEST\n",
      "loss: 0.1811969304917961\n",
      "accuracy: 0.967741935483871\n",
      "******************\n",
      "epoch: 47\n",
      "Train\n",
      "0.039019804905777056\n",
      "TEST\n",
      "loss: 0.14785447624181547\n",
      "accuracy: 0.967741935483871\n",
      "******************\n",
      "epoch: 48\n",
      "Train\n",
      "0.02675259261887057\n",
      "TEST\n",
      "loss: 0.1789430961193096\n",
      "accuracy: 0.9655913978494624\n",
      "******************\n",
      "epoch: 49\n",
      "Train\n",
      "0.02258176915172044\n",
      "TEST\n",
      "loss: 0.18545826162782408\n",
      "accuracy: 0.9612903225806452\n",
      "******************\n",
      "epoch: 50\n",
      "Train\n",
      "0.020112057622947405\n",
      "TEST\n",
      "loss: 0.1863850006272876\n",
      "accuracy: 0.9612903225806452\n",
      "******************\n",
      "epoch: 51\n",
      "Train\n",
      "0.019821679818919895\n",
      "TEST\n",
      "loss: 0.1808737818271883\n",
      "accuracy: 0.9698924731182795\n",
      "******************\n",
      "epoch: 52\n",
      "Train\n",
      "0.020082339304401533\n",
      "TEST\n",
      "loss: 0.20545442384337226\n",
      "accuracy: 0.9634408602150538\n",
      "******************\n",
      "epoch: 53\n",
      "Train\n",
      "0.0381427849846048\n",
      "TEST\n",
      "loss: 0.3040582290900651\n",
      "accuracy: 0.946236559139785\n",
      "******************\n",
      "epoch: 54\n",
      "Train\n",
      "0.03194134646382706\n",
      "TEST\n",
      "loss: 0.25479994225566105\n",
      "accuracy: 0.9419354838709677\n",
      "******************\n",
      "epoch: 55\n",
      "Train\n",
      "0.023679940412889244\n",
      "TEST\n",
      "loss: 0.2158471639438342\n",
      "accuracy: 0.9612903225806452\n",
      "******************\n",
      "epoch: 56\n",
      "Train\n",
      "0.05122124577642258\n",
      "TEST\n",
      "loss: 0.34290318399347286\n",
      "accuracy: 0.9311827956989247\n",
      "******************\n",
      "epoch: 57\n",
      "Train\n",
      "0.05003453043776458\n",
      "TEST\n",
      "loss: 0.33863559747415206\n",
      "accuracy: 0.9397849462365592\n",
      "******************\n",
      "epoch: 58\n",
      "Train\n",
      "0.036470011670060164\n",
      "TEST\n",
      "loss: 0.14516785696789783\n",
      "accuracy: 0.9634408602150538\n",
      "******************\n",
      "epoch: 59\n",
      "Train\n",
      "0.017286964474766485\n",
      "TEST\n",
      "loss: 0.20775844967894017\n",
      "accuracy: 0.9591397849462365\n",
      "******************\n",
      "epoch: 60\n",
      "Train\n",
      "0.015806502228032038\n",
      "TEST\n",
      "loss: 0.2550939840194519\n",
      "accuracy: 0.9483870967741935\n",
      "******************\n",
      "epoch: 61\n",
      "Train\n",
      "0.015680714484929085\n",
      "TEST\n",
      "loss: 0.20202020536244455\n",
      "accuracy: 0.956989247311828\n",
      "******************\n",
      "epoch: 62\n",
      "Train\n",
      "0.01872761731623287\n",
      "TEST\n",
      "loss: 0.17908720962593072\n",
      "accuracy: 0.9634408602150538\n",
      "******************\n",
      "epoch: 63\n",
      "Train\n",
      "0.03982749882600018\n",
      "TEST\n",
      "loss: 0.18078281864203433\n",
      "accuracy: 0.9655913978494624\n",
      "******************\n",
      "epoch: 64\n",
      "Train\n",
      "0.01582067730291418\n",
      "TEST\n",
      "loss: 0.18130012118127398\n",
      "accuracy: 0.9655913978494624\n",
      "******************\n",
      "epoch: 65\n",
      "Train\n",
      "0.013120852264349475\n",
      "TEST\n",
      "loss: 0.16342074683797295\n",
      "accuracy: 0.9655913978494624\n",
      "******************\n",
      "epoch: 66\n",
      "Train\n",
      "0.01898057417348268\n",
      "TEST\n",
      "loss: 0.14079934995300988\n",
      "accuracy: 0.967741935483871\n",
      "******************\n",
      "epoch: 67\n",
      "Train\n",
      "0.025574408777762257\n",
      "TEST\n",
      "loss: 0.2999591077848147\n",
      "accuracy: 0.946236559139785\n",
      "******************\n",
      "epoch: 68\n",
      "Train\n",
      "0.03773125713690113\n",
      "TEST\n",
      "loss: 0.22203053099013145\n",
      "accuracy: 0.9526881720430107\n",
      "******************\n",
      "epoch: 69\n",
      "Train\n",
      "0.05765240072128782\n",
      "TEST\n",
      "loss: 0.29009534774288054\n",
      "accuracy: 0.9290322580645162\n",
      "******************\n",
      "epoch: 70\n",
      "Train\n",
      "0.04788719300896844\n",
      "TEST\n",
      "loss: 0.2618719144774381\n",
      "accuracy: 0.9483870967741935\n",
      "******************\n",
      "epoch: 71\n",
      "Train\n",
      "0.0828310438483456\n",
      "TEST\n",
      "loss: 0.19202882953548944\n",
      "accuracy: 0.967741935483871\n",
      "******************\n",
      "epoch: 72\n",
      "Train\n",
      "0.048186108281893084\n",
      "TEST\n",
      "loss: 0.2512718948345351\n",
      "accuracy: 0.946236559139785\n",
      "******************\n",
      "epoch: 73\n",
      "Train\n",
      "0.04973459671871856\n",
      "TEST\n",
      "loss: 0.2434958110631053\n",
      "accuracy: 0.9655913978494624\n",
      "******************\n",
      "epoch: 74\n",
      "Train\n",
      "0.027473848726847157\n",
      "TEST\n",
      "loss: 0.26638576649730245\n",
      "accuracy: 0.9397849462365592\n",
      "******************\n",
      "Accuracy on the validation:  0.9741935483870968\n"
     ]
    }
   ],
   "source": [
    "seed_everything(42)\n",
    "\n",
    "train_dataset = AudioMNIST(mode='train', data = data, labels = labels, augment = True, aug_type = 'FreqMasking', keys = train_keys)\n",
    "valid_dataset = AudioMNIST(mode='valid', data = data, labels = labels, keys = valid_keys)\n",
    "test_dataset = AudioMNIST(mode='test', data = data, labels = labels, keys = test_keys)\n",
    "\n",
    "train_dataloader = DataLoader(train_dataset, batch_size=batch_size, shuffle=True)\n",
    "valid_dataloader = DataLoader(valid_dataset, batch_size=batch_size, shuffle=False)\n",
    "test_dataloader = DataLoader(test_dataset, batch_size=batch_size, shuffle=False)\n",
    "\n",
    "model = resnet18(pretrained=True)\n",
    "num_ftrs = model.fc.in_features\n",
    "model.fc = torch.nn.Linear(num_ftrs, 10)\n",
    "model = model.to(device)\n",
    "\n",
    "epochs = 75\n",
    "criterion = torch.nn.CrossEntropyLoss()\n",
    "optimizer = torch.optim.Adam(model.parameters())\n",
    "\n",
    "model, train_losses, valid_losses, valid_acc = train(model, criterion, train_dataloader, valid_dataloader, epochs, optimizer)"
   ]
  },
  {
   "cell_type": "code",
   "execution_count": 19,
   "metadata": {
    "execution": {
     "iopub.execute_input": "2021-04-05T17:28:18.826102Z",
     "iopub.status.busy": "2021-04-05T17:28:18.825173Z",
     "iopub.status.idle": "2021-04-05T17:28:18.961205Z",
     "shell.execute_reply": "2021-04-05T17:28:18.960630Z"
    },
    "papermill": {
     "duration": 0.174822,
     "end_time": "2021-04-05T17:28:18.961381",
     "exception": false,
     "start_time": "2021-04-05T17:28:18.786559",
     "status": "completed"
    },
    "tags": []
   },
   "outputs": [
    {
     "name": "stdout",
     "output_type": "stream",
     "text": [
      "Quality of the model\n",
      "accuracy: 0.9621342512908778\n"
     ]
    }
   ],
   "source": [
    "evaluate(model, test_dataloader)"
   ]
  },
  {
   "cell_type": "code",
   "execution_count": 20,
   "metadata": {
    "execution": {
     "iopub.execute_input": "2021-04-05T17:28:19.050644Z",
     "iopub.status.busy": "2021-04-05T17:28:19.049848Z",
     "iopub.status.idle": "2021-04-05T17:28:19.192575Z",
     "shell.execute_reply": "2021-04-05T17:28:19.192979Z"
    },
    "papermill": {
     "duration": 0.196364,
     "end_time": "2021-04-05T17:28:19.193112",
     "exception": false,
     "start_time": "2021-04-05T17:28:18.996748",
     "status": "completed"
    },
    "tags": []
   },
   "outputs": [
    {
     "data": {
      "image/png": "[encoded data removed]",
      "text/plain": [
       "<Figure size 432x288 with 1 Axes>"
      ]
     },
     "metadata": {
      "needs_background": "light"
     },
     "output_type": "display_data"
    }
   ],
   "source": [
    "plt.plot(np.arange(epochs), train_losses, label = 'train_loss')\n",
    "plt.plot(np.arange(epochs), valid_losses, label = 'valid_loss')\n",
    "plt.plot(np.arange(epochs), valid_acc, label = 'valid_accuracy')\n",
    "plt.legend()\n",
    "plt.show()"
   ]
  }
 ],
 "metadata": {
  "kernelspec": {
   "display_name": "Python 3",
   "language": "python",
   "name": "python3"
  },
  "language_info": {
   "codemirror_mode": {
    "name": "ipython",
    "version": 3
   },
   "file_extension": ".py",
   "mimetype": "text/x-python",
   "name": "python",
   "nbconvert_exporter": "python",
   "pygments_lexer": "ipython3",
   "version": "3.7.9"
  },
  "papermill": {
   "default_parameters": {},
   "duration": 346.907477,
   "end_time": "2021-04-05T17:28:21.381744",
   "environment_variables": {},
   "exception": null,
   "input_path": "__notebook__.ipynb",
   "output_path": "__notebook__.ipynb",
   "parameters": {},
   "start_time": "2021-04-05T17:22:34.474267",
   "version": "2.2.2"
  },
  "widgets": {
   "application/vnd.jupyter.widget-state+json": {
    "state": {
     "0ab5f0d8711a4be8ad52dd05b0262b0a": {
      "model_module": "@jupyter-widgets/base",
      "model_module_version": "1.2.0",
      "model_name": "LayoutModel",
      "state": {
       "_model_module": "@jupyter-widgets/base",
       "_model_module_version": "1.2.0",
       "_model_name": "LayoutModel",
       "_view_count": null,
       "_view_module": "@jupyter-widgets/base",
       "_view_module_version": "1.2.0",
       "_view_name": "LayoutView",
       "align_content": null,
       "align_items": null,
       "align_self": null,
       "border": null,
       "bottom": null,
       "display": null,
       "flex": null,
       "flex_flow": null,
       "grid_area": null,
       "grid_auto_columns": null,
       "grid_auto_flow": null,
       "grid_auto_rows": null,
       "grid_column": null,
       "grid_gap": null,
       "grid_row": null,
       "grid_template_areas": null,
       "grid_template_columns": null,
       "grid_template_rows": null,
       "height": null,
       "justify_content": null,
       "justify_items": null,
       "left": null,
       "margin": null,
       "max_height": null,
       "max_width": null,
       "min_height": null,
       "min_width": null,
       "object_fit": null,
       "object_position": null,
       "order": null,
       "overflow": null,
       "overflow_x": null,
       "overflow_y": null,
       "padding": null,
       "right": null,
       "top": null,
       "visibility": null,
       "width": null
      }
     },
     "0ef7c1a6bace4e70976fe58eec0f3863": {
      "model_module": "@jupyter-widgets/base",
      "model_module_version": "1.2.0",
      "model_name": "LayoutModel",
      "state": {
       "_model_module": "@jupyter-widgets/base",
       "_model_module_version": "1.2.0",
       "_model_name": "LayoutModel",
       "_view_count": null,
       "_view_module": "@jupyter-widgets/base",
       "_view_module_version": "1.2.0",
       "_view_name": "LayoutView",
       "align_content": null,
       "align_items": null,
       "align_self": null,
       "border": null,
       "bottom": null,
       "display": null,
       "flex": null,
       "flex_flow": null,
       "grid_area": null,
       "grid_auto_columns": null,
       "grid_auto_flow": null,
       "grid_auto_rows": null,
       "grid_column": null,
       "grid_gap": null,
       "grid_row": null,
       "grid_template_areas": null,
       "grid_template_columns": null,
       "grid_template_rows": null,
       "height": null,
       "justify_content": null,
       "justify_items": null,
       "left": null,
       "margin": null,
       "max_height": null,
       "max_width": null,
       "min_height": null,
       "min_width": null,
       "object_fit": null,
       "object_position": null,
       "order": null,
       "overflow": null,
       "overflow_x": null,
       "overflow_y": null,
       "padding": null,
       "right": null,
       "top": null,
       "visibility": null,
       "width": null
      }
     },
     "3262181b893d4e35983d8dbdb6cdc61f": {
      "model_module": "@jupyter-widgets/controls",
      "model_module_version": "1.5.0",
      "model_name": "ProgressStyleModel",
      "state": {
       "_model_module": "@jupyter-widgets/controls",
       "_model_module_version": "1.5.0",
       "_model_name": "ProgressStyleModel",
       "_view_count": null,
       "_view_module": "@jupyter-widgets/base",
       "_view_module_version": "1.2.0",
       "_view_name": "StyleView",
       "bar_color": null,
       "description_width": ""
      }
     },
     "338c47c35094422b9c494e8ded56692a": {
      "model_module": "@jupyter-widgets/controls",
      "model_module_version": "1.5.0",
      "model_name": "HTMLModel",
      "state": {
       "_dom_classes": [],
       "_model_module": "@jupyter-widgets/controls",
       "_model_module_version": "1.5.0",
       "_model_name": "HTMLModel",
       "_view_count": null,
       "_view_module": "@jupyter-widgets/controls",
       "_view_module_version": "1.5.0",
       "_view_name": "HTMLView",
       "description": "",
       "description_tooltip": null,
       "layout": "IPY_MODEL_56127b6d275d44149e634d1ee0339591",
       "placeholder": "​",
       "style": "IPY_MODEL_8a9c37dc8346480b83e7ea8d10cf4775",
       "value": "100%"
      }
     },
     "340f2eee04d7408abbf2039812031fd0": {
      "model_module": "@jupyter-widgets/controls",
      "model_module_version": "1.5.0",
      "model_name": "HTMLModel",
      "state": {
       "_dom_classes": [],
       "_model_module": "@jupyter-widgets/controls",
       "_model_module_version": "1.5.0",
       "_model_name": "HTMLModel",
       "_view_count": null,
       "_view_module": "@jupyter-widgets/controls",
       "_view_module_version": "1.5.0",
       "_view_name": "HTMLView",
       "description": "",
       "description_tooltip": null,
       "layout": "IPY_MODEL_0ab5f0d8711a4be8ad52dd05b0262b0a",
       "placeholder": "​",
       "style": "IPY_MODEL_73239c060fd74e6ab8c875ed1d033526",
       "value": " 44.7M/44.7M [00:03&lt;00:00, 16.4MB/s]"
      }
     },
     "44efdde64ece46fea37602bd0071b6aa": {
      "model_module": "@jupyter-widgets/base",
      "model_module_version": "1.2.0",
      "model_name": "LayoutModel",
      "state": {
       "_model_module": "@jupyter-widgets/base",
       "_model_module_version": "1.2.0",
       "_model_name": "LayoutModel",
       "_view_count": null,
       "_view_module": "@jupyter-widgets/base",
       "_view_module_version": "1.2.0",
       "_view_name": "LayoutView",
       "align_content": null,
       "align_items": null,
       "align_self": null,
       "border": null,
       "bottom": null,
       "display": null,
       "flex": null,
       "flex_flow": null,
       "grid_area": null,
       "grid_auto_columns": null,
       "grid_auto_flow": null,
       "grid_auto_rows": null,
       "grid_column": null,
       "grid_gap": null,
       "grid_row": null,
       "grid_template_areas": null,
       "grid_template_columns": null,
       "grid_template_rows": null,
       "height": null,
       "justify_content": null,
       "justify_items": null,
       "left": null,
       "margin": null,
       "max_height": null,
       "max_width": null,
       "min_height": null,
       "min_width": null,
       "object_fit": null,
       "object_position": null,
       "order": null,
       "overflow": null,
       "overflow_x": null,
       "overflow_y": null,
       "padding": null,
       "right": null,
       "top": null,
       "visibility": null,
       "width": null
      }
     },
     "56127b6d275d44149e634d1ee0339591": {
      "model_module": "@jupyter-widgets/base",
      "model_module_version": "1.2.0",
      "model_name": "LayoutModel",
      "state": {
       "_model_module": "@jupyter-widgets/base",
       "_model_module_version": "1.2.0",
       "_model_name": "LayoutModel",
       "_view_count": null,
       "_view_module": "@jupyter-widgets/base",
       "_view_module_version": "1.2.0",
       "_view_name": "LayoutView",
       "align_content": null,
       "align_items": null,
       "align_self": null,
       "border": null,
       "bottom": null,
       "display": null,
       "flex": null,
       "flex_flow": null,
       "grid_area": null,
       "grid_auto_columns": null,
       "grid_auto_flow": null,
       "grid_auto_rows": null,
       "grid_column": null,
       "grid_gap": null,
       "grid_row": null,
       "grid_template_areas": null,
       "grid_template_columns": null,
       "grid_template_rows": null,
       "height": null,
       "justify_content": null,
       "justify_items": null,
       "left": null,
       "margin": null,
       "max_height": null,
       "max_width": null,
       "min_height": null,
       "min_width": null,
       "object_fit": null,
       "object_position": null,
       "order": null,
       "overflow": null,
       "overflow_x": null,
       "overflow_y": null,
       "padding": null,
       "right": null,
       "top": null,
       "visibility": null,
       "width": null
      }
     },
     "59a57da3a26b413592a0d19d25e9799d": {
      "model_module": "@jupyter-widgets/controls",
      "model_module_version": "1.5.0",
      "model_name": "HBoxModel",
      "state": {
       "_dom_classes": [],
       "_model_module": "@jupyter-widgets/controls",
       "_model_module_version": "1.5.0",
       "_model_name": "HBoxModel",
       "_view_count": null,
       "_view_module": "@jupyter-widgets/controls",
       "_view_module_version": "1.5.0",
       "_view_name": "HBoxView",
       "box_style": "",
       "children": [
        "IPY_MODEL_338c47c35094422b9c494e8ded56692a",
        "IPY_MODEL_b2ae4f289f3840b6ab14e6bce80c71d4",
        "IPY_MODEL_340f2eee04d7408abbf2039812031fd0"
       ],
       "layout": "IPY_MODEL_0ef7c1a6bace4e70976fe58eec0f3863"
      }
     },
     "73239c060fd74e6ab8c875ed1d033526": {
      "model_module": "@jupyter-widgets/controls",
      "model_module_version": "1.5.0",
      "model_name": "DescriptionStyleModel",
      "state": {
       "_model_module": "@jupyter-widgets/controls",
       "_model_module_version": "1.5.0",
       "_model_name": "DescriptionStyleModel",
       "_view_count": null,
       "_view_module": "@jupyter-widgets/base",
       "_view_module_version": "1.2.0",
       "_view_name": "StyleView",
       "description_width": ""
      }
     },
     "8a9c37dc8346480b83e7ea8d10cf4775": {
      "model_module": "@jupyter-widgets/controls",
      "model_module_version": "1.5.0",
      "model_name": "DescriptionStyleModel",
      "state": {
       "_model_module": "@jupyter-widgets/controls",
       "_model_module_version": "1.5.0",
       "_model_name": "DescriptionStyleModel",
       "_view_count": null,
       "_view_module": "@jupyter-widgets/base",
       "_view_module_version": "1.2.0",
       "_view_name": "StyleView",
       "description_width": ""
      }
     },
     "b2ae4f289f3840b6ab14e6bce80c71d4": {
      "model_module": "@jupyter-widgets/controls",
      "model_module_version": "1.5.0",
      "model_name": "FloatProgressModel",
      "state": {
       "_dom_classes": [],
       "_model_module": "@jupyter-widgets/controls",
       "_model_module_version": "1.5.0",
       "_model_name": "FloatProgressModel",
       "_view_count": null,
       "_view_module": "@jupyter-widgets/controls",
       "_view_module_version": "1.5.0",
       "_view_name": "ProgressView",
       "bar_style": "success",
       "description": "",
       "description_tooltip": null,
       "layout": "IPY_MODEL_44efdde64ece46fea37602bd0071b6aa",
       "max": 46827520.0,
       "min": 0.0,
       "orientation": "horizontal",
       "style": "IPY_MODEL_3262181b893d4e35983d8dbdb6cdc61f",
       "value": 46827520.0
      }
     }
    },
    "version_major": 2,
    "version_minor": 0
   }
  }
 },
 "nbformat": 4,
 "nbformat_minor": 4
}
