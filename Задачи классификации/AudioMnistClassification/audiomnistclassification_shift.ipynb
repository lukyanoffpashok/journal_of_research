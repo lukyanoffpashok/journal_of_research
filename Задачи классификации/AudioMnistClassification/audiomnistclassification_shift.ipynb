{
 "cells": [
  {
   "cell_type": "code",
   "execution_count": 1,
   "metadata": {
    "_cell_guid": "b1076dfc-b9ad-4769-8c92-a6c4dae69d19",
    "_uuid": "8f2839f25d086af736a60e9eeb907d3b93b6e0e5",
    "execution": {
     "iopub.execute_input": "2021-04-05T18:39:48.772088Z",
     "iopub.status.busy": "2021-04-05T18:39:48.771297Z",
     "iopub.status.idle": "2021-04-05T18:39:52.710479Z",
     "shell.execute_reply": "2021-04-05T18:39:52.710922Z"
    },
    "papermill": {
     "duration": 3.958143,
     "end_time": "2021-04-05T18:39:52.711186",
     "exception": false,
     "start_time": "2021-04-05T18:39:48.753043",
     "status": "completed"
    },
    "tags": []
   },
   "outputs": [
    {
     "name": "stderr",
     "output_type": "stream",
     "text": [
      "/opt/conda/lib/python3.7/site-packages/torchaudio/backend/utils.py:54: UserWarning: \"sox\" backend is being deprecated. The default backend will be changed to \"sox_io\" backend in 0.8.0 and \"sox\" backend will be removed in 0.9.0. Please migrate to \"sox_io\" backend. Please refer to https://github.com/pytorch/audio/issues/903 for the detail.\n",
      "  '\"sox\" backend is being deprecated. '\n"
     ]
    }
   ],
   "source": [
    "import numpy as np\n",
    "import matplotlib.pyplot as plt\n",
    "from sklearn.model_selection import train_test_split\n",
    "import librosa\n",
    "import librosa.display\n",
    "import os\n",
    "import copy\n",
    "import torch\n",
    "from torch.utils.data import Dataset, DataLoader\n",
    "import random\n",
    "import skimage.io as io\n",
    "import pandas as pd\n",
    "from torchvision.models import resnet18\n",
    "import torchaudio.transforms as T\n",
    "from tqdm import tqdm"
   ]
  },
  {
   "cell_type": "code",
   "execution_count": 2,
   "metadata": {
    "execution": {
     "iopub.execute_input": "2021-04-05T18:39:52.739653Z",
     "iopub.status.busy": "2021-04-05T18:39:52.739102Z",
     "iopub.status.idle": "2021-04-05T18:39:52.743069Z",
     "shell.execute_reply": "2021-04-05T18:39:52.742579Z"
    },
    "papermill": {
     "duration": 0.019991,
     "end_time": "2021-04-05T18:39:52.743176",
     "exception": false,
     "start_time": "2021-04-05T18:39:52.723185",
     "status": "completed"
    },
    "tags": []
   },
   "outputs": [],
   "source": [
    "def seed_everything(seed=42):\n",
    "    print(f'setting everything to seed {seed}')\n",
    "    random.seed(seed)\n",
    "    os.environ['PYTHONHASHSEED'] = str(seed)\n",
    "    np.random.seed(seed)\n",
    "    torch.manual_seed(seed)\n",
    "    torch.cuda.manual_seed(seed)\n",
    "    torch.backends.cudnn.deterministic = True\n",
    "    torch.cuda.empty_cache()"
   ]
  },
  {
   "cell_type": "code",
   "execution_count": 3,
   "metadata": {
    "execution": {
     "iopub.execute_input": "2021-04-05T18:39:52.771835Z",
     "iopub.status.busy": "2021-04-05T18:39:52.770704Z",
     "iopub.status.idle": "2021-04-05T18:39:52.773057Z",
     "shell.execute_reply": "2021-04-05T18:39:52.773507Z"
    },
    "papermill": {
     "duration": 0.018814,
     "end_time": "2021-04-05T18:39:52.773639",
     "exception": false,
     "start_time": "2021-04-05T18:39:52.754825",
     "status": "completed"
    },
    "tags": []
   },
   "outputs": [],
   "source": [
    "device = torch.device('cuda:0')\n",
    "data_dir = '/kaggle/input/free-spoken-digits/free-spoken-digit-dataset-master/recordings'"
   ]
  },
  {
   "cell_type": "code",
   "execution_count": 4,
   "metadata": {
    "execution": {
     "iopub.execute_input": "2021-04-05T18:39:52.803836Z",
     "iopub.status.busy": "2021-04-05T18:39:52.803181Z",
     "iopub.status.idle": "2021-04-05T18:39:52.805944Z",
     "shell.execute_reply": "2021-04-05T18:39:52.805548Z"
    },
    "papermill": {
     "duration": 0.020974,
     "end_time": "2021-04-05T18:39:52.806049",
     "exception": false,
     "start_time": "2021-04-05T18:39:52.785075",
     "status": "completed"
    },
    "tags": []
   },
   "outputs": [],
   "source": [
    "def mono_to_color(X, eps=1e-6, mean=None, std=None):\n",
    "    # Standardize\n",
    "    mean = mean or X.mean()\n",
    "    std = std or X.std()\n",
    "    X = (X - mean) / (std + eps)\n",
    "    # Normalize to [0, 255]\n",
    "    _min, _max = X.min(), X.max()\n",
    "    if (_max - _min) > eps:\n",
    "        V = np.clip(X, _min, _max)\n",
    "        V = 255 * (V - _min) / (_max - _min)\n",
    "        V = V.astype(np.uint8)\n",
    "    else:\n",
    "        V = np.zeros_like(X, dtype=np.uint8)\n",
    "    return V\n",
    "\n",
    "def normalize(image, mean=None, std=None):\n",
    "    image = image / 255.0\n",
    "    if mean is not None and std is not None:\n",
    "        image = (image - mean) / std\n",
    "    return image.astype(np.float32)"
   ]
  },
  {
   "cell_type": "code",
   "execution_count": 5,
   "metadata": {
    "execution": {
     "iopub.execute_input": "2021-04-05T18:39:52.833891Z",
     "iopub.status.busy": "2021-04-05T18:39:52.833200Z",
     "iopub.status.idle": "2021-04-05T18:39:52.836138Z",
     "shell.execute_reply": "2021-04-05T18:39:52.835621Z"
    },
    "papermill": {
     "duration": 0.018556,
     "end_time": "2021-04-05T18:39:52.836244",
     "exception": false,
     "start_time": "2021-04-05T18:39:52.817688",
     "status": "completed"
    },
    "tags": []
   },
   "outputs": [],
   "source": [
    "NUM_SAMPLES = 11022\n",
    "sr = 48000\n",
    "fmin = 84\n",
    "fmax = sr // 2\n",
    "nmels = 128\n",
    "batch_size = 32\n",
    "random_seed = 42\n",
    "train_size = 0.8"
   ]
  },
  {
   "cell_type": "code",
   "execution_count": 6,
   "metadata": {
    "execution": {
     "iopub.execute_input": "2021-04-05T18:39:52.863138Z",
     "iopub.status.busy": "2021-04-05T18:39:52.862653Z",
     "iopub.status.idle": "2021-04-05T18:39:53.142475Z",
     "shell.execute_reply": "2021-04-05T18:39:53.141939Z"
    },
    "papermill": {
     "duration": 0.294661,
     "end_time": "2021-04-05T18:39:53.142612",
     "exception": false,
     "start_time": "2021-04-05T18:39:52.847951",
     "status": "completed"
    },
    "tags": []
   },
   "outputs": [],
   "source": [
    "recordings_old = sorted(os.listdir(data_dir))"
   ]
  },
  {
   "cell_type": "code",
   "execution_count": 7,
   "metadata": {
    "execution": {
     "iopub.execute_input": "2021-04-05T18:39:53.171403Z",
     "iopub.status.busy": "2021-04-05T18:39:53.170862Z",
     "iopub.status.idle": "2021-04-05T18:41:16.498535Z",
     "shell.execute_reply": "2021-04-05T18:41:16.497398Z"
    },
    "papermill": {
     "duration": 83.343618,
     "end_time": "2021-04-05T18:41:16.498697",
     "exception": false,
     "start_time": "2021-04-05T18:39:53.155079",
     "status": "completed"
    },
    "tags": []
   },
   "outputs": [],
   "source": [
    "recordings = []\n",
    "for x in recordings_old:\n",
    "    y, _ = librosa.load(data_dir + '/' + x, sr = sr)\n",
    "    if y.shape[0] >= NUM_SAMPLES:\n",
    "        recordings.append(x)"
   ]
  },
  {
   "cell_type": "code",
   "execution_count": 8,
   "metadata": {
    "execution": {
     "iopub.execute_input": "2021-04-05T18:41:16.531245Z",
     "iopub.status.busy": "2021-04-05T18:41:16.529891Z",
     "iopub.status.idle": "2021-04-05T18:41:16.533928Z",
     "shell.execute_reply": "2021-04-05T18:41:16.533491Z"
    },
    "papermill": {
     "duration": 0.022496,
     "end_time": "2021-04-05T18:41:16.534039",
     "exception": false,
     "start_time": "2021-04-05T18:41:16.511543",
     "status": "completed"
    },
    "tags": []
   },
   "outputs": [
    {
     "data": {
      "text/plain": [
       "2903"
      ]
     },
     "execution_count": 8,
     "metadata": {},
     "output_type": "execute_result"
    }
   ],
   "source": [
    "len(recordings)"
   ]
  },
  {
   "cell_type": "code",
   "execution_count": 9,
   "metadata": {
    "execution": {
     "iopub.execute_input": "2021-04-05T18:41:16.565982Z",
     "iopub.status.busy": "2021-04-05T18:41:16.565160Z",
     "iopub.status.idle": "2021-04-05T18:41:16.728908Z",
     "shell.execute_reply": "2021-04-05T18:41:16.728451Z"
    },
    "papermill": {
     "duration": 0.181346,
     "end_time": "2021-04-05T18:41:16.729024",
     "exception": false,
     "start_time": "2021-04-05T18:41:16.547678",
     "status": "completed"
    },
    "tags": []
   },
   "outputs": [
    {
     "data": {
      "image/png": "[encoded data removed]",
      "text/plain": [
       "<Figure size 1440x432 with 1 Axes>"
      ]
     },
     "metadata": {
      "needs_background": "light"
     },
     "output_type": "display_data"
    }
   ],
   "source": [
    "y, _ = librosa.load(data_dir + '/' + recordings[700], sr = sr)\n",
    "samples = y[:NUM_SAMPLES]\n",
    "melspec = librosa.feature.melspectrogram(samples, sr=sr, n_mels=nmels, fmin=fmin, fmax=fmax)\n",
    "melspec = librosa.power_to_db(melspec)\n",
    "melspec = mono_to_color(melspec)\n",
    "melspec = normalize(melspec, mean=None, std=None)\n",
    "plt.figure(figsize = (20, 6))\n",
    "plt.imshow(melspec)\n",
    "plt.show()"
   ]
  },
  {
   "cell_type": "code",
   "execution_count": 10,
   "metadata": {
    "execution": {
     "iopub.execute_input": "2021-04-05T18:41:16.761103Z",
     "iopub.status.busy": "2021-04-05T18:41:16.760489Z",
     "iopub.status.idle": "2021-04-05T18:41:16.763686Z",
     "shell.execute_reply": "2021-04-05T18:41:16.764072Z"
    },
    "papermill": {
     "duration": 0.0218,
     "end_time": "2021-04-05T18:41:16.764198",
     "exception": false,
     "start_time": "2021-04-05T18:41:16.742398",
     "status": "completed"
    },
    "tags": []
   },
   "outputs": [
    {
     "data": {
      "text/plain": [
       "(128, 22)"
      ]
     },
     "execution_count": 10,
     "metadata": {},
     "output_type": "execute_result"
    }
   ],
   "source": [
    "image_size = melspec.shape\n",
    "image_size"
   ]
  },
  {
   "cell_type": "code",
   "execution_count": 11,
   "metadata": {
    "execution": {
     "iopub.execute_input": "2021-04-05T18:41:16.803340Z",
     "iopub.status.busy": "2021-04-05T18:41:16.799383Z",
     "iopub.status.idle": "2021-04-05T18:41:16.805756Z",
     "shell.execute_reply": "2021-04-05T18:41:16.805341Z"
    },
    "papermill": {
     "duration": 0.02787,
     "end_time": "2021-04-05T18:41:16.805870",
     "exception": false,
     "start_time": "2021-04-05T18:41:16.778000",
     "status": "completed"
    },
    "tags": []
   },
   "outputs": [],
   "source": [
    "def noise_augmentation(im, var = 0.01):\n",
    "    noise = var * torch.randn(im.shape[1], im.shape[2])\n",
    "    im[0, :, :] += noise\n",
    "    im[1, :, :] += noise\n",
    "    im[2, :, :] += noise\n",
    "    return im\n",
    "\n",
    "def shift_augmentation(image, max_shift = 2):\n",
    "    shift = np.random.randint(max_shift)\n",
    "    p = np.random.rand()\n",
    "    if p < 0.5:\n",
    "        image[:, :, shift:] = image[:, :, :image.shape[2] - shift]\n",
    "        image[:, :, :shift] = 0.0\n",
    "    else:\n",
    "        image[:, :, :image.shape[2] - shift] = image[:, :, shift:]\n",
    "        image[:, :, image.shape[2] - shift:] = 0.0\n",
    "    return image\n",
    "    \n",
    "def random_erasing(image, max_a = 12, max_b = 2):\n",
    "    a = np.random.randint(max_a)\n",
    "    b = np.random.randint(max_b)\n",
    "    a0 = np.random.randint(image.shape[1] - max_a)\n",
    "    b0 = np.random.randint(image.shape[2] - max_a)\n",
    "    image[:, a0 : a0 + a, b0 : b0 + b] = 0\n",
    "    return image\n",
    "    \n",
    "    \n",
    "def augmentation(im, mode = 'No'):\n",
    "    image = im.clone()\n",
    "    if mode == 'TimeMasking':\n",
    "        return T.TimeMasking(2)(image)\n",
    "    if mode == 'FreqMasking':\n",
    "        return T.FrequencyMasking(12)(image)\n",
    "    if mode == 'RandomErasing':\n",
    "        return random_erasing(image, 12, 2)\n",
    "    if mode == 'Shift':\n",
    "        return shift_augmentation(image)\n",
    "    if mode == 'Noise':\n",
    "        return noise_augmentation(image)\n",
    "    \n",
    "    return image"
   ]
  },
  {
   "cell_type": "code",
   "execution_count": 12,
   "metadata": {
    "execution": {
     "iopub.execute_input": "2021-04-05T18:41:16.841076Z",
     "iopub.status.busy": "2021-04-05T18:41:16.839366Z",
     "iopub.status.idle": "2021-04-05T18:41:16.841669Z",
     "shell.execute_reply": "2021-04-05T18:41:16.842062Z"
    },
    "papermill": {
     "duration": 0.02233,
     "end_time": "2021-04-05T18:41:16.842188",
     "exception": false,
     "start_time": "2021-04-05T18:41:16.819858",
     "status": "completed"
    },
    "tags": []
   },
   "outputs": [],
   "source": [
    "def get_spectrogram(filename):\n",
    "    y, _ = librosa.load(filename, sr = sr)\n",
    "    samples = y[:NUM_SAMPLES]\n",
    "    melspec = librosa.feature.melspectrogram(samples, sr=sr, n_mels=nmels, fmin=fmin, fmax=fmax)\n",
    "    melspec = librosa.power_to_db(melspec)\n",
    "    melspec = mono_to_color(melspec)\n",
    "    melspec = normalize(melspec, mean=None, std=None)\n",
    "    return torch.tensor(melspec, dtype=torch.float32)"
   ]
  },
  {
   "cell_type": "code",
   "execution_count": 13,
   "metadata": {
    "execution": {
     "iopub.execute_input": "2021-04-05T18:41:16.874964Z",
     "iopub.status.busy": "2021-04-05T18:41:16.874218Z",
     "iopub.status.idle": "2021-04-05T18:42:44.071414Z",
     "shell.execute_reply": "2021-04-05T18:42:44.070470Z"
    },
    "papermill": {
     "duration": 87.215366,
     "end_time": "2021-04-05T18:42:44.071558",
     "exception": false,
     "start_time": "2021-04-05T18:41:16.856192",
     "status": "completed"
    },
    "tags": []
   },
   "outputs": [],
   "source": [
    "data = []\n",
    "labels = []\n",
    "for i in range(len(recordings)):\n",
    "    data.append(get_spectrogram(data_dir + '/' + recordings[i]))\n",
    "    labels.append(int(recordings[i][0]))\n"
   ]
  },
  {
   "cell_type": "code",
   "execution_count": 14,
   "metadata": {
    "execution": {
     "iopub.execute_input": "2021-04-05T18:42:44.108150Z",
     "iopub.status.busy": "2021-04-05T18:42:44.107439Z",
     "iopub.status.idle": "2021-04-05T18:42:44.110619Z",
     "shell.execute_reply": "2021-04-05T18:42:44.110173Z"
    },
    "papermill": {
     "duration": 0.024129,
     "end_time": "2021-04-05T18:42:44.110729",
     "exception": false,
     "start_time": "2021-04-05T18:42:44.086600",
     "status": "completed"
    },
    "tags": []
   },
   "outputs": [],
   "source": [
    "keys = np.arange(len(data))\n",
    "train_keys, test_keys = train_test_split(keys, train_size=train_size, random_state=random_seed)\n",
    "train_keys, valid_keys = train_test_split(train_keys, train_size=train_size, random_state=random_seed)"
   ]
  },
  {
   "cell_type": "code",
   "execution_count": 15,
   "metadata": {
    "execution": {
     "iopub.execute_input": "2021-04-05T18:42:44.146460Z",
     "iopub.status.busy": "2021-04-05T18:42:44.145810Z",
     "iopub.status.idle": "2021-04-05T18:42:44.148629Z",
     "shell.execute_reply": "2021-04-05T18:42:44.148207Z"
    },
    "papermill": {
     "duration": 0.023718,
     "end_time": "2021-04-05T18:42:44.148739",
     "exception": false,
     "start_time": "2021-04-05T18:42:44.125021",
     "status": "completed"
    },
    "tags": []
   },
   "outputs": [],
   "source": [
    "class AudioMNIST(Dataset):\n",
    "    def __init__(self, keys, mode = 'train', data = [], labels = [], augment = False, aug_type = 'No'):\n",
    "        super().__init__()\n",
    "        self.n = len(keys)\n",
    "        self.data = []\n",
    "        self.labels = []\n",
    "        self.augment = augment\n",
    "        self.aug_type = aug_type\n",
    "        for i in keys:\n",
    "            self.data.append(data[i])\n",
    "            self.labels.append(labels[i])\n",
    "\n",
    "    def __getitem__(self, i):\n",
    "        X = self.data[i]\n",
    "        X = torch.stack([X, X, X])\n",
    "        if self.augment:\n",
    "            X = augmentation(X, self.aug_type)\n",
    "        return X, self.labels[i]\n",
    "\n",
    "    def __len__(self):\n",
    "        return self.n"
   ]
  },
  {
   "cell_type": "code",
   "execution_count": 16,
   "metadata": {
    "execution": {
     "iopub.execute_input": "2021-04-05T18:42:44.189341Z",
     "iopub.status.busy": "2021-04-05T18:42:44.185249Z",
     "iopub.status.idle": "2021-04-05T18:42:44.191412Z",
     "shell.execute_reply": "2021-04-05T18:42:44.191895Z"
    },
    "papermill": {
     "duration": 0.029118,
     "end_time": "2021-04-05T18:42:44.192024",
     "exception": false,
     "start_time": "2021-04-05T18:42:44.162906",
     "status": "completed"
    },
    "tags": []
   },
   "outputs": [],
   "source": [
    "def train(model, loss_fn, train_loader, valid_loader, epochs, optimizer, augment = 'No'):\n",
    "    best_model_wts = copy.deepcopy(model.state_dict())\n",
    "    best_acc = 0.0\n",
    "    train_losses = []\n",
    "    valid_losses = []\n",
    "    valid_acc = []\n",
    "    best_train_acc = 0.0\n",
    "    for epoch in range(epochs):\n",
    "        print('epoch:', epoch)\n",
    "        model.train()\n",
    "        sum_loss = 0\n",
    "        sum_accuracy = 0\n",
    "        cnt_objects = 0\n",
    "        for X, y in train_dataloader:\n",
    "            optimizer.zero_grad()\n",
    "            X = X.to(device)\n",
    "            scores = model(X)\n",
    "            loss = criterion(scores, y.to(device))\n",
    "            loss.backward()\n",
    "            optimizer.step()\n",
    "            sum_loss += float(loss) * len(y)\n",
    "            cnt_objects += len(y)\n",
    "\n",
    "        mean_loss = sum_loss / cnt_objects\n",
    "        train_losses.append(mean_loss)\n",
    "        print('Train')\n",
    "        print(mean_loss)\n",
    "\n",
    "        model.eval()\n",
    "        sum_loss = 0\n",
    "        sum_accuracy = 0\n",
    "        cnt_objects = 0\n",
    "        with torch.no_grad():\n",
    "            for X, y in valid_loader:\n",
    "                X = X.to(device)\n",
    "                scores = model(X)\n",
    "                loss = criterion(scores, y.to(device))\n",
    "                sum_loss += float(loss) * len(y)\n",
    "                preds = scores.cpu().detach().argmax(dim=1)\n",
    "                accuracy = float((y == preds).float().sum())\n",
    "                sum_accuracy += accuracy\n",
    "                cnt_objects += len(y)\n",
    "\n",
    "        print('TEST')\n",
    "        mean_loss = sum_loss / cnt_objects\n",
    "        valid_losses.append(mean_loss)\n",
    "        mean_accuracy = sum_accuracy / cnt_objects\n",
    "        valid_acc.append(mean_accuracy)\n",
    "        if mean_accuracy > best_acc:\n",
    "            best_acc = mean_accuracy\n",
    "            best_model_wts = copy.deepcopy(model.state_dict())\n",
    "        print('loss:', mean_loss)\n",
    "        print('accuracy:', mean_accuracy)\n",
    "        print('******************')\n",
    "    print('Accuracy on the validation: ', best_acc)\n",
    "    model.load_state_dict(best_model_wts)\n",
    "    return model, train_losses, valid_losses, valid_acc"
   ]
  },
  {
   "cell_type": "code",
   "execution_count": 17,
   "metadata": {
    "execution": {
     "iopub.execute_input": "2021-04-05T18:42:44.226605Z",
     "iopub.status.busy": "2021-04-05T18:42:44.225940Z",
     "iopub.status.idle": "2021-04-05T18:42:44.228803Z",
     "shell.execute_reply": "2021-04-05T18:42:44.228409Z"
    },
    "papermill": {
     "duration": 0.022615,
     "end_time": "2021-04-05T18:42:44.228911",
     "exception": false,
     "start_time": "2021-04-05T18:42:44.206296",
     "status": "completed"
    },
    "tags": []
   },
   "outputs": [],
   "source": [
    "def evaluate(model, test_loader):\n",
    "    model.eval()\n",
    "    #all_preds = []\n",
    "    sum_accuracy = 0\n",
    "    cnt_objects = 0\n",
    "    with torch.no_grad():\n",
    "        for X, y in test_loader:\n",
    "            X = X.to(device)\n",
    "            scores = model(X)\n",
    "            preds = scores.cpu().detach().argmax(dim=1)\n",
    "            accuracy = float((y == preds).float().sum())\n",
    "            sum_accuracy += accuracy\n",
    "            cnt_objects += len(y)\n",
    "            #all_preds.append(preds)\n",
    "\n",
    "    mean_accuracy = sum_accuracy / cnt_objects\n",
    "    print('Quality of the model')\n",
    "    print('accuracy:', mean_accuracy)"
   ]
  },
  {
   "cell_type": "markdown",
   "metadata": {
    "papermill": {
     "duration": 0.014345,
     "end_time": "2021-04-05T18:42:44.257844",
     "exception": false,
     "start_time": "2021-04-05T18:42:44.243499",
     "status": "completed"
    },
    "tags": []
   },
   "source": [
    "## Resnet18"
   ]
  },
  {
   "cell_type": "markdown",
   "metadata": {
    "papermill": {
     "duration": 0.0143,
     "end_time": "2021-04-05T18:42:44.286992",
     "exception": false,
     "start_time": "2021-04-05T18:42:44.272692",
     "status": "completed"
    },
    "tags": []
   },
   "source": [
    "### Shift"
   ]
  },
  {
   "cell_type": "code",
   "execution_count": 18,
   "metadata": {
    "execution": {
     "iopub.execute_input": "2021-04-05T18:42:44.323828Z",
     "iopub.status.busy": "2021-04-05T18:42:44.323274Z",
     "iopub.status.idle": "2021-04-05T18:45:19.241188Z",
     "shell.execute_reply": "2021-04-05T18:45:19.241852Z"
    },
    "papermill": {
     "duration": 154.940514,
     "end_time": "2021-04-05T18:45:19.242054",
     "exception": false,
     "start_time": "2021-04-05T18:42:44.301540",
     "status": "completed"
    },
    "tags": []
   },
   "outputs": [
    {
     "name": "stdout",
     "output_type": "stream",
     "text": [
      "setting everything to seed 42\n"
     ]
    },
    {
     "name": "stderr",
     "output_type": "stream",
     "text": [
      "Downloading: \"https://download.pytorch.org/models/resnet18-5c106cde.pth\" to /root/.cache/torch/hub/checkpoints/resnet18-5c106cde.pth\n"
     ]
    },
    {
     "data": {
      "application/vnd.jupyter.widget-view+json": {
       "model_id": "f2864e8b2c574d54952176f7b7ec8c44",
       "version_major": 2,
       "version_minor": 0
      },
      "text/plain": [
       "  0%|          | 0.00/44.7M [00:00<?, ?B/s]"
      ]
     },
     "metadata": {},
     "output_type": "display_data"
    },
    {
     "name": "stdout",
     "output_type": "stream",
     "text": [
      "epoch: 0\n",
      "Train\n",
      "1.1725730377304084\n",
      "TEST\n",
      "loss: 1.0278025955282233\n",
      "accuracy: 0.7139784946236559\n",
      "******************\n",
      "epoch: 1\n",
      "Train\n",
      "0.43603417137712963\n",
      "TEST\n",
      "loss: 0.261938012543545\n",
      "accuracy: 0.9139784946236559\n",
      "******************\n",
      "epoch: 2\n",
      "Train\n",
      "0.3292154337554833\n",
      "TEST\n",
      "loss: 0.439656513608912\n",
      "accuracy: 0.8623655913978494\n",
      "******************\n",
      "epoch: 3\n",
      "Train\n",
      "0.2994805997459235\n",
      "TEST\n",
      "loss: 0.6164214677708123\n",
      "accuracy: 0.8344086021505376\n",
      "******************\n",
      "epoch: 4\n",
      "Train\n",
      "0.2742683746895613\n",
      "TEST\n",
      "loss: 0.5445896821957763\n",
      "accuracy: 0.8817204301075269\n",
      "******************\n",
      "epoch: 5\n",
      "Train\n",
      "0.21033461769871256\n",
      "TEST\n",
      "loss: 0.527323914727857\n",
      "accuracy: 0.8559139784946237\n",
      "******************\n",
      "epoch: 6\n",
      "Train\n",
      "0.20550951183516297\n",
      "TEST\n",
      "loss: 0.26964519911555834\n",
      "accuracy: 0.9311827956989247\n",
      "******************\n",
      "epoch: 7\n",
      "Train\n",
      "0.17519304051987253\n",
      "TEST\n",
      "loss: 0.20477578806620772\n",
      "accuracy: 0.9247311827956989\n",
      "******************\n",
      "epoch: 8\n",
      "Train\n",
      "0.1547066888856708\n",
      "TEST\n",
      "loss: 0.21083621387520143\n",
      "accuracy: 0.9397849462365592\n",
      "******************\n",
      "epoch: 9\n",
      "Train\n",
      "0.1722405246656045\n",
      "TEST\n",
      "loss: 0.21786601105204192\n",
      "accuracy: 0.9526881720430107\n",
      "******************\n",
      "epoch: 10\n",
      "Train\n",
      "0.20734214705681378\n",
      "TEST\n",
      "loss: 0.4478917229560114\n",
      "accuracy: 0.896774193548387\n",
      "******************\n",
      "epoch: 11\n",
      "Train\n",
      "0.18935795133962513\n",
      "TEST\n",
      "loss: 0.1952836318682599\n",
      "accuracy: 0.946236559139785\n",
      "******************\n",
      "epoch: 12\n",
      "Train\n",
      "0.14438050779111294\n",
      "TEST\n",
      "loss: 0.3514526657519802\n",
      "accuracy: 0.9247311827956989\n",
      "******************\n",
      "epoch: 13\n",
      "Train\n",
      "0.13663571508873132\n",
      "TEST\n",
      "loss: 0.23481972015673114\n",
      "accuracy: 0.9505376344086022\n",
      "******************\n",
      "epoch: 14\n",
      "Train\n",
      "0.12183442487951626\n",
      "TEST\n",
      "loss: 0.23445987863245832\n",
      "accuracy: 0.9526881720430107\n",
      "******************\n",
      "epoch: 15\n",
      "Train\n",
      "0.12601759266028031\n",
      "TEST\n",
      "loss: 0.39666966097329254\n",
      "accuracy: 0.9118279569892473\n",
      "******************\n",
      "epoch: 16\n",
      "Train\n",
      "0.13301418643037544\n",
      "TEST\n",
      "loss: 0.39329816724664424\n",
      "accuracy: 0.9204301075268817\n",
      "******************\n",
      "epoch: 17\n",
      "Train\n",
      "0.11363807254795369\n",
      "TEST\n",
      "loss: 0.17282084582313414\n",
      "accuracy: 0.9591397849462365\n",
      "******************\n",
      "epoch: 18\n",
      "Train\n",
      "0.08609449157293728\n",
      "TEST\n",
      "loss: 0.1850299712711124\n",
      "accuracy: 0.9591397849462365\n",
      "******************\n",
      "epoch: 19\n",
      "Train\n",
      "0.10667663482035368\n",
      "TEST\n",
      "loss: 0.4227380600026859\n",
      "accuracy: 0.8881720430107527\n",
      "******************\n",
      "epoch: 20\n",
      "Train\n",
      "0.10251060826327767\n",
      "TEST\n",
      "loss: 0.1980349591342352\n",
      "accuracy: 0.946236559139785\n",
      "******************\n",
      "epoch: 21\n",
      "Train\n",
      "0.09471555798042186\n",
      "TEST\n",
      "loss: 0.24169629587922045\n",
      "accuracy: 0.9483870967741935\n",
      "******************\n",
      "epoch: 22\n",
      "Train\n",
      "0.10824207260233777\n",
      "TEST\n",
      "loss: 0.2370712748117825\n",
      "accuracy: 0.9526881720430107\n",
      "******************\n",
      "epoch: 23\n",
      "Train\n",
      "0.1083490176705115\n",
      "TEST\n",
      "loss: 0.2639859381542411\n",
      "accuracy: 0.9268817204301075\n",
      "******************\n",
      "epoch: 24\n",
      "Train\n",
      "0.0924170959287503\n",
      "TEST\n",
      "loss: 0.27622711825114427\n",
      "accuracy: 0.9526881720430107\n",
      "******************\n",
      "epoch: 25\n",
      "Train\n",
      "0.09250731273530693\n",
      "TEST\n",
      "loss: 0.22668538239373956\n",
      "accuracy: 0.9397849462365592\n",
      "******************\n",
      "epoch: 26\n",
      "Train\n",
      "0.06618498524928773\n",
      "TEST\n",
      "loss: 0.2319201572728093\n",
      "accuracy: 0.956989247311828\n",
      "******************\n",
      "epoch: 27\n",
      "Train\n",
      "0.059504998888966855\n",
      "TEST\n",
      "loss: 0.260496814308628\n",
      "accuracy: 0.9182795698924732\n",
      "******************\n",
      "epoch: 28\n",
      "Train\n",
      "0.08497184812501032\n",
      "TEST\n",
      "loss: 0.21188680370969157\n",
      "accuracy: 0.9634408602150538\n",
      "******************\n",
      "epoch: 29\n",
      "Train\n",
      "0.05514258797860749\n",
      "TEST\n",
      "loss: 0.16629321729784372\n",
      "accuracy: 0.967741935483871\n",
      "******************\n",
      "epoch: 30\n",
      "Train\n",
      "0.02602293519789677\n",
      "TEST\n",
      "loss: 0.2620796310725392\n",
      "accuracy: 0.9483870967741935\n",
      "******************\n",
      "epoch: 31\n",
      "Train\n",
      "0.0347702409941693\n",
      "TEST\n",
      "loss: 0.23656144962515882\n",
      "accuracy: 0.9419354838709677\n",
      "******************\n",
      "epoch: 32\n",
      "Train\n",
      "0.05985972978973106\n",
      "TEST\n",
      "loss: 0.1302934476124343\n",
      "accuracy: 0.9655913978494624\n",
      "******************\n",
      "epoch: 33\n",
      "Train\n",
      "0.035768567557874456\n",
      "TEST\n",
      "loss: 0.2269059829694289\n",
      "accuracy: 0.9591397849462365\n",
      "******************\n",
      "epoch: 34\n",
      "Train\n",
      "0.10047918227318159\n",
      "TEST\n",
      "loss: 0.22505476550068906\n",
      "accuracy: 0.9612903225806452\n",
      "******************\n",
      "epoch: 35\n",
      "Train\n",
      "0.08160483717765935\n",
      "TEST\n",
      "loss: 0.23252143273430487\n",
      "accuracy: 0.956989247311828\n",
      "******************\n",
      "epoch: 36\n",
      "Train\n",
      "0.04132978704456575\n",
      "TEST\n",
      "loss: 0.24082817857864725\n",
      "accuracy: 0.946236559139785\n",
      "******************\n",
      "epoch: 37\n",
      "Train\n",
      "0.028541915294226294\n",
      "TEST\n",
      "loss: 0.24903604295705595\n",
      "accuracy: 0.9505376344086022\n",
      "******************\n",
      "epoch: 38\n",
      "Train\n",
      "0.03235773787736957\n",
      "TEST\n",
      "loss: 0.20128273008271091\n",
      "accuracy: 0.9526881720430107\n",
      "******************\n",
      "epoch: 39\n",
      "Train\n",
      "0.04357701640598191\n",
      "TEST\n",
      "loss: 0.2861713329620499\n",
      "accuracy: 0.9483870967741935\n",
      "******************\n",
      "epoch: 40\n",
      "Train\n",
      "0.05366254215342869\n",
      "TEST\n",
      "loss: 0.18795319239869313\n",
      "accuracy: 0.9720430107526882\n",
      "******************\n",
      "epoch: 41\n",
      "Train\n",
      "0.061749289195440954\n",
      "TEST\n",
      "loss: 0.20058216575072496\n",
      "accuracy: 0.9655913978494624\n",
      "******************\n",
      "epoch: 42\n",
      "Train\n",
      "0.03285285378578101\n",
      "TEST\n",
      "loss: 0.24080303094239644\n",
      "accuracy: 0.9634408602150538\n",
      "******************\n",
      "epoch: 43\n",
      "Train\n",
      "0.039078239072415144\n",
      "TEST\n",
      "loss: 0.28155914696874795\n",
      "accuracy: 0.9526881720430107\n",
      "******************\n",
      "epoch: 44\n",
      "Train\n",
      "0.02845445386142614\n",
      "TEST\n",
      "loss: 0.2604371841315941\n",
      "accuracy: 0.9440860215053763\n",
      "******************\n",
      "epoch: 45\n",
      "Train\n",
      "0.08682237129596272\n",
      "TEST\n",
      "loss: 0.3159599809877334\n",
      "accuracy: 0.9333333333333333\n",
      "******************\n",
      "epoch: 46\n",
      "Train\n",
      "0.08057804613920329\n",
      "TEST\n",
      "loss: 0.19630010633338843\n",
      "accuracy: 0.9483870967741935\n",
      "******************\n",
      "epoch: 47\n",
      "Train\n",
      "0.036414796822515305\n",
      "TEST\n",
      "loss: 0.22087759501551107\n",
      "accuracy: 0.9440860215053763\n",
      "******************\n",
      "epoch: 48\n",
      "Train\n",
      "0.02367032137794714\n",
      "TEST\n",
      "loss: 0.22957373134070827\n",
      "accuracy: 0.9612903225806452\n",
      "******************\n",
      "epoch: 49\n",
      "Train\n",
      "0.026208556186975526\n",
      "TEST\n",
      "loss: 0.21475524522504338\n",
      "accuracy: 0.9591397849462365\n",
      "******************\n",
      "epoch: 50\n",
      "Train\n",
      "0.044203936533604216\n",
      "TEST\n",
      "loss: 0.21340755363425581\n",
      "accuracy: 0.9655913978494624\n",
      "******************\n",
      "epoch: 51\n",
      "Train\n",
      "0.036190976437901416\n",
      "TEST\n",
      "loss: 0.22861804676953182\n",
      "accuracy: 0.9526881720430107\n",
      "******************\n",
      "epoch: 52\n",
      "Train\n",
      "0.026532220788847698\n",
      "TEST\n",
      "loss: 0.3688670424363946\n",
      "accuracy: 0.9419354838709677\n",
      "******************\n",
      "epoch: 53\n",
      "Train\n",
      "0.04435185309425277\n",
      "TEST\n",
      "loss: 0.22665934469350563\n",
      "accuracy: 0.9591397849462365\n",
      "******************\n",
      "epoch: 54\n",
      "Train\n",
      "0.021682635492077985\n",
      "TEST\n",
      "loss: 0.1915212709857251\n",
      "accuracy: 0.9634408602150538\n",
      "******************\n",
      "epoch: 55\n",
      "Train\n",
      "0.020342955537422224\n",
      "TEST\n",
      "loss: 0.17032371352436723\n",
      "accuracy: 0.9741935483870968\n",
      "******************\n",
      "epoch: 56\n",
      "Train\n",
      "0.034489067637586766\n",
      "TEST\n",
      "loss: 0.1580858180239316\n",
      "accuracy: 0.9698924731182795\n",
      "******************\n",
      "epoch: 57\n",
      "Train\n",
      "0.015024004490794308\n",
      "TEST\n",
      "loss: 0.21707257365867977\n",
      "accuracy: 0.9655913978494624\n",
      "******************\n",
      "epoch: 58\n",
      "Train\n",
      "0.02618534143765366\n",
      "TEST\n",
      "loss: 0.22764197845933257\n",
      "accuracy: 0.9548387096774194\n",
      "******************\n",
      "epoch: 59\n",
      "Train\n",
      "0.01772692518917604\n",
      "TEST\n",
      "loss: 0.16005020005408155\n",
      "accuracy: 0.9634408602150538\n",
      "******************\n",
      "epoch: 60\n",
      "Train\n",
      "0.05353645401980224\n",
      "TEST\n",
      "loss: 0.24177403957933508\n",
      "accuracy: 0.9419354838709677\n",
      "******************\n",
      "epoch: 61\n",
      "Train\n",
      "0.05154416389967975\n",
      "TEST\n",
      "loss: 0.6728085543519707\n",
      "accuracy: 0.8516129032258064\n",
      "******************\n",
      "epoch: 62\n",
      "Train\n",
      "0.05845436446597387\n",
      "TEST\n",
      "loss: 0.27572661628646233\n",
      "accuracy: 0.9376344086021505\n",
      "******************\n",
      "epoch: 63\n",
      "Train\n",
      "0.07082759081920148\n",
      "TEST\n",
      "loss: 0.24976211631450282\n",
      "accuracy: 0.9440860215053763\n",
      "******************\n",
      "epoch: 64\n",
      "Train\n",
      "0.04415407801958731\n",
      "TEST\n",
      "loss: 0.2544209861627189\n",
      "accuracy: 0.9526881720430107\n",
      "******************\n",
      "epoch: 65\n",
      "Train\n",
      "0.02526689154874808\n",
      "TEST\n",
      "loss: 0.21537613240621423\n",
      "accuracy: 0.9526881720430107\n",
      "******************\n",
      "epoch: 66\n",
      "Train\n",
      "0.025738064174359292\n",
      "TEST\n",
      "loss: 0.165937297863345\n",
      "accuracy: 0.9612903225806452\n",
      "******************\n",
      "epoch: 67\n",
      "Train\n",
      "0.013696163380443327\n",
      "TEST\n",
      "loss: 0.1701834987398357\n",
      "accuracy: 0.967741935483871\n",
      "******************\n",
      "epoch: 68\n",
      "Train\n",
      "0.0068469757881711646\n",
      "TEST\n",
      "loss: 0.18631464241332904\n",
      "accuracy: 0.9655913978494624\n",
      "******************\n",
      "epoch: 69\n",
      "Train\n",
      "0.022499546578355078\n",
      "TEST\n",
      "loss: 0.1843579522864793\n",
      "accuracy: 0.9698924731182795\n",
      "******************\n",
      "epoch: 70\n",
      "Train\n",
      "0.009902767267822417\n",
      "TEST\n",
      "loss: 0.2082896650077835\n",
      "accuracy: 0.9634408602150538\n",
      "******************\n",
      "epoch: 71\n",
      "Train\n",
      "0.0065090851094694105\n",
      "TEST\n",
      "loss: 0.15864110571402376\n",
      "accuracy: 0.9655913978494624\n",
      "******************\n",
      "epoch: 72\n",
      "Train\n",
      "0.009878616865050283\n",
      "TEST\n",
      "loss: 0.28075360189522464\n",
      "accuracy: 0.9634408602150538\n",
      "******************\n",
      "epoch: 73\n",
      "Train\n",
      "0.00875022912298429\n",
      "TEST\n",
      "loss: 0.26304897254392984\n",
      "accuracy: 0.9548387096774194\n",
      "******************\n",
      "epoch: 74\n",
      "Train\n",
      "0.006652656057172474\n",
      "TEST\n",
      "loss: 0.23872790086553783\n",
      "accuracy: 0.9591397849462365\n",
      "******************\n",
      "Accuracy on the validation:  0.9741935483870968\n"
     ]
    }
   ],
   "source": [
    "seed_everything(42)\n",
    "\n",
    "train_dataset = AudioMNIST(mode='train', data = data, labels = labels, augment = True, aug_type = 'Shift', keys = train_keys)\n",
    "valid_dataset = AudioMNIST(mode='valid', data = data, labels = labels, keys = valid_keys)\n",
    "test_dataset = AudioMNIST(mode='test', data = data, labels = labels, keys = test_keys)\n",
    "\n",
    "train_dataloader = DataLoader(train_dataset, batch_size=batch_size, shuffle=True)\n",
    "valid_dataloader = DataLoader(valid_dataset, batch_size=batch_size, shuffle=False)\n",
    "test_dataloader = DataLoader(test_dataset, batch_size=batch_size, shuffle=False)\n",
    "\n",
    "model = resnet18(pretrained=True)\n",
    "num_ftrs = model.fc.in_features\n",
    "model.fc = torch.nn.Linear(num_ftrs, 10)\n",
    "model = model.to(device)\n",
    "\n",
    "epochs = 75\n",
    "criterion = torch.nn.CrossEntropyLoss()\n",
    "optimizer = torch.optim.Adam(model.parameters())\n",
    "\n",
    "model, train_losses, valid_losses, valid_acc = train(model, criterion, train_dataloader, valid_dataloader, epochs, optimizer)"
   ]
  },
  {
   "cell_type": "code",
   "execution_count": 19,
   "metadata": {
    "execution": {
     "iopub.execute_input": "2021-04-05T18:45:19.318709Z",
     "iopub.status.busy": "2021-04-05T18:45:19.317876Z",
     "iopub.status.idle": "2021-04-05T18:45:19.456078Z",
     "shell.execute_reply": "2021-04-05T18:45:19.454861Z"
    },
    "papermill": {
     "duration": 0.178166,
     "end_time": "2021-04-05T18:45:19.456448",
     "exception": false,
     "start_time": "2021-04-05T18:45:19.278282",
     "status": "completed"
    },
    "tags": []
   },
   "outputs": [
    {
     "name": "stdout",
     "output_type": "stream",
     "text": [
      "Quality of the model\n",
      "accuracy: 0.9690189328743546\n"
     ]
    }
   ],
   "source": [
    "evaluate(model, test_dataloader)"
   ]
  },
  {
   "cell_type": "code",
   "execution_count": 20,
   "metadata": {
    "execution": {
     "iopub.execute_input": "2021-04-05T18:45:19.557391Z",
     "iopub.status.busy": "2021-04-05T18:45:19.556545Z",
     "iopub.status.idle": "2021-04-05T18:45:19.719919Z",
     "shell.execute_reply": "2021-04-05T18:45:19.719403Z"
    },
    "papermill": {
     "duration": 0.217987,
     "end_time": "2021-04-05T18:45:19.720049",
     "exception": false,
     "start_time": "2021-04-05T18:45:19.502062",
     "status": "completed"
    },
    "tags": []
   },
   "outputs": [
    {
     "data": {
      "image/png": "[encoded data removed]",
      "text/plain": [
       "<Figure size 432x288 with 1 Axes>"
      ]
     },
     "metadata": {
      "needs_background": "light"
     },
     "output_type": "display_data"
    }
   ],
   "source": [
    "plt.plot(np.arange(epochs), train_losses, label = 'train_loss')\n",
    "plt.plot(np.arange(epochs), valid_losses, label = 'valid_loss')\n",
    "plt.plot(np.arange(epochs), valid_acc, label = 'valid_accuracy')\n",
    "plt.legend()\n",
    "plt.show()"
   ]
  }
 ],
 "metadata": {
  "kernelspec": {
   "display_name": "Python 3",
   "language": "python",
   "name": "python3"
  },
  "language_info": {
   "codemirror_mode": {
    "name": "ipython",
    "version": 3
   },
   "file_extension": ".py",
   "mimetype": "text/x-python",
   "name": "python",
   "nbconvert_exporter": "python",
   "pygments_lexer": "ipython3",
   "version": "3.7.9"
  },
  "papermill": {
   "default_parameters": {},
   "duration": 337.709286,
   "end_time": "2021-04-05T18:45:21.205944",
   "environment_variables": {},
   "exception": null,
   "input_path": "__notebook__.ipynb",
   "output_path": "__notebook__.ipynb",
   "parameters": {},
   "start_time": "2021-04-05T18:39:43.496658",
   "version": "2.2.2"
  },
  "widgets": {
   "application/vnd.jupyter.widget-state+json": {
    "state": {
     "17e9617e864c42ab8654070be82b0dca": {
      "model_module": "@jupyter-widgets/controls",
      "model_module_version": "1.5.0",
      "model_name": "ProgressStyleModel",
      "state": {
       "_model_module": "@jupyter-widgets/controls",
       "_model_module_version": "1.5.0",
       "_model_name": "ProgressStyleModel",
       "_view_count": null,
       "_view_module": "@jupyter-widgets/base",
       "_view_module_version": "1.2.0",
       "_view_name": "StyleView",
       "bar_color": null,
       "description_width": ""
      }
     },
     "1886c2fad1cc44aeb3a608664656ac71": {
      "model_module": "@jupyter-widgets/controls",
      "model_module_version": "1.5.0",
      "model_name": "DescriptionStyleModel",
      "state": {
       "_model_module": "@jupyter-widgets/controls",
       "_model_module_version": "1.5.0",
       "_model_name": "DescriptionStyleModel",
       "_view_count": null,
       "_view_module": "@jupyter-widgets/base",
       "_view_module_version": "1.2.0",
       "_view_name": "StyleView",
       "description_width": ""
      }
     },
     "36462328a8cc445c89198edc9d0cf94e": {
      "model_module": "@jupyter-widgets/base",
      "model_module_version": "1.2.0",
      "model_name": "LayoutModel",
      "state": {
       "_model_module": "@jupyter-widgets/base",
       "_model_module_version": "1.2.0",
       "_model_name": "LayoutModel",
       "_view_count": null,
       "_view_module": "@jupyter-widgets/base",
       "_view_module_version": "1.2.0",
       "_view_name": "LayoutView",
       "align_content": null,
       "align_items": null,
       "align_self": null,
       "border": null,
       "bottom": null,
       "display": null,
       "flex": null,
       "flex_flow": null,
       "grid_area": null,
       "grid_auto_columns": null,
       "grid_auto_flow": null,
       "grid_auto_rows": null,
       "grid_column": null,
       "grid_gap": null,
       "grid_row": null,
       "grid_template_areas": null,
       "grid_template_columns": null,
       "grid_template_rows": null,
       "height": null,
       "justify_content": null,
       "justify_items": null,
       "left": null,
       "margin": null,
       "max_height": null,
       "max_width": null,
       "min_height": null,
       "min_width": null,
       "object_fit": null,
       "object_position": null,
       "order": null,
       "overflow": null,
       "overflow_x": null,
       "overflow_y": null,
       "padding": null,
       "right": null,
       "top": null,
       "visibility": null,
       "width": null
      }
     },
     "373db990fa5b40d7bded8bc9e56c73d7": {
      "model_module": "@jupyter-widgets/base",
      "model_module_version": "1.2.0",
      "model_name": "LayoutModel",
      "state": {
       "_model_module": "@jupyter-widgets/base",
       "_model_module_version": "1.2.0",
       "_model_name": "LayoutModel",
       "_view_count": null,
       "_view_module": "@jupyter-widgets/base",
       "_view_module_version": "1.2.0",
       "_view_name": "LayoutView",
       "align_content": null,
       "align_items": null,
       "align_self": null,
       "border": null,
       "bottom": null,
       "display": null,
       "flex": null,
       "flex_flow": null,
       "grid_area": null,
       "grid_auto_columns": null,
       "grid_auto_flow": null,
       "grid_auto_rows": null,
       "grid_column": null,
       "grid_gap": null,
       "grid_row": null,
       "grid_template_areas": null,
       "grid_template_columns": null,
       "grid_template_rows": null,
       "height": null,
       "justify_content": null,
       "justify_items": null,
       "left": null,
       "margin": null,
       "max_height": null,
       "max_width": null,
       "min_height": null,
       "min_width": null,
       "object_fit": null,
       "object_position": null,
       "order": null,
       "overflow": null,
       "overflow_x": null,
       "overflow_y": null,
       "padding": null,
       "right": null,
       "top": null,
       "visibility": null,
       "width": null
      }
     },
     "504e562fe26f4187b2285a4421f8bb3a": {
      "model_module": "@jupyter-widgets/base",
      "model_module_version": "1.2.0",
      "model_name": "LayoutModel",
      "state": {
       "_model_module": "@jupyter-widgets/base",
       "_model_module_version": "1.2.0",
       "_model_name": "LayoutModel",
       "_view_count": null,
       "_view_module": "@jupyter-widgets/base",
       "_view_module_version": "1.2.0",
       "_view_name": "LayoutView",
       "align_content": null,
       "align_items": null,
       "align_self": null,
       "border": null,
       "bottom": null,
       "display": null,
       "flex": null,
       "flex_flow": null,
       "grid_area": null,
       "grid_auto_columns": null,
       "grid_auto_flow": null,
       "grid_auto_rows": null,
       "grid_column": null,
       "grid_gap": null,
       "grid_row": null,
       "grid_template_areas": null,
       "grid_template_columns": null,
       "grid_template_rows": null,
       "height": null,
       "justify_content": null,
       "justify_items": null,
       "left": null,
       "margin": null,
       "max_height": null,
       "max_width": null,
       "min_height": null,
       "min_width": null,
       "object_fit": null,
       "object_position": null,
       "order": null,
       "overflow": null,
       "overflow_x": null,
       "overflow_y": null,
       "padding": null,
       "right": null,
       "top": null,
       "visibility": null,
       "width": null
      }
     },
     "5f272ebc4b334fd09631006197395305": {
      "model_module": "@jupyter-widgets/controls",
      "model_module_version": "1.5.0",
      "model_name": "FloatProgressModel",
      "state": {
       "_dom_classes": [],
       "_model_module": "@jupyter-widgets/controls",
       "_model_module_version": "1.5.0",
       "_model_name": "FloatProgressModel",
       "_view_count": null,
       "_view_module": "@jupyter-widgets/controls",
       "_view_module_version": "1.5.0",
       "_view_name": "ProgressView",
       "bar_style": "success",
       "description": "",
       "description_tooltip": null,
       "layout": "IPY_MODEL_62bf643bb5d84bdfa559ecd4aaed744e",
       "max": 46827520.0,
       "min": 0.0,
       "orientation": "horizontal",
       "style": "IPY_MODEL_17e9617e864c42ab8654070be82b0dca",
       "value": 46827520.0
      }
     },
     "62bf643bb5d84bdfa559ecd4aaed744e": {
      "model_module": "@jupyter-widgets/base",
      "model_module_version": "1.2.0",
      "model_name": "LayoutModel",
      "state": {
       "_model_module": "@jupyter-widgets/base",
       "_model_module_version": "1.2.0",
       "_model_name": "LayoutModel",
       "_view_count": null,
       "_view_module": "@jupyter-widgets/base",
       "_view_module_version": "1.2.0",
       "_view_name": "LayoutView",
       "align_content": null,
       "align_items": null,
       "align_self": null,
       "border": null,
       "bottom": null,
       "display": null,
       "flex": null,
       "flex_flow": null,
       "grid_area": null,
       "grid_auto_columns": null,
       "grid_auto_flow": null,
       "grid_auto_rows": null,
       "grid_column": null,
       "grid_gap": null,
       "grid_row": null,
       "grid_template_areas": null,
       "grid_template_columns": null,
       "grid_template_rows": null,
       "height": null,
       "justify_content": null,
       "justify_items": null,
       "left": null,
       "margin": null,
       "max_height": null,
       "max_width": null,
       "min_height": null,
       "min_width": null,
       "object_fit": null,
       "object_position": null,
       "order": null,
       "overflow": null,
       "overflow_x": null,
       "overflow_y": null,
       "padding": null,
       "right": null,
       "top": null,
       "visibility": null,
       "width": null
      }
     },
     "8542ce2ec7464ec3b12867a55ed7f6b1": {
      "model_module": "@jupyter-widgets/controls",
      "model_module_version": "1.5.0",
      "model_name": "HTMLModel",
      "state": {
       "_dom_classes": [],
       "_model_module": "@jupyter-widgets/controls",
       "_model_module_version": "1.5.0",
       "_model_name": "HTMLModel",
       "_view_count": null,
       "_view_module": "@jupyter-widgets/controls",
       "_view_module_version": "1.5.0",
       "_view_name": "HTMLView",
       "description": "",
       "description_tooltip": null,
       "layout": "IPY_MODEL_373db990fa5b40d7bded8bc9e56c73d7",
       "placeholder": "​",
       "style": "IPY_MODEL_c9e1d0cd885c418093e5a74f268b5ba1",
       "value": "100%"
      }
     },
     "c9e1d0cd885c418093e5a74f268b5ba1": {
      "model_module": "@jupyter-widgets/controls",
      "model_module_version": "1.5.0",
      "model_name": "DescriptionStyleModel",
      "state": {
       "_model_module": "@jupyter-widgets/controls",
       "_model_module_version": "1.5.0",
       "_model_name": "DescriptionStyleModel",
       "_view_count": null,
       "_view_module": "@jupyter-widgets/base",
       "_view_module_version": "1.2.0",
       "_view_name": "StyleView",
       "description_width": ""
      }
     },
     "e8ff2f82eda841a7896ed93e2a145cf1": {
      "model_module": "@jupyter-widgets/controls",
      "model_module_version": "1.5.0",
      "model_name": "HTMLModel",
      "state": {
       "_dom_classes": [],
       "_model_module": "@jupyter-widgets/controls",
       "_model_module_version": "1.5.0",
       "_model_name": "HTMLModel",
       "_view_count": null,
       "_view_module": "@jupyter-widgets/controls",
       "_view_module_version": "1.5.0",
       "_view_name": "HTMLView",
       "description": "",
       "description_tooltip": null,
       "layout": "IPY_MODEL_36462328a8cc445c89198edc9d0cf94e",
       "placeholder": "​",
       "style": "IPY_MODEL_1886c2fad1cc44aeb3a608664656ac71",
       "value": " 44.7M/44.7M [00:02&lt;00:00, 15.0MB/s]"
      }
     },
     "f2864e8b2c574d54952176f7b7ec8c44": {
      "model_module": "@jupyter-widgets/controls",
      "model_module_version": "1.5.0",
      "model_name": "HBoxModel",
      "state": {
       "_dom_classes": [],
       "_model_module": "@jupyter-widgets/controls",
       "_model_module_version": "1.5.0",
       "_model_name": "HBoxModel",
       "_view_count": null,
       "_view_module": "@jupyter-widgets/controls",
       "_view_module_version": "1.5.0",
       "_view_name": "HBoxView",
       "box_style": "",
       "children": [
        "IPY_MODEL_8542ce2ec7464ec3b12867a55ed7f6b1",
        "IPY_MODEL_5f272ebc4b334fd09631006197395305",
        "IPY_MODEL_e8ff2f82eda841a7896ed93e2a145cf1"
       ],
       "layout": "IPY_MODEL_504e562fe26f4187b2285a4421f8bb3a"
      }
     }
    },
    "version_major": 2,
    "version_minor": 0
   }
  }
 },
 "nbformat": 4,
 "nbformat_minor": 4
}
