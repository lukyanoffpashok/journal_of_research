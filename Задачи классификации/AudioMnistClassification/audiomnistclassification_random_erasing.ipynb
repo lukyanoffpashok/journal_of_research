{
 "cells": [
  {
   "cell_type": "code",
   "execution_count": 1,
   "metadata": {
    "_cell_guid": "b1076dfc-b9ad-4769-8c92-a6c4dae69d19",
    "_uuid": "8f2839f25d086af736a60e9eeb907d3b93b6e0e5",
    "execution": {
     "iopub.execute_input": "2021-04-05T18:33:19.693477Z",
     "iopub.status.busy": "2021-04-05T18:33:19.692907Z",
     "iopub.status.idle": "2021-04-05T18:33:23.888836Z",
     "shell.execute_reply": "2021-04-05T18:33:23.889292Z"
    },
    "papermill": {
     "duration": 4.214547,
     "end_time": "2021-04-05T18:33:23.889568",
     "exception": false,
     "start_time": "2021-04-05T18:33:19.675021",
     "status": "completed"
    },
    "tags": []
   },
   "outputs": [
    {
     "name": "stderr",
     "output_type": "stream",
     "text": [
      "/opt/conda/lib/python3.7/site-packages/torchaudio/backend/utils.py:54: UserWarning: \"sox\" backend is being deprecated. The default backend will be changed to \"sox_io\" backend in 0.8.0 and \"sox\" backend will be removed in 0.9.0. Please migrate to \"sox_io\" backend. Please refer to https://github.com/pytorch/audio/issues/903 for the detail.\n",
      "  '\"sox\" backend is being deprecated. '\n"
     ]
    }
   ],
   "source": [
    "import numpy as np\n",
    "import matplotlib.pyplot as plt\n",
    "from sklearn.model_selection import train_test_split\n",
    "import librosa\n",
    "import librosa.display\n",
    "import os\n",
    "import copy\n",
    "import torch\n",
    "from torch.utils.data import Dataset, DataLoader\n",
    "import random\n",
    "import skimage.io as io\n",
    "import pandas as pd\n",
    "from torchvision.models import resnet18\n",
    "import torchaudio.transforms as T\n",
    "from tqdm import tqdm"
   ]
  },
  {
   "cell_type": "code",
   "execution_count": 2,
   "metadata": {
    "execution": {
     "iopub.execute_input": "2021-04-05T18:33:23.922842Z",
     "iopub.status.busy": "2021-04-05T18:33:23.920972Z",
     "iopub.status.idle": "2021-04-05T18:33:23.923421Z",
     "shell.execute_reply": "2021-04-05T18:33:23.923841Z"
    },
    "papermill": {
     "duration": 0.020907,
     "end_time": "2021-04-05T18:33:23.923972",
     "exception": false,
     "start_time": "2021-04-05T18:33:23.903065",
     "status": "completed"
    },
    "tags": []
   },
   "outputs": [],
   "source": [
    "def seed_everything(seed=42):\n",
    "    print(f'setting everything to seed {seed}')\n",
    "    random.seed(seed)\n",
    "    os.environ['PYTHONHASHSEED'] = str(seed)\n",
    "    np.random.seed(seed)\n",
    "    torch.manual_seed(seed)\n",
    "    torch.cuda.manual_seed(seed)\n",
    "    torch.backends.cudnn.deterministic = True\n",
    "    torch.cuda.empty_cache()"
   ]
  },
  {
   "cell_type": "code",
   "execution_count": 3,
   "metadata": {
    "execution": {
     "iopub.execute_input": "2021-04-05T18:33:23.955503Z",
     "iopub.status.busy": "2021-04-05T18:33:23.954214Z",
     "iopub.status.idle": "2021-04-05T18:33:23.956925Z",
     "shell.execute_reply": "2021-04-05T18:33:23.957340Z"
    },
    "papermill": {
     "duration": 0.020828,
     "end_time": "2021-04-05T18:33:23.957456",
     "exception": false,
     "start_time": "2021-04-05T18:33:23.936628",
     "status": "completed"
    },
    "tags": []
   },
   "outputs": [],
   "source": [
    "device = torch.device('cuda:0')\n",
    "data_dir = '/kaggle/input/free-spoken-digits/free-spoken-digit-dataset-master/recordings'"
   ]
  },
  {
   "cell_type": "code",
   "execution_count": 4,
   "metadata": {
    "execution": {
     "iopub.execute_input": "2021-04-05T18:33:23.991193Z",
     "iopub.status.busy": "2021-04-05T18:33:23.989317Z",
     "iopub.status.idle": "2021-04-05T18:33:23.991824Z",
     "shell.execute_reply": "2021-04-05T18:33:23.992213Z"
    },
    "papermill": {
     "duration": 0.02259,
     "end_time": "2021-04-05T18:33:23.992438",
     "exception": false,
     "start_time": "2021-04-05T18:33:23.969848",
     "status": "completed"
    },
    "tags": []
   },
   "outputs": [],
   "source": [
    "def mono_to_color(X, eps=1e-6, mean=None, std=None):\n",
    "    # Standardize\n",
    "    mean = mean or X.mean()\n",
    "    std = std or X.std()\n",
    "    X = (X - mean) / (std + eps)\n",
    "    # Normalize to [0, 255]\n",
    "    _min, _max = X.min(), X.max()\n",
    "    if (_max - _min) > eps:\n",
    "        V = np.clip(X, _min, _max)\n",
    "        V = 255 * (V - _min) / (_max - _min)\n",
    "        V = V.astype(np.uint8)\n",
    "    else:\n",
    "        V = np.zeros_like(X, dtype=np.uint8)\n",
    "    return V\n",
    "\n",
    "def normalize(image, mean=None, std=None):\n",
    "    image = image / 255.0\n",
    "    if mean is not None and std is not None:\n",
    "        image = (image - mean) / std\n",
    "    return image.astype(np.float32)"
   ]
  },
  {
   "cell_type": "code",
   "execution_count": 5,
   "metadata": {
    "execution": {
     "iopub.execute_input": "2021-04-05T18:33:24.023090Z",
     "iopub.status.busy": "2021-04-05T18:33:24.021824Z",
     "iopub.status.idle": "2021-04-05T18:33:24.024638Z",
     "shell.execute_reply": "2021-04-05T18:33:24.025052Z"
    },
    "papermill": {
     "duration": 0.020041,
     "end_time": "2021-04-05T18:33:24.025165",
     "exception": false,
     "start_time": "2021-04-05T18:33:24.005124",
     "status": "completed"
    },
    "tags": []
   },
   "outputs": [],
   "source": [
    "NUM_SAMPLES = 11022\n",
    "sr = 48000\n",
    "fmin = 84\n",
    "fmax = sr // 2\n",
    "nmels = 128\n",
    "batch_size = 32\n",
    "random_seed = 42\n",
    "train_size = 0.8"
   ]
  },
  {
   "cell_type": "code",
   "execution_count": 6,
   "metadata": {
    "execution": {
     "iopub.execute_input": "2021-04-05T18:33:24.054251Z",
     "iopub.status.busy": "2021-04-05T18:33:24.053756Z",
     "iopub.status.idle": "2021-04-05T18:33:24.203698Z",
     "shell.execute_reply": "2021-04-05T18:33:24.202456Z"
    },
    "papermill": {
     "duration": 0.165837,
     "end_time": "2021-04-05T18:33:24.203844",
     "exception": false,
     "start_time": "2021-04-05T18:33:24.038007",
     "status": "completed"
    },
    "tags": []
   },
   "outputs": [],
   "source": [
    "recordings_old = sorted(os.listdir(data_dir))"
   ]
  },
  {
   "cell_type": "code",
   "execution_count": 7,
   "metadata": {
    "execution": {
     "iopub.execute_input": "2021-04-05T18:33:24.232792Z",
     "iopub.status.busy": "2021-04-05T18:33:24.232114Z",
     "iopub.status.idle": "2021-04-05T18:34:48.054382Z",
     "shell.execute_reply": "2021-04-05T18:34:48.053856Z"
    },
    "papermill": {
     "duration": 83.838499,
     "end_time": "2021-04-05T18:34:48.054527",
     "exception": false,
     "start_time": "2021-04-05T18:33:24.216028",
     "status": "completed"
    },
    "tags": []
   },
   "outputs": [],
   "source": [
    "recordings = []\n",
    "for x in recordings_old:\n",
    "    y, _ = librosa.load(data_dir + '/' + x, sr = sr)\n",
    "    if y.shape[0] >= NUM_SAMPLES:\n",
    "        recordings.append(x)"
   ]
  },
  {
   "cell_type": "code",
   "execution_count": 8,
   "metadata": {
    "execution": {
     "iopub.execute_input": "2021-04-05T18:34:48.084980Z",
     "iopub.status.busy": "2021-04-05T18:34:48.084479Z",
     "iopub.status.idle": "2021-04-05T18:34:48.089907Z",
     "shell.execute_reply": "2021-04-05T18:34:48.090316Z"
    },
    "papermill": {
     "duration": 0.023056,
     "end_time": "2021-04-05T18:34:48.090443",
     "exception": false,
     "start_time": "2021-04-05T18:34:48.067387",
     "status": "completed"
    },
    "tags": []
   },
   "outputs": [
    {
     "data": {
      "text/plain": [
       "2903"
      ]
     },
     "execution_count": 8,
     "metadata": {},
     "output_type": "execute_result"
    }
   ],
   "source": [
    "len(recordings)"
   ]
  },
  {
   "cell_type": "code",
   "execution_count": 9,
   "metadata": {
    "execution": {
     "iopub.execute_input": "2021-04-05T18:34:48.121608Z",
     "iopub.status.busy": "2021-04-05T18:34:48.120795Z",
     "iopub.status.idle": "2021-04-05T18:34:48.277065Z",
     "shell.execute_reply": "2021-04-05T18:34:48.276584Z"
    },
    "papermill": {
     "duration": 0.173248,
     "end_time": "2021-04-05T18:34:48.277189",
     "exception": false,
     "start_time": "2021-04-05T18:34:48.103941",
     "status": "completed"
    },
    "tags": []
   },
   "outputs": [
    {
     "data": {
      "image/png": "[encoded data removed]",
      "text/plain": [
       "<Figure size 1440x432 with 1 Axes>"
      ]
     },
     "metadata": {
      "needs_background": "light"
     },
     "output_type": "display_data"
    }
   ],
   "source": [
    "y, _ = librosa.load(data_dir + '/' + recordings[700], sr = sr)\n",
    "samples = y[:NUM_SAMPLES]\n",
    "melspec = librosa.feature.melspectrogram(samples, sr=sr, n_mels=nmels, fmin=fmin, fmax=fmax)\n",
    "melspec = librosa.power_to_db(melspec)\n",
    "melspec = mono_to_color(melspec)\n",
    "melspec = normalize(melspec, mean=None, std=None)\n",
    "plt.figure(figsize = (20, 6))\n",
    "plt.imshow(melspec)\n",
    "plt.show()"
   ]
  },
  {
   "cell_type": "code",
   "execution_count": 10,
   "metadata": {
    "execution": {
     "iopub.execute_input": "2021-04-05T18:34:48.308829Z",
     "iopub.status.busy": "2021-04-05T18:34:48.308257Z",
     "iopub.status.idle": "2021-04-05T18:34:48.313203Z",
     "shell.execute_reply": "2021-04-05T18:34:48.313603Z"
    },
    "papermill": {
     "duration": 0.022243,
     "end_time": "2021-04-05T18:34:48.313736",
     "exception": false,
     "start_time": "2021-04-05T18:34:48.291493",
     "status": "completed"
    },
    "tags": []
   },
   "outputs": [
    {
     "data": {
      "text/plain": [
       "(128, 22)"
      ]
     },
     "execution_count": 10,
     "metadata": {},
     "output_type": "execute_result"
    }
   ],
   "source": [
    "image_size = melspec.shape\n",
    "image_size"
   ]
  },
  {
   "cell_type": "code",
   "execution_count": 11,
   "metadata": {
    "execution": {
     "iopub.execute_input": "2021-04-05T18:34:48.352755Z",
     "iopub.status.busy": "2021-04-05T18:34:48.352084Z",
     "iopub.status.idle": "2021-04-05T18:34:48.355180Z",
     "shell.execute_reply": "2021-04-05T18:34:48.355558Z"
    },
    "papermill": {
     "duration": 0.028031,
     "end_time": "2021-04-05T18:34:48.355688",
     "exception": false,
     "start_time": "2021-04-05T18:34:48.327657",
     "status": "completed"
    },
    "tags": []
   },
   "outputs": [],
   "source": [
    "def noise_augmentation(im, var = 0.01):\n",
    "    noise = var * torch.randn(im.shape[1], im.shape[2])\n",
    "    im[0, :, :] += noise\n",
    "    im[1, :, :] += noise\n",
    "    im[2, :, :] += noise\n",
    "    return im\n",
    "\n",
    "def shift_augmentation(image, max_shift = 2):\n",
    "    shift = np.random.randint(max_shift)\n",
    "    p = np.random.rand()\n",
    "    if p < 0.5:\n",
    "        image[:, :, shift:] = image[:, :, :image.shape[2] - shift]\n",
    "        image[:, :, :shift] = 0.0\n",
    "    else:\n",
    "        image[:, :, :image.shape[2] - shift] = image[:, :, shift:]\n",
    "        image[:, :, image.shape[2] - shift:] = 0.0\n",
    "    return image\n",
    "    \n",
    "def random_erasing(image, max_a = 12, max_b = 2):\n",
    "    a = np.random.randint(max_a)\n",
    "    b = np.random.randint(max_b)\n",
    "    a0 = np.random.randint(image.shape[1] - max_a)\n",
    "    b0 = np.random.randint(image.shape[2] - max_a)\n",
    "    image[:, a0 : a0 + a, b0 : b0 + b] = 0\n",
    "    return image\n",
    "    \n",
    "    \n",
    "def augmentation(im, mode = 'No'):\n",
    "    image = im.clone()\n",
    "    if mode == 'TimeMasking':\n",
    "        return T.TimeMasking(2)(image)\n",
    "    if mode == 'FreqMasking':\n",
    "        return T.FrequencyMasking(12)(image)\n",
    "    if mode == 'RandomErasing':\n",
    "        return random_erasing(image, 12, 2)\n",
    "    if mode == 'Shift':\n",
    "        return shift_augmentation(image)\n",
    "    if mode == 'Noise':\n",
    "        return noise_augmentation(image)\n",
    "    \n",
    "    return image"
   ]
  },
  {
   "cell_type": "code",
   "execution_count": 12,
   "metadata": {
    "execution": {
     "iopub.execute_input": "2021-04-05T18:34:48.388230Z",
     "iopub.status.busy": "2021-04-05T18:34:48.387756Z",
     "iopub.status.idle": "2021-04-05T18:34:48.391759Z",
     "shell.execute_reply": "2021-04-05T18:34:48.391320Z"
    },
    "papermill": {
     "duration": 0.022391,
     "end_time": "2021-04-05T18:34:48.391860",
     "exception": false,
     "start_time": "2021-04-05T18:34:48.369469",
     "status": "completed"
    },
    "tags": []
   },
   "outputs": [],
   "source": [
    "def get_spectrogram(filename):\n",
    "    y, _ = librosa.load(filename, sr = sr)\n",
    "    samples = y[:NUM_SAMPLES]\n",
    "    melspec = librosa.feature.melspectrogram(samples, sr=sr, n_mels=nmels, fmin=fmin, fmax=fmax)\n",
    "    melspec = librosa.power_to_db(melspec)\n",
    "    melspec = mono_to_color(melspec)\n",
    "    melspec = normalize(melspec, mean=None, std=None)\n",
    "    return torch.tensor(melspec, dtype=torch.float32)"
   ]
  },
  {
   "cell_type": "code",
   "execution_count": 13,
   "metadata": {
    "execution": {
     "iopub.execute_input": "2021-04-05T18:34:48.423770Z",
     "iopub.status.busy": "2021-04-05T18:34:48.423027Z",
     "iopub.status.idle": "2021-04-05T18:36:13.361972Z",
     "shell.execute_reply": "2021-04-05T18:36:13.361322Z"
    },
    "papermill": {
     "duration": 84.956523,
     "end_time": "2021-04-05T18:36:13.362118",
     "exception": false,
     "start_time": "2021-04-05T18:34:48.405595",
     "status": "completed"
    },
    "tags": []
   },
   "outputs": [],
   "source": [
    "data = []\n",
    "labels = []\n",
    "for i in range(len(recordings)):\n",
    "    data.append(get_spectrogram(data_dir + '/' + recordings[i]))\n",
    "    labels.append(int(recordings[i][0]))\n"
   ]
  },
  {
   "cell_type": "code",
   "execution_count": 14,
   "metadata": {
    "execution": {
     "iopub.execute_input": "2021-04-05T18:36:13.398573Z",
     "iopub.status.busy": "2021-04-05T18:36:13.397418Z",
     "iopub.status.idle": "2021-04-05T18:36:13.399908Z",
     "shell.execute_reply": "2021-04-05T18:36:13.400288Z"
    },
    "papermill": {
     "duration": 0.023179,
     "end_time": "2021-04-05T18:36:13.400413",
     "exception": false,
     "start_time": "2021-04-05T18:36:13.377234",
     "status": "completed"
    },
    "tags": []
   },
   "outputs": [],
   "source": [
    "keys = np.arange(len(data))\n",
    "train_keys, test_keys = train_test_split(keys, train_size=train_size, random_state=random_seed)\n",
    "train_keys, valid_keys = train_test_split(train_keys, train_size=train_size, random_state=random_seed)"
   ]
  },
  {
   "cell_type": "code",
   "execution_count": 15,
   "metadata": {
    "execution": {
     "iopub.execute_input": "2021-04-05T18:36:13.436989Z",
     "iopub.status.busy": "2021-04-05T18:36:13.435321Z",
     "iopub.status.idle": "2021-04-05T18:36:13.437620Z",
     "shell.execute_reply": "2021-04-05T18:36:13.438011Z"
    },
    "papermill": {
     "duration": 0.023586,
     "end_time": "2021-04-05T18:36:13.438121",
     "exception": false,
     "start_time": "2021-04-05T18:36:13.414535",
     "status": "completed"
    },
    "tags": []
   },
   "outputs": [],
   "source": [
    "class AudioMNIST(Dataset):\n",
    "    def __init__(self, keys, mode = 'train', data = [], labels = [], augment = False, aug_type = 'No'):\n",
    "        super().__init__()\n",
    "        self.n = len(keys)\n",
    "        self.data = []\n",
    "        self.labels = []\n",
    "        self.augment = augment\n",
    "        self.aug_type = aug_type\n",
    "        for i in keys:\n",
    "            self.data.append(data[i])\n",
    "            self.labels.append(labels[i])\n",
    "\n",
    "    def __getitem__(self, i):\n",
    "        X = self.data[i]\n",
    "        X = torch.stack([X, X, X])\n",
    "        if self.augment:\n",
    "            X = augmentation(X, self.aug_type)\n",
    "        return X, self.labels[i]\n",
    "\n",
    "    def __len__(self):\n",
    "        return self.n"
   ]
  },
  {
   "cell_type": "code",
   "execution_count": 16,
   "metadata": {
    "execution": {
     "iopub.execute_input": "2021-04-05T18:36:13.479295Z",
     "iopub.status.busy": "2021-04-05T18:36:13.477581Z",
     "iopub.status.idle": "2021-04-05T18:36:13.479868Z",
     "shell.execute_reply": "2021-04-05T18:36:13.480248Z"
    },
    "papermill": {
     "duration": 0.028146,
     "end_time": "2021-04-05T18:36:13.480374",
     "exception": false,
     "start_time": "2021-04-05T18:36:13.452228",
     "status": "completed"
    },
    "tags": []
   },
   "outputs": [],
   "source": [
    "def train(model, loss_fn, train_loader, valid_loader, epochs, optimizer, augment = 'No'):\n",
    "    best_model_wts = copy.deepcopy(model.state_dict())\n",
    "    best_acc = 0.0\n",
    "    train_losses = []\n",
    "    valid_losses = []\n",
    "    valid_acc = []\n",
    "    best_train_acc = 0.0\n",
    "    for epoch in range(epochs):\n",
    "        print('epoch:', epoch)\n",
    "        model.train()\n",
    "        sum_loss = 0\n",
    "        sum_accuracy = 0\n",
    "        cnt_objects = 0\n",
    "        for X, y in train_dataloader:\n",
    "            optimizer.zero_grad()\n",
    "            X = X.to(device)\n",
    "            scores = model(X)\n",
    "            loss = criterion(scores, y.to(device))\n",
    "            loss.backward()\n",
    "            optimizer.step()\n",
    "            sum_loss += float(loss) * len(y)\n",
    "            cnt_objects += len(y)\n",
    "\n",
    "        mean_loss = sum_loss / cnt_objects\n",
    "        train_losses.append(mean_loss)\n",
    "        print('Train')\n",
    "        print(mean_loss)\n",
    "\n",
    "        model.eval()\n",
    "        sum_loss = 0\n",
    "        sum_accuracy = 0\n",
    "        cnt_objects = 0\n",
    "        with torch.no_grad():\n",
    "            for X, y in valid_loader:\n",
    "                X = X.to(device)\n",
    "                scores = model(X)\n",
    "                loss = criterion(scores, y.to(device))\n",
    "                sum_loss += float(loss) * len(y)\n",
    "                preds = scores.cpu().detach().argmax(dim=1)\n",
    "                accuracy = float((y == preds).float().sum())\n",
    "                sum_accuracy += accuracy\n",
    "                cnt_objects += len(y)\n",
    "\n",
    "        print('TEST')\n",
    "        mean_loss = sum_loss / cnt_objects\n",
    "        valid_losses.append(mean_loss)\n",
    "        mean_accuracy = sum_accuracy / cnt_objects\n",
    "        valid_acc.append(mean_accuracy)\n",
    "        if mean_accuracy > best_acc:\n",
    "            best_acc = mean_accuracy\n",
    "            best_model_wts = copy.deepcopy(model.state_dict())\n",
    "        print('loss:', mean_loss)\n",
    "        print('accuracy:', mean_accuracy)\n",
    "        print('******************')\n",
    "    print('Accuracy on the validation: ', best_acc)\n",
    "    model.load_state_dict(best_model_wts)\n",
    "    return model, train_losses, valid_losses, valid_acc"
   ]
  },
  {
   "cell_type": "code",
   "execution_count": 17,
   "metadata": {
    "execution": {
     "iopub.execute_input": "2021-04-05T18:36:13.515673Z",
     "iopub.status.busy": "2021-04-05T18:36:13.514127Z",
     "iopub.status.idle": "2021-04-05T18:36:13.516449Z",
     "shell.execute_reply": "2021-04-05T18:36:13.516855Z"
    },
    "papermill": {
     "duration": 0.022429,
     "end_time": "2021-04-05T18:36:13.516967",
     "exception": false,
     "start_time": "2021-04-05T18:36:13.494538",
     "status": "completed"
    },
    "tags": []
   },
   "outputs": [],
   "source": [
    "def evaluate(model, test_loader):\n",
    "    model.eval()\n",
    "    #all_preds = []\n",
    "    sum_accuracy = 0\n",
    "    cnt_objects = 0\n",
    "    with torch.no_grad():\n",
    "        for X, y in test_loader:\n",
    "            X = X.to(device)\n",
    "            scores = model(X)\n",
    "            preds = scores.cpu().detach().argmax(dim=1)\n",
    "            accuracy = float((y == preds).float().sum())\n",
    "            sum_accuracy += accuracy\n",
    "            cnt_objects += len(y)\n",
    "            #all_preds.append(preds)\n",
    "\n",
    "    mean_accuracy = sum_accuracy / cnt_objects\n",
    "    print('Quality of the model')\n",
    "    print('accuracy:', mean_accuracy)"
   ]
  },
  {
   "cell_type": "markdown",
   "metadata": {
    "papermill": {
     "duration": 0.014208,
     "end_time": "2021-04-05T18:36:13.545527",
     "exception": false,
     "start_time": "2021-04-05T18:36:13.531319",
     "status": "completed"
    },
    "tags": []
   },
   "source": [
    "## Resnet18"
   ]
  },
  {
   "cell_type": "markdown",
   "metadata": {
    "papermill": {
     "duration": 0.014296,
     "end_time": "2021-04-05T18:36:13.574336",
     "exception": false,
     "start_time": "2021-04-05T18:36:13.560040",
     "status": "completed"
    },
    "tags": []
   },
   "source": [
    "### RandomErasing"
   ]
  },
  {
   "cell_type": "code",
   "execution_count": 18,
   "metadata": {
    "execution": {
     "iopub.execute_input": "2021-04-05T18:36:13.610836Z",
     "iopub.status.busy": "2021-04-05T18:36:13.610331Z",
     "iopub.status.idle": "2021-04-05T18:38:47.303673Z",
     "shell.execute_reply": "2021-04-05T18:38:47.304331Z"
    },
    "papermill": {
     "duration": 153.715738,
     "end_time": "2021-04-05T18:38:47.304527",
     "exception": false,
     "start_time": "2021-04-05T18:36:13.588789",
     "status": "completed"
    },
    "tags": []
   },
   "outputs": [
    {
     "name": "stdout",
     "output_type": "stream",
     "text": [
      "setting everything to seed 42\n"
     ]
    },
    {
     "name": "stderr",
     "output_type": "stream",
     "text": [
      "Downloading: \"https://download.pytorch.org/models/resnet18-5c106cde.pth\" to /root/.cache/torch/hub/checkpoints/resnet18-5c106cde.pth\n"
     ]
    },
    {
     "data": {
      "application/vnd.jupyter.widget-view+json": {
       "model_id": "6573664557ce4d37a0903f6c234e45a6",
       "version_major": 2,
       "version_minor": 0
      },
      "text/plain": [
       "  0%|          | 0.00/44.7M [00:00<?, ?B/s]"
      ]
     },
     "metadata": {},
     "output_type": "display_data"
    },
    {
     "name": "stdout",
     "output_type": "stream",
     "text": [
      "epoch: 0\n",
      "Train\n",
      "1.0230465893085503\n",
      "TEST\n",
      "loss: 0.8488983400406376\n",
      "accuracy: 0.7784946236559139\n",
      "******************\n",
      "epoch: 1\n",
      "Train\n",
      "0.40715972056103833\n",
      "TEST\n",
      "loss: 0.3980653867926649\n",
      "accuracy: 0.8795698924731182\n",
      "******************\n",
      "epoch: 2\n",
      "Train\n",
      "0.2397056866796285\n",
      "TEST\n",
      "loss: 0.48238357625981815\n",
      "accuracy: 0.8494623655913979\n",
      "******************\n",
      "epoch: 3\n",
      "Train\n",
      "0.23350678661143068\n",
      "TEST\n",
      "loss: 0.5082318519392321\n",
      "accuracy: 0.864516129032258\n",
      "******************\n",
      "epoch: 4\n",
      "Train\n",
      "0.18673953560005932\n",
      "TEST\n",
      "loss: 0.38923289638052705\n",
      "accuracy: 0.8709677419354839\n",
      "******************\n",
      "epoch: 5\n",
      "Train\n",
      "0.18617517304921188\n",
      "TEST\n",
      "loss: 0.3533651473701641\n",
      "accuracy: 0.896774193548387\n",
      "******************\n",
      "epoch: 6\n",
      "Train\n",
      "0.2086320689241926\n",
      "TEST\n",
      "loss: 0.2953752742659661\n",
      "accuracy: 0.9118279569892473\n",
      "******************\n",
      "epoch: 7\n",
      "Train\n",
      "0.15484557892599604\n",
      "TEST\n",
      "loss: 0.2731351744623915\n",
      "accuracy: 0.9311827956989247\n",
      "******************\n",
      "epoch: 8\n",
      "Train\n",
      "0.11493472727672606\n",
      "TEST\n",
      "loss: 0.13851015184034585\n",
      "accuracy: 0.956989247311828\n",
      "******************\n",
      "epoch: 9\n",
      "Train\n",
      "0.09646424221844845\n",
      "TEST\n",
      "loss: 0.34574362154929866\n",
      "accuracy: 0.9139784946236559\n",
      "******************\n",
      "epoch: 10\n",
      "Train\n",
      "0.10931573581104967\n",
      "TEST\n",
      "loss: 0.28846668047850493\n",
      "accuracy: 0.9204301075268817\n",
      "******************\n",
      "epoch: 11\n",
      "Train\n",
      "0.15796155704403025\n",
      "TEST\n",
      "loss: 0.18856592950641468\n",
      "accuracy: 0.9548387096774194\n",
      "******************\n",
      "epoch: 12\n",
      "Train\n",
      "0.10129165704380651\n",
      "TEST\n",
      "loss: 1.0443980040088776\n",
      "accuracy: 0.789247311827957\n",
      "******************\n",
      "epoch: 13\n",
      "Train\n",
      "0.09078732563817636\n",
      "TEST\n",
      "loss: 0.22507101580981284\n",
      "accuracy: 0.9440860215053763\n",
      "******************\n",
      "epoch: 14\n",
      "Train\n",
      "0.08436775288966374\n",
      "TEST\n",
      "loss: 0.5741269480797553\n",
      "accuracy: 0.8795698924731182\n",
      "******************\n",
      "epoch: 15\n",
      "Train\n",
      "0.12045313801072782\n",
      "TEST\n",
      "loss: 0.20080186410616802\n",
      "accuracy: 0.9440860215053763\n",
      "******************\n",
      "epoch: 16\n",
      "Train\n",
      "0.067771517289988\n",
      "TEST\n",
      "loss: 0.24879128375361043\n",
      "accuracy: 0.9376344086021505\n",
      "******************\n",
      "epoch: 17\n",
      "Train\n",
      "0.09286210671023104\n",
      "TEST\n",
      "loss: 0.24727762456462588\n",
      "accuracy: 0.9440860215053763\n",
      "******************\n",
      "epoch: 18\n",
      "Train\n",
      "0.04158880241319545\n",
      "TEST\n",
      "loss: 0.2094457496238011\n",
      "accuracy: 0.9397849462365592\n",
      "******************\n",
      "epoch: 19\n",
      "Train\n",
      "0.05806215953454977\n",
      "TEST\n",
      "loss: 0.30556691498044997\n",
      "accuracy: 0.9419354838709677\n",
      "******************\n",
      "epoch: 20\n",
      "Train\n",
      "0.06471554328540544\n",
      "TEST\n",
      "loss: 0.2381823902509065\n",
      "accuracy: 0.9526881720430107\n",
      "******************\n",
      "epoch: 21\n",
      "Train\n",
      "0.07530921328196971\n",
      "TEST\n",
      "loss: 0.31414874636678286\n",
      "accuracy: 0.9311827956989247\n",
      "******************\n",
      "epoch: 22\n",
      "Train\n",
      "0.05356077669618684\n",
      "TEST\n",
      "loss: 0.3221592846416658\n",
      "accuracy: 0.9397849462365592\n",
      "******************\n",
      "epoch: 23\n",
      "Train\n",
      "0.03740980100352066\n",
      "TEST\n",
      "loss: 0.13701631042064838\n",
      "accuracy: 0.9698924731182795\n",
      "******************\n",
      "epoch: 24\n",
      "Train\n",
      "0.06023316323059056\n",
      "TEST\n",
      "loss: 0.41402342309073736\n",
      "accuracy: 0.9354838709677419\n",
      "******************\n",
      "epoch: 25\n",
      "Train\n",
      "0.07511770740095235\n",
      "TEST\n",
      "loss: 0.27411498932107803\n",
      "accuracy: 0.9376344086021505\n",
      "******************\n",
      "epoch: 26\n",
      "Train\n",
      "0.03880804716762382\n",
      "TEST\n",
      "loss: 0.19900867937393085\n",
      "accuracy: 0.9634408602150538\n",
      "******************\n",
      "epoch: 27\n",
      "Train\n",
      "0.042305206153270984\n",
      "TEST\n",
      "loss: 0.26523203067080947\n",
      "accuracy: 0.9440860215053763\n",
      "******************\n",
      "epoch: 28\n",
      "Train\n",
      "0.051868985478270256\n",
      "TEST\n",
      "loss: 0.16389493645839795\n",
      "accuracy: 0.9655913978494624\n",
      "******************\n",
      "epoch: 29\n",
      "Train\n",
      "0.01900841175454659\n",
      "TEST\n",
      "loss: 0.23500712674151183\n",
      "accuracy: 0.9505376344086022\n",
      "******************\n",
      "epoch: 30\n",
      "Train\n",
      "0.023237210614170417\n",
      "TEST\n",
      "loss: 0.2830872863681326\n",
      "accuracy: 0.9548387096774194\n",
      "******************\n",
      "epoch: 31\n",
      "Train\n",
      "0.017997510165505725\n",
      "TEST\n",
      "loss: 0.1853005294197349\n",
      "accuracy: 0.9548387096774194\n",
      "******************\n",
      "epoch: 32\n",
      "Train\n",
      "0.05625505972398855\n",
      "TEST\n",
      "loss: 0.19243508350624833\n",
      "accuracy: 0.946236559139785\n",
      "******************\n",
      "epoch: 33\n",
      "Train\n",
      "0.04911482532375267\n",
      "TEST\n",
      "loss: 0.23485611170850773\n",
      "accuracy: 0.9548387096774194\n",
      "******************\n",
      "epoch: 34\n",
      "Train\n",
      "0.06193598236850532\n",
      "TEST\n",
      "loss: 0.18625117972573285\n",
      "accuracy: 0.9634408602150538\n",
      "******************\n",
      "epoch: 35\n",
      "Train\n",
      "0.03774793352680978\n",
      "TEST\n",
      "loss: 0.1870101073892006\n",
      "accuracy: 0.9634408602150538\n",
      "******************\n",
      "epoch: 36\n",
      "Train\n",
      "0.006823847606711944\n",
      "TEST\n",
      "loss: 0.1659751763271909\n",
      "accuracy: 0.9698924731182795\n",
      "******************\n",
      "epoch: 37\n",
      "Train\n",
      "0.005725634886141451\n",
      "TEST\n",
      "loss: 0.17766691654750336\n",
      "accuracy: 0.9655913978494624\n",
      "******************\n",
      "epoch: 38\n",
      "Train\n",
      "0.019779143794793303\n",
      "TEST\n",
      "loss: 0.2643408516722341\n",
      "accuracy: 0.9483870967741935\n",
      "******************\n",
      "epoch: 39\n",
      "Train\n",
      "0.015051312879024812\n",
      "TEST\n",
      "loss: 0.2103558068303892\n",
      "accuracy: 0.9634408602150538\n",
      "******************\n",
      "epoch: 40\n",
      "Train\n",
      "0.012256690503865898\n",
      "TEST\n",
      "loss: 0.16388552584084531\n",
      "accuracy: 0.9655913978494624\n",
      "******************\n",
      "epoch: 41\n",
      "Train\n",
      "0.023239386086911364\n",
      "TEST\n",
      "loss: 0.20287195023609905\n",
      "accuracy: 0.9612903225806452\n",
      "******************\n",
      "epoch: 42\n",
      "Train\n",
      "0.08189361179839293\n",
      "TEST\n",
      "loss: 0.5131110237490746\n",
      "accuracy: 0.9010752688172043\n",
      "******************\n",
      "epoch: 43\n",
      "Train\n",
      "0.06575341923307781\n",
      "TEST\n",
      "loss: 0.3473576361133206\n",
      "accuracy: 0.9182795698924732\n",
      "******************\n",
      "epoch: 44\n",
      "Train\n",
      "0.03975074095215185\n",
      "TEST\n",
      "loss: 0.20778513529528214\n",
      "accuracy: 0.9612903225806452\n",
      "******************\n",
      "epoch: 45\n",
      "Train\n",
      "0.03722896460818872\n",
      "TEST\n",
      "loss: 0.17179062834350012\n",
      "accuracy: 0.9612903225806452\n",
      "******************\n",
      "epoch: 46\n",
      "Train\n",
      "0.018918068310437453\n",
      "TEST\n",
      "loss: 0.24583389818147627\n",
      "accuracy: 0.9526881720430107\n",
      "******************\n",
      "epoch: 47\n",
      "Train\n",
      "0.026663149035484095\n",
      "TEST\n",
      "loss: 0.459392671631549\n",
      "accuracy: 0.9010752688172043\n",
      "******************\n",
      "epoch: 48\n",
      "Train\n",
      "0.06393337883275879\n",
      "TEST\n",
      "loss: 0.39750764466101124\n",
      "accuracy: 0.9118279569892473\n",
      "******************\n",
      "epoch: 49\n",
      "Train\n",
      "0.04766940961877264\n",
      "TEST\n",
      "loss: 0.19233537196552242\n",
      "accuracy: 0.967741935483871\n",
      "******************\n",
      "epoch: 50\n",
      "Train\n",
      "0.01892666846581955\n",
      "TEST\n",
      "loss: 0.20150949041689595\n",
      "accuracy: 0.956989247311828\n",
      "******************\n",
      "epoch: 51\n",
      "Train\n",
      "0.02741088544925816\n",
      "TEST\n",
      "loss: 0.13742033714648857\n",
      "accuracy: 0.9698924731182795\n",
      "******************\n",
      "epoch: 52\n",
      "Train\n",
      "0.008095843846346495\n",
      "TEST\n",
      "loss: 0.16875904813629164\n",
      "accuracy: 0.9720430107526882\n",
      "******************\n",
      "epoch: 53\n",
      "Train\n",
      "0.013541562313451666\n",
      "TEST\n",
      "loss: 0.17538413601221456\n",
      "accuracy: 0.967741935483871\n",
      "******************\n",
      "epoch: 54\n",
      "Train\n",
      "0.012869591310401645\n",
      "TEST\n",
      "loss: 0.19117918743761958\n",
      "accuracy: 0.9655913978494624\n",
      "******************\n",
      "epoch: 55\n",
      "Train\n",
      "0.019629851781788714\n",
      "TEST\n",
      "loss: 0.3448935666872609\n",
      "accuracy: 0.9376344086021505\n",
      "******************\n",
      "epoch: 56\n",
      "Train\n",
      "0.021753365018464702\n",
      "TEST\n",
      "loss: 0.13704528932970378\n",
      "accuracy: 0.9655913978494624\n",
      "******************\n",
      "epoch: 57\n",
      "Train\n",
      "0.013251352711070648\n",
      "TEST\n",
      "loss: 0.20804583651003658\n",
      "accuracy: 0.9591397849462365\n",
      "******************\n",
      "epoch: 58\n",
      "Train\n",
      "0.00922787383509179\n",
      "TEST\n",
      "loss: 0.14904124179043837\n",
      "accuracy: 0.9655913978494624\n",
      "******************\n",
      "epoch: 59\n",
      "Train\n",
      "0.006121319211873\n",
      "TEST\n",
      "loss: 0.12753097526729107\n",
      "accuracy: 0.9698924731182795\n",
      "******************\n",
      "epoch: 60\n",
      "Train\n",
      "0.006289308027709861\n",
      "TEST\n",
      "loss: 0.16729462466813544\n",
      "accuracy: 0.967741935483871\n",
      "******************\n",
      "epoch: 61\n",
      "Train\n",
      "0.007840078349280891\n",
      "TEST\n",
      "loss: 0.13840945552964445\n",
      "accuracy: 0.9720430107526882\n",
      "******************\n",
      "epoch: 62\n",
      "Train\n",
      "0.006870439412763395\n",
      "TEST\n",
      "loss: 0.1403399544297367\n",
      "accuracy: 0.9698924731182795\n",
      "******************\n",
      "epoch: 63\n",
      "Train\n",
      "0.023879387599501836\n",
      "TEST\n",
      "loss: 0.22448817055712464\n",
      "accuracy: 0.9634408602150538\n",
      "******************\n",
      "epoch: 64\n",
      "Train\n",
      "0.019706902168661066\n",
      "TEST\n",
      "loss: 0.20613252814979321\n",
      "accuracy: 0.9526881720430107\n",
      "******************\n",
      "epoch: 65\n",
      "Train\n",
      "0.03957198081975908\n",
      "TEST\n",
      "loss: 0.13610948964713082\n",
      "accuracy: 0.9634408602150538\n",
      "******************\n",
      "epoch: 66\n",
      "Train\n",
      "0.041196142097881916\n",
      "TEST\n",
      "loss: 0.2763045242757246\n",
      "accuracy: 0.9247311827956989\n",
      "******************\n",
      "epoch: 67\n",
      "Train\n",
      "0.013418219469143624\n",
      "TEST\n",
      "loss: 0.17673363393392935\n",
      "accuracy: 0.967741935483871\n",
      "******************\n",
      "epoch: 68\n",
      "Train\n",
      "0.020251454894296028\n",
      "TEST\n",
      "loss: 0.16006862346122983\n",
      "accuracy: 0.9612903225806452\n",
      "******************\n",
      "epoch: 69\n",
      "Train\n",
      "0.04528210611347416\n",
      "TEST\n",
      "loss: 0.29051718803182724\n",
      "accuracy: 0.9483870967741935\n",
      "******************\n",
      "epoch: 70\n",
      "Train\n",
      "0.034255246433700745\n",
      "TEST\n",
      "loss: 0.1956466317637473\n",
      "accuracy: 0.9548387096774194\n",
      "******************\n",
      "epoch: 71\n",
      "Train\n",
      "0.011313844724434419\n",
      "TEST\n",
      "loss: 0.17502517993086247\n",
      "accuracy: 0.9634408602150538\n",
      "******************\n",
      "epoch: 72\n",
      "Train\n",
      "0.007692545790182137\n",
      "TEST\n",
      "loss: 0.16908758799445325\n",
      "accuracy: 0.9698924731182795\n",
      "******************\n",
      "epoch: 73\n",
      "Train\n",
      "0.012406667256622496\n",
      "TEST\n",
      "loss: 0.1250704811305128\n",
      "accuracy: 0.9720430107526882\n",
      "******************\n",
      "epoch: 74\n",
      "Train\n",
      "0.005065529484238614\n",
      "TEST\n",
      "loss: 0.1950725067727348\n",
      "accuracy: 0.9655913978494624\n",
      "******************\n",
      "Accuracy on the validation:  0.9720430107526882\n"
     ]
    }
   ],
   "source": [
    "seed_everything(42)\n",
    "\n",
    "train_dataset = AudioMNIST(mode='train', data = data, labels = labels, augment = True, aug_type = 'RandomErasing', keys = train_keys)\n",
    "valid_dataset = AudioMNIST(mode='valid', data = data, labels = labels, keys = valid_keys)\n",
    "test_dataset = AudioMNIST(mode='test', data = data, labels = labels, keys = test_keys)\n",
    "\n",
    "train_dataloader = DataLoader(train_dataset, batch_size=batch_size, shuffle=True)\n",
    "valid_dataloader = DataLoader(valid_dataset, batch_size=batch_size, shuffle=False)\n",
    "test_dataloader = DataLoader(test_dataset, batch_size=batch_size, shuffle=False)\n",
    "\n",
    "model = resnet18(pretrained=True)\n",
    "num_ftrs = model.fc.in_features\n",
    "model.fc = torch.nn.Linear(num_ftrs, 10)\n",
    "model = model.to(device)\n",
    "\n",
    "epochs = 75\n",
    "criterion = torch.nn.CrossEntropyLoss()\n",
    "optimizer = torch.optim.Adam(model.parameters())\n",
    "\n",
    "model, train_losses, valid_losses, valid_acc = train(model, criterion, train_dataloader, valid_dataloader, epochs, optimizer)"
   ]
  },
  {
   "cell_type": "code",
   "execution_count": 19,
   "metadata": {
    "execution": {
     "iopub.execute_input": "2021-04-05T18:38:47.380702Z",
     "iopub.status.busy": "2021-04-05T18:38:47.379774Z",
     "iopub.status.idle": "2021-04-05T18:38:47.514067Z",
     "shell.execute_reply": "2021-04-05T18:38:47.514659Z"
    },
    "papermill": {
     "duration": 0.173765,
     "end_time": "2021-04-05T18:38:47.514843",
     "exception": false,
     "start_time": "2021-04-05T18:38:47.341078",
     "status": "completed"
    },
    "tags": []
   },
   "outputs": [
    {
     "name": "stdout",
     "output_type": "stream",
     "text": [
      "Quality of the model\n",
      "accuracy: 0.9569707401032702\n"
     ]
    }
   ],
   "source": [
    "evaluate(model, test_dataloader)"
   ]
  },
  {
   "cell_type": "code",
   "execution_count": 20,
   "metadata": {
    "execution": {
     "iopub.execute_input": "2021-04-05T18:38:47.615346Z",
     "iopub.status.busy": "2021-04-05T18:38:47.604766Z",
     "iopub.status.idle": "2021-04-05T18:38:47.751702Z",
     "shell.execute_reply": "2021-04-05T18:38:47.751297Z"
    },
    "papermill": {
     "duration": 0.200645,
     "end_time": "2021-04-05T18:38:47.751814",
     "exception": false,
     "start_time": "2021-04-05T18:38:47.551169",
     "status": "completed"
    },
    "tags": []
   },
   "outputs": [
    {
     "data": {
      "image/png": "[encoded data removed]",
      "text/plain": [
       "<Figure size 432x288 with 1 Axes>"
      ]
     },
     "metadata": {
      "needs_background": "light"
     },
     "output_type": "display_data"
    }
   ],
   "source": [
    "plt.plot(np.arange(epochs), train_losses, label = 'train_loss')\n",
    "plt.plot(np.arange(epochs), valid_losses, label = 'valid_loss')\n",
    "plt.plot(np.arange(epochs), valid_acc, label = 'valid_accuracy')\n",
    "plt.legend()\n",
    "plt.show()"
   ]
  }
 ],
 "metadata": {
  "kernelspec": {
   "display_name": "Python 3",
   "language": "python",
   "name": "python3"
  },
  "language_info": {
   "codemirror_mode": {
    "name": "ipython",
    "version": 3
   },
   "file_extension": ".py",
   "mimetype": "text/x-python",
   "name": "python",
   "nbconvert_exporter": "python",
   "pygments_lexer": "ipython3",
   "version": "3.7.9"
  },
  "papermill": {
   "default_parameters": {},
   "duration": 334.853651,
   "end_time": "2021-04-05T18:38:49.760246",
   "environment_variables": {},
   "exception": null,
   "input_path": "__notebook__.ipynb",
   "output_path": "__notebook__.ipynb",
   "parameters": {},
   "start_time": "2021-04-05T18:33:14.906595",
   "version": "2.2.2"
  },
  "widgets": {
   "application/vnd.jupyter.widget-state+json": {
    "state": {
     "12ff25bb4b7149829714d8837daeb561": {
      "model_module": "@jupyter-widgets/base",
      "model_module_version": "1.2.0",
      "model_name": "LayoutModel",
      "state": {
       "_model_module": "@jupyter-widgets/base",
       "_model_module_version": "1.2.0",
       "_model_name": "LayoutModel",
       "_view_count": null,
       "_view_module": "@jupyter-widgets/base",
       "_view_module_version": "1.2.0",
       "_view_name": "LayoutView",
       "align_content": null,
       "align_items": null,
       "align_self": null,
       "border": null,
       "bottom": null,
       "display": null,
       "flex": null,
       "flex_flow": null,
       "grid_area": null,
       "grid_auto_columns": null,
       "grid_auto_flow": null,
       "grid_auto_rows": null,
       "grid_column": null,
       "grid_gap": null,
       "grid_row": null,
       "grid_template_areas": null,
       "grid_template_columns": null,
       "grid_template_rows": null,
       "height": null,
       "justify_content": null,
       "justify_items": null,
       "left": null,
       "margin": null,
       "max_height": null,
       "max_width": null,
       "min_height": null,
       "min_width": null,
       "object_fit": null,
       "object_position": null,
       "order": null,
       "overflow": null,
       "overflow_x": null,
       "overflow_y": null,
       "padding": null,
       "right": null,
       "top": null,
       "visibility": null,
       "width": null
      }
     },
     "3d06d137fbdd464f969154361c314dfd": {
      "model_module": "@jupyter-widgets/controls",
      "model_module_version": "1.5.0",
      "model_name": "FloatProgressModel",
      "state": {
       "_dom_classes": [],
       "_model_module": "@jupyter-widgets/controls",
       "_model_module_version": "1.5.0",
       "_model_name": "FloatProgressModel",
       "_view_count": null,
       "_view_module": "@jupyter-widgets/controls",
       "_view_module_version": "1.5.0",
       "_view_name": "ProgressView",
       "bar_style": "success",
       "description": "",
       "description_tooltip": null,
       "layout": "IPY_MODEL_12ff25bb4b7149829714d8837daeb561",
       "max": 46827520.0,
       "min": 0.0,
       "orientation": "horizontal",
       "style": "IPY_MODEL_9d88b3187b6f42f4bda0d1247b06fcb1",
       "value": 46827520.0
      }
     },
     "6573664557ce4d37a0903f6c234e45a6": {
      "model_module": "@jupyter-widgets/controls",
      "model_module_version": "1.5.0",
      "model_name": "HBoxModel",
      "state": {
       "_dom_classes": [],
       "_model_module": "@jupyter-widgets/controls",
       "_model_module_version": "1.5.0",
       "_model_name": "HBoxModel",
       "_view_count": null,
       "_view_module": "@jupyter-widgets/controls",
       "_view_module_version": "1.5.0",
       "_view_name": "HBoxView",
       "box_style": "",
       "children": [
        "IPY_MODEL_761532350919475ab15b46b14c1eb059",
        "IPY_MODEL_3d06d137fbdd464f969154361c314dfd",
        "IPY_MODEL_ed269a7647634e569b1de59f7083190c"
       ],
       "layout": "IPY_MODEL_805df3cf9f424a5aabda800dcbd5de2b"
      }
     },
     "761532350919475ab15b46b14c1eb059": {
      "model_module": "@jupyter-widgets/controls",
      "model_module_version": "1.5.0",
      "model_name": "HTMLModel",
      "state": {
       "_dom_classes": [],
       "_model_module": "@jupyter-widgets/controls",
       "_model_module_version": "1.5.0",
       "_model_name": "HTMLModel",
       "_view_count": null,
       "_view_module": "@jupyter-widgets/controls",
       "_view_module_version": "1.5.0",
       "_view_name": "HTMLView",
       "description": "",
       "description_tooltip": null,
       "layout": "IPY_MODEL_b74502d9cb2b44d99369388ebd9d6617",
       "placeholder": "​",
       "style": "IPY_MODEL_b3122c010dd646df83448f0ee4f2f92a",
       "value": "100%"
      }
     },
     "805df3cf9f424a5aabda800dcbd5de2b": {
      "model_module": "@jupyter-widgets/base",
      "model_module_version": "1.2.0",
      "model_name": "LayoutModel",
      "state": {
       "_model_module": "@jupyter-widgets/base",
       "_model_module_version": "1.2.0",
       "_model_name": "LayoutModel",
       "_view_count": null,
       "_view_module": "@jupyter-widgets/base",
       "_view_module_version": "1.2.0",
       "_view_name": "LayoutView",
       "align_content": null,
       "align_items": null,
       "align_self": null,
       "border": null,
       "bottom": null,
       "display": null,
       "flex": null,
       "flex_flow": null,
       "grid_area": null,
       "grid_auto_columns": null,
       "grid_auto_flow": null,
       "grid_auto_rows": null,
       "grid_column": null,
       "grid_gap": null,
       "grid_row": null,
       "grid_template_areas": null,
       "grid_template_columns": null,
       "grid_template_rows": null,
       "height": null,
       "justify_content": null,
       "justify_items": null,
       "left": null,
       "margin": null,
       "max_height": null,
       "max_width": null,
       "min_height": null,
       "min_width": null,
       "object_fit": null,
       "object_position": null,
       "order": null,
       "overflow": null,
       "overflow_x": null,
       "overflow_y": null,
       "padding": null,
       "right": null,
       "top": null,
       "visibility": null,
       "width": null
      }
     },
     "9d88b3187b6f42f4bda0d1247b06fcb1": {
      "model_module": "@jupyter-widgets/controls",
      "model_module_version": "1.5.0",
      "model_name": "ProgressStyleModel",
      "state": {
       "_model_module": "@jupyter-widgets/controls",
       "_model_module_version": "1.5.0",
       "_model_name": "ProgressStyleModel",
       "_view_count": null,
       "_view_module": "@jupyter-widgets/base",
       "_view_module_version": "1.2.0",
       "_view_name": "StyleView",
       "bar_color": null,
       "description_width": ""
      }
     },
     "b3122c010dd646df83448f0ee4f2f92a": {
      "model_module": "@jupyter-widgets/controls",
      "model_module_version": "1.5.0",
      "model_name": "DescriptionStyleModel",
      "state": {
       "_model_module": "@jupyter-widgets/controls",
       "_model_module_version": "1.5.0",
       "_model_name": "DescriptionStyleModel",
       "_view_count": null,
       "_view_module": "@jupyter-widgets/base",
       "_view_module_version": "1.2.0",
       "_view_name": "StyleView",
       "description_width": ""
      }
     },
     "b6dae849a6fc4fc4a1c40b9613a32b02": {
      "model_module": "@jupyter-widgets/base",
      "model_module_version": "1.2.0",
      "model_name": "LayoutModel",
      "state": {
       "_model_module": "@jupyter-widgets/base",
       "_model_module_version": "1.2.0",
       "_model_name": "LayoutModel",
       "_view_count": null,
       "_view_module": "@jupyter-widgets/base",
       "_view_module_version": "1.2.0",
       "_view_name": "LayoutView",
       "align_content": null,
       "align_items": null,
       "align_self": null,
       "border": null,
       "bottom": null,
       "display": null,
       "flex": null,
       "flex_flow": null,
       "grid_area": null,
       "grid_auto_columns": null,
       "grid_auto_flow": null,
       "grid_auto_rows": null,
       "grid_column": null,
       "grid_gap": null,
       "grid_row": null,
       "grid_template_areas": null,
       "grid_template_columns": null,
       "grid_template_rows": null,
       "height": null,
       "justify_content": null,
       "justify_items": null,
       "left": null,
       "margin": null,
       "max_height": null,
       "max_width": null,
       "min_height": null,
       "min_width": null,
       "object_fit": null,
       "object_position": null,
       "order": null,
       "overflow": null,
       "overflow_x": null,
       "overflow_y": null,
       "padding": null,
       "right": null,
       "top": null,
       "visibility": null,
       "width": null
      }
     },
     "b74502d9cb2b44d99369388ebd9d6617": {
      "model_module": "@jupyter-widgets/base",
      "model_module_version": "1.2.0",
      "model_name": "LayoutModel",
      "state": {
       "_model_module": "@jupyter-widgets/base",
       "_model_module_version": "1.2.0",
       "_model_name": "LayoutModel",
       "_view_count": null,
       "_view_module": "@jupyter-widgets/base",
       "_view_module_version": "1.2.0",
       "_view_name": "LayoutView",
       "align_content": null,
       "align_items": null,
       "align_self": null,
       "border": null,
       "bottom": null,
       "display": null,
       "flex": null,
       "flex_flow": null,
       "grid_area": null,
       "grid_auto_columns": null,
       "grid_auto_flow": null,
       "grid_auto_rows": null,
       "grid_column": null,
       "grid_gap": null,
       "grid_row": null,
       "grid_template_areas": null,
       "grid_template_columns": null,
       "grid_template_rows": null,
       "height": null,
       "justify_content": null,
       "justify_items": null,
       "left": null,
       "margin": null,
       "max_height": null,
       "max_width": null,
       "min_height": null,
       "min_width": null,
       "object_fit": null,
       "object_position": null,
       "order": null,
       "overflow": null,
       "overflow_x": null,
       "overflow_y": null,
       "padding": null,
       "right": null,
       "top": null,
       "visibility": null,
       "width": null
      }
     },
     "d3f9d1c60a054971b078aa2c7f284b05": {
      "model_module": "@jupyter-widgets/controls",
      "model_module_version": "1.5.0",
      "model_name": "DescriptionStyleModel",
      "state": {
       "_model_module": "@jupyter-widgets/controls",
       "_model_module_version": "1.5.0",
       "_model_name": "DescriptionStyleModel",
       "_view_count": null,
       "_view_module": "@jupyter-widgets/base",
       "_view_module_version": "1.2.0",
       "_view_name": "StyleView",
       "description_width": ""
      }
     },
     "ed269a7647634e569b1de59f7083190c": {
      "model_module": "@jupyter-widgets/controls",
      "model_module_version": "1.5.0",
      "model_name": "HTMLModel",
      "state": {
       "_dom_classes": [],
       "_model_module": "@jupyter-widgets/controls",
       "_model_module_version": "1.5.0",
       "_model_name": "HTMLModel",
       "_view_count": null,
       "_view_module": "@jupyter-widgets/controls",
       "_view_module_version": "1.5.0",
       "_view_name": "HTMLView",
       "description": "",
       "description_tooltip": null,
       "layout": "IPY_MODEL_b6dae849a6fc4fc4a1c40b9613a32b02",
       "placeholder": "​",
       "style": "IPY_MODEL_d3f9d1c60a054971b078aa2c7f284b05",
       "value": " 44.7M/44.7M [00:02&lt;00:00, 24.1MB/s]"
      }
     }
    },
    "version_major": 2,
    "version_minor": 0
   }
  }
 },
 "nbformat": 4,
 "nbformat_minor": 4
}
