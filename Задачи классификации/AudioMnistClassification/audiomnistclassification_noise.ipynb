{
 "cells": [
  {
   "cell_type": "code",
   "execution_count": 1,
   "metadata": {
    "_cell_guid": "b1076dfc-b9ad-4769-8c92-a6c4dae69d19",
    "_uuid": "8f2839f25d086af736a60e9eeb907d3b93b6e0e5",
    "execution": {
     "iopub.execute_input": "2021-04-05T17:29:29.790515Z",
     "iopub.status.busy": "2021-04-05T17:29:29.789771Z",
     "iopub.status.idle": "2021-04-05T17:29:33.860041Z",
     "shell.execute_reply": "2021-04-05T17:29:33.860601Z"
    },
    "papermill": {
     "duration": 4.089271,
     "end_time": "2021-04-05T17:29:33.860970",
     "exception": false,
     "start_time": "2021-04-05T17:29:29.771699",
     "status": "completed"
    },
    "tags": []
   },
   "outputs": [
    {
     "name": "stderr",
     "output_type": "stream",
     "text": [
      "/opt/conda/lib/python3.7/site-packages/torchaudio/backend/utils.py:54: UserWarning: \"sox\" backend is being deprecated. The default backend will be changed to \"sox_io\" backend in 0.8.0 and \"sox\" backend will be removed in 0.9.0. Please migrate to \"sox_io\" backend. Please refer to https://github.com/pytorch/audio/issues/903 for the detail.\n",
      "  '\"sox\" backend is being deprecated. '\n"
     ]
    }
   ],
   "source": [
    "import numpy as np\n",
    "import matplotlib.pyplot as plt\n",
    "from sklearn.model_selection import train_test_split\n",
    "import librosa\n",
    "import librosa.display\n",
    "import os\n",
    "import copy\n",
    "import torch\n",
    "from torch.utils.data import Dataset, DataLoader\n",
    "import random\n",
    "import skimage.io as io\n",
    "import pandas as pd\n",
    "from torchvision.models import resnet18\n",
    "import torchaudio.transforms as T\n",
    "from tqdm import tqdm"
   ]
  },
  {
   "cell_type": "code",
   "execution_count": 2,
   "metadata": {
    "execution": {
     "iopub.execute_input": "2021-04-05T17:29:33.891971Z",
     "iopub.status.busy": "2021-04-05T17:29:33.891211Z",
     "iopub.status.idle": "2021-04-05T17:29:33.893603Z",
     "shell.execute_reply": "2021-04-05T17:29:33.894012Z"
    },
    "papermill": {
     "duration": 0.019799,
     "end_time": "2021-04-05T17:29:33.894152",
     "exception": false,
     "start_time": "2021-04-05T17:29:33.874353",
     "status": "completed"
    },
    "tags": []
   },
   "outputs": [],
   "source": [
    "def seed_everything(seed=42):\n",
    "    print(f'setting everything to seed {seed}')\n",
    "    random.seed(seed)\n",
    "    os.environ['PYTHONHASHSEED'] = str(seed)\n",
    "    np.random.seed(seed)\n",
    "    torch.manual_seed(seed)\n",
    "    torch.cuda.manual_seed(seed)\n",
    "    torch.backends.cudnn.deterministic = True\n",
    "    torch.cuda.empty_cache()"
   ]
  },
  {
   "cell_type": "code",
   "execution_count": 3,
   "metadata": {
    "execution": {
     "iopub.execute_input": "2021-04-05T17:29:33.922773Z",
     "iopub.status.busy": "2021-04-05T17:29:33.922155Z",
     "iopub.status.idle": "2021-04-05T17:29:33.925055Z",
     "shell.execute_reply": "2021-04-05T17:29:33.924628Z"
    },
    "papermill": {
     "duration": 0.019522,
     "end_time": "2021-04-05T17:29:33.925167",
     "exception": false,
     "start_time": "2021-04-05T17:29:33.905645",
     "status": "completed"
    },
    "tags": []
   },
   "outputs": [],
   "source": [
    "device = torch.device('cuda:0')\n",
    "data_dir = '/kaggle/input/free-spoken-digits/free-spoken-digit-dataset-master/recordings'"
   ]
  },
  {
   "cell_type": "code",
   "execution_count": 4,
   "metadata": {
    "execution": {
     "iopub.execute_input": "2021-04-05T17:29:33.956741Z",
     "iopub.status.busy": "2021-04-05T17:29:33.956014Z",
     "iopub.status.idle": "2021-04-05T17:29:33.958374Z",
     "shell.execute_reply": "2021-04-05T17:29:33.958871Z"
    },
    "papermill": {
     "duration": 0.022084,
     "end_time": "2021-04-05T17:29:33.959013",
     "exception": false,
     "start_time": "2021-04-05T17:29:33.936929",
     "status": "completed"
    },
    "tags": []
   },
   "outputs": [],
   "source": [
    "def mono_to_color(X, eps=1e-6, mean=None, std=None):\n",
    "    # Standardize\n",
    "    mean = mean or X.mean()\n",
    "    std = std or X.std()\n",
    "    X = (X - mean) / (std + eps)\n",
    "    # Normalize to [0, 255]\n",
    "    _min, _max = X.min(), X.max()\n",
    "    if (_max - _min) > eps:\n",
    "        V = np.clip(X, _min, _max)\n",
    "        V = 255 * (V - _min) / (_max - _min)\n",
    "        V = V.astype(np.uint8)\n",
    "    else:\n",
    "        V = np.zeros_like(X, dtype=np.uint8)\n",
    "    return V\n",
    "\n",
    "def normalize(image, mean=None, std=None):\n",
    "    image = image / 255.0\n",
    "    if mean is not None and std is not None:\n",
    "        image = (image - mean) / std\n",
    "    return image.astype(np.float32)"
   ]
  },
  {
   "cell_type": "code",
   "execution_count": 5,
   "metadata": {
    "execution": {
     "iopub.execute_input": "2021-04-05T17:29:33.987036Z",
     "iopub.status.busy": "2021-04-05T17:29:33.986396Z",
     "iopub.status.idle": "2021-04-05T17:29:33.988948Z",
     "shell.execute_reply": "2021-04-05T17:29:33.989495Z"
    },
    "papermill": {
     "duration": 0.018635,
     "end_time": "2021-04-05T17:29:33.989637",
     "exception": false,
     "start_time": "2021-04-05T17:29:33.971002",
     "status": "completed"
    },
    "tags": []
   },
   "outputs": [],
   "source": [
    "NUM_SAMPLES = 11022\n",
    "sr = 48000\n",
    "fmin = 84\n",
    "fmax = sr // 2\n",
    "nmels = 128\n",
    "batch_size = 32\n",
    "random_seed = 42\n",
    "train_size = 0.8"
   ]
  },
  {
   "cell_type": "code",
   "execution_count": 6,
   "metadata": {
    "execution": {
     "iopub.execute_input": "2021-04-05T17:29:34.017503Z",
     "iopub.status.busy": "2021-04-05T17:29:34.017005Z",
     "iopub.status.idle": "2021-04-05T17:29:34.161767Z",
     "shell.execute_reply": "2021-04-05T17:29:34.161266Z"
    },
    "papermill": {
     "duration": 0.160136,
     "end_time": "2021-04-05T17:29:34.161903",
     "exception": false,
     "start_time": "2021-04-05T17:29:34.001767",
     "status": "completed"
    },
    "tags": []
   },
   "outputs": [],
   "source": [
    "recordings_old = sorted(os.listdir(data_dir))"
   ]
  },
  {
   "cell_type": "code",
   "execution_count": 7,
   "metadata": {
    "execution": {
     "iopub.execute_input": "2021-04-05T17:29:34.191517Z",
     "iopub.status.busy": "2021-04-05T17:29:34.190944Z",
     "iopub.status.idle": "2021-04-05T17:30:50.352980Z",
     "shell.execute_reply": "2021-04-05T17:30:50.352437Z"
    },
    "papermill": {
     "duration": 76.178513,
     "end_time": "2021-04-05T17:30:50.353127",
     "exception": false,
     "start_time": "2021-04-05T17:29:34.174614",
     "status": "completed"
    },
    "tags": []
   },
   "outputs": [],
   "source": [
    "recordings = []\n",
    "for x in recordings_old:\n",
    "    y, _ = librosa.load(data_dir + '/' + x, sr = sr)\n",
    "    if y.shape[0] >= NUM_SAMPLES:\n",
    "        recordings.append(x)"
   ]
  },
  {
   "cell_type": "code",
   "execution_count": 8,
   "metadata": {
    "execution": {
     "iopub.execute_input": "2021-04-05T17:30:50.388808Z",
     "iopub.status.busy": "2021-04-05T17:30:50.388076Z",
     "iopub.status.idle": "2021-04-05T17:30:50.391990Z",
     "shell.execute_reply": "2021-04-05T17:30:50.392380Z"
    },
    "papermill": {
     "duration": 0.025886,
     "end_time": "2021-04-05T17:30:50.392510",
     "exception": false,
     "start_time": "2021-04-05T17:30:50.366624",
     "status": "completed"
    },
    "tags": []
   },
   "outputs": [
    {
     "data": {
      "text/plain": [
       "2903"
      ]
     },
     "execution_count": 8,
     "metadata": {},
     "output_type": "execute_result"
    }
   ],
   "source": [
    "len(recordings)"
   ]
  },
  {
   "cell_type": "code",
   "execution_count": 9,
   "metadata": {
    "execution": {
     "iopub.execute_input": "2021-04-05T17:30:50.424373Z",
     "iopub.status.busy": "2021-04-05T17:30:50.423584Z",
     "iopub.status.idle": "2021-04-05T17:30:50.591245Z",
     "shell.execute_reply": "2021-04-05T17:30:50.590791Z"
    },
    "papermill": {
     "duration": 0.186239,
     "end_time": "2021-04-05T17:30:50.591364",
     "exception": false,
     "start_time": "2021-04-05T17:30:50.405125",
     "status": "completed"
    },
    "tags": []
   },
   "outputs": [
    {
     "data": {
      "image/png": "[encoded data removed]",
      "text/plain": [
       "<Figure size 1440x432 with 1 Axes>"
      ]
     },
     "metadata": {
      "needs_background": "light"
     },
     "output_type": "display_data"
    }
   ],
   "source": [
    "y, _ = librosa.load(data_dir + '/' + recordings[700], sr = sr)\n",
    "samples = y[:NUM_SAMPLES]\n",
    "melspec = librosa.feature.melspectrogram(samples, sr=sr, n_mels=nmels, fmin=fmin, fmax=fmax)\n",
    "melspec = librosa.power_to_db(melspec)\n",
    "melspec = mono_to_color(melspec)\n",
    "melspec = normalize(melspec, mean=None, std=None)\n",
    "plt.figure(figsize = (20, 6))\n",
    "plt.imshow(melspec)\n",
    "plt.show()"
   ]
  },
  {
   "cell_type": "code",
   "execution_count": 10,
   "metadata": {
    "execution": {
     "iopub.execute_input": "2021-04-05T17:30:50.624532Z",
     "iopub.status.busy": "2021-04-05T17:30:50.623873Z",
     "iopub.status.idle": "2021-04-05T17:30:50.627111Z",
     "shell.execute_reply": "2021-04-05T17:30:50.627506Z"
    },
    "papermill": {
     "duration": 0.022235,
     "end_time": "2021-04-05T17:30:50.627632",
     "exception": false,
     "start_time": "2021-04-05T17:30:50.605397",
     "status": "completed"
    },
    "tags": []
   },
   "outputs": [
    {
     "data": {
      "text/plain": [
       "(128, 22)"
      ]
     },
     "execution_count": 10,
     "metadata": {},
     "output_type": "execute_result"
    }
   ],
   "source": [
    "image_size = melspec.shape\n",
    "image_size"
   ]
  },
  {
   "cell_type": "code",
   "execution_count": 11,
   "metadata": {
    "execution": {
     "iopub.execute_input": "2021-04-05T17:30:50.667372Z",
     "iopub.status.busy": "2021-04-05T17:30:50.666699Z",
     "iopub.status.idle": "2021-04-05T17:30:50.670499Z",
     "shell.execute_reply": "2021-04-05T17:30:50.670050Z"
    },
    "papermill": {
     "duration": 0.028841,
     "end_time": "2021-04-05T17:30:50.670606",
     "exception": false,
     "start_time": "2021-04-05T17:30:50.641765",
     "status": "completed"
    },
    "tags": []
   },
   "outputs": [],
   "source": [
    "def noise_augmentation(im, var = 0.01):\n",
    "    noise = var * torch.randn(im.shape[1], im.shape[2])\n",
    "    im[0, :, :] += noise\n",
    "    im[1, :, :] += noise\n",
    "    im[2, :, :] += noise\n",
    "    return im\n",
    "\n",
    "def shift_augmentation(image, max_shift = 2):\n",
    "    shift = np.random.randint(max_shift)\n",
    "    p = np.random.rand()\n",
    "    if p < 0.5:\n",
    "        image[:, :, shift:] = image[:, :, :image.shape[2] - shift]\n",
    "        image[:, :, :shift] = 0.0\n",
    "    else:\n",
    "        image[:, :, :image.shape[2] - shift] = image[:, :, shift:]\n",
    "        image[:, :, image.shape[2] - shift:] = 0.0\n",
    "    return image\n",
    "    \n",
    "def random_erasing(image, max_a = 12, max_b = 2):\n",
    "    a = np.random.randint(max_a)\n",
    "    b = np.random.randint(max_b)\n",
    "    a0 = np.random.randint(image.shape[1] - max_a)\n",
    "    b0 = np.random.randint(image.shape[2] - max_a)\n",
    "    image[:, a0 : a0 + a, b0 : b0 + b] = 0\n",
    "    return image\n",
    "    \n",
    "    \n",
    "def augmentation(im, mode = 'No'):\n",
    "    image = im.clone()\n",
    "    if mode == 'TimeMasking':\n",
    "        return T.TimeMasking(2)(image)\n",
    "    if mode == 'FreqMasking':\n",
    "        return T.FrequencyMasking(12)(image)\n",
    "    if mode == 'RandomErasing':\n",
    "        return random_erasing(image, 12, 2)\n",
    "    if mode == 'Shift':\n",
    "        return shift_augmentation(image)\n",
    "    if mode == 'Noise':\n",
    "        return noise_augmentation(image)\n",
    "    \n",
    "    return image"
   ]
  },
  {
   "cell_type": "code",
   "execution_count": 12,
   "metadata": {
    "execution": {
     "iopub.execute_input": "2021-04-05T17:30:50.704078Z",
     "iopub.status.busy": "2021-04-05T17:30:50.703514Z",
     "iopub.status.idle": "2021-04-05T17:30:50.707441Z",
     "shell.execute_reply": "2021-04-05T17:30:50.706944Z"
    },
    "papermill": {
     "duration": 0.023118,
     "end_time": "2021-04-05T17:30:50.707559",
     "exception": false,
     "start_time": "2021-04-05T17:30:50.684441",
     "status": "completed"
    },
    "tags": []
   },
   "outputs": [],
   "source": [
    "def get_spectrogram(filename):\n",
    "    y, _ = librosa.load(filename, sr = sr)\n",
    "    samples = y[:NUM_SAMPLES]\n",
    "    melspec = librosa.feature.melspectrogram(samples, sr=sr, n_mels=nmels, fmin=fmin, fmax=fmax)\n",
    "    melspec = librosa.power_to_db(melspec)\n",
    "    melspec = mono_to_color(melspec)\n",
    "    melspec = normalize(melspec, mean=None, std=None)\n",
    "    return torch.tensor(melspec, dtype=torch.float32)"
   ]
  },
  {
   "cell_type": "code",
   "execution_count": 13,
   "metadata": {
    "execution": {
     "iopub.execute_input": "2021-04-05T17:30:50.743170Z",
     "iopub.status.busy": "2021-04-05T17:30:50.742307Z",
     "iopub.status.idle": "2021-04-05T17:32:15.996733Z",
     "shell.execute_reply": "2021-04-05T17:32:15.996182Z"
    },
    "papermill": {
     "duration": 85.275069,
     "end_time": "2021-04-05T17:32:15.996886",
     "exception": false,
     "start_time": "2021-04-05T17:30:50.721817",
     "status": "completed"
    },
    "tags": []
   },
   "outputs": [],
   "source": [
    "data = []\n",
    "labels = []\n",
    "for i in range(len(recordings)):\n",
    "    data.append(get_spectrogram(data_dir + '/' + recordings[i]))\n",
    "    labels.append(int(recordings[i][0]))\n"
   ]
  },
  {
   "cell_type": "code",
   "execution_count": 14,
   "metadata": {
    "execution": {
     "iopub.execute_input": "2021-04-05T17:32:16.036149Z",
     "iopub.status.busy": "2021-04-05T17:32:16.034343Z",
     "iopub.status.idle": "2021-04-05T17:32:16.036724Z",
     "shell.execute_reply": "2021-04-05T17:32:16.037113Z"
    },
    "papermill": {
     "duration": 0.024895,
     "end_time": "2021-04-05T17:32:16.037269",
     "exception": false,
     "start_time": "2021-04-05T17:32:16.012374",
     "status": "completed"
    },
    "tags": []
   },
   "outputs": [],
   "source": [
    "keys = np.arange(len(data))\n",
    "train_keys, test_keys = train_test_split(keys, train_size=train_size, random_state=random_seed)\n",
    "train_keys, valid_keys = train_test_split(train_keys, train_size=train_size, random_state=random_seed)"
   ]
  },
  {
   "cell_type": "code",
   "execution_count": 15,
   "metadata": {
    "execution": {
     "iopub.execute_input": "2021-04-05T17:32:16.073552Z",
     "iopub.status.busy": "2021-04-05T17:32:16.072933Z",
     "iopub.status.idle": "2021-04-05T17:32:16.075789Z",
     "shell.execute_reply": "2021-04-05T17:32:16.075373Z"
    },
    "papermill": {
     "duration": 0.024071,
     "end_time": "2021-04-05T17:32:16.075901",
     "exception": false,
     "start_time": "2021-04-05T17:32:16.051830",
     "status": "completed"
    },
    "tags": []
   },
   "outputs": [],
   "source": [
    "class AudioMNIST(Dataset):\n",
    "    def __init__(self, keys, mode = 'train', data = [], labels = [], augment = False, aug_type = 'No'):\n",
    "        super().__init__()\n",
    "        self.n = len(keys)\n",
    "        self.data = []\n",
    "        self.labels = []\n",
    "        self.augment = augment\n",
    "        self.aug_type = aug_type\n",
    "        for i in keys:\n",
    "            self.data.append(data[i])\n",
    "            self.labels.append(labels[i])\n",
    "\n",
    "    def __getitem__(self, i):\n",
    "        X = self.data[i]\n",
    "        X = torch.stack([X, X, X])\n",
    "        if self.augment:\n",
    "            X = augmentation(X, self.aug_type)\n",
    "        return X, self.labels[i]\n",
    "\n",
    "    def __len__(self):\n",
    "        return self.n"
   ]
  },
  {
   "cell_type": "code",
   "execution_count": 16,
   "metadata": {
    "execution": {
     "iopub.execute_input": "2021-04-05T17:32:16.116701Z",
     "iopub.status.busy": "2021-04-05T17:32:16.116009Z",
     "iopub.status.idle": "2021-04-05T17:32:16.118826Z",
     "shell.execute_reply": "2021-04-05T17:32:16.118324Z"
    },
    "papermill": {
     "duration": 0.028569,
     "end_time": "2021-04-05T17:32:16.118934",
     "exception": false,
     "start_time": "2021-04-05T17:32:16.090365",
     "status": "completed"
    },
    "tags": []
   },
   "outputs": [],
   "source": [
    "def train(model, loss_fn, train_loader, valid_loader, epochs, optimizer, augment = 'No'):\n",
    "    best_model_wts = copy.deepcopy(model.state_dict())\n",
    "    best_acc = 0.0\n",
    "    train_losses = []\n",
    "    valid_losses = []\n",
    "    valid_acc = []\n",
    "    best_train_acc = 0.0\n",
    "    for epoch in range(epochs):\n",
    "        print('epoch:', epoch)\n",
    "        model.train()\n",
    "        sum_loss = 0\n",
    "        sum_accuracy = 0\n",
    "        cnt_objects = 0\n",
    "        for X, y in train_dataloader:\n",
    "            optimizer.zero_grad()\n",
    "            X = X.to(device)\n",
    "            scores = model(X)\n",
    "            loss = criterion(scores, y.to(device))\n",
    "            loss.backward()\n",
    "            optimizer.step()\n",
    "            sum_loss += float(loss) * len(y)\n",
    "            cnt_objects += len(y)\n",
    "\n",
    "        mean_loss = sum_loss / cnt_objects\n",
    "        train_losses.append(mean_loss)\n",
    "        print('Train')\n",
    "        print(mean_loss)\n",
    "\n",
    "        model.eval()\n",
    "        sum_loss = 0\n",
    "        sum_accuracy = 0\n",
    "        cnt_objects = 0\n",
    "        with torch.no_grad():\n",
    "            for X, y in valid_loader:\n",
    "                X = X.to(device)\n",
    "                scores = model(X)\n",
    "                loss = criterion(scores, y.to(device))\n",
    "                sum_loss += float(loss) * len(y)\n",
    "                preds = scores.cpu().detach().argmax(dim=1)\n",
    "                accuracy = float((y == preds).float().sum())\n",
    "                sum_accuracy += accuracy\n",
    "                cnt_objects += len(y)\n",
    "\n",
    "        print('TEST')\n",
    "        mean_loss = sum_loss / cnt_objects\n",
    "        valid_losses.append(mean_loss)\n",
    "        mean_accuracy = sum_accuracy / cnt_objects\n",
    "        valid_acc.append(mean_accuracy)\n",
    "        if mean_accuracy > best_acc:\n",
    "            best_acc = mean_accuracy\n",
    "            best_model_wts = copy.deepcopy(model.state_dict())\n",
    "        print('loss:', mean_loss)\n",
    "        print('accuracy:', mean_accuracy)\n",
    "        print('******************')\n",
    "    print('Accuracy on the validation: ', best_acc)\n",
    "    model.load_state_dict(best_model_wts)\n",
    "    return model, train_losses, valid_losses, valid_acc"
   ]
  },
  {
   "cell_type": "code",
   "execution_count": 17,
   "metadata": {
    "execution": {
     "iopub.execute_input": "2021-04-05T17:32:16.154765Z",
     "iopub.status.busy": "2021-04-05T17:32:16.153996Z",
     "iopub.status.idle": "2021-04-05T17:32:16.156814Z",
     "shell.execute_reply": "2021-04-05T17:32:16.156395Z"
    },
    "papermill": {
     "duration": 0.02344,
     "end_time": "2021-04-05T17:32:16.156927",
     "exception": false,
     "start_time": "2021-04-05T17:32:16.133487",
     "status": "completed"
    },
    "tags": []
   },
   "outputs": [],
   "source": [
    "def evaluate(model, test_loader):\n",
    "    model.eval()\n",
    "    #all_preds = []\n",
    "    sum_accuracy = 0\n",
    "    cnt_objects = 0\n",
    "    with torch.no_grad():\n",
    "        for X, y in test_loader:\n",
    "            X = X.to(device)\n",
    "            scores = model(X)\n",
    "            preds = scores.cpu().detach().argmax(dim=1)\n",
    "            accuracy = float((y == preds).float().sum())\n",
    "            sum_accuracy += accuracy\n",
    "            cnt_objects += len(y)\n",
    "            #all_preds.append(preds)\n",
    "\n",
    "    mean_accuracy = sum_accuracy / cnt_objects\n",
    "    print('Quality of the model')\n",
    "    print('accuracy:', mean_accuracy)"
   ]
  },
  {
   "cell_type": "markdown",
   "metadata": {
    "papermill": {
     "duration": 0.014414,
     "end_time": "2021-04-05T17:32:16.186350",
     "exception": false,
     "start_time": "2021-04-05T17:32:16.171936",
     "status": "completed"
    },
    "tags": []
   },
   "source": [
    "## Resnet18"
   ]
  },
  {
   "cell_type": "markdown",
   "metadata": {
    "papermill": {
     "duration": 0.014592,
     "end_time": "2021-04-05T17:32:16.215899",
     "exception": false,
     "start_time": "2021-04-05T17:32:16.201307",
     "status": "completed"
    },
    "tags": []
   },
   "source": [
    "### Noise"
   ]
  },
  {
   "cell_type": "code",
   "execution_count": 18,
   "metadata": {
    "execution": {
     "iopub.execute_input": "2021-04-05T17:32:16.253304Z",
     "iopub.status.busy": "2021-04-05T17:32:16.252768Z",
     "iopub.status.idle": "2021-04-05T17:35:00.263046Z",
     "shell.execute_reply": "2021-04-05T17:35:00.261946Z"
    },
    "papermill": {
     "duration": 164.032328,
     "end_time": "2021-04-05T17:35:00.263215",
     "exception": false,
     "start_time": "2021-04-05T17:32:16.230887",
     "status": "completed"
    },
    "tags": []
   },
   "outputs": [
    {
     "name": "stdout",
     "output_type": "stream",
     "text": [
      "setting everything to seed 42\n"
     ]
    },
    {
     "name": "stderr",
     "output_type": "stream",
     "text": [
      "Downloading: \"https://download.pytorch.org/models/resnet18-5c106cde.pth\" to /root/.cache/torch/hub/checkpoints/resnet18-5c106cde.pth\n"
     ]
    },
    {
     "data": {
      "application/vnd.jupyter.widget-view+json": {
       "model_id": "1f42834f6341481781c899a067d840fd",
       "version_major": 2,
       "version_minor": 0
      },
      "text/plain": [
       "  0%|          | 0.00/44.7M [00:00<?, ?B/s]"
      ]
     },
     "metadata": {},
     "output_type": "display_data"
    },
    {
     "name": "stdout",
     "output_type": "stream",
     "text": [
      "epoch: 0\n",
      "Train\n",
      "1.012128980556482\n",
      "TEST\n",
      "loss: 0.7448820312817891\n",
      "accuracy: 0.7806451612903226\n",
      "******************\n",
      "epoch: 1\n",
      "Train\n",
      "0.3476648883403599\n",
      "TEST\n",
      "loss: 0.5554776412825431\n",
      "accuracy: 0.8451612903225807\n",
      "******************\n",
      "epoch: 2\n",
      "Train\n",
      "0.2928135717948663\n",
      "TEST\n",
      "loss: 0.2937488243144046\n",
      "accuracy: 0.9161290322580645\n",
      "******************\n",
      "epoch: 3\n",
      "Train\n",
      "0.2536422643664067\n",
      "TEST\n",
      "loss: 0.5737487143085849\n",
      "accuracy: 0.8516129032258064\n",
      "******************\n",
      "epoch: 4\n",
      "Train\n",
      "0.24549651746154152\n",
      "TEST\n",
      "loss: 0.424728000164032\n",
      "accuracy: 0.8731182795698925\n",
      "******************\n",
      "epoch: 5\n",
      "Train\n",
      "0.17595372006786594\n",
      "TEST\n",
      "loss: 0.6117006967144628\n",
      "accuracy: 0.8795698924731182\n",
      "******************\n",
      "epoch: 6\n",
      "Train\n",
      "0.19709230228399935\n",
      "TEST\n",
      "loss: 0.2016211374953229\n",
      "accuracy: 0.946236559139785\n",
      "******************\n",
      "epoch: 7\n",
      "Train\n",
      "0.16565391292928944\n",
      "TEST\n",
      "loss: 0.21025483790504676\n",
      "accuracy: 0.9548387096774194\n",
      "******************\n",
      "epoch: 8\n",
      "Train\n",
      "0.17362461724972045\n",
      "TEST\n",
      "loss: 0.2421040339816001\n",
      "accuracy: 0.9333333333333333\n",
      "******************\n",
      "epoch: 9\n",
      "Train\n",
      "0.1428038065728476\n",
      "TEST\n",
      "loss: 0.25931287218806565\n",
      "accuracy: 0.9225806451612903\n",
      "******************\n",
      "epoch: 10\n",
      "Train\n",
      "0.1028720359320466\n",
      "TEST\n",
      "loss: 0.26946231722831726\n",
      "accuracy: 0.9397849462365592\n",
      "******************\n",
      "epoch: 11\n",
      "Train\n",
      "0.10840436153005514\n",
      "TEST\n",
      "loss: 0.21274015011005504\n",
      "accuracy: 0.9505376344086022\n",
      "******************\n",
      "epoch: 12\n",
      "Train\n",
      "0.09260645983805885\n",
      "TEST\n",
      "loss: 0.36394561285613686\n",
      "accuracy: 0.9161290322580645\n",
      "******************\n",
      "epoch: 13\n",
      "Train\n",
      "0.08172857571607901\n",
      "TEST\n",
      "loss: 0.33833508717436944\n",
      "accuracy: 0.9182795698924732\n",
      "******************\n",
      "epoch: 14\n",
      "Train\n",
      "0.15508960604699762\n",
      "TEST\n",
      "loss: 0.4718129333629403\n",
      "accuracy: 0.8946236559139785\n",
      "******************\n",
      "epoch: 15\n",
      "Train\n",
      "0.08917228202699139\n",
      "TEST\n",
      "loss: 0.27216204791079446\n",
      "accuracy: 0.9419354838709677\n",
      "******************\n",
      "epoch: 16\n",
      "Train\n",
      "0.0997498445914969\n",
      "TEST\n",
      "loss: 0.16160569610775158\n",
      "accuracy: 0.9440860215053763\n",
      "******************\n",
      "epoch: 17\n",
      "Train\n",
      "0.05761365147531193\n",
      "TEST\n",
      "loss: 0.205670270932618\n",
      "accuracy: 0.9376344086021505\n",
      "******************\n",
      "epoch: 18\n",
      "Train\n",
      "0.04915751843910321\n",
      "TEST\n",
      "loss: 0.29905258865766626\n",
      "accuracy: 0.9247311827956989\n",
      "******************\n",
      "epoch: 19\n",
      "Train\n",
      "0.046206758944864354\n",
      "TEST\n",
      "loss: 0.12461621628934016\n",
      "accuracy: 0.967741935483871\n",
      "******************\n",
      "epoch: 20\n",
      "Train\n",
      "0.03852252934808107\n",
      "TEST\n",
      "loss: 0.20944988286943847\n",
      "accuracy: 0.956989247311828\n",
      "******************\n",
      "epoch: 21\n",
      "Train\n",
      "0.05311774631874916\n",
      "TEST\n",
      "loss: 0.48848964206634027\n",
      "accuracy: 0.9290322580645162\n",
      "******************\n",
      "epoch: 22\n",
      "Train\n",
      "0.05868174264976814\n",
      "TEST\n",
      "loss: 0.18494159302884533\n",
      "accuracy: 0.956989247311828\n",
      "******************\n",
      "epoch: 23\n",
      "Train\n",
      "0.017038560074221946\n",
      "TEST\n",
      "loss: 0.20073822634194488\n",
      "accuracy: 0.9612903225806452\n",
      "******************\n",
      "epoch: 24\n",
      "Train\n",
      "0.02597924839759393\n",
      "TEST\n",
      "loss: 0.1768896069527874\n",
      "accuracy: 0.9548387096774194\n",
      "******************\n",
      "epoch: 25\n",
      "Train\n",
      "0.011194113596840513\n",
      "TEST\n",
      "loss: 0.16089581479668938\n",
      "accuracy: 0.9634408602150538\n",
      "******************\n",
      "epoch: 26\n",
      "Train\n",
      "0.015040818595076175\n",
      "TEST\n",
      "loss: 0.16330348796922192\n",
      "accuracy: 0.967741935483871\n",
      "******************\n",
      "epoch: 27\n",
      "Train\n",
      "0.03181645371156254\n",
      "TEST\n",
      "loss: 0.17916406801831658\n",
      "accuracy: 0.9634408602150538\n",
      "******************\n",
      "epoch: 28\n",
      "Train\n",
      "0.09408088449557253\n",
      "TEST\n",
      "loss: 0.23676595685462798\n",
      "accuracy: 0.9440860215053763\n",
      "******************\n",
      "epoch: 29\n",
      "Train\n",
      "0.08444494970732629\n",
      "TEST\n",
      "loss: 0.19202103114897204\n",
      "accuracy: 0.9419354838709677\n",
      "******************\n",
      "epoch: 30\n",
      "Train\n",
      "0.06515407798170851\n",
      "TEST\n",
      "loss: 0.257844187431438\n",
      "accuracy: 0.9483870967741935\n",
      "******************\n",
      "epoch: 31\n",
      "Train\n",
      "0.08592456622539699\n",
      "TEST\n",
      "loss: 0.254825210186743\n",
      "accuracy: 0.946236559139785\n",
      "******************\n",
      "epoch: 32\n",
      "Train\n",
      "0.04001906626984702\n",
      "TEST\n",
      "loss: 0.21589210935297512\n",
      "accuracy: 0.967741935483871\n",
      "******************\n",
      "epoch: 33\n",
      "Train\n",
      "0.004769821538688694\n",
      "TEST\n",
      "loss: 0.20906606799802713\n",
      "accuracy: 0.967741935483871\n",
      "******************\n",
      "epoch: 34\n",
      "Train\n",
      "0.05057273436273515\n",
      "TEST\n",
      "loss: 0.29393161988907285\n",
      "accuracy: 0.9505376344086022\n",
      "******************\n",
      "epoch: 35\n",
      "Train\n",
      "0.03963642225309396\n",
      "TEST\n",
      "loss: 0.402768426853162\n",
      "accuracy: 0.9139784946236559\n",
      "******************\n",
      "epoch: 36\n",
      "Train\n",
      "0.060172102247065415\n",
      "TEST\n",
      "loss: 0.2130035933477664\n",
      "accuracy: 0.956989247311828\n",
      "******************\n",
      "epoch: 37\n",
      "Train\n",
      "0.0603552286482557\n",
      "TEST\n",
      "loss: 0.28333635451973127\n",
      "accuracy: 0.9333333333333333\n",
      "******************\n",
      "epoch: 38\n",
      "Train\n",
      "0.0582084971127503\n",
      "TEST\n",
      "loss: 0.2718527901076501\n",
      "accuracy: 0.9419354838709677\n",
      "******************\n",
      "epoch: 39\n",
      "Train\n",
      "0.03330026715030963\n",
      "TEST\n",
      "loss: 0.17924528141175547\n",
      "accuracy: 0.9655913978494624\n",
      "******************\n",
      "epoch: 40\n",
      "Train\n",
      "0.06052193548766054\n",
      "TEST\n",
      "loss: 0.24449069165093926\n",
      "accuracy: 0.9505376344086022\n",
      "******************\n",
      "epoch: 41\n",
      "Train\n",
      "0.03407809094264582\n",
      "TEST\n",
      "loss: 0.2586394803067769\n",
      "accuracy: 0.956989247311828\n",
      "******************\n",
      "epoch: 42\n",
      "Train\n",
      "0.029880028956268317\n",
      "TEST\n",
      "loss: 0.2376682331034493\n",
      "accuracy: 0.9526881720430107\n",
      "******************\n",
      "epoch: 43\n",
      "Train\n",
      "0.017059857398622626\n",
      "TEST\n",
      "loss: 0.23249165115888\n",
      "accuracy: 0.9591397849462365\n",
      "******************\n",
      "epoch: 44\n",
      "Train\n",
      "0.06556000684848878\n",
      "TEST\n",
      "loss: 0.21521306001851637\n",
      "accuracy: 0.9634408602150538\n",
      "******************\n",
      "epoch: 45\n",
      "Train\n",
      "0.03939301235321458\n",
      "TEST\n",
      "loss: 0.16416449605497302\n",
      "accuracy: 0.9634408602150538\n",
      "******************\n",
      "epoch: 46\n",
      "Train\n",
      "0.010406971389154954\n",
      "TEST\n",
      "loss: 0.2456791401330021\n",
      "accuracy: 0.9634408602150538\n",
      "******************\n",
      "epoch: 47\n",
      "Train\n",
      "0.00748355122279089\n",
      "TEST\n",
      "loss: 0.19556329187671703\n",
      "accuracy: 0.967741935483871\n",
      "******************\n",
      "epoch: 48\n",
      "Train\n",
      "0.012563356244134153\n",
      "TEST\n",
      "loss: 0.16016944028757593\n",
      "accuracy: 0.9698924731182795\n",
      "******************\n",
      "epoch: 49\n",
      "Train\n",
      "0.010576223476108326\n",
      "TEST\n",
      "loss: 0.2251144536400354\n",
      "accuracy: 0.967741935483871\n",
      "******************\n",
      "epoch: 50\n",
      "Train\n",
      "0.01816709281517595\n",
      "TEST\n",
      "loss: 0.25083371757739975\n",
      "accuracy: 0.9526881720430107\n",
      "******************\n",
      "epoch: 51\n",
      "Train\n",
      "0.01902546611610513\n",
      "TEST\n",
      "loss: 0.2385447847586806\n",
      "accuracy: 0.9634408602150538\n",
      "******************\n",
      "epoch: 52\n",
      "Train\n",
      "0.015455064949552956\n",
      "TEST\n",
      "loss: 0.17379261324762976\n",
      "accuracy: 0.9591397849462365\n",
      "******************\n",
      "epoch: 53\n",
      "Train\n",
      "0.02374448971564575\n",
      "TEST\n",
      "loss: 0.24898334015761653\n",
      "accuracy: 0.9440860215053763\n",
      "******************\n",
      "epoch: 54\n",
      "Train\n",
      "0.010980273424043417\n",
      "TEST\n",
      "loss: 0.20256250247519503\n",
      "accuracy: 0.9591397849462365\n",
      "******************\n",
      "epoch: 55\n",
      "Train\n",
      "0.008541994798235399\n",
      "TEST\n",
      "loss: 0.2364529862499205\n",
      "accuracy: 0.9655913978494624\n",
      "******************\n",
      "epoch: 56\n",
      "Train\n",
      "0.007091147327175244\n",
      "TEST\n",
      "loss: 0.23128871134812792\n",
      "accuracy: 0.9612903225806452\n",
      "******************\n",
      "epoch: 57\n",
      "Train\n",
      "0.012016089502461235\n",
      "TEST\n",
      "loss: 0.2496504072370308\n",
      "accuracy: 0.9505376344086022\n",
      "******************\n",
      "epoch: 58\n",
      "Train\n",
      "0.023339517637808928\n",
      "TEST\n",
      "loss: 0.3280017795742199\n",
      "accuracy: 0.9225806451612903\n",
      "******************\n",
      "epoch: 59\n",
      "Train\n",
      "0.026661481432452214\n",
      "TEST\n",
      "loss: 0.2958358085203555\n",
      "accuracy: 0.9483870967741935\n",
      "******************\n",
      "epoch: 60\n",
      "Train\n",
      "0.02154377763980561\n",
      "TEST\n",
      "loss: 0.2636959967834334\n",
      "accuracy: 0.9483870967741935\n",
      "******************\n",
      "epoch: 61\n",
      "Train\n",
      "0.026177362707886377\n",
      "TEST\n",
      "loss: 0.1974660218422932\n",
      "accuracy: 0.9655913978494624\n",
      "******************\n",
      "epoch: 62\n",
      "Train\n",
      "0.011157088253273958\n",
      "TEST\n",
      "loss: 0.20928431734022113\n",
      "accuracy: 0.9483870967741935\n",
      "******************\n",
      "epoch: 63\n",
      "Train\n",
      "0.022250573207986856\n",
      "TEST\n",
      "loss: 0.24974123933652956\n",
      "accuracy: 0.9526881720430107\n",
      "******************\n",
      "epoch: 64\n",
      "Train\n",
      "0.02994583732000661\n",
      "TEST\n",
      "loss: 0.26240164451701664\n",
      "accuracy: 0.9440860215053763\n",
      "******************\n",
      "epoch: 65\n",
      "Train\n",
      "0.07510814258069458\n",
      "TEST\n",
      "loss: 0.22783122463251954\n",
      "accuracy: 0.9483870967741935\n",
      "******************\n",
      "epoch: 66\n",
      "Train\n",
      "0.04459714402951697\n",
      "TEST\n",
      "loss: 0.28597643385811516\n",
      "accuracy: 0.9483870967741935\n",
      "******************\n",
      "epoch: 67\n",
      "Train\n",
      "0.021746129081892947\n",
      "TEST\n",
      "loss: 0.20331831702622033\n",
      "accuracy: 0.9419354838709677\n",
      "******************\n",
      "epoch: 68\n",
      "Train\n",
      "0.015673462438407643\n",
      "TEST\n",
      "loss: 0.21189650733784962\n",
      "accuracy: 0.9612903225806452\n",
      "******************\n",
      "epoch: 69\n",
      "Train\n",
      "0.006723269741725444\n",
      "TEST\n",
      "loss: 0.21538513759651812\n",
      "accuracy: 0.956989247311828\n",
      "******************\n",
      "epoch: 70\n",
      "Train\n",
      "0.014664393972041759\n",
      "TEST\n",
      "loss: 0.2284901472189093\n",
      "accuracy: 0.9526881720430107\n",
      "******************\n",
      "epoch: 71\n",
      "Train\n",
      "0.021485567276201056\n",
      "TEST\n",
      "loss: 0.22526293411370246\n",
      "accuracy: 0.9526881720430107\n",
      "******************\n",
      "epoch: 72\n",
      "Train\n",
      "0.02579011227827726\n",
      "TEST\n",
      "loss: 0.17775073517314208\n",
      "accuracy: 0.9591397849462365\n",
      "******************\n",
      "epoch: 73\n",
      "Train\n",
      "0.0265506407946617\n",
      "TEST\n",
      "loss: 0.19010283207140302\n",
      "accuracy: 0.9655913978494624\n",
      "******************\n",
      "epoch: 74\n",
      "Train\n",
      "0.031180394295348263\n",
      "TEST\n",
      "loss: 0.21598917368839504\n",
      "accuracy: 0.9505376344086022\n",
      "******************\n",
      "Accuracy on the validation:  0.9698924731182795\n"
     ]
    }
   ],
   "source": [
    "seed_everything(42)\n",
    "\n",
    "train_dataset = AudioMNIST(mode='train', data = data, labels = labels, augment = True, aug_type = 'Noise', keys = train_keys)\n",
    "valid_dataset = AudioMNIST(mode='valid', data = data, labels = labels, keys = valid_keys)\n",
    "test_dataset = AudioMNIST(mode='test', data = data, labels = labels, keys = test_keys)\n",
    "\n",
    "train_dataloader = DataLoader(train_dataset, batch_size=batch_size, shuffle=True)\n",
    "valid_dataloader = DataLoader(valid_dataset, batch_size=batch_size, shuffle=False)\n",
    "test_dataloader = DataLoader(test_dataset, batch_size=batch_size, shuffle=False)\n",
    "\n",
    "model = resnet18(pretrained=True)\n",
    "num_ftrs = model.fc.in_features\n",
    "model.fc = torch.nn.Linear(num_ftrs, 10)\n",
    "model = model.to(device)\n",
    "\n",
    "epochs = 75\n",
    "criterion = torch.nn.CrossEntropyLoss()\n",
    "optimizer = torch.optim.Adam(model.parameters())\n",
    "\n",
    "model, train_losses, valid_losses, valid_acc = train(model, criterion, train_dataloader, valid_dataloader, epochs, optimizer)"
   ]
  },
  {
   "cell_type": "code",
   "execution_count": 19,
   "metadata": {
    "execution": {
     "iopub.execute_input": "2021-04-05T17:35:00.339161Z",
     "iopub.status.busy": "2021-04-05T17:35:00.338251Z",
     "iopub.status.idle": "2021-04-05T17:35:00.474641Z",
     "shell.execute_reply": "2021-04-05T17:35:00.475255Z"
    },
    "papermill": {
     "duration": 0.176181,
     "end_time": "2021-04-05T17:35:00.475452",
     "exception": false,
     "start_time": "2021-04-05T17:35:00.299271",
     "status": "completed"
    },
    "tags": []
   },
   "outputs": [
    {
     "name": "stdout",
     "output_type": "stream",
     "text": [
      "Quality of the model\n",
      "accuracy: 0.9604130808950087\n"
     ]
    }
   ],
   "source": [
    "evaluate(model, test_dataloader)"
   ]
  },
  {
   "cell_type": "code",
   "execution_count": 20,
   "metadata": {
    "execution": {
     "iopub.execute_input": "2021-04-05T17:35:00.553521Z",
     "iopub.status.busy": "2021-04-05T17:35:00.552741Z",
     "iopub.status.idle": "2021-04-05T17:35:00.708638Z",
     "shell.execute_reply": "2021-04-05T17:35:00.709041Z"
    },
    "papermill": {
     "duration": 0.196966,
     "end_time": "2021-04-05T17:35:00.709210",
     "exception": false,
     "start_time": "2021-04-05T17:35:00.512244",
     "status": "completed"
    },
    "tags": []
   },
   "outputs": [
    {
     "data": {
      "image/png": "[encoded data removed]",
      "text/plain": [
       "<Figure size 432x288 with 1 Axes>"
      ]
     },
     "metadata": {
      "needs_background": "light"
     },
     "output_type": "display_data"
    }
   ],
   "source": [
    "plt.plot(np.arange(epochs), train_losses, label = 'train_loss')\n",
    "plt.plot(np.arange(epochs), valid_losses, label = 'valid_loss')\n",
    "plt.plot(np.arange(epochs), valid_acc, label = 'valid_accuracy')\n",
    "plt.legend()\n",
    "plt.show()"
   ]
  }
 ],
 "metadata": {
  "kernelspec": {
   "display_name": "Python 3",
   "language": "python",
   "name": "python3"
  },
  "language_info": {
   "codemirror_mode": {
    "name": "ipython",
    "version": 3
   },
   "file_extension": ".py",
   "mimetype": "text/x-python",
   "name": "python",
   "nbconvert_exporter": "python",
   "pygments_lexer": "ipython3",
   "version": "3.7.9"
  },
  "papermill": {
   "default_parameters": {},
   "duration": 337.236029,
   "end_time": "2021-04-05T17:35:02.058720",
   "environment_variables": {},
   "exception": null,
   "input_path": "__notebook__.ipynb",
   "output_path": "__notebook__.ipynb",
   "parameters": {},
   "start_time": "2021-04-05T17:29:24.822691",
   "version": "2.2.2"
  },
  "widgets": {
   "application/vnd.jupyter.widget-state+json": {
    "state": {
     "056cf73981274c26b9477ec1249d3452": {
      "model_module": "@jupyter-widgets/controls",
      "model_module_version": "1.5.0",
      "model_name": "DescriptionStyleModel",
      "state": {
       "_model_module": "@jupyter-widgets/controls",
       "_model_module_version": "1.5.0",
       "_model_name": "DescriptionStyleModel",
       "_view_count": null,
       "_view_module": "@jupyter-widgets/base",
       "_view_module_version": "1.2.0",
       "_view_name": "StyleView",
       "description_width": ""
      }
     },
     "0e8bc918c3914a59b7ed176d13acc530": {
      "model_module": "@jupyter-widgets/controls",
      "model_module_version": "1.5.0",
      "model_name": "FloatProgressModel",
      "state": {
       "_dom_classes": [],
       "_model_module": "@jupyter-widgets/controls",
       "_model_module_version": "1.5.0",
       "_model_name": "FloatProgressModel",
       "_view_count": null,
       "_view_module": "@jupyter-widgets/controls",
       "_view_module_version": "1.5.0",
       "_view_name": "ProgressView",
       "bar_style": "success",
       "description": "",
       "description_tooltip": null,
       "layout": "IPY_MODEL_932fce5a4f274f5e816ec960931170fc",
       "max": 46827520.0,
       "min": 0.0,
       "orientation": "horizontal",
       "style": "IPY_MODEL_120a8c7cc6f64397a8c10223f3c88269",
       "value": 46827520.0
      }
     },
     "120a8c7cc6f64397a8c10223f3c88269": {
      "model_module": "@jupyter-widgets/controls",
      "model_module_version": "1.5.0",
      "model_name": "ProgressStyleModel",
      "state": {
       "_model_module": "@jupyter-widgets/controls",
       "_model_module_version": "1.5.0",
       "_model_name": "ProgressStyleModel",
       "_view_count": null,
       "_view_module": "@jupyter-widgets/base",
       "_view_module_version": "1.2.0",
       "_view_name": "StyleView",
       "bar_color": null,
       "description_width": ""
      }
     },
     "1f42834f6341481781c899a067d840fd": {
      "model_module": "@jupyter-widgets/controls",
      "model_module_version": "1.5.0",
      "model_name": "HBoxModel",
      "state": {
       "_dom_classes": [],
       "_model_module": "@jupyter-widgets/controls",
       "_model_module_version": "1.5.0",
       "_model_name": "HBoxModel",
       "_view_count": null,
       "_view_module": "@jupyter-widgets/controls",
       "_view_module_version": "1.5.0",
       "_view_name": "HBoxView",
       "box_style": "",
       "children": [
        "IPY_MODEL_63efd174e60a42328047d881517f9f2f",
        "IPY_MODEL_0e8bc918c3914a59b7ed176d13acc530",
        "IPY_MODEL_c469feb4d3284e96b70af057e3eb0234"
       ],
       "layout": "IPY_MODEL_cb32e7e03df24a448dc83b37c60df1a1"
      }
     },
     "433e1775184b4dd89adeb95ead00e988": {
      "model_module": "@jupyter-widgets/controls",
      "model_module_version": "1.5.0",
      "model_name": "DescriptionStyleModel",
      "state": {
       "_model_module": "@jupyter-widgets/controls",
       "_model_module_version": "1.5.0",
       "_model_name": "DescriptionStyleModel",
       "_view_count": null,
       "_view_module": "@jupyter-widgets/base",
       "_view_module_version": "1.2.0",
       "_view_name": "StyleView",
       "description_width": ""
      }
     },
     "63efd174e60a42328047d881517f9f2f": {
      "model_module": "@jupyter-widgets/controls",
      "model_module_version": "1.5.0",
      "model_name": "HTMLModel",
      "state": {
       "_dom_classes": [],
       "_model_module": "@jupyter-widgets/controls",
       "_model_module_version": "1.5.0",
       "_model_name": "HTMLModel",
       "_view_count": null,
       "_view_module": "@jupyter-widgets/controls",
       "_view_module_version": "1.5.0",
       "_view_name": "HTMLView",
       "description": "",
       "description_tooltip": null,
       "layout": "IPY_MODEL_e71096b226924b439b29b0f8f44e4a0a",
       "placeholder": "​",
       "style": "IPY_MODEL_433e1775184b4dd89adeb95ead00e988",
       "value": "100%"
      }
     },
     "932fce5a4f274f5e816ec960931170fc": {
      "model_module": "@jupyter-widgets/base",
      "model_module_version": "1.2.0",
      "model_name": "LayoutModel",
      "state": {
       "_model_module": "@jupyter-widgets/base",
       "_model_module_version": "1.2.0",
       "_model_name": "LayoutModel",
       "_view_count": null,
       "_view_module": "@jupyter-widgets/base",
       "_view_module_version": "1.2.0",
       "_view_name": "LayoutView",
       "align_content": null,
       "align_items": null,
       "align_self": null,
       "border": null,
       "bottom": null,
       "display": null,
       "flex": null,
       "flex_flow": null,
       "grid_area": null,
       "grid_auto_columns": null,
       "grid_auto_flow": null,
       "grid_auto_rows": null,
       "grid_column": null,
       "grid_gap": null,
       "grid_row": null,
       "grid_template_areas": null,
       "grid_template_columns": null,
       "grid_template_rows": null,
       "height": null,
       "justify_content": null,
       "justify_items": null,
       "left": null,
       "margin": null,
       "max_height": null,
       "max_width": null,
       "min_height": null,
       "min_width": null,
       "object_fit": null,
       "object_position": null,
       "order": null,
       "overflow": null,
       "overflow_x": null,
       "overflow_y": null,
       "padding": null,
       "right": null,
       "top": null,
       "visibility": null,
       "width": null
      }
     },
     "c469feb4d3284e96b70af057e3eb0234": {
      "model_module": "@jupyter-widgets/controls",
      "model_module_version": "1.5.0",
      "model_name": "HTMLModel",
      "state": {
       "_dom_classes": [],
       "_model_module": "@jupyter-widgets/controls",
       "_model_module_version": "1.5.0",
       "_model_name": "HTMLModel",
       "_view_count": null,
       "_view_module": "@jupyter-widgets/controls",
       "_view_module_version": "1.5.0",
       "_view_name": "HTMLView",
       "description": "",
       "description_tooltip": null,
       "layout": "IPY_MODEL_f3e5e287b5ac42abb7a39ff4dd2b27b3",
       "placeholder": "​",
       "style": "IPY_MODEL_056cf73981274c26b9477ec1249d3452",
       "value": " 44.7M/44.7M [00:03&lt;00:00, 11.0MB/s]"
      }
     },
     "cb32e7e03df24a448dc83b37c60df1a1": {
      "model_module": "@jupyter-widgets/base",
      "model_module_version": "1.2.0",
      "model_name": "LayoutModel",
      "state": {
       "_model_module": "@jupyter-widgets/base",
       "_model_module_version": "1.2.0",
       "_model_name": "LayoutModel",
       "_view_count": null,
       "_view_module": "@jupyter-widgets/base",
       "_view_module_version": "1.2.0",
       "_view_name": "LayoutView",
       "align_content": null,
       "align_items": null,
       "align_self": null,
       "border": null,
       "bottom": null,
       "display": null,
       "flex": null,
       "flex_flow": null,
       "grid_area": null,
       "grid_auto_columns": null,
       "grid_auto_flow": null,
       "grid_auto_rows": null,
       "grid_column": null,
       "grid_gap": null,
       "grid_row": null,
       "grid_template_areas": null,
       "grid_template_columns": null,
       "grid_template_rows": null,
       "height": null,
       "justify_content": null,
       "justify_items": null,
       "left": null,
       "margin": null,
       "max_height": null,
       "max_width": null,
       "min_height": null,
       "min_width": null,
       "object_fit": null,
       "object_position": null,
       "order": null,
       "overflow": null,
       "overflow_x": null,
       "overflow_y": null,
       "padding": null,
       "right": null,
       "top": null,
       "visibility": null,
       "width": null
      }
     },
     "e71096b226924b439b29b0f8f44e4a0a": {
      "model_module": "@jupyter-widgets/base",
      "model_module_version": "1.2.0",
      "model_name": "LayoutModel",
      "state": {
       "_model_module": "@jupyter-widgets/base",
       "_model_module_version": "1.2.0",
       "_model_name": "LayoutModel",
       "_view_count": null,
       "_view_module": "@jupyter-widgets/base",
       "_view_module_version": "1.2.0",
       "_view_name": "LayoutView",
       "align_content": null,
       "align_items": null,
       "align_self": null,
       "border": null,
       "bottom": null,
       "display": null,
       "flex": null,
       "flex_flow": null,
       "grid_area": null,
       "grid_auto_columns": null,
       "grid_auto_flow": null,
       "grid_auto_rows": null,
       "grid_column": null,
       "grid_gap": null,
       "grid_row": null,
       "grid_template_areas": null,
       "grid_template_columns": null,
       "grid_template_rows": null,
       "height": null,
       "justify_content": null,
       "justify_items": null,
       "left": null,
       "margin": null,
       "max_height": null,
       "max_width": null,
       "min_height": null,
       "min_width": null,
       "object_fit": null,
       "object_position": null,
       "order": null,
       "overflow": null,
       "overflow_x": null,
       "overflow_y": null,
       "padding": null,
       "right": null,
       "top": null,
       "visibility": null,
       "width": null
      }
     },
     "f3e5e287b5ac42abb7a39ff4dd2b27b3": {
      "model_module": "@jupyter-widgets/base",
      "model_module_version": "1.2.0",
      "model_name": "LayoutModel",
      "state": {
       "_model_module": "@jupyter-widgets/base",
       "_model_module_version": "1.2.0",
       "_model_name": "LayoutModel",
       "_view_count": null,
       "_view_module": "@jupyter-widgets/base",
       "_view_module_version": "1.2.0",
       "_view_name": "LayoutView",
       "align_content": null,
       "align_items": null,
       "align_self": null,
       "border": null,
       "bottom": null,
       "display": null,
       "flex": null,
       "flex_flow": null,
       "grid_area": null,
       "grid_auto_columns": null,
       "grid_auto_flow": null,
       "grid_auto_rows": null,
       "grid_column": null,
       "grid_gap": null,
       "grid_row": null,
       "grid_template_areas": null,
       "grid_template_columns": null,
       "grid_template_rows": null,
       "height": null,
       "justify_content": null,
       "justify_items": null,
       "left": null,
       "margin": null,
       "max_height": null,
       "max_width": null,
       "min_height": null,
       "min_width": null,
       "object_fit": null,
       "object_position": null,
       "order": null,
       "overflow": null,
       "overflow_x": null,
       "overflow_y": null,
       "padding": null,
       "right": null,
       "top": null,
       "visibility": null,
       "width": null
      }
     }
    },
    "version_major": 2,
    "version_minor": 0
   }
  }
 },
 "nbformat": 4,
 "nbformat_minor": 4
}
